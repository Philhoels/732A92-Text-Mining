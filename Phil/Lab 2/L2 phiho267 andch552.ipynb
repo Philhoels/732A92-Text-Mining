{
 "cells": [
  {
   "cell_type": "markdown",
   "metadata": {},
   "source": [
    "# L2: Text classification"
   ]
  },
  {
   "cell_type": "markdown",
   "metadata": {},
   "source": [
    "Text classification is the task of sorting text documents into predefined classes. The concrete problem you will be working on in this lab is the classification of texts with respect to their political affiliation. The specific texts you are going to classify are speeches held in the [Riksdag](https://www.riksdagen.se/en/), the Swedish national legislature."
   ]
  },
  {
   "cell_type": "markdown",
   "metadata": {},
   "source": [
    "## Data set"
   ]
  },
  {
   "cell_type": "markdown",
   "metadata": {},
   "source": [
    "The raw data for this lab comes from [The Riksdag’s Open Data](https://data.riksdagen.se/in-english/). We have tokenized the speeches and put them into two compressed [JSON](https://en.wikipedia.org/wiki/JSON) files:\n",
    "\n",
    "* `speeches-201718.json.bz2` (speeches from the 2017/2018 parliamentary session)\n",
    "* `speeches-201819.json.bz2` (ditto, from the 2018/2019 session)\n",
    "\n",
    "We start by loading these files into two separate data frames."
   ]
  },
  {
   "cell_type": "code",
   "execution_count": 2,
   "metadata": {},
   "outputs": [],
   "source": [
    "import pandas as pd\n",
    "import bz2\n",
    "\n",
    "with bz2.open(\"speeches-201718.json.bz2\") as source:\n",
    "    speeches_201718 = pd.read_json(source)\n",
    "\n",
    "with bz2.open(\"speeches-201819.json.bz2\") as source:\n",
    "    speeches_201819 = pd.read_json(source)"
   ]
  },
  {
   "cell_type": "markdown",
   "metadata": {},
   "source": [
    "When you inspect the two data frames, you can see that there are three labelled columns: `id` (the official speech ID), `words` (the space-separated words of the speech), and `party` (the party of the speaker, represented by its customary abbreviation)."
   ]
  },
  {
   "cell_type": "code",
   "execution_count": 2,
   "metadata": {},
   "outputs": [
    {
     "data": {
      "text/html": [
       "<div>\n",
       "<style scoped>\n",
       "    .dataframe tbody tr th:only-of-type {\n",
       "        vertical-align: middle;\n",
       "    }\n",
       "\n",
       "    .dataframe tbody tr th {\n",
       "        vertical-align: top;\n",
       "    }\n",
       "\n",
       "    .dataframe thead th {\n",
       "        text-align: right;\n",
       "    }\n",
       "</style>\n",
       "<table border=\"1\" class=\"dataframe\">\n",
       "  <thead>\n",
       "    <tr style=\"text-align: right;\">\n",
       "      <th></th>\n",
       "      <th>id</th>\n",
       "      <th>party</th>\n",
       "      <th>words</th>\n",
       "    </tr>\n",
       "  </thead>\n",
       "  <tbody>\n",
       "    <tr>\n",
       "      <th>0</th>\n",
       "      <td>H5-002-004</td>\n",
       "      <td>S</td>\n",
       "      <td>eders majestäter eders kungliga högheter herr ...</td>\n",
       "    </tr>\n",
       "    <tr>\n",
       "      <th>1</th>\n",
       "      <td>H5-003-001</td>\n",
       "      <td>V</td>\n",
       "      <td>aktuell debatt om situationen för ensamkommand...</td>\n",
       "    </tr>\n",
       "    <tr>\n",
       "      <th>2</th>\n",
       "      <td>H5-003-002</td>\n",
       "      <td>S</td>\n",
       "      <td>herr talman och ledamöter jag vill börja med a...</td>\n",
       "    </tr>\n",
       "    <tr>\n",
       "      <th>3</th>\n",
       "      <td>H5-003-003</td>\n",
       "      <td>M</td>\n",
       "      <td>herr talman åhörare den här debatten handlar a...</td>\n",
       "    </tr>\n",
       "    <tr>\n",
       "      <th>4</th>\n",
       "      <td>H5-003-004</td>\n",
       "      <td>SD</td>\n",
       "      <td>herr talman ansvar och rättssäkerhet är två or...</td>\n",
       "    </tr>\n",
       "  </tbody>\n",
       "</table>\n",
       "</div>"
      ],
      "text/plain": [
       "           id party                                              words\n",
       "0  H5-002-004     S  eders majestäter eders kungliga högheter herr ...\n",
       "1  H5-003-001     V  aktuell debatt om situationen för ensamkommand...\n",
       "2  H5-003-002     S  herr talman och ledamöter jag vill börja med a...\n",
       "3  H5-003-003     M  herr talman åhörare den här debatten handlar a...\n",
       "4  H5-003-004    SD  herr talman ansvar och rättssäkerhet är två or..."
      ]
     },
     "execution_count": 2,
     "metadata": {},
     "output_type": "execute_result"
    }
   ],
   "source": [
    "speeches_201718.head()"
   ]
  },
  {
   "cell_type": "markdown",
   "metadata": {},
   "source": [
    "Throughout the lab, we will be using the speeches from 2017/2018 as our training data, and the speeches from 2018/2019 as our test data."
   ]
  },
  {
   "cell_type": "code",
   "execution_count": 3,
   "metadata": {},
   "outputs": [],
   "source": [
    "training_data, test_data = speeches_201718, speeches_201819"
   ]
  },
  {
   "cell_type": "markdown",
   "metadata": {},
   "source": [
    "For later reference, we store the sorted list of party abbreviations."
   ]
  },
  {
   "cell_type": "code",
   "execution_count": 4,
   "metadata": {},
   "outputs": [
    {
     "name": "stdout",
     "output_type": "stream",
     "text": [
      "['C', 'KD', 'L', 'M', 'MP', 'S', 'SD', 'V']\n"
     ]
    }
   ],
   "source": [
    "parties = sorted(training_data[\"party\"].unique())\n",
    "print(parties)"
   ]
  },
  {
   "cell_type": "markdown",
   "metadata": {},
   "source": [
    "## Problem 1: Visualization"
   ]
  },
  {
   "cell_type": "markdown",
   "metadata": {},
   "source": [
    "Your first task is to **get to know the data** better by plotting a simple **visualization**.\n",
    "\n",
    "If you are not familiar with the Swedish political system and the parties represented in the Riksdag in particular, then we suggest that you have a look at the Wikipedia article about the [2018 Swedish general election](https://en.wikipedia.org/wiki/2018_Swedish_general_election).\n",
    "\n",
    "For the lab, we ask you to **compare** the two **data frames with respect to the distribution of the speeches over the different parties**. Write code to **generate two bar plots** that visualize this information, one for the 2017/2018 speeches and one for the 2018/2019 speeches. Inspect the two plots, and **compare** them\n",
    "\n",
    "* to each other\n",
    "* to the results of the 2014 and the 2018 general elections\n",
    "\n",
    "Summarize your observations in a short text in the cell below.\n",
    "\n",
    "**Tip:** If you need help with creating bar plots, [Bar Plot using Pandas](https://dfrieds.com/data-visualizations/bar-plot-python-pandas) provides a useful tutorial."
   ]
  },
  {
   "cell_type": "code",
   "execution_count": 12,
   "metadata": {},
   "outputs": [],
   "source": [
    "# import libraries\n",
    "import matplotlib.pyplot as plt\n",
    "import seaborn as sns\n",
    "% matplotlib inline"
   ]
  },
  {
   "cell_type": "code",
   "execution_count": 7,
   "metadata": {},
   "outputs": [
    {
     "data": {
      "text/html": [
       "<div>\n",
       "<style scoped>\n",
       "    .dataframe tbody tr th:only-of-type {\n",
       "        vertical-align: middle;\n",
       "    }\n",
       "\n",
       "    .dataframe tbody tr th {\n",
       "        vertical-align: top;\n",
       "    }\n",
       "\n",
       "    .dataframe thead th {\n",
       "        text-align: right;\n",
       "    }\n",
       "</style>\n",
       "<table border=\"1\" class=\"dataframe\">\n",
       "  <thead>\n",
       "    <tr style=\"text-align: right;\">\n",
       "      <th></th>\n",
       "      <th>id</th>\n",
       "      <th>party</th>\n",
       "      <th>words</th>\n",
       "    </tr>\n",
       "  </thead>\n",
       "  <tbody>\n",
       "    <tr>\n",
       "      <th>0</th>\n",
       "      <td>H5-002-004</td>\n",
       "      <td>S</td>\n",
       "      <td>eders majestäter eders kungliga högheter herr ...</td>\n",
       "    </tr>\n",
       "    <tr>\n",
       "      <th>1</th>\n",
       "      <td>H5-003-001</td>\n",
       "      <td>V</td>\n",
       "      <td>aktuell debatt om situationen för ensamkommand...</td>\n",
       "    </tr>\n",
       "    <tr>\n",
       "      <th>2</th>\n",
       "      <td>H5-003-002</td>\n",
       "      <td>S</td>\n",
       "      <td>herr talman och ledamöter jag vill börja med a...</td>\n",
       "    </tr>\n",
       "    <tr>\n",
       "      <th>3</th>\n",
       "      <td>H5-003-003</td>\n",
       "      <td>M</td>\n",
       "      <td>herr talman åhörare den här debatten handlar a...</td>\n",
       "    </tr>\n",
       "    <tr>\n",
       "      <th>4</th>\n",
       "      <td>H5-003-004</td>\n",
       "      <td>SD</td>\n",
       "      <td>herr talman ansvar och rättssäkerhet är två or...</td>\n",
       "    </tr>\n",
       "  </tbody>\n",
       "</table>\n",
       "</div>"
      ],
      "text/plain": [
       "           id party                                              words\n",
       "0  H5-002-004     S  eders majestäter eders kungliga högheter herr ...\n",
       "1  H5-003-001     V  aktuell debatt om situationen för ensamkommand...\n",
       "2  H5-003-002     S  herr talman och ledamöter jag vill börja med a...\n",
       "3  H5-003-003     M  herr talman åhörare den här debatten handlar a...\n",
       "4  H5-003-004    SD  herr talman ansvar och rättssäkerhet är två or..."
      ]
     },
     "execution_count": 7,
     "metadata": {},
     "output_type": "execute_result"
    }
   ],
   "source": [
    "# plot barplot \n",
    "speeches_201718.head()"
   ]
  },
  {
   "cell_type": "code",
   "execution_count": 8,
   "metadata": {},
   "outputs": [
    {
     "data": {
      "text/plain": [
       "id       12343\n",
       "party    12343\n",
       "words    12343\n",
       "dtype: int64"
      ]
     },
     "execution_count": 8,
     "metadata": {},
     "output_type": "execute_result"
    }
   ],
   "source": [
    "speeches_201718.count()\n",
    "# list 12.343 speaches "
   ]
  },
  {
   "cell_type": "code",
   "execution_count": 10,
   "metadata": {
    "scrolled": true
   },
   "outputs": [
    {
     "data": {
      "image/png": "[encoded data removed]",
      "text/plain": [
       "<matplotlib.figure.Figure at 0x10db60d30>"
      ]
     },
     "metadata": {
      "needs_background": "light"
     },
     "output_type": "display_data"
    }
   ],
   "source": [
    "# creating a test plot\n",
    "#import matplotlib.pyplot as plt\n",
    "\n",
    "speeches_201718[\"party\"].value_counts().plot(kind='bar', \n",
    "                                             color = (\"red\", \"blue\", \"green\", \"yellow\",\"red\", \"green\", \"blue\", \"blue\"))\n",
    "plt.xlabel(\"Parties\")\n",
    "plt.ylabel(\"Speeches\")\n",
    "plt.title(\"Amount of speeches counted by parties\", y=1.02);"
   ]
  },
  {
   "cell_type": "code",
   "execution_count": 21,
   "metadata": {},
   "outputs": [
    {
     "data": {
      "image/png": "[encoded data removed]",
      "text/plain": [
       "<matplotlib.figure.Figure at 0x115bc19e8>"
      ]
     },
     "metadata": {
      "needs_background": "light"
     },
     "output_type": "display_data"
    }
   ],
   "source": [
    "# creating a test plot\n",
    "speeches_201819[\"party\"].value_counts().plot(kind='bar')\n",
    "plt.xlabel(\"Parties\")\n",
    "plt.ylabel(\"Speeches\")\n",
    "plt.title(\"Amount of speeches counted by parties\", y=1.02);"
   ]
  },
  {
   "cell_type": "markdown",
   "metadata": {},
   "source": [
    "**Interpretation**"
   ]
  },
  {
   "cell_type": "markdown",
   "metadata": {},
   "source": [
    "We can see that all the parties \"S\" & \"M\" have made fewer speeches. The rest of the games have made as many speeches as last year. \n",
    "Furthermore, the ranking is very similar to last year. However, the party \"MP\" ranked 3rd on rank 6 and \"KD\" moved up two places to 5, with a similar number of speeches as last year."
   ]
  },
  {
   "cell_type": "markdown",
   "metadata": {},
   "source": [
    "## Problem 2: Naive Bayes classifier"
   ]
  },
  {
   "cell_type": "markdown",
   "metadata": {},
   "source": [
    "You are now ready to train and evaluate a classifier. More specifically, we ask you to train a [Multinomial Naive Bayes](https://scikit-learn.org/stable/modules/naive_bayes.html#multinomial-naive-bayes) classifier. You will have to\n",
    "\n",
    "1. **vectorize** the speeches in the training data\n",
    "2. **instantiate and fit** the Naive Bayes model\n",
    "3. **evaluate** the model on the test data\n",
    "\n",
    "The scikit-learn library provides a convenience class [Pipeline](https://scikit-learn.org/stable/modules/generated/sklearn.pipeline.Pipeline.html) that allows you to solve the first two tasks with very compact code. For the **evaluation** you can use the **function** [`classification_report`](https://scikit-learn.org/stable/modules/generated/sklearn.metrics.classification_report.html), which will report *per-class precision, recall and F1, as well as overall accuracy*."
   ]
  },
  {
   "cell_type": "code",
   "execution_count": 11,
   "metadata": {},
   "outputs": [
    {
     "data": {
      "text/html": [
       "<div>\n",
       "<style scoped>\n",
       "    .dataframe tbody tr th:only-of-type {\n",
       "        vertical-align: middle;\n",
       "    }\n",
       "\n",
       "    .dataframe tbody tr th {\n",
       "        vertical-align: top;\n",
       "    }\n",
       "\n",
       "    .dataframe thead th {\n",
       "        text-align: right;\n",
       "    }\n",
       "</style>\n",
       "<table border=\"1\" class=\"dataframe\">\n",
       "  <thead>\n",
       "    <tr style=\"text-align: right;\">\n",
       "      <th></th>\n",
       "      <th>id</th>\n",
       "      <th>party</th>\n",
       "      <th>words</th>\n",
       "    </tr>\n",
       "  </thead>\n",
       "  <tbody>\n",
       "    <tr>\n",
       "      <th>0</th>\n",
       "      <td>H5-002-004</td>\n",
       "      <td>S</td>\n",
       "      <td>eders majestäter eders kungliga högheter herr ...</td>\n",
       "    </tr>\n",
       "    <tr>\n",
       "      <th>1</th>\n",
       "      <td>H5-003-001</td>\n",
       "      <td>V</td>\n",
       "      <td>aktuell debatt om situationen för ensamkommand...</td>\n",
       "    </tr>\n",
       "    <tr>\n",
       "      <th>2</th>\n",
       "      <td>H5-003-002</td>\n",
       "      <td>S</td>\n",
       "      <td>herr talman och ledamöter jag vill börja med a...</td>\n",
       "    </tr>\n",
       "    <tr>\n",
       "      <th>3</th>\n",
       "      <td>H5-003-003</td>\n",
       "      <td>M</td>\n",
       "      <td>herr talman åhörare den här debatten handlar a...</td>\n",
       "    </tr>\n",
       "    <tr>\n",
       "      <th>4</th>\n",
       "      <td>H5-003-004</td>\n",
       "      <td>SD</td>\n",
       "      <td>herr talman ansvar och rättssäkerhet är två or...</td>\n",
       "    </tr>\n",
       "    <tr>\n",
       "      <th>5</th>\n",
       "      <td>H5-003-005</td>\n",
       "      <td>MP</td>\n",
       "      <td>herr talman jag inleder med att tacka vänsterp...</td>\n",
       "    </tr>\n",
       "    <tr>\n",
       "      <th>6</th>\n",
       "      <td>H5-003-006</td>\n",
       "      <td>C</td>\n",
       "      <td>herr talman vi debatterar i dag situationen fö...</td>\n",
       "    </tr>\n",
       "    <tr>\n",
       "      <th>7</th>\n",
       "      <td>H5-003-007</td>\n",
       "      <td>V</td>\n",
       "      <td>herr talman runt om i landet på torg och i kla...</td>\n",
       "    </tr>\n",
       "    <tr>\n",
       "      <th>8</th>\n",
       "      <td>H5-003-008</td>\n",
       "      <td>L</td>\n",
       "      <td>aktuell debatt om situationen för ensamkommand...</td>\n",
       "    </tr>\n",
       "    <tr>\n",
       "      <th>9</th>\n",
       "      <td>H5-003-009</td>\n",
       "      <td>KD</td>\n",
       "      <td>herr talman det råder ingen tvekan om att situ...</td>\n",
       "    </tr>\n",
       "    <tr>\n",
       "      <th>10</th>\n",
       "      <td>H5-003-010</td>\n",
       "      <td>S</td>\n",
       "      <td>herr talman jag vill tacka för värdefulla inlä...</td>\n",
       "    </tr>\n",
       "    <tr>\n",
       "      <th>11</th>\n",
       "      <td>H5-003-011</td>\n",
       "      <td>M</td>\n",
       "      <td>herr talman vi har nu hört representanter från...</td>\n",
       "    </tr>\n",
       "    <tr>\n",
       "      <th>12</th>\n",
       "      <td>H5-003-012</td>\n",
       "      <td>SD</td>\n",
       "      <td>herr talman jag vore inte mig själv om jag int...</td>\n",
       "    </tr>\n",
       "    <tr>\n",
       "      <th>13</th>\n",
       "      <td>H5-003-013</td>\n",
       "      <td>MP</td>\n",
       "      <td>herr talman det har varit väldigt intressant a...</td>\n",
       "    </tr>\n",
       "    <tr>\n",
       "      <th>14</th>\n",
       "      <td>H5-003-014</td>\n",
       "      <td>C</td>\n",
       "      <td>herr talman vi i centerpartiet har lagt fram f...</td>\n",
       "    </tr>\n",
       "    <tr>\n",
       "      <th>15</th>\n",
       "      <td>H5-003-015</td>\n",
       "      <td>V</td>\n",
       "      <td>herr talman det är märkligt att höra heléne fr...</td>\n",
       "    </tr>\n",
       "    <tr>\n",
       "      <th>16</th>\n",
       "      <td>H5-003-016</td>\n",
       "      <td>L</td>\n",
       "      <td>herr talman jag lyssnar på migrationsministern...</td>\n",
       "    </tr>\n",
       "    <tr>\n",
       "      <th>17</th>\n",
       "      <td>H5-003-017</td>\n",
       "      <td>KD</td>\n",
       "      <td>herr talman den humanitära krisen i världen in...</td>\n",
       "    </tr>\n",
       "    <tr>\n",
       "      <th>18</th>\n",
       "      <td>H5-003-018</td>\n",
       "      <td>S</td>\n",
       "      <td>herr talman jag vill börja med att rikta mig t...</td>\n",
       "    </tr>\n",
       "    <tr>\n",
       "      <th>19</th>\n",
       "      <td>H5-003-019</td>\n",
       "      <td>M</td>\n",
       "      <td>herr talman migrationspolitik är svårt tro ing...</td>\n",
       "    </tr>\n",
       "    <tr>\n",
       "      <th>20</th>\n",
       "      <td>H5-003-020</td>\n",
       "      <td>SD</td>\n",
       "      <td>aktuell debatt om situationen för ensamkommand...</td>\n",
       "    </tr>\n",
       "    <tr>\n",
       "      <th>21</th>\n",
       "      <td>H5-003-021</td>\n",
       "      <td>MP</td>\n",
       "      <td>herr talman jag vill börja med att tacka alla ...</td>\n",
       "    </tr>\n",
       "    <tr>\n",
       "      <th>22</th>\n",
       "      <td>H5-003-022</td>\n",
       "      <td>C</td>\n",
       "      <td>herr talman frågan om situationen för de ensam...</td>\n",
       "    </tr>\n",
       "    <tr>\n",
       "      <th>23</th>\n",
       "      <td>H5-003-023</td>\n",
       "      <td>V</td>\n",
       "      <td>herr talman jag vill ta vid där johanna jönsso...</td>\n",
       "    </tr>\n",
       "    <tr>\n",
       "      <th>24</th>\n",
       "      <td>H5-003-024</td>\n",
       "      <td>L</td>\n",
       "      <td>aktuell debatt om situationen för ensamkommand...</td>\n",
       "    </tr>\n",
       "    <tr>\n",
       "      <th>25</th>\n",
       "      <td>H5-003-025</td>\n",
       "      <td>KD</td>\n",
       "      <td>herr talman kristdemokraterna värnar som jag t...</td>\n",
       "    </tr>\n",
       "    <tr>\n",
       "      <th>26</th>\n",
       "      <td>H5-003-026</td>\n",
       "      <td>S</td>\n",
       "      <td>aktuell debatt om situationen för ensamkommand...</td>\n",
       "    </tr>\n",
       "    <tr>\n",
       "      <th>27</th>\n",
       "      <td>H5-003-027</td>\n",
       "      <td>SD</td>\n",
       "      <td>yrkande om herr talman jag ska fatta mig kort ...</td>\n",
       "    </tr>\n",
       "    <tr>\n",
       "      <th>28</th>\n",
       "      <td>H5-004-001</td>\n",
       "      <td>S</td>\n",
       "      <td>herr talman mikael dahlqvist har frågat mig de...</td>\n",
       "    </tr>\n",
       "    <tr>\n",
       "      <th>29</th>\n",
       "      <td>H5-004-002</td>\n",
       "      <td>S</td>\n",
       "      <td>herr talman tack för ditt svar arbetsmarknadsm...</td>\n",
       "    </tr>\n",
       "    <tr>\n",
       "      <th>...</th>\n",
       "      <td>...</td>\n",
       "      <td>...</td>\n",
       "      <td>...</td>\n",
       "    </tr>\n",
       "    <tr>\n",
       "      <th>12313</th>\n",
       "      <td>H5-140-001</td>\n",
       "      <td>S</td>\n",
       "      <td>svar på interpellation fru talman har frågat m...</td>\n",
       "    </tr>\n",
       "    <tr>\n",
       "      <th>12314</th>\n",
       "      <td>H5-140-003</td>\n",
       "      <td>S</td>\n",
       "      <td>fru talman det är ingen tvekan om var jeff ahl...</td>\n",
       "    </tr>\n",
       "    <tr>\n",
       "      <th>12315</th>\n",
       "      <td>H5-140-005</td>\n",
       "      <td>S</td>\n",
       "      <td>fru talman jag tänker uppehålla mig kring den ...</td>\n",
       "    </tr>\n",
       "    <tr>\n",
       "      <th>12316</th>\n",
       "      <td>H5-140-007</td>\n",
       "      <td>S</td>\n",
       "      <td>fru talman detta är en mycket märklig debatt j...</td>\n",
       "    </tr>\n",
       "    <tr>\n",
       "      <th>12317</th>\n",
       "      <td>H5-142-001</td>\n",
       "      <td>KD</td>\n",
       "      <td>aktuell debatt om bekämpningen av skogsbränder...</td>\n",
       "    </tr>\n",
       "    <tr>\n",
       "      <th>12318</th>\n",
       "      <td>H5-142-002</td>\n",
       "      <td>S</td>\n",
       "      <td>fru talman sommaren blev extrem på många sätt ...</td>\n",
       "    </tr>\n",
       "    <tr>\n",
       "      <th>12319</th>\n",
       "      <td>H5-142-003</td>\n",
       "      <td>M</td>\n",
       "      <td>fru talman sommarens skogsbränder har varit må...</td>\n",
       "    </tr>\n",
       "    <tr>\n",
       "      <th>12320</th>\n",
       "      <td>H5-142-004</td>\n",
       "      <td>SD</td>\n",
       "      <td>fru talman mycket har sagts här om kaoset i sa...</td>\n",
       "    </tr>\n",
       "    <tr>\n",
       "      <th>12321</th>\n",
       "      <td>H5-142-005</td>\n",
       "      <td>MP</td>\n",
       "      <td>fru talman den här sommaren har på många sätt ...</td>\n",
       "    </tr>\n",
       "    <tr>\n",
       "      <th>12322</th>\n",
       "      <td>H5-142-006</td>\n",
       "      <td>C</td>\n",
       "      <td>fru talman tack för möjligheten att få debatte...</td>\n",
       "    </tr>\n",
       "    <tr>\n",
       "      <th>12323</th>\n",
       "      <td>H5-142-007</td>\n",
       "      <td>V</td>\n",
       "      <td>fru talman under sommaren har vår svenska skog...</td>\n",
       "    </tr>\n",
       "    <tr>\n",
       "      <th>12324</th>\n",
       "      <td>H5-142-008</td>\n",
       "      <td>L</td>\n",
       "      <td>fru talman det framgår redan nu att vi i den h...</td>\n",
       "    </tr>\n",
       "    <tr>\n",
       "      <th>12325</th>\n",
       "      <td>H5-142-009</td>\n",
       "      <td>KD</td>\n",
       "      <td>fru talman procent av vårt land består av skog...</td>\n",
       "    </tr>\n",
       "    <tr>\n",
       "      <th>12326</th>\n",
       "      <td>H5-142-010</td>\n",
       "      <td>S</td>\n",
       "      <td>fru talman det har sagts många egendomliga sak...</td>\n",
       "    </tr>\n",
       "    <tr>\n",
       "      <th>12327</th>\n",
       "      <td>H5-142-011</td>\n",
       "      <td>M</td>\n",
       "      <td>fru talman det är lite tramsigt att börja köra...</td>\n",
       "    </tr>\n",
       "    <tr>\n",
       "      <th>12328</th>\n",
       "      <td>H5-142-012</td>\n",
       "      <td>SD</td>\n",
       "      <td>fru talman ministern sa att brandflyget funger...</td>\n",
       "    </tr>\n",
       "    <tr>\n",
       "      <th>12329</th>\n",
       "      <td>H5-142-013</td>\n",
       "      <td>MP</td>\n",
       "      <td>fru talman miljöpartiet har fokuserat på och k...</td>\n",
       "    </tr>\n",
       "    <tr>\n",
       "      <th>12330</th>\n",
       "      <td>H5-142-014</td>\n",
       "      <td>C</td>\n",
       "      <td>fru talman det är givetvis så att många har dr...</td>\n",
       "    </tr>\n",
       "    <tr>\n",
       "      <th>12331</th>\n",
       "      <td>H5-142-015</td>\n",
       "      <td>V</td>\n",
       "      <td>fru talman skogsbränderna har på ett brutalt s...</td>\n",
       "    </tr>\n",
       "    <tr>\n",
       "      <th>12332</th>\n",
       "      <td>H5-142-016</td>\n",
       "      <td>L</td>\n",
       "      <td>fru talman bara i försvarsmakten finns det i d...</td>\n",
       "    </tr>\n",
       "    <tr>\n",
       "      <th>12333</th>\n",
       "      <td>H5-142-017</td>\n",
       "      <td>KD</td>\n",
       "      <td>fru talman när vi begärde den här debatten vil...</td>\n",
       "    </tr>\n",
       "    <tr>\n",
       "      <th>12334</th>\n",
       "      <td>H5-142-018</td>\n",
       "      <td>S</td>\n",
       "      <td>fru talman jag vänder mig först till sverigede...</td>\n",
       "    </tr>\n",
       "    <tr>\n",
       "      <th>12335</th>\n",
       "      <td>H5-142-019</td>\n",
       "      <td>M</td>\n",
       "      <td>fru talman till morgan johansson kan jag bara ...</td>\n",
       "    </tr>\n",
       "    <tr>\n",
       "      <th>12336</th>\n",
       "      <td>H5-142-020</td>\n",
       "      <td>SD</td>\n",
       "      <td>fru talman man ska hinna med att bemöta minist...</td>\n",
       "    </tr>\n",
       "    <tr>\n",
       "      <th>12337</th>\n",
       "      <td>H5-142-021</td>\n",
       "      <td>MP</td>\n",
       "      <td>fru talman jag vill tacka för den här debatten...</td>\n",
       "    </tr>\n",
       "    <tr>\n",
       "      <th>12338</th>\n",
       "      <td>H5-142-022</td>\n",
       "      <td>C</td>\n",
       "      <td>fru talman tack övriga meddebattörer för den h...</td>\n",
       "    </tr>\n",
       "    <tr>\n",
       "      <th>12339</th>\n",
       "      <td>H5-142-023</td>\n",
       "      <td>V</td>\n",
       "      <td>fru talman det är tyvärr sannolikt att vi får ...</td>\n",
       "    </tr>\n",
       "    <tr>\n",
       "      <th>12340</th>\n",
       "      <td>H5-142-024</td>\n",
       "      <td>L</td>\n",
       "      <td>fru talman det är kanske på sin plats att uppl...</td>\n",
       "    </tr>\n",
       "    <tr>\n",
       "      <th>12341</th>\n",
       "      <td>H5-142-025</td>\n",
       "      <td>KD</td>\n",
       "      <td>fru talman jag och kristdemokraterna begärde d...</td>\n",
       "    </tr>\n",
       "    <tr>\n",
       "      <th>12342</th>\n",
       "      <td>H5-142-026</td>\n",
       "      <td>S</td>\n",
       "      <td>fru talman först vill jag ta upp en ren hygien...</td>\n",
       "    </tr>\n",
       "  </tbody>\n",
       "</table>\n",
       "<p>12343 rows × 3 columns</p>\n",
       "</div>"
      ],
      "text/plain": [
       "               id party                                              words\n",
       "0      H5-002-004     S  eders majestäter eders kungliga högheter herr ...\n",
       "1      H5-003-001     V  aktuell debatt om situationen för ensamkommand...\n",
       "2      H5-003-002     S  herr talman och ledamöter jag vill börja med a...\n",
       "3      H5-003-003     M  herr talman åhörare den här debatten handlar a...\n",
       "4      H5-003-004    SD  herr talman ansvar och rättssäkerhet är två or...\n",
       "5      H5-003-005    MP  herr talman jag inleder med att tacka vänsterp...\n",
       "6      H5-003-006     C  herr talman vi debatterar i dag situationen fö...\n",
       "7      H5-003-007     V  herr talman runt om i landet på torg och i kla...\n",
       "8      H5-003-008     L  aktuell debatt om situationen för ensamkommand...\n",
       "9      H5-003-009    KD  herr talman det råder ingen tvekan om att situ...\n",
       "10     H5-003-010     S  herr talman jag vill tacka för värdefulla inlä...\n",
       "11     H5-003-011     M  herr talman vi har nu hört representanter från...\n",
       "12     H5-003-012    SD  herr talman jag vore inte mig själv om jag int...\n",
       "13     H5-003-013    MP  herr talman det har varit väldigt intressant a...\n",
       "14     H5-003-014     C  herr talman vi i centerpartiet har lagt fram f...\n",
       "15     H5-003-015     V  herr talman det är märkligt att höra heléne fr...\n",
       "16     H5-003-016     L  herr talman jag lyssnar på migrationsministern...\n",
       "17     H5-003-017    KD  herr talman den humanitära krisen i världen in...\n",
       "18     H5-003-018     S  herr talman jag vill börja med att rikta mig t...\n",
       "19     H5-003-019     M  herr talman migrationspolitik är svårt tro ing...\n",
       "20     H5-003-020    SD  aktuell debatt om situationen för ensamkommand...\n",
       "21     H5-003-021    MP  herr talman jag vill börja med att tacka alla ...\n",
       "22     H5-003-022     C  herr talman frågan om situationen för de ensam...\n",
       "23     H5-003-023     V  herr talman jag vill ta vid där johanna jönsso...\n",
       "24     H5-003-024     L  aktuell debatt om situationen för ensamkommand...\n",
       "25     H5-003-025    KD  herr talman kristdemokraterna värnar som jag t...\n",
       "26     H5-003-026     S  aktuell debatt om situationen för ensamkommand...\n",
       "27     H5-003-027    SD  yrkande om herr talman jag ska fatta mig kort ...\n",
       "28     H5-004-001     S  herr talman mikael dahlqvist har frågat mig de...\n",
       "29     H5-004-002     S  herr talman tack för ditt svar arbetsmarknadsm...\n",
       "...           ...   ...                                                ...\n",
       "12313  H5-140-001     S  svar på interpellation fru talman har frågat m...\n",
       "12314  H5-140-003     S  fru talman det är ingen tvekan om var jeff ahl...\n",
       "12315  H5-140-005     S  fru talman jag tänker uppehålla mig kring den ...\n",
       "12316  H5-140-007     S  fru talman detta är en mycket märklig debatt j...\n",
       "12317  H5-142-001    KD  aktuell debatt om bekämpningen av skogsbränder...\n",
       "12318  H5-142-002     S  fru talman sommaren blev extrem på många sätt ...\n",
       "12319  H5-142-003     M  fru talman sommarens skogsbränder har varit må...\n",
       "12320  H5-142-004    SD  fru talman mycket har sagts här om kaoset i sa...\n",
       "12321  H5-142-005    MP  fru talman den här sommaren har på många sätt ...\n",
       "12322  H5-142-006     C  fru talman tack för möjligheten att få debatte...\n",
       "12323  H5-142-007     V  fru talman under sommaren har vår svenska skog...\n",
       "12324  H5-142-008     L  fru talman det framgår redan nu att vi i den h...\n",
       "12325  H5-142-009    KD  fru talman procent av vårt land består av skog...\n",
       "12326  H5-142-010     S  fru talman det har sagts många egendomliga sak...\n",
       "12327  H5-142-011     M  fru talman det är lite tramsigt att börja köra...\n",
       "12328  H5-142-012    SD  fru talman ministern sa att brandflyget funger...\n",
       "12329  H5-142-013    MP  fru talman miljöpartiet har fokuserat på och k...\n",
       "12330  H5-142-014     C  fru talman det är givetvis så att många har dr...\n",
       "12331  H5-142-015     V  fru talman skogsbränderna har på ett brutalt s...\n",
       "12332  H5-142-016     L  fru talman bara i försvarsmakten finns det i d...\n",
       "12333  H5-142-017    KD  fru talman när vi begärde den här debatten vil...\n",
       "12334  H5-142-018     S  fru talman jag vänder mig först till sverigede...\n",
       "12335  H5-142-019     M  fru talman till morgan johansson kan jag bara ...\n",
       "12336  H5-142-020    SD  fru talman man ska hinna med att bemöta minist...\n",
       "12337  H5-142-021    MP  fru talman jag vill tacka för den här debatten...\n",
       "12338  H5-142-022     C  fru talman tack övriga meddebattörer för den h...\n",
       "12339  H5-142-023     V  fru talman det är tyvärr sannolikt att vi får ...\n",
       "12340  H5-142-024     L  fru talman det är kanske på sin plats att uppl...\n",
       "12341  H5-142-025    KD  fru talman jag och kristdemokraterna begärde d...\n",
       "12342  H5-142-026     S  fru talman först vill jag ta upp en ren hygien...\n",
       "\n",
       "[12343 rows x 3 columns]"
      ]
     },
     "execution_count": 11,
     "metadata": {},
     "output_type": "execute_result"
    }
   ],
   "source": [
    "# TODO: Write code here to train and evaluate a Multinomial Naive Bayes classifier\n",
    "\n",
    "# check training data\n",
    "training_data"
   ]
  },
  {
   "cell_type": "code",
   "execution_count": 36,
   "metadata": {},
   "outputs": [],
   "source": [
    "# needed libraries\n",
    "from sklearn.naive_bayes import MultinomialNB\n",
    "from sklearn.feature_extraction.text import TfidfTransformer\n",
    "from sklearn.feature_extraction.text import CountVectorizer\n",
    "from sklearn.pipeline import Pipeline\n",
    "\n",
    "# Step 1 & 2 in pipeline\n",
    "# Step 1: vectorize speeches of train data\n",
    "# Step 2: instantiate and fit Bayes model\n",
    "text_clf = Pipeline([\n",
    "     ('vect', CountVectorizer()),\n",
    "     ('tfidf', TfidfTransformer()),\n",
    "     ('clf', MultinomialNB()),\n",
    "])\n",
    "\n"
   ]
  },
  {
   "cell_type": "code",
   "execution_count": 37,
   "metadata": {},
   "outputs": [],
   "source": [
    "X_train = training_data[\"words\"]\n",
    "y_train = training_data[\"party\"]\n",
    "\n",
    "# fit the model\n",
    "text_clf.fit(X_train, y_train)\n",
    "\n",
    "# make prediction\n",
    "predicted = text_clf.predict(test_data[\"words\"])"
   ]
  },
  {
   "cell_type": "code",
   "execution_count": 203,
   "metadata": {},
   "outputs": [
    {
     "name": "stdout",
     "output_type": "stream",
     "text": [
      "['S' 'S' 'S' ... 'S' 'S' 'S']\n"
     ]
    },
    {
     "data": {
      "text/plain": [
       "array(['M', 'S'], dtype='<U2')"
      ]
     },
     "execution_count": 203,
     "metadata": {},
     "output_type": "execute_result"
    }
   ],
   "source": [
    "# check predictions\n",
    "print(predicted)\n",
    "np.unique(predicted)"
   ]
  },
  {
   "cell_type": "markdown",
   "metadata": {},
   "source": [
    "** Interpretation of prediction**\n",
    "\n",
    "The created model does predict just two classes/parties: \"M\" & \"S\"\n",
    "\n",
    "Which are by far the parties with most speeches."
   ]
  },
  {
   "cell_type": "code",
   "execution_count": 33,
   "metadata": {},
   "outputs": [
    {
     "data": {
      "image/png": "[encoded data removed]",
      "text/plain": [
       "<IPython.core.display.Image object>"
      ]
     },
     "execution_count": 33,
     "metadata": {
      "image/png": {
       "height": 600,
       "width": 600
      }
     },
     "output_type": "execute_result"
    }
   ],
   "source": [
    "from IPython.display import Image\n",
    "Image(filename = \"ConfusionMatrix.png\", width=600, height=600)"
   ]
  },
  {
   "cell_type": "code",
   "execution_count": 34,
   "metadata": {},
   "outputs": [
    {
     "data": {
      "image/png": "[encoded data removed]",
      "text/plain": [
       "<IPython.core.display.Image object>"
      ]
     },
     "execution_count": 34,
     "metadata": {
      "image/png": {
       "height": 600,
       "width": 600
      }
     },
     "output_type": "execute_result"
    }
   ],
   "source": [
    "from IPython.display import Image\n",
    "Image(filename = \"PrecisionRecallPositiveCase.png\", width=600, height=600)"
   ]
  },
  {
   "cell_type": "markdown",
   "metadata": {},
   "source": [
    "**Precision** attempts to *answer* the *following question*:\n",
    "\n",
    "**What proportion of positive identifications was actually correct?**\n",
    "\n",
    "**Recall** attempts to *answer* the *following question*:\n",
    "\n",
    "**What proportion of actual positives was identified correctly?**"
   ]
  },
  {
   "cell_type": "code",
   "execution_count": 35,
   "metadata": {},
   "outputs": [
    {
     "data": {
      "image/png": "[encoded data removed]",
      "text/plain": [
       "<IPython.core.display.Image object>"
      ]
     },
     "execution_count": 35,
     "metadata": {
      "image/png": {
       "height": 600,
       "width": 600
      }
     },
     "output_type": "execute_result"
    }
   ],
   "source": [
    "from IPython.display import Image\n",
    "Image(filename = \"F1-measure.png\", width=600, height=600)"
   ]
  },
  {
   "cell_type": "code",
   "execution_count": 210,
   "metadata": {},
   "outputs": [
    {
     "name": "stdout",
     "output_type": "stream",
     "text": [
      "The accuracy of the Naive Bayes classifier with default parameter is: 0.299\n"
     ]
    }
   ],
   "source": [
    "# Step 3: Evaluate model\n",
    "# use classification report - precision, recall, F1 score, overfall accuracy\n",
    "import numpy as np\n",
    "accuracy_P2 = round(np.mean(predicted == test_data[\"party\"]),3)\n",
    "print(\"The accuracy of the Naive Bayes classifier with default parameter is: {}\".format(accuracy_P2))"
   ]
  },
  {
   "cell_type": "code",
   "execution_count": 39,
   "metadata": {},
   "outputs": [
    {
     "name": "stdout",
     "output_type": "stream",
     "text": [
      "             precision    recall  f1-score   support\n",
      "\n",
      "          C       0.00      0.00      0.00       671\n",
      "         KD       0.00      0.00      0.00       821\n",
      "          L       0.00      0.00      0.00       560\n",
      "          M       0.50      0.00      0.00      1644\n",
      "         MP       0.00      0.00      0.00       809\n",
      "          S       0.30      1.00      0.46      2773\n",
      "         SD       0.00      0.00      0.00      1060\n",
      "          V       0.00      0.00      0.00       950\n",
      "\n",
      "avg / total       0.18      0.30      0.14      9288\n",
      "\n"
     ]
    },
    {
     "name": "stderr",
     "output_type": "stream",
     "text": [
      "/anaconda3/lib/python3.6/site-packages/sklearn/metrics/classification.py:1135: UndefinedMetricWarning: Precision and F-score are ill-defined and being set to 0.0 in labels with no predicted samples.\n",
      "  'precision', 'predicted', average, warn_for)\n"
     ]
    }
   ],
   "source": [
    "from sklearn.metrics import classification_report\n",
    "print(classification_report(test_data[\"party\"], \n",
    "                                    predicted,\n",
    "                                    target_names=parties))"
   ]
  },
  {
   "cell_type": "markdown",
   "metadata": {},
   "source": [
    "Would you have expected the results that you got?"
   ]
  },
  {
   "cell_type": "markdown",
   "metadata": {},
   "source": [
    "I didn't expect these results! In the visual analysis I noticed that the parties in the training data had a higher frequency, but I would not have thought that the effects on the classifier would be so drastic. \n",
    "However, no statement can be made at this stage as to whether the classification of the model is good or bad. For this it would have to be compared with another model."
   ]
  },
  {
   "cell_type": "markdown",
   "metadata": {},
   "source": [
    "## Problem 3: Baseline"
   ]
  },
  {
   "cell_type": "markdown",
   "metadata": {},
   "source": [
    "Evaluation metrics such as accuracy should not be understood as absolute measures of performance, but should be used only to compare different classifiers. *When other classifiers are not available*, a *simple baseline* for text classification is **Most Frequent Class (MFC)**. One way to think of this baseline is as a classifier that, for every document, predicts that class which appears most often in the training data.\n",
    "\n",
    "**Determine the most frequent class in the 2017/2018 data**. What is the **accuracy** of the MFC baseline on the **test data**? Given this baseline accuracy, how do you assess the results of the Naive Bayes classifier from Problem&nbsp;2? Answer with a short text."
   ]
  },
  {
   "cell_type": "code",
   "execution_count": 90,
   "metadata": {},
   "outputs": [
    {
     "name": "stdout",
     "output_type": "stream",
     "text": [
      "S     4261\n",
      "M     2370\n",
      "MP    1481\n",
      "SD    1010\n",
      "V      894\n",
      "C      865\n",
      "KD     743\n",
      "L      719\n",
      "Name: party, dtype: int64\n"
     ]
    }
   ],
   "source": [
    "# TODO: Write code here to print the baseline accuracy\n",
    "Most_frequent_class = training_data[\"party\"].value_counts()\n",
    "print(Most_frequent_class)"
   ]
  },
  {
   "cell_type": "code",
   "execution_count": 213,
   "metadata": {
    "scrolled": true
   },
   "outputs": [
    {
     "name": "stdout",
     "output_type": "stream",
     "text": [
      "['S' 'S' 'S' ... 'S' 'S' 'S']\n",
      "The accuracy of the Most Frequent Class is: 0.299\n"
     ]
    }
   ],
   "source": [
    "# baseline prediction means to make every prediction as the most frequent class\n",
    "# Above we see the most frequent class is S with 4261 speeches\n",
    "# Therefor do we predict S for every case\n",
    "\n",
    "baseline_pred = np.repeat(\"S\",len(test_data))\n",
    "print(baseline_pred)\n",
    "accuracy_P3 = round(np.mean(baseline_pred == test_data[\"party\"]),3)\n",
    "\n",
    "print(\"The accuracy of the Most Frequent Class is: {}\".format(accuracy_P3))"
   ]
  },
  {
   "cell_type": "code",
   "execution_count": 95,
   "metadata": {},
   "outputs": [
    {
     "name": "stdout",
     "output_type": "stream",
     "text": [
      "             precision    recall  f1-score   support\n",
      "\n",
      "          C       0.00      0.00      0.00       671\n",
      "         KD       0.00      0.00      0.00       821\n",
      "          L       0.00      0.00      0.00       560\n",
      "          M       0.00      0.00      0.00      1644\n",
      "         MP       0.00      0.00      0.00       809\n",
      "          S       0.30      1.00      0.46      2773\n",
      "         SD       0.00      0.00      0.00      1060\n",
      "          V       0.00      0.00      0.00       950\n",
      "\n",
      "avg / total       0.09      0.30      0.14      9288\n",
      "\n"
     ]
    },
    {
     "name": "stderr",
     "output_type": "stream",
     "text": [
      "/anaconda3/lib/python3.6/site-packages/sklearn/metrics/classification.py:1135: UndefinedMetricWarning: Precision and F-score are ill-defined and being set to 0.0 in labels with no predicted samples.\n",
      "  'precision', 'predicted', average, warn_for)\n"
     ]
    }
   ],
   "source": [
    "print(classification_report(test_data[\"party\"], \n",
    "                                    baseline_pred,\n",
    "                                    target_names=parties))"
   ]
  },
  {
   "cell_type": "markdown",
   "metadata": {},
   "source": [
    "**Interpretation**"
   ]
  },
  {
   "cell_type": "markdown",
   "metadata": {},
   "source": [
    "We can see that the accuracy is the same as with the Naive Bayes claissifier. Also the precision and recall values for \"S\" are the same. So not the case for \"M\" because there is no classification for this party. Accordingly the avg precision is lower than in problem 3."
   ]
  },
  {
   "cell_type": "markdown",
   "metadata": {},
   "source": [
    "## Problem 4: Creating a balanced data set"
   ]
  },
  {
   "cell_type": "markdown",
   "metadata": {},
   "source": [
    "As you saw in Problem&nbsp;1, the distribution of the speeches over the eight different parties (classes) is imbalanced. One technique used to alleviate this is **undersampling**, in which one **randomly removes samples from over-represented classes until all classes are represented with the same number of samples**.\n",
    "\n",
    "Implement undersampling to **create a balanced subset** of the **training data**. **Rerun** the **evaluation from Problem&nbsp;2** on the **balanced data and compare** the results. **Discuss** your **findings** in a short text. Would you argue that undersampling make sense for the task of predicting the party of a speaker?\n",
    "\n",
    "**Hint:** Your balanced subset should consist of 5,752 speeches."
   ]
  },
  {
   "cell_type": "code",
   "execution_count": 99,
   "metadata": {
    "scrolled": true
   },
   "outputs": [
    {
     "name": "stdout",
     "output_type": "stream",
     "text": [
      "S     4261\n",
      "M     2370\n",
      "MP    1481\n",
      "SD    1010\n",
      "V      894\n",
      "C      865\n",
      "KD     743\n",
      "L      719\n",
      "Name: party, dtype: int64\n",
      "5752\n"
     ]
    }
   ],
   "source": [
    "# TODO: Write code here to implement undersampling\n",
    "print(Most_frequent_class)\n",
    "# to have a balanced data set, we see the party \"L\" with the lowerst speeches\n",
    "# if we want to balance the dataset, we can max sample 719 speeches of each party\n",
    "\n",
    "# we have 8 parties and a balanced dataset has 719 speeches of each party\n",
    "print(719*8)\n",
    "# this makes 5752 speeches as in the hint given"
   ]
  },
  {
   "cell_type": "code",
   "execution_count": 227,
   "metadata": {
    "scrolled": true
   },
   "outputs": [],
   "source": [
    "# init empty dataset - balanced data set\n",
    "balanced_data = pd.DataFrame()\n",
    "# Class count\n",
    "count_class_S, count_class_M, count_class_MP ,count_class_SD, count_class_V, count_class_C, count_class_KD, count_class_L = training_data.party.value_counts()\n",
    "for i in parties:\n",
    "    \n",
    "    # Divide by class\n",
    "    df_class = training_data[training_data['party'] == i]\n",
    "    \n",
    "    # take a sample of length L (smallest elemnt)\n",
    "    df_under = df_class.sample(count_class_L)\n",
    "    # save new sample in df\n",
    "    balanced_data = balanced_data.append(df_under)"
   ]
  },
  {
   "cell_type": "code",
   "execution_count": 226,
   "metadata": {
    "scrolled": true
   },
   "outputs": [
    {
     "data": {
      "text/html": [
       "<div>\n",
       "<style scoped>\n",
       "    .dataframe tbody tr th:only-of-type {\n",
       "        vertical-align: middle;\n",
       "    }\n",
       "\n",
       "    .dataframe tbody tr th {\n",
       "        vertical-align: top;\n",
       "    }\n",
       "\n",
       "    .dataframe thead th {\n",
       "        text-align: right;\n",
       "    }\n",
       "</style>\n",
       "<table border=\"1\" class=\"dataframe\">\n",
       "  <thead>\n",
       "    <tr style=\"text-align: right;\">\n",
       "      <th></th>\n",
       "      <th>id</th>\n",
       "      <th>party</th>\n",
       "      <th>words</th>\n",
       "    </tr>\n",
       "  </thead>\n",
       "  <tbody>\n",
       "    <tr>\n",
       "      <th>2789</th>\n",
       "      <td>H5-039-058</td>\n",
       "      <td>KD</td>\n",
       "      <td>herr talman i dag debatterar vi rikets styrels...</td>\n",
       "    </tr>\n",
       "    <tr>\n",
       "      <th>7297</th>\n",
       "      <td>H5-082-008</td>\n",
       "      <td>L</td>\n",
       "      <td>herr talman jag ska börja med ett mejl från en...</td>\n",
       "    </tr>\n",
       "    <tr>\n",
       "      <th>7096</th>\n",
       "      <td>H5-080-078</td>\n",
       "      <td>M</td>\n",
       "      <td>herr talman om en forskare vill bedriva forskn...</td>\n",
       "    </tr>\n",
       "    <tr>\n",
       "      <th>869</th>\n",
       "      <td>H5-015-122</td>\n",
       "      <td>KD</td>\n",
       "      <td>herr talman vi kommer ju att ta varandra i han...</td>\n",
       "    </tr>\n",
       "    <tr>\n",
       "      <th>6780</th>\n",
       "      <td>H5-077-005</td>\n",
       "      <td>M</td>\n",
       "      <td>herr talman tack så mycket för frågorna det va...</td>\n",
       "    </tr>\n",
       "    <tr>\n",
       "      <th>3352</th>\n",
       "      <td>H5-044-054</td>\n",
       "      <td>SD</td>\n",
       "      <td>fru talman jag yrkar bifall till reservationen...</td>\n",
       "    </tr>\n",
       "    <tr>\n",
       "      <th>9029</th>\n",
       "      <td>H5-101-121</td>\n",
       "      <td>V</td>\n",
       "      <td>civila samhället inklusive trossamfund herr ta...</td>\n",
       "    </tr>\n",
       "    <tr>\n",
       "      <th>3303</th>\n",
       "      <td>H5-044-005</td>\n",
       "      <td>M</td>\n",
       "      <td>herr talman sanningen är att under alliansens ...</td>\n",
       "    </tr>\n",
       "    <tr>\n",
       "      <th>4726</th>\n",
       "      <td>H5-054-105</td>\n",
       "      <td>MP</td>\n",
       "      <td>svar på interpellationer fru talman ledamoten ...</td>\n",
       "    </tr>\n",
       "    <tr>\n",
       "      <th>11721</th>\n",
       "      <td>H5-132-086</td>\n",
       "      <td>KD</td>\n",
       "      <td>herr talman jag tänkte att jan lindholms sista...</td>\n",
       "    </tr>\n",
       "    <tr>\n",
       "      <th>1536</th>\n",
       "      <td>H5-026-078</td>\n",
       "      <td>M</td>\n",
       "      <td>fru talman tack statsrådet för svaret det ligg...</td>\n",
       "    </tr>\n",
       "    <tr>\n",
       "      <th>3939</th>\n",
       "      <td>H5-048-040</td>\n",
       "      <td>C</td>\n",
       "      <td>ekonomisk trygghet för familjer och barn som j...</td>\n",
       "    </tr>\n",
       "    <tr>\n",
       "      <th>11567</th>\n",
       "      <td>H5-131-156</td>\n",
       "      <td>C</td>\n",
       "      <td>fru talman att stifta lagar när man är rädd är...</td>\n",
       "    </tr>\n",
       "    <tr>\n",
       "      <th>7686</th>\n",
       "      <td>H5-088-040</td>\n",
       "      <td>C</td>\n",
       "      <td>fru talman det är en intressant tes som karin ...</td>\n",
       "    </tr>\n",
       "    <tr>\n",
       "      <th>10086</th>\n",
       "      <td>H5-115-051</td>\n",
       "      <td>MP</td>\n",
       "      <td>herr talman tack åsa westlund för interpellati...</td>\n",
       "    </tr>\n",
       "    <tr>\n",
       "      <th>10416</th>\n",
       "      <td>H5-118-147</td>\n",
       "      <td>V</td>\n",
       "      <td>herr talman tack så mycket utrikesministern fö...</td>\n",
       "    </tr>\n",
       "    <tr>\n",
       "      <th>7506</th>\n",
       "      <td>H5-085-032</td>\n",
       "      <td>V</td>\n",
       "      <td>herr talman ja men med en avvecklingsplan för ...</td>\n",
       "    </tr>\n",
       "    <tr>\n",
       "      <th>10365</th>\n",
       "      <td>H5-118-095</td>\n",
       "      <td>M</td>\n",
       "      <td>fru talman jag har en fråga till statsrådet sh...</td>\n",
       "    </tr>\n",
       "    <tr>\n",
       "      <th>10810</th>\n",
       "      <td>H5-123-108</td>\n",
       "      <td>C</td>\n",
       "      <td>herr talman jag tolkar bostadsministerns svar ...</td>\n",
       "    </tr>\n",
       "    <tr>\n",
       "      <th>10039</th>\n",
       "      <td>H5-115-004</td>\n",
       "      <td>SD</td>\n",
       "      <td>fru talman jag måste få börja med att tacka kr...</td>\n",
       "    </tr>\n",
       "    <tr>\n",
       "      <th>746</th>\n",
       "      <td>H5-014-014</td>\n",
       "      <td>KD</td>\n",
       "      <td>svar på interpellationer fru talman den här fr...</td>\n",
       "    </tr>\n",
       "    <tr>\n",
       "      <th>7496</th>\n",
       "      <td>H5-085-022</td>\n",
       "      <td>S</td>\n",
       "      <td>frågestund herr talman min fråga riktar sig ti...</td>\n",
       "    </tr>\n",
       "    <tr>\n",
       "      <th>3711</th>\n",
       "      <td>H5-046-072</td>\n",
       "      <td>KD</td>\n",
       "      <td>kommunikationer fru talman jag vill bara poäng...</td>\n",
       "    </tr>\n",
       "    <tr>\n",
       "      <th>8187</th>\n",
       "      <td>H5-093-067</td>\n",
       "      <td>C</td>\n",
       "      <td>herr talman vi diskuterar nu trafiksäkerhet oc...</td>\n",
       "    </tr>\n",
       "    <tr>\n",
       "      <th>583</th>\n",
       "      <td>H5-011-005</td>\n",
       "      <td>M</td>\n",
       "      <td>fru talman det är alltid lika roligt att höra ...</td>\n",
       "    </tr>\n",
       "    <tr>\n",
       "      <th>3278</th>\n",
       "      <td>H5-043-125</td>\n",
       "      <td>M</td>\n",
       "      <td>fru talman det här är två nästan identiska deb...</td>\n",
       "    </tr>\n",
       "    <tr>\n",
       "      <th>905</th>\n",
       "      <td>H5-016-021</td>\n",
       "      <td>V</td>\n",
       "      <td>herr talman statsministern man ska kunna lita ...</td>\n",
       "    </tr>\n",
       "    <tr>\n",
       "      <th>2817</th>\n",
       "      <td>H5-039-086</td>\n",
       "      <td>C</td>\n",
       "      <td>herr talman i propositionen föreslås undantag ...</td>\n",
       "    </tr>\n",
       "    <tr>\n",
       "      <th>11578</th>\n",
       "      <td>H5-131-167</td>\n",
       "      <td>KD</td>\n",
       "      <td>fru talman kristdemokraterna anser att sverige...</td>\n",
       "    </tr>\n",
       "    <tr>\n",
       "      <th>7120</th>\n",
       "      <td>H5-080-102</td>\n",
       "      <td>C</td>\n",
       "      <td>naturvård och områdesskydd och biologisk mångf...</td>\n",
       "    </tr>\n",
       "    <tr>\n",
       "      <th>...</th>\n",
       "      <td>...</td>\n",
       "      <td>...</td>\n",
       "      <td>...</td>\n",
       "    </tr>\n",
       "    <tr>\n",
       "      <th>2218</th>\n",
       "      <td>H5-034-053</td>\n",
       "      <td>S</td>\n",
       "      <td>fru talman sverige har under mycket lång tid l...</td>\n",
       "    </tr>\n",
       "    <tr>\n",
       "      <th>9846</th>\n",
       "      <td>H5-113-008</td>\n",
       "      <td>SD</td>\n",
       "      <td>herr talman det finns ett område inom välfärde...</td>\n",
       "    </tr>\n",
       "    <tr>\n",
       "      <th>8159</th>\n",
       "      <td>H5-093-039</td>\n",
       "      <td>C</td>\n",
       "      <td>herr talman tack teres lindberg för en avsluta...</td>\n",
       "    </tr>\n",
       "    <tr>\n",
       "      <th>4871</th>\n",
       "      <td>H5-055-127</td>\n",
       "      <td>KD</td>\n",
       "      <td>fru talman vi är överens om att riva upp samti...</td>\n",
       "    </tr>\n",
       "    <tr>\n",
       "      <th>1308</th>\n",
       "      <td>H5-023-044</td>\n",
       "      <td>V</td>\n",
       "      <td>fru talman om det är något som jag skulle vilj...</td>\n",
       "    </tr>\n",
       "    <tr>\n",
       "      <th>356</th>\n",
       "      <td>H5-007-035</td>\n",
       "      <td>SD</td>\n",
       "      <td>herr talman det är väl lite av en konst i poli...</td>\n",
       "    </tr>\n",
       "    <tr>\n",
       "      <th>9219</th>\n",
       "      <td>H5-104-110</td>\n",
       "      <td>MP</td>\n",
       "      <td>herr talman jag ska fatta mig väldigt kort til...</td>\n",
       "    </tr>\n",
       "    <tr>\n",
       "      <th>9758</th>\n",
       "      <td>H5-112-037</td>\n",
       "      <td>L</td>\n",
       "      <td>fru talman frågan om olika svar är väldigt int...</td>\n",
       "    </tr>\n",
       "    <tr>\n",
       "      <th>9842</th>\n",
       "      <td>H5-113-004</td>\n",
       "      <td>S</td>\n",
       "      <td>herr talman vi motsätter oss naturligtvis inte...</td>\n",
       "    </tr>\n",
       "    <tr>\n",
       "      <th>8072</th>\n",
       "      <td>H5-092-010</td>\n",
       "      <td>KD</td>\n",
       "      <td>fru talman jag noterar att peter persson inte ...</td>\n",
       "    </tr>\n",
       "    <tr>\n",
       "      <th>9228</th>\n",
       "      <td>H5-105-008</td>\n",
       "      <td>V</td>\n",
       "      <td>fru talman tack anders för att du på många bra...</td>\n",
       "    </tr>\n",
       "    <tr>\n",
       "      <th>1138</th>\n",
       "      <td>H5-020-110</td>\n",
       "      <td>M</td>\n",
       "      <td>fru talman jag riktar min fråga till statsråde...</td>\n",
       "    </tr>\n",
       "    <tr>\n",
       "      <th>12070</th>\n",
       "      <td>H5-135-104</td>\n",
       "      <td>MP</td>\n",
       "      <td>fru talman jag håller med om nina lundströms u...</td>\n",
       "    </tr>\n",
       "    <tr>\n",
       "      <th>10170</th>\n",
       "      <td>H5-117-006</td>\n",
       "      <td>V</td>\n",
       "      <td>fru talman jag tänkte hålla mig kort eftersom ...</td>\n",
       "    </tr>\n",
       "    <tr>\n",
       "      <th>5541</th>\n",
       "      <td>H5-062-003</td>\n",
       "      <td>V</td>\n",
       "      <td>jag vill tacka désirée som har ställt interpel...</td>\n",
       "    </tr>\n",
       "    <tr>\n",
       "      <th>7530</th>\n",
       "      <td>H5-085-056</td>\n",
       "      <td>C</td>\n",
       "      <td>frågestund herr talman tyvärr kan man i statis...</td>\n",
       "    </tr>\n",
       "    <tr>\n",
       "      <th>4553</th>\n",
       "      <td>H5-053-075</td>\n",
       "      <td>M</td>\n",
       "      <td>herr talman statsrådet försöker blanda bort ko...</td>\n",
       "    </tr>\n",
       "    <tr>\n",
       "      <th>11846</th>\n",
       "      <td>H5-133-048</td>\n",
       "      <td>C</td>\n",
       "      <td>politiken för global utveckling pgu herr talma...</td>\n",
       "    </tr>\n",
       "    <tr>\n",
       "      <th>9802</th>\n",
       "      <td>H5-112-085</td>\n",
       "      <td>V</td>\n",
       "      <td>fru talman av alla de åttiotal reformer som vä...</td>\n",
       "    </tr>\n",
       "    <tr>\n",
       "      <th>2747</th>\n",
       "      <td>H5-039-016</td>\n",
       "      <td>L</td>\n",
       "      <td>herr talman vilka är de rika som nooshi dadgos...</td>\n",
       "    </tr>\n",
       "    <tr>\n",
       "      <th>4643</th>\n",
       "      <td>H5-054-022</td>\n",
       "      <td>L</td>\n",
       "      <td>fru talman världen står nu inför ett vägval ka...</td>\n",
       "    </tr>\n",
       "    <tr>\n",
       "      <th>2437</th>\n",
       "      <td>H5-035-122</td>\n",
       "      <td>MP</td>\n",
       "      <td>fru talman när det gäller skillnaden mellan mi...</td>\n",
       "    </tr>\n",
       "    <tr>\n",
       "      <th>5731</th>\n",
       "      <td>H5-064-050</td>\n",
       "      <td>V</td>\n",
       "      <td>fru talman vi behandlar alltså betänkande vilk...</td>\n",
       "    </tr>\n",
       "    <tr>\n",
       "      <th>9953</th>\n",
       "      <td>H5-113-116</td>\n",
       "      <td>C</td>\n",
       "      <td>herr talman svensk primärvård har mycket stora...</td>\n",
       "    </tr>\n",
       "    <tr>\n",
       "      <th>7139</th>\n",
       "      <td>H5-080-121</td>\n",
       "      <td>SD</td>\n",
       "      <td>fru talman vi debatterar nu motionsbetänkandet...</td>\n",
       "    </tr>\n",
       "    <tr>\n",
       "      <th>10963</th>\n",
       "      <td>H5-125-087</td>\n",
       "      <td>KD</td>\n",
       "      <td>herr talman jag vill börja med att yrka avslag...</td>\n",
       "    </tr>\n",
       "    <tr>\n",
       "      <th>690</th>\n",
       "      <td>H5-012-083</td>\n",
       "      <td>MP</td>\n",
       "      <td>herr talman detta är en fråga som är oerhört a...</td>\n",
       "    </tr>\n",
       "    <tr>\n",
       "      <th>5180</th>\n",
       "      <td>H5-058-032</td>\n",
       "      <td>M</td>\n",
       "      <td>herr talman jag tackar justitieministern för s...</td>\n",
       "    </tr>\n",
       "    <tr>\n",
       "      <th>8799</th>\n",
       "      <td>H5-100-001</td>\n",
       "      <td>SD</td>\n",
       "      <td>fru talman och kära utskottskollegor god morgo...</td>\n",
       "    </tr>\n",
       "    <tr>\n",
       "      <th>2554</th>\n",
       "      <td>H5-036-115</td>\n",
       "      <td>C</td>\n",
       "      <td>fru talman jag vill börja med att tacka statsm...</td>\n",
       "    </tr>\n",
       "  </tbody>\n",
       "</table>\n",
       "<p>5752 rows × 3 columns</p>\n",
       "</div>"
      ],
      "text/plain": [
       "               id party                                              words\n",
       "2789   H5-039-058    KD  herr talman i dag debatterar vi rikets styrels...\n",
       "7297   H5-082-008     L  herr talman jag ska börja med ett mejl från en...\n",
       "7096   H5-080-078     M  herr talman om en forskare vill bedriva forskn...\n",
       "869    H5-015-122    KD  herr talman vi kommer ju att ta varandra i han...\n",
       "6780   H5-077-005     M  herr talman tack så mycket för frågorna det va...\n",
       "3352   H5-044-054    SD  fru talman jag yrkar bifall till reservationen...\n",
       "9029   H5-101-121     V  civila samhället inklusive trossamfund herr ta...\n",
       "3303   H5-044-005     M  herr talman sanningen är att under alliansens ...\n",
       "4726   H5-054-105    MP  svar på interpellationer fru talman ledamoten ...\n",
       "11721  H5-132-086    KD  herr talman jag tänkte att jan lindholms sista...\n",
       "1536   H5-026-078     M  fru talman tack statsrådet för svaret det ligg...\n",
       "3939   H5-048-040     C  ekonomisk trygghet för familjer och barn som j...\n",
       "11567  H5-131-156     C  fru talman att stifta lagar när man är rädd är...\n",
       "7686   H5-088-040     C  fru talman det är en intressant tes som karin ...\n",
       "10086  H5-115-051    MP  herr talman tack åsa westlund för interpellati...\n",
       "10416  H5-118-147     V  herr talman tack så mycket utrikesministern fö...\n",
       "7506   H5-085-032     V  herr talman ja men med en avvecklingsplan för ...\n",
       "10365  H5-118-095     M  fru talman jag har en fråga till statsrådet sh...\n",
       "10810  H5-123-108     C  herr talman jag tolkar bostadsministerns svar ...\n",
       "10039  H5-115-004    SD  fru talman jag måste få börja med att tacka kr...\n",
       "746    H5-014-014    KD  svar på interpellationer fru talman den här fr...\n",
       "7496   H5-085-022     S  frågestund herr talman min fråga riktar sig ti...\n",
       "3711   H5-046-072    KD  kommunikationer fru talman jag vill bara poäng...\n",
       "8187   H5-093-067     C  herr talman vi diskuterar nu trafiksäkerhet oc...\n",
       "583    H5-011-005     M  fru talman det är alltid lika roligt att höra ...\n",
       "3278   H5-043-125     M  fru talman det här är två nästan identiska deb...\n",
       "905    H5-016-021     V  herr talman statsministern man ska kunna lita ...\n",
       "2817   H5-039-086     C  herr talman i propositionen föreslås undantag ...\n",
       "11578  H5-131-167    KD  fru talman kristdemokraterna anser att sverige...\n",
       "7120   H5-080-102     C  naturvård och områdesskydd och biologisk mångf...\n",
       "...           ...   ...                                                ...\n",
       "2218   H5-034-053     S  fru talman sverige har under mycket lång tid l...\n",
       "9846   H5-113-008    SD  herr talman det finns ett område inom välfärde...\n",
       "8159   H5-093-039     C  herr talman tack teres lindberg för en avsluta...\n",
       "4871   H5-055-127    KD  fru talman vi är överens om att riva upp samti...\n",
       "1308   H5-023-044     V  fru talman om det är något som jag skulle vilj...\n",
       "356    H5-007-035    SD  herr talman det är väl lite av en konst i poli...\n",
       "9219   H5-104-110    MP  herr talman jag ska fatta mig väldigt kort til...\n",
       "9758   H5-112-037     L  fru talman frågan om olika svar är väldigt int...\n",
       "9842   H5-113-004     S  herr talman vi motsätter oss naturligtvis inte...\n",
       "8072   H5-092-010    KD  fru talman jag noterar att peter persson inte ...\n",
       "9228   H5-105-008     V  fru talman tack anders för att du på många bra...\n",
       "1138   H5-020-110     M  fru talman jag riktar min fråga till statsråde...\n",
       "12070  H5-135-104    MP  fru talman jag håller med om nina lundströms u...\n",
       "10170  H5-117-006     V  fru talman jag tänkte hålla mig kort eftersom ...\n",
       "5541   H5-062-003     V  jag vill tacka désirée som har ställt interpel...\n",
       "7530   H5-085-056     C  frågestund herr talman tyvärr kan man i statis...\n",
       "4553   H5-053-075     M  herr talman statsrådet försöker blanda bort ko...\n",
       "11846  H5-133-048     C  politiken för global utveckling pgu herr talma...\n",
       "9802   H5-112-085     V  fru talman av alla de åttiotal reformer som vä...\n",
       "2747   H5-039-016     L  herr talman vilka är de rika som nooshi dadgos...\n",
       "4643   H5-054-022     L  fru talman världen står nu inför ett vägval ka...\n",
       "2437   H5-035-122    MP  fru talman när det gäller skillnaden mellan mi...\n",
       "5731   H5-064-050     V  fru talman vi behandlar alltså betänkande vilk...\n",
       "9953   H5-113-116     C  herr talman svensk primärvård har mycket stora...\n",
       "7139   H5-080-121    SD  fru talman vi debatterar nu motionsbetänkandet...\n",
       "10963  H5-125-087    KD  herr talman jag vill börja med att yrka avslag...\n",
       "690    H5-012-083    MP  herr talman detta är en fråga som är oerhört a...\n",
       "5180   H5-058-032     M  herr talman jag tackar justitieministern för s...\n",
       "8799   H5-100-001    SD  fru talman och kära utskottskollegor god morgo...\n",
       "2554   H5-036-115     C  fru talman jag vill börja med att tacka statsm...\n",
       "\n",
       "[5752 rows x 3 columns]"
      ]
     },
     "execution_count": 226,
     "metadata": {},
     "output_type": "execute_result"
    }
   ],
   "source": [
    "# I don´t want to have them in a party order, therefor I shuffle the data frame\n",
    "from sklearn.utils import shuffle\n",
    "balanced_data = shuffle(balanced_data)\n",
    "balanced_data"
   ]
  },
  {
   "cell_type": "code",
   "execution_count": 230,
   "metadata": {},
   "outputs": [
    {
     "name": "stdout",
     "output_type": "stream",
     "text": [
      "L     719\n",
      "KD    719\n",
      "SD    719\n",
      "V     719\n",
      "S     719\n",
      "M     719\n",
      "MP    719\n",
      "C     719\n",
      "Name: party, dtype: int64\n",
      "id       5752\n",
      "party    5752\n",
      "words    5752\n",
      "dtype: int64\n"
     ]
    }
   ],
   "source": [
    "# check if the dataset is balanced now\n",
    "print(balanced_data[\"party\"].value_counts())\n",
    "print(balanced_data.count())"
   ]
  },
  {
   "cell_type": "code",
   "execution_count": 216,
   "metadata": {
    "scrolled": true
   },
   "outputs": [
    {
     "name": "stdout",
     "output_type": "stream",
     "text": [
      "The parties predicted: ['C' 'KD' 'L' 'M' 'MP' 'S' 'SD' 'V']\n",
      "The prediction includes 8 parties.\n",
      "The accuracy of the balanced data set is: 0.355\n",
      "             precision    recall  f1-score   support\n",
      "\n",
      "          C       0.26      0.39      0.31       671\n",
      "         KD       0.22      0.46      0.30       821\n",
      "          L       0.26      0.42      0.32       560\n",
      "          M       0.36      0.44      0.39      1644\n",
      "         MP       0.34      0.33      0.34       809\n",
      "          S       0.82      0.21      0.33      2773\n",
      "         SD       0.45      0.32      0.37      1060\n",
      "          V       0.35      0.55      0.43       950\n",
      "\n",
      "avg / total       0.48      0.35      0.35      9288\n",
      "\n"
     ]
    }
   ],
   "source": [
    "## I copy pasted the whole code section of problem 2 in this cell\n",
    "\n",
    "# Step 1: vectorize speeches of train data\n",
    "# Step 2: instantiate and fit Bayes model\n",
    "text_clf = Pipeline([\n",
    "     ('vect', CountVectorizer()),\n",
    "     ('tfidf', TfidfTransformer()),\n",
    "     ('clf', MultinomialNB()),\n",
    "])\n",
    "X_train_balanced = balanced_data[\"words\"]\n",
    "y_train_balanced = balanced_data[\"party\"]\n",
    "\n",
    "# fit the model\n",
    "text_clf.fit(X_train_balanced , y_train_balanced)\n",
    "\n",
    "# make prediction\n",
    "predicted_balanced = text_clf.predict(test_data[\"words\"])\n",
    "pred_parties = np.unique(predicted_balanced)\n",
    "print(\"The parties predicted: {}\".format(pred_parties))\n",
    "print(\"The prediction includes {} parties.\".format(len(pred_parties)))\n",
    "\n",
    "# Step 3: Evaluate model\n",
    "# use classification report - precision, recall, F1 score, overfall accuracy\n",
    "mean_pred_balanced = round(np.mean(predicted_balanced == test_data[\"party\"]),3)\n",
    "print(\"The accuracy of the balanced data set is: {}\".format(mean_pred_balanced))\n",
    "print(classification_report(test_data[\"party\"], \n",
    "                                    predicted_balanced,\n",
    "                                    target_names=parties))"
   ]
  },
  {
   "cell_type": "markdown",
   "metadata": {},
   "source": [
    "Discuss your findings in a short text. Would you argue that undersampling make sense for the task of predicting the party of a speaker?"
   ]
  },
  {
   "cell_type": "markdown",
   "metadata": {},
   "source": [
    "The first thing to notice is that after the undersampling not only the party S and M were predicted, but all parties. \n",
    "Also the accuracy of the prediction has improved to 0.355. All other evaluation scores also improved.\n",
    "\n",
    "**Accordingly it can be said that undersampling helped to improve prediction.**"
   ]
  },
  {
   "cell_type": "markdown",
   "metadata": {},
   "source": [
    "## Problem 5: Confusion matrix"
   ]
  },
  {
   "cell_type": "markdown",
   "metadata": {},
   "source": [
    "A **confusion matrix** is a specific table layout that is **useful** when **analysing** the **performance of** a **classifier**. In this matrix, both the rows and the columns correspond to classes, and each cell $(i, j)$ states how many times a sample with **gold-standard class** $i$ was predicted as belonging to class $j$.\n",
    "\n",
    "In scitkit-learn, the **confusion matrix** of a classifier is computed by the **function** [`confusion_matrix`](https://scikit-learn.org/stable/modules/generated/sklearn.metrics.confusion_matrix.html).\n",
    "\n",
    "Your task is to use the confusion matrix to find, for each given party $p$ in the Riksdag, that other party $p'$ which the classifier that you trained in Problem&nbsp;4 most often confuses $p$ with when it predicts the party of a speaker."
   ]
  },
  {
   "cell_type": "markdown",
   "metadata": {},
   "source": [
    "Discuss your findings in a short text. Would you argue that undersampling make sense for the task of predicting the party of a speaker"
   ]
  },
  {
   "cell_type": "code",
   "execution_count": null,
   "metadata": {},
   "outputs": [],
   "source": [
    "# TODO: Write code here to solve Problem 5\n",
    "from sklearn.metrics import confusion_matrix"
   ]
  },
  {
   "cell_type": "code",
   "execution_count": 150,
   "metadata": {},
   "outputs": [],
   "source": [
    "def plot_confusion_matrix(y_true, y_pred, classes,\n",
    "                          normalize=False,\n",
    "                          title=None,\n",
    "                          cmap=plt.cm.Blues):\n",
    "    \"\"\"\n",
    "    This function prints and plots the confusion matrix.\n",
    "    Normalization can be applied by setting `normalize=True`.\n",
    "    \"\"\"\n",
    "    if not title:\n",
    "        if normalize:\n",
    "            title = 'Normalized confusion matrix'\n",
    "        else:\n",
    "            title = 'Confusion matrix, without normalization'\n",
    "\n",
    "    # Compute confusion matrix\n",
    "    cm = confusion_matrix(y_true, y_pred)\n",
    "    # Only use the labels that appear in the data\n",
    "    classes = classes\n",
    "    if normalize:\n",
    "        cm = cm.astype('float') / cm.sum(axis=1)[:, np.newaxis]\n",
    "        print(\"Normalized confusion matrix\")\n",
    "    else:\n",
    "        print('Confusion matrix, without normalization')\n",
    "\n",
    "    print(cm)\n",
    "\n",
    "    fig, ax = plt.subplots()\n",
    "    im = ax.imshow(cm, interpolation='nearest', cmap=cmap)\n",
    "    ax.figure.colorbar(im, ax=ax)\n",
    "    # We want to show all ticks...\n",
    "    ax.set(xticks=np.arange(cm.shape[1]),\n",
    "           yticks=np.arange(cm.shape[0]),\n",
    "           # ... and label them with the respective list entries\n",
    "           xticklabels=classes, yticklabels=classes,\n",
    "           title=title,\n",
    "           ylabel='True label',\n",
    "           xlabel='Predicted label')\n",
    "\n",
    "    # Rotate the tick labels and set their alignment.\n",
    "    plt.setp(ax.get_xticklabels(), rotation=45, ha=\"right\",\n",
    "             rotation_mode=\"anchor\")\n",
    "\n",
    "    # Loop over data dimensions and create text annotations.\n",
    "    fmt = '.2f' if normalize else 'd'\n",
    "    thresh = cm.max() / 2.\n",
    "    for i in range(cm.shape[0]):\n",
    "        for j in range(cm.shape[1]):\n",
    "            ax.text(j, i, format(cm[i, j], fmt),\n",
    "                    ha=\"center\", va=\"center\",\n",
    "                    color=\"white\" if cm[i, j] > thresh else \"black\")\n",
    "    fig.tight_layout()\n",
    "    return ax"
   ]
  },
  {
   "cell_type": "code",
   "execution_count": 152,
   "metadata": {},
   "outputs": [
    {
     "name": "stdout",
     "output_type": "stream",
     "text": [
      "Confusion matrix, without normalization\n",
      "[[259 109  50 121  33   6  31  62]\n",
      " [ 72 377  46 171  31  17  34  73]\n",
      " [ 57  69 235  70  25   5  19  80]\n",
      " [185 310 134 716  68  26  89 116]\n",
      " [ 71 121  50  97 266  56  37 111]\n",
      " [187 422 200 526 297 582 154 405]\n",
      " [ 93 187 126 158  33   7 337 119]\n",
      " [ 57 120  46 123  26  13  41 524]]\n"
     ]
    },
    {
     "data": {
      "image/png": "[encoded data removed]",
      "text/plain": [
       "<matplotlib.figure.Figure at 0x1a1d104160>"
      ]
     },
     "metadata": {
      "needs_background": "light"
     },
     "output_type": "display_data"
    }
   ],
   "source": [
    "plot_confusion_matrix(test_data[\"party\"], predicted_balanced, classes = parties)\n",
    "plt.show()"
   ]
  },
  {
   "cell_type": "markdown",
   "metadata": {},
   "source": [
    "** Interpretation **\n",
    "\n",
    "The Columns represent the prediction and the rows the true values. \n",
    "The higher the number, the darker the value, this helps to get an overview faster. \n",
    "The diagonal represents **true positive** values, which is generally the darkest colored. \n",
    "We're supposed to find out where the most common confusion occurred, so we're interested in dark fields that aren't in the diagonal. \n",
    "**It can be seen that the prediction of M when the classification was actually S was most often wrong.**\n",
    "In general, S was often not classified correctly. "
   ]
  },
  {
   "cell_type": "code",
   "execution_count": 153,
   "metadata": {},
   "outputs": [
    {
     "name": "stdout",
     "output_type": "stream",
     "text": [
      "Normalized confusion matrix\n",
      "[[0.38599106 0.16244411 0.07451565 0.18032787 0.04918033 0.00894188\n",
      "  0.0461997  0.0923994 ]\n",
      " [0.08769793 0.4591961  0.05602923 0.20828258 0.03775883 0.02070646\n",
      "  0.04141291 0.08891596]\n",
      " [0.10178571 0.12321429 0.41964286 0.125      0.04464286 0.00892857\n",
      "  0.03392857 0.14285714]\n",
      " [0.11253041 0.18856448 0.08150852 0.43552311 0.04136253 0.01581509\n",
      "  0.05413625 0.07055961]\n",
      " [0.08776267 0.14956737 0.0618047  0.11990111 0.32880099 0.06922126\n",
      "  0.04573548 0.13720643]\n",
      " [0.06743599 0.15218175 0.07212405 0.18968626 0.10710422 0.209881\n",
      "  0.05553552 0.14605121]\n",
      " [0.08773585 0.17641509 0.11886792 0.1490566  0.03113208 0.00660377\n",
      "  0.31792453 0.11226415]\n",
      " [0.06       0.12631579 0.04842105 0.12947368 0.02736842 0.01368421\n",
      "  0.04315789 0.55157895]]\n"
     ]
    },
    {
     "data": {
      "image/png": "[encoded data removed]",
      "text/plain": [
       "<matplotlib.figure.Figure at 0x10ffc5278>"
      ]
     },
     "metadata": {
      "needs_background": "light"
     },
     "output_type": "display_data"
    }
   ],
   "source": [
    "# Plot normalized confusion matrix\n",
    "plot_confusion_matrix(test_data[\"party\"], predicted_balanced, classes = parties, normalize=True,\n",
    "                      title='Normalized confusion matrix')\n",
    "plt.show()"
   ]
  },
  {
   "cell_type": "markdown",
   "metadata": {},
   "source": [
    "## Problem 6: Grid search"
   ]
  },
  {
   "cell_type": "markdown",
   "metadata": {},
   "source": [
    "Until now, you have been **using** the vectorizer and the Naive Bayes classifier with their **default hyperparameters**. When working with real-world applications, you would **want** to find settings for the **hyperparameters** that **maximize** the **performance** for the task at hand.\n",
    "\n",
    "Manually tweaking the hyperparameters of the various components of a vectorizer–classifier pipeline can be cumbersome. However, scikit-learn makes it possible to run an exhaustive search for the best hyperparameters over a grid of possible values. This method is known as **grid search**.\n",
    "\n",
    "The hyperparameters of a pipeline should never be tuned on the final test set. (Why would that be a bad idea?) Instead, one should either use a separate validation set, or run cross-validation over different folds. Here we will use cross-validation.\n",
    "\n",
    "**Implement** a **grid search** with **5-fold cross-validation** to **find** the **optimal parameters** in a grid defined by the following choices for the hyperparameters:\n",
    "\n",
    "* In the **vectorizer**, try a **set-of-words model** instead of the default bag-of-words model (two possible parameter values).\n",
    "* Also in the **vectorizer**, try extracting **$n$-grams** up to $n = 2$ (**two possible parameter values**).\n",
    "* In the **Naive Bayes classifier**, try using **additive smoothing** with $\\alpha \\in \\{1, 0{.}1\\}$ (two possible parameter values).\n",
    "\n",
    "Use the class [GridSearchCV](https://scikit-learn.org/stable/modules/generated/sklearn.model_selection.GridSearchCV.html) from the scikit-learn library. **Print** the results of your **best model**, along **with** the **parameter values** that yielded these results."
   ]
  },
  {
   "cell_type": "code",
   "execution_count": 154,
   "metadata": {},
   "outputs": [],
   "source": [
    "# TODO: Write code here to implement the grid search\n",
    "from sklearn.model_selection import GridSearchCV"
   ]
  },
  {
   "cell_type": "code",
   "execution_count": 193,
   "metadata": {},
   "outputs": [],
   "source": [
    "# set the parameters\n",
    "# - vectorizer binary=False/True\n",
    "# - vectorizer ngram_range =(1, 1)\n",
    "# - \n",
    "parameters = {\n",
    "    'vect__binary': (True, False),\n",
    "    'vect__ngram_range': [(1, 1), (1, 2)],\n",
    "    #'tfidf__use_idf': (True, False),\n",
    "    'clf__alpha': (1, 0.1),\n",
    "}"
   ]
  },
  {
   "cell_type": "code",
   "execution_count": 194,
   "metadata": {},
   "outputs": [],
   "source": [
    "gs_clf = GridSearchCV(text_clf, parameters, cv=5, iid=False, n_jobs=-1)"
   ]
  },
  {
   "cell_type": "code",
   "execution_count": 195,
   "metadata": {},
   "outputs": [],
   "source": [
    "gs_clf = gs_clf.fit(balanced_data.words, balanced_data.party)"
   ]
  },
  {
   "cell_type": "code",
   "execution_count": 197,
   "metadata": {},
   "outputs": [
    {
     "data": {
      "text/plain": [
       "GridSearchCV(cv=5, error_score='raise',\n",
       "       estimator=Pipeline(memory=None,\n",
       "     steps=[('vect', CountVectorizer(analyzer='word', binary=False, decode_error='strict',\n",
       "        dtype=<class 'numpy.int64'>, encoding='utf-8', input='content',\n",
       "        lowercase=True, max_df=1.0, max_features=None, min_df=1,\n",
       "        ngram_range=(1, 1), preprocessor=None, stop_words=None,\n",
       "        strip...inear_tf=False, use_idf=True)), ('clf', MultinomialNB(alpha=1.0, class_prior=None, fit_prior=True))]),\n",
       "       fit_params=None, iid=False, n_jobs=-1,\n",
       "       param_grid={'vect__binary': (True, False), 'vect__ngram_range': [(1, 1), (1, 2)], 'clf__alpha': (1, 0.1)},\n",
       "       pre_dispatch='2*n_jobs', refit=True, return_train_score='warn',\n",
       "       scoring=None, verbose=0)"
      ]
     },
     "execution_count": 197,
     "metadata": {},
     "output_type": "execute_result"
    }
   ],
   "source": [
    "gs_clf"
   ]
  },
  {
   "cell_type": "code",
   "execution_count": 198,
   "metadata": {},
   "outputs": [
    {
     "data": {
      "text/plain": [
       "0.6808056526806526"
      ]
     },
     "execution_count": 198,
     "metadata": {},
     "output_type": "execute_result"
    }
   ],
   "source": [
    "gs_clf.best_score_"
   ]
  },
  {
   "cell_type": "code",
   "execution_count": 199,
   "metadata": {},
   "outputs": [
    {
     "name": "stdout",
     "output_type": "stream",
     "text": [
      "clf__alpha: 0.1\n",
      "vect__binary: True\n",
      "vect__ngram_range: (1, 2)\n"
     ]
    }
   ],
   "source": [
    "for param_name in sorted(parameters.keys()):\n",
    "    print(\"%s: %r\" % (param_name, gs_clf.best_params_[param_name]))"
   ]
  },
  {
   "cell_type": "code",
   "execution_count": 200,
   "metadata": {},
   "outputs": [
    {
     "data": {
      "text/plain": [
       "array(['L', 'S', 'M', ..., 'S', 'M', 'S'], dtype='<U2')"
      ]
     },
     "execution_count": 200,
     "metadata": {},
     "output_type": "execute_result"
    }
   ],
   "source": [
    "# make prediction\n",
    "predicted_balanced_naivebayes = gs_clf.predict(test_data[\"words\"])\n",
    "predicted_balanced_naivebayes"
   ]
  },
  {
   "cell_type": "code",
   "execution_count": 219,
   "metadata": {
    "scrolled": true
   },
   "outputs": [
    {
     "name": "stdout",
     "output_type": "stream",
     "text": [
      "The accuracy of the balanced data set is: 0.411\n"
     ]
    }
   ],
   "source": [
    "# use classification report - precision, recall, F1 score, overfall accuracy\n",
    "mean_pred_balanced_naivebayes = round(np.mean(predicted_balanced_naivebayes == test_data[\"party\"]),3)\n",
    "print(\"The accuracy of the balanced data set is: {}\".format(mean_pred_balanced_naivebayes))\n"
   ]
  },
  {
   "cell_type": "code",
   "execution_count": 224,
   "metadata": {},
   "outputs": [
    {
     "name": "stdout",
     "output_type": "stream",
     "text": [
      "Confusion matrix, without normalization\n",
      "[[299  78  46  97  31  13  39  68]\n",
      " [ 61 376  45 153  41  23  50  72]\n",
      " [ 58  60 247  64  29   6  34  62]\n",
      " [213 270 141 707  73  34  90 116]\n",
      " [ 64  81  47  71 321  74  36 115]\n",
      " [170 293 179 357 398 867 117 392]\n",
      " [ 75 162 112 158  22  16 406 109]\n",
      " [ 48  80  39  96  28  15  47 597]]\n"
     ]
    },
    {
     "data": {
      "image/png": "[encoded data removed]",
      "text/plain": [
       "<matplotlib.figure.Figure at 0x1a1c04ccc0>"
      ]
     },
     "metadata": {
      "needs_background": "light"
     },
     "output_type": "display_data"
    }
   ],
   "source": [
    "plot_confusion_matrix(test_data[\"party\"], predicted_balanced_naivebayes, classes = parties)\n",
    "plt.show()"
   ]
  },
  {
   "cell_type": "markdown",
   "metadata": {},
   "source": [
    "If we would train the hyperparameters in the test set, we would lose the information from before."
   ]
  },
  {
   "cell_type": "markdown",
   "metadata": {},
   "source": [
    "## Problem 7: Try to improve your results"
   ]
  },
  {
   "cell_type": "markdown",
   "metadata": {},
   "source": [
    "Scikit-learn makes it easy to test different vectorizer–classifier pipelines – among other things, it **includes** different types of **logistic regression classifiers, support vector machines, and decision trees**. Browse the library to see which methods are supported.\n",
    "\n",
    "**Build** a **pipeline** that you find interesting, and use **grid search** to **find optimal settings for** the **hyperparameters**. **Print** the **results** of your **best model**. Did you manage to get better results than the ones that you obtained in Problem&nbsp;5? Answer with a short text."
   ]
  },
  {
   "cell_type": "code",
   "execution_count": 165,
   "metadata": {},
   "outputs": [],
   "source": [
    "# TODO: Write code here to search for a better model\n",
    "from sklearn.linear_model import LogisticRegression"
   ]
  },
  {
   "cell_type": "code",
   "execution_count": 180,
   "metadata": {},
   "outputs": [],
   "source": [
    "## I copy pasted the whole code section of problem 2 in this cell\n",
    "\n",
    "# Step 1: vectorize speeches of train data\n",
    "# Step 2: instantiate and fit Bayes model\n",
    "text_clf2 = Pipeline([\n",
    "     ('vect', CountVectorizer()),\n",
    "     ('tfidf', TfidfTransformer()),\n",
    "     ('clf', LogisticRegression()),\n",
    "])\n",
    "\n",
    "parameters = {\n",
    "    'vect__binary': (True, False),\n",
    "    'vect__ngram_range': [(1, 1), (1, 2)],\n",
    "    #'tfidf__use_idf': (True, False),\n",
    "    'clf__solver': ('newton-cg', 'lbfgs', 'liblinear'),\n",
    "}"
   ]
  },
  {
   "cell_type": "code",
   "execution_count": 181,
   "metadata": {},
   "outputs": [],
   "source": [
    "gs_clf2 = GridSearchCV(text_clf2, parameters, cv=5, iid=False, n_jobs=-1)"
   ]
  },
  {
   "cell_type": "code",
   "execution_count": 182,
   "metadata": {},
   "outputs": [],
   "source": [
    "gs_clf2 = gs_clf2.fit(balanced_data.words, balanced_data.party)"
   ]
  },
  {
   "cell_type": "code",
   "execution_count": 184,
   "metadata": {},
   "outputs": [
    {
     "data": {
      "text/plain": [
       "0.6592681623931623"
      ]
     },
     "execution_count": 184,
     "metadata": {},
     "output_type": "execute_result"
    }
   ],
   "source": [
    "gs_clf2.best_score_"
   ]
  },
  {
   "cell_type": "code",
   "execution_count": 186,
   "metadata": {},
   "outputs": [
    {
     "name": "stdout",
     "output_type": "stream",
     "text": [
      "clf__solver: 'newton-cg'\n",
      "vect__binary: True\n",
      "vect__ngram_range: (1, 2)\n"
     ]
    }
   ],
   "source": [
    "for param_name in sorted(parameters.keys()):\n",
    "    print(\"%s: %r\" % (param_name, gs_clf2.best_params_[param_name]))"
   ]
  },
  {
   "cell_type": "code",
   "execution_count": 189,
   "metadata": {},
   "outputs": [
    {
     "data": {
      "text/plain": [
       "array(['L', 'SD', 'MP', ..., 'S', 'M', 'S'], dtype=object)"
      ]
     },
     "execution_count": 189,
     "metadata": {},
     "output_type": "execute_result"
    }
   ],
   "source": [
    "# make prediction with the trained logistic regression classifier\n",
    "predicted_balanced_logisticregression = gs_clf2.predict(test_data[\"words\"])\n",
    "predicted_balanced_logisticregression"
   ]
  },
  {
   "cell_type": "code",
   "execution_count": 222,
   "metadata": {},
   "outputs": [
    {
     "name": "stdout",
     "output_type": "stream",
     "text": [
      "The accuracy of the logistic regression with the balanced data set is: 0.447\n"
     ]
    }
   ],
   "source": [
    "# use classification report - precision, recall, F1 score, overfall accuracy\n",
    "mean_pred_balanced_logisticregression = round(np.mean(predicted_balanced_logisticregression == test_data[\"party\"]),3)\n",
    "print(\"The accuracy of the logistic regression with the balanced data set is: {}\".format(mean_pred_balanced_logisticregression))\n"
   ]
  },
  {
   "cell_type": "code",
   "execution_count": 223,
   "metadata": {},
   "outputs": [
    {
     "name": "stdout",
     "output_type": "stream",
     "text": [
      "Confusion matrix, without normalization\n",
      "[[ 295   39   47   64   64   43   66   53]\n",
      " [  59  303   52  146   68   50   87   56]\n",
      " [  42   35  255   59   40   26   45   58]\n",
      " [ 174  162  151  570  150  104  185  148]\n",
      " [  35   46   38   30  385  145   63   67]\n",
      " [ 106  137  136  191  507 1193  234  269]\n",
      " [  63   68   79  103   52   31  597   67]\n",
      " [  47   57   45   85   45   33   84  554]]\n"
     ]
    },
    {
     "data": {
      "image/png": "[encoded data removed]",
      "text/plain": [
       "<matplotlib.figure.Figure at 0x1a1f21a240>"
      ]
     },
     "metadata": {
      "needs_background": "light"
     },
     "output_type": "display_data"
    }
   ],
   "source": [
    "plot_confusion_matrix(test_data[\"party\"], predicted_balanced_logisticregression, classes = parties)\n",
    "plt.show()"
   ]
  },
  {
   "cell_type": "markdown",
   "metadata": {},
   "source": [
    "**Interpretation**\n",
    "\n",
    "I'm comparing the results from 6 and 7.\n",
    "Thus I compare the results of the Naive Bayes classifier with regulated hyperparameters and the logistic regression classifier with regulated hyperparameters. \n",
    "In accruacy the logistic regression shows a better result. \n",
    "Accordingly, the confusion matrix of the logistic regression looks better. As before, the diagonal represents the **true positive** values. The other values around it look very clean, by this I mean that less misclassification is present. \n",
    "**So it can be said that logistic regression with regulated hyperparameters is the better model for this lab.**"
   ]
  },
  {
   "cell_type": "markdown",
   "metadata": {},
   "source": [
    "<div class=\"alert alert-info\">\n",
    "    Please read the section ‘General information’ on the ‘Labs’ page of the course website before submitting this notebook!\n",
    "</div>"
   ]
  },
  {
   "cell_type": "markdown",
   "metadata": {},
   "source": [
    "**Useful links**:\n",
    "\n",
    "Theory\n",
    "\n",
    "https://medium.com/@paritosh_30025/natural-language-processing-text-data-vectorization-af2520529cf7\n",
    "https://machinelearningmastery.com/prepare-text-data-machine-learning-scikit-learn/\n",
    "https://www.datacamp.com/community/tutorials/naive-bayes-scikit-learn\n",
    "https://medium.com/dunder-data/selecting-subsets-of-data-in-pandas-6fcd0170be9c\n",
    "\n",
    "Sklearn\n",
    "\n",
    "https://scikit-learn.org/stable/tutorial/text_analytics/working_with_text_data.html\n",
    "https://scikit-learn.org/stable/modules/feature_extraction.html\n",
    "https://scikit-learn.org/stable/modules/generated/sklearn.feature_extraction.text.CountVectorizer.html\n",
    "https://scikit-learn.org/stable/modules/generated/sklearn.feature_extraction.text.TfidfVectorizer.html\n",
    "https://scikit-learn.org/stable/modules/generated/sklearn.metrics.classification_report.html\n",
    "https://scikit-learn.org/stable/modules/generated/sklearn.metrics.confusion_matrix.html\n",
    "https://scikit-learn.org/stable/auto_examples/model_selection/plot_confusion_matrix.html#sphx-glr-auto-examples-model-selection-plot-confusion-matrix-py\n",
    "https://scikit-learn.org/stable/modules/naive_bayes.html#multinomial-naive-bayes\n",
    "https://scikit-learn.org/stable/modules/generated/sklearn.naive_bayes.MultinomialNB.html#sklearn.naive_bayes.MultinomialNB\n",
    "https://scikit-learn.org/stable/modules/generated/sklearn.linear_model.LogisticRegression.html\n",
    "https://scikit-learn.org/stable/modules/generated/sklearn.pipeline.Pipeline.html\n",
    "https://scikit-learn.org/stable/modules/generated/sklearn.model_selection.GridSearchCV.html\n",
    "\n",
    "\n",
    "Evaluation\n",
    "\n",
    "https://developers.google.com/machine-learning/crash-course/classification/precision-and-recall\n",
    "\n",
    "Undersampling\n",
    "\n",
    "https://towardsdatascience.com/sampling-techniques-for-extremely-imbalanced-data-part-i-under-sampling-a8dbc3d8d6d8\n",
    "https://www.kaggle.com/rafjaa/resampling-strategies-for-imbalanced-datasets\n",
    "\n",
    "Pipeline\n",
    "\n",
    "https://towardsdatascience.com/3-basic-approaches-in-bag-of-words-which-are-better-than-word-embeddings-c2cbc7398016"
   ]
  }
 ],
 "metadata": {
  "kernelspec": {
   "display_name": "Python 3",
   "language": "python",
   "name": "python3"
  },
  "language_info": {
   "codemirror_mode": {
    "name": "ipython",
    "version": 3
   },
   "file_extension": ".py",
   "mimetype": "text/x-python",
   "name": "python",
   "nbconvert_exporter": "python",
   "pygments_lexer": "ipython3",
   "version": "3.6.8"
  }
 },
 "nbformat": 4,
 "nbformat_minor": 2
}
