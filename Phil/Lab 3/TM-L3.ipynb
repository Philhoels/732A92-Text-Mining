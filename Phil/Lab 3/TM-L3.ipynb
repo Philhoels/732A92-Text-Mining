{
 "cells": [
  {
   "cell_type": "markdown",
   "metadata": {},
   "source": [
    "# L3: Text clustering and topic modelling"
   ]
  },
  {
   "cell_type": "markdown",
   "metadata": {},
   "source": [
    "**Text clustering groups documents** in such a way that documents within a group are **more &lsquo;similar&rsquo; to other documents in the cluster** than to documents not in the cluster. The exact definition of what &lsquo;similar&rsquo; means in this context varies across applications and clustering algorithms.\n",
    "\n",
    "In this lab you will **experiment with** both **hard and soft clustering** techniques. More specifically, in the first part you will be using the **$k$-means** algorithm, and in the second part you will be using a topic model based on the **Latent Dirichlet Allocation (LDA)**."
   ]
  },
  {
   "cell_type": "code",
   "execution_count": 161,
   "metadata": {},
   "outputs": [],
   "source": [
    "# a list of all imports\n",
    "import pandas as pd\n",
    "import bz2\n",
    "\n",
    "from sklearn.feature_extraction.text import TfidfVectorizer\n",
    "from sklearn.cluster import KMeans\n",
    "import numpy as np\n",
    "import matplotlib.pyplot as plt"
   ]
  },
  {
   "cell_type": "markdown",
   "metadata": {},
   "source": [
    "## Hard clustering data set"
   ]
  },
  {
   "cell_type": "markdown",
   "metadata": {},
   "source": [
    "The **raw data** for the **hard clustering** part of this lab is a collection of **product reviews**. We have **preprocessed** the **data by tokenization and lowercasing**."
   ]
  },
  {
   "cell_type": "code",
   "execution_count": 162,
   "metadata": {},
   "outputs": [],
   "source": [
    "import pandas as pd\n",
    "import bz2\n",
    "\n",
    "with bz2.open(\"reviews.json.bz2\") as source:\n",
    "    df = pd.read_json(source)"
   ]
  },
  {
   "cell_type": "markdown",
   "metadata": {},
   "source": [
    "When you inspect the data frame, you can see that there are **three labelled columns**: `category` (the product category), `sentiment` (whether the product review was classified as &lsquo;positive&rsquo; or &lsquo;negative&rsquo; towards the product), and `text` (the space-separated text of the review)."
   ]
  },
  {
   "cell_type": "code",
   "execution_count": 163,
   "metadata": {
    "scrolled": false
   },
   "outputs": [
    {
     "data": {
      "text/html": [
       "<div>\n",
       "<style scoped>\n",
       "    .dataframe tbody tr th:only-of-type {\n",
       "        vertical-align: middle;\n",
       "    }\n",
       "\n",
       "    .dataframe tbody tr th {\n",
       "        vertical-align: top;\n",
       "    }\n",
       "\n",
       "    .dataframe thead th {\n",
       "        text-align: right;\n",
       "    }\n",
       "</style>\n",
       "<table border=\"1\" class=\"dataframe\">\n",
       "  <thead>\n",
       "    <tr style=\"text-align: right;\">\n",
       "      <th></th>\n",
       "      <th>category</th>\n",
       "      <th>sentiment</th>\n",
       "      <th>text</th>\n",
       "    </tr>\n",
       "  </thead>\n",
       "  <tbody>\n",
       "    <tr>\n",
       "      <th>0</th>\n",
       "      <td>music</td>\n",
       "      <td>neg</td>\n",
       "      <td>i bought this album because i loved the title ...</td>\n",
       "    </tr>\n",
       "    <tr>\n",
       "      <th>1</th>\n",
       "      <td>music</td>\n",
       "      <td>neg</td>\n",
       "      <td>i was misled and thought i was buying the enti...</td>\n",
       "    </tr>\n",
       "    <tr>\n",
       "      <th>2</th>\n",
       "      <td>books</td>\n",
       "      <td>neg</td>\n",
       "      <td>i have introduced many of my ell , high school...</td>\n",
       "    </tr>\n",
       "    <tr>\n",
       "      <th>3</th>\n",
       "      <td>books</td>\n",
       "      <td>pos</td>\n",
       "      <td>anything you purchase in the left behind serie...</td>\n",
       "    </tr>\n",
       "    <tr>\n",
       "      <th>4</th>\n",
       "      <td>dvd</td>\n",
       "      <td>pos</td>\n",
       "      <td>i loved these movies , and i cant wiat for the...</td>\n",
       "    </tr>\n",
       "  </tbody>\n",
       "</table>\n",
       "</div>"
      ],
      "text/plain": [
       "  category sentiment                                               text\n",
       "0    music       neg  i bought this album because i loved the title ...\n",
       "1    music       neg  i was misled and thought i was buying the enti...\n",
       "2    books       neg  i have introduced many of my ell , high school...\n",
       "3    books       pos  anything you purchase in the left behind serie...\n",
       "4      dvd       pos  i loved these movies , and i cant wiat for the..."
      ]
     },
     "execution_count": 163,
     "metadata": {},
     "output_type": "execute_result"
    }
   ],
   "source": [
    "df.head()"
   ]
  },
  {
   "cell_type": "code",
   "execution_count": 164,
   "metadata": {},
   "outputs": [
    {
     "name": "stdout",
     "output_type": "stream",
     "text": [
      "['books' 'camera' 'dvd' 'health' 'music' 'software']\n",
      "Length: 6\n"
     ]
    }
   ],
   "source": [
    "# check categories\n",
    "print(np.unique(df.category))\n",
    "print(\"Length: {}\".format(len(np.unique(df.category))))"
   ]
  },
  {
   "cell_type": "markdown",
   "metadata": {},
   "source": [
    "## Problem 1: K-means clustering"
   ]
  },
  {
   "cell_type": "markdown",
   "metadata": {},
   "source": [
    "Your first task is to** cluster** the **product review** data **using** a **tf–idf vectorizer** and a **$k$-means clusterer**."
   ]
  },
  {
   "cell_type": "markdown",
   "metadata": {},
   "source": [
    "Start by doing the vectorization. In connection with vectorization, you should also **filter out** standard **English stop words**. While you could use [spaCy](https://spacy.io/) for this task, here it suffices to use the word list implemented in [TfidfVectorizer](https://scikit-learn.org/stable/modules/generated/sklearn.feature_extraction.text.TfidfVectorizer.html)."
   ]
  },
  {
   "cell_type": "code",
   "execution_count": 165,
   "metadata": {},
   "outputs": [],
   "source": [
    "from sklearn.feature_extraction.text import TfidfVectorizer\n",
    "\n",
    "# init vectorizer\n",
    "vectorizer = TfidfVectorizer(stop_words='english')\n",
    "reviews = vectorizer.fit_transform(df.text)"
   ]
  },
  {
   "cell_type": "markdown",
   "metadata": {},
   "source": [
    "Test your vectorization by running the following code cell:"
   ]
  },
  {
   "cell_type": "code",
   "execution_count": 166,
   "metadata": {},
   "outputs": [
    {
     "data": {
      "text/plain": [
       "(11914, 46619)"
      ]
     },
     "execution_count": 166,
     "metadata": {},
     "output_type": "execute_result"
    }
   ],
   "source": [
    "reviews.shape"
   ]
  },
  {
   "cell_type": "markdown",
   "metadata": {},
   "source": [
    "If you used the **English stop** word list from scikit-learn, then the resulting vocabulary should have 46,619 entries."
   ]
  },
  {
   "cell_type": "markdown",
   "metadata": {},
   "source": [
    "Next, **cluster the vectorized data**. Before doing so, you should **read** the **documentation** of the [KMeans](https://scikit-learn.org/stable/modules/generated/sklearn.cluster.KMeans.html) class, which is scikit-learn&rsquo;s implementation of the $k$-means algorithm. As you can see, this **class has several parameters that you can tweak**. For now, the only parameter that you will have to **set** is the **number of clusters**. We **recommend** that you choose $k=3$.\n",
    "\n",
    "**Tip:** Training $k$-means models will take some time. To **speed things up**, you can use the **`n_init` parameter** to control the **number of times** that the clustering is **re-computed** with different initial values. The **default** value for this parameter is **10**; here and in the rest of this lab, you may want to **set** this to a **lower** value."
   ]
  },
  {
   "cell_type": "code",
   "execution_count": 167,
   "metadata": {},
   "outputs": [
    {
     "data": {
      "text/plain": [
       "KMeans(algorithm='auto', copy_x=True, init='k-means++', max_iter=300,\n",
       "    n_clusters=3, n_init=3, n_jobs=1, precompute_distances='auto',\n",
       "    random_state=13, tol=0.0001, verbose=0)"
      ]
     },
     "execution_count": 167,
     "metadata": {},
     "output_type": "execute_result"
    }
   ],
   "source": [
    "from sklearn.cluster import KMeans\n",
    "# init kmean object\n",
    "k_cluster = 3\n",
    "\n",
    "# random_state - so my group partner and I can compare\n",
    "kmeans_p1 = KMeans(n_clusters=k_cluster, n_init=3,  random_state=13) \n",
    "kmeans_p1.fit(reviews)"
   ]
  },
  {
   "cell_type": "markdown",
   "metadata": {},
   "source": [
    "To **sanity-check** your clustering, **create** a **bar plot** with the number of documents per cluster."
   ]
  },
  {
   "cell_type": "code",
   "execution_count": 170,
   "metadata": {
    "scrolled": true
   },
   "outputs": [
    {
     "name": "stdout",
     "output_type": "stream",
     "text": [
      "[0 0 0 ... 2 2 2]\n",
      "<class 'numpy.ndarray'>\n"
     ]
    }
   ],
   "source": [
    "# check labels\n",
    "print(kmeans_p1.labels_)\n",
    "print(type(kmeans_p1.labels_))"
   ]
  },
  {
   "cell_type": "code",
   "execution_count": 171,
   "metadata": {},
   "outputs": [
    {
     "data": {
      "text/plain": [
       "0    6031\n",
       "2    4805\n",
       "1    1078\n",
       "dtype: int64"
      ]
     },
     "execution_count": 171,
     "metadata": {},
     "output_type": "execute_result"
    }
   ],
   "source": [
    "# convert array to series, so we can use value_counts()\n",
    "cluster_count = pd.Series(kmeans_p1.labels_) \n",
    "cluster_count = cluster_count.value_counts()\n",
    "\n",
    "# check the count of the clusters\n",
    "cluster_count"
   ]
  },
  {
   "cell_type": "code",
   "execution_count": 172,
   "metadata": {},
   "outputs": [
    {
     "data": {
      "image/png": "[encoded data removed]",
      "text/plain": [
       "<matplotlib.figure.Figure at 0x1a1ec3d6d8>"
      ]
     },
     "metadata": {
      "needs_background": "light"
     },
     "output_type": "display_data"
    }
   ],
   "source": [
    "cluster_count.plot(kind=\"bar\")\n",
    "plt.xlabel(\"Cluster\")\n",
    "plt.ylabel(\"Counts\")\n",
    "plt.title(\"KMeans cluster counts\", y=1.02)\n",
    "plt.show()"
   ]
  },
  {
   "cell_type": "markdown",
   "metadata": {},
   "source": [
    "Note that sizes may vary considerable between clusters and among different random seeds."
   ]
  },
  {
   "cell_type": "markdown",
   "metadata": {},
   "source": [
    "## Problem 2: Summarize clusters"
   ]
  },
  {
   "cell_type": "markdown",
   "metadata": {},
   "source": [
    "Once you have a clustering, you can try to see whether it is meaningful. One **useful technique** in that context is to generate a **summary** for **each cluster** by **extracting** the **$n$ highest-weighted terms** from the centroid of each cluster. Your next task is to implement this approach.\n",
    "\n",
    "**Hint:** You will need to **construct** an **&lsquo;inverted vocabulary&rsquo;** that allows you to map from the index of a term back to the original term."
   ]
  },
  {
   "cell_type": "markdown",
   "metadata": {},
   "source": [
    "### Testing start\n",
    "#### This part is just testing\n"
   ]
  },
  {
   "cell_type": "code",
   "execution_count": 173,
   "metadata": {},
   "outputs": [],
   "source": [
    "# save kmeans object for this specific exercise\n",
    "# \n",
    "kmeans_p2 = kmeans_p1\n",
    "cluster_centers = kmeans_p2.cluster_centers_"
   ]
  },
  {
   "cell_type": "code",
   "execution_count": 180,
   "metadata": {},
   "outputs": [
    {
     "name": "stdout",
     "output_type": "stream",
     "text": [
      "[[3.05042594e-04 5.28391140e-04 0.00000000e+00 ... 4.45502443e-05\n",
      "  3.44213882e-05 2.35197077e-05]\n",
      " [2.07289830e-03 9.97789218e-04 0.00000000e+00 ... 0.00000000e+00\n",
      "  0.00000000e+00 0.00000000e+00]\n",
      " [1.42649530e-03 8.37028586e-04 5.37167764e-05 ... 0.00000000e+00\n",
      "  0.00000000e+00 0.00000000e+00]]\n",
      "ncol: 3\n",
      "nrow: 46619\n"
     ]
    }
   ],
   "source": [
    "# check Coordinates of cluster centers\n",
    "print(cluster_centers)\n",
    "\n",
    "# we have to find the index of the max k values of each array\n",
    "\n",
    "# check dimension of the nested array\n",
    "print(\"ncol: {}\".format(len(cluster_centers)))\n",
    "ncol = len(cluster_centers)\n",
    "print(\"nrow: {}\".format(len(cluster_centers[0])))\n",
    "nrow = len(cluster_centers[0])"
   ]
  },
  {
   "cell_type": "code",
   "execution_count": 104,
   "metadata": {
    "scrolled": true
   },
   "outputs": [
    {
     "data": {
      "text/plain": [
       "{'bought': 5852,\n",
       " 'album': 2193,\n",
       " 'loved': 24915,\n",
       " 'title': 42017,\n",
       " 'song': 38646,\n",
       " 'great': 18604,\n",
       " 'bad': 4137,\n",
       " 'rest': 34910,\n",
       " 'right': 35298,\n",
       " 'songs': 38651,\n",
       " 'just': 22961,\n",
       " 'filler': 16212,\n",
       " 'worth': 46001,\n",
       " 'money': 27240,\n",
       " 'paid': 29992,\n",
       " 'shameless': 37262,\n",
       " 'bubblegum': 6359,\n",
       " 'oversentimentalized': 29829,\n",
       " 'depressing': 11631,\n",
       " 'tripe': 42711,\n",
       " 'kenny': 23154,\n",
       " 'chesney': 7857,\n",
       " 'popular': 31744,\n",
       " 'artist': 3360,\n",
       " 'result': 34949,\n",
       " 'cookie': 9734,\n",
       " 'cutter': 10712,\n",
       " 'category': 7338,\n",
       " 'nashville': 27940,\n",
       " 'music': 27714,\n",
       " 'scene': 36425,\n",
       " 'gotta': 18392,\n",
       " 'pump': 32971,\n",
       " 'albums': 2195,\n",
       " 'record': 33960,\n",
       " 'company': 8952,\n",
       " 'lining': 24480,\n",
       " 'pockets': 31539,\n",
       " 'suckers': 40228,\n",
       " 'buying': 6662,\n",
       " 'garbage': 17633,\n",
       " 'perpetuate': 30791,\n",
       " 'coming': 8846,\n",
       " 'town': 42319,\n",
       " 'll': 24627,\n",
       " 'soapbox': 38464,\n",
       " 'country': 10025,\n",
       " 'really': 33718,\n",
       " 'needs': 28101,\n",
       " 'roots': 35625,\n",
       " 'stop': 39740,\n",
       " 'pop': 31719,\n",
       " 'nonsense': 28552,\n",
       " 'considered': 9445,\n",
       " 'mainstream': 25378,\n",
       " 'different': 12073,\n",
       " 'things': 41675,\n",
       " 'misled': 26964,\n",
       " 'thought': 41736,\n",
       " 'entire': 14541,\n",
       " 'cd': 7423,\n",
       " 'contains': 9540,\n",
       " 'introduced': 22081,\n",
       " 'ell': 14030,\n",
       " 'high': 19922,\n",
       " 'school': 36485,\n",
       " 'students': 39997,\n",
       " 'lois': 24736,\n",
       " 'lowery': 24952,\n",
       " 'depth': 11641,\n",
       " 'characters': 7683,\n",
       " 'brilliant': 6174,\n",
       " 'writer': 46084,\n",
       " 'capable': 7004,\n",
       " 'inspiring': 21729,\n",
       " 'fierce': 16168,\n",
       " 'passion': 30326,\n",
       " 'readers': 33672,\n",
       " 'encounter': 14302,\n",
       " 'shocking': 37472,\n",
       " 'details': 11806,\n",
       " 'utopian': 44072,\n",
       " 'worlds': 45974,\n",
       " 'anxious': 2903,\n",
       " 'read': 33667,\n",
       " 'companion': 8949,\n",
       " 'novel': 28682,\n",
       " 'planned': 31353,\n",
       " 'share': 37296,\n",
       " 'class': 8257,\n",
       " 'january': 22511,\n",
       " 'series': 37078,\n",
       " 'written': 46092,\n",
       " '6th': 966,\n",
       " 'graders': 18451,\n",
       " 'older': 29125,\n",
       " 'book': 5695,\n",
       " 'simplicity': 37825,\n",
       " 'message': 26476,\n",
       " 'language': 23731,\n",
       " 'writing': 46089,\n",
       " 'style': 40059,\n",
       " 'inspire': 21725,\n",
       " 'sadly': 36009,\n",
       " 'disappointed': 12291,\n",
       " 'purchase': 33027,\n",
       " 'left': 24048,\n",
       " 'excellent': 15124,\n",
       " 'books': 5716,\n",
       " 'close': 8444,\n",
       " 'bible': 5052,\n",
       " 'set': 37119,\n",
       " 'amazon': 2471,\n",
       " 'shopping': 37503,\n",
       " 'site': 37922,\n",
       " 'ship': 37439,\n",
       " 'fast': 15848,\n",
       " 'recommend': 33916,\n",
       " 'christian': 8046,\n",
       " 'wanting': 45019,\n",
       " 'know': 23417,\n",
       " 'expect': 15298,\n",
       " 'return': 35037,\n",
       " 'christ': 8040,\n",
       " 'fiction': 16143,\n",
       " 'makes': 25420,\n",
       " 'good': 18315,\n",
       " 'point': 31570,\n",
       " 'movies': 27530,\n",
       " 'wiat': 45563,\n",
       " 'funny': 17412,\n",
       " 'suitable': 40285,\n",
       " 'chilren': 7923,\n",
       " 'experience': 15324,\n",
       " 'camera': 6890,\n",
       " 'takes': 40978,\n",
       " 'pictures': 31125,\n",
       " 'zoom': 46573,\n",
       " 'lens': 24143,\n",
       " 'delicate': 11420,\n",
       " 'breaks': 6056,\n",
       " 'easily': 13634,\n",
       " 'stops': 39748,\n",
       " 'extending': 15440,\n",
       " 'clicking': 8373,\n",
       " 'noise': 28502,\n",
       " 'happened': 19271,\n",
       " 'accidentally': 1420,\n",
       " 'turned': 42935,\n",
       " 'pants': 30123,\n",
       " 'pocket': 31534,\n",
       " 'rendering': 34552,\n",
       " 'unusable': 43865,\n",
       " 'brother': 6276,\n",
       " 'friends': 17205,\n",
       " 'experienced': 15325,\n",
       " 'similar': 37797,\n",
       " 'problem': 32449,\n",
       " 'ex': 15070,\n",
       " 's500': 35928,\n",
       " 'dropped': 13237,\n",
       " 'extended': 15437,\n",
       " 'looking': 24788,\n",
       " 'like': 24390,\n",
       " 'tell': 41321,\n",
       " 'second': 36790,\n",
       " 'star': 39419,\n",
       " 'wars': 45082,\n",
       " 've': 44274,\n",
       " 'jedi': 22577,\n",
       " 'search': 36755,\n",
       " 'actually': 1608,\n",
       " 'liked': 24392,\n",
       " 'drew': 13180,\n",
       " 'lore': 24831,\n",
       " 'decent': 11147,\n",
       " 'groan': 18724,\n",
       " 'places': 31327,\n",
       " 'felt': 16041,\n",
       " 'compelled': 8987,\n",
       " 'create': 10234,\n",
       " 'account': 1459,\n",
       " 'little': 24588,\n",
       " 'rant': 33513,\n",
       " 'warned': 45058,\n",
       " 'contain': 9534,\n",
       " 'spoilers': 39085,\n",
       " 'thusly': 41848,\n",
       " 'wasted': 45112,\n",
       " 'overly': 29793,\n",
       " 'long': 24761,\n",
       " 'descriptions': 11701,\n",
       " 'reminds': 34504,\n",
       " 'britain': 6198,\n",
       " 'sketch': 37976,\n",
       " 'woman': 45857,\n",
       " 'author': 3809,\n",
       " 'dictating': 12017,\n",
       " 'new': 28257,\n",
       " 'starts': 39465,\n",
       " 'reading': 33676,\n",
       " 'make': 25412,\n",
       " 'space': 38817,\n",
       " 'mind': 26780,\n",
       " 'story': 39765,\n",
       " '20': 413,\n",
       " 'odd': 29010,\n",
       " 'pages': 29987,\n",
       " 'shorter': 37524,\n",
       " 'comes': 8828,\n",
       " 'bizarre': 5243,\n",
       " 'reason': 33745,\n",
       " 'taken': 40973,\n",
       " 'opportunity': 29328,\n",
       " 'ground': 18757,\n",
       " 'constantly': 9487,\n",
       " 'relating': 34359,\n",
       " 'films': 16233,\n",
       " 'example': 15099,\n",
       " 'wedge': 45262,\n",
       " 'scientist': 36528,\n",
       " 'forest': 16859,\n",
       " 'resort': 34863,\n",
       " 'planet': 31348,\n",
       " 'meet': 26251,\n",
       " 'alien': 2252,\n",
       " 'ambassador': 2474,\n",
       " 'says': 36325,\n",
       " 'lines': 24465,\n",
       " 'cantina': 6989,\n",
       " 'mos': 27416,\n",
       " 'eisley': 13894,\n",
       " 'luke': 25040,\n",
       " 'met': 26498,\n",
       " 'han': 19189,\n",
       " 'chewbacca': 7872,\n",
       " 'did': 12026,\n",
       " 'brush': 6322,\n",
       " 'history': 20049,\n",
       " 'gahhhhhhh': 17534,\n",
       " 'need': 28091,\n",
       " 'bangs': 4296,\n",
       " 'head': 19544,\n",
       " 'desk': 11737,\n",
       " 'does': 12823,\n",
       " 'far': 15787,\n",
       " 'stick': 39627,\n",
       " 'neck': 28083,\n",
       " 'come': 8816,\n",
       " 'proving': 32806,\n",
       " 'true': 42794,\n",
       " 'telling': 41325,\n",
       " 'certain': 7537,\n",
       " 'admiral': 1751,\n",
       " 'daala': 10787,\n",
       " 'military': 26728,\n",
       " 'skills': 37993,\n",
       " 'quick': 33251,\n",
       " 'thinking': 41682,\n",
       " 'doing': 12850,\n",
       " 'reviewing': 35110,\n",
       " 'recordings': 33965,\n",
       " 'speeches': 38949,\n",
       " 'given': 18069,\n",
       " 'tarkin': 41094,\n",
       " 'tactics': 40942,\n",
       " 'following': 16762,\n",
       " 'letter': 24199,\n",
       " 'losing': 24857,\n",
       " 'end': 14327,\n",
       " 'destroyer': 11792,\n",
       " 'live': 24596,\n",
       " 'reputation': 34741,\n",
       " 'successful': 40204,\n",
       " 'campaigns': 6905,\n",
       " 'inevitable': 21413,\n",
       " 'happens': 19276,\n",
       " 'rebellion': 33773,\n",
       " 'win': 45674,\n",
       " 'goes': 18250,\n",
       " 'waste': 45111,\n",
       " 'absolutely': 1327,\n",
       " 'idea': 20757,\n",
       " 'having': 19466,\n",
       " 'academy': 1379,\n",
       " 'trilogy': 42692,\n",
       " 'original': 29465,\n",
       " 'training': 42406,\n",
       " 'holding': 20142,\n",
       " 'hands': 19226,\n",
       " 'sense': 36979,\n",
       " 'meant': 26178,\n",
       " 'sci': 36520,\n",
       " 'fi': 16128,\n",
       " 'better': 5004,\n",
       " 'incensed': 21181,\n",
       " 'boring': 5793,\n",
       " 'motivation': 27452,\n",
       " 'starting': 39461,\n",
       " 'place': 31322,\n",
       " 'grown': 18784,\n",
       " 'started': 39457,\n",
       " 'promisingly': 32626,\n",
       " 'learnt': 24001,\n",
       " 'dark': 10918,\n",
       " 'love': 24911,\n",
       " 'powerful': 31956,\n",
       " 'cool': 9740,\n",
       " 'got': 18383,\n",
       " 'stage': 39333,\n",
       " 'dread': 13140,\n",
       " 'parts': 30297,\n",
       " 'dull': 13371,\n",
       " 'trainee': 42403,\n",
       " 'needed': 28093,\n",
       " 'character': 7673,\n",
       " 'development': 11876,\n",
       " 'dimensional': 12166,\n",
       " 'entering': 14511,\n",
       " 'surveying': 40577,\n",
       " 'noting': 28659,\n",
       " 'progressing': 32583,\n",
       " 'reviewers': 35108,\n",
       " 'said': 36038,\n",
       " 'rogue': 35531,\n",
       " 'gains': 17544,\n",
       " 'knowledge': 23422,\n",
       " 'building': 6446,\n",
       " 'super': 40381,\n",
       " 'lightsabre': 24376,\n",
       " 'btw': 6353,\n",
       " 'discovered': 12376,\n",
       " 'burnt': 6574,\n",
       " 'death': 11086,\n",
       " 'quarters': 33210,\n",
       " 'meditates': 26235,\n",
       " 'grr': 18789,\n",
       " 'okay': 29116,\n",
       " 'strength': 39880,\n",
       " 'car': 7068,\n",
       " 'accident': 1417,\n",
       " 'look': 24782,\n",
       " 'shaver': 37332,\n",
       " 'private': 32412,\n",
       " 'area': 3184,\n",
       " 'key': 23178,\n",
       " 'getting': 17929,\n",
       " 'best': 4975,\n",
       " 'results': 34955,\n",
       " 'trim': 42693,\n",
       " 'longer': 24763,\n",
       " 'hairs': 19101,\n",
       " 'scissors': 36536,\n",
       " 'largest': 23776,\n",
       " 'guard': 18847,\n",
       " 'pulling': 32956,\n",
       " 'enable': 14256,\n",
       " 'foil': 16729,\n",
       " 'work': 45937,\n",
       " 'able': 1272,\n",
       " 'job': 22728,\n",
       " 'shave': 37328,\n",
       " 'claimed': 8204,\n",
       " 'use': 44007,\n",
       " 'mangroomer': 25552,\n",
       " 'perfect': 30707,\n",
       " 'hair': 19085,\n",
       " 'elongated': 14054,\n",
       " 'handle': 19219,\n",
       " 'product': 32505,\n",
       " 'say': 36320,\n",
       " 'products': 32513,\n",
       " 'coupled': 10036,\n",
       " 'cover': 10068,\n",
       " 'bases': 4444,\n",
       " 'men': 26366,\n",
       " 'grooming': 18736,\n",
       " 'body': 5565,\n",
       " 'highly': 19941,\n",
       " 'manscaping': 25613,\n",
       " 'finishing': 16292,\n",
       " 'write': 46082,\n",
       " 'personal': 30820,\n",
       " 'connections': 9380,\n",
       " 'blackwater': 5289,\n",
       " 'employees': 14227,\n",
       " 'sided': 37687,\n",
       " 'based': 4437,\n",
       " 'facts': 15627,\n",
       " 'writers': 46085,\n",
       " 'purely': 33036,\n",
       " 'misfortunes': 26938,\n",
       " 'postive': 31875,\n",
       " 'stories': 39758,\n",
       " 'hear': 19594,\n",
       " 'everyday': 15011,\n",
       " 'intimidated': 22041,\n",
       " 'tolstoy': 42110,\n",
       " 'dostoevsky': 12994,\n",
       " 'masterpieces': 25884,\n",
       " 'consider': 9438,\n",
       " 'instead': 21758,\n",
       " 'turgenev': 42920,\n",
       " 'fathers': 15876,\n",
       " 'sons': 38668,\n",
       " 'course': 10046,\n",
       " 'masterpiece': 25883,\n",
       " 'russian': 35866,\n",
       " 'literature': 24567,\n",
       " 'themes': 41584,\n",
       " 'timeless': 41935,\n",
       " 'relatable': 34354,\n",
       " 'modern': 27132,\n",
       " 'culture': 10601,\n",
       " 'family': 15740,\n",
       " 'relationships': 34365,\n",
       " 'romance': 35558,\n",
       " 'philosophy': 30995,\n",
       " 'recommended': 33921,\n",
       " 'try': 42835,\n",
       " 'war': 45025,\n",
       " 'peace': 30501,\n",
       " 'crime': 10320,\n",
       " 'punishment': 32998,\n",
       " 'martin': 25796,\n",
       " 'short': 37509,\n",
       " 'priceless': 32320,\n",
       " 'movie': 27522,\n",
       " 'enjoyed': 14441,\n",
       " 'minute': 26872,\n",
       " 'certified': 7545,\n",
       " 'information': 21509,\n",
       " 'systems': 40886,\n",
       " 'security': 36816,\n",
       " 'professional': 32531,\n",
       " 'definitively': 11334,\n",
       " 'state': 39475,\n",
       " 'covered': 10070,\n",
       " 'whatsoever': 45422,\n",
       " 'glowing': 18185,\n",
       " 'reviews': 35112,\n",
       " 'loss': 24858,\n",
       " 'aggrevating': 2015,\n",
       " 'subtitle': 40170,\n",
       " 'integrated': 21831,\n",
       " 'approach': 3073,\n",
       " 'organization': 29432,\n",
       " 'lacks': 23623,\n",
       " 'effective': 13820,\n",
       " 'integration': 21834,\n",
       " 'techniques': 41239,\n",
       " 'address': 1686,\n",
       " 'tries': 42672,\n",
       " 'half': 19123,\n",
       " 'hearted': 19615,\n",
       " 'case': 7252,\n",
       " 'fabric': 15579,\n",
       " 'softener': 38526,\n",
       " 'week': 45275,\n",
       " 'yesterday': 46330,\n",
       " 'walking': 44963,\n",
       " 'downstairs': 13065,\n",
       " 'smell': 38291,\n",
       " 'lavender': 23891,\n",
       " 'hit': 20053,\n",
       " 'surprised': 40558,\n",
       " 'sprayed': 39150,\n",
       " 'freshener': 17169,\n",
       " 'air': 2103,\n",
       " 'realized': 33711,\n",
       " 'boyfriend': 5916,\n",
       " 'load': 24639,\n",
       " 'laundry': 23870,\n",
       " 'seventh': 37153,\n",
       " 'generation': 17806,\n",
       " 'detergent': 11819,\n",
       " 'tandem': 41040,\n",
       " 'clothes': 8466,\n",
       " 'real': 33691,\n",
       " 'chemically': 7835,\n",
       " 'smells': 38294,\n",
       " 'clean': 8302,\n",
       " 'soft': 38520,\n",
       " 'especially': 14819,\n",
       " 'sheets': 37358,\n",
       " 'blankets': 5316,\n",
       " 'gentle': 17846,\n",
       " 'baby': 4060,\n",
       " 'natural': 27979,\n",
       " 'essential': 14845,\n",
       " 'oil': 29099,\n",
       " 'safe': 36015,\n",
       " 'septic': 37040,\n",
       " 'sold': 38556,\n",
       " 'sensitive': 36993,\n",
       " 'chemical': 7834,\n",
       " 'scents': 36433,\n",
       " 'softeners': 38527,\n",
       " 'ca': 6705,\n",
       " 'generally': 17800,\n",
       " 'harmless': 19350,\n",
       " 'offensive': 29046,\n",
       " 'siblings': 37665,\n",
       " 'hate': 19430,\n",
       " 'parents': 30218,\n",
       " 'probably': 32435,\n",
       " 'ultra': 43132,\n",
       " 'sophisticated': 38694,\n",
       " 'cynical': 10746,\n",
       " 'adults': 1814,\n",
       " 'totally': 42267,\n",
       " 'inappropriate': 21153,\n",
       " 'year': 46293,\n",
       " 'old': 29123,\n",
       " 'bring': 6182,\n",
       " 'house': 20410,\n",
       " 'slippers': 38180,\n",
       " 'comfortable': 8831,\n",
       " 'stand': 39388,\n",
       " 'sitting': 37930,\n",
       " 's9000': 35943,\n",
       " 'fits': 16362,\n",
       " 'perfectly': 30713,\n",
       " 'strap': 39832,\n",
       " 'belt': 4847,\n",
       " 'loop': 24808,\n",
       " 'apparently': 2991,\n",
       " 'supposed': 40480,\n",
       " 'function': 17369,\n",
       " 'extremely': 15490,\n",
       " 'small': 38260,\n",
       " 'people': 30653,\n",
       " 'returning': 35042,\n",
       " 'using': 44036,\n",
       " 'generic': 17812,\n",
       " 'protectthe': 32756,\n",
       " 'adapt': 1640,\n",
       " 'bigger': 5087,\n",
       " 'aftermarket': 1963,\n",
       " 'seamstress': 36752,\n",
       " 'sewn': 37168,\n",
       " 'extensive': 15445,\n",
       " 'modification': 27147,\n",
       " 'design': 11721,\n",
       " 'appears': 3010,\n",
       " 'designed': 11726,\n",
       " 'used': 44011,\n",
       " 'outstanding': 29682,\n",
       " 'respect': 34879,\n",
       " 'owned': 29888,\n",
       " 'digital': 12123,\n",
       " 'cameras': 6893,\n",
       " 'recent': 33823,\n",
       " 'years': 46302,\n",
       " 'sony': 38671,\n",
       " 'nikon': 28412,\n",
       " 'n2': 27823,\n",
       " 'giant': 17968,\n",
       " 'lcd': 23939,\n",
       " 'touch': 42274,\n",
       " 'screen': 36629,\n",
       " 'features': 15971,\n",
       " 'optics': 29358,\n",
       " 'overall': 29708,\n",
       " 'ease': 13628,\n",
       " 'previous': 32309,\n",
       " 'land': 23701,\n",
       " 'underwater': 43381,\n",
       " 'photography': 31040,\n",
       " 'performs': 30732,\n",
       " 'flawlessly': 16485,\n",
       " 'cannon': 6974,\n",
       " 'died': 12044,\n",
       " 'day': 11006,\n",
       " 'daughters': 10982,\n",
       " 'birthday': 5204,\n",
       " 'ran': 33482,\n",
       " 'tried': 42670,\n",
       " 'bunch': 6511,\n",
       " 'morning': 27381,\n",
       " 'mp': 27537,\n",
       " 'took': 42161,\n",
       " 'clearer': 8323,\n",
       " 'months': 27307,\n",
       " 'sending': 36957,\n",
       " 'time': 41931,\n",
       " 'repair': 34599,\n",
       " 'power': 31945,\n",
       " 'button': 6650,\n",
       " 'stopped': 39744,\n",
       " 'working': 45954,\n",
       " 'easter': 13639,\n",
       " 'holidays': 20150,\n",
       " 'functions': 17378,\n",
       " 'buttons': 6652,\n",
       " 'switched': 40762,\n",
       " 'pushed': 33082,\n",
       " 'delete': 11409,\n",
       " 'menu': 26398,\n",
       " 'came': 6880,\n",
       " 'mode': 27122,\n",
       " 'selector': 36903,\n",
       " 'modes': 27141,\n",
       " 'support': 40470,\n",
       " 'online': 29214,\n",
       " 'helpful': 19751,\n",
       " 'reliable': 34410,\n",
       " 'mom': 27206,\n",
       " 'frame': 17051,\n",
       " 'husband': 20612,\n",
       " 'easy': 13647,\n",
       " 'download': 13049,\n",
       " 'grandbabies': 18498,\n",
       " 'awsome': 3990,\n",
       " 'gift': 17982,\n",
       " 'color': 8752,\n",
       " 'believe': 4809,\n",
       " '1000': 24,\n",
       " 'forget': 16874,\n",
       " 'lenses': 24145,\n",
       " '70': 971,\n",
       " '200l': 432,\n",
       " 'opinion': 29304,\n",
       " 'sharp': 37307,\n",
       " 'f2': 15551,\n",
       " 'match': 25901,\n",
       " 'built': 6450,\n",
       " 'excessive': 15151,\n",
       " 'heavy': 19653,\n",
       " 'hood': 20261,\n",
       " 'bag': 4160,\n",
       " 'unfortunately': 43489,\n",
       " 'canon': 6980,\n",
       " 'decided': 11159,\n",
       " 'remove': 34532,\n",
       " 'hard': 19297,\n",
       " 'cases': 7255,\n",
       " 'combined': 8802,\n",
       " 'tamron': 41037,\n",
       " '4x': 800,\n",
       " 'teleconverter': 41295,\n",
       " 'provide': 32796,\n",
       " 'optical': 29356,\n",
       " 'quality': 33181,\n",
       " 'par': 30152,\n",
       " '189mm': 275,\n",
       " 'focal': 16695,\n",
       " 'length': 24125,\n",
       " 'yes': 46328,\n",
       " 'lost': 24861,\n",
       " 'convenience': 9662,\n",
       " '200': 414,\n",
       " 'happy': 19282,\n",
       " 'decide': 11158,\n",
       " 'change': 7630,\n",
       " 'plan': 31343,\n",
       " '200is': 431,\n",
       " '135': 127,\n",
       " '2l': 570,\n",
       " 'saves': 36290,\n",
       " 'let': 24190,\n",
       " 'wide': 45577,\n",
       " 'open': 29260,\n",
       " 'portrait': 31796,\n",
       " '300': 592,\n",
       " 'cost': 9952,\n",
       " 'thousands': 41744,\n",
       " 'dollars': 12862,\n",
       " 'trust': 42822,\n",
       " 'play': 31400,\n",
       " 'primes': 32351,\n",
       " 'anymore': 2910,\n",
       " '24': 500,\n",
       " '70l': 979,\n",
       " 'shoot': 37489,\n",
       " 'kid': 23224,\n",
       " 'someday': 38608,\n",
       " 'preventing': 32302,\n",
       " '6x': 969,\n",
       " 'crop': 10408,\n",
       " 'factor': 15621,\n",
       " '35mm': 655,\n",
       " '4l': 788,\n",
       " '56mm': 866,\n",
       " 'order': 29408,\n",
       " 'free': 17124,\n",
       " 'shipping': 37447,\n",
       " 'stock': 39698,\n",
       " 'shipped': 37445,\n",
       " 'days': 11012,\n",
       " 'item': 22378,\n",
       " 'stated': 39476,\n",
       " 'soon': 38675,\n",
       " 'pros': 32718,\n",
       " 'start': 39456,\n",
       " 'bokeh': 5608,\n",
       " 'background': 4092,\n",
       " 'blurring': 5510,\n",
       " 'picture': 31123,\n",
       " 'contrast': 9624,\n",
       " 'smaller': 38262,\n",
       " 'size': 37944,\n",
       " 'weight': 45303,\n",
       " 'black': 5261,\n",
       " 'compare': 8958,\n",
       " 'white': 45505,\n",
       " '200s': 436,\n",
       " 'build': 6443,\n",
       " 'quiet': 33268,\n",
       " 'ring': 35322,\n",
       " 'usm': 44037,\n",
       " 'af': 1888,\n",
       " 'ftm': 17304,\n",
       " 'cons': 9412,\n",
       " 'inexpensive': 21423,\n",
       " '216mm': 471,\n",
       " '10d': 59,\n",
       " '20d': 446,\n",
       " 'rebel': 33771,\n",
       " '300d': 594,\n",
       " 'difficult': 12085,\n",
       " 'low': 24939,\n",
       " 'tech': 41223,\n",
       " 'channeled': 7639,\n",
       " 'zappa': 46471,\n",
       " 'winchester': 45684,\n",
       " 'cathedral': 7351,\n",
       " 'god': 18226,\n",
       " 'knows': 23428,\n",
       " 'incredibly': 21278,\n",
       " 'suddenly': 40234,\n",
       " 'sad': 35987,\n",
       " 'mr': 27553,\n",
       " 'pink': 31215,\n",
       " 'genius': 17833,\n",
       " 'betcha': 4989,\n",
       " 'explains': 15356,\n",
       " 'strange': 39820,\n",
       " 'quasi': 33213,\n",
       " 'city': 8189,\n",
       " 'shadow': 37211,\n",
       " 'industry': 21392,\n",
       " 'curiously': 10639,\n",
       " 'fun': 17366,\n",
       " 'wasteland': 45114,\n",
       " 'dreams': 13154,\n",
       " 'worst': 45999,\n",
       " 'textbook': 41506,\n",
       " 'encountered': 14303,\n",
       " 'undergraduate': 43326,\n",
       " 'unfocused': 43471,\n",
       " 'sparse': 38870,\n",
       " 'completely': 9045,\n",
       " 'lacking': 23621,\n",
       " 'problems': 32452,\n",
       " 'riggs': 35296,\n",
       " 'touches': 42278,\n",
       " 'briefly': 6146,\n",
       " 'lots': 24869,\n",
       " 'topics': 42195,\n",
       " 'treats': 42590,\n",
       " 'leaving': 24014,\n",
       " 'reader': 33671,\n",
       " 'notion': 28660,\n",
       " 'process': 32468,\n",
       " 'control': 9644,\n",
       " 'works': 45962,\n",
       " 'life': 24325,\n",
       " 'big': 5080,\n",
       " 'fan': 15746,\n",
       " 'seborg': 36784,\n",
       " 'et': 14880,\n",
       " 'al': 2152,\n",
       " 'choose': 7999,\n",
       " 'photo': 31023,\n",
       " 'video': 44508,\n",
       " 'editing': 13758,\n",
       " 'softwares': 38541,\n",
       " 'basic': 4449,\n",
       " 'upgrade': 43918,\n",
       " 'couple': 10035,\n",
       " 'ago': 2035,\n",
       " 'bundles': 6517,\n",
       " 'adobe': 1768,\n",
       " 'photoshop': 31054,\n",
       " 'elements': 13985,\n",
       " 'premiere': 32160,\n",
       " 'bundle': 6515,\n",
       " 'played': 31408,\n",
       " 'bit': 5219,\n",
       " 'awesome': 3973,\n",
       " 'pinnacle': 31220,\n",
       " 'studio': 40001,\n",
       " 'intuitive': 22112,\n",
       " 'gone': 18305,\n",
       " 'figured': 16194,\n",
       " 'advanced': 1817,\n",
       " 'wonderful': 45872,\n",
       " 'tool': 42163,\n",
       " 'recently': 33824,\n",
       " 'scan': 36358,\n",
       " 'lot': 24863,\n",
       " 'photographs': 31038,\n",
       " 'touching': 42279,\n",
       " 'worked': 45944,\n",
       " 'wonderfully': 45874,\n",
       " 'adjust': 1723,\n",
       " 'lighting': 24367,\n",
       " 'sharpening': 37311,\n",
       " 'fix': 16373,\n",
       " 'colors': 8767,\n",
       " 'scratches': 36612,\n",
       " 'amazing': 2467,\n",
       " 'scanned': 36368,\n",
       " 'images': 20908,\n",
       " 'program': 32568,\n",
       " 'wanted': 45018,\n",
       " 'manual': 25631,\n",
       " 'surface': 40520,\n",
       " 'possible': 31854,\n",
       " 'studying': 40009,\n",
       " 'comment': 8874,\n",
       " 'giving': 18076,\n",
       " 'stars': 39452,\n",
       " 'minimum': 26830,\n",
       " 'requirements': 34756,\n",
       " '512mb': 828,\n",
       " 'ram': 33457,\n",
       " 'computer': 9141,\n",
       " 'painfully': 30000,\n",
       " 'slow': 38215,\n",
       " 'feasible': 15957,\n",
       " 'ended': 14336,\n",
       " 'upgrading': 43922,\n",
       " '1gb': 401,\n",
       " 'sure': 40514,\n",
       " 'software': 38539,\n",
       " 'red': 34004,\n",
       " 'eye': 15509,\n",
       " 'lack': 23616,\n",
       " 'thereof': 41623,\n",
       " 'auto': 3828,\n",
       " 'finds': 16267,\n",
       " 'eyes': 15531,\n",
       " 'kinds': 23289,\n",
       " 'covers': 10072,\n",
       " 'face': 15587,\n",
       " 'option': 29372,\n",
       " 'manually': 25632,\n",
       " 'maybe': 26013,\n",
       " 'trick': 42661,\n",
       " 'usually': 44043,\n",
       " 'shot': 37536,\n",
       " 'fixing': 16380,\n",
       " 'quite': 33299,\n",
       " 'frequently': 17164,\n",
       " 'amateur': 2453,\n",
       " 'recommendation': 33918,\n",
       " 'going': 18262,\n",
       " 'definitely': 11330,\n",
       " 'deserve': 11713,\n",
       " 'points': 31579,\n",
       " 'today': 42055,\n",
       " 'turn': 42932,\n",
       " 'dead': 11054,\n",
       " 'changed': 7632,\n",
       " 'batteries': 4517,\n",
       " 'europe': 14938,\n",
       " 'scramble': 36589,\n",
       " 'replacement': 34645,\n",
       " 'grrrrr': 18792,\n",
       " 'bead': 4576,\n",
       " 'fantasies': 15772,\n",
       " 'ii': 20838,\n",
       " 'positive': 31833,\n",
       " 'wish': 45765,\n",
       " 'looked': 24786,\n",
       " 'pretty': 32289,\n",
       " 'motifs': 27444,\n",
       " 'incorporate': 21260,\n",
       " 'beading': 4577,\n",
       " 'projects': 32601,\n",
       " 'typed': 43038,\n",
       " 'directions': 12235,\n",
       " 'simplistic': 37831,\n",
       " 'diagrams': 11963,\n",
       " 'glad': 18086,\n",
       " 'feel': 16001,\n",
       " 'discouraged': 12370,\n",
       " 'trying': 42838,\n",
       " 'wo': 45833,\n",
       " 'iii': 20840,\n",
       " 'art': 3322,\n",
       " 'elegance': 13977,\n",
       " 'beadweaving': 4579,\n",
       " 'coraling': 9803,\n",
       " 'technique': 41238,\n",
       " 'remain': 34457,\n",
       " 'favorite': 15914,\n",
       " 'presentation': 32220,\n",
       " 'enhanced': 14426,\n",
       " 'sort': 38728,\n",
       " 'added': 1663,\n",
       " 'limited': 24433,\n",
       " 'value': 44173,\n",
       " 'library': 24284,\n",
       " 'legacy': 24056,\n",
       " 'father': 15872,\n",
       " 'aural': 3776,\n",
       " 'commentary': 8876,\n",
       " 'brannagh': 5999,\n",
       " 'repetitive': 34638,\n",
       " 'episode': 14655,\n",
       " 'basically': 4450,\n",
       " 'repeated': 34615,\n",
       " 'octagenarian': 28995,\n",
       " 'survivors': 40589,\n",
       " 'exact': 15075,\n",
       " 'comments': 8883,\n",
       " 'reflections': 34138,\n",
       " 'suppose': 40479,\n",
       " 'receiving': 33822,\n",
       " 'refund': 34179,\n",
       " 'sent': 37004,\n",
       " 'heard': 19595,\n",
       " 'ya': 46226,\n",
       " 'james': 22481,\n",
       " 'wrote': 46101,\n",
       " 'ben': 4859,\n",
       " 'weak': 45200,\n",
       " 'immature': 20947,\n",
       " 'stalker': 39369,\n",
       " 'lazy': 23930,\n",
       " 'taste': 41116,\n",
       " 'women': 45864,\n",
       " '21': 461,\n",
       " 'unable': 43160,\n",
       " 'ask': 3426,\n",
       " 'wear': 45219,\n",
       " 'scuba': 36693,\n",
       " 'suit': 40283,\n",
       " 'wow': 46025,\n",
       " 'revolutionary': 35140,\n",
       " 'film': 16220,\n",
       " 'making': 25423,\n",
       " 'learning': 23997,\n",
       " 'overcome': 29723,\n",
       " 'weakness': 45209,\n",
       " 'immaturity': 20948,\n",
       " 'defy': 11356,\n",
       " 'elaine': 13921,\n",
       " 'age': 1985,\n",
       " 'went': 45356,\n",
       " 'acting': 1579,\n",
       " 'subject': 40101,\n",
       " 'matter': 25957,\n",
       " 'shocker': 37471,\n",
       " 'grow': 18778,\n",
       " 'watch': 45121,\n",
       " 'think': 41677,\n",
       " 'classic': 8263,\n",
       " 'ef': 13813,\n",
       " '75': 1004,\n",
       " '300mm': 596,\n",
       " 'noticed': 28652,\n",
       " 'limitations': 24432,\n",
       " 'shooting': 37493,\n",
       " 'softball': 38522,\n",
       " 'reviewed': 35106,\n",
       " 'lineup': 24466,\n",
       " 'website': 45254,\n",
       " '100': 23,\n",
       " '400mm': 707,\n",
       " '6l': 960,\n",
       " 'add': 1661,\n",
       " '200mm': 435,\n",
       " 'telephoto': 41307,\n",
       " 'collection': 8712,\n",
       " 'photographers': 31035,\n",
       " 'manufactured': 25639,\n",
       " 'materials': 25920,\n",
       " 'level': 24212,\n",
       " 'dust': 13469,\n",
       " 'moisture': 27180,\n",
       " 'resistance': 34838,\n",
       " 'construction': 9503,\n",
       " 'sturdy': 40049,\n",
       " 'consists': 9461,\n",
       " '23': 491,\n",
       " '18': 231,\n",
       " 'groups': 18772,\n",
       " 'ud': 43089,\n",
       " 'glass': 18108,\n",
       " 'largely': 23774,\n",
       " 'eliminate': 14011,\n",
       " 'secondary': 36791,\n",
       " 'spectrum': 38942,\n",
       " 'reducing': 34066,\n",
       " 'residual': 34827,\n",
       " 'chromatic': 8062,\n",
       " ...}"
      ]
     },
     "execution_count": 104,
     "metadata": {},
     "output_type": "execute_result"
    }
   ],
   "source": [
    "vectorizer.vocabulary_"
   ]
  },
  {
   "cell_type": "code",
   "execution_count": 175,
   "metadata": {},
   "outputs": [
    {
     "data": {
      "text/plain": [
       "['000', '0003', '000mb', '004144', '007', '00am', '00pm', '01', '02']"
      ]
     },
     "execution_count": 175,
     "metadata": {},
     "output_type": "execute_result"
    }
   ],
   "source": [
    "# check the first 10 feature names\n",
    "vectorizer.get_feature_names()[1:10]\n",
    "\n",
    "# the indexes of the k highest values do we have to plug in to feature names"
   ]
  },
  {
   "cell_type": "code",
   "execution_count": 176,
   "metadata": {},
   "outputs": [
    {
     "name": "stdout",
     "output_type": "stream",
     "text": [
      "46619\n",
      "[3.05042594e-04 5.28391140e-04 0.00000000e+00 ... 4.45502443e-05\n",
      " 3.44213882e-05 2.35197077e-05]\n"
     ]
    }
   ],
   "source": [
    "# check the first array of the nested array\n",
    "print(len(kmeans_p2.cluster_centers_[0]))\n",
    "# each array has a length of 46619\n",
    "print(kmeans_p2.cluster_centers_[0])"
   ]
  },
  {
   "cell_type": "code",
   "execution_count": 239,
   "metadata": {},
   "outputs": [],
   "source": [
    "# create above in loop\n",
    "k = 6\n",
    "# save highest weighted terms in dict\n",
    "hwt = {}\n",
    "n_cluster = range(ncol)\n",
    "for i in n_cluster:\n",
    "    hwt[i] = np.argpartition(cluster_centers[i], -k)[-k:]"
   ]
  },
  {
   "cell_type": "code",
   "execution_count": 241,
   "metadata": {},
   "outputs": [
    {
     "data": {
      "text/plain": [
       "{0: array([22961,  7423,  2193, 27522, 24390,  5695]),\n",
       " 1: array([44007, 12123,  6980, 31125, 24143,  6890]),\n",
       " 2: array([44011, 32568, 38539, 12823, 44007, 32505])}"
      ]
     },
     "execution_count": 241,
     "metadata": {},
     "output_type": "execute_result"
    }
   ],
   "source": [
    "hwt"
   ]
  },
  {
   "cell_type": "code",
   "execution_count": 261,
   "metadata": {},
   "outputs": [],
   "source": [
    "# access the get_feature_names and plug in the indexes from above\n",
    "\n",
    "test_dic = {}\n",
    "test_list = []\n",
    "for i in range(ncol):\n",
    "    test_list = []\n",
    "    for j in range(k):\n",
    "        test_list.append(vectorizer.get_feature_names()[hwt[i][j]])\n",
    "    test_dic[i] = test_list"
   ]
  },
  {
   "cell_type": "code",
   "execution_count": 262,
   "metadata": {},
   "outputs": [
    {
     "data": {
      "text/plain": [
       "{0: ['just', 'cd', 'album', 'movie', 'like', 'book'],\n",
       " 1: ['use', 'digital', 'canon', 'pictures', 'lens', 'camera'],\n",
       " 2: ['used', 'program', 'software', 'does', 'use', 'product']}"
      ]
     },
     "execution_count": 262,
     "metadata": {},
     "output_type": "execute_result"
    }
   ],
   "source": [
    "test_dic"
   ]
  },
  {
   "cell_type": "markdown",
   "metadata": {},
   "source": [
    "### Testing end\n",
    "#### This part is was testing\n"
   ]
  },
  {
   "cell_type": "code",
   "execution_count": 266,
   "metadata": {},
   "outputs": [],
   "source": [
    "def summary(k_cluster, N_summary_words):\n",
    "    \"fits k-means with reviews and prints a summary of each cluster\"\n",
    "    \n",
    "    # create k-means object und fit\n",
    "    # random_state - so my group partner and I can compare\n",
    "    kmeans = KMeans(n_clusters=k_cluster, n_init=3,  random_state=13).fit(reviews)\n",
    "    \n",
    "    cluster_centers = kmeans.cluster_centers_\n",
    "    # save dimensions of the nested array\n",
    "    ncol = len(cluster_centers)\n",
    "    nrow = len(cluster_centers[0])\n",
    "    \n",
    "    ### save highest weighted terms in dict\n",
    "    \n",
    "    # in this part I save the N_summary_words INDEX with the hihgest values of each array\n",
    "    hwt_index = {}\n",
    "    n_cluster = range(ncol)\n",
    "    for i in n_cluster:\n",
    "        hwt_index[i] = np.argpartition(cluster_centers[i], -N_summary_words)[-N_summary_words:]\n",
    "    \n",
    "    # in this part I save the N_summary_words WRODS with the hihgest values of each array\n",
    "    hwt_word = {}\n",
    "    for i in range(ncol):\n",
    "        saveinlist = []\n",
    "        for j in range(k):\n",
    "            saveinlist.append(vectorizer.get_feature_names()[hwt_index[i][j]])\n",
    "        hwt_word[i] = saveinlist\n",
    "    \n",
    "    for i in range(k_cluster):\n",
    "        print(\"Summary of cluster {}:{}\".format(i,hwt_word[i]))\n",
    "    \n",
    "    #return hwt_word"
   ]
  },
  {
   "cell_type": "markdown",
   "metadata": {},
   "source": [
    "Once you have computed the cluster summaries, **discuss** their **quality**. Is it **clear** what the reviews in a given cluster are about? Which clusters are **clearest**? Which are **less clear**? Do the cluster summaries contain any unexpected terms? What happens if you **re-cluster** with, say, $k=6$?"
   ]
  },
  {
   "cell_type": "code",
   "execution_count": 228,
   "metadata": {},
   "outputs": [
    {
     "name": "stdout",
     "output_type": "stream",
     "text": [
      "['books' 'camera' 'dvd' 'health' 'music' 'software']\n",
      "Length: 6\n"
     ]
    }
   ],
   "source": [
    "# check categories of the review again\n",
    "print(np.unique(df.category))\n",
    "print(\"Length: {}\".format(len(np.unique(df.category))))"
   ]
  },
  {
   "cell_type": "code",
   "execution_count": 267,
   "metadata": {
    "scrolled": true
   },
   "outputs": [
    {
     "name": "stdout",
     "output_type": "stream",
     "text": [
      "Summary of cluster 0:['just', 'cd', 'album', 'movie', 'like', 'book']\n",
      "Summary of cluster 1:['use', 'digital', 'canon', 'pictures', 'lens', 'camera']\n",
      "Summary of cluster 2:['used', 'program', 'software', 'does', 'use', 'product']\n"
     ]
    }
   ],
   "source": [
    "# Case: 3 cluster, with 6 summary words\n",
    "summary(3,6)"
   ]
  },
  {
   "cell_type": "code",
   "execution_count": 268,
   "metadata": {},
   "outputs": [
    {
     "name": "stdout",
     "output_type": "stream",
     "text": [
      "Summary of cluster 0:['song', 'quot', 'songs', 'music', 'cd', 'album']\n",
      "Summary of cluster 1:['use', 'digital', 'canon', 'pictures', 'camera', 'lens']\n",
      "Summary of cluster 2:['computer', 'use', 'product', 'version', 'program', 'software']\n",
      "Summary of cluster 3:['just', 'like', 'use', 'good', 'product', 'great']\n",
      "Summary of cluster 4:['story', 'reading', 'books', 'author', 'read', 'book']\n",
      "Summary of cluster 5:['watch', 'story', 'like', 'movies', 'movie', 'film']\n"
     ]
    }
   ],
   "source": [
    "# Case: 6 cluster, with 6 summary words\n",
    "summary(6,6)"
   ]
  },
  {
   "cell_type": "markdown",
   "metadata": {},
   "source": [
    "** Interpretation **\n",
    "\n",
    "- General observations\n",
    "\n",
    "We created the vectorizer with english stop words. However, there are still few meaningful words in all clusters (eg. use, used) that could be fixed with better data preparation via lemma and pos (no verbs). \n",
    "\n",
    "- Case: 3 cluster\n",
    "\n",
    "The overall quality is \"Neutral\" to express it in the vernacular of Sentiment Analysis.\n",
    "All clusters have their weaknesses. Some make the combinations of words are, however, there are also words that are inappropriate.\n",
    "For example, in cluster 0 \"cd\" and \"album\" together makes sense, but in combination with \"cd\", \"album\" and \"movie\" makes less sense. These are two different categories (music, movie). \n",
    "The words fit best in cluster 1, worst in cluster 0. Cluster 2 makes sense in itself, but 3 of 6 words are not very meaningful.\n",
    "\n",
    "- Case: 6 cluster\n",
    "\n",
    "The number of clusters makes sense because we know from previous studies that all descriptions are divided into 6 categories. Therefore, we can also see that the classification is much better than with 3 clusters. "
   ]
  },
  {
   "cell_type": "markdown",
   "metadata": {},
   "source": [
    "## Problem 3: Tune the k-means algorithm"
   ]
  },
  {
   "cell_type": "markdown",
   "metadata": {},
   "source": [
    "A **major limitation** of the **$k$-means** algorithm is that one has to **manually set** the value for $k$, the number of clusters. One **heuristic** that can help you with this is the [Elbow method](https://en.wikipedia.org/wiki/Elbow_method_(clustering)). Your next task is to implement this method to see whether it allows you to find a better value for $k$.\n",
    "\n",
    "To follow the elbow method, you should **plot different** values of $k$ against the **inertia** (sums of squared distances between documents and closest centroids) of the fitted $k$-means model, and pick the $k$ at the &lsquo;elbow point&rsquo; of the resulting graph. Test cluster sizes between 1 and 9.\n",
    "\n",
    "**Note that this will take a while.**"
   ]
  },
  {
   "cell_type": "code",
   "execution_count": 77,
   "metadata": {},
   "outputs": [],
   "source": [
    "# loop over grid (range(1,9)) and save inertia_ of each object \n",
    "# check how long the cell run\n",
    "\n",
    "inertia = []\n",
    "for i in range(1,10):\n",
    "    kmeans = KMeans(n_clusters=i, n_init=3,  random_state=13) # to get same results with my group partner\n",
    "    kmeans.fit(reviews)\n",
    "    inertia.append(kmeans.inertia_) \n",
    "    "
   ]
  },
  {
   "cell_type": "code",
   "execution_count": 80,
   "metadata": {},
   "outputs": [
    {
     "name": "stdout",
     "output_type": "stream",
     "text": [
      "0    11764.202586\n",
      "1    11696.561592\n",
      "2    11655.909417\n",
      "3    11616.535698\n",
      "4    11584.609693\n",
      "5    11552.705787\n",
      "6    11532.566770\n",
      "7    11496.550916\n",
      "8    11479.845398\n",
      "dtype: float64\n"
     ]
    }
   ],
   "source": [
    "inertia = pd.Series(inertia)\n",
    "print(inertia)"
   ]
  },
  {
   "cell_type": "code",
   "execution_count": 99,
   "metadata": {},
   "outputs": [
    {
     "data": {
      "image/png": "[encoded data removed]",
      "text/plain": [
       "<matplotlib.figure.Figure at 0x1a14f50128>"
      ]
     },
     "metadata": {
      "needs_background": "light"
     },
     "output_type": "display_data"
    }
   ],
   "source": [
    "plt.plot(range(1,10),inertia, linestyle='-', marker='o', color='b')\n",
    "plt.xlabel(\"Cluster size\")\n",
    "plt.ylabel(\"inertia\")\n",
    "plt.title(\"sums of squared distances between documents and closest centroids for each cluster\", y=1.02)\n",
    "plt.show()"
   ]
  },
  {
   "cell_type": "markdown",
   "metadata": {},
   "source": [
    "Once you have the diagram, can you see a pronounced &lsquo;elbow point&rsquo;? Discuss your findings in a short text."
   ]
  },
  {
   "cell_type": "markdown",
   "metadata": {},
   "source": [
    "** Interpretation **\n",
    "\n",
    "The elbow method is a tool to find a suitable number of clusters when clustering kmeans. However, it is hard to tell from this plot what the ideal number of clusters is. It looks like sums of squared distances are reduced at similar intervals. However, it can be seen that cluster 7's reduction is less than in the steps before.\n",
    "This information and the information from the previous task, I would set 6 as the number of clusters.\n"
   ]
  },
  {
   "cell_type": "markdown",
   "metadata": {},
   "source": [
    "## Problem 4: Compare clusterings using the Rand index"
   ]
  },
  {
   "cell_type": "markdown",
   "metadata": {},
   "source": [
    "In some scenarios, you may have **gold-standard class labels available** for at least a subset of your documents. In these cases you can compute the **Rand index** of a clustering, and use this **measure to compare the quality of different clusterings**.\n",
    "\n",
    "To **compute** the **Rand index**, we view a clustering as a binary classifier on pairs of documents. The **classifier predicts** **&lsquo;positive&rsquo;** *if and only if* the **two documents belong to the same cluster**. The (non-normalized) Rand index of the clustering is the accuracy of this classifier relative to a reference in which a document pair belongs to the &lsquo;positive&rsquo; class if and only if the two documents in the pair have the same gold-standard class label.\n",
    "\n",
    "Compare a **clustering with** $k=3$ clusters to a **second clustering** with $k=6$ clusters. As your **evaluation data**, use the **first 500 documents** from the original data set along with their **gold-standard categories** (from the `category` column). What do you **observe**? How do you **interpret** your observations? What **arguments** can you find **against** the **Rand index** as a measure for comparing clusterings?"
   ]
  },
  {
   "cell_type": "code",
   "execution_count": null,
   "metadata": {},
   "outputs": [],
   "source": [
    "# TODO: Enter code here to compute the Rand indices for the two clusterings"
   ]
  },
  {
   "cell_type": "code",
   "execution_count": 276,
   "metadata": {},
   "outputs": [],
   "source": [
    "# create the evaluate data\n",
    "evaluation = df[0:500]\n",
    "evaluation_text = df[0:500]\n",
    "evaluation_text = evaluation_text.text"
   ]
  },
  {
   "cell_type": "code",
   "execution_count": 271,
   "metadata": {},
   "outputs": [],
   "source": [
    "# case k = 3\n",
    "# init kmean object\n",
    "k_cluster = 3\n",
    "\n",
    "# random_state - so my group partner and I can compare\n",
    "kmeans_p4k3 = KMeans(n_clusters=k_cluster, n_init=3,  random_state=13).fit(reviews)"
   ]
  },
  {
   "cell_type": "code",
   "execution_count": 278,
   "metadata": {
    "scrolled": true
   },
   "outputs": [
    {
     "ename": "ValueError",
     "evalue": "could not convert string to float: \"i bought this album because i loved the title song . it 's such a great song , how bad can the rest of the album be , right ? well , the rest of the songs are just filler and are n't worth the money i paid for this . it 's either shameless bubblegum or oversentimentalized depressing tripe . kenny chesney is a popular artist and as a result he is in the cookie cutter category of the nashville music scene . he 's gotta pump out the albums so the record company can keep lining their pockets while the suckers out there keep buying this garbage to perpetuate more garbage coming out of that town . i 'll get down off my soapbox now . but country music really needs to get back to it 's roots and stop this pop nonsense . what country music really is and what it is considered to be by mainstream are two different things .\"",
     "output_type": "error",
     "traceback": [
      "\u001b[0;31m---------------------------------------------------------------------------\u001b[0m",
      "\u001b[0;31mValueError\u001b[0m                                Traceback (most recent call last)",
      "\u001b[0;32m<ipython-input-278-993cb9ea0041>\u001b[0m in \u001b[0;36m<module>\u001b[0;34m()\u001b[0m\n\u001b[0;32m----> 1\u001b[0;31m \u001b[0mkmeans_p4k3\u001b[0m\u001b[0;34m.\u001b[0m\u001b[0mpredict\u001b[0m\u001b[0;34m(\u001b[0m\u001b[0mevaluation_text\u001b[0m\u001b[0;34m)\u001b[0m\u001b[0;34m\u001b[0m\u001b[0;34m\u001b[0m\u001b[0m\n\u001b[0m",
      "\u001b[0;32m/anaconda3/lib/python3.6/site-packages/sklearn/cluster/k_means_.py\u001b[0m in \u001b[0;36mpredict\u001b[0;34m(self, X)\u001b[0m\n\u001b[1;32m    986\u001b[0m         \u001b[0mcheck_is_fitted\u001b[0m\u001b[0;34m(\u001b[0m\u001b[0mself\u001b[0m\u001b[0;34m,\u001b[0m \u001b[0;34m'cluster_centers_'\u001b[0m\u001b[0;34m)\u001b[0m\u001b[0;34m\u001b[0m\u001b[0;34m\u001b[0m\u001b[0m\n\u001b[1;32m    987\u001b[0m \u001b[0;34m\u001b[0m\u001b[0m\n\u001b[0;32m--> 988\u001b[0;31m         \u001b[0mX\u001b[0m \u001b[0;34m=\u001b[0m \u001b[0mself\u001b[0m\u001b[0;34m.\u001b[0m\u001b[0m_check_test_data\u001b[0m\u001b[0;34m(\u001b[0m\u001b[0mX\u001b[0m\u001b[0;34m)\u001b[0m\u001b[0;34m\u001b[0m\u001b[0;34m\u001b[0m\u001b[0m\n\u001b[0m\u001b[1;32m    989\u001b[0m         \u001b[0mx_squared_norms\u001b[0m \u001b[0;34m=\u001b[0m \u001b[0mrow_norms\u001b[0m\u001b[0;34m(\u001b[0m\u001b[0mX\u001b[0m\u001b[0;34m,\u001b[0m \u001b[0msquared\u001b[0m\u001b[0;34m=\u001b[0m\u001b[0;32mTrue\u001b[0m\u001b[0;34m)\u001b[0m\u001b[0;34m\u001b[0m\u001b[0;34m\u001b[0m\u001b[0m\n\u001b[1;32m    990\u001b[0m         \u001b[0;32mreturn\u001b[0m \u001b[0m_labels_inertia\u001b[0m\u001b[0;34m(\u001b[0m\u001b[0mX\u001b[0m\u001b[0;34m,\u001b[0m \u001b[0mx_squared_norms\u001b[0m\u001b[0;34m,\u001b[0m \u001b[0mself\u001b[0m\u001b[0;34m.\u001b[0m\u001b[0mcluster_centers_\u001b[0m\u001b[0;34m)\u001b[0m\u001b[0;34m[\u001b[0m\u001b[0;36m0\u001b[0m\u001b[0;34m]\u001b[0m\u001b[0;34m\u001b[0m\u001b[0;34m\u001b[0m\u001b[0m\n",
      "\u001b[0;32m/anaconda3/lib/python3.6/site-packages/sklearn/cluster/k_means_.py\u001b[0m in \u001b[0;36m_check_test_data\u001b[0;34m(self, X)\u001b[0m\n\u001b[1;32m    863\u001b[0m \u001b[0;34m\u001b[0m\u001b[0m\n\u001b[1;32m    864\u001b[0m     \u001b[0;32mdef\u001b[0m \u001b[0m_check_test_data\u001b[0m\u001b[0;34m(\u001b[0m\u001b[0mself\u001b[0m\u001b[0;34m,\u001b[0m \u001b[0mX\u001b[0m\u001b[0;34m)\u001b[0m\u001b[0;34m:\u001b[0m\u001b[0;34m\u001b[0m\u001b[0;34m\u001b[0m\u001b[0m\n\u001b[0;32m--> 865\u001b[0;31m         \u001b[0mX\u001b[0m \u001b[0;34m=\u001b[0m \u001b[0mcheck_array\u001b[0m\u001b[0;34m(\u001b[0m\u001b[0mX\u001b[0m\u001b[0;34m,\u001b[0m \u001b[0maccept_sparse\u001b[0m\u001b[0;34m=\u001b[0m\u001b[0;34m'csr'\u001b[0m\u001b[0;34m,\u001b[0m \u001b[0mdtype\u001b[0m\u001b[0;34m=\u001b[0m\u001b[0mFLOAT_DTYPES\u001b[0m\u001b[0;34m)\u001b[0m\u001b[0;34m\u001b[0m\u001b[0;34m\u001b[0m\u001b[0m\n\u001b[0m\u001b[1;32m    866\u001b[0m         \u001b[0mn_samples\u001b[0m\u001b[0;34m,\u001b[0m \u001b[0mn_features\u001b[0m \u001b[0;34m=\u001b[0m \u001b[0mX\u001b[0m\u001b[0;34m.\u001b[0m\u001b[0mshape\u001b[0m\u001b[0;34m\u001b[0m\u001b[0;34m\u001b[0m\u001b[0m\n\u001b[1;32m    867\u001b[0m         \u001b[0mexpected_n_features\u001b[0m \u001b[0;34m=\u001b[0m \u001b[0mself\u001b[0m\u001b[0;34m.\u001b[0m\u001b[0mcluster_centers_\u001b[0m\u001b[0;34m.\u001b[0m\u001b[0mshape\u001b[0m\u001b[0;34m[\u001b[0m\u001b[0;36m1\u001b[0m\u001b[0;34m]\u001b[0m\u001b[0;34m\u001b[0m\u001b[0;34m\u001b[0m\u001b[0m\n",
      "\u001b[0;32m/anaconda3/lib/python3.6/site-packages/sklearn/utils/validation.py\u001b[0m in \u001b[0;36mcheck_array\u001b[0;34m(array, accept_sparse, dtype, order, copy, force_all_finite, ensure_2d, allow_nd, ensure_min_samples, ensure_min_features, warn_on_dtype, estimator)\u001b[0m\n\u001b[1;32m    431\u001b[0m                                       force_all_finite)\n\u001b[1;32m    432\u001b[0m     \u001b[0;32melse\u001b[0m\u001b[0;34m:\u001b[0m\u001b[0;34m\u001b[0m\u001b[0;34m\u001b[0m\u001b[0m\n\u001b[0;32m--> 433\u001b[0;31m         \u001b[0marray\u001b[0m \u001b[0;34m=\u001b[0m \u001b[0mnp\u001b[0m\u001b[0;34m.\u001b[0m\u001b[0marray\u001b[0m\u001b[0;34m(\u001b[0m\u001b[0marray\u001b[0m\u001b[0;34m,\u001b[0m \u001b[0mdtype\u001b[0m\u001b[0;34m=\u001b[0m\u001b[0mdtype\u001b[0m\u001b[0;34m,\u001b[0m \u001b[0morder\u001b[0m\u001b[0;34m=\u001b[0m\u001b[0morder\u001b[0m\u001b[0;34m,\u001b[0m \u001b[0mcopy\u001b[0m\u001b[0;34m=\u001b[0m\u001b[0mcopy\u001b[0m\u001b[0;34m)\u001b[0m\u001b[0;34m\u001b[0m\u001b[0;34m\u001b[0m\u001b[0m\n\u001b[0m\u001b[1;32m    434\u001b[0m \u001b[0;34m\u001b[0m\u001b[0m\n\u001b[1;32m    435\u001b[0m         \u001b[0;32mif\u001b[0m \u001b[0mensure_2d\u001b[0m\u001b[0;34m:\u001b[0m\u001b[0;34m\u001b[0m\u001b[0;34m\u001b[0m\u001b[0m\n",
      "\u001b[0;32m/anaconda3/lib/python3.6/site-packages/pandas/core/series.py\u001b[0m in \u001b[0;36m__array__\u001b[0;34m(self, dtype)\u001b[0m\n\u001b[1;32m    726\u001b[0m             \u001b[0mwarnings\u001b[0m\u001b[0;34m.\u001b[0m\u001b[0mwarn\u001b[0m\u001b[0;34m(\u001b[0m\u001b[0mmsg\u001b[0m\u001b[0;34m,\u001b[0m \u001b[0mFutureWarning\u001b[0m\u001b[0;34m,\u001b[0m \u001b[0mstacklevel\u001b[0m\u001b[0;34m=\u001b[0m\u001b[0;36m3\u001b[0m\u001b[0;34m)\u001b[0m\u001b[0;34m\u001b[0m\u001b[0;34m\u001b[0m\u001b[0m\n\u001b[1;32m    727\u001b[0m             \u001b[0mdtype\u001b[0m \u001b[0;34m=\u001b[0m \u001b[0;34m'M8[ns]'\u001b[0m\u001b[0;34m\u001b[0m\u001b[0;34m\u001b[0m\u001b[0m\n\u001b[0;32m--> 728\u001b[0;31m         \u001b[0;32mreturn\u001b[0m \u001b[0mnp\u001b[0m\u001b[0;34m.\u001b[0m\u001b[0masarray\u001b[0m\u001b[0;34m(\u001b[0m\u001b[0mself\u001b[0m\u001b[0;34m.\u001b[0m\u001b[0marray\u001b[0m\u001b[0;34m,\u001b[0m \u001b[0mdtype\u001b[0m\u001b[0;34m)\u001b[0m\u001b[0;34m\u001b[0m\u001b[0;34m\u001b[0m\u001b[0m\n\u001b[0m\u001b[1;32m    729\u001b[0m \u001b[0;34m\u001b[0m\u001b[0m\n\u001b[1;32m    730\u001b[0m     \u001b[0;32mdef\u001b[0m \u001b[0m__array_wrap__\u001b[0m\u001b[0;34m(\u001b[0m\u001b[0mself\u001b[0m\u001b[0;34m,\u001b[0m \u001b[0mresult\u001b[0m\u001b[0;34m,\u001b[0m \u001b[0mcontext\u001b[0m\u001b[0;34m=\u001b[0m\u001b[0;32mNone\u001b[0m\u001b[0;34m)\u001b[0m\u001b[0;34m:\u001b[0m\u001b[0;34m\u001b[0m\u001b[0;34m\u001b[0m\u001b[0m\n",
      "\u001b[0;32m~/.local/lib/python3.6/site-packages/numpy/core/_asarray.py\u001b[0m in \u001b[0;36masarray\u001b[0;34m(a, dtype, order)\u001b[0m\n\u001b[1;32m     83\u001b[0m \u001b[0;34m\u001b[0m\u001b[0m\n\u001b[1;32m     84\u001b[0m     \"\"\"\n\u001b[0;32m---> 85\u001b[0;31m     \u001b[0;32mreturn\u001b[0m \u001b[0marray\u001b[0m\u001b[0;34m(\u001b[0m\u001b[0ma\u001b[0m\u001b[0;34m,\u001b[0m \u001b[0mdtype\u001b[0m\u001b[0;34m,\u001b[0m \u001b[0mcopy\u001b[0m\u001b[0;34m=\u001b[0m\u001b[0;32mFalse\u001b[0m\u001b[0;34m,\u001b[0m \u001b[0morder\u001b[0m\u001b[0;34m=\u001b[0m\u001b[0morder\u001b[0m\u001b[0;34m)\u001b[0m\u001b[0;34m\u001b[0m\u001b[0;34m\u001b[0m\u001b[0m\n\u001b[0m\u001b[1;32m     86\u001b[0m \u001b[0;34m\u001b[0m\u001b[0m\n\u001b[1;32m     87\u001b[0m \u001b[0;34m\u001b[0m\u001b[0m\n",
      "\u001b[0;32m/anaconda3/lib/python3.6/site-packages/pandas/core/arrays/numpy_.py\u001b[0m in \u001b[0;36m__array__\u001b[0;34m(self, dtype)\u001b[0m\n\u001b[1;32m    169\u001b[0m \u001b[0;34m\u001b[0m\u001b[0m\n\u001b[1;32m    170\u001b[0m     \u001b[0;32mdef\u001b[0m \u001b[0m__array__\u001b[0m\u001b[0;34m(\u001b[0m\u001b[0mself\u001b[0m\u001b[0;34m,\u001b[0m \u001b[0mdtype\u001b[0m\u001b[0;34m=\u001b[0m\u001b[0;32mNone\u001b[0m\u001b[0;34m)\u001b[0m\u001b[0;34m:\u001b[0m\u001b[0;34m\u001b[0m\u001b[0;34m\u001b[0m\u001b[0m\n\u001b[0;32m--> 171\u001b[0;31m         \u001b[0;32mreturn\u001b[0m \u001b[0mnp\u001b[0m\u001b[0;34m.\u001b[0m\u001b[0masarray\u001b[0m\u001b[0;34m(\u001b[0m\u001b[0mself\u001b[0m\u001b[0;34m.\u001b[0m\u001b[0m_ndarray\u001b[0m\u001b[0;34m,\u001b[0m \u001b[0mdtype\u001b[0m\u001b[0;34m=\u001b[0m\u001b[0mdtype\u001b[0m\u001b[0;34m)\u001b[0m\u001b[0;34m\u001b[0m\u001b[0;34m\u001b[0m\u001b[0m\n\u001b[0m\u001b[1;32m    172\u001b[0m \u001b[0;34m\u001b[0m\u001b[0m\n\u001b[1;32m    173\u001b[0m     \u001b[0m_HANDLED_TYPES\u001b[0m \u001b[0;34m=\u001b[0m \u001b[0;34m(\u001b[0m\u001b[0mnp\u001b[0m\u001b[0;34m.\u001b[0m\u001b[0mndarray\u001b[0m\u001b[0;34m,\u001b[0m \u001b[0mnumbers\u001b[0m\u001b[0;34m.\u001b[0m\u001b[0mNumber\u001b[0m\u001b[0;34m)\u001b[0m\u001b[0;34m\u001b[0m\u001b[0;34m\u001b[0m\u001b[0m\n",
      "\u001b[0;32m~/.local/lib/python3.6/site-packages/numpy/core/_asarray.py\u001b[0m in \u001b[0;36masarray\u001b[0;34m(a, dtype, order)\u001b[0m\n\u001b[1;32m     83\u001b[0m \u001b[0;34m\u001b[0m\u001b[0m\n\u001b[1;32m     84\u001b[0m     \"\"\"\n\u001b[0;32m---> 85\u001b[0;31m     \u001b[0;32mreturn\u001b[0m \u001b[0marray\u001b[0m\u001b[0;34m(\u001b[0m\u001b[0ma\u001b[0m\u001b[0;34m,\u001b[0m \u001b[0mdtype\u001b[0m\u001b[0;34m,\u001b[0m \u001b[0mcopy\u001b[0m\u001b[0;34m=\u001b[0m\u001b[0;32mFalse\u001b[0m\u001b[0;34m,\u001b[0m \u001b[0morder\u001b[0m\u001b[0;34m=\u001b[0m\u001b[0morder\u001b[0m\u001b[0;34m)\u001b[0m\u001b[0;34m\u001b[0m\u001b[0;34m\u001b[0m\u001b[0m\n\u001b[0m\u001b[1;32m     86\u001b[0m \u001b[0;34m\u001b[0m\u001b[0m\n\u001b[1;32m     87\u001b[0m \u001b[0;34m\u001b[0m\u001b[0m\n",
      "\u001b[0;31mValueError\u001b[0m: could not convert string to float: \"i bought this album because i loved the title song . it 's such a great song , how bad can the rest of the album be , right ? well , the rest of the songs are just filler and are n't worth the money i paid for this . it 's either shameless bubblegum or oversentimentalized depressing tripe . kenny chesney is a popular artist and as a result he is in the cookie cutter category of the nashville music scene . he 's gotta pump out the albums so the record company can keep lining their pockets while the suckers out there keep buying this garbage to perpetuate more garbage coming out of that town . i 'll get down off my soapbox now . but country music really needs to get back to it 's roots and stop this pop nonsense . what country music really is and what it is considered to be by mainstream are two different things .\""
     ]
    }
   ],
   "source": [
    "kmeans_p4k3.predict(evaluation_text)"
   ]
  },
  {
   "cell_type": "code",
   "execution_count": null,
   "metadata": {},
   "outputs": [],
   "source": [
    "# case k = 6\n",
    "# init kmean object\n",
    "k_cluster = 6\n",
    "\n",
    "# random_state - so my group partner and I can compare\n",
    "kmeans_p4k6 = KMeans(n_clusters=k_cluster, n_init=3,  random_state=13).fit_predictre(reviews)"
   ]
  },
  {
   "cell_type": "markdown",
   "metadata": {},
   "source": [
    "*TODO: Insert your discussion of your results here*"
   ]
  },
  {
   "cell_type": "markdown",
   "metadata": {},
   "source": [
    "## Topic modelling data set"
   ]
  },
  {
   "cell_type": "markdown",
   "metadata": {},
   "source": [
    "The **data set for the topic modelling part** of this lab is the collection of all [State of the Union](https://en.wikipedia.org/wiki/State_of_the_Union) addresses from the years 1975–2000. These speeches come as a single text file with one sentence per line. The following code cell prints the first 5 lines from the data file:"
   ]
  },
  {
   "cell_type": "code",
   "execution_count": 279,
   "metadata": {},
   "outputs": [
    {
     "name": "stdout",
     "output_type": "stream",
     "text": [
      "mr speaker mr vice president members of the 94th congress and distinguished guests\n",
      "twenty six years ago a freshman congressman a young fellow with lots of idealism who was out to change the world stood before sam rayburn in the well of the house and solemnly swore to the same oath that all of you took yesterday an unforgettable experience and i congratulate you all\n",
      "two days later that same freshman stood at the back of this great chamber over there someplace as president truman all charged up by his single handed election victory reported as the constitution requires on the state of the union\n",
      "when the bipartisan applause stopped president truman said i am happy to report to this 81st congress that the state of the union is good our nation is better able than ever before to meet the needs of the american people and to give them their fair chance in the pursuit of happiness it is foremost among the nations of the world in the search for peace\n",
      "today that freshman member from michigan stands where mr truman stood and i must say to you that the state of the union is not good\n",
      "millions of americans are out of work\n"
     ]
    }
   ],
   "source": [
    "with open(\"sotu_1975_2000.txt\") as source:\n",
    "    for i, line in enumerate(source):\n",
    "        print(line.rstrip())\n",
    "        if i >= 5:\n",
    "            break"
   ]
  },
  {
   "cell_type": "markdown",
   "metadata": {},
   "source": [
    "## Problem 5: Train a topic model"
   ]
  },
  {
   "cell_type": "markdown",
   "metadata": {},
   "source": [
    "Your first task on the topic modelling data is to **train** an **LDA model**. For this task you will be using [spaCy](https://spacy.io/) and the [gensim](https://radimrehurek.com/gensim/) topic modelling library.\n",
    "\n",
    "Start by **preprocessing** the **data using spaCy**. Given that the data set for this problem is rather small, you do not have to exclude any components from the standard pipeline. **Filter out stop words, non-alphabetic tokens, and tokens less than 3 characters in length**. **Store** the **documents** as a **nested list** where the first level of nesting corresponds to the sentences and the second level corresponds to the tokens in each sentence."
   ]
  },
  {
   "cell_type": "code",
   "execution_count": null,
   "metadata": {},
   "outputs": [],
   "source": [
    "# TODO: Replace the following lines with your own code for preprocessing the documents\n",
    "with open(\"sotu_1975_2000.txt\") as source:\n",
    "    documents = [line.split() for line in source]"
   ]
  },
  {
   "cell_type": "markdown",
   "metadata": {},
   "source": [
    "Test your preprocessing by running the following cell:"
   ]
  },
  {
   "cell_type": "code",
   "execution_count": null,
   "metadata": {},
   "outputs": [],
   "source": [
    "\" \".join(documents[42])"
   ]
  },
  {
   "cell_type": "markdown",
   "metadata": {},
   "source": [
    "You should get the following output:"
   ]
  },
  {
   "cell_type": "raw",
   "metadata": {},
   "source": [
    "'reduce oil imports million barrels day end year million barrels day end'"
   ]
  },
  {
   "cell_type": "markdown",
   "metadata": {},
   "source": [
    "Once you have the list of documents, skim the section [Pre-process and vectorize the documents](https://radimrehurek.com/gensim/auto_examples/tutorials/run_lda.html#pre-process-and-vectorize-the-documents) of the gensim documentation to learn how to create the dictionary and the vectorized corpus representation required by gensim. (Note that you cannot use the standard scikit-learn pipeline in this case.) Then, write code to train an [LdaModel](https://radimrehurek.com/gensim/models/ldamodel.html) for $k=10$ topics, and using default values for all other parameters."
   ]
  },
  {
   "cell_type": "code",
   "execution_count": null,
   "metadata": {},
   "outputs": [],
   "source": [
    "# TODO: Enter code here to train an LDA model"
   ]
  },
  {
   "cell_type": "markdown",
   "metadata": {},
   "source": [
    "Once you have a trained model, run the following cell to print the topics:"
   ]
  },
  {
   "cell_type": "code",
   "execution_count": null,
   "metadata": {},
   "outputs": [],
   "source": [
    "model.print_topics()"
   ]
  },
  {
   "cell_type": "markdown",
   "metadata": {},
   "source": [
    "Inspect the topics. Do they make sense? Can you &lsquo;label&rsquo; each topic with a short description of what it is about? Do the topics contain any unexpected terms? Summarize your discussion in a short text."
   ]
  },
  {
   "cell_type": "markdown",
   "metadata": {},
   "source": [
    "*TODO: Insert your discussion of the topics here*"
   ]
  },
  {
   "cell_type": "markdown",
   "metadata": {},
   "source": [
    "## Problem 6: Monitoring a topic model for convergence"
   ]
  },
  {
   "cell_type": "markdown",
   "metadata": {},
   "source": [
    "When learning an LDA model, it is important to make sure that the training algorithm has converged to a stable posterior distribution. One way to do so is to plot, after each training epochs(or &lsquo;pass&rsquo;, in gensim parlance) the log likelihood of the training data under the posterior. Your last task in this lab is to create such a plot and, based on this, to suggest an appropriate number of epochs.\n",
    "\n",
    "To collect information about the posterior likelihood after each pass, we need to enable the logging facilities of gensim. Once this is done, gensim will add various diagnostics to a log file `gensim.log`."
   ]
  },
  {
   "cell_type": "code",
   "execution_count": null,
   "metadata": {},
   "outputs": [],
   "source": [
    "import logging\n",
    "\n",
    "logging.basicConfig(filename=\"gensim.log\", format=\"%(asctime)s:%(levelname)s:%(message)s\", level=logging.INFO)"
   ]
  },
  {
   "cell_type": "markdown",
   "metadata": {},
   "source": [
    "The following function will parse the generated logfile and return the list of log likelihoods."
   ]
  },
  {
   "cell_type": "code",
   "execution_count": null,
   "metadata": {},
   "outputs": [],
   "source": [
    "import re\n",
    "\n",
    "def parse_logfile():\n",
    "    matcher = re.compile(\"(-*\\d+\\.\\d+) per-word .* (\\d+\\.\\d+) perplexity\")\n",
    "    likelihoods = []\n",
    "    with open(\"gensim.log\") as source:\n",
    "        for line in source:\n",
    "            match = matcher.search(line)\n",
    "            if match:\n",
    "                likelihoods.append(float(match.group(1)))\n",
    "    return likelihoods"
   ]
  },
  {
   "cell_type": "markdown",
   "metadata": {},
   "source": [
    "Your task now is to re-train your LDA model for 50&nbsp;passes, retrieve the list of log likelihoods, and create a plot from this data."
   ]
  },
  {
   "cell_type": "code",
   "execution_count": null,
   "metadata": {},
   "outputs": [],
   "source": [
    "# TODO: Enter code here to generate the convergence plot"
   ]
  },
  {
   "cell_type": "markdown",
   "metadata": {},
   "source": [
    "How do you interpret your plot? What would be a reasonable choice for the number of passes? Retrain your LDA model with that number and re-inspect the topics it finds. Do you consider the new topics to be &lsquo;better&rsquo; than the ones that you got from the 1-pass model in Problem&nbsp;5?"
   ]
  },
  {
   "cell_type": "markdown",
   "metadata": {},
   "source": [
    "*TODO: Insert your discussion of these questions here*"
   ]
  },
  {
   "cell_type": "markdown",
   "metadata": {},
   "source": [
    "<div class=\"alert alert-info\">\n",
    "    Please read the section ‘General information’ on the ‘Labs’ page of the course website before submitting this notebook!\n",
    "</div>"
   ]
  },
  {
   "cell_type": "markdown",
   "metadata": {},
   "source": [
    "### helpful links:\n",
    "\n",
    "- vectorization\n",
    "\n",
    "https://scikit-learn.org/stable/modules/generated/sklearn.feature_extraction.text.TfidfVectorizer.html\n",
    "\n",
    "https://python-graph-gallery.com/cheat-sheets/\n",
    "    \n",
    "\n",
    "- k-mean\n",
    "\n",
    "https://scikit-learn.org/stable/modules/generated/sklearn.cluster.KMeans.html\n",
    "\n",
    "- plot\n",
    "\n",
    "https://dfrieds.com/data-visualizations/bar-plot-python-pandas\n",
    "\n",
    "- max value index\n",
    "\n",
    "https://stackoverflow.com/questions/16817948/i-have-need-the-n-minimum-index-values-in-a-numpy-array\n",
    "\n",
    "- dict\n",
    "\n",
    "https://stackoverflow.com/questions/30280856/populating-a-dictionary-using-for-loops-python\n",
    "https://stackoverflow.com/questions/5404665/accessing-elements-of-python-dictionary-by-index"
   ]
  },
  {
   "cell_type": "code",
   "execution_count": null,
   "metadata": {},
   "outputs": [],
   "source": []
  },
  {
   "cell_type": "code",
   "execution_count": null,
   "metadata": {},
   "outputs": [],
   "source": []
  }
 ],
 "metadata": {
  "kernelspec": {
   "display_name": "Python 3",
   "language": "python",
   "name": "python3"
  },
  "language_info": {
   "codemirror_mode": {
    "name": "ipython",
    "version": 3
   },
   "file_extension": ".py",
   "mimetype": "text/x-python",
   "name": "python",
   "nbconvert_exporter": "python",
   "pygments_lexer": "ipython3",
   "version": "3.6.8"
  }
 },
 "nbformat": 4,
 "nbformat_minor": 2
}
