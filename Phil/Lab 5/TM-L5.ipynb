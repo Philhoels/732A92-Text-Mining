{
 "cells": [
  {
   "cell_type": "markdown",
   "metadata": {},
   "source": [
    "# L5: Information extraction"
   ]
  },
  {
   "cell_type": "code",
   "execution_count": 2,
   "metadata": {},
   "outputs": [],
   "source": [
    "# import all the packages needed\n",
    "import numpy as np\n",
    "from sklearn.metrics import precision_recall_fscore_support\n",
    "from sklearn.metrics import confusion_matrix\n",
    "import spacy\n",
    "from IPython.display import Image\n",
    "#from collections import Counter"
   ]
  },
  {
   "cell_type": "markdown",
   "metadata": {},
   "source": [
    "Information extraction (IE) is the task of **identifying named entities and semantic relations between these entities** in text data. In this lab we will focus on two sub-tasks in IE, **named entity recognition** (identifying mentions of entities) and **entity linking** (matching these mentions to entities in a knowledge base)."
   ]
  },
  {
   "cell_type": "markdown",
   "metadata": {},
   "source": [
    "We start by loading spaCy:"
   ]
  },
  {
   "cell_type": "code",
   "execution_count": 3,
   "metadata": {},
   "outputs": [],
   "source": [
    "import spacy\n",
    "\n",
    "nlp = spacy.load(\"en_core_web_sm\")"
   ]
  },
  {
   "cell_type": "markdown",
   "metadata": {},
   "source": [
    "The data that we will be using has been tokenized following the conventions of the [Penn Treebank](ftp://ftp.cis.upenn.edu/pub/treebank/public_html/tokenization.html), and we need to prevent spaCy from using its own tokenizer on top of this. We therefore override spaCy&rsquo;s tokenizer with one that simply splits on space."
   ]
  },
  {
   "cell_type": "code",
   "execution_count": 4,
   "metadata": {},
   "outputs": [],
   "source": [
    "from spacy.tokens import Doc\n",
    "\n",
    "class WhitespaceTokenizer(object):\n",
    "    def __init__(self, vocab):\n",
    "        self.vocab = vocab\n",
    "\n",
    "    def __call__(self, text):\n",
    "        return Doc(self.vocab, words=text.split(\" \"))\n",
    "\n",
    "nlp.tokenizer = WhitespaceTokenizer(nlp.vocab)"
   ]
  },
  {
   "cell_type": "markdown",
   "metadata": {},
   "source": [
    "## Data set"
   ]
  },
  {
   "cell_type": "markdown",
   "metadata": {},
   "source": [
    "The main **data set** for this lab is a **collection of news wire articles** in which **mentions of named entities** have been annotated with page names from the [English Wikipedia](https://en.wikipedia.org/wiki/). The next code cell loads the training and the development parts of the data into Pandas data frames."
   ]
  },
  {
   "cell_type": "code",
   "execution_count": 5,
   "metadata": {},
   "outputs": [],
   "source": [
    "import bz2\n",
    "import csv\n",
    "import pandas as pd\n",
    "\n",
    "with bz2.open(\"ner-train.tsv.bz2\", 'rt') as source:\n",
    "    df_train = pd.read_csv(source, sep='\\t', quoting=csv.QUOTE_NONE)\n",
    "\n",
    "with bz2.open(\"ner-dev.tsv.bz2\", 'rt') as source:\n",
    "    df_dev = pd.read_csv(source, sep='\\t', quoting=csv.QUOTE_NONE)"
   ]
  },
  {
   "cell_type": "markdown",
   "metadata": {},
   "source": [
    "Each row in these two data frames corresponds to one mention of a named entity and has five columns:\n",
    "\n",
    "1. a unique identifier for the sentence containing the entity mention\n",
    "2. the pre-tokenized sentence, with tokens separated by spaces\n",
    "3. the start position of the token span containing the entity mention\n",
    "4. the end position of the token span (exclusive, as in Python list indexing)\n",
    "5. the entity label; either a **Wikipedia page name** or the **generic label** `--NME--`\n",
    "\n",
    "The following cell prints the first five samples from the training data:"
   ]
  },
  {
   "cell_type": "code",
   "execution_count": 6,
   "metadata": {},
   "outputs": [
    {
     "data": {
      "text/html": [
       "<div>\n",
       "<style scoped>\n",
       "    .dataframe tbody tr th:only-of-type {\n",
       "        vertical-align: middle;\n",
       "    }\n",
       "\n",
       "    .dataframe tbody tr th {\n",
       "        vertical-align: top;\n",
       "    }\n",
       "\n",
       "    .dataframe thead th {\n",
       "        text-align: right;\n",
       "    }\n",
       "</style>\n",
       "<table border=\"1\" class=\"dataframe\">\n",
       "  <thead>\n",
       "    <tr style=\"text-align: right;\">\n",
       "      <th></th>\n",
       "      <th>sentence_id</th>\n",
       "      <th>sentence</th>\n",
       "      <th>beg</th>\n",
       "      <th>end</th>\n",
       "      <th>label</th>\n",
       "    </tr>\n",
       "  </thead>\n",
       "  <tbody>\n",
       "    <tr>\n",
       "      <th>0</th>\n",
       "      <td>0000-000</td>\n",
       "      <td>EU rejects German call to boycott British lamb .</td>\n",
       "      <td>0</td>\n",
       "      <td>1</td>\n",
       "      <td>--NME--</td>\n",
       "    </tr>\n",
       "    <tr>\n",
       "      <th>1</th>\n",
       "      <td>0000-000</td>\n",
       "      <td>EU rejects German call to boycott British lamb .</td>\n",
       "      <td>2</td>\n",
       "      <td>3</td>\n",
       "      <td>Germany</td>\n",
       "    </tr>\n",
       "    <tr>\n",
       "      <th>2</th>\n",
       "      <td>0000-000</td>\n",
       "      <td>EU rejects German call to boycott British lamb .</td>\n",
       "      <td>6</td>\n",
       "      <td>7</td>\n",
       "      <td>United_Kingdom</td>\n",
       "    </tr>\n",
       "    <tr>\n",
       "      <th>3</th>\n",
       "      <td>0000-001</td>\n",
       "      <td>Peter Blackburn</td>\n",
       "      <td>0</td>\n",
       "      <td>2</td>\n",
       "      <td>--NME--</td>\n",
       "    </tr>\n",
       "    <tr>\n",
       "      <th>4</th>\n",
       "      <td>0000-002</td>\n",
       "      <td>BRUSSELS 1996-08-22</td>\n",
       "      <td>0</td>\n",
       "      <td>1</td>\n",
       "      <td>Brussels</td>\n",
       "    </tr>\n",
       "  </tbody>\n",
       "</table>\n",
       "</div>"
      ],
      "text/plain": [
       "  sentence_id                                          sentence  beg  end  \\\n",
       "0    0000-000  EU rejects German call to boycott British lamb .    0    1   \n",
       "1    0000-000  EU rejects German call to boycott British lamb .    2    3   \n",
       "2    0000-000  EU rejects German call to boycott British lamb .    6    7   \n",
       "3    0000-001                                   Peter Blackburn    0    2   \n",
       "4    0000-002                               BRUSSELS 1996-08-22    0    1   \n",
       "\n",
       "            label  \n",
       "0         --NME--  \n",
       "1         Germany  \n",
       "2  United_Kingdom  \n",
       "3         --NME--  \n",
       "4        Brussels  "
      ]
     },
     "execution_count": 6,
     "metadata": {},
     "output_type": "execute_result"
    }
   ],
   "source": [
    "df_train.head()"
   ]
  },
  {
   "cell_type": "markdown",
   "metadata": {},
   "source": [
    "In this sample, we see that the first sentence is annotated with three entity mentions:\n",
    "\n",
    "* the span 0–1 &lsquo;EU&rsquo; is annotated as a mention but only labelled with the generic `--NME--`\n",
    "* the span 2–3 &lsquo;German&rsquo; is annotated with the page [Germany](http://en.wikipedia.org/wiki/Germany)\n",
    "* the span 6–7 &lsquo;British&rsquo; is annotated with the page [United_Kingdom](http://en.wikipedia.org/wiki/United_Kingdom)"
   ]
  },
  {
   "cell_type": "code",
   "execution_count": 7,
   "metadata": {},
   "outputs": [
    {
     "data": {
      "text/plain": [
       "'EU rejects German call to boycott British lamb .'"
      ]
     },
     "execution_count": 7,
     "metadata": {},
     "output_type": "execute_result"
    }
   ],
   "source": [
    "# print the whole sentence with the id 0000-000\n",
    "df_train.loc[0][\"sentence\"]"
   ]
  },
  {
   "cell_type": "markdown",
   "metadata": {},
   "source": [
    "## Problem 1: Evaluation measures"
   ]
  },
  {
   "cell_type": "markdown",
   "metadata": {},
   "source": [
    "To warm up, we ask you to write code to **print** the **three measures** that you will be using **for evaluation**:"
   ]
  },
  {
   "cell_type": "code",
   "execution_count": 8,
   "metadata": {},
   "outputs": [
    {
     "data": {
      "image/png": "[encoded data removed]",
      "text/plain": [
       "<IPython.core.display.Image object>"
      ]
     },
     "execution_count": 8,
     "metadata": {
      "image/png": {
       "height": 600,
       "width": 600
      }
     },
     "output_type": "execute_result"
    }
   ],
   "source": [
    "Image(filename = \"precisionANDrecall.png\", width=600, height=600)"
   ]
  },
  {
   "cell_type": "code",
   "execution_count": 9,
   "metadata": {},
   "outputs": [
    {
     "data": {
      "image/png": "[encoded data removed]",
      "text/plain": [
       "<IPython.core.display.Image object>"
      ]
     },
     "execution_count": 9,
     "metadata": {
      "image/png": {
       "height": 600,
       "width": 600
      }
     },
     "output_type": "execute_result"
    }
   ],
   "source": [
    "Image(filename = \"F1score.png\", width=600, height=600)"
   ]
  },
  {
   "cell_type": "code",
   "execution_count": 10,
   "metadata": {},
   "outputs": [],
   "source": [
    "def evaluation_report(gold, pred):\n",
    "    \"\"\"Print precision, recall, and F1 score.\n",
    "    \n",
    "    Args:\n",
    "        gold: The set with the gold-standard values.\n",
    "        pred: The set with the predicted values.\n",
    "    \n",
    "    Returns:\n",
    "        Nothing, but prints the precision, recall, and F1 values computed\n",
    "        based on the specified sets.\n",
    "    \"\"\"\n",
    "    # TODO: Replace the next line with your own code\n",
    "    \n",
    "    # Compute precision\n",
    "    precision = len(gold.intersection(pred))/len(pred) * 100 # * 100 for percentage\n",
    "    # Compute recall\n",
    "    recall = len(pred.intersection(gold))/len(gold) * 100 # * 100 for percentage\n",
    "    # Compute F1 score\n",
    "    F1 = 2 * (precision * recall) / (precision + recall)\n",
    "    \n",
    "    print(\"precision score: {}%\".format(round(precision,2)))\n",
    "    print(\"recall score: {}%\".format(round(recall,2)))\n",
    "    print(\"F1 score: {}%\".format(round(F1,2)))\n",
    "    "
   ]
  },
  {
   "cell_type": "markdown",
   "metadata": {},
   "source": [
    "To test your code, you can run the following cell:"
   ]
  },
  {
   "cell_type": "code",
   "execution_count": 11,
   "metadata": {},
   "outputs": [
    {
     "name": "stdout",
     "output_type": "stream",
     "text": [
      "precision score: 60.0%\n",
      "recall score: 100.0%\n",
      "F1 score: 75.0%\n"
     ]
    }
   ],
   "source": [
    "evaluation_report(set(range(3)), set(range(5)))"
   ]
  },
  {
   "cell_type": "markdown",
   "metadata": {},
   "source": [
    "This should give you a precision of 60%, a recall of 100%, and an F1-value of 75%."
   ]
  },
  {
   "cell_type": "markdown",
   "metadata": {},
   "source": [
    "## Problem 2: Span recognition"
   ]
  },
  {
   "cell_type": "markdown",
   "metadata": {},
   "source": [
    "One of the **first tasks** that an information extraction system has to solve is to **locate and classify (mentions of) named entities**, such as *persons and organizations*. Here we will tackle the simpler task of **recognizing spans of tokens** that contain an entity mention, without the actual entity label.\n",
    "\n",
    "The English language model in spaCy features a full-fledged [named entity recognizer](https://spacy.io/usage/linguistic-features#named-entities) that identifies a variety of entities, and can be updated with new entity types by the user. Your task in this problem is to **evaluate the performance** of this component when **predicting entity spans** in the development data.\n",
    "\n",
    "Start by implementing a generator function that ***yields* the gold-standard spans** in a given data frame.\n",
    "\n",
    "**Hint:** The Pandas method [`itertuples()`](https://pandas.pydata.org/pandas-docs/version/0.17.0/generated/pandas.DataFrame.itertuples.html) is useful when iterating over the rows in a DataFrame."
   ]
  },
  {
   "cell_type": "code",
   "execution_count": 12,
   "metadata": {},
   "outputs": [
    {
     "data": {
      "text/html": [
       "<div>\n",
       "<style scoped>\n",
       "    .dataframe tbody tr th:only-of-type {\n",
       "        vertical-align: middle;\n",
       "    }\n",
       "\n",
       "    .dataframe tbody tr th {\n",
       "        vertical-align: top;\n",
       "    }\n",
       "\n",
       "    .dataframe thead th {\n",
       "        text-align: right;\n",
       "    }\n",
       "</style>\n",
       "<table border=\"1\" class=\"dataframe\">\n",
       "  <thead>\n",
       "    <tr style=\"text-align: right;\">\n",
       "      <th></th>\n",
       "      <th>sentence_id</th>\n",
       "      <th>sentence</th>\n",
       "      <th>beg</th>\n",
       "      <th>end</th>\n",
       "      <th>label</th>\n",
       "    </tr>\n",
       "  </thead>\n",
       "  <tbody>\n",
       "    <tr>\n",
       "      <th>0</th>\n",
       "      <td>0946-000</td>\n",
       "      <td>CRICKET - LEICESTERSHIRE TAKE OVER AT TOP AFTE...</td>\n",
       "      <td>2</td>\n",
       "      <td>3</td>\n",
       "      <td>Leicestershire_County_Cricket_Club</td>\n",
       "    </tr>\n",
       "    <tr>\n",
       "      <th>1</th>\n",
       "      <td>0946-001</td>\n",
       "      <td>LONDON 1996-08-30</td>\n",
       "      <td>0</td>\n",
       "      <td>1</td>\n",
       "      <td>London</td>\n",
       "    </tr>\n",
       "    <tr>\n",
       "      <th>2</th>\n",
       "      <td>0946-002</td>\n",
       "      <td>West Indian all-rounder Phil Simmons took four...</td>\n",
       "      <td>0</td>\n",
       "      <td>2</td>\n",
       "      <td>West_Indies_cricket_team</td>\n",
       "    </tr>\n",
       "    <tr>\n",
       "      <th>3</th>\n",
       "      <td>0946-002</td>\n",
       "      <td>West Indian all-rounder Phil Simmons took four...</td>\n",
       "      <td>3</td>\n",
       "      <td>5</td>\n",
       "      <td>Phil_Simmons</td>\n",
       "    </tr>\n",
       "    <tr>\n",
       "      <th>4</th>\n",
       "      <td>0946-002</td>\n",
       "      <td>West Indian all-rounder Phil Simmons took four...</td>\n",
       "      <td>12</td>\n",
       "      <td>13</td>\n",
       "      <td>Leicestershire_County_Cricket_Club</td>\n",
       "    </tr>\n",
       "  </tbody>\n",
       "</table>\n",
       "</div>"
      ],
      "text/plain": [
       "  sentence_id                                           sentence  beg  end  \\\n",
       "0    0946-000  CRICKET - LEICESTERSHIRE TAKE OVER AT TOP AFTE...    2    3   \n",
       "1    0946-001                                  LONDON 1996-08-30    0    1   \n",
       "2    0946-002  West Indian all-rounder Phil Simmons took four...    0    2   \n",
       "3    0946-002  West Indian all-rounder Phil Simmons took four...    3    5   \n",
       "4    0946-002  West Indian all-rounder Phil Simmons took four...   12   13   \n",
       "\n",
       "                                label  \n",
       "0  Leicestershire_County_Cricket_Club  \n",
       "1                              London  \n",
       "2            West_Indies_cricket_team  \n",
       "3                        Phil_Simmons  \n",
       "4  Leicestershire_County_Cricket_Club  "
      ]
     },
     "execution_count": 12,
     "metadata": {},
     "output_type": "execute_result"
    }
   ],
   "source": [
    "df_dev.head()"
   ]
  },
  {
   "cell_type": "code",
   "execution_count": 13,
   "metadata": {},
   "outputs": [],
   "source": [
    "def gold_spans(df):\n",
    "    \"\"\"Yield the gold-standard mention spans in a data frame.\n",
    "\n",
    "    Args:\n",
    "        df: A data frame.\n",
    "\n",
    "    Yields:\n",
    "        The gold-standard mention spans in the specified data frame as\n",
    "        triples consisting of the sentence id, start position, and end\n",
    "        position of each span.\n",
    "    \"\"\"\n",
    "    \n",
    "    # TODO: Replace the next line with your own code\n",
    "    for row in df_dev.itertuples():\n",
    "        yield row.sentence_id, row.beg, row.end\n",
    "    "
   ]
  },
  {
   "cell_type": "markdown",
   "metadata": {},
   "source": [
    "To test your code, you can count the spans yielded by your function. When called on the development data, you should get a **total** of **5,917** unique triples. The **first triple and the last triple** should be\n",
    "\n",
    "    ('0946-000', 2, 3)\n",
    "    ('1161-010', 1, 3)  "
   ]
  },
  {
   "cell_type": "markdown",
   "metadata": {},
   "source": [
    "**Total of unique triples**"
   ]
  },
  {
   "cell_type": "code",
   "execution_count": 14,
   "metadata": {},
   "outputs": [
    {
     "name": "stdout",
     "output_type": "stream",
     "text": [
      "Total of 5917 unique triples.\n"
     ]
    }
   ],
   "source": [
    "# check the total length\n",
    "\n",
    "# use the gold_spans function and save as set\n",
    "spans_dev_gold = set(gold_spans(df_dev))\n",
    "print(\"Total of {} unique triples.\".format(len(spans_dev_gold)))"
   ]
  },
  {
   "cell_type": "markdown",
   "metadata": {},
   "source": [
    "**first triple and the last triple**"
   ]
  },
  {
   "cell_type": "code",
   "execution_count": 15,
   "metadata": {},
   "outputs": [
    {
     "name": "stdout",
     "output_type": "stream",
     "text": [
      "('0960-013', 6, 7)\n",
      "('1103-006', 27, 30)\n"
     ]
    }
   ],
   "source": [
    "# check the order of the triples\n",
    "# run a for loop and print the 1 and the last element\n",
    "for i, item in enumerate(spans_dev_gold):\n",
    "    if i == 0:\n",
    "        print(item)\n",
    "    if i == (len(spans_dev_gold)-1):\n",
    "        print(item)"
   ]
  },
  {
   "cell_type": "markdown",
   "metadata": {},
   "source": [
    "** This is not the same order as expected. **"
   ]
  },
  {
   "cell_type": "markdown",
   "metadata": {},
   "source": [
    "Your next task is to write code that **calls spaCy to predict the named entities in the development data**, and to **evaluate the accuracy of these predictions** in terms of precision, recall, and F1. **Print** these **scores** using the function that you wrote for Problem&nbsp;1."
   ]
  },
  {
   "cell_type": "code",
   "execution_count": 16,
   "metadata": {},
   "outputs": [],
   "source": [
    "# TODO: Write code here to run and evaluate the spaCy NER on the development data"
   ]
  },
  {
   "cell_type": "code",
   "execution_count": 17,
   "metadata": {},
   "outputs": [],
   "source": [
    "def prob2_func(df):\n",
    "    # want to make predictions\n",
    "    # therefore we want to use spacys named Entity Recognition \n",
    "    # this we do by nlp() of a sentence, \n",
    "    # we need to access each sentence of the df (df_dev)\n",
    "    \n",
    "    # loop over each sentence by its index\n",
    "    for sentence_index in df.sentence_id.unique():\n",
    "        \n",
    "        # match the index of the loop with the index of the data frame and take its sentence\n",
    "        # - helpful link, how to work with iloc & loc - link below\n",
    "        #print(df.loc[df.sentence_id == sentence_index, \"sentence\"])\n",
    "        sentence = df.loc[df.sentence_id == sentence_index, \"sentence\"]\n",
    "        sentence = sentence.values[0] # 0 - access the sentence\n",
    "    \n",
    "        # named Entity Recognition, we want the start and the end of entity \n",
    "        doc = nlp(sentence) \n",
    "        for ent in doc.ents:\n",
    "            #print(sentence_index, ent.start, ent.end)\n",
    "            yield sentence_index, ent.start, ent.end"
   ]
  },
  {
   "cell_type": "code",
   "execution_count": 18,
   "metadata": {},
   "outputs": [],
   "source": [
    "# make prediction for problem 2 & save as set\n",
    "pred_prob2 = set(prob2_func(df_dev))"
   ]
  },
  {
   "cell_type": "code",
   "execution_count": 19,
   "metadata": {},
   "outputs": [
    {
     "name": "stdout",
     "output_type": "stream",
     "text": [
      "precision score: 52.94%\n",
      "recall score: 68.97%\n",
      "F1 score: 59.9%\n"
     ]
    }
   ],
   "source": [
    "evaluation_report(spans_dev_gold, pred_prob2)"
   ]
  },
  {
   "cell_type": "markdown",
   "metadata": {},
   "source": [
    "## Problem 3: Error analysis"
   ]
  },
  {
   "cell_type": "markdown",
   "metadata": {},
   "source": [
    "As you were able to see in **Problem&nbsp;2**, the **span accuracy** of the named entity recognizer is **far from perfect**. In particular, only slightly more than half of the predicted spans are correct according to the gold standard. Your next task is to **analyse** this **result in more detail**.\n",
    "\n",
    "**Write code** that **prints the false positives and the false negatives** from the **automatic prediction**. Have a look at the output. What are your **observations**? How could you **improve the result**? **Discuss** these questions in a short text."
   ]
  },
  {
   "cell_type": "code",
   "execution_count": 20,
   "metadata": {},
   "outputs": [],
   "source": [
    "# TODO: Write code here to do your analysis"
   ]
  },
  {
   "cell_type": "markdown",
   "metadata": {},
   "source": [
    "** Print false positives and the false negatives of the prediction**"
   ]
  },
  {
   "cell_type": "code",
   "execution_count": 21,
   "metadata": {
    "scrolled": false
   },
   "outputs": [
    {
     "data": {
      "image/png": "[encoded data removed]",
      "text/plain": [
       "<IPython.core.display.Image object>"
      ]
     },
     "execution_count": 21,
     "metadata": {
      "image/png": {
       "height": 600,
       "width": 600
      }
     },
     "output_type": "execute_result"
    }
   ],
   "source": [
    "Image(filename = \"FalsePositive_FalseNegative.png\", width=600, height=600)"
   ]
  },
  {
   "cell_type": "code",
   "execution_count": 22,
   "metadata": {},
   "outputs": [],
   "source": [
    "def error_analysis(gold, pred, nr_print, False_Positive = True):\n",
    "    if False_Positive == True:\n",
    "        # ---- Case: false positive\n",
    "        print(\"Case: false positive\")\n",
    "        difference = pred.difference(gold)\n",
    "    else:\n",
    "        # ---- Case: false negative\n",
    "        print(\"Case: false negative\")\n",
    "        difference = gold.difference(pred)\n",
    "        \n",
    "    # init the values I want to print later on\n",
    "    difference_list = []\n",
    "    difference_list_entity = []\n",
    "    difference_list_both = []\n",
    "\n",
    "    for item in difference:\n",
    "        #print(item)\n",
    "        # take the sentence of the sentence_id, can have multiple rows with the same sentence\n",
    "        sentence = df_dev.loc[df_dev.sentence_id == item[0], [\"sentence\"]]\n",
    "        # therefore, take the first value of the dataframe \n",
    "        sentence = sentence.iloc[0]\n",
    "        # converte to string and split to access specific word\n",
    "        sentence = sentence.values[0].split()\n",
    "        word = sentence[item[1]:item[2]]\n",
    "        # save specific word of specific item\n",
    "        #difference_list.append(word)\n",
    "\n",
    "        #------ get entitiy\n",
    "        # converte list to string\n",
    "        word_string = ' '.join(map(str, word))\n",
    "        # get the entitiy lable of the object\n",
    "        doc = nlp(word_string)\n",
    "        for ent in doc.ents:\n",
    "            difference_list_both.append([word_string,ent.label_])\n",
    "            difference_list_entity.append(ent.label_)\n",
    "\n",
    "    # ------------------- print the results -------------------\n",
    "    # print the word with its entity\n",
    "    print(\"The first {} word entitiy pairs:\".format(nr_print))\n",
    "    print(difference_list_both[0:nr_print])\n",
    "\n",
    "    # print a count of the entities\n",
    "    entity_counts = pd.Series(difference_list_entity)\n",
    "    all_counts = len(entity_counts)\n",
    "    entity_counts = entity_counts.value_counts()\n",
    "    print(\"Entity types count:\")\n",
    "    print(entity_counts)\n",
    "    print(\"Sum: {}\".format(all_counts))"
   ]
  },
  {
   "cell_type": "code",
   "execution_count": 23,
   "metadata": {
    "scrolled": true
   },
   "outputs": [
    {
     "name": "stdout",
     "output_type": "stream",
     "text": [
      "Case: false positive\n",
      "The first 10 word entitiy pairs:\n",
      "[['73 75 72', 'CARDINAL'], ['4', 'CARDINAL'], ['10', 'CARDINAL'], ['416', 'CARDINAL'], ['9', 'CARDINAL'], ['3', 'CARDINAL'], ['third', 'ORDINAL'], ['Thursday', 'DATE'], ['65.10', 'CARDINAL'], ['1.', 'CARDINAL']]\n",
      "Entity types count:\n",
      "CARDINAL       1571\n",
      "DATE            765\n",
      "ORG             223\n",
      "PERSON          169\n",
      "ORDINAL         119\n",
      "GPE             105\n",
      "TIME             75\n",
      "QUANTITY         54\n",
      "PERCENT          48\n",
      "MONEY            44\n",
      "NORP             38\n",
      "EVENT            19\n",
      "LOC               8\n",
      "WORK_OF_ART       3\n",
      "LAW               1\n",
      "dtype: int64\n",
      "Sum: 3242\n"
     ]
    }
   ],
   "source": [
    "# error analysis - case: false positive\n",
    "error_analysis(spans_dev_gold,pred_prob2,10, False_Positive = True)"
   ]
  },
  {
   "cell_type": "code",
   "execution_count": 24,
   "metadata": {},
   "outputs": [
    {
     "name": "stdout",
     "output_type": "stream",
     "text": [
      "Case: false negative\n",
      "The first 10 word entitiy pairs:\n",
      "[['Romania', 'GPE'], ['Hong Kong Open', 'GPE'], ['Air Cargo Newsroom', 'PRODUCT'], ['Samsung', 'ORG'], ['OFK Beograd', 'PERSON'], ['A. Dale', 'PERSON'], ['U.S. Open', 'GPE'], ['MAURITANIA', 'ORG'], ['Monica Seles', 'PERSON'], ['U.S. OPEN', 'GPE']]\n",
      "Entity types count:\n",
      "ORG            230\n",
      "PERSON         224\n",
      "GPE            158\n",
      "NORP            52\n",
      "DATE             9\n",
      "EVENT            9\n",
      "LOC              7\n",
      "CARDINAL         6\n",
      "WORK_OF_ART      1\n",
      "PRODUCT          1\n",
      "dtype: int64\n",
      "Sum: 697\n"
     ]
    }
   ],
   "source": [
    "# error analysis - case: false negative\n",
    "error_analysis(spans_dev_gold,pred_prob2,10, False_Positive = False)"
   ]
  },
  {
   "cell_type": "markdown",
   "metadata": {},
   "source": [
    "** Interpretation **"
   ]
  },
  {
   "cell_type": "markdown",
   "metadata": {},
   "source": [
    "- **Case: false positive**\n",
    "\n",
    "It can be seen that especially often numbers like the category Cardinal & date were wrongly classified.\n",
    "These are by far the most common mistakes. \n",
    "\n",
    "- **Case: false negative**\n",
    "\n",
    "Here it can be seen that organizations and individuals are generated the most misclassifications, as well as countries. \n",
    "\n",
    "However, these have a similar number of errors to the false positive case. Overall, the false positive case has a much higher number of errors than the false negative case. \n",
    "\n",
    "To improve the score, a similar procedure as in problem 3 could be performed, but without the entity types with the most errors.\n"
   ]
  },
  {
   "cell_type": "markdown",
   "metadata": {},
   "source": [
    "Now, use the insights from your error analysis to improve the automated prediction that you implemented in Problem&nbsp;2. While the best way to do this would be to [update spaCy&rsquo;s NER model](https://spacy.io/usage/linguistic-features#updating) using domain-specific training data, for this lab it suffices to **write code to pre-process the data and/or post-process the output produced by spaCy**. You should be able to **improve** the **F1 score from Problem&nbsp;2 by at last 15 percentage points**."
   ]
  },
  {
   "cell_type": "code",
   "execution_count": 25,
   "metadata": {},
   "outputs": [],
   "source": [
    "# TODO: Write code here to improve the span prediction from Problem 2"
   ]
  },
  {
   "cell_type": "code",
   "execution_count": 26,
   "metadata": {},
   "outputs": [],
   "source": [
    "# code as in prob2_func + light modifications\n",
    "def prob3_func(df):\n",
    "        for indx in df.sentence_id.unique():\n",
    "            sentence = df.loc[df.sentence_id==indx,'sentence']\n",
    "            doc = nlp(sentence.values[0])\n",
    "            for ent in doc.ents:\n",
    "                # modification at this part\n",
    "                # exclude some specific Named Entity Recognition\n",
    "                # ---- Test combinations\n",
    "                #if ent.label_ not in ['CARDINAL', 'DATE', 'ORG', 'Person', 'GPE']:\n",
    "                #if ent.label_ not in ['CARDINAL', 'DATE', 'ORG', 'PERSON', 'ORDINAL', 'GPE', 'TIME', 'QUANTITY','PERCENT','MONEY','NORP', 'EVENT']:\n",
    "                # ----\n",
    "                if ent.label_ not in ['CARDINAL', 'ORDINAL', 'QUANTITY', 'MONEY', 'PERCENT', 'TIME', 'DATE']:\n",
    "                    yield indx,ent.start,ent.end\n",
    "# make predictions on the same dataset with the new function                   \n",
    "new_preds = set(prob3_func(df_dev))"
   ]
  },
  {
   "cell_type": "markdown",
   "metadata": {},
   "source": [
    "**Show** that you achieve the **performance goal** by reporting the evaluation measures that you implemented in Problem&nbsp;1."
   ]
  },
  {
   "cell_type": "code",
   "execution_count": 27,
   "metadata": {
    "scrolled": true
   },
   "outputs": [
    {
     "name": "stdout",
     "output_type": "stream",
     "text": [
      "precision score: 84.48%\n",
      "recall score: 68.89%\n",
      "F1 score: 75.89%\n"
     ]
    }
   ],
   "source": [
    "evaluation_report(spans_dev_gold,new_preds)"
   ]
  },
  {
   "cell_type": "code",
   "execution_count": 28,
   "metadata": {},
   "outputs": [
    {
     "name": "stdout",
     "output_type": "stream",
     "text": [
      "The F1 score improved by 15.99 %.\n"
     ]
    }
   ],
   "source": [
    "print(\"The F1 score improved by {} %.\".format(round(75.89-59.9,3)))"
   ]
  },
  {
   "cell_type": "markdown",
   "metadata": {},
   "source": [
    "Before going on, we ask you to **store** the **outputs of the improved named entity recognizer on the development data in a new data frame**. This **new frame** should have the **same layout as the original data frame for the development data** that you loaded above, but should contain the predicted start and end positions for each token span. As the `label` of **each span**, you can use the **special value** `--NME--`."
   ]
  },
  {
   "cell_type": "code",
   "execution_count": 29,
   "metadata": {},
   "outputs": [],
   "source": [
    "# TODO: Write code here to store the predicted spans in a new data frame"
   ]
  },
  {
   "cell_type": "code",
   "execution_count": 30,
   "metadata": {},
   "outputs": [],
   "source": [
    "# save the prediction as list\n",
    "preds_list = list(new_preds)\n",
    "\n",
    "x=[item[0] for item in preds_list]\n",
    "y=[item[1] for item in preds_list]\n",
    "z=[item[2] for item in preds_list]\n",
    "\n",
    "# create a list with the indexes for each predicted span\n",
    "indexes_list = []\n",
    "for i in range(len(x)):\n",
    "    indexes_list.append(df_dev.index[(df_dev['sentence_id']==x[i]) & (df_dev['beg']==y[i]) & (df_dev['end']==z[i])].tolist())\n",
    "    "
   ]
  },
  {
   "cell_type": "code",
   "execution_count": 31,
   "metadata": {},
   "outputs": [],
   "source": [
    "from functools import reduce\n",
    "# flatten the indexes list \n",
    "flat_list = reduce(lambda x, y: x+y, indexes_list)"
   ]
  },
  {
   "cell_type": "code",
   "execution_count": 32,
   "metadata": {},
   "outputs": [
    {
     "name": "stderr",
     "output_type": "stream",
     "text": [
      "/anaconda3/lib/python3.6/site-packages/pandas/core/generic.py:5208: SettingWithCopyWarning: \n",
      "A value is trying to be set on a copy of a slice from a DataFrame.\n",
      "Try using .loc[row_indexer,col_indexer] = value instead\n",
      "\n",
      "See the caveats in the documentation: http://pandas.pydata.org/pandas-docs/stable/user_guide/indexing.html#returning-a-view-versus-a-copy\n",
      "  self[name] = value\n"
     ]
    },
    {
     "data": {
      "text/html": [
       "<div>\n",
       "<style scoped>\n",
       "    .dataframe tbody tr th:only-of-type {\n",
       "        vertical-align: middle;\n",
       "    }\n",
       "\n",
       "    .dataframe tbody tr th {\n",
       "        vertical-align: top;\n",
       "    }\n",
       "\n",
       "    .dataframe thead th {\n",
       "        text-align: right;\n",
       "    }\n",
       "</style>\n",
       "<table border=\"1\" class=\"dataframe\">\n",
       "  <thead>\n",
       "    <tr style=\"text-align: right;\">\n",
       "      <th></th>\n",
       "      <th>sentence_id</th>\n",
       "      <th>sentence</th>\n",
       "      <th>beg</th>\n",
       "      <th>end</th>\n",
       "      <th>label</th>\n",
       "    </tr>\n",
       "  </thead>\n",
       "  <tbody>\n",
       "    <tr>\n",
       "      <th>517</th>\n",
       "      <td>0960-013</td>\n",
       "      <td>The hard-serving O'Brien , a former U.S. colle...</td>\n",
       "      <td>6</td>\n",
       "      <td>7</td>\n",
       "      <td>--NME--</td>\n",
       "    </tr>\n",
       "    <tr>\n",
       "      <th>1293</th>\n",
       "      <td>0983-001</td>\n",
       "      <td>LONDON 1996-08-30</td>\n",
       "      <td>0</td>\n",
       "      <td>1</td>\n",
       "      <td>--NME--</td>\n",
       "    </tr>\n",
       "    <tr>\n",
       "      <th>4394</th>\n",
       "      <td>1097-003</td>\n",
       "      <td>Refusing to go quietly in the night , Stefan E...</td>\n",
       "      <td>21</td>\n",
       "      <td>23</td>\n",
       "      <td>--NME--</td>\n",
       "    </tr>\n",
       "    <tr>\n",
       "      <th>5112</th>\n",
       "      <td>1127-008</td>\n",
       "      <td>Russian military officials have expressed fear...</td>\n",
       "      <td>18</td>\n",
       "      <td>19</td>\n",
       "      <td>--NME--</td>\n",
       "    </tr>\n",
       "    <tr>\n",
       "      <th>4069</th>\n",
       "      <td>1089-006</td>\n",
       "      <td>He is striving for his fourth career PGA Tour ...</td>\n",
       "      <td>7</td>\n",
       "      <td>9</td>\n",
       "      <td>--NME--</td>\n",
       "    </tr>\n",
       "    <tr>\n",
       "      <th>5714</th>\n",
       "      <td>1153-002</td>\n",
       "      <td>Two Belgian teenage girls missing since Thursd...</td>\n",
       "      <td>1</td>\n",
       "      <td>2</td>\n",
       "      <td>--NME--</td>\n",
       "    </tr>\n",
       "    <tr>\n",
       "      <th>3267</th>\n",
       "      <td>1059-004</td>\n",
       "      <td>Kent will also need to keep their nerve agains...</td>\n",
       "      <td>29</td>\n",
       "      <td>31</td>\n",
       "      <td>--NME--</td>\n",
       "    </tr>\n",
       "    <tr>\n",
       "      <th>4476</th>\n",
       "      <td>1099-018</td>\n",
       "      <td>Scotland : Andrew Goram , Craig Burley , Thoma...</td>\n",
       "      <td>2</td>\n",
       "      <td>4</td>\n",
       "      <td>--NME--</td>\n",
       "    </tr>\n",
       "    <tr>\n",
       "      <th>901</th>\n",
       "      <td>0966-122</td>\n",
       "      <td>7. Pyotr Bochkary ( Russia ) 5.65</td>\n",
       "      <td>4</td>\n",
       "      <td>5</td>\n",
       "      <td>--NME--</td>\n",
       "    </tr>\n",
       "    <tr>\n",
       "      <th>2749</th>\n",
       "      <td>1046-007</td>\n",
       "      <td>Shortly afterwards Roberto Carlos found space ...</td>\n",
       "      <td>25</td>\n",
       "      <td>27</td>\n",
       "      <td>--NME--</td>\n",
       "    </tr>\n",
       "  </tbody>\n",
       "</table>\n",
       "</div>"
      ],
      "text/plain": [
       "     sentence_id                                           sentence  beg  end  \\\n",
       "517     0960-013  The hard-serving O'Brien , a former U.S. colle...    6    7   \n",
       "1293    0983-001                                  LONDON 1996-08-30    0    1   \n",
       "4394    1097-003  Refusing to go quietly in the night , Stefan E...   21   23   \n",
       "5112    1127-008  Russian military officials have expressed fear...   18   19   \n",
       "4069    1089-006  He is striving for his fourth career PGA Tour ...    7    9   \n",
       "5714    1153-002  Two Belgian teenage girls missing since Thursd...    1    2   \n",
       "3267    1059-004  Kent will also need to keep their nerve agains...   29   31   \n",
       "4476    1099-018  Scotland : Andrew Goram , Craig Burley , Thoma...    2    4   \n",
       "901     0966-122                  7. Pyotr Bochkary ( Russia ) 5.65    4    5   \n",
       "2749    1046-007  Shortly afterwards Roberto Carlos found space ...   25   27   \n",
       "\n",
       "        label  \n",
       "517   --NME--  \n",
       "1293  --NME--  \n",
       "4394  --NME--  \n",
       "5112  --NME--  \n",
       "4069  --NME--  \n",
       "5714  --NME--  \n",
       "3267  --NME--  \n",
       "4476  --NME--  \n",
       "901   --NME--  \n",
       "2749  --NME--  "
      ]
     },
     "execution_count": 32,
     "metadata": {},
     "output_type": "execute_result"
    }
   ],
   "source": [
    "# create the dataframe\n",
    "df_dev_small = df_dev.iloc[flat_list,:]\n",
    "df_dev_small.drop(['label'],axis=1)\n",
    "df_dev_small.label='--NME--'\n",
    "df_dev_small.head(n=10)"
   ]
  },
  {
   "cell_type": "markdown",
   "metadata": {},
   "source": [
    "## Problem 4: Entity linking"
   ]
  },
  {
   "cell_type": "markdown",
   "metadata": {},
   "source": [
    "Now that we have a method for predicting mention spans, we turn to the task of **entity linking**, which amounts to predicting the knowledge base entity that is referenced by a given mention. In our case, **for each span we want to predict the Wikipedia page that this mention references**.\n",
    "\n",
    "Start by **extending** the generator function that you implemented in **Problem&nbsp;2** to labelled spans."
   ]
  },
  {
   "cell_type": "code",
   "execution_count": 33,
   "metadata": {},
   "outputs": [],
   "source": [
    "def gold_mentions(df):\n",
    "    \"\"\"Yield the gold-standard mentions in a data frame.\n",
    "\n",
    "    Args:\n",
    "        df: A data frame.\n",
    "\n",
    "    Yields:\n",
    "        The gold-standard mention spans in the specified data frame as\n",
    "        quadruples consisting of the sentence id, start position, end\n",
    "        position and entity label of each span.\n",
    "    \"\"\"\n",
    "    \n",
    "    # TODO: Replace the next line with your own code\n",
    "    # code from Probem 2 - gold_spans\n",
    "    for row in df_dev.itertuples():\n",
    "        # added lables\n",
    "        yield row.sentence_id, row.beg, row.end, row.label "
   ]
  },
  {
   "cell_type": "markdown",
   "metadata": {},
   "source": [
    "A **naive baseline for entity linking** on our data set is to **link each mention span to the Wikipedia page name** that we get when we ***join* the tokens in the span by underscores**, as is standard in Wikipedia page names. Suppose, **for example**, that a span contains the two tokens\n",
    "\n",
    "    Jimi Hendrix\n",
    "\n",
    "The baseline Wikipedia page name for this span would be\n",
    "\n",
    "    Jimi_Hendrix\n",
    "\n",
    "**Implement** this **naive baseline and evaluate its performance**. Print the evaluation measures that you implemented in Problem&nbsp;1."
   ]
  },
  {
   "cell_type": "markdown",
   "metadata": {},
   "source": [
    "<div class=\"alert alert-warning\">\n",
    "    Here and in the remainder of this lab, you should base your entity predictions on the predicted spans that you computed in Problem&nbsp;3.\n",
    "</div>"
   ]
  },
  {
   "cell_type": "code",
   "execution_count": 34,
   "metadata": {},
   "outputs": [],
   "source": [
    "# TODO: Write code here to implement the baseline"
   ]
  },
  {
   "cell_type": "code",
   "execution_count": 35,
   "metadata": {
    "scrolled": true
   },
   "outputs": [
    {
     "data": {
      "text/html": [
       "<div>\n",
       "<style scoped>\n",
       "    .dataframe tbody tr th:only-of-type {\n",
       "        vertical-align: middle;\n",
       "    }\n",
       "\n",
       "    .dataframe tbody tr th {\n",
       "        vertical-align: top;\n",
       "    }\n",
       "\n",
       "    .dataframe thead th {\n",
       "        text-align: right;\n",
       "    }\n",
       "</style>\n",
       "<table border=\"1\" class=\"dataframe\">\n",
       "  <thead>\n",
       "    <tr style=\"text-align: right;\">\n",
       "      <th></th>\n",
       "      <th>sentence_id</th>\n",
       "      <th>sentence</th>\n",
       "      <th>beg</th>\n",
       "      <th>end</th>\n",
       "      <th>label</th>\n",
       "    </tr>\n",
       "  </thead>\n",
       "  <tbody>\n",
       "    <tr>\n",
       "      <th>517</th>\n",
       "      <td>0960-013</td>\n",
       "      <td>The hard-serving O'Brien , a former U.S. colle...</td>\n",
       "      <td>6</td>\n",
       "      <td>7</td>\n",
       "      <td>--NME--</td>\n",
       "    </tr>\n",
       "    <tr>\n",
       "      <th>1293</th>\n",
       "      <td>0983-001</td>\n",
       "      <td>LONDON 1996-08-30</td>\n",
       "      <td>0</td>\n",
       "      <td>1</td>\n",
       "      <td>--NME--</td>\n",
       "    </tr>\n",
       "    <tr>\n",
       "      <th>4394</th>\n",
       "      <td>1097-003</td>\n",
       "      <td>Refusing to go quietly in the night , Stefan E...</td>\n",
       "      <td>21</td>\n",
       "      <td>23</td>\n",
       "      <td>--NME--</td>\n",
       "    </tr>\n",
       "    <tr>\n",
       "      <th>5112</th>\n",
       "      <td>1127-008</td>\n",
       "      <td>Russian military officials have expressed fear...</td>\n",
       "      <td>18</td>\n",
       "      <td>19</td>\n",
       "      <td>--NME--</td>\n",
       "    </tr>\n",
       "    <tr>\n",
       "      <th>4069</th>\n",
       "      <td>1089-006</td>\n",
       "      <td>He is striving for his fourth career PGA Tour ...</td>\n",
       "      <td>7</td>\n",
       "      <td>9</td>\n",
       "      <td>--NME--</td>\n",
       "    </tr>\n",
       "    <tr>\n",
       "      <th>5714</th>\n",
       "      <td>1153-002</td>\n",
       "      <td>Two Belgian teenage girls missing since Thursd...</td>\n",
       "      <td>1</td>\n",
       "      <td>2</td>\n",
       "      <td>--NME--</td>\n",
       "    </tr>\n",
       "    <tr>\n",
       "      <th>3267</th>\n",
       "      <td>1059-004</td>\n",
       "      <td>Kent will also need to keep their nerve agains...</td>\n",
       "      <td>29</td>\n",
       "      <td>31</td>\n",
       "      <td>--NME--</td>\n",
       "    </tr>\n",
       "    <tr>\n",
       "      <th>4476</th>\n",
       "      <td>1099-018</td>\n",
       "      <td>Scotland : Andrew Goram , Craig Burley , Thoma...</td>\n",
       "      <td>2</td>\n",
       "      <td>4</td>\n",
       "      <td>--NME--</td>\n",
       "    </tr>\n",
       "    <tr>\n",
       "      <th>901</th>\n",
       "      <td>0966-122</td>\n",
       "      <td>7. Pyotr Bochkary ( Russia ) 5.65</td>\n",
       "      <td>4</td>\n",
       "      <td>5</td>\n",
       "      <td>--NME--</td>\n",
       "    </tr>\n",
       "    <tr>\n",
       "      <th>2749</th>\n",
       "      <td>1046-007</td>\n",
       "      <td>Shortly afterwards Roberto Carlos found space ...</td>\n",
       "      <td>25</td>\n",
       "      <td>27</td>\n",
       "      <td>--NME--</td>\n",
       "    </tr>\n",
       "  </tbody>\n",
       "</table>\n",
       "</div>"
      ],
      "text/plain": [
       "     sentence_id                                           sentence  beg  end  \\\n",
       "517     0960-013  The hard-serving O'Brien , a former U.S. colle...    6    7   \n",
       "1293    0983-001                                  LONDON 1996-08-30    0    1   \n",
       "4394    1097-003  Refusing to go quietly in the night , Stefan E...   21   23   \n",
       "5112    1127-008  Russian military officials have expressed fear...   18   19   \n",
       "4069    1089-006  He is striving for his fourth career PGA Tour ...    7    9   \n",
       "5714    1153-002  Two Belgian teenage girls missing since Thursd...    1    2   \n",
       "3267    1059-004  Kent will also need to keep their nerve agains...   29   31   \n",
       "4476    1099-018  Scotland : Andrew Goram , Craig Burley , Thoma...    2    4   \n",
       "901     0966-122                  7. Pyotr Bochkary ( Russia ) 5.65    4    5   \n",
       "2749    1046-007  Shortly afterwards Roberto Carlos found space ...   25   27   \n",
       "\n",
       "        label  \n",
       "517   --NME--  \n",
       "1293  --NME--  \n",
       "4394  --NME--  \n",
       "5112  --NME--  \n",
       "4069  --NME--  \n",
       "5714  --NME--  \n",
       "3267  --NME--  \n",
       "4476  --NME--  \n",
       "901   --NME--  \n",
       "2749  --NME--  "
      ]
     },
     "execution_count": 35,
     "metadata": {},
     "output_type": "execute_result"
    }
   ],
   "source": [
    "df_dev_small.head(10)"
   ]
  },
  {
   "cell_type": "code",
   "execution_count": 36,
   "metadata": {},
   "outputs": [],
   "source": [
    "# function to create predictions\n",
    "def prob4_func(df):\n",
    "    # run every row of the df\n",
    "    for row in range(df_dev_small.shape[0]):\n",
    "        # get the sentence_id \n",
    "        sentence_id = df_dev_small.iloc[row,0]\n",
    "        \n",
    "        # get the beg and the end of specific word\n",
    "        beg = df_dev_small.iloc[row,2]\n",
    "        end = df_dev_small.iloc[row,3]\n",
    "        \n",
    "        # access every word of the sentence\n",
    "        sentence = df_dev_small.iloc[row,1].split()\n",
    "        # filter for word(s) we want to have\n",
    "        word = sentence[beg:end]\n",
    "        \n",
    "        # join the words with \"_\"\n",
    "        words = \"_\".join(word)\n",
    "        \n",
    "        yield sentence_id, beg, end, words\n",
    "# make predictions \n",
    "preds4 = set(prob4_func(df_dev_small))"
   ]
  },
  {
   "cell_type": "code",
   "execution_count": 37,
   "metadata": {},
   "outputs": [],
   "source": [
    "# use the gold_mentions function and save as set\n",
    "gold_mentions_set = set(gold_mentions(df_dev_small))"
   ]
  },
  {
   "cell_type": "code",
   "execution_count": 38,
   "metadata": {},
   "outputs": [
    {
     "name": "stdout",
     "output_type": "stream",
     "text": [
      "precision score: 37.68%\n",
      "recall score: 25.96%\n",
      "F1 score: 30.74%\n"
     ]
    }
   ],
   "source": [
    "# evaluation\n",
    "evaluation_report(gold_mentions_set,preds4)"
   ]
  },
  {
   "cell_type": "markdown",
   "metadata": {},
   "source": [
    "## Problem 5: Extending the training data using the knowledge base"
   ]
  },
  {
   "cell_type": "markdown",
   "metadata": {},
   "source": [
    "State-of-the-art approaches to **entity linking exploit information in knowledge bases**. In our case, where **Wikipedia is the knowledge base**, one particularly useful type of information are links to other Wikipedia pages. In particular, we can **interpret the anchor texts** (the highlighted texts that you click on when you click on a link) as **mentions of the entities** (pages) that they link to. This allows us to harvest long lists over mention–entity pairings.\n",
    "\n",
    "The following cell loads a data frame summarizing anchor texts and page references harvested from the first paragraphs of the English Wikipedia. The data frame also contains all entity mentions in the training data (but not the development or the test data)."
   ]
  },
  {
   "cell_type": "code",
   "execution_count": 39,
   "metadata": {},
   "outputs": [],
   "source": [
    "with bz2.open(\"kb.tsv.bz2\", 'rt') as source:\n",
    "    df_kb = pd.read_csv(source, sep='\\t', quoting=csv.QUOTE_NONE)"
   ]
  },
  {
   "cell_type": "markdown",
   "metadata": {},
   "source": [
    "To understand what information is available in this data, the following cell shows the entry for the anchor text `Sweden`."
   ]
  },
  {
   "cell_type": "code",
   "execution_count": 40,
   "metadata": {
    "scrolled": true
   },
   "outputs": [
    {
     "data": {
      "text/html": [
       "<div>\n",
       "<style scoped>\n",
       "    .dataframe tbody tr th:only-of-type {\n",
       "        vertical-align: middle;\n",
       "    }\n",
       "\n",
       "    .dataframe tbody tr th {\n",
       "        vertical-align: top;\n",
       "    }\n",
       "\n",
       "    .dataframe thead th {\n",
       "        text-align: right;\n",
       "    }\n",
       "</style>\n",
       "<table border=\"1\" class=\"dataframe\">\n",
       "  <thead>\n",
       "    <tr style=\"text-align: right;\">\n",
       "      <th></th>\n",
       "      <th>mention</th>\n",
       "      <th>entity</th>\n",
       "      <th>prob</th>\n",
       "    </tr>\n",
       "  </thead>\n",
       "  <tbody>\n",
       "    <tr>\n",
       "      <th>17436</th>\n",
       "      <td>Sweden</td>\n",
       "      <td>Sweden</td>\n",
       "      <td>0.985768</td>\n",
       "    </tr>\n",
       "    <tr>\n",
       "      <th>17437</th>\n",
       "      <td>Sweden</td>\n",
       "      <td>Sweden_national_football_team</td>\n",
       "      <td>0.014173</td>\n",
       "    </tr>\n",
       "    <tr>\n",
       "      <th>17438</th>\n",
       "      <td>Sweden</td>\n",
       "      <td>Sweden_men's_national_ice_hockey_team</td>\n",
       "      <td>0.000059</td>\n",
       "    </tr>\n",
       "  </tbody>\n",
       "</table>\n",
       "</div>"
      ],
      "text/plain": [
       "      mention                                 entity      prob\n",
       "17436  Sweden                                 Sweden  0.985768\n",
       "17437  Sweden          Sweden_national_football_team  0.014173\n",
       "17438  Sweden  Sweden_men's_national_ice_hockey_team  0.000059"
      ]
     },
     "execution_count": 40,
     "metadata": {},
     "output_type": "execute_result"
    }
   ],
   "source": [
    "df_kb.loc[df_kb[\"mention\"] == \"Sweden\"]"
   ]
  },
  {
   "cell_type": "markdown",
   "metadata": {},
   "source": [
    "As you can see, **each row** of the data frame **contains a pair $(m, e)$ of a mention $m$ and an entity $e$**, as well as the **conditional probability $P(e|m)$ for mention $m$ referring to entity $e$**. These probabilities were **estimated based on the frequencies of mention–entity pairs in the knowledge base**. The **example** shows that the **anchor text &lsquo;Sweden&rsquo;** is most often used to refer to the entity [Sweden](http://en.wikipedia.org/wiki/Sweden), but in a few cases also to refer to Sweden&rsquo;s national football and ice hockey teams. Note that references are sorted in decreasing order of probability, so that the **most probable pairing stands first**.\n",
    "\n",
    "**Implement** an **entity linking method** that **resolves each mention to the most probable entity in the data frame**. If the mention is not included in the data frame, you can predict the generic label `--NME--`. **Print the precision, recall, and F1** of your method using the function that you implemented for Problem&nbsp;1."
   ]
  },
  {
   "cell_type": "code",
   "execution_count": 41,
   "metadata": {},
   "outputs": [],
   "source": [
    "# TODO: Write code here to implement the \"most probable entity\" method."
   ]
  },
  {
   "cell_type": "code",
   "execution_count": 42,
   "metadata": {
    "scrolled": false
   },
   "outputs": [
    {
     "data": {
      "text/html": [
       "<div>\n",
       "<style scoped>\n",
       "    .dataframe tbody tr th:only-of-type {\n",
       "        vertical-align: middle;\n",
       "    }\n",
       "\n",
       "    .dataframe tbody tr th {\n",
       "        vertical-align: top;\n",
       "    }\n",
       "\n",
       "    .dataframe thead th {\n",
       "        text-align: right;\n",
       "    }\n",
       "</style>\n",
       "<table border=\"1\" class=\"dataframe\">\n",
       "  <thead>\n",
       "    <tr style=\"text-align: right;\">\n",
       "      <th></th>\n",
       "      <th>mention</th>\n",
       "      <th>entity</th>\n",
       "      <th>prob</th>\n",
       "    </tr>\n",
       "  </thead>\n",
       "  <tbody>\n",
       "    <tr>\n",
       "      <th>0</th>\n",
       "      <td>000 Guineas</td>\n",
       "      <td>2000_Guineas_Stakes</td>\n",
       "      <td>1.0</td>\n",
       "    </tr>\n",
       "    <tr>\n",
       "      <th>1</th>\n",
       "      <td>10 00</td>\n",
       "      <td>United_States_dollar</td>\n",
       "      <td>1.0</td>\n",
       "    </tr>\n",
       "    <tr>\n",
       "      <th>2</th>\n",
       "      <td>126 million</td>\n",
       "      <td>United_States_dollar</td>\n",
       "      <td>1.0</td>\n",
       "    </tr>\n",
       "    <tr>\n",
       "      <th>3</th>\n",
       "      <td>13th dynasty</td>\n",
       "      <td>Middle_Kingdom_of_Egypt</td>\n",
       "      <td>1.0</td>\n",
       "    </tr>\n",
       "    <tr>\n",
       "      <th>4</th>\n",
       "      <td>14th Dalai Lama</td>\n",
       "      <td>14th_Dalai_Lama</td>\n",
       "      <td>1.0</td>\n",
       "    </tr>\n",
       "  </tbody>\n",
       "</table>\n",
       "</div>"
      ],
      "text/plain": [
       "           mention                   entity  prob\n",
       "0      000 Guineas      2000_Guineas_Stakes   1.0\n",
       "1            10 00     United_States_dollar   1.0\n",
       "2      126 million     United_States_dollar   1.0\n",
       "3     13th dynasty  Middle_Kingdom_of_Egypt   1.0\n",
       "4  14th Dalai Lama          14th_Dalai_Lama   1.0"
      ]
     },
     "execution_count": 42,
     "metadata": {},
     "output_type": "execute_result"
    }
   ],
   "source": [
    "df_kb.head()"
   ]
  },
  {
   "cell_type": "code",
   "execution_count": 43,
   "metadata": {
    "scrolled": true
   },
   "outputs": [],
   "source": [
    "# gold-standard for problem 5\n",
    "def gold_mention_entitiy(df):\n",
    "    # TODO: Replace the next line with your own code\n",
    "    # code from Probem 2 - gold_spans\n",
    "    for row in df.itertuples():\n",
    "        # added lables\n",
    "        yield row.mention, row.entity\n",
    "\n",
    "# create gold standard\n",
    "gold_mention_entity_set = set(gold_mention_entitiy(df_kb))\n",
    "#print(gold_mention_entity_set)"
   ]
  },
  {
   "cell_type": "code",
   "execution_count": 44,
   "metadata": {},
   "outputs": [],
   "source": [
    "# function to create predictions\n",
    "def prob5_func(df):\n",
    "    # run every row of the df\n",
    "    for row in range(df.shape[0]):\n",
    "        # get the mention \n",
    "        mention = df.iloc[row,0]\n",
    "        \n",
    "        # get entity with highest prob\n",
    "        mention_df = df.loc[df[\"mention\"] == mention]\n",
    "        \n",
    "        ### ------ flag ------\n",
    "        # if df not empty -> take highest prob\n",
    "        # else -- NME --\n",
    "        if mention_df.shape[0] != 0:\n",
    "            mention_df_highest_entity = mention_df.iloc[0,1]\n",
    "            yield mention, mention_df_highest_entity\n",
    "        else:\n",
    "            yield mention, \"--NME--\" \n",
    "# make predictions\n",
    "preds5 = set(prob5_func(df_kb))\n",
    "#print(preds5)"
   ]
  },
  {
   "cell_type": "code",
   "execution_count": 45,
   "metadata": {},
   "outputs": [
    {
     "name": "stdout",
     "output_type": "stream",
     "text": [
      "precision score: 100.0%\n",
      "recall score: 90.12%\n",
      "F1 score: 94.8%\n"
     ]
    }
   ],
   "source": [
    "# evaluation\n",
    "evaluation_report(gold_mention_entity_set,preds5)"
   ]
  },
  {
   "cell_type": "markdown",
   "metadata": {},
   "source": [
    "## Problem 6: Context-sensitive disambiguation"
   ]
  },
  {
   "cell_type": "markdown",
   "metadata": {},
   "source": [
    "Consider the **entity mention &lsquo;Lincoln&rsquo;**. The **most probable entity** for this mention turns out to be **[Lincoln, Nebraska](http://en.wikipedia.org/Lincoln,_Nebraska)**; but in pages about American history, we would be **better off to predict [Abraham Lincoln](http://en.wikipedia.org/Abraham_Lincoln)**. This suggests that we should **try to disambiguate between different entity references based on the textual context on the page from which the mention was taken**. Your task in this last problem is to implement this idea.\n",
    "\n",
    "**Set up** a **dictionary** that **contains**, for each **mention $m$ that can refer to more than one entity $e$**, a **separate Naive Bayes classifier to predict the correct entity $e$**, given the textual context of the mention. As the prior probabilities of the classifier, **choose** the **probabilities $P(e|m)$** that you used in Problem&nbsp;5. To let you **estimate the context-specific probabilities**, we have compiled a data set with mention contexts:"
   ]
  },
  {
   "cell_type": "code",
   "execution_count": 50,
   "metadata": {},
   "outputs": [],
   "source": [
    "with bz2.open(\"contexts.tsv.bz2\") as source:\n",
    "    df_contexts = pd.read_csv(source, sep='\\t', quoting=csv.QUOTE_NONE)"
   ]
  },
  {
   "cell_type": "markdown",
   "metadata": {},
   "source": [
    "This **data frame contains**, for each **ambiguous mention $m$ and each knowledge base entity $e$ to which this mention can refer**, up to 100 randomly selected contexts in which $m$ is used to refer to $e$. For this data, a **context** is **defined as a bag of words** containing the mention itself, as well as the 5 tokens to the left and the 5 tokens to the right of the mention. Here are a few examples:"
   ]
  },
  {
   "cell_type": "code",
   "execution_count": 47,
   "metadata": {},
   "outputs": [
    {
     "data": {
      "text/html": [
       "<div>\n",
       "<style scoped>\n",
       "    .dataframe tbody tr th:only-of-type {\n",
       "        vertical-align: middle;\n",
       "    }\n",
       "\n",
       "    .dataframe tbody tr th {\n",
       "        vertical-align: top;\n",
       "    }\n",
       "\n",
       "    .dataframe thead th {\n",
       "        text-align: right;\n",
       "    }\n",
       "</style>\n",
       "<table border=\"1\" class=\"dataframe\">\n",
       "  <thead>\n",
       "    <tr style=\"text-align: right;\">\n",
       "      <th></th>\n",
       "      <th>mention</th>\n",
       "      <th>entity</th>\n",
       "      <th>context</th>\n",
       "    </tr>\n",
       "  </thead>\n",
       "  <tbody>\n",
       "    <tr>\n",
       "      <th>0</th>\n",
       "      <td>1970</td>\n",
       "      <td>UEFA_Champions_League</td>\n",
       "      <td>Cup twice the first in 1970 and the second in ...</td>\n",
       "    </tr>\n",
       "    <tr>\n",
       "      <th>1</th>\n",
       "      <td>1970</td>\n",
       "      <td>FIFA_World_Cup</td>\n",
       "      <td>America 1975 and during the 1970 and 1978 Worl...</td>\n",
       "    </tr>\n",
       "    <tr>\n",
       "      <th>2</th>\n",
       "      <td>1990 World Cup</td>\n",
       "      <td>1990_FIFA_World_Cup</td>\n",
       "      <td>Manolo represented Spain at the 1990 World Cup</td>\n",
       "    </tr>\n",
       "    <tr>\n",
       "      <th>3</th>\n",
       "      <td>1990 World Cup</td>\n",
       "      <td>1990_FIFA_World_Cup</td>\n",
       "      <td>Hašek represented Czechoslovakia at the 1990 W...</td>\n",
       "    </tr>\n",
       "    <tr>\n",
       "      <th>4</th>\n",
       "      <td>1990 World Cup</td>\n",
       "      <td>1990_FIFA_World_Cup</td>\n",
       "      <td>renovations in 1989 for the 1990 World Cup The...</td>\n",
       "    </tr>\n",
       "  </tbody>\n",
       "</table>\n",
       "</div>"
      ],
      "text/plain": [
       "          mention                 entity  \\\n",
       "0            1970  UEFA_Champions_League   \n",
       "1            1970         FIFA_World_Cup   \n",
       "2  1990 World Cup    1990_FIFA_World_Cup   \n",
       "3  1990 World Cup    1990_FIFA_World_Cup   \n",
       "4  1990 World Cup    1990_FIFA_World_Cup   \n",
       "\n",
       "                                             context  \n",
       "0  Cup twice the first in 1970 and the second in ...  \n",
       "1  America 1975 and during the 1970 and 1978 Worl...  \n",
       "2     Manolo represented Spain at the 1990 World Cup  \n",
       "3  Hašek represented Czechoslovakia at the 1990 W...  \n",
       "4  renovations in 1989 for the 1990 World Cup The...  "
      ]
     },
     "execution_count": 47,
     "metadata": {},
     "output_type": "execute_result"
    }
   ],
   "source": [
    "df_contexts.head()"
   ]
  },
  {
   "cell_type": "markdown",
   "metadata": {},
   "source": [
    "From this data frame, it is easy to select the data that you need to train the classifiers – the contexts and corresponding entities for all mentions. To illustrate this, the following cell **shows how to select all contexts that belong to the mention &lsquo;Lincoln&rsquo;**:"
   ]
  },
  {
   "cell_type": "code",
   "execution_count": 48,
   "metadata": {},
   "outputs": [
    {
     "data": {
      "text/plain": [
       "41465    Nebraska Concealed Handgun Permit In Lincoln m...\n",
       "41466    Lazlo restaurants are located in Lincoln and O...\n",
       "41467    California Washington Overland Park Kansas Lin...\n",
       "41468    City Missouri Omaha Nebraska and Lincoln Nebra...\n",
       "41469    by Sandhills Publishing Company in Lincoln Neb...\n",
       "                               ...                        \n",
       "41609                                Lincoln Leyton Orient\n",
       "41610               English division three Swansea Lincoln\n",
       "41611    league membership narrowly edging out Lincoln ...\n",
       "41612                                    Lincoln Cambridge\n",
       "41613                                              Lincoln\n",
       "Name: context, Length: 149, dtype: object"
      ]
     },
     "execution_count": 48,
     "metadata": {},
     "output_type": "execute_result"
    }
   ],
   "source": [
    "df_contexts.context[df_contexts.mention == \"Lincoln\"]"
   ]
  },
  {
   "cell_type": "markdown",
   "metadata": {},
   "source": [
    "**Implement the context-sensitive disambiguation method and evaluate its performance**. Here are some more hints that may help you along the way:\n",
    "\n",
    "**Hint 1:** The **prior probabilities** for a Naive Bayes classifier can be **specified using** the `class_prior` option. You will have to provide the **probabilities** in the same **order as the alphabetically sorted** class (entity) names.\n",
    "\n",
    "**Hint 2:** To **tune** the **performance of your method**, you can try to **tweak the behaviour of the vectorizer** (for example, should it apply lowercasing or not?) and the **width of the window** from which you are extracting context tokens at prediction time.\n",
    "\n",
    "**Hint 3:** Not all mentions in the knowledge base are ambiguous, and therefore not all mentions have context data. If a mention has only **one possible entity, pick that one. If a mention has no entity at all, predict the `--NME--` label**."
   ]
  },
  {
   "cell_type": "code",
   "execution_count": 49,
   "metadata": {},
   "outputs": [],
   "source": [
    "# TODO: Write code here to implement the context-sensitive disambiguation method"
   ]
  },
  {
   "cell_type": "markdown",
   "metadata": {},
   "source": [
    "You should **expect** to see a **small (around 1&nbsp;unit) increase** in both precision, recall, and F1. Published systems report a larger impact of context-sensitive disambiguation. Feel free to think about what could explain the relatively minor impact that we see here!"
   ]
  },
  {
   "cell_type": "markdown",
   "metadata": {},
   "source": [
    "**Interpretation of the results**"
   ]
  },
  {
   "cell_type": "markdown",
   "metadata": {},
   "source": [
    "**This was the last lab in the Text Mining course. Well done!**"
   ]
  },
  {
   "cell_type": "markdown",
   "metadata": {},
   "source": [
    "<div class=\"alert alert-info\">\n",
    "    Please read the section ‘General information’ on the ‘Labs’ page of the course website before submitting this notebook!\n",
    "</div>"
   ]
  },
  {
   "cell_type": "markdown",
   "metadata": {},
   "source": [
    "**Helpful links**\n",
    "\n",
    "- Problem 1\n",
    "\n",
    "https://www.geeksforgeeks.org/intersection-function-python/\n",
    "\n",
    "- Problem 2\n",
    "\n",
    "https://www.geeksforgeeks.org/use-yield-keyword-instead-return-keyword-python/\n",
    "\n",
    "https://www.shanelynn.ie/select-pandas-dataframe-rows-and-columns-using-iloc-loc-and-ix/\n",
    "\n",
    "- Problem 3\n",
    "\n",
    "https://dev.to/svinci/intersection-union-and-difference-of-sets-in-python-4gkn"
   ]
  },
  {
   "cell_type": "code",
   "execution_count": null,
   "metadata": {},
   "outputs": [],
   "source": []
  }
 ],
 "metadata": {
  "kernelspec": {
   "display_name": "Python 3",
   "language": "python",
   "name": "python3"
  },
  "language_info": {
   "codemirror_mode": {
    "name": "ipython",
    "version": 3
   },
   "file_extension": ".py",
   "mimetype": "text/x-python",
   "name": "python",
   "nbconvert_exporter": "python",
   "pygments_lexer": "ipython3",
   "version": "3.6.8"
  }
 },
 "nbformat": 4,
 "nbformat_minor": 2
}
