{
 "cells": [
  {
   "cell_type": "markdown",
   "metadata": {},
   "source": [
    "# L4: Word embeddings"
   ]
  },
  {
   "cell_type": "markdown",
   "metadata": {},
   "source": [
    "In this lab you will explore word embeddings. A **word embedding** is a mapping of words to points in a vector space such that nearby words (points) are similar in terms of their distributional properties. You will use word embedding to find similar words, and evaluate their usefulness in an inference task.\n",
    "\n",
    "You will use the word vectors that come with [spaCy](http://spacy.io). Note that you will need the &lsquo;large&rsquo; English language model; the &lsquo;small&rsquo; model that you used in previous labs does not include proper word vectors."
   ]
  },
  {
   "cell_type": "code",
   "execution_count": 1,
   "metadata": {},
   "outputs": [
    {
     "name": "stdout",
     "output_type": "stream",
     "text": [
      "2.2.2\n"
     ]
    }
   ],
   "source": [
    "import spacy\n",
    "print(spacy.__version__)\n",
    "\n",
    "nlp = spacy.load(\"en_core_web_lg\")\n"
   ]
  },
  {
   "cell_type": "code",
   "execution_count": 2,
   "metadata": {},
   "outputs": [],
   "source": [
    "# just to remove some anoyning warnings\n",
    "import warnings\n",
    "warnings.filterwarnings('ignore')"
   ]
  },
  {
   "cell_type": "markdown",
   "metadata": {},
   "source": [
    "Every word in the model&rsquo;s vocabulary comes with a 300-dimensional vector, represented as a NumPy array. The following code cell shows how to access the vector for the word *cheese*:"
   ]
  },
  {
   "cell_type": "code",
   "execution_count": 17,
   "metadata": {},
   "outputs": [
    {
     "data": {
      "text/plain": [
       "array([-5.5252e-01,  1.8894e-01,  6.8737e-01, -1.9789e-01,  7.0575e-02,\n",
       "        1.0075e+00,  5.1789e-02, -1.5603e-01,  3.1941e-01,  1.1702e+00,\n",
       "       -4.7248e-01,  4.2867e-01, -4.2025e-01,  2.4803e-01,  6.8194e-01,\n",
       "       -6.7488e-01,  9.2401e-02,  1.3089e+00, -3.6278e-02,  2.0098e-01,\n",
       "        7.6005e-01, -6.6718e-02, -7.7794e-02,  2.3844e-01, -2.4351e-01,\n",
       "       -5.4164e-01, -3.3540e-01,  2.9805e-01,  3.5269e-01, -8.0594e-01,\n",
       "       -4.3611e-01,  6.1535e-01,  3.4212e-01, -3.3603e-01,  3.3282e-01,\n",
       "        3.8065e-01,  5.7427e-02,  9.9918e-02,  1.2525e-01,  1.1039e+00,\n",
       "        3.6678e-02,  3.0490e-01, -1.4942e-01,  3.2912e-01,  2.3300e-01,\n",
       "        4.3395e-01,  1.5666e-01,  2.2778e-01, -2.5830e-02,  2.4334e-01,\n",
       "       -5.8136e-02, -1.3486e-01,  2.4521e-01, -3.3459e-01,  4.2839e-01,\n",
       "       -4.8181e-01,  1.3403e-01,  2.6049e-01,  8.9933e-02, -9.3770e-02,\n",
       "        3.7672e-01, -2.9558e-02,  4.3841e-01,  6.1212e-01, -2.5720e-01,\n",
       "       -7.8506e-01,  2.3880e-01,  1.3399e-01, -7.9315e-02,  7.0582e-01,\n",
       "        3.9968e-01,  6.7779e-01, -2.0474e-03,  1.9785e-02, -4.2059e-01,\n",
       "       -5.3858e-01, -5.2155e-02,  1.7252e-01,  2.7547e-01, -4.4482e-01,\n",
       "        2.3595e-01, -2.3445e-01,  3.0103e-01, -5.5096e-01, -3.1159e-02,\n",
       "       -3.4433e-01,  1.2386e+00,  1.0317e+00, -2.2728e-01, -9.5207e-03,\n",
       "       -2.5432e-01, -2.9792e-01,  2.5934e-01, -1.0421e-01, -3.3876e-01,\n",
       "        4.2470e-01,  5.8335e-04,  1.3093e-01,  2.8786e-01,  2.3474e-01,\n",
       "        2.5905e-02, -6.4359e-01,  6.1330e-02,  6.3842e-01,  1.4705e-01,\n",
       "       -6.1594e-01,  2.5097e-01, -4.4872e-01,  8.6825e-01,  9.9555e-02,\n",
       "       -4.4734e-02, -7.4239e-01, -5.9147e-01, -5.4929e-01,  3.8108e-01,\n",
       "        5.5177e-02, -1.0487e-01, -1.2838e-01,  6.0521e-03,  2.8743e-01,\n",
       "        2.1592e-01,  7.2871e-02, -3.1644e-01, -4.3321e-01,  1.8682e-01,\n",
       "        6.7274e-02,  2.8115e-01, -4.6222e-02, -9.6803e-02,  5.6091e-01,\n",
       "       -6.7762e-01, -1.6645e-01,  1.5553e-01,  5.2301e-01, -3.0058e-01,\n",
       "       -3.7291e-01,  8.7895e-02, -1.7963e-01, -4.4193e-01, -4.4607e-01,\n",
       "       -2.4122e+00,  3.3738e-01,  6.2416e-01,  4.2787e-01, -2.5386e-01,\n",
       "       -6.1683e-01, -7.0097e-01,  4.9303e-01,  3.6916e-01, -9.7499e-02,\n",
       "        6.1411e-01, -4.7572e-03,  4.3916e-01, -2.1551e-01, -5.6745e-01,\n",
       "       -4.0278e-01,  2.9459e-01, -3.0850e-01,  1.0103e-01,  7.9741e-02,\n",
       "       -6.3811e-01,  2.4781e-01, -4.4546e-01,  1.0828e-01, -2.3624e-01,\n",
       "       -5.0838e-01, -1.7001e-01, -7.8735e-01,  3.4073e-01, -3.1830e-01,\n",
       "        4.5286e-01, -9.5118e-02,  2.0772e-01, -8.0183e-02, -3.7982e-01,\n",
       "       -4.9949e-01,  4.0759e-02, -3.7724e-01, -8.9705e-02, -6.8187e-01,\n",
       "        2.2106e-01, -3.9931e-01,  3.2329e-01, -3.6180e-01, -7.2093e-01,\n",
       "       -6.3404e-01,  4.3125e-01, -4.9743e-01, -1.7395e-01, -3.8779e-01,\n",
       "       -3.2556e-01,  1.4423e-01, -8.3401e-02, -2.2994e-01,  2.7793e-01,\n",
       "        4.9112e-01,  6.4511e-01, -7.8945e-02,  1.1171e-01,  3.7264e-01,\n",
       "        1.3070e-01, -6.1607e-02, -4.3501e-01,  2.8999e-02,  5.6224e-01,\n",
       "        5.8012e-02,  4.7078e-02,  4.2770e-01,  7.3245e-01, -2.1150e-02,\n",
       "        1.1988e-01,  7.8823e-02, -1.9106e-01,  3.5278e-02, -3.1102e-01,\n",
       "        1.3209e-01, -2.8606e-01, -1.5649e-01, -6.4339e-01,  4.4599e-01,\n",
       "       -3.0912e-01,  4.4520e-01, -3.6774e-01,  2.7327e-01,  6.7833e-01,\n",
       "       -8.3830e-02, -4.5120e-01,  1.0754e-01, -4.5908e-01,  1.5095e-01,\n",
       "       -4.5856e-01,  3.4465e-01,  7.8013e-02, -2.8319e-01, -2.8149e-02,\n",
       "        2.4404e-01, -7.1345e-01,  5.2834e-02, -2.8085e-01,  2.5344e-02,\n",
       "        4.2979e-02,  1.5663e-01, -7.4647e-01, -1.1301e+00,  4.4135e-01,\n",
       "        3.1444e-01, -1.0018e-01, -5.3526e-01, -9.0601e-01, -6.4954e-01,\n",
       "        4.2664e-02, -7.9927e-02,  3.2905e-01, -3.0797e-01, -1.9190e-02,\n",
       "        4.2765e-01,  3.1460e-01,  2.9051e-01, -2.7386e-01,  6.8483e-01,\n",
       "        1.9395e-02, -3.2884e-01, -4.8239e-01, -1.5747e-01, -1.6036e-01,\n",
       "        4.9164e-01, -7.0352e-01, -3.5591e-01, -7.4887e-01, -5.2827e-01,\n",
       "        4.4983e-02,  5.9247e-02,  4.6224e-01,  8.9697e-02, -7.5618e-01,\n",
       "        6.3682e-01,  9.0680e-02,  6.8830e-02,  1.8296e-01,  1.0754e-01,\n",
       "        6.7811e-01, -1.4716e-01,  1.7029e-01, -5.2630e-01,  1.9268e-01,\n",
       "        9.3130e-01,  8.0363e-01,  6.1324e-01, -3.0494e-01,  2.0236e-01,\n",
       "        5.8520e-01,  2.6484e-01, -4.5863e-01,  2.1035e-03, -5.6990e-01,\n",
       "       -4.9092e-01,  4.2511e-01, -1.0954e+00,  1.7124e-01,  2.2495e-01],\n",
       "      dtype=float32)"
      ]
     },
     "execution_count": 17,
     "metadata": {},
     "output_type": "execute_result"
    }
   ],
   "source": [
    "nlp.vocab[\"cheese\"].vector"
   ]
  },
  {
   "cell_type": "markdown",
   "metadata": {},
   "source": [
    "## Problem 1: Finding similar words"
   ]
  },
  {
   "cell_type": "markdown",
   "metadata": {},
   "source": [
    "Your first task is to use the word embeddings to find similar words. More specifically, we ask you to write a function `most_similar` that takes a vector $x$ and returns a list with the 10 most similar entries in spaCy&rsquo;s vocabulary, with similarity being defined by cosine.\n",
    "\n",
    "**Tip:** spaCy already has a [`most_similar`](https://spacy.io/api/vectors#most_similar) method that you can wrap."
   ]
  },
  {
   "cell_type": "code",
   "execution_count": 18,
   "metadata": {},
   "outputs": [],
   "source": [
    "# # TODO: Enter your implementation of `most_similar` here\n",
    "# # custom implementation-->slightly different results\n",
    "# import numpy as np\n",
    "# from numpy import dot\n",
    "# from numpy.linalg import norm\n",
    "\n",
    "# # cosine similarity\n",
    "# def cosine(v1, v2):\n",
    "#     if norm(v1) > 0 and norm(v2) > 0:\n",
    "#         return dot(v1, v2) / (norm(v1) * norm(v2))\n",
    "#     else:\n",
    "#         return 0.0\n",
    "\n",
    "# def most_similar(vect):\n",
    "#     computed_similarities = {}\n",
    "    \n",
    "#     for word in nlp.vocab:\n",
    "#         if not word.has_vector:\n",
    "#             continue\n",
    "#         similarity = cosine(vect,word.vector)\n",
    "#         computed_similarities[word] = similarity\n",
    "        \n",
    "#     sorted_similarities = sorted(computed_similarities.items(), key=lambda x:x[1], reverse=True)\n",
    "#     final_words = [word[0] for word in sorted_similarities[:10]]\n",
    "#     return final_words"
   ]
  },
  {
   "cell_type": "code",
   "execution_count": 5,
   "metadata": {},
   "outputs": [],
   "source": [
    "# most_similar(nlp.vocab[\"cheese\"].vector) # the output is spacy lexeme objects"
   ]
  },
  {
   "cell_type": "code",
   "execution_count": 19,
   "metadata": {},
   "outputs": [],
   "source": [
    "import numpy as np\n",
    "\n",
    "def most_similar(vect):\n",
    "    \n",
    "    query = np.asarray([vect])\n",
    "    mst_smlr = nlp.vocab.vectors.most_similar(query,n=10)\n",
    "    most_similar_words = []\n",
    "    for key in nlp.vocab.vectors.keys():\n",
    "        if key in mst_smlr[0].flatten().tolist():\n",
    "            most_similar_words.append (nlp.vocab[key])\n",
    "    return most_similar_words\n"
   ]
  },
  {
   "cell_type": "code",
   "execution_count": 20,
   "metadata": {},
   "outputs": [
    {
     "name": "stdout",
     "output_type": "stream",
     "text": [
      "Cheese BACON CHEDDAR Cheddar cheese CHEESE bacon Bacon cheeses cheddar\n"
     ]
    }
   ],
   "source": [
    "print(\" \".join(w.text for w in most_similar(nlp.vocab[\"cheese\"].vector)))"
   ]
  },
  {
   "cell_type": "markdown",
   "metadata": {},
   "source": [
    "Test your implementation by running the following code cell, which will print the 10 most similar words for the word *cheese*:"
   ]
  },
  {
   "cell_type": "markdown",
   "metadata": {},
   "source": [
    "You should get the following output:"
   ]
  },
  {
   "cell_type": "raw",
   "metadata": {},
   "source": [
    "Cheese CHEESE cheese Cheddar cheddar CHEDDAR BACON Bacon bacon cheeses"
   ]
  },
  {
   "cell_type": "markdown",
   "metadata": {},
   "source": [
    "Once you have a working implementation of `most_similar`, use it to think about in what sense the returned words really are &lsquo;similar&rsquo; to the cue word. Try to find examples where the cue word and at least one of the words returned by `most_similar` are in the following semantic relations:\n",
    "\n",
    "1. synonymy (exchangeable meanings)\n",
    "2. antonymy (opposite meanings)\n",
    "3. hyperonymy/hyponymy (more specific/less specific meanings)\n",
    "\n",
    "Document your examples in the code cell below."
   ]
  },
  {
   "cell_type": "code",
   "execution_count": 21,
   "metadata": {},
   "outputs": [
    {
     "name": "stdout",
     "output_type": "stream",
     "text": [
      "check the word: love\n",
      "love lOve lOVE LOVED LOve LOVe LOVE loved LoVe Love\n",
      "check the word: go\n",
      "GOING GO going Go gO GOing Going go GET Get\n",
      "check the word: Massachusetts\n",
      "MASSACHUSETTS HAMPSHIRE vermont CONNECTICUT Massachusetts hampshire Hampshire massachusetts Connecticut connecticut\n"
     ]
    }
   ],
   "source": [
    "# TODO: Insert code here to generate your examples\n",
    "\n",
    "print(\"check the word: love\")\n",
    "print(\" \".join(w.text for w in most_similar(nlp.vocab[\"love\"].vector)))\n",
    "\n",
    "print(\"check the word: go\")\n",
    "print(\" \".join(w.text for w in most_similar(nlp.vocab[\"go\"].vector)))\n",
    "\n",
    "print(\"check the word: Massachusetts\")\n",
    "print(\" \".join(w.text for w in most_similar(nlp.vocab[\"Massachusetts\"].vector)))"
   ]
  },
  {
   "cell_type": "markdown",
   "metadata": {},
   "source": [
    "We have run 3 examples :\n",
    "\n",
    "1. *love* - just the same word different written\n",
    "2. *go* - also different written, past & present participle from\n",
    "3. *Massachusetts* - Vermont, Connecticut are states locaded close to Massachusetts, Hampshire is a province in south England"
   ]
  },
  {
   "cell_type": "markdown",
   "metadata": {},
   "source": [
    "## Problem 2: Plotting similar words"
   ]
  },
  {
   "cell_type": "markdown",
   "metadata": {},
   "source": [
    "Your next task is to visualize the word embedding space by a plot. To do so, you will have to reduce the dimensionality of the space from 300 to 2&nbsp;dimensions. One suitable algorithm for this is [T-distributed Stochastic Neighbor Embedding](https://en.wikipedia.org/wiki/T-distributed_stochastic_neighbor_embedding) (TSNE), which is implemented in scikit-learn&rsquo;s [TSNE](https://scikit-learn.org/stable/modules/generated/sklearn.manifold.TSNE.html) class.\n",
    "\n",
    "Write a function `plot_most_similar` that takes a list of words (lexemes) and does the following:\n",
    "\n",
    "1. For each word in the list, find the most similar words (lexemes) in the spaCy vocabulary.\n",
    "2. Compute the TSNE transformation of the corresponding vectors to 2&nbsp;dimensions.\n",
    "3. Produce a scatter plot of the transformed vectors, with the vectors as points and the corresponding word forms as labels."
   ]
  },
  {
   "cell_type": "code",
   "execution_count": 9,
   "metadata": {},
   "outputs": [],
   "source": [
    "# TODO: Write code here to plot the most similar words\n",
    "# from sklearn.manifold import TSNE\n",
    "# import matplotlib.pyplot as plt\n",
    "# import math\n",
    "\n",
    "# def get_labels_vectors(obj):\n",
    "#     mst_similar = most_similar(obj.vector)\n",
    "#     labels = [w.text for w in mst_similar]\n",
    "#     vectors = [x.vector for x in mst_similar]\n",
    "#     X = np.array(vectors)\n",
    "#     X_embedded = TSNE(n_components=2).fit_transform(X)\n",
    "    \n",
    "#     result_obj = [X_embedded,labels]\n",
    "    \n",
    "#     return result_obj\n",
    "\n",
    "# def plot_mst_sim(X_embedded,labels):\n",
    "#     fig, ax = plt.subplots(figsize=(10,8))\n",
    "#     ax.scatter(X_embedded[:,0],X_embedded[:,1],c=np.arange(1,11))\n",
    "        \n",
    "#     for i, txt in enumerate(labels):\n",
    "#         ax.annotate(txt, (X_embedded[:,0][i],X_embedded[:,1][i]),\n",
    "#                     textcoords=\"offset points\", # how to position the text\n",
    "#                     xytext=(0,10), # distance from text to points (x,y)\n",
    "#                     ha='center')\n",
    "\n",
    "# def plot_most_similar(input_list):\n",
    "#     input_words = [lexeme.text for lexeme in input_list]\n",
    "#     n_rows = math.floor((len(input_list)/2)+1)\n",
    "# #     fig, ax = plt.subplots(nrows=n_rows, ncols=2,figsize=(12,11),constrained_layout=True)\n",
    "#     plt.figure(figsize=(18,14))\n",
    "#     for i,item in enumerate(input_list):\n",
    "#         X_embedded,labels = get_labels_vectors(item)\n",
    "#         plt.subplot(n_rows,2,i+1)\n",
    "       \n",
    "#         plt.scatter(X_embedded[:,0],X_embedded[:,1],c=np.arange(1,11))\n",
    "        \n",
    "        \n",
    "#         for k, txt in enumerate(labels):\n",
    "#             plt.annotate(txt, (X_embedded[:,0][k],X_embedded[:,1][k]),\n",
    "#                         textcoords=\"offset points\", # how to position the text\n",
    "#                         xytext=(0,8), # distance from text to points (x,y)\n",
    "#                          ha=\"center\", va=\"bottom\")\n",
    "#                          #horizontalalignment='center', verticalalignment='bottom')\n",
    "            \n",
    "#         plt.title('Plot for :' + input_words[i])\n",
    "#     _ = plt.suptitle(\"Most similar words Plot\", size=20)\n"
   ]
  },
  {
   "cell_type": "code",
   "execution_count": 10,
   "metadata": {},
   "outputs": [],
   "source": [
    "# plot_most_similar([nlp.vocab[w] for w in [\"cheese\", \"goat\", \"sweden\", \"university\", \"computer\"]])"
   ]
  },
  {
   "cell_type": "code",
   "execution_count": 22,
   "metadata": {},
   "outputs": [],
   "source": [
    "from sklearn.manifold import TSNE\n",
    "import matplotlib.pyplot as plt\n",
    "import matplotlib.patches as mpatches\n",
    "\n",
    "def plot_most_similar(input_list):\n",
    "    input_words = [lexeme.text for lexeme in input_list]\n",
    "    colors = [\"red\", \"blue\", \"orange\",\"black\",\"green\"]\n",
    "    colors_list = [item for item in colors for i in range(10)]\n",
    "    markers = ['^','+','o','x','*']\n",
    "    markers_list = [item for item in markers for i in range(10)]\n",
    "    \n",
    "    plt.figure(figsize=(18,14))\n",
    "    X = []\n",
    "    labels =[]\n",
    "    for i,obj in enumerate(input_list):\n",
    "        mst_similar = most_similar(obj.vector)\n",
    "        for lexeme in mst_similar:\n",
    "            X.append(lexeme.vector)\n",
    "            labels.append(lexeme.text)\n",
    "            \n",
    "            \n",
    "    X = np.array(X)\n",
    "        \n",
    "    X_embedded = TSNE(n_components=2).fit_transform(X)\n",
    "    \n",
    "    #print(X_embedded)   \n",
    "    #print(labels)\n",
    "    \n",
    "    for i,j,m,l in zip(X_embedded[:,0],X_embedded[:,1],markers_list,colors_list):\n",
    "        plt.scatter(i,j,marker=m,c=l,s=100)\n",
    "    \n",
    "    for k, txt in enumerate(labels):\n",
    "        plt.annotate(txt, (X_embedded[:,0][k],X_embedded[:,1][k]),\n",
    "                        textcoords=\"offset points\", # how to position the text\n",
    "                        xytext=(0,8), # distance from text to points (x,y)\n",
    "                         ha=\"center\", va=\"bottom\")\n",
    "                         #horizontalalignment='center', verticalalignment='bottom')\n",
    "    \n",
    "    patches = [ plt.plot([],[], marker=markers[i],color=colors[i], ls=\"\", mec=None, \n",
    "            label=input_words[i])[0] for i in range(len(colors)) ]\n",
    "    \n",
    "    plt.legend(handles=patches, title=\"custer word\", fancybox=True,loc='upper right')\n",
    "    #plt.legend(input_words,markers,title=\"custer word\", fancybox=True,loc='upper right')\n",
    "    plt.grid(True)\n",
    "    _ = plt.title(\"Most similar words Plot\", size=20)\n",
    "    plt.show()\n"
   ]
  },
  {
   "cell_type": "markdown",
   "metadata": {},
   "source": [
    "Test your code by running the following cell:"
   ]
  },
  {
   "cell_type": "code",
   "execution_count": 24,
   "metadata": {},
   "outputs": [
    {
     "data": {
      "image/png": "[encoded data removed]",
      "text/plain": [
       "<Figure size 1296x1008 with 1 Axes>"
      ]
     },
     "metadata": {
      "needs_background": "light"
     },
     "output_type": "display_data"
    }
   ],
   "source": [
    "plot_most_similar([nlp.vocab[w] for w in [\"cheese\", \"goat\", \"sweden\", \"university\", \"computer\"]])"
   ]
  },
  {
   "cell_type": "markdown",
   "metadata": {},
   "source": [
    "## Problem 3: Analogies"
   ]
  },
  {
   "cell_type": "markdown",
   "metadata": {},
   "source": [
    "In a **word analogy task** you are given three words $x$, $y$, $z$ and have to predict a word $w$ that has the same semantic relation to $z$ as $y$ has to $x$. One example is *man*, *woman*, *brother*, the expected answer being *sister* (the semantic relation is *male*/*female*).\n",
    "\n",
    "[Mikolov et al. (2013)](http://www.aclweb.org/anthology/N13-1090) have shown that word analogy tasks can be solved by adding and substracting word vectors in a word embedding: the vector for *sister* is the closest vector (in terms of cosine distance) to the vector *brother* $-$ *man* $+$ *woman*. Your next task is to write a function `fourth` that takes in three words (say *brother*, *man*, *woman*) and predicts the word that completes the analogy (in this case, *sister*)."
   ]
  },
  {
   "cell_type": "code",
   "execution_count": 25,
   "metadata": {},
   "outputs": [],
   "source": [
    "# TODO: Enter code here to solve the analogy problem\n",
    "import numpy as np\n",
    "from numpy import dot\n",
    "from numpy.linalg import norm\n",
    "\n",
    "# cosine similarity\n",
    "def cosine(v1, v2):\n",
    "    if norm(v1) > 0 and norm(v2) > 0:\n",
    "        return dot(v1, v2) / (norm(v1) * norm(v2))\n",
    "    else:\n",
    "        return 0.0\n",
    "\n",
    "\n",
    "def analogy(word1,word2,word3):\n",
    "    word1_text = word1.vector\n",
    "    word2_text = word2.vector\n",
    "    word3_text = word3.vector\n",
    "    \n",
    "    sentence = word1_text - word2_text + word3_text\n",
    "    \n",
    "#     query = np.asarray([sentence])\n",
    "#     mst_smlr = nlp.vocab.vectors.most_similar(query,n=1)\n",
    "#     for key in nlp.vocab.vectors.keys():\n",
    "#         if key in mst_smlr[0].flatten().tolist():\n",
    "#             pred_similar_words = nlp.vocab[key]\n",
    "#     return  pred_similar_word\n",
    "\n",
    "    computed_similarities = []\n",
    "    \n",
    "    for word in nlp.vocab:\n",
    "        if not word.has_vector:\n",
    "            continue\n",
    "        similarity = cosine(sentence, word.vector)\n",
    "        computed_similarities.append((word, similarity))\n",
    " \n",
    "    computed_similarities = sorted(computed_similarities, key=lambda item: -item[1])\n",
    "    semantic_relationship = computed_similarities[0][0]\n",
    "    \n",
    "\n",
    "    return semantic_relationship\n",
    "    "
   ]
  },
  {
   "cell_type": "markdown",
   "metadata": {},
   "source": [
    "Test your code by running the following code. You should get *sister*."
   ]
  },
  {
   "cell_type": "code",
   "execution_count": 26,
   "metadata": {},
   "outputs": [
    {
     "name": "stdout",
     "output_type": "stream",
     "text": [
      "The predicted word for brother -man + woman is :\n",
      " sister\n"
     ]
    }
   ],
   "source": [
    "print('The predicted word for brother -man + woman is :\\n',analogy(nlp.vocab[\"brother\"], nlp.vocab[\"man\"], nlp.vocab[\"woman\"]).text)"
   ]
  },
  {
   "cell_type": "markdown",
   "metadata": {},
   "source": [
    "You should also be able to get the following:\n",
    "\n",
    "* *Stockholm* $-$ *Sweden* $+$ *Germany* $=$ *Berlin*\n",
    "* *Swedish* $-$ *Sweden* $+$ *France* $=$ *French*\n",
    "* *better* $-$ *good* $+$ *bad* $=$ *worse*\n",
    "* *walked* $-$ *walk* $+$ *take* $=$ *took*\n",
    "\n",
    "Experiment with other examples to see whether you get the expected output. Provide three examples of analogies for which the model produces the &lsquo;correct&rsquo; answer, and three examples on which the model &lsquo;failed&rsquo;. Based on your theoretical understanding of word embeddings, do you have a hypothesis as to why the model succeeds/fails in completing the analogy? Discuss this question in a short text."
   ]
  },
  {
   "cell_type": "markdown",
   "metadata": {},
   "source": [
    "*TODO: Insert your examples and your discussion here*"
   ]
  },
  {
   "cell_type": "code",
   "execution_count": 27,
   "metadata": {},
   "outputs": [],
   "source": [
    "def print_prediction(word1,word2,word3):\n",
    "    if type(word1) is not str and type(word2) is not str and type(word3) is not str:\n",
    "        print('inputs must be strings')\n",
    "        sys.exit(-1)\n",
    "    else:\n",
    "        input1,input2,input3 = nlp.vocab[word1],nlp.vocab[word2],nlp.vocab[word3]\n",
    "        pred_word = analogy(input1,input2,input3).text\n",
    "        print('The predicted word for vector {0} - {1} + {2} is : \\n {3}'.format(word1,word2,word3,pred_word))\n",
    "        "
   ]
  },
  {
   "cell_type": "code",
   "execution_count": 28,
   "metadata": {},
   "outputs": [
    {
     "name": "stdout",
     "output_type": "stream",
     "text": [
      "The predicted word for vector Stockholm - Sweden + Germany is : \n",
      " BERLIN\n"
     ]
    }
   ],
   "source": [
    "print_prediction('Stockholm','Sweden' ,'Germany')"
   ]
  },
  {
   "cell_type": "code",
   "execution_count": 29,
   "metadata": {},
   "outputs": [
    {
     "name": "stdout",
     "output_type": "stream",
     "text": [
      "The predicted word for vector Swedish - Sweden + France is : \n",
      " french\n"
     ]
    }
   ],
   "source": [
    "print_prediction('Swedish','Sweden' ,'France')"
   ]
  },
  {
   "cell_type": "code",
   "execution_count": 30,
   "metadata": {},
   "outputs": [
    {
     "name": "stdout",
     "output_type": "stream",
     "text": [
      "The predicted word for vector better - good + bad is : \n",
      " worse\n"
     ]
    }
   ],
   "source": [
    "print_prediction('better','good' ,'bad')"
   ]
  },
  {
   "cell_type": "code",
   "execution_count": 31,
   "metadata": {},
   "outputs": [
    {
     "name": "stdout",
     "output_type": "stream",
     "text": [
      "The predicted word for vector walked - walk + take is : \n",
      " TOOK\n"
     ]
    }
   ],
   "source": [
    "print_prediction('walked','walk' ,'take')"
   ]
  },
  {
   "cell_type": "markdown",
   "metadata": {},
   "source": [
    "## Natural language inference dataset"
   ]
  },
  {
   "cell_type": "markdown",
   "metadata": {},
   "source": [
    "In the second part of this lab, you will be evaluating the usefulness of word embeddings in the context of a natural language inference task. The data for this part is the [SNLI corpus](https://nlp.stanford.edu/projects/snli/), a collection of 570k human-written English image caption pairs manually labeled with the labels *Entailment*, *Contradiction*, and *Neutral*. Consider the following sentence pair as an example:\n",
    "\n",
    "* Sentence 1: A soccer game with multiple males playing.\n",
    "* Sentence 2: Some men are playing a sport.\n",
    "\n",
    "This pair is labeled with *Entailment*, because sentence&nbsp;2 is logically entailed (implied) by sentence&nbsp;1 – if sentence&nbsp;1 is true, then sentence&nbsp;2 is true, too. The following sentence pair, on the other hand, is labeled with *Contradiction*, because both sentences cannot be true at the same time.\n",
    "\n",
    "* Sentence 1: A black race car starts up in front of a crowd of people.\n",
    "* Sentence 2: A man is driving down a lonely road.\n",
    "\n",
    "For detailed information about the corpus, refer to [Bowman et al. (2015)](https://www.aclweb.org/anthology/D15-1075/). For this lab, we load the training portion and the development portion of the dataset.\n",
    "\n",
    "**Note:** Because the SNLI corpus is rather big, we initially only load a small portion (25,000 samples) of the training data. Once you have working code for Problems&nbsp;4–6, you should set the flag `final` to `True` and re-run all cells with the full dataset."
   ]
  },
  {
   "cell_type": "code",
   "execution_count": 3,
   "metadata": {},
   "outputs": [
    {
     "name": "stdout",
     "output_type": "stream",
     "text": [
      "Number of sentence pairs in the training data: 549367\n",
      "Number of sentence pairs in the development data: 9842\n"
     ]
    }
   ],
   "source": [
    "import bz2\n",
    "import pandas as pd\n",
    "\n",
    "final_evaluation = True    # TODO: Set to True for the final evaluation!\n",
    "\n",
    "with bz2.open(\"train.jsonl.bz2\", 'rt') as source:\n",
    "    if final_evaluation:\n",
    "        df_train = pd.read_json(source, lines=True)\n",
    "    else:\n",
    "        df_train = pd.read_json(source, lines=True)[:25000]\n",
    "    print(\"Number of sentence pairs in the training data:\", len(df_train))\n",
    "\n",
    "with bz2.open(\"dev.jsonl.bz2\", 'rt') as source:\n",
    "    df_dev = pd.read_json(source, lines=True)\n",
    "    print(\"Number of sentence pairs in the development data:\", len(df_dev))"
   ]
  },
  {
   "cell_type": "markdown",
   "metadata": {},
   "source": [
    "When you inspect the data frames, you will see that we have preprocessed the sentences and separated tokens by spaces. In the columns `tagged1` and `tagged2`, we have added the part-of-speech tags for every token (as predicted by spaCy), also separated by spaces."
   ]
  },
  {
   "cell_type": "code",
   "execution_count": 4,
   "metadata": {},
   "outputs": [
    {
     "data": {
      "text/html": [
       "<div>\n",
       "<style scoped>\n",
       "    .dataframe tbody tr th:only-of-type {\n",
       "        vertical-align: middle;\n",
       "    }\n",
       "\n",
       "    .dataframe tbody tr th {\n",
       "        vertical-align: top;\n",
       "    }\n",
       "\n",
       "    .dataframe thead th {\n",
       "        text-align: right;\n",
       "    }\n",
       "</style>\n",
       "<table border=\"1\" class=\"dataframe\">\n",
       "  <thead>\n",
       "    <tr style=\"text-align: right;\">\n",
       "      <th></th>\n",
       "      <th>gold_label</th>\n",
       "      <th>sentence1</th>\n",
       "      <th>tags1</th>\n",
       "      <th>sentence2</th>\n",
       "      <th>tags2</th>\n",
       "    </tr>\n",
       "  </thead>\n",
       "  <tbody>\n",
       "    <tr>\n",
       "      <th>0</th>\n",
       "      <td>neutral</td>\n",
       "      <td>A person on a horse jumps over a broken down a...</td>\n",
       "      <td>DET NOUN ADP DET NOUN VERB ADP DET ADJ ADP NOU...</td>\n",
       "      <td>A person is training his horse for a competiti...</td>\n",
       "      <td>DET NOUN AUX VERB PRON NOUN ADP DET NOUN PUNCT</td>\n",
       "    </tr>\n",
       "    <tr>\n",
       "      <th>1</th>\n",
       "      <td>contradiction</td>\n",
       "      <td>A person on a horse jumps over a broken down a...</td>\n",
       "      <td>DET NOUN ADP DET NOUN VERB ADP DET ADJ ADP NOU...</td>\n",
       "      <td>A person is at a diner , ordering an omelette .</td>\n",
       "      <td>DET NOUN AUX ADP DET NOUN PUNCT VERB DET NOUN ...</td>\n",
       "    </tr>\n",
       "    <tr>\n",
       "      <th>2</th>\n",
       "      <td>entailment</td>\n",
       "      <td>A person on a horse jumps over a broken down a...</td>\n",
       "      <td>DET NOUN ADP DET NOUN VERB ADP DET ADJ ADP NOU...</td>\n",
       "      <td>A person is outdoors , on a horse .</td>\n",
       "      <td>DET NOUN AUX ADV PUNCT ADP DET NOUN PUNCT</td>\n",
       "    </tr>\n",
       "    <tr>\n",
       "      <th>3</th>\n",
       "      <td>neutral</td>\n",
       "      <td>Children smiling and waving at camera</td>\n",
       "      <td>NOUN VERB CCONJ VERB ADP NOUN</td>\n",
       "      <td>They are smiling at their parents</td>\n",
       "      <td>PRON AUX VERB ADP PRON NOUN</td>\n",
       "    </tr>\n",
       "    <tr>\n",
       "      <th>4</th>\n",
       "      <td>entailment</td>\n",
       "      <td>Children smiling and waving at camera</td>\n",
       "      <td>NOUN VERB CCONJ VERB ADP NOUN</td>\n",
       "      <td>There are children present</td>\n",
       "      <td>PRON AUX NOUN ADJ</td>\n",
       "    </tr>\n",
       "  </tbody>\n",
       "</table>\n",
       "</div>"
      ],
      "text/plain": [
       "      gold_label                                          sentence1  \\\n",
       "0        neutral  A person on a horse jumps over a broken down a...   \n",
       "1  contradiction  A person on a horse jumps over a broken down a...   \n",
       "2     entailment  A person on a horse jumps over a broken down a...   \n",
       "3        neutral              Children smiling and waving at camera   \n",
       "4     entailment              Children smiling and waving at camera   \n",
       "\n",
       "                                               tags1  \\\n",
       "0  DET NOUN ADP DET NOUN VERB ADP DET ADJ ADP NOU...   \n",
       "1  DET NOUN ADP DET NOUN VERB ADP DET ADJ ADP NOU...   \n",
       "2  DET NOUN ADP DET NOUN VERB ADP DET ADJ ADP NOU...   \n",
       "3                      NOUN VERB CCONJ VERB ADP NOUN   \n",
       "4                      NOUN VERB CCONJ VERB ADP NOUN   \n",
       "\n",
       "                                           sentence2  \\\n",
       "0  A person is training his horse for a competiti...   \n",
       "1    A person is at a diner , ordering an omelette .   \n",
       "2                A person is outdoors , on a horse .   \n",
       "3                  They are smiling at their parents   \n",
       "4                         There are children present   \n",
       "\n",
       "                                               tags2  \n",
       "0     DET NOUN AUX VERB PRON NOUN ADP DET NOUN PUNCT  \n",
       "1  DET NOUN AUX ADP DET NOUN PUNCT VERB DET NOUN ...  \n",
       "2          DET NOUN AUX ADV PUNCT ADP DET NOUN PUNCT  \n",
       "3                        PRON AUX VERB ADP PRON NOUN  \n",
       "4                                  PRON AUX NOUN ADJ  "
      ]
     },
     "execution_count": 4,
     "metadata": {},
     "output_type": "execute_result"
    }
   ],
   "source": [
    "df_train.head()"
   ]
  },
  {
   "cell_type": "code",
   "execution_count": 5,
   "metadata": {},
   "outputs": [
    {
     "data": {
      "text/plain": [
       "(549367, 5)"
      ]
     },
     "execution_count": 5,
     "metadata": {},
     "output_type": "execute_result"
    }
   ],
   "source": [
    "df_train.shape"
   ]
  },
  {
   "cell_type": "code",
   "execution_count": 6,
   "metadata": {},
   "outputs": [
    {
     "data": {
      "text/html": [
       "<div>\n",
       "<style scoped>\n",
       "    .dataframe tbody tr th:only-of-type {\n",
       "        vertical-align: middle;\n",
       "    }\n",
       "\n",
       "    .dataframe tbody tr th {\n",
       "        vertical-align: top;\n",
       "    }\n",
       "\n",
       "    .dataframe thead th {\n",
       "        text-align: right;\n",
       "    }\n",
       "</style>\n",
       "<table border=\"1\" class=\"dataframe\">\n",
       "  <thead>\n",
       "    <tr style=\"text-align: right;\">\n",
       "      <th></th>\n",
       "      <th>gold_label</th>\n",
       "      <th>sentence1</th>\n",
       "      <th>tags1</th>\n",
       "      <th>sentence2</th>\n",
       "      <th>tags2</th>\n",
       "    </tr>\n",
       "  </thead>\n",
       "  <tbody>\n",
       "    <tr>\n",
       "      <th>0</th>\n",
       "      <td>neutral</td>\n",
       "      <td>Two women are embracing while holding to go pa...</td>\n",
       "      <td>NUM NOUN AUX VERB SCONJ VERB PART VERB NOUN PUNCT</td>\n",
       "      <td>The sisters are hugging goodbye while holding ...</td>\n",
       "      <td>DET NOUN AUX VERB NOUN SCONJ VERB PART VERB NO...</td>\n",
       "    </tr>\n",
       "    <tr>\n",
       "      <th>1</th>\n",
       "      <td>entailment</td>\n",
       "      <td>Two women are embracing while holding to go pa...</td>\n",
       "      <td>NUM NOUN AUX VERB SCONJ VERB PART VERB NOUN PUNCT</td>\n",
       "      <td>Two woman are holding packages .</td>\n",
       "      <td>NUM NOUN AUX VERB NOUN PUNCT</td>\n",
       "    </tr>\n",
       "    <tr>\n",
       "      <th>2</th>\n",
       "      <td>contradiction</td>\n",
       "      <td>Two women are embracing while holding to go pa...</td>\n",
       "      <td>NUM NOUN AUX VERB SCONJ VERB PART VERB NOUN PUNCT</td>\n",
       "      <td>The men are fighting outside a deli .</td>\n",
       "      <td>DET NOUN AUX VERB ADP DET NOUN PUNCT</td>\n",
       "    </tr>\n",
       "    <tr>\n",
       "      <th>3</th>\n",
       "      <td>entailment</td>\n",
       "      <td>Two young children in blue jerseys , one with ...</td>\n",
       "      <td>NUM ADJ NOUN ADP ADJ NOUN PUNCT NUM ADP DET NO...</td>\n",
       "      <td>Two kids in numbered jerseys wash their hands .</td>\n",
       "      <td>NUM NOUN ADP ADJ NOUN VERB PRON NOUN PUNCT</td>\n",
       "    </tr>\n",
       "    <tr>\n",
       "      <th>4</th>\n",
       "      <td>neutral</td>\n",
       "      <td>Two young children in blue jerseys , one with ...</td>\n",
       "      <td>NUM ADJ NOUN ADP ADJ NOUN PUNCT NUM ADP DET NO...</td>\n",
       "      <td>Two kids at a ballgame wash their hands .</td>\n",
       "      <td>NUM NOUN ADP DET NOUN VERB PRON NOUN PUNCT</td>\n",
       "    </tr>\n",
       "  </tbody>\n",
       "</table>\n",
       "</div>"
      ],
      "text/plain": [
       "      gold_label                                          sentence1  \\\n",
       "0        neutral  Two women are embracing while holding to go pa...   \n",
       "1     entailment  Two women are embracing while holding to go pa...   \n",
       "2  contradiction  Two women are embracing while holding to go pa...   \n",
       "3     entailment  Two young children in blue jerseys , one with ...   \n",
       "4        neutral  Two young children in blue jerseys , one with ...   \n",
       "\n",
       "                                               tags1  \\\n",
       "0  NUM NOUN AUX VERB SCONJ VERB PART VERB NOUN PUNCT   \n",
       "1  NUM NOUN AUX VERB SCONJ VERB PART VERB NOUN PUNCT   \n",
       "2  NUM NOUN AUX VERB SCONJ VERB PART VERB NOUN PUNCT   \n",
       "3  NUM ADJ NOUN ADP ADJ NOUN PUNCT NUM ADP DET NO...   \n",
       "4  NUM ADJ NOUN ADP ADJ NOUN PUNCT NUM ADP DET NO...   \n",
       "\n",
       "                                           sentence2  \\\n",
       "0  The sisters are hugging goodbye while holding ...   \n",
       "1                   Two woman are holding packages .   \n",
       "2              The men are fighting outside a deli .   \n",
       "3    Two kids in numbered jerseys wash their hands .   \n",
       "4          Two kids at a ballgame wash their hands .   \n",
       "\n",
       "                                               tags2  \n",
       "0  DET NOUN AUX VERB NOUN SCONJ VERB PART VERB NO...  \n",
       "1                       NUM NOUN AUX VERB NOUN PUNCT  \n",
       "2               DET NOUN AUX VERB ADP DET NOUN PUNCT  \n",
       "3         NUM NOUN ADP ADJ NOUN VERB PRON NOUN PUNCT  \n",
       "4         NUM NOUN ADP DET NOUN VERB PRON NOUN PUNCT  "
      ]
     },
     "execution_count": 6,
     "metadata": {},
     "output_type": "execute_result"
    }
   ],
   "source": [
    "df_dev.head()"
   ]
  },
  {
   "cell_type": "code",
   "execution_count": 7,
   "metadata": {},
   "outputs": [
    {
     "data": {
      "text/plain": [
       "(9842, 5)"
      ]
     },
     "execution_count": 7,
     "metadata": {},
     "output_type": "execute_result"
    }
   ],
   "source": [
    "df_dev.shape"
   ]
  },
  {
   "cell_type": "markdown",
   "metadata": {},
   "source": [
    "## Problem 4: Two simple baselines"
   ]
  },
  {
   "cell_type": "markdown",
   "metadata": {},
   "source": [
    "Your first task is to establish two simple baselines for the natural language inference task."
   ]
  },
  {
   "cell_type": "markdown",
   "metadata": {},
   "source": [
    "### Random baseline\n",
    "\n",
    "One drawback with the Most Frequent Class (MFC) baseline is that it does not yield well-defined precision and recall values for all classes. Here we therefore ask you to implement a classifier that generates *random* predictions, where the probability of a class is determined by its relative frequency in the training data. This functionality is provided by scikit-learn&rsquo;s [DummyClassifier](https://scikit-learn.org/stable/modules/generated/sklearn.dummy.DummyClassifier.html). Write code to evaluate the performance of this classifier on the development data."
   ]
  },
  {
   "cell_type": "code",
   "execution_count": 8,
   "metadata": {},
   "outputs": [
    {
     "name": "stdout",
     "output_type": "stream",
     "text": [
      "shape of X_train : (549367, 4) , shape of X_test :(9842, 4)\n",
      "\n",
      "shape of y_train : (549367,) , shape of y_test :(9842,)\n"
     ]
    }
   ],
   "source": [
    "# TODO: Enter code here to implement the random baseline. Print the classification report.\n",
    "X_train,X_test = df_train.loc[:, df_train.columns != 'gold_label'] , df_dev.loc[:, df_dev.columns != 'gold_label']\n",
    "y_train,y_test = df_train['gold_label'] , df_dev['gold_label']\n",
    "\n",
    "print('shape of X_train : {0} , shape of X_test :{1}'.format(X_train.shape,X_test.shape))\n",
    "print('\\nshape of y_train : {0} , shape of y_test :{1}'.format(y_train.shape,y_test.shape))"
   ]
  },
  {
   "cell_type": "code",
   "execution_count": 16,
   "metadata": {},
   "outputs": [
    {
     "name": "stdout",
     "output_type": "stream",
     "text": [
      "Evaluation score on test data is : 0.34\n"
     ]
    }
   ],
   "source": [
    "from sklearn.dummy import DummyClassifier\n",
    "from sklearn.metrics import classification_report\n",
    "\n",
    "dummy = DummyClassifier(strategy='uniform', random_state=13)\n",
    "dummy.fit(X_train, y_train)\n",
    "\n",
    "print('Evaluation score on test data is : {0:.2f}'.format(dummy.score(X_test, y_test)))\n"
   ]
  },
  {
   "cell_type": "code",
   "execution_count": 39,
   "metadata": {},
   "outputs": [
    {
     "name": "stdout",
     "output_type": "stream",
     "text": [
      "               precision    recall  f1-score   support\n",
      "\n",
      "contradiction       0.33      0.34      0.33      3278\n",
      "   entailment       0.34      0.33      0.34      3329\n",
      "      neutral       0.33      0.34      0.34      3235\n",
      "\n",
      "     accuracy                           0.34      9842\n",
      "    macro avg       0.34      0.34      0.34      9842\n",
      " weighted avg       0.34      0.34      0.34      9842\n",
      "\n"
     ]
    }
   ],
   "source": [
    "print(classification_report(df_dev[\"gold_label\"], dummy.predict(X_test)))"
   ]
  },
  {
   "cell_type": "markdown",
   "metadata": {},
   "source": [
    "### One-sided baseline\n",
    "\n",
    "A second obvious baseline for the inference task is to predict the class label of a sentence pair based on the text of only one of the two sentences, just as in a standard document classification task. Put together a simple [CountVectorizer](https://scikit-learn.org/stable/modules/generated/sklearn.feature_extraction.text.CountVectorizer.html) + [LogisticRegression](https://scikit-learn.org/stable/modules/generated/sklearn.linear_model.LogisticRegression.html) pipeline that implements this idea, train it, and evaluate it on the development data. Is it better to base predictions on sentence&nbsp;1 or sentence&nbsp;2?"
   ]
  },
  {
   "cell_type": "code",
   "execution_count": 40,
   "metadata": {},
   "outputs": [
    {
     "name": "stdout",
     "output_type": "stream",
     "text": [
      "Evaluation score on test data using sentence 1 is : 0.34\n"
     ]
    }
   ],
   "source": [
    "# TODO: Enter code here to implement the one-sentence baselines. Print the classification reports.\n",
    "\n",
    "from sklearn.feature_extraction.text import CountVectorizer\n",
    "from sklearn.linear_model import LogisticRegression\n",
    "from sklearn.pipeline import Pipeline\n",
    "\n",
    "X_train_sentence1 ,X_test_sentence1 = df_train['sentence1'] , df_dev['sentence1']\n",
    "\n",
    "logistic_clf = Pipeline([\n",
    "    ('vect', CountVectorizer()),\n",
    "    ('clf', LogisticRegression())\n",
    "])\n",
    "\n",
    "logistic_clf.fit(X_train_sentence1,y_train)\n",
    "\n",
    "print('Evaluation score on test data using sentence 1 is : {0:.2f}'.format(logistic_clf.score(X_test_sentence1, y_test)))"
   ]
  },
  {
   "cell_type": "code",
   "execution_count": 41,
   "metadata": {},
   "outputs": [
    {
     "name": "stdout",
     "output_type": "stream",
     "text": [
      "Evaluation score on test data using sentence 2 is : 0.65\n"
     ]
    }
   ],
   "source": [
    "X_train_sentence2 ,X_test_sentence2 = df_train['sentence2'] , df_dev['sentence2']\n",
    "\n",
    "logistic_clf2 = Pipeline([\n",
    "    ('vect', CountVectorizer()),\n",
    "    ('clf', LogisticRegression())\n",
    "])\n",
    "\n",
    "logistic_clf2.fit(X_train_sentence2,y_train)\n",
    "\n",
    "print('Evaluation score on test data using sentence 2 is : {0:.2f}'.format(logistic_clf2.score(X_test_sentence2, y_test)))"
   ]
  },
  {
   "cell_type": "markdown",
   "metadata": {},
   "source": [
    "## Problem 5: A classifier based on manually engineered features"
   ]
  },
  {
   "cell_type": "markdown",
   "metadata": {},
   "source": [
    "[Bowman et al., 2015](https://www.aclweb.org/anthology/D15-1075/) evaluate a classifier that uses (among others) **cross-unigram features**. This term is used to refer to pairs of unigrams $(w_1, w_2)$ such that $w_1$ occurs in sentence&nbsp;1, $w_2$ occurs in sentence&nbsp;2, and both have been assigned the same part-of-speech tag.\n",
    "\n",
    "Your next task is to implement the cross-unigram classifier. To this end, the next cell contains skeleton code for a transformer that you can use as the first component in a classification pipeline. This transformer converts each row of the SNLI data frame into a space-separated string consisting of\n",
    "\n",
    "* the standard unigrams (of sentence&nbsp;1 or sentence&nbsp;2 – this depends on your results in Problem&nbsp;4)\n",
    "* the cross-unigrams, as defined above.\n",
    "\n",
    "The space-separated string forms a new &lsquo;document&rsquo; that can be passed to a vectorizer in exactly the same way as a standard sentence in Problem&nbsp;4."
   ]
  },
  {
   "cell_type": "code",
   "execution_count": 42,
   "metadata": {},
   "outputs": [],
   "source": [
    "from sklearn.base import BaseEstimator, TransformerMixin\n",
    "\n",
    "class CrossUnigramsTransformer(BaseEstimator, TransformerMixin):\n",
    "    def __init__(self):\n",
    "        pass\n",
    "\n",
    "    def fit(self, X, y=None):\n",
    "        return self\n",
    "\n",
    "    # Vectorize a sentence-tag-sentence-tag quadruple.\n",
    "    def _transform(self, sentence1, tags1, sentence2, tags2):\n",
    "        # TODO: Replace the following line with your own code\n",
    "\n",
    "        \n",
    "        sentence1 = sentence1.split()\n",
    "        sentence2 = sentence2.split()\n",
    "        tags1 = tags1.split()\n",
    "        tags2 = tags2.split()\n",
    "        final= []\n",
    "\n",
    "        for w2, t2 in zip(sentence2, tags2):\n",
    "            final.append(w2) # all the words from sentence2 as in the baseline\n",
    "            for w1, t1 in zip(sentence1, tags1):\n",
    "                if tags1 == tags2:\n",
    "                    final.append(w1 + \"+\" + w2)\n",
    "        string =''.join(final)\n",
    "        return string\n",
    "\n",
    "    def transform(self, X):\n",
    "        return [self._transform(s1, t1, s2, t2) for s1, t1, s2, t2 in X]"
   ]
  },
  {
   "cell_type": "markdown",
   "metadata": {},
   "source": [
    "Once you have an implementation of the transformer, extend the pipeline that you built for Problem&nbsp;4, train it, and evaluate it on the development data."
   ]
  },
  {
   "cell_type": "code",
   "execution_count": 43,
   "metadata": {},
   "outputs": [
    {
     "name": "stdout",
     "output_type": "stream",
     "text": [
      "\n",
      "Time to execute fit : 00:01:36\n",
      "\n",
      "Evaluation score on test data is : 0.44\n"
     ]
    }
   ],
   "source": [
    "# TODO: Enter code here to implement the one-sentence baselines. Print the classification reports.\n",
    "import time\n",
    "import numpy as np\n",
    "\n",
    "cross_clf = Pipeline([\n",
    "    ('transf', CrossUnigramsTransformer()),\n",
    "    ('vect',CountVectorizer()),\n",
    "    ('clf', LogisticRegression())\n",
    "])\n",
    "\n",
    "start_time= time.time()\n",
    "cross_clf.fit(np.asarray(X_train).reshape(-1,4),np.asarray(y_train).reshape(-1,))\n",
    "\n",
    "end_time = time.time()-start_time\n",
    "measured_time = time.strftime(\"%H:%M:%S\", time.gmtime(end_time))\n",
    "\n",
    "print('\\nTime to execute fit :' ,measured_time)\n",
    "\n",
    "print('\\nEvaluation score on test data is : {0:.2f}'.format(\n",
    "    cross_clf.score(np.asarray(X_test).reshape(-1,4),np.asarray(y_test).reshape(-1,))))"
   ]
  },
  {
   "cell_type": "code",
   "execution_count": 45,
   "metadata": {},
   "outputs": [
    {
     "name": "stdout",
     "output_type": "stream",
     "text": [
      "               precision    recall  f1-score   support\n",
      "\n",
      "contradiction       0.72      0.18      0.28      3278\n",
      "   entailment       0.76      0.21      0.33      3329\n",
      "      neutral       0.38      0.95      0.54      3235\n",
      "\n",
      "     accuracy                           0.44      9842\n",
      "    macro avg       0.62      0.45      0.39      9842\n",
      " weighted avg       0.62      0.44      0.38      9842\n",
      "\n"
     ]
    }
   ],
   "source": [
    "print(classification_report(df_dev[\"gold_label\"], cross_clf.predict(np.asarray(X_test).reshape(-1,4))))"
   ]
  },
  {
   "cell_type": "markdown",
   "metadata": {},
   "source": [
    "## Problem 6: A classifier based on word embeddings"
   ]
  },
  {
   "cell_type": "markdown",
   "metadata": {},
   "source": [
    "Your last task in this lab is to build a classifier for the natural language inference task that uses word embeddings. More specifically, we ask you to implement a vectorizer that represents each sentence as the sum of its word vectors – a representation known as the **continuous bag-of-words**. Thus, given that spaCy&rsquo;s word vectors have 300 dimensions, each sentence will be transformed into a 300-dimensional vector. To represent a sentence pair, the vectorizer should concatenate the vectors for the individual sentences; this yields a 600-dimensional vector. This vector can then be passed to a classifier.\n",
    "\n",
    "The next code cell contains skeleton code for the vectorizer. You will have to implement two methods: one that maps a single sentence to a vector (of length 300), and one that maps a sentence pair to a vector (of length 600)."
   ]
  },
  {
   "cell_type": "code",
   "execution_count": 11,
   "metadata": {},
   "outputs": [],
   "source": [
    "import numpy as np\n",
    "import time\n",
    "from sklearn.base import BaseEstimator, TransformerMixin\n",
    "\n",
    "class PairedSentenceVectorizer(BaseEstimator, TransformerMixin):\n",
    "    def __init__(self):\n",
    "        pass\n",
    "\n",
    "    def fit(self, X, y=None):\n",
    "        return self\n",
    "\n",
    "    # Vectorize a single sentence.\n",
    "    def _transform1(self, sentence):\n",
    "        # TODO: Replace the following line with your own code\n",
    "        words = sentence.split(' ')\n",
    "        sum_sentence_vectors = np.repeat(0, 300, axis=0).reshape(300,)\n",
    "        for word in words:\n",
    "            sum_sentence_vectors = sum_sentence_vectors + np.array(nlp.vocab[word].vector)\n",
    "        \n",
    "#         sentence_tokens = nlp(sentence)\n",
    "#         sum_sentence_vectors = np.sum([word.vector for word in sentence_tokens if word.has_vector],axis=0)\n",
    "#         sum_sentence_vectors =np.array(sum_sentence_vectors,dtype='float64')\n",
    "        \n",
    "        return sum_sentence_vectors\n",
    "\n",
    "    # Vectorize a pair of sentences.\n",
    "    def _transform2(self, sentence1, sentence2):\n",
    "        # TODO: Replace the following line with your own code\n",
    "        \n",
    "        sum_sentence_vectors1 = self._transform1(sentence1)\n",
    "        sum_sentence_vectors2 = self._transform1(sentence2)\n",
    "        \n",
    "        #sentence_tokens1 = nlp(sentence1)\n",
    "        #sum_sentence_vectors1 = np.sum([word.vector for word in sentence_tokens1 if word.has_vector],axis=0)\n",
    "        #sum_sentence_vectors1 = np.array(sum_sentence_vectors1,dtype='float64')\n",
    "\n",
    "        #sentence_tokens2 = nlp(sentence2)\n",
    "        #sum_sentence_vectors2 = np.sum([word.vector for word in sentence_tokens2 if word.has_vector],axis=0)\n",
    "        #sum_sentence_vectors2 = np.array(sum_sentence_vectors1,dtype='float64')\n",
    "        \n",
    "        sum_sentences_vector = np.concatenate((sum_sentence_vectors1,sum_sentence_vectors2),axis=0)\n",
    "        return sum_sentences_vector\n",
    "\n",
    "    def transform(self, X):\n",
    "        return np.concatenate(\n",
    "            [self._transform2(s1, s2).reshape(1, -1) for s1, s2 in X])"
   ]
  },
  {
   "cell_type": "markdown",
   "metadata": {},
   "source": [
    "Once you have a working implementation, build a pipeline consisting of the new vectorizer and a [multi-layer perceptron classifier](https://scikit-learn.org/stable/modules/generated/sklearn.neural_network.MLPClassifier.html). This more powerful (compared to logistic regression) classifier is called for here because we do not specify features by hand (as we did in Problem&nbsp;5), but want to let the model learn a good representation of the data by itself. Use 3&nbsp;hidden layers, each with size 300. It suffices to train the classifier for 8&nbsp;iterations (epochs)."
   ]
  },
  {
   "cell_type": "code",
   "execution_count": 14,
   "metadata": {},
   "outputs": [
    {
     "name": "stdout",
     "output_type": "stream",
     "text": [
      "Iteration 1, loss = 0.80026955\n",
      "Iteration 2, loss = 0.68607648\n",
      "Iteration 3, loss = 0.64518437\n",
      "Iteration 4, loss = 0.61784202\n",
      "Iteration 5, loss = 0.59869259\n",
      "Iteration 6, loss = 0.58105579\n",
      "Iteration 7, loss = 0.56702541\n",
      "Iteration 8, loss = 0.55469352\n",
      "\n",
      "Time to execute fit : 00:13:21\n",
      "\n",
      "Evaluation score on test data is : 0.77\n"
     ]
    }
   ],
   "source": [
    "# TODO: Enter code here to implement the word embeddings classifier. Print the classification report.\n",
    "\n",
    "from sklearn.neural_network import MLPClassifier\n",
    "from sklearn.preprocessing import StandardScaler,MinMaxScaler\n",
    "from sklearn.pipeline import Pipeline\n",
    "\n",
    "X_train_sentences ,X_test_sentences = df_train[['sentence1','sentence2']] , df_dev[['sentence1','sentence2']]\n",
    "\n",
    "start_time= time.time()\n",
    "nn_clf = Pipeline([\n",
    "    ('vect', PairedSentenceVectorizer()),\n",
    "    ('clf',  MLPClassifier(hidden_layer_sizes=(300,300,300), max_iter=8,warm_start=True,verbose=True))\n",
    "])\n",
    "\n",
    "nn_clf.fit(np.array(X_train_sentences).reshape(-1,2),np.array(y_train).reshape(-1,))\n",
    "\n",
    "end_time = time.time()-start_time\n",
    "measured_time = time.strftime(\"%H:%M:%S\", time.gmtime(end_time))\n",
    "\n",
    "print('\\nTime to execute fit :' ,measured_time)\n",
    "print('\\nEvaluation score on test data is : {0:.2f}'.format(\n",
    "    nn_clf.score(np.array(X_test_sentences).reshape(-1,2),np.array(y_test).reshape(-1,))))\n"
   ]
  },
  {
   "cell_type": "code",
   "execution_count": 25,
   "metadata": {},
   "outputs": [
    {
     "name": "stdout",
     "output_type": "stream",
     "text": [
      "               precision    recall  f1-score   support\n",
      "\n",
      "contradiction       0.80      0.75      0.78      3278\n",
      "   entailment       0.75      0.85      0.80      3329\n",
      "      neutral       0.75      0.69      0.72      3235\n",
      "\n",
      "     accuracy                           0.77      9842\n",
      "    macro avg       0.77      0.77      0.76      9842\n",
      " weighted avg       0.77      0.77      0.76      9842\n",
      "\n"
     ]
    }
   ],
   "source": [
    "print(classification_report(df_dev[\"gold_label\"], nn_clf.predict(np.asarray(X_test_sentences))))"
   ]
  },
  {
   "cell_type": "markdown",
   "metadata": {},
   "source": [
    "## Final evaluation"
   ]
  },
  {
   "cell_type": "markdown",
   "metadata": {},
   "source": [
    "Once you have working code for all problems, re-run the code for Problems&nbsp;4–6 with the full training data. What are your results? How do they differ from the results that you obtained for the smaller training data? How do you interpret this? Summarize your findings in a short text."
   ]
  },
  {
   "cell_type": "markdown",
   "metadata": {},
   "source": [
    "**Evaluation & Interpretation**"
   ]
  },
  {
   "cell_type": "markdown",
   "metadata": {},
   "source": [
    "## final_evaluation = False\n",
    "\n",
    "**Number of sentence pairs in the training data: 25000**\n",
    "\n",
    "**Number of sentence pairs in the development data: 9842**\n",
    "\n",
    "**Probelm 4**\n",
    "\n",
    "*Random baseline*\n",
    "\n",
    "Evaluation score on test data is : 0.34\n",
    "\n",
    "*One-sided baseline - sentence 1*\n",
    "\n",
    "Evaluation score on test data using sentence 1 is : 0.33\n",
    "\n",
    "*One-sided baseline - sentence 2*\n",
    "\n",
    "Evaluation score on test data using sentence 2 is : 0.60\n",
    "\n",
    "**Problem 5**\n",
    "\n",
    "*cross-unigram features*\n",
    "\n",
    "Time to execute fit : 00:00:00\n",
    "\n",
    "Evaluation score on test data is : 0.41\n",
    "\n",
    "\n",
    "**Problem 6**\n",
    "\n",
    "*classifier based on word embeddings*\n",
    "\n",
    "Time to execute fit : 00:05:50\n",
    "\n",
    "Evaluation score on test data is : 0.64\n"
   ]
  },
  {
   "cell_type": "markdown",
   "metadata": {},
   "source": [
    "## final_evaluation = TRUE\n",
    "\n",
    "**Number of sentence pairs in the training data: 549367**\n",
    "\n",
    "**Number of sentence pairs in the development data: 9842**\n",
    "\n",
    "**Probelm 4**\n",
    "\n",
    "*Random baseline*\n",
    "\n",
    "Evaluation score on test data using sentence 1 is : 0.34\n",
    "\n",
    "*One-sided baseline - sentence 1*\n",
    "\n",
    "Evaluation score on test data using sentence 1 is : 0.34\n",
    "\n",
    "*One-sided baseline - sentence 2*\n",
    "\n",
    "Evaluation score on test data using sentence 2 is : 0.65 \n",
    "\n",
    "**Problem 5**\n",
    "\n",
    "*cross-unigram features*\n",
    "\n",
    "Time to execute fit : 00:01:59\n",
    "\n",
    "Evaluation score on test data is : 0.44\n",
    "\n",
    "\n",
    "**Problem 6**\n",
    "\n",
    "*classifier based on word embeddings*\n",
    "\n",
    "Time to execute fit : 00:13:21\n",
    "\n",
    "Evaluation score on test data is : 0.77"
   ]
  },
  {
   "cell_type": "markdown",
   "metadata": {},
   "source": [
    "We can see that the score is better for each method (from task 4-6) with a larger amount of training data. \n",
    "The amount of training data has increased by 2197.468%. \n",
    "The amount of data required varies from method to method. \n",
    "Especially a neural network value, as in problem 6, needs a lot of data to be trained."
   ]
  },
  {
   "cell_type": "markdown",
   "metadata": {},
   "source": [
    "<div class=\"alert alert-info\">\n",
    "    Please read the section ‘General information’ on the ‘Labs’ page of the course website before submitting this notebook!\n",
    "</div>"
   ]
  }
 ],
 "metadata": {
  "kernelspec": {
   "display_name": "Python 3",
   "language": "python",
   "name": "python3"
  },
  "language_info": {
   "codemirror_mode": {
    "name": "ipython",
    "version": 3
   },
   "file_extension": ".py",
   "mimetype": "text/x-python",
   "name": "python",
   "nbconvert_exporter": "python",
   "pygments_lexer": "ipython3",
   "version": "3.7.5"
  }
 },
 "nbformat": 4,
 "nbformat_minor": 2
}
