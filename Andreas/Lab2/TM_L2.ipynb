{
 "cells": [
  {
   "cell_type": "markdown",
   "metadata": {
    "colab_type": "text",
    "id": "nfI29zJjSa3D"
   },
   "source": [
    "# L2: Text classification"
   ]
  },
  {
   "cell_type": "markdown",
   "metadata": {
    "colab_type": "text",
    "id": "jSDm-_BUSa3G"
   },
   "source": [
    "Text classification is the task of sorting text documents into predefined classes. The concrete problem you will be working on in this lab is the classification of texts with respect to their political affiliation. The specific texts you are going to classify are speeches held in the [Riksdag](https://www.riksdagen.se/en/), the Swedish national legislature."
   ]
  },
  {
   "cell_type": "markdown",
   "metadata": {
    "colab_type": "text",
    "id": "LDpUr0kESa3J"
   },
   "source": [
    "## Data set"
   ]
  },
  {
   "cell_type": "markdown",
   "metadata": {
    "colab_type": "text",
    "id": "z_U7M16ASa3L"
   },
   "source": [
    "The raw data for this lab comes from [The Riksdag’s Open Data](https://data.riksdagen.se/in-english/). We have tokenized the speeches and put them into two compressed [JSON](https://en.wikipedia.org/wiki/JSON) files:\n",
    "\n",
    "* `speeches-201718.json.bz2` (speeches from the 2017/2018 parliamentary session)\n",
    "* `speeches-201819.json.bz2` (ditto, from the 2018/2019 session)\n",
    "\n",
    "We start by loading these files into two separate data frames."
   ]
  },
  {
   "cell_type": "code",
   "execution_count": 1,
   "metadata": {
    "colab": {},
    "colab_type": "code",
    "id": "Uezd0YcjSa3O"
   },
   "outputs": [],
   "source": [
    "import pandas as pd\n",
    "import bz2\n",
    "\n",
    "with bz2.open(\"speeches-201718.json.bz2.json\") as source:\n",
    "    speeches_201718 = pd.read_json(source)\n",
    "\n",
    "with bz2.open(\"speeches-201819.json.bz2.json\") as source:\n",
    "    speeches_201819 = pd.read_json(source)"
   ]
  },
  {
   "cell_type": "markdown",
   "metadata": {
    "colab_type": "text",
    "id": "Gmuo5TygSa3X"
   },
   "source": [
    "When you inspect the two data frames, you can see that there are three labelled columns: `id` (the official speech ID), `words` (the space-separated words of the speech), and `party` (the party of the speaker, represented by its customary abbreviation)."
   ]
  },
  {
   "cell_type": "code",
   "execution_count": 2,
   "metadata": {
    "colab": {
     "base_uri": "https://localhost:8080/",
     "height": 206
    },
    "colab_type": "code",
    "id": "CKZ-jslDSa3Z",
    "outputId": "9b3fc356-1261-47a1-9958-3318ca24f653"
   },
   "outputs": [
    {
     "data": {
      "text/html": [
       "<div>\n",
       "<style scoped>\n",
       "    .dataframe tbody tr th:only-of-type {\n",
       "        vertical-align: middle;\n",
       "    }\n",
       "\n",
       "    .dataframe tbody tr th {\n",
       "        vertical-align: top;\n",
       "    }\n",
       "\n",
       "    .dataframe thead th {\n",
       "        text-align: right;\n",
       "    }\n",
       "</style>\n",
       "<table border=\"1\" class=\"dataframe\">\n",
       "  <thead>\n",
       "    <tr style=\"text-align: right;\">\n",
       "      <th></th>\n",
       "      <th>id</th>\n",
       "      <th>words</th>\n",
       "      <th>party</th>\n",
       "    </tr>\n",
       "  </thead>\n",
       "  <tbody>\n",
       "    <tr>\n",
       "      <td>0</td>\n",
       "      <td>H5-002-004</td>\n",
       "      <td>eders majestäter eders kungliga högheter herr ...</td>\n",
       "      <td>S</td>\n",
       "    </tr>\n",
       "    <tr>\n",
       "      <td>1</td>\n",
       "      <td>H5-003-001</td>\n",
       "      <td>aktuell debatt om situationen för ensamkommand...</td>\n",
       "      <td>V</td>\n",
       "    </tr>\n",
       "    <tr>\n",
       "      <td>2</td>\n",
       "      <td>H5-003-002</td>\n",
       "      <td>herr talman och ledamöter jag vill börja med a...</td>\n",
       "      <td>S</td>\n",
       "    </tr>\n",
       "    <tr>\n",
       "      <td>3</td>\n",
       "      <td>H5-003-003</td>\n",
       "      <td>herr talman åhörare den här debatten handlar a...</td>\n",
       "      <td>M</td>\n",
       "    </tr>\n",
       "    <tr>\n",
       "      <td>4</td>\n",
       "      <td>H5-003-004</td>\n",
       "      <td>herr talman ansvar och rättssäkerhet är två or...</td>\n",
       "      <td>SD</td>\n",
       "    </tr>\n",
       "    <tr>\n",
       "      <td>5</td>\n",
       "      <td>H5-003-005</td>\n",
       "      <td>herr talman jag inleder med att tacka vänsterp...</td>\n",
       "      <td>MP</td>\n",
       "    </tr>\n",
       "    <tr>\n",
       "      <td>6</td>\n",
       "      <td>H5-003-006</td>\n",
       "      <td>herr talman vi debatterar i dag situationen fö...</td>\n",
       "      <td>C</td>\n",
       "    </tr>\n",
       "    <tr>\n",
       "      <td>7</td>\n",
       "      <td>H5-003-007</td>\n",
       "      <td>herr talman runt om i landet på torg och i kla...</td>\n",
       "      <td>V</td>\n",
       "    </tr>\n",
       "    <tr>\n",
       "      <td>8</td>\n",
       "      <td>H5-003-008</td>\n",
       "      <td>aktuell debatt om situationen för ensamkommand...</td>\n",
       "      <td>L</td>\n",
       "    </tr>\n",
       "    <tr>\n",
       "      <td>9</td>\n",
       "      <td>H5-003-009</td>\n",
       "      <td>herr talman det råder ingen tvekan om att situ...</td>\n",
       "      <td>KD</td>\n",
       "    </tr>\n",
       "  </tbody>\n",
       "</table>\n",
       "</div>"
      ],
      "text/plain": [
       "           id                                              words party\n",
       "0  H5-002-004  eders majestäter eders kungliga högheter herr ...     S\n",
       "1  H5-003-001  aktuell debatt om situationen för ensamkommand...     V\n",
       "2  H5-003-002  herr talman och ledamöter jag vill börja med a...     S\n",
       "3  H5-003-003  herr talman åhörare den här debatten handlar a...     M\n",
       "4  H5-003-004  herr talman ansvar och rättssäkerhet är två or...    SD\n",
       "5  H5-003-005  herr talman jag inleder med att tacka vänsterp...    MP\n",
       "6  H5-003-006  herr talman vi debatterar i dag situationen fö...     C\n",
       "7  H5-003-007  herr talman runt om i landet på torg och i kla...     V\n",
       "8  H5-003-008  aktuell debatt om situationen för ensamkommand...     L\n",
       "9  H5-003-009  herr talman det råder ingen tvekan om att situ...    KD"
      ]
     },
     "execution_count": 2,
     "metadata": {},
     "output_type": "execute_result"
    }
   ],
   "source": [
    "speeches_201718.head(n=10)"
   ]
  },
  {
   "cell_type": "markdown",
   "metadata": {
    "colab_type": "text",
    "id": "Fg-fmU6USa3f"
   },
   "source": [
    "Throughout the lab, we will be using the speeches from 2017/2018 as our training data, and the speeches from 2018/2019 as our test data."
   ]
  },
  {
   "cell_type": "code",
   "execution_count": 3,
   "metadata": {
    "colab": {},
    "colab_type": "code",
    "id": "i3KDJxlESa3h"
   },
   "outputs": [],
   "source": [
    "training_data, test_data = speeches_201718, speeches_201819"
   ]
  },
  {
   "cell_type": "markdown",
   "metadata": {
    "colab_type": "text",
    "id": "nyOHR5LKSa3o"
   },
   "source": [
    "For later reference, we store the sorted list of party abbreviations."
   ]
  },
  {
   "cell_type": "code",
   "execution_count": 4,
   "metadata": {
    "colab": {
     "base_uri": "https://localhost:8080/",
     "height": 34
    },
    "colab_type": "code",
    "id": "8nYWsTBoSa3p",
    "outputId": "80d8664f-71fa-4cee-9102-cc2e42d6bc06"
   },
   "outputs": [
    {
     "name": "stdout",
     "output_type": "stream",
     "text": [
      "['C', 'KD', 'L', 'M', 'MP', 'S', 'SD', 'V']\n"
     ]
    }
   ],
   "source": [
    "parties = sorted(training_data[\"party\"].unique())\n",
    "print(parties)"
   ]
  },
  {
   "cell_type": "markdown",
   "metadata": {
    "colab_type": "text",
    "id": "vDB07zUkSa3v"
   },
   "source": [
    "## Problem 1: Visualization"
   ]
  },
  {
   "cell_type": "markdown",
   "metadata": {
    "colab_type": "text",
    "id": "ol_2alkJSa3v"
   },
   "source": [
    "Your first task is to get to know the data better by plotting a simple visualization.\n",
    "\n",
    "If you are not familiar with the Swedish political system and the parties represented in the Riksdag in particular, then we suggest that you have a look at the Wikipedia article about the [2018 Swedish general election](https://en.wikipedia.org/wiki/2018_Swedish_general_election).\n",
    "\n",
    "For the lab, we ask you to compare the two data frames with respect to the distribution of the speeches over the different parties. Write code to generate two bar plots that visualize this information, one for the 2017/2018 speeches and one for the 2018/2019 speeches. Inspect the two plots, and compare them\n",
    "\n",
    "* to each other\n",
    "* to the results of the 2014 and the 2018 general elections\n",
    "\n",
    "Summarize your observations in a short text in the cell below.\n",
    "\n",
    "**Tip:** If you need help with creating bar plots, [Bar Plot using Pandas](https://dfrieds.com/data-visualizations/bar-plot-python-pandas) provides a useful tutorial."
   ]
  },
  {
   "cell_type": "code",
   "execution_count": 6,
   "metadata": {
    "colab": {
     "base_uri": "https://localhost:8080/",
     "height": 499
    },
    "colab_type": "code",
    "id": "9MBLxsjYTeCB",
    "outputId": "974428ba-3c36-490c-cb7c-1f3f18ff38e5"
   },
   "outputs": [
    {
     "data": {
      "image/png": "[encoded data removed]",
      "text/plain": [
       "<Figure size 864x576 with 1 Axes>"
      ]
     },
     "metadata": {},
     "output_type": "display_data"
    }
   ],
   "source": [
    "import matplotlib.pyplot as plt\n",
    "import numpy as np\n",
    "\n",
    "plt.rcParams[\"figure.figsize\"] = (12,8)\n",
    "plt.style.use('dark_background')\n",
    "\n",
    "ind = np.arange(len(parties))\n",
    "\n",
    "#plt.subplot(121)\n",
    "p1 = plt.bar(ind,height=training_data['party'].value_counts(),color='cornflowerblue')\n",
    "\n",
    "#plt.subplot(122)\n",
    "p2 = plt.bar(ind,height=test_data['party'].value_counts())\n",
    "plt.ylabel('Number of speeches')\n",
    "plt.xticks(ind, ('S', 'M', 'MP', 'SD', 'V','C','KD','L'))\n",
    "plt.title('Stacked Bar Plot ')\n",
    "plt.legend((p1[0], p2[0]), ('2017-2018', '2018-2019'))\n",
    "\n",
    "plt.show()"
   ]
  },
  {
   "cell_type": "code",
   "execution_count": 7,
   "metadata": {
    "colab": {},
    "colab_type": "code",
    "id": "W8hOyLkwYyfG"
   },
   "outputs": [],
   "source": [
    "# plt.style.available "
   ]
  },
  {
   "cell_type": "markdown",
   "metadata": {
    "colab_type": "text",
    "id": "i8xb5W7eSa3x"
   },
   "source": [
    "*TODO: Enter your summary here*"
   ]
  },
  {
   "cell_type": "markdown",
   "metadata": {
    "colab_type": "text",
    "id": "rUqp436sSa3z"
   },
   "source": [
    "## Problem 2: Naive Bayes classifier"
   ]
  },
  {
   "cell_type": "markdown",
   "metadata": {
    "colab_type": "text",
    "id": "phFTa0ajSa32"
   },
   "source": [
    "You are now ready to train and evaluate a classifier. More specifically, we ask you to train a [Multinomial Naive Bayes](https://scikit-learn.org/stable/modules/naive_bayes.html#multinomial-naive-bayes) classifier. You will have to\n",
    "\n",
    "1. vectorize the speeches in the training data\n",
    "2. instantiate and fit the Naive Bayes model\n",
    "3. evaluate the model on the test data\n",
    "\n",
    "The scikit-learn library provides a convenience class [Pipeline](https://scikit-learn.org/stable/modules/generated/sklearn.pipeline.Pipeline.html) that allows you to solve the first two tasks with very compact code. For the evaluation you can use the function [`classification_report`](https://scikit-learn.org/stable/modules/generated/sklearn.metrics.classification_report.html), which will report per-class precision, recall and F1, as well as overall accuracy."
   ]
  },
  {
   "cell_type": "code",
   "execution_count": 9,
   "metadata": {},
   "outputs": [],
   "source": [
    "# just to remove some anoyning warnings\n",
    "import warnings\n",
    "warnings.filterwarnings('ignore')\n"
   ]
  },
  {
   "cell_type": "code",
   "execution_count": 10,
   "metadata": {
    "colab": {},
    "colab_type": "code",
    "id": "j6HNOWMqSa33"
   },
   "outputs": [],
   "source": [
    "# TODO: Write code here to train and evaluate a Multinomial Naive Bayes classifier\n",
    "\n",
    "from sklearn.feature_extraction.text import CountVectorizer\n",
    "from sklearn.feature_extraction.text import TfidfTransformer\n",
    "from sklearn.feature_extraction.text import TfidfVectorizer\n",
    "from sklearn.naive_bayes import MultinomialNB\n",
    "from sklearn.metrics import classification_report\n",
    "from sklearn.pipeline import Pipeline\n",
    "from sklearn.preprocessing import LabelEncoder\n",
    "from nltk import word_tokenize\n",
    "from nltk.corpus import stopwords\n",
    "from nltk.stem import WordNetLemmatizer \n",
    "from spacy.lemmatizer import Lemmatizer\n",
    "\n",
    "\n",
    "class LemmaTokenizer(object):\n",
    "    def __init__(self):\n",
    "        self.wnl = WordNetLemmatizer()\n",
    "    def __call__(self, articles):\n",
    "        return [self.wnl.lemmatize(t) for t in word_tokenize(articles)]\n",
    "\n",
    "#labelencoder_Y = LabelEncoder()\n",
    "#y_train = labelencoder_Y.fit_transform(training_data['party'])\n",
    "#y_test = labelencoder_Y.fit_transform(test_data['party'])\n",
    "\n",
    "text_clf = Pipeline([\n",
    "                     #('vect', CountVectorizer()),\n",
    "                     #('tfidf', TfidfTransformer()),\n",
    "                     ('tfidfvect', TfidfVectorizer(stop_words=stopwords.words('swedish'),\n",
    "                                                   tokenizer=LemmaTokenizer())),\n",
    "                     ('clf', MultinomialNB())])\n",
    "\n",
    "text_clf.fit(training_data['words'], training_data['party'])\n",
    "\n",
    "y_pred = text_clf.predict(test_data['words'])"
   ]
  },
  {
   "cell_type": "code",
   "execution_count": 11,
   "metadata": {
    "colab": {
     "base_uri": "https://localhost:8080/",
     "height": 34
    },
    "colab_type": "code",
    "id": "omGDm2As7LKU",
    "outputId": "081488d4-72ad-4b94-c525-2ee6f2df4ad0"
   },
   "outputs": [
    {
     "data": {
      "text/plain": [
       "array(['S', 'S', 'S', ..., 'S', 'S', 'S'], dtype='<U2')"
      ]
     },
     "execution_count": 11,
     "metadata": {},
     "output_type": "execute_result"
    }
   ],
   "source": [
    "y_pred"
   ]
  },
  {
   "cell_type": "code",
   "execution_count": 12,
   "metadata": {
    "colab": {
     "base_uri": "https://localhost:8080/",
     "height": 34
    },
    "colab_type": "code",
    "id": "Yj0v7zitkDmE",
    "outputId": "62686b1f-5545-4448-9e52-834141c736b8"
   },
   "outputs": [
    {
     "data": {
      "text/plain": [
       "array(['M', 'S', 'M', ..., 'S', 'M', 'S'], dtype='<U2')"
      ]
     },
     "execution_count": 12,
     "metadata": {},
     "output_type": "execute_result"
    }
   ],
   "source": [
    "y_true_test = np.array(test_data['party'],dtype='<U2')\n",
    "y_true_test"
   ]
  },
  {
   "cell_type": "code",
   "execution_count": 13,
   "metadata": {
    "colab": {
     "base_uri": "https://localhost:8080/",
     "height": 34
    },
    "colab_type": "code",
    "id": "eU8_CNrA3bp4",
    "outputId": "fb13f518-3219-4c06-9f03-8f9f3a4e2136"
   },
   "outputs": [
    {
     "name": "stdout",
     "output_type": "stream",
     "text": [
      "Accuracy on test data ==> 29.93%\n"
     ]
    }
   ],
   "source": [
    "print(\"Accuracy on test data ==> {0:.{1}f}%\".format((np.mean(y_pred == y_true_test)*100),2))"
   ]
  },
  {
   "cell_type": "code",
   "execution_count": 14,
   "metadata": {
    "colab": {
     "base_uri": "https://localhost:8080/",
     "height": 278
    },
    "colab_type": "code",
    "id": "8O4TeMygh-xK",
    "outputId": "a2d132d0-572b-4e83-c89b-d759d2701554"
   },
   "outputs": [
    {
     "name": "stdout",
     "output_type": "stream",
     "text": [
      "              precision    recall  f1-score   support\n",
      "\n",
      "           C       0.00      0.00      0.00       671\n",
      "          KD       0.00      0.00      0.00       821\n",
      "           L       0.00      0.00      0.00       560\n",
      "           M       0.53      0.00      0.01      1644\n",
      "          MP       0.00      0.00      0.00       809\n",
      "           S       0.30      1.00      0.46      2773\n",
      "          SD       0.00      0.00      0.00      1060\n",
      "           V       0.00      0.00      0.00       950\n",
      "\n",
      "    accuracy                           0.30      9288\n",
      "   macro avg       0.10      0.13      0.06      9288\n",
      "weighted avg       0.18      0.30      0.14      9288\n",
      "\n"
     ]
    }
   ],
   "source": [
    "print(classification_report(y_true_test,y_pred, target_names=parties))"
   ]
  },
  {
   "cell_type": "markdown",
   "metadata": {
    "colab_type": "text",
    "id": "XUz9a6vRSa3_"
   },
   "source": [
    "Would you have expected the results that you got?"
   ]
  },
  {
   "cell_type": "markdown",
   "metadata": {
    "colab_type": "text",
    "id": "lea7Rg00Sa4B"
   },
   "source": [
    "## Problem 3: Baseline"
   ]
  },
  {
   "cell_type": "markdown",
   "metadata": {
    "colab_type": "text",
    "id": "rgHgwikqSa4D"
   },
   "source": [
    "Evaluation metrics such as accuracy should not be understood as absolute measures of performance, but should be used only to compare different classifiers. When other classifiers are not available, a simple baseline for text classification is **Most Frequent Class (MFC)**. One way to think of this baseline is as a classifier that, for every document, predicts that class which appears most often in the training data.\n",
    "\n",
    "Determine the most frequent class in the 2017/2018 data. What is the accuracy of the MFC baseline on the test data? Given this baseline accuracy, how do you assess the results of the Naive Bayes classifier from Problem&nbsp;2? Answer with a short text."
   ]
  },
  {
   "cell_type": "code",
   "execution_count": 15,
   "metadata": {
    "colab": {},
    "colab_type": "code",
    "id": "b7D0XUJiSa4E"
   },
   "outputs": [],
   "source": [
    "# TODO: Write code here to print the baseline accuracy\n",
    "mfc = np.array(np.repeat('S', len(test_data['party'])),dtype='<U2')\n"
   ]
  },
  {
   "cell_type": "code",
   "execution_count": 16,
   "metadata": {
    "colab": {
     "base_uri": "https://localhost:8080/",
     "height": 34
    },
    "colab_type": "code",
    "id": "f2n6GdOxZyET",
    "outputId": "b53f7a99-9840-41b4-9553-53a92cdcb7fa"
   },
   "outputs": [
    {
     "name": "stdout",
     "output_type": "stream",
     "text": [
      "Accuracy on test data ==> 29.86%\n"
     ]
    }
   ],
   "source": [
    "print(\"Accuracy on test data ==> {0:.{1}f}%\".format((np.mean(mfc == y_true_test)*100),2))"
   ]
  },
  {
   "cell_type": "markdown",
   "metadata": {
    "colab_type": "text",
    "id": "azYN5DEzSa4K"
   },
   "source": [
    "*TODO: Enter your answer here*"
   ]
  },
  {
   "cell_type": "markdown",
   "metadata": {
    "colab_type": "text",
    "id": "ugqOaZ9mSa4N"
   },
   "source": [
    "## Problem 4: Creating a balanced data set"
   ]
  },
  {
   "cell_type": "markdown",
   "metadata": {
    "colab_type": "text",
    "id": "o0wNZAHfSa4O"
   },
   "source": [
    "As you saw in Problem&nbsp;1, the distribution of the speeches over the eight different parties (classes) is imbalanced. One technique used to alleviate this is **undersampling**, in which one randomly removes samples from over-represented classes until all classes are represented with the same number of samples.\n",
    "\n",
    "Implement undersampling to create a balanced subset of the training data. Rerun the evaluation from Problem&nbsp;2 on the balanced data and compare the results. Discuss your findings in a short text. Would you argue that undersampling make sense for the task of predicting the party of a speaker?\n",
    "\n",
    "**Hint:** Your balanced subset should consist of 5,752 speeches."
   ]
  },
  {
   "cell_type": "code",
   "execution_count": 56,
   "metadata": {
    "colab": {},
    "colab_type": "code",
    "id": "vzTxIMVVSa4Q"
   },
   "outputs": [],
   "source": [
    "# TODO: Write code here to implement undersampling\n",
    "import math\n",
    "\n",
    "def undersampling_class(df,size,target,replace_flag=False): \n",
    "   \n",
    "  '''function to create balanced classed dataset '''\n",
    "  classes = df[target].unique()\n",
    "  size_of_class = math.floor(size / len(classes))\n",
    "  indexes = []\n",
    "  for i in range(len(classes)):\n",
    "    col_indexes = df[df[target]==classes[i]].index\n",
    "    indexes.append(np.random.choice(col_indexes,size_of_class, replace=replace_flag))\n",
    "  under_sample_indices = np.concatenate(indexes)\n",
    "  np.random.shuffle(under_sample_indices)\n",
    "  under_sample_df = df.loc[under_sample_indices]\n",
    "  return under_sample_df\n"
   ]
  },
  {
   "cell_type": "code",
   "execution_count": 57,
   "metadata": {
    "colab": {
     "base_uri": "https://localhost:8080/",
     "height": 520
    },
    "colab_type": "code",
    "id": "_QkrfZMbu90H",
    "outputId": "d3ebbfe8-92fd-4991-ee76-97076f2a280f"
   },
   "outputs": [
    {
     "data": {
      "text/plain": [
       "<matplotlib.axes._subplots.AxesSubplot at 0x7f4589027690>"
      ]
     },
     "execution_count": 57,
     "metadata": {},
     "output_type": "execute_result"
    },
    {
     "data": {
      "image/png": "[encoded data removed]",
      "text/plain": [
       "<Figure size 864x576 with 1 Axes>"
      ]
     },
     "metadata": {},
     "output_type": "display_data"
    }
   ],
   "source": [
    " under_sampled_training = undersampling_class(training_data,5752,'party')\n",
    "    \n",
    " under_sampled_training['party'].value_counts().plot(kind='bar',color='cornflowerblue',\n",
    "                                                     title='Bar Plot balanced classes')"
   ]
  },
  {
   "cell_type": "code",
   "execution_count": 19,
   "metadata": {
    "colab": {
     "base_uri": "https://localhost:8080/",
     "height": 34
    },
    "colab_type": "code",
    "id": "P6IvuLHzqDCV",
    "outputId": "980dfba7-e408-46cc-a600-10ce1d58366f"
   },
   "outputs": [
    {
     "data": {
      "text/plain": [
       "(5752, 3)"
      ]
     },
     "execution_count": 19,
     "metadata": {},
     "output_type": "execute_result"
    }
   ],
   "source": [
    "under_sampled_training.shape"
   ]
  },
  {
   "cell_type": "code",
   "execution_count": 20,
   "metadata": {},
   "outputs": [
    {
     "data": {
      "text/html": [
       "<div>\n",
       "<style scoped>\n",
       "    .dataframe tbody tr th:only-of-type {\n",
       "        vertical-align: middle;\n",
       "    }\n",
       "\n",
       "    .dataframe tbody tr th {\n",
       "        vertical-align: top;\n",
       "    }\n",
       "\n",
       "    .dataframe thead th {\n",
       "        text-align: right;\n",
       "    }\n",
       "</style>\n",
       "<table border=\"1\" class=\"dataframe\">\n",
       "  <thead>\n",
       "    <tr style=\"text-align: right;\">\n",
       "      <th></th>\n",
       "      <th>id</th>\n",
       "      <th>words</th>\n",
       "      <th>party</th>\n",
       "    </tr>\n",
       "  </thead>\n",
       "  <tbody>\n",
       "    <tr>\n",
       "      <td>10711</td>\n",
       "      <td>H5-123-007</td>\n",
       "      <td>fru talman då missuppfattade jag rickard perss...</td>\n",
       "      <td>C</td>\n",
       "    </tr>\n",
       "    <tr>\n",
       "      <td>7377</td>\n",
       "      <td>H5-083-039</td>\n",
       "      <td>fru talman jag tror att det är få demokrater i...</td>\n",
       "      <td>MP</td>\n",
       "    </tr>\n",
       "    <tr>\n",
       "      <td>7478</td>\n",
       "      <td>H5-085-004</td>\n",
       "      <td>herr talman tack för svaret isabella lövin men...</td>\n",
       "      <td>M</td>\n",
       "    </tr>\n",
       "    <tr>\n",
       "      <td>10006</td>\n",
       "      <td>H5-114-029</td>\n",
       "      <td>herr talman jens holm har frågat mig om jag de...</td>\n",
       "      <td>MP</td>\n",
       "    </tr>\n",
       "    <tr>\n",
       "      <td>7157</td>\n",
       "      <td>H5-081-006</td>\n",
       "      <td>herr talman nooshi dadgostar använder nästan å...</td>\n",
       "      <td>C</td>\n",
       "    </tr>\n",
       "    <tr>\n",
       "      <td>9736</td>\n",
       "      <td>H5-112-015</td>\n",
       "      <td>fru talman jag börjar med att yrka bifall till...</td>\n",
       "      <td>KD</td>\n",
       "    </tr>\n",
       "    <tr>\n",
       "      <td>8099</td>\n",
       "      <td>H5-092-037</td>\n",
       "      <td>herr talman vi politiker slänger oss ofta med ...</td>\n",
       "      <td>KD</td>\n",
       "    </tr>\n",
       "    <tr>\n",
       "      <td>7396</td>\n",
       "      <td>H5-083-058</td>\n",
       "      <td>fru talman och fru statsråd den här interpella...</td>\n",
       "      <td>C</td>\n",
       "    </tr>\n",
       "    <tr>\n",
       "      <td>11046</td>\n",
       "      <td>H5-127-011</td>\n",
       "      <td>herr talman tack bjälkö för frågan och för möj...</td>\n",
       "      <td>S</td>\n",
       "    </tr>\n",
       "    <tr>\n",
       "      <td>4204</td>\n",
       "      <td>H5-050-053</td>\n",
       "      <td>utbildning och universitetsforskning fru talma...</td>\n",
       "      <td>C</td>\n",
       "    </tr>\n",
       "    <tr>\n",
       "      <td>4700</td>\n",
       "      <td>H5-054-079</td>\n",
       "      <td>herr talman tack ministern för svaret jag har ...</td>\n",
       "      <td>C</td>\n",
       "    </tr>\n",
       "    <tr>\n",
       "      <td>7520</td>\n",
       "      <td>H5-085-046</td>\n",
       "      <td>herr talman när säkerhetspolisen presenterade ...</td>\n",
       "      <td>L</td>\n",
       "    </tr>\n",
       "  </tbody>\n",
       "</table>\n",
       "</div>"
      ],
      "text/plain": [
       "               id                                              words party\n",
       "10711  H5-123-007  fru talman då missuppfattade jag rickard perss...     C\n",
       "7377   H5-083-039  fru talman jag tror att det är få demokrater i...    MP\n",
       "7478   H5-085-004  herr talman tack för svaret isabella lövin men...     M\n",
       "10006  H5-114-029  herr talman jens holm har frågat mig om jag de...    MP\n",
       "7157   H5-081-006  herr talman nooshi dadgostar använder nästan å...     C\n",
       "9736   H5-112-015  fru talman jag börjar med att yrka bifall till...    KD\n",
       "8099   H5-092-037  herr talman vi politiker slänger oss ofta med ...    KD\n",
       "7396   H5-083-058  fru talman och fru statsråd den här interpella...     C\n",
       "11046  H5-127-011  herr talman tack bjälkö för frågan och för möj...     S\n",
       "4204   H5-050-053  utbildning och universitetsforskning fru talma...     C\n",
       "4700   H5-054-079  herr talman tack ministern för svaret jag har ...     C\n",
       "7520   H5-085-046  herr talman när säkerhetspolisen presenterade ...     L"
      ]
     },
     "execution_count": 20,
     "metadata": {},
     "output_type": "execute_result"
    }
   ],
   "source": [
    "under_sampled_training.head(n=12)"
   ]
  },
  {
   "cell_type": "code",
   "execution_count": 23,
   "metadata": {
    "colab": {},
    "colab_type": "code",
    "id": "bU0iO5iSqod7"
   },
   "outputs": [],
   "source": [
    "# make the fit again with undersampled classes\n",
    "\n",
    "text_clf = Pipeline([\n",
    "                     #('vect', CountVectorizer()),\n",
    "                     #('tfidf', TfidfTransformer()),\n",
    "                     ('tfidfvect', TfidfVectorizer(\n",
    "                         stop_words=stopwords.words('swedish'),\n",
    "                         tokenizer=LemmaTokenizer())),\n",
    "                     ('clf', MultinomialNB(alpha=0.1))])\n",
    "\n",
    "text_clf.fit(under_sampled_training['words'], under_sampled_training['party'])\n",
    "\n",
    "y_pred_under = text_clf.predict(test_data['words'])\n"
   ]
  },
  {
   "cell_type": "code",
   "execution_count": 24,
   "metadata": {
    "colab": {
     "base_uri": "https://localhost:8080/",
     "height": 34
    },
    "colab_type": "code",
    "id": "-r4H0y8B0vUt",
    "outputId": "7332e3d3-281b-4058-e579-ceacf7b69c1c"
   },
   "outputs": [
    {
     "data": {
      "text/plain": [
       "array(['S', 'M', 'SD', ..., 'S', 'M', 'S'], dtype='<U2')"
      ]
     },
     "execution_count": 24,
     "metadata": {},
     "output_type": "execute_result"
    }
   ],
   "source": [
    "y_pred_under"
   ]
  },
  {
   "cell_type": "code",
   "execution_count": 25,
   "metadata": {
    "colab": {
     "base_uri": "https://localhost:8080/",
     "height": 34
    },
    "colab_type": "code",
    "id": "XgjrkiYd39sO",
    "outputId": "44bb000b-ce91-4216-b5b4-633401450786"
   },
   "outputs": [
    {
     "name": "stdout",
     "output_type": "stream",
     "text": [
      "Accuracy on test data ==> 41.56%\n"
     ]
    }
   ],
   "source": [
    "print(\"Accuracy on test data ==> {0:.{1}f}%\".format((np.mean(y_pred_under == y_true_test)*100),2))"
   ]
  },
  {
   "cell_type": "code",
   "execution_count": 26,
   "metadata": {
    "colab": {
     "base_uri": "https://localhost:8080/",
     "height": 278
    },
    "colab_type": "code",
    "id": "crTcoOns1NE-",
    "outputId": "cd1ff94e-7913-49dd-de3e-e34e82074f32"
   },
   "outputs": [
    {
     "name": "stdout",
     "output_type": "stream",
     "text": [
      "              precision    recall  f1-score   support\n",
      "\n",
      "           C       0.27      0.40      0.32       671\n",
      "          KD       0.30      0.39      0.34       821\n",
      "           L       0.26      0.38      0.31       560\n",
      "           M       0.46      0.38      0.42      1644\n",
      "          MP       0.29      0.45      0.35       809\n",
      "           S       0.71      0.41      0.52      2773\n",
      "          SD       0.43      0.44      0.43      1060\n",
      "           V       0.42      0.49      0.45       950\n",
      "\n",
      "    accuracy                           0.42      9288\n",
      "   macro avg       0.39      0.42      0.39      9288\n",
      "weighted avg       0.47      0.42      0.43      9288\n",
      "\n"
     ]
    }
   ],
   "source": [
    "print(classification_report(y_true_test,y_pred_under, target_names=parties))"
   ]
  },
  {
   "cell_type": "markdown",
   "metadata": {
    "colab_type": "text",
    "id": "Mo4oLY43Sa4T"
   },
   "source": [
    "## Problem 5: Confusion matrix"
   ]
  },
  {
   "cell_type": "markdown",
   "metadata": {
    "colab_type": "text",
    "id": "_AlAM9dTSa4T"
   },
   "source": [
    "A **confusion matrix** is a specific table layout that is useful when analysing the performance of a classifier. In this matrix, both the rows and the columns correspond to classes, and each cell $(i, j)$ states how many times a sample with gold-standard class $i$ was predicted as belonging to class $j$.\n",
    "\n",
    "In scitkit-learn, the confusion matrix of a classifier is computed by the function [`confusion_matrix`](https://scikit-learn.org/stable/modules/generated/sklearn.metrics.confusion_matrix.html).\n",
    "\n",
    "Your task is to use the confusion matrix to find, for each given party $p$ in the Riksdag, that other party $p'$ which the classifier that you trained in Problem&nbsp;4 most often confuses $p$ with when it predicts the party of a speaker."
   ]
  },
  {
   "cell_type": "code",
   "execution_count": 28,
   "metadata": {
    "colab": {
     "base_uri": "https://localhost:8080/",
     "height": 759
    },
    "colab_type": "code",
    "id": "OgPHzC4jSa4W",
    "outputId": "4262d261-24e1-443a-ad98-d38733e820c3"
   },
   "outputs": [
    {
     "name": "stdout",
     "output_type": "stream",
     "text": [
      "Confusion matrix, without normalization\n",
      "[[ 270   73   40   68   63   51   55   51]\n",
      " [  85  317   52  119   66   54   78   50]\n",
      " [  61   50  213   54   57   26   49   50]\n",
      " [ 203  196  141  625  142  107  142   88]\n",
      " [  57   65   47   60  363  106   45   66]\n",
      " [ 202  184  136  262  414 1138  187  250]\n",
      " [  79   91  113  104   57   53  468   95]\n",
      " [  59   70   64   65   88   67   71  466]]\n"
     ]
    },
    {
     "data": {
      "text/plain": [
       "<matplotlib.axes._subplots.AxesSubplot at 0x7f45babc2c90>"
      ]
     },
     "execution_count": 28,
     "metadata": {},
     "output_type": "execute_result"
    },
    {
     "data": {
      "image/png": "[encoded data removed]",
      "text/plain": [
       "<Figure size 864x576 with 2 Axes>"
      ]
     },
     "metadata": {},
     "output_type": "display_data"
    }
   ],
   "source": [
    "# TODO: Write code here to solve Problem 5\n",
    "from sklearn.metrics import confusion_matrix\n",
    "from sklearn.utils.multiclass import unique_labels\n",
    "\n",
    "# the plot_confusion_matrix function aboce is from scikit learn documentation \n",
    "\n",
    "def plot_confusion_matrix(y_true, y_pred, classes,\n",
    "                          normalize=False,\n",
    "                          title=None,\n",
    "                          cmap=plt.cm.Blues):\n",
    "    \"\"\"\n",
    "    This function prints and plots the confusion matrix.\n",
    "    Normalization can be applied by setting `normalize=True`.\n",
    "    \"\"\"\n",
    "    if not title:\n",
    "        if normalize:\n",
    "            title = 'Normalized confusion matrix'\n",
    "        else:\n",
    "            title = 'Confusion matrix, without normalization'\n",
    "\n",
    "    # Compute confusion matrix\n",
    "    cm = confusion_matrix(y_true, y_pred)\n",
    "    # Only use the labels that appear in the data\n",
    "    classes = classes\n",
    "    if normalize:\n",
    "        cm = cm.astype('float') / cm.sum(axis=1)[:, np.newaxis]\n",
    "        print(\"Normalized confusion matrix\")\n",
    "    else:\n",
    "        print('Confusion matrix, without normalization')\n",
    "\n",
    "    print(cm)\n",
    "\n",
    "    fig, ax = plt.subplots()\n",
    "    im = ax.imshow(cm, interpolation='nearest', cmap=cmap)\n",
    "    ax.figure.colorbar(im, ax=ax)\n",
    "    # We want to show all ticks...\n",
    "    ax.set(xticks=np.arange(cm.shape[1]),\n",
    "           yticks=np.arange(cm.shape[0]),\n",
    "           # ... and label them with the respective list entries\n",
    "           xticklabels=classes, yticklabels=classes,\n",
    "           title=title,\n",
    "           ylabel='True label',\n",
    "           xlabel='Predicted label')\n",
    "\n",
    "    # Rotate the tick labels and set their alignment.\n",
    "    plt.setp(ax.get_xticklabels(), rotation=45, ha=\"right\",\n",
    "             rotation_mode=\"anchor\")\n",
    "\n",
    "    # Loop over data dimensions and create text annotations.\n",
    "    fmt = '.2f' if normalize else 'd'\n",
    "    thresh = cm.max() / 2.\n",
    "    for i in range(cm.shape[0]):\n",
    "        for j in range(cm.shape[1]):\n",
    "            ax.text(j, i, format(cm[i, j], fmt),\n",
    "                    ha=\"center\", va=\"center\",\n",
    "                    color=\"white\" if cm[i, j] > thresh else \"black\")\n",
    "    fig.tight_layout()\n",
    "    return ax\n",
    "\n",
    "\n",
    "\n",
    "plot_confusion_matrix(y_true_test, y_pred_under,np.array(parties,dtype='<U10'))\n"
   ]
  },
  {
   "cell_type": "markdown",
   "metadata": {
    "colab_type": "text",
    "id": "vKAfjceHSa4a"
   },
   "source": [
    "## Problem 6: Grid search"
   ]
  },
  {
   "cell_type": "markdown",
   "metadata": {
    "colab_type": "text",
    "id": "cItfMKoNSa4d"
   },
   "source": [
    "Until now, you have been using the vectorizer and the Naive Bayes classifier with their default hyperparameters. When working with real-world applications, you would want to find settings for the hyperparameters that maximize the performance for the task at hand.\n",
    "\n",
    "Manually tweaking the hyperparameters of the various components of a vectorizer–classifier pipeline can be cumbersome. However, scikit-learn makes it possible to run an exhaustive search for the best hyperparameters over a grid of possible values. This method is known as **grid search**.\n",
    "\n",
    "The hyperparameters of a pipeline should never be tuned on the final test set. (Why would that be a bad idea?) Instead, one should either use a separate validation set, or run cross-validation over different folds. Here we will use cross-validation.\n",
    "\n",
    "Implement a grid search with 5-fold cross-validation to find the optimal parameters in a grid defined by the following choices for the hyperparameters:\n",
    "\n",
    "* In the vectorizer, try a set-of-words model instead of the default bag-of-words model (two possible parameter values).\n",
    "* Also in the vectorizer, try extracting $n$-grams up to $n = 2$ (two possible parameter values).\n",
    "* In the Naive Bayes classifier, try using additive smoothing with $\\alpha \\in \\{1, 0{.}1\\}$ (two possible parameter values).\n",
    "\n",
    "Use the class [GridSearchCV](https://scikit-learn.org/stable/modules/generated/sklearn.model_selection.GridSearchCV.html) from the scikit-learn library. Print the results of your best model, along with the parameter values that yielded these results."
   ]
  },
  {
   "cell_type": "code",
   "execution_count": 63,
   "metadata": {
    "colab": {},
    "colab_type": "code",
    "id": "GwZksymJSa4f"
   },
   "outputs": [],
   "source": [
    "# TODO: Write code here to implement the grid search\n",
    "from sklearn.model_selection import GridSearchCV\n",
    "\n",
    "\n",
    "text_clf_cv = Pipeline([\n",
    "                     #('vect', CountVectorizer(stop_words=stopwords.words('swedish'),\n",
    "                                              #tokenizer=LemmaTokenizer())),\n",
    "                     #('tfidf', TfidfTransformer()),\n",
    "                     ('tfidfvect', TfidfVectorizer(stop_words=stopwords.words('swedish'),\n",
    "                                              tokenizer=LemmaTokenizer())),\n",
    "                     ('clf', MultinomialNB(alpha=1))])\n",
    "\n",
    "parameters = {\n",
    "    'tfidfvect__ngram_range': [(1, 1), (1, 2)],\n",
    "    #'vect__use_idf': (True, False),\n",
    "    'tfidfvect__binary':(True,False),\n",
    "    'tfidfvect__preprocessor': ['word', 'char'],\n",
    "    'clf__alpha': (1, 0.1),}\n",
    "\n",
    "gs_clf = GridSearchCV(text_clf_cv, parameters, cv=5,scoring = 'accuracy')\n",
    "\n",
    "grid_search = gs_clf.fit(under_sampled_training['words'], under_sampled_training['party'])\n"
   ]
  },
  {
   "cell_type": "code",
   "execution_count": 64,
   "metadata": {
    "colab": {
     "base_uri": "https://localhost:8080/",
     "height": 86
    },
    "colab_type": "code",
    "id": "lGIOJs0TqRWo",
    "outputId": "1c9a8cec-0d8f-445c-ab34-185e52da85f6"
   },
   "outputs": [
    {
     "name": "stdout",
     "output_type": "stream",
     "text": [
      "Best parameters are:\n",
      "clf__alpha: 0.1\n",
      "tfidfvect__binary: True\n",
      "tfidfvect__ngram_range: (1, 2)\n"
     ]
    }
   ],
   "source": [
    " print(\"Best parameters are:\")\n",
    "    \n",
    "for param_name in sorted(parameters.keys()):\n",
    "    print(\"%s: %r\" % (param_name, gs_clf.best_params_[param_name]))"
   ]
  },
  {
   "cell_type": "code",
   "execution_count": 65,
   "metadata": {
    "colab": {
     "base_uri": "https://localhost:8080/",
     "height": 34
    },
    "colab_type": "code",
    "id": "uMii7nssn89p",
    "outputId": "05fa953b-e380-483f-e7c2-eacca5c844fe"
   },
   "outputs": [
    {
     "name": "stdout",
     "output_type": "stream",
     "text": [
      "The best accuracy in grid search is : 62.57% \n"
     ]
    }
   ],
   "source": [
    "best_accuracy = grid_search.best_score_\n",
    "\n",
    "print(\"The best accuracy in grid search is : {0:.{1}f}% \".format(best_accuracy*100,2))\n"
   ]
  },
  {
   "cell_type": "code",
   "execution_count": 66,
   "metadata": {
    "colab": {},
    "colab_type": "code",
    "id": "5WnuXluIuKDF"
   },
   "outputs": [],
   "source": [
    "y_pred_cv = gs_clf.predict(test_data['words'])\n",
    "      "
   ]
  },
  {
   "cell_type": "code",
   "execution_count": 67,
   "metadata": {
    "colab": {
     "base_uri": "https://localhost:8080/",
     "height": 34
    },
    "colab_type": "code",
    "id": "I-B6PJfpuaWc",
    "outputId": "4dca3908-6f7f-4c36-a226-b9352214fa6b"
   },
   "outputs": [
    {
     "name": "stdout",
     "output_type": "stream",
     "text": [
      "Accuracy on test data ==> 45.53%\n"
     ]
    }
   ],
   "source": [
    "print(\"Accuracy on test data ==> {0:.{1}f}%\".format((np.mean(y_pred_cv == y_true_test)*100),2))"
   ]
  },
  {
   "cell_type": "markdown",
   "metadata": {
    "colab_type": "text",
    "id": "910NzQiYmCID"
   },
   "source": []
  },
  {
   "cell_type": "markdown",
   "metadata": {
    "colab_type": "text",
    "id": "_KBdn-39Sa4k"
   },
   "source": [
    "## Problem 6: Try to improve your results"
   ]
  },
  {
   "cell_type": "markdown",
   "metadata": {
    "colab_type": "text",
    "id": "O4RGui9jSa4n"
   },
   "source": [
    "Scikit-learn makes it easy to test different vectorizer–classifier pipelines – among other things, it includes different types of logistic regression classifiers, support vector machines, and decision trees. Browse the library to see which methods are supported.\n",
    "\n",
    "Build a pipeline that you find interesting, and use grid search to find optimal settings for the hyperparameters. Print the results of your best model. Did you manage to get better results than the ones that you obtained in Problem&nbsp;5? Answer with a short text."
   ]
  },
  {
   "cell_type": "code",
   "execution_count": 35,
   "metadata": {
    "colab": {
     "base_uri": "https://localhost:8080/",
     "height": 69
    },
    "colab_type": "code",
    "id": "XCeVQ52EUYay",
    "outputId": "9556645f-6bbc-4a0f-d04b-e5d670926097"
   },
   "outputs": [],
   "source": [
    "#!pip install --upgrade xgboost"
   ]
  },
  {
   "cell_type": "code",
   "execution_count": 36,
   "metadata": {
    "colab": {},
    "colab_type": "code",
    "id": "siAc8AT-Sa4p"
   },
   "outputs": [],
   "source": [
    "# TODO: Write code here to search for a better model\n",
    "from sklearn.linear_model import SGDClassifier\n",
    "from sklearn.ensemble import RandomForestClassifier, AdaBoostClassifier\n",
    "from sklearn import svm\n",
    "from sklearn.preprocessing import LabelEncoder\n",
    "\n",
    "\n",
    "encoder = LabelEncoder()\n",
    "vec_y_train = encoder.fit_transform(under_sampled_training['party'])\n",
    "vec_y_test = encoder.transform(test_data['party'])\n",
    "\n",
    "\n",
    "\n",
    "# --------------------------random forests-----------------------------#\n",
    "\n",
    "text_clf_rndf = Pipeline([\n",
    "                     #('vect', CountVectorizer()),\n",
    "                     #('tfidf', TfidfTransformer()),\n",
    "                     ('tfidfvect',TfidfVectorizer(\n",
    "                         stop_words=stopwords.words('swedish'),\n",
    "                                              tokenizer=LemmaTokenizer(),\n",
    "                         min_df=.0025, max_df=0.70,ngram_range=(1,2),\n",
    "                     analyzer='word')),\n",
    "                     ('clf',RandomForestClassifier(n_estimators=120,\n",
    "                                                   criterion='gini'))])\n",
    "\n",
    "parameters_rndf = {\n",
    "    #'vect__ngram_range': [(1, 1), (1, 2)],\n",
    "    #'tfidfvect__use_idf': (True, False),\n",
    "    #'vect__binary':(True,False),\n",
    "    'tfidfvect__analyzer': ['word', 'char', 'char_wb'],\n",
    "    'clf__n_estimators': (120,160),\n",
    "    'clf__criterion': ['gini','entropy'],}\n",
    "\n",
    "\n",
    "# ------------------------------SVM-----------------------------------#\n",
    "text_clf_svm = Pipeline([\n",
    "                     #('vect', CountVectorizer()),\n",
    "                     #('tfidf', TfidfTransformer()),\n",
    "                     ('tfidfvect',TfidfVectorizer(\n",
    "                         stop_words=stopwords.words('swedish'),\n",
    "                                              tokenizer=LemmaTokenizer(),\n",
    "                         min_df=.0025, max_df=0.70,ngram_range=(1,2))),\n",
    "                     ('clf',svm.SVC(gamma='scale', decision_function_shape='ovo',\n",
    "                             C=1,kernel='rbf'))])\n",
    "\n",
    "\n",
    "parameters_svm = {\n",
    "    #'vect__ngram_range': [(1, 1), (1, 2)],\n",
    "    #'tfidfvect__use_idf': (True, False),\n",
    "    #'vect__binary':(True,False),\n",
    "    'tfidfvect__analyzer': ['word', 'char', 'char_wb'],\n",
    "    'clf__C': [0.001, 0.01, 0.1, 1, 10],\n",
    "    'clf__kernel':['poly', 'rbf','sigmoid']}\n",
    "\n",
    "\n",
    "# --------------------------------SGD----------------------------------#\n",
    "text_clf_sgd = Pipeline([\n",
    "                     #('vect', CountVectorizer()),\n",
    "                     #('tfidf', TfidfTransformer()),\n",
    "                     ('tfidfvect',TfidfVectorizer(\n",
    "                         stop_words=stopwords.words('swedish'),\n",
    "                                              tokenizer=LemmaTokenizer(),\n",
    "                         min_df=.0025, max_df=0.70,ngram_range=(1,2))),\n",
    "                     ('clf', SGDClassifier(loss='hinge', penalty='l2',\n",
    "                                           alpha=1e-3,\n",
    "                                           max_iter=100, tol=1e-3)),])\n",
    "\n",
    "parameters_sgd = {\n",
    "    #'vect__ngram_range': [(1, 1), (1, 2)],\n",
    "    #'tfidfvect__use_idf': (True, False),\n",
    "    #'vect__binary':(True,False),\n",
    "    'tfidfvect__analyzer': ['word', 'char', 'char_wb'],\n",
    "    'clf__alpha': (1e-2, 1e-4),\n",
    "    'clf__penalty':['elasticnet','l2']}\n",
    "\n",
    "# grid search \n",
    "\n",
    "gs_clf = GridSearchCV(text_clf_sgd, parameters_sgd, cv=5, iid=False)\n",
    "\n",
    "grid_search_model = gs_clf.fit(under_sampled_training['words'], vec_y_train)\n"
   ]
  },
  {
   "cell_type": "code",
   "execution_count": 37,
   "metadata": {
    "colab": {
     "base_uri": "https://localhost:8080/",
     "height": 54
    },
    "colab_type": "code",
    "id": "Qk46_7FzwO_B",
    "outputId": "0e85b0f5-a0d7-4aeb-8e53-bcd7fef2f5e9"
   },
   "outputs": [],
   "source": [
    "#grid_search_model.get_params().keys()"
   ]
  },
  {
   "cell_type": "code",
   "execution_count": 38,
   "metadata": {},
   "outputs": [
    {
     "name": "stdout",
     "output_type": "stream",
     "text": [
      "Best parameters are:\n",
      "clf__alpha: 0.01\n",
      "clf__penalty: 'l2'\n",
      "tfidfvect__analyzer: 'word'\n"
     ]
    }
   ],
   "source": [
    " print(\"Best parameters are:\")\n",
    "    \n",
    "for param_name in sorted(parameters_sgd.keys()):\n",
    "    print(\"%s: %r\" % (param_name, grid_search_model.best_params_[param_name]))"
   ]
  },
  {
   "cell_type": "code",
   "execution_count": 39,
   "metadata": {
    "colab": {
     "base_uri": "https://localhost:8080/",
     "height": 34
    },
    "colab_type": "code",
    "id": "KFGsvk5fofZ1",
    "outputId": "ea463af7-dfc6-4dfb-e745-0deb2c71e831"
   },
   "outputs": [
    {
     "name": "stdout",
     "output_type": "stream",
     "text": [
      "The best accuracy is : 59.08% \n"
     ]
    }
   ],
   "source": [
    "best_accuracy_ = grid_search_model.best_score_\n",
    "\n",
    "print(\"The best accuracy is : {0:.{1}f}% \".format(best_accuracy_*100,2))"
   ]
  },
  {
   "cell_type": "code",
   "execution_count": 40,
   "metadata": {
    "colab": {},
    "colab_type": "code",
    "id": "RcnonEoy2YpP"
   },
   "outputs": [],
   "source": [
    "y_pred_sgb = gs_clf.predict(test_data['words'])\n"
   ]
  },
  {
   "cell_type": "code",
   "execution_count": 41,
   "metadata": {
    "colab": {
     "base_uri": "https://localhost:8080/",
     "height": 34
    },
    "colab_type": "code",
    "id": "8FQBHhJq2yUj",
    "outputId": "74977b27-3ec9-4dc3-8b95-c2495f300c03"
   },
   "outputs": [
    {
     "name": "stdout",
     "output_type": "stream",
     "text": [
      "Accuracy on test data ==> 44.74%\n"
     ]
    }
   ],
   "source": [
    "print(\"Accuracy on test data ==> {0:.{1}f}%\".format((np.mean(y_pred_sgb == vec_y_test)*100),2))"
   ]
  },
  {
   "cell_type": "markdown",
   "metadata": {
    "colab_type": "text",
    "id": "wPx4RFIzSa4s"
   },
   "source": [
    "*TODO: Enter your answer here*"
   ]
  },
  {
   "cell_type": "markdown",
   "metadata": {},
   "source": [
    "### XGBoost"
   ]
  },
  {
   "cell_type": "markdown",
   "metadata": {
    "colab_type": "text",
    "id": "3T7BgDCMSa4t"
   },
   "source": [
    "<div class=\"alert alert-info\">\n",
    "    Please read the section ‘General information’ on the ‘Labs’ page of the course website before submitting this notebook!\n",
    "</div>"
   ]
  },
  {
   "cell_type": "code",
   "execution_count": 38,
   "metadata": {
    "colab": {},
    "colab_type": "code",
    "id": "hiUkU3Y2QWlI"
   },
   "outputs": [
    {
     "data": {
      "text/plain": [
       "Pipeline(memory=None,\n",
       "         steps=[('tfidfvect',\n",
       "                 TfidfVectorizer(analyzer='word', binary=False,\n",
       "                                 decode_error='strict',\n",
       "                                 dtype=<class 'numpy.float64'>,\n",
       "                                 encoding='utf-8', input='content',\n",
       "                                 lowercase=True, max_df=0.6, max_features=None,\n",
       "                                 min_df=0.0025, ngram_range=(1, 2), norm='l2',\n",
       "                                 preprocessor=None, smooth_idf=True,\n",
       "                                 stop_words=None, strip_accents=None,\n",
       "                                 sublinear_tf=False,\n",
       "                                 token_...\n",
       "                 XGBClassifier(base_score=0.5, booster='gbtree',\n",
       "                               colsample_bylevel=1, colsample_bynode=1,\n",
       "                               colsample_bytree=1, gamma=1, learning_rate=0.1,\n",
       "                               max_delta_step=0, max_depth=3,\n",
       "                               min_child_weight=1, missing=None,\n",
       "                               n_estimators=100, n_jobs=1, nthread=None,\n",
       "                               objective='multi:softprob', random_state=0,\n",
       "                               reg_alpha=0, reg_lambda=1, scale_pos_weight=1,\n",
       "                               seed=None, silent=None, subsample=1,\n",
       "                               verbosity=1))],\n",
       "         verbose=False)"
      ]
     },
     "execution_count": 38,
     "metadata": {},
     "output_type": "execute_result"
    }
   ],
   "source": [
    "import xgboost as xgb\n",
    "from sklearn import preprocessing\n",
    "\n",
    "text_clf_xgb = Pipeline([\n",
    "                     #('vect', CountVectorizer(ngram_range=(1,2))),\n",
    "                     #('tfidf', TfidfTransformer()),\n",
    "                     ('tfidfvect',TfidfVectorizer(analyzer='word',\n",
    "                         min_df=.0025, max_df=0.60,ngram_range=(1,2))),\n",
    "                     ('clf',xgb.XGBClassifier(booster='gbtree',\n",
    "                                             gamma=1))])\n",
    "                    \n",
    "# parameters = {\n",
    "#     'vect__ngram_range': [(1, 1), (1, 2)],\n",
    "#     'vect__binary':(True,False),\n",
    "#     'clf__max_depth':(8,12,14),\n",
    "#     'clf__booster':['gbtree','dart'],\n",
    "#     'clf__eta': (0,1),}\n",
    "\n",
    "\n",
    "# xgb_clf = GridSearchCV(text_clf_xgb, parameters, cv=5, iid=False,n_jobs=8)\n",
    "\n",
    "# gs_clf_xgb = xgb_clf.fit(under_sampled_training['words'], under_sampled_training['party'])\n",
    "\n",
    "text_clf_xgb.fit(under_sampled_training['words'],under_sampled_training['party'])"
   ]
  },
  {
   "cell_type": "code",
   "execution_count": 39,
   "metadata": {
    "colab": {
     "base_uri": "https://localhost:8080/",
     "height": 185
    },
    "colab_type": "code",
    "id": "iayAPl4YeH5v",
    "outputId": "9660b6d1-c0f7-41f2-b704-f5e732ea5db2"
   },
   "outputs": [
    {
     "data": {
      "text/plain": [
       "array(['S', 'V', 'C', ..., 'KD', 'M', 'S'], dtype=object)"
      ]
     },
     "execution_count": 39,
     "metadata": {},
     "output_type": "execute_result"
    }
   ],
   "source": [
    "# #y_pred_xgb = gs_clf_xgb.predict(test_data['words'])\n",
    "y_pred_xgb = text_clf_xgb.predict(test_data['words'])\n",
    "y_pred_xgb"
   ]
  },
  {
   "cell_type": "code",
   "execution_count": 40,
   "metadata": {
    "colab": {},
    "colab_type": "code",
    "id": "vWsdVh5SdKwK"
   },
   "outputs": [
    {
     "name": "stdout",
     "output_type": "stream",
     "text": [
      "Accuracy on test data ==> 42.25%\n"
     ]
    }
   ],
   "source": [
    "print(\"Accuracy on test data ==> {0:.{1}f}%\".format((np.mean(y_pred_xgb == y_true_test)*100),2))"
   ]
  },
  {
   "cell_type": "markdown",
   "metadata": {},
   "source": [
    "### Search over some Classifiers"
   ]
  },
  {
   "cell_type": "code",
   "execution_count": 42,
   "metadata": {},
   "outputs": [
    {
     "data": {
      "image/png": "[encoded data removed]",
      "text/plain": [
       "<Figure size 864x576 with 1 Axes>"
      ]
     },
     "metadata": {},
     "output_type": "display_data"
    }
   ],
   "source": [
    "from sklearn.linear_model import LogisticRegression\n",
    "from sklearn.ensemble import RandomForestClassifier\n",
    "from sklearn.svm import LinearSVC\n",
    "import xgboost as xgb\n",
    "from sklearn.model_selection import cross_val_score\n",
    "from sklearn.feature_extraction.text import TfidfVectorizer\n",
    "\n",
    "tfidf = TfidfVectorizer(stop_words=stopwords.words('swedish'),\n",
    "                                              tokenizer=LemmaTokenizer(),\n",
    "                        sublinear_tf=True, min_df=5, norm='l2', encoding='latin-1', \n",
    "                        ngram_range=(1, 2))\n",
    "\n",
    "features = tfidf.fit_transform(under_sampled_training.words).toarray()\n",
    "labels = under_sampled_training.party\n",
    "\n",
    "models = [\n",
    "    RandomForestClassifier(n_estimators=200, max_depth=3, random_state=0),\n",
    "    LinearSVC(),\n",
    "    MultinomialNB(),\n",
    "    LogisticRegression(random_state=0),\n",
    "]\n",
    "CV = 5\n",
    "cv_df = pd.DataFrame(index=range(CV * len(models)))\n",
    "entries = []\n",
    "for model in models:\n",
    "    model_name = model.__class__.__name__\n",
    "    accuracies = cross_val_score(model, features, labels, scoring='accuracy', cv=CV)\n",
    "    for fold_idx, accuracy in enumerate(accuracies):\n",
    "        entries.append((model_name, fold_idx, accuracy))\n",
    "cv_df = pd.DataFrame(entries, columns=['model_name', 'fold_idx', 'accuracy'])\n",
    "import seaborn as sns\n",
    "sns.boxplot(x='model_name', y='accuracy', data=cv_df)\n",
    "sns.stripplot(x='model_name', y='accuracy', data=cv_df, \n",
    "              size=8, jitter=True, edgecolor=\"gray\", linewidth=2)\n",
    "plt.show()"
   ]
  },
  {
   "cell_type": "code",
   "execution_count": 60,
   "metadata": {},
   "outputs": [],
   "source": [
    "text_clf_LSVM = Pipeline([\n",
    "                     #('vect', CountVectorizer(ngram_range=(1,2))),\n",
    "                     #('tfidf', TfidfTransformer()),\n",
    "                     ('tfidfvect',TfidfVectorizer(stop_words=stopwords.words('swedish'),\n",
    "                                              tokenizer=LemmaTokenizer(),\n",
    "                        sublinear_tf=True, min_df=.0025, max_df=0.80, norm='l2', encoding='latin-1', \n",
    "                        ngram_range=(1, 1))),\n",
    "                     ('clf',LinearSVC(loss='squared_hinge',C=0.3))])\n",
    "                    \n",
    "\n",
    "parameters_LSVM = {\n",
    "    'tfidfvect__ngram_range': [(1, 1), (1, 2)],\n",
    "    'tfidfvect__analyzer': ['word', 'char', 'char_wb'],\n",
    "    'clf__dual':(True,False),\n",
    "    'clf__C':(1e-1, 1e-2,1e-3,1,1.5),}\n",
    "    \n",
    "lsvm_clf = GridSearchCV(text_clf_LSVM, parameters_LSVM, cv=5, iid=False,n_jobs=8)\n",
    "\n",
    "gs_clf_lsvm = lsvm_clf.fit(under_sampled_training['words'], under_sampled_training['party'])\n",
    "\n",
    "#lsvm = text_clf_LSVM.fit(under_sampled_training['words'],under_sampled_training['party'])\n"
   ]
  },
  {
   "cell_type": "code",
   "execution_count": 61,
   "metadata": {},
   "outputs": [
    {
     "data": {
      "text/plain": [
       "array(['S', 'MP', 'S', ..., 'S', 'M', 'S'], dtype=object)"
      ]
     },
     "execution_count": 61,
     "metadata": {},
     "output_type": "execute_result"
    }
   ],
   "source": [
    "y_pred_LSVM = gs_clf_lsvm.predict(test_data['words'])\n",
    "# y_pred_LSVM = lsvm.predict(test_data['words'])\n",
    "y_pred_LSVM"
   ]
  },
  {
   "cell_type": "code",
   "execution_count": 62,
   "metadata": {},
   "outputs": [
    {
     "name": "stdout",
     "output_type": "stream",
     "text": [
      "Accuracy on test data ==> 44.70%\n"
     ]
    }
   ],
   "source": [
    "print(\"Accuracy on test data ==> {0:.{1}f}%\".format((np.mean(y_pred_LSVM == y_true_test)*100),2))"
   ]
  },
  {
   "cell_type": "code",
   "execution_count": null,
   "metadata": {},
   "outputs": [],
   "source": []
  }
 ],
 "metadata": {
  "accelerator": "GPU",
  "colab": {
   "collapsed_sections": [],
   "name": "TM-L2.ipynb",
   "provenance": [],
   "toc_visible": true
  },
  "kernelspec": {
   "display_name": "Python 3",
   "language": "python",
   "name": "python3"
  },
  "language_info": {
   "codemirror_mode": {
    "name": "ipython",
    "version": 3
   },
   "file_extension": ".py",
   "mimetype": "text/x-python",
   "name": "python",
   "nbconvert_exporter": "python",
   "pygments_lexer": "ipython3",
   "version": "3.7.4"
  }
 },
 "nbformat": 4,
 "nbformat_minor": 1
}
