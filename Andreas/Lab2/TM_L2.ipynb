{
  "nbformat": 4,
  "nbformat_minor": 0,
  "metadata": {
    "kernelspec": {
      "name": "python3",
      "display_name": "Python 3"
    },
    "language_info": {
      "codemirror_mode": {
        "name": "ipython",
        "version": 3
      },
      "file_extension": ".py",
      "mimetype": "text/x-python",
      "name": "python",
      "nbconvert_exporter": "python",
      "pygments_lexer": "ipython3",
      "version": "3.7.4"
    },
    "colab": {
      "name": "TM-L2.ipynb",
      "provenance": [],
      "collapsed_sections": [],
      "toc_visible": true
    },
    "accelerator": "GPU"
  },
  "cells": [
    {
      "cell_type": "markdown",
      "metadata": {
        "id": "nfI29zJjSa3D",
        "colab_type": "text"
      },
      "source": [
        "# L2: Text classification"
      ]
    },
    {
      "cell_type": "markdown",
      "metadata": {
        "id": "jSDm-_BUSa3G",
        "colab_type": "text"
      },
      "source": [
        "Text classification is the task of sorting text documents into predefined classes. The concrete problem you will be working on in this lab is the classification of texts with respect to their political affiliation. The specific texts you are going to classify are speeches held in the [Riksdag](https://www.riksdagen.se/en/), the Swedish national legislature."
      ]
    },
    {
      "cell_type": "markdown",
      "metadata": {
        "id": "LDpUr0kESa3J",
        "colab_type": "text"
      },
      "source": [
        "## Data set"
      ]
    },
    {
      "cell_type": "markdown",
      "metadata": {
        "id": "z_U7M16ASa3L",
        "colab_type": "text"
      },
      "source": [
        "The raw data for this lab comes from [The Riksdag’s Open Data](https://data.riksdagen.se/in-english/). We have tokenized the speeches and put them into two compressed [JSON](https://en.wikipedia.org/wiki/JSON) files:\n",
        "\n",
        "* `speeches-201718.json.bz2` (speeches from the 2017/2018 parliamentary session)\n",
        "* `speeches-201819.json.bz2` (ditto, from the 2018/2019 session)\n",
        "\n",
        "We start by loading these files into two separate data frames."
      ]
    },
    {
      "cell_type": "code",
      "metadata": {
        "id": "Uezd0YcjSa3O",
        "colab_type": "code",
        "colab": {}
      },
      "source": [
        "import pandas as pd\n",
        "import bz2\n",
        "\n",
        "with bz2.open(\"/content/speeches-201718.json.bz2.json\") as source:\n",
        "    speeches_201718 = pd.read_json(source)\n",
        "\n",
        "with bz2.open(\"/content/speeches-201819.json.bz2.json\") as source:\n",
        "    speeches_201819 = pd.read_json(source)"
      ],
      "execution_count": 0,
      "outputs": []
    },
    {
      "cell_type": "markdown",
      "metadata": {
        "id": "Gmuo5TygSa3X",
        "colab_type": "text"
      },
      "source": [
        "When you inspect the two data frames, you can see that there are three labelled columns: `id` (the official speech ID), `words` (the space-separated words of the speech), and `party` (the party of the speaker, represented by its customary abbreviation)."
      ]
    },
    {
      "cell_type": "code",
      "metadata": {
        "id": "CKZ-jslDSa3Z",
        "colab_type": "code",
        "outputId": "9cc163df-eff5-4527-cbd1-164992513a16",
        "colab": {
          "base_uri": "https://localhost:8080/",
          "height": 206
        }
      },
      "source": [
        "speeches_201718.head()"
      ],
      "execution_count": 52,
      "outputs": [
        {
          "output_type": "execute_result",
          "data": {
            "text/html": [
              "<div>\n",
              "<style scoped>\n",
              "    .dataframe tbody tr th:only-of-type {\n",
              "        vertical-align: middle;\n",
              "    }\n",
              "\n",
              "    .dataframe tbody tr th {\n",
              "        vertical-align: top;\n",
              "    }\n",
              "\n",
              "    .dataframe thead th {\n",
              "        text-align: right;\n",
              "    }\n",
              "</style>\n",
              "<table border=\"1\" class=\"dataframe\">\n",
              "  <thead>\n",
              "    <tr style=\"text-align: right;\">\n",
              "      <th></th>\n",
              "      <th>id</th>\n",
              "      <th>words</th>\n",
              "      <th>party</th>\n",
              "    </tr>\n",
              "  </thead>\n",
              "  <tbody>\n",
              "    <tr>\n",
              "      <th>0</th>\n",
              "      <td>H5-002-004</td>\n",
              "      <td>eders majestäter eders kungliga högheter herr ...</td>\n",
              "      <td>S</td>\n",
              "    </tr>\n",
              "    <tr>\n",
              "      <th>1</th>\n",
              "      <td>H5-003-001</td>\n",
              "      <td>aktuell debatt om situationen för ensamkommand...</td>\n",
              "      <td>V</td>\n",
              "    </tr>\n",
              "    <tr>\n",
              "      <th>2</th>\n",
              "      <td>H5-003-002</td>\n",
              "      <td>herr talman och ledamöter jag vill börja med a...</td>\n",
              "      <td>S</td>\n",
              "    </tr>\n",
              "    <tr>\n",
              "      <th>3</th>\n",
              "      <td>H5-003-003</td>\n",
              "      <td>herr talman åhörare den här debatten handlar a...</td>\n",
              "      <td>M</td>\n",
              "    </tr>\n",
              "    <tr>\n",
              "      <th>4</th>\n",
              "      <td>H5-003-004</td>\n",
              "      <td>herr talman ansvar och rättssäkerhet är två or...</td>\n",
              "      <td>SD</td>\n",
              "    </tr>\n",
              "  </tbody>\n",
              "</table>\n",
              "</div>"
            ],
            "text/plain": [
              "           id                                              words party\n",
              "0  H5-002-004  eders majestäter eders kungliga högheter herr ...     S\n",
              "1  H5-003-001  aktuell debatt om situationen för ensamkommand...     V\n",
              "2  H5-003-002  herr talman och ledamöter jag vill börja med a...     S\n",
              "3  H5-003-003  herr talman åhörare den här debatten handlar a...     M\n",
              "4  H5-003-004  herr talman ansvar och rättssäkerhet är två or...    SD"
            ]
          },
          "metadata": {
            "tags": []
          },
          "execution_count": 52
        }
      ]
    },
    {
      "cell_type": "markdown",
      "metadata": {
        "id": "Fg-fmU6USa3f",
        "colab_type": "text"
      },
      "source": [
        "Throughout the lab, we will be using the speeches from 2017/2018 as our training data, and the speeches from 2018/2019 as our test data."
      ]
    },
    {
      "cell_type": "code",
      "metadata": {
        "id": "i3KDJxlESa3h",
        "colab_type": "code",
        "colab": {}
      },
      "source": [
        "training_data, test_data = speeches_201718, speeches_201819"
      ],
      "execution_count": 0,
      "outputs": []
    },
    {
      "cell_type": "markdown",
      "metadata": {
        "id": "nyOHR5LKSa3o",
        "colab_type": "text"
      },
      "source": [
        "For later reference, we store the sorted list of party abbreviations."
      ]
    },
    {
      "cell_type": "code",
      "metadata": {
        "id": "8nYWsTBoSa3p",
        "colab_type": "code",
        "outputId": "b84a35f3-6e3d-4acb-faa1-bfeca7eb4d02",
        "colab": {
          "base_uri": "https://localhost:8080/",
          "height": 34
        }
      },
      "source": [
        "parties = sorted(training_data[\"party\"].unique())\n",
        "print(parties)"
      ],
      "execution_count": 54,
      "outputs": [
        {
          "output_type": "stream",
          "text": [
            "['C', 'KD', 'L', 'M', 'MP', 'S', 'SD', 'V']\n"
          ],
          "name": "stdout"
        }
      ]
    },
    {
      "cell_type": "markdown",
      "metadata": {
        "id": "vDB07zUkSa3v",
        "colab_type": "text"
      },
      "source": [
        "## Problem 1: Visualization"
      ]
    },
    {
      "cell_type": "markdown",
      "metadata": {
        "id": "ol_2alkJSa3v",
        "colab_type": "text"
      },
      "source": [
        "Your first task is to get to know the data better by plotting a simple visualization.\n",
        "\n",
        "If you are not familiar with the Swedish political system and the parties represented in the Riksdag in particular, then we suggest that you have a look at the Wikipedia article about the [2018 Swedish general election](https://en.wikipedia.org/wiki/2018_Swedish_general_election).\n",
        "\n",
        "For the lab, we ask you to compare the two data frames with respect to the distribution of the speeches over the different parties. Write code to generate two bar plots that visualize this information, one for the 2017/2018 speeches and one for the 2018/2019 speeches. Inspect the two plots, and compare them\n",
        "\n",
        "* to each other\n",
        "* to the results of the 2014 and the 2018 general elections\n",
        "\n",
        "Summarize your observations in a short text in the cell below.\n",
        "\n",
        "**Tip:** If you need help with creating bar plots, [Bar Plot using Pandas](https://dfrieds.com/data-visualizations/bar-plot-python-pandas) provides a useful tutorial."
      ]
    },
    {
      "cell_type": "code",
      "metadata": {
        "id": "9MBLxsjYTeCB",
        "colab_type": "code",
        "outputId": "5dfc40c0-727c-4a0c-a364-622a23e0d6c5",
        "colab": {
          "base_uri": "https://localhost:8080/",
          "height": 499
        }
      },
      "source": [
        "import matplotlib.pyplot as plt\n",
        "import numpy as np\n",
        "\n",
        "plt.rcParams[\"figure.figsize\"] = (12,8)\n",
        "plt.style.use('dark_background')\n",
        "\n",
        "ind = np.arange(len(parties))\n",
        "\n",
        "#plt.subplot(121)\n",
        "p1 = plt.bar(ind,height=training_data['party'].value_counts(),color='cornflowerblue')\n",
        "\n",
        "#plt.subplot(122)\n",
        "p2 = plt.bar(ind,height=test_data['party'].value_counts())\n",
        "plt.ylabel('Number of speeches')\n",
        "plt.xticks(ind, parties)\n",
        "plt.title('Stacked Bar Plot ')\n",
        "plt.legend((p1[0], p2[0]), ('2017-2018', '2018-2019'))\n",
        "\n",
        "plt.show()"
      ],
      "execution_count": 55,
      "outputs": [
        {
          "output_type": "display_data",
          "data": {
            "image/png": "[encoded data removed]",
            "text/plain": [
              "<Figure size 864x576 with 1 Axes>"
            ]
          },
          "metadata": {
            "tags": []
          }
        }
      ]
    },
    {
      "cell_type": "code",
      "metadata": {
        "id": "W8hOyLkwYyfG",
        "colab_type": "code",
        "colab": {}
      },
      "source": [
        "# plt.style.available "
      ],
      "execution_count": 0,
      "outputs": []
    },
    {
      "cell_type": "markdown",
      "metadata": {
        "id": "i8xb5W7eSa3x",
        "colab_type": "text"
      },
      "source": [
        "*TODO: Enter your summary here*"
      ]
    },
    {
      "cell_type": "markdown",
      "metadata": {
        "id": "rUqp436sSa3z",
        "colab_type": "text"
      },
      "source": [
        "## Problem 2: Naive Bayes classifier"
      ]
    },
    {
      "cell_type": "markdown",
      "metadata": {
        "id": "phFTa0ajSa32",
        "colab_type": "text"
      },
      "source": [
        "You are now ready to train and evaluate a classifier. More specifically, we ask you to train a [Multinomial Naive Bayes](https://scikit-learn.org/stable/modules/naive_bayes.html#multinomial-naive-bayes) classifier. You will have to\n",
        "\n",
        "1. vectorize the speeches in the training data\n",
        "2. instantiate and fit the Naive Bayes model\n",
        "3. evaluate the model on the test data\n",
        "\n",
        "The scikit-learn library provides a convenience class [Pipeline](https://scikit-learn.org/stable/modules/generated/sklearn.pipeline.Pipeline.html) that allows you to solve the first two tasks with very compact code. For the evaluation you can use the function [`classification_report`](https://scikit-learn.org/stable/modules/generated/sklearn.metrics.classification_report.html), which will report per-class precision, recall and F1, as well as overall accuracy."
      ]
    },
    {
      "cell_type": "code",
      "metadata": {
        "id": "j6HNOWMqSa33",
        "colab_type": "code",
        "colab": {}
      },
      "source": [
        "# TODO: Write code here to train and evaluate a Multinomial Naive Bayes classifier\n",
        "\n",
        "from sklearn.feature_extraction.text import CountVectorizer\n",
        "from sklearn.feature_extraction.text import TfidfTransformer\n",
        "from sklearn.feature_extraction.text import TfidfVectorizer\n",
        "from sklearn.naive_bayes import MultinomialNB\n",
        "from sklearn.metrics import classification_report\n",
        "from sklearn.pipeline import Pipeline\n",
        "from sklearn.preprocessing import LabelEncoder\n",
        "\n",
        "#labelencoder_Y = LabelEncoder()\n",
        "#y_train = labelencoder_Y.fit_transform(training_data['party'])\n",
        "#y_test = labelencoder_Y.fit_transform(test_data['party'])\n",
        "\n",
        "text_clf = Pipeline([\n",
        "                     #('vect', CountVectorizer()),\n",
        "                     #('tfidf', TfidfTransformer()),\n",
        "                     ('tfidfvect', TfidfVectorizer()),\n",
        "                     ('clf', MultinomialNB(alpha=0.001 ,class_prior=np.repeat(1,8)/8))])\n",
        "\n",
        "text_clf.fit(training_data['words'], training_data['party'])\n",
        "\n",
        "y_pred = text_clf.predict(test_data['words'])"
      ],
      "execution_count": 0,
      "outputs": []
    },
    {
      "cell_type": "code",
      "metadata": {
        "id": "omGDm2As7LKU",
        "colab_type": "code",
        "colab": {
          "base_uri": "https://localhost:8080/",
          "height": 34
        },
        "outputId": "bfcc2cf8-d992-427d-98fe-70fb8e143130"
      },
      "source": [
        "y_pred"
      ],
      "execution_count": 124,
      "outputs": [
        {
          "output_type": "execute_result",
          "data": {
            "text/plain": [
              "array(['S', 'S', 'M', ..., 'S', 'M', 'MP'], dtype='<U2')"
            ]
          },
          "metadata": {
            "tags": []
          },
          "execution_count": 124
        }
      ]
    },
    {
      "cell_type": "code",
      "metadata": {
        "id": "Yj0v7zitkDmE",
        "colab_type": "code",
        "outputId": "79058a32-03d1-48b1-830f-6abd7b7782b2",
        "colab": {
          "base_uri": "https://localhost:8080/",
          "height": 34
        }
      },
      "source": [
        "y_true_test = np.array(test_data['party'],dtype='<U2')\n",
        "y_true_test"
      ],
      "execution_count": 125,
      "outputs": [
        {
          "output_type": "execute_result",
          "data": {
            "text/plain": [
              "array(['M', 'S', 'M', ..., 'S', 'M', 'S'], dtype='<U2')"
            ]
          },
          "metadata": {
            "tags": []
          },
          "execution_count": 125
        }
      ]
    },
    {
      "cell_type": "code",
      "metadata": {
        "id": "eU8_CNrA3bp4",
        "colab_type": "code",
        "outputId": "41fd5c32-928c-49e8-c777-e141bfcc6cd0",
        "colab": {
          "base_uri": "https://localhost:8080/",
          "height": 34
        }
      },
      "source": [
        "print(\"Accuracy on test data ==> {0:.{1}f}%\".format((np.mean(y_pred == y_true_test)*100),2))"
      ],
      "execution_count": 126,
      "outputs": [
        {
          "output_type": "stream",
          "text": [
            "Accuracy on test data ==> 42.84%\n"
          ],
          "name": "stdout"
        }
      ]
    },
    {
      "cell_type": "code",
      "metadata": {
        "id": "8O4TeMygh-xK",
        "colab_type": "code",
        "outputId": "d4eecc69-db18-4aeb-b2cd-5a4b3e8a817e",
        "colab": {
          "base_uri": "https://localhost:8080/",
          "height": 278
        }
      },
      "source": [
        "print(classification_report(y_true_test,y_pred, target_names=parties))"
      ],
      "execution_count": 127,
      "outputs": [
        {
          "output_type": "stream",
          "text": [
            "              precision    recall  f1-score   support\n",
            "\n",
            "           C       0.29      0.22      0.25       671\n",
            "          KD       0.41      0.20      0.27       821\n",
            "           L       0.26      0.17      0.20       560\n",
            "           M       0.40      0.52      0.45      1644\n",
            "          MP       0.28      0.40      0.33       809\n",
            "           S       0.53      0.61      0.57      2773\n",
            "          SD       0.43      0.35      0.39      1060\n",
            "           V       0.46      0.35      0.40       950\n",
            "\n",
            "    accuracy                           0.43      9288\n",
            "   macro avg       0.38      0.35      0.36      9288\n",
            "weighted avg       0.42      0.43      0.42      9288\n",
            "\n"
          ],
          "name": "stdout"
        }
      ]
    },
    {
      "cell_type": "markdown",
      "metadata": {
        "id": "XUz9a6vRSa3_",
        "colab_type": "text"
      },
      "source": [
        "Would you have expected the results that you got?"
      ]
    },
    {
      "cell_type": "markdown",
      "metadata": {
        "id": "lea7Rg00Sa4B",
        "colab_type": "text"
      },
      "source": [
        "## Problem 3: Baseline"
      ]
    },
    {
      "cell_type": "markdown",
      "metadata": {
        "id": "rgHgwikqSa4D",
        "colab_type": "text"
      },
      "source": [
        "Evaluation metrics such as accuracy should not be understood as absolute measures of performance, but should be used only to compare different classifiers. When other classifiers are not available, a simple baseline for text classification is **Most Frequent Class (MFC)**. One way to think of this baseline is as a classifier that, for every document, predicts that class which appears most often in the training data.\n",
        "\n",
        "Determine the most frequent class in the 2017/2018 data. What is the accuracy of the MFC baseline on the test data? Given this baseline accuracy, how do you assess the results of the Naive Bayes classifier from Problem&nbsp;2? Answer with a short text."
      ]
    },
    {
      "cell_type": "code",
      "metadata": {
        "id": "b7D0XUJiSa4E",
        "colab_type": "code",
        "colab": {}
      },
      "source": [
        "# TODO: Write code here to print the baseline accuracy"
      ],
      "execution_count": 0,
      "outputs": []
    },
    {
      "cell_type": "markdown",
      "metadata": {
        "id": "azYN5DEzSa4K",
        "colab_type": "text"
      },
      "source": [
        "*TODO: Enter your answer here*"
      ]
    },
    {
      "cell_type": "markdown",
      "metadata": {
        "id": "ugqOaZ9mSa4N",
        "colab_type": "text"
      },
      "source": [
        "## Problem 4: Creating a balanced data set"
      ]
    },
    {
      "cell_type": "markdown",
      "metadata": {
        "id": "o0wNZAHfSa4O",
        "colab_type": "text"
      },
      "source": [
        "As you saw in Problem&nbsp;1, the distribution of the speeches over the eight different parties (classes) is imbalanced. One technique used to alleviate this is **undersampling**, in which one randomly removes samples from over-represented classes until all classes are represented with the same number of samples.\n",
        "\n",
        "Implement undersampling to create a balanced subset of the training data. Rerun the evaluation from Problem&nbsp;2 on the balanced data and compare the results. Discuss your findings in a short text. Would you argue that undersampling make sense for the task of predicting the party of a speaker?\n",
        "\n",
        "**Hint:** Your balanced subset should consist of 5,752 speeches."
      ]
    },
    {
      "cell_type": "code",
      "metadata": {
        "id": "vzTxIMVVSa4Q",
        "colab_type": "code",
        "colab": {}
      },
      "source": [
        "# TODO: Write code here to implement undersampling\n",
        "import math\n",
        "\n",
        "def undersampling_class(df,size,target): \n",
        "  classes = df[target].unique()\n",
        "  size_of_class = math.floor(size / len(classes))\n",
        "  indexes = []\n",
        "  for i in range(len(classes)):\n",
        "    col_indexes = df[df[target]==classes[i]].index\n",
        "    indexes.append(np.random.choice(col_indexes,size_of_class, replace=False))\n",
        "  under_sample_indices = np.concatenate(indexes)\n",
        "  np.random.shuffle(under_sample_indices)\n",
        "  under_sample_df = df.loc[under_sample_indices]\n",
        "  return under_sample_df\n"
      ],
      "execution_count": 0,
      "outputs": []
    },
    {
      "cell_type": "code",
      "metadata": {
        "id": "_QkrfZMbu90H",
        "colab_type": "code",
        "outputId": "051ae864-87d4-475c-dbd2-6be0f2ab9282",
        "colab": {
          "base_uri": "https://localhost:8080/",
          "height": 504
        }
      },
      "source": [
        " under_sampled_training = undersampling_class(training_data,5752,'party')\n",
        " under_sampled_training['party'].value_counts().plot(kind='bar')"
      ],
      "execution_count": 129,
      "outputs": [
        {
          "output_type": "execute_result",
          "data": {
            "text/plain": [
              "<matplotlib.axes._subplots.AxesSubplot at 0x7f4d993aa748>"
            ]
          },
          "metadata": {
            "tags": []
          },
          "execution_count": 129
        },
        {
          "output_type": "display_data",
          "data": {
            "image/png": "[encoded data removed]",
            "text/plain": [
              "<Figure size 864x576 with 1 Axes>"
            ]
          },
          "metadata": {
            "tags": []
          }
        }
      ]
    },
    {
      "cell_type": "code",
      "metadata": {
        "id": "P6IvuLHzqDCV",
        "colab_type": "code",
        "outputId": "d73ade2e-f0c1-4be7-d146-a7895bf399fc",
        "colab": {
          "base_uri": "https://localhost:8080/",
          "height": 34
        }
      },
      "source": [
        "under_sampled_training.shape"
      ],
      "execution_count": 130,
      "outputs": [
        {
          "output_type": "execute_result",
          "data": {
            "text/plain": [
              "(5752, 3)"
            ]
          },
          "metadata": {
            "tags": []
          },
          "execution_count": 130
        }
      ]
    },
    {
      "cell_type": "code",
      "metadata": {
        "id": "bU0iO5iSqod7",
        "colab_type": "code",
        "colab": {}
      },
      "source": [
        "# make the fit again with undersampled classes\n",
        "\n",
        "text_clf = Pipeline([\n",
        "                     #('vect', CountVectorizer()),\n",
        "                     #('tfidf', TfidfTransformer()),\n",
        "                     ('tfidfvect', TfidfVectorizer()),\n",
        "                     ('clf', MultinomialNB(alpha=0.1))])\n",
        "\n",
        "text_clf.fit(under_sampled_training['words'], under_sampled_training['party'])\n",
        "\n",
        "y_pred_under = text_clf.predict(test_data['words'])\n"
      ],
      "execution_count": 0,
      "outputs": []
    },
    {
      "cell_type": "code",
      "metadata": {
        "id": "-r4H0y8B0vUt",
        "colab_type": "code",
        "outputId": "0c62dea8-ce54-45b6-bbad-fe8b3c4e05b2",
        "colab": {
          "base_uri": "https://localhost:8080/",
          "height": 34
        }
      },
      "source": [
        "y_pred_under"
      ],
      "execution_count": 132,
      "outputs": [
        {
          "output_type": "execute_result",
          "data": {
            "text/plain": [
              "array(['S', 'MP', 'SD', ..., 'S', 'M', 'MP'], dtype='<U2')"
            ]
          },
          "metadata": {
            "tags": []
          },
          "execution_count": 132
        }
      ]
    },
    {
      "cell_type": "code",
      "metadata": {
        "id": "XgjrkiYd39sO",
        "colab_type": "code",
        "outputId": "dfdffbc1-15b0-4222-f267-568ec43e8f59",
        "colab": {
          "base_uri": "https://localhost:8080/",
          "height": 34
        }
      },
      "source": [
        "print(\"Accuracy on test data ==> {0:.{1}f}%\".format((np.mean(y_pred_under == y_true_test)*100),2))"
      ],
      "execution_count": 133,
      "outputs": [
        {
          "output_type": "stream",
          "text": [
            "Accuracy on test data ==> 41.77%\n"
          ],
          "name": "stdout"
        }
      ]
    },
    {
      "cell_type": "code",
      "metadata": {
        "id": "crTcoOns1NE-",
        "colab_type": "code",
        "outputId": "ea392790-11ab-43f7-a6a9-7c224bb2eb9a",
        "colab": {
          "base_uri": "https://localhost:8080/",
          "height": 278
        }
      },
      "source": [
        "print(classification_report(y_true_test,y_pred_under, target_names=parties))"
      ],
      "execution_count": 134,
      "outputs": [
        {
          "output_type": "stream",
          "text": [
            "              precision    recall  f1-score   support\n",
            "\n",
            "           C       0.28      0.41      0.34       671\n",
            "          KD       0.29      0.38      0.33       821\n",
            "           L       0.26      0.39      0.31       560\n",
            "           M       0.45      0.40      0.43      1644\n",
            "          MP       0.30      0.43      0.35       809\n",
            "           S       0.72      0.40      0.52      2773\n",
            "          SD       0.44      0.41      0.42      1060\n",
            "           V       0.41      0.54      0.47       950\n",
            "\n",
            "    accuracy                           0.42      9288\n",
            "   macro avg       0.40      0.42      0.40      9288\n",
            "weighted avg       0.48      0.42      0.43      9288\n",
            "\n"
          ],
          "name": "stdout"
        }
      ]
    },
    {
      "cell_type": "markdown",
      "metadata": {
        "id": "Mo4oLY43Sa4T",
        "colab_type": "text"
      },
      "source": [
        "## Problem 5: Confusion matrix"
      ]
    },
    {
      "cell_type": "markdown",
      "metadata": {
        "id": "_AlAM9dTSa4T",
        "colab_type": "text"
      },
      "source": [
        "A **confusion matrix** is a specific table layout that is useful when analysing the performance of a classifier. In this matrix, both the rows and the columns correspond to classes, and each cell $(i, j)$ states how many times a sample with gold-standard class $i$ was predicted as belonging to class $j$.\n",
        "\n",
        "In scitkit-learn, the confusion matrix of a classifier is computed by the function [`confusion_matrix`](https://scikit-learn.org/stable/modules/generated/sklearn.metrics.confusion_matrix.html).\n",
        "\n",
        "Your task is to use the confusion matrix to find, for each given party $p$ in the Riksdag, that other party $p'$ which the classifier that you trained in Problem&nbsp;4 most often confuses $p$ with when it predicts the party of a speaker."
      ]
    },
    {
      "cell_type": "code",
      "metadata": {
        "id": "OgPHzC4jSa4W",
        "colab_type": "code",
        "colab": {
          "base_uri": "https://localhost:8080/",
          "height": 759
        },
        "outputId": "2791c848-c5d8-4417-9da1-b517851c2765"
      },
      "source": [
        "# TODO: Write code here to solve Problem 5\n",
        "from sklearn.metrics import confusion_matrix\n",
        "from sklearn.utils.multiclass import unique_labels\n",
        "\n",
        "def plot_confusion_matrix(y_true, y_pred, classes,\n",
        "                          normalize=False,\n",
        "                          title=None,\n",
        "                          cmap=plt.cm.Blues):\n",
        "    \"\"\"\n",
        "    This function prints and plots the confusion matrix.\n",
        "    Normalization can be applied by setting `normalize=True`.\n",
        "    \"\"\"\n",
        "    if not title:\n",
        "        if normalize:\n",
        "            title = 'Normalized confusion matrix'\n",
        "        else:\n",
        "            title = 'Confusion matrix, without normalization'\n",
        "\n",
        "    # Compute confusion matrix\n",
        "    cm = confusion_matrix(y_true, y_pred)\n",
        "    # Only use the labels that appear in the data\n",
        "    classes = classes\n",
        "    if normalize:\n",
        "        cm = cm.astype('float') / cm.sum(axis=1)[:, np.newaxis]\n",
        "        print(\"Normalized confusion matrix\")\n",
        "    else:\n",
        "        print('Confusion matrix, without normalization')\n",
        "\n",
        "    print(cm)\n",
        "\n",
        "    fig, ax = plt.subplots()\n",
        "    im = ax.imshow(cm, interpolation='nearest', cmap=cmap)\n",
        "    ax.figure.colorbar(im, ax=ax)\n",
        "    # We want to show all ticks...\n",
        "    ax.set(xticks=np.arange(cm.shape[1]),\n",
        "           yticks=np.arange(cm.shape[0]),\n",
        "           # ... and label them with the respective list entries\n",
        "           xticklabels=classes, yticklabels=classes,\n",
        "           title=title,\n",
        "           ylabel='True label',\n",
        "           xlabel='Predicted label')\n",
        "\n",
        "    # Rotate the tick labels and set their alignment.\n",
        "    plt.setp(ax.get_xticklabels(), rotation=45, ha=\"right\",\n",
        "             rotation_mode=\"anchor\")\n",
        "\n",
        "    # Loop over data dimensions and create text annotations.\n",
        "    fmt = '.2f' if normalize else 'd'\n",
        "    thresh = cm.max() / 2.\n",
        "    for i in range(cm.shape[0]):\n",
        "        for j in range(cm.shape[1]):\n",
        "            ax.text(j, i, format(cm[i, j], fmt),\n",
        "                    ha=\"center\", va=\"center\",\n",
        "                    color=\"white\" if cm[i, j] > thresh else \"black\")\n",
        "    fig.tight_layout()\n",
        "    return ax\n",
        "\n",
        "\n",
        "\n",
        "plot_confusion_matrix(y_true_test, y_pred_under,np.array(parties,dtype='<U10'))\n"
      ],
      "execution_count": 71,
      "outputs": [
        {
          "output_type": "stream",
          "text": [
            "Confusion matrix, without normalization\n",
            "[[ 270   75   38   85   57   47   50   49]\n",
            " [  83  309   63  135   62   52   77   40]\n",
            " [  62   45  212   62   50   36   46   47]\n",
            " [ 209  213  127  688  121   93  116   77]\n",
            " [  60   64   52   55  359  113   39   67]\n",
            " [ 158  193  150  281  397 1147  184  263]\n",
            " [  87   95   96  120   63   55  460   84]\n",
            " [  52   71   55   89   74   61   63  485]]\n"
          ],
          "name": "stdout"
        },
        {
          "output_type": "execute_result",
          "data": {
            "text/plain": [
              "<matplotlib.axes._subplots.AxesSubplot at 0x7f4db26e4278>"
            ]
          },
          "metadata": {
            "tags": []
          },
          "execution_count": 71
        },
        {
          "output_type": "display_data",
          "data": {
            "image/png": "[encoded data removed]",
            "text/plain": [
              "<Figure size 864x576 with 2 Axes>"
            ]
          },
          "metadata": {
            "tags": []
          }
        }
      ]
    },
    {
      "cell_type": "markdown",
      "metadata": {
        "id": "vKAfjceHSa4a",
        "colab_type": "text"
      },
      "source": [
        "## Problem 6: Grid search"
      ]
    },
    {
      "cell_type": "markdown",
      "metadata": {
        "id": "cItfMKoNSa4d",
        "colab_type": "text"
      },
      "source": [
        "Until now, you have been using the vectorizer and the Naive Bayes classifier with their default hyperparameters. When working with real-world applications, you would want to find settings for the hyperparameters that maximize the performance for the task at hand.\n",
        "\n",
        "Manually tweaking the hyperparameters of the various components of a vectorizer–classifier pipeline can be cumbersome. However, scikit-learn makes it possible to run an exhaustive search for the best hyperparameters over a grid of possible values. This method is known as **grid search**.\n",
        "\n",
        "The hyperparameters of a pipeline should never be tuned on the final test set. (Why would that be a bad idea?) Instead, one should either use a separate validation set, or run cross-validation over different folds. Here we will use cross-validation.\n",
        "\n",
        "Implement a grid search with 5-fold cross-validation to find the optimal parameters in a grid defined by the following choices for the hyperparameters:\n",
        "\n",
        "* In the vectorizer, try a set-of-words model instead of the default bag-of-words model (two possible parameter values).\n",
        "* Also in the vectorizer, try extracting $n$-grams up to $n = 2$ (two possible parameter values).\n",
        "* In the Naive Bayes classifier, try using additive smoothing with $\\alpha \\in \\{1, 0{.}1\\}$ (two possible parameter values).\n",
        "\n",
        "Use the class [GridSearchCV](https://scikit-learn.org/stable/modules/generated/sklearn.model_selection.GridSearchCV.html) from the scikit-learn library. Print the results of your best model, along with the parameter values that yielded these results."
      ]
    },
    {
      "cell_type": "code",
      "metadata": {
        "id": "GwZksymJSa4f",
        "colab_type": "code",
        "colab": {}
      },
      "source": [
        "# TODO: Write code here to implement the grid search\n",
        "from sklearn.model_selection import GridSearchCV\n",
        "\n",
        "\n",
        "text_clf_cv = Pipeline([\n",
        "                     #('vect', CountVectorizer()),\n",
        "                     #('tfidf', TfidfTransformer()),\n",
        "                     ('tfidfvect', TfidfVectorizer()),\n",
        "                     ('clf', MultinomialNB(alpha=1))])\n",
        "\n",
        "parameters = {\n",
        "    'tfidfvect__ngram_range': [(1, 1), (1, 2)],\n",
        "    'tfidfvect__use_idf': (True, False),\n",
        "    #'tfidf_preprocessor':['word', 'char'],\n",
        "    'clf__alpha': (1, 0.1),}\n",
        "\n",
        "gs_clf = GridSearchCV(text_clf_cv, parameters, cv=5,scoring = 'accuracy')\n",
        "\n",
        "grid_search = gs_clf.fit(under_sampled_training['words'], under_sampled_training['party'])\n"
      ],
      "execution_count": 0,
      "outputs": []
    },
    {
      "cell_type": "code",
      "metadata": {
        "id": "lGIOJs0TqRWo",
        "colab_type": "code",
        "colab": {
          "base_uri": "https://localhost:8080/",
          "height": 86
        },
        "outputId": "3b83f482-e160-499f-b71c-17c5865f6c88"
      },
      "source": [
        " print(\"Best parameters are:\")\n",
        " for param_name in sorted(parameters.keys()):\n",
        "   print(\"%s: %r\" % (param_name, gs_clf.best_params_[param_name]))"
      ],
      "execution_count": 142,
      "outputs": [
        {
          "output_type": "stream",
          "text": [
            "Best parameters are:\n",
            "clf__alpha: 0.1\n",
            "tfidfvect__ngram_range: (1, 2)\n",
            "tfidfvect__use_idf: True\n"
          ],
          "name": "stdout"
        }
      ]
    },
    {
      "cell_type": "code",
      "metadata": {
        "id": "uMii7nssn89p",
        "colab_type": "code",
        "colab": {
          "base_uri": "https://localhost:8080/",
          "height": 34
        },
        "outputId": "4fcddfbf-ba4e-4bd9-8b27-593e25b40a1b"
      },
      "source": [
        "best_accuracy = grid_search.best_score_\n",
        "\n",
        "print(\"The best accuracy is : {0:.{1}f}% \".format(best_accuracy*100,2))\n"
      ],
      "execution_count": 148,
      "outputs": [
        {
          "output_type": "stream",
          "text": [
            "The best accuracy is : 60.54% \n"
          ],
          "name": "stdout"
        }
      ]
    },
    {
      "cell_type": "code",
      "metadata": {
        "id": "5WnuXluIuKDF",
        "colab_type": "code",
        "colab": {}
      },
      "source": [
        "y_pred_cv = gs_clf.predict(test_data['words'])\n",
        "      "
      ],
      "execution_count": 0,
      "outputs": []
    },
    {
      "cell_type": "code",
      "metadata": {
        "id": "I-B6PJfpuaWc",
        "colab_type": "code",
        "colab": {
          "base_uri": "https://localhost:8080/",
          "height": 34
        },
        "outputId": "d64ebb9d-3ae9-4f2a-d117-03d215f5cfea"
      },
      "source": [
        "print(\"Accuracy on test data ==> {0:.{1}f}%\".format((np.mean(y_pred_cv == y_true_test)*100),2))"
      ],
      "execution_count": 150,
      "outputs": [
        {
          "output_type": "stream",
          "text": [
            "Accuracy on test data ==> 44.00%\n"
          ],
          "name": "stdout"
        }
      ]
    },
    {
      "cell_type": "markdown",
      "metadata": {
        "id": "910NzQiYmCID",
        "colab_type": "text"
      },
      "source": [
        ""
      ]
    },
    {
      "cell_type": "markdown",
      "metadata": {
        "id": "_KBdn-39Sa4k",
        "colab_type": "text"
      },
      "source": [
        "## Problem 6: Try to improve your results"
      ]
    },
    {
      "cell_type": "markdown",
      "metadata": {
        "id": "O4RGui9jSa4n",
        "colab_type": "text"
      },
      "source": [
        "Scikit-learn makes it easy to test different vectorizer–classifier pipelines – among other things, it includes different types of logistic regression classifiers, support vector machines, and decision trees. Browse the library to see which methods are supported.\n",
        "\n",
        "Build a pipeline that you find interesting, and use grid search to find optimal settings for the hyperparameters. Print the results of your best model. Did you manage to get better results than the ones that you obtained in Problem&nbsp;5? Answer with a short text."
      ]
    },
    {
      "cell_type": "code",
      "metadata": {
        "id": "siAc8AT-Sa4p",
        "colab_type": "code",
        "colab": {
          "base_uri": "https://localhost:8080/",
          "height": 72
        },
        "outputId": "fc49e55e-523b-4b17-8cd3-7d3f3d649d57"
      },
      "source": [
        "# TODO: Write code here to search for a better model\n",
        "from sklearn.linear_model import SGDClassifier\n",
        "\n",
        "text_clf_sgd = Pipeline([\n",
        "                     ('vect', CountVectorizer()),\n",
        "                     ('tfidf', TfidfTransformer()),\n",
        "                     ('clf', SGDClassifier(loss='hinge', penalty='l2',\n",
        "                                           alpha=1e-3, random_state=42,\n",
        "                                           max_iter=5, tol=None)),])\n",
        "\n",
        "\n",
        "parameters = {\n",
        "    'vect__ngram_range': [(1, 1), (1, 2)],\n",
        "    'tfidf__use_idf': (True, False),\n",
        "    'clf__alpha': (1e-2, 1e-3),}\n",
        "\n",
        "\n",
        "gs_clf = GridSearchCV(text_clf_sgd, parameters, cv=5, iid=False, n_jobs=-1)\n",
        "\n",
        "gs_clf_sgd = gs_clf.fit(under_sampled_training['words'], under_sampled_training['party'])"
      ],
      "execution_count": 151,
      "outputs": [
        {
          "output_type": "stream",
          "text": [
            "/usr/local/lib/python3.6/dist-packages/joblib/externals/loky/process_executor.py:706: UserWarning: A worker stopped while some jobs were given to the executor. This can be caused by a too short worker timeout or by a memory leak.\n",
            "  \"timeout or by a memory leak.\", UserWarning\n"
          ],
          "name": "stderr"
        }
      ]
    },
    {
      "cell_type": "code",
      "metadata": {
        "id": "RcnonEoy2YpP",
        "colab_type": "code",
        "colab": {}
      },
      "source": [
        "y_pred_sgb = gs_clf_sgd.predict(test_data['words'])\n"
      ],
      "execution_count": 0,
      "outputs": []
    },
    {
      "cell_type": "code",
      "metadata": {
        "id": "8FQBHhJq2yUj",
        "colab_type": "code",
        "colab": {
          "base_uri": "https://localhost:8080/",
          "height": 34
        },
        "outputId": "129e2359-276b-4f95-c507-504e80443eb2"
      },
      "source": [
        "print(\"Accuracy on test data ==> {0:.{1}f}%\".format((np.mean(y_pred_sgb == y_true_test)*100),2))"
      ],
      "execution_count": 153,
      "outputs": [
        {
          "output_type": "stream",
          "text": [
            "Accuracy on test data ==> 47.60%\n"
          ],
          "name": "stdout"
        }
      ]
    },
    {
      "cell_type": "markdown",
      "metadata": {
        "id": "wPx4RFIzSa4s",
        "colab_type": "text"
      },
      "source": [
        "*TODO: Enter your answer here*"
      ]
    },
    {
      "cell_type": "markdown",
      "metadata": {
        "id": "3T7BgDCMSa4t",
        "colab_type": "text"
      },
      "source": [
        "<div class=\"alert alert-info\">\n",
        "    Please read the section ‘General information’ on the ‘Labs’ page of the course website before submitting this notebook!\n",
        "</div>"
      ]
    }
  ]
}