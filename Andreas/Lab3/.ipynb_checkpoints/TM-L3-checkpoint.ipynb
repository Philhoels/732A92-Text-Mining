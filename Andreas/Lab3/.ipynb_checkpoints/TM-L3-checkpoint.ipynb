{
 "cells": [
  {
   "cell_type": "markdown",
   "metadata": {},
   "source": [
    "# L3: Text clustering and topic modelling"
   ]
  },
  {
   "cell_type": "markdown",
   "metadata": {},
   "source": [
    "Text clustering groups documents in such a way that documents within a group are more &lsquo;similar&rsquo; to other documents in the cluster than to documents not in the cluster. The exact definition of what &lsquo;similar&rsquo; means in this context varies across applications and clustering algorithms.\n",
    "\n",
    "In this lab you will experiment with both hard and soft clustering techniques. More specifically, in the first part you will be using the $k$-means algorithm, and in the second part you will be using a topic model based on the Latent Dirichlet Allocation (LDA)."
   ]
  },
  {
   "cell_type": "markdown",
   "metadata": {},
   "source": [
    "## Hard clustering data set"
   ]
  },
  {
   "cell_type": "markdown",
   "metadata": {},
   "source": [
    "The raw data for the hard clustering part of this lab is a collection of product reviews. We have preprocessed the data by tokenization and lowercasing."
   ]
  },
  {
   "cell_type": "code",
   "execution_count": 1,
   "metadata": {},
   "outputs": [],
   "source": [
    "import pandas as pd\n",
    "import bz2\n",
    "\n",
    "with bz2.open(\"reviews.json.bz2\") as source:\n",
    "    df = pd.read_json(source)"
   ]
  },
  {
   "cell_type": "markdown",
   "metadata": {},
   "source": [
    "When you inspect the data frame, you can see that there are three labelled columns: `category` (the product category), `sentiment` (whether the product review was classified as &lsquo;positive&rsquo; or &lsquo;negative&rsquo; towards the product), and `text` (the space-separated text of the review)."
   ]
  },
  {
   "cell_type": "code",
   "execution_count": 2,
   "metadata": {},
   "outputs": [
    {
     "data": {
      "text/html": [
       "<div>\n",
       "<style scoped>\n",
       "    .dataframe tbody tr th:only-of-type {\n",
       "        vertical-align: middle;\n",
       "    }\n",
       "\n",
       "    .dataframe tbody tr th {\n",
       "        vertical-align: top;\n",
       "    }\n",
       "\n",
       "    .dataframe thead th {\n",
       "        text-align: right;\n",
       "    }\n",
       "</style>\n",
       "<table border=\"1\" class=\"dataframe\">\n",
       "  <thead>\n",
       "    <tr style=\"text-align: right;\">\n",
       "      <th></th>\n",
       "      <th>category</th>\n",
       "      <th>sentiment</th>\n",
       "      <th>text</th>\n",
       "    </tr>\n",
       "  </thead>\n",
       "  <tbody>\n",
       "    <tr>\n",
       "      <th>0</th>\n",
       "      <td>music</td>\n",
       "      <td>neg</td>\n",
       "      <td>i bought this album because i loved the title ...</td>\n",
       "    </tr>\n",
       "    <tr>\n",
       "      <th>1</th>\n",
       "      <td>music</td>\n",
       "      <td>neg</td>\n",
       "      <td>i was misled and thought i was buying the enti...</td>\n",
       "    </tr>\n",
       "    <tr>\n",
       "      <th>2</th>\n",
       "      <td>books</td>\n",
       "      <td>neg</td>\n",
       "      <td>i have introduced many of my ell , high school...</td>\n",
       "    </tr>\n",
       "    <tr>\n",
       "      <th>3</th>\n",
       "      <td>books</td>\n",
       "      <td>pos</td>\n",
       "      <td>anything you purchase in the left behind serie...</td>\n",
       "    </tr>\n",
       "    <tr>\n",
       "      <th>4</th>\n",
       "      <td>dvd</td>\n",
       "      <td>pos</td>\n",
       "      <td>i loved these movies , and i cant wiat for the...</td>\n",
       "    </tr>\n",
       "    <tr>\n",
       "      <th>5</th>\n",
       "      <td>camera</td>\n",
       "      <td>neg</td>\n",
       "      <td>in my experience , this camera takes great pic...</td>\n",
       "    </tr>\n",
       "    <tr>\n",
       "      <th>6</th>\n",
       "      <td>books</td>\n",
       "      <td>neg</td>\n",
       "      <td>first off i 'd like to tell you that this is o...</td>\n",
       "    </tr>\n",
       "    <tr>\n",
       "      <th>7</th>\n",
       "      <td>health</td>\n",
       "      <td>pos</td>\n",
       "      <td>this is a very good shaver for the private are...</td>\n",
       "    </tr>\n",
       "    <tr>\n",
       "      <th>8</th>\n",
       "      <td>books</td>\n",
       "      <td>neg</td>\n",
       "      <td>not even worth finishing this book ! this auth...</td>\n",
       "    </tr>\n",
       "    <tr>\n",
       "      <th>9</th>\n",
       "      <td>books</td>\n",
       "      <td>pos</td>\n",
       "      <td>if you 're intimidated by tolstoy or dostoevsk...</td>\n",
       "    </tr>\n",
       "  </tbody>\n",
       "</table>\n",
       "</div>"
      ],
      "text/plain": [
       "  category sentiment                                               text\n",
       "0    music       neg  i bought this album because i loved the title ...\n",
       "1    music       neg  i was misled and thought i was buying the enti...\n",
       "2    books       neg  i have introduced many of my ell , high school...\n",
       "3    books       pos  anything you purchase in the left behind serie...\n",
       "4      dvd       pos  i loved these movies , and i cant wiat for the...\n",
       "5   camera       neg  in my experience , this camera takes great pic...\n",
       "6    books       neg  first off i 'd like to tell you that this is o...\n",
       "7   health       pos  this is a very good shaver for the private are...\n",
       "8    books       neg  not even worth finishing this book ! this auth...\n",
       "9    books       pos  if you 're intimidated by tolstoy or dostoevsk..."
      ]
     },
     "execution_count": 2,
     "metadata": {},
     "output_type": "execute_result"
    }
   ],
   "source": [
    "df.head(n=10)"
   ]
  },
  {
   "cell_type": "code",
   "execution_count": 3,
   "metadata": {},
   "outputs": [
    {
     "data": {
      "text/plain": [
       "(11914, 3)"
      ]
     },
     "execution_count": 3,
     "metadata": {},
     "output_type": "execute_result"
    }
   ],
   "source": [
    "df.shape"
   ]
  },
  {
   "cell_type": "code",
   "execution_count": 4,
   "metadata": {},
   "outputs": [
    {
     "name": "stdout",
     "output_type": "stream",
     "text": [
      "The distinct categories are:  ['music' 'books' 'dvd' 'camera' 'health' 'software']\n"
     ]
    }
   ],
   "source": [
    "print('The distinct categories are: ',df.category.unique())"
   ]
  },
  {
   "cell_type": "markdown",
   "metadata": {},
   "source": [
    "## Problem 1: K-means clustering"
   ]
  },
  {
   "cell_type": "markdown",
   "metadata": {},
   "source": [
    "Your first task is to cluster the product review data using a tf–idf vectorizer and a $k$-means clusterer."
   ]
  },
  {
   "cell_type": "markdown",
   "metadata": {},
   "source": [
    "Start by doing the vectorization. In connection with vectorization, you should also filter out standard English stop words. While you could use [spaCy](https://spacy.io/) for this task, here it suffices to use the word list implemented in [TfidfVectorizer](https://scikit-learn.org/stable/modules/generated/sklearn.feature_extraction.text.TfidfVectorizer.html)."
   ]
  },
  {
   "cell_type": "code",
   "execution_count": 5,
   "metadata": {},
   "outputs": [],
   "source": [
    "# TODO: Enter code here to vectorize the data\n",
    "from sklearn.feature_extraction.text import TfidfVectorizer\n",
    "from nltk.stem import WordNetLemmatizer \n",
    "\n",
    "# class LemmaTokenizer(object):\n",
    "#  '''class to lemmatize'''\n",
    "#     def __init__(self):\n",
    "#         self.wnl = WordNetLemmatizer()\n",
    "#     def __call__(self, articles):\n",
    "#         return [self.wnl.lemmatize(t) for t in word_tokenize(articles)]\n",
    "\n",
    "vectorizer = TfidfVectorizer(stop_words='english')\n",
    "                              #,tokenizer=LemmaTokenizer())\n",
    "\n",
    "reviews = vectorizer.fit_transform(df['text'])\n"
   ]
  },
  {
   "cell_type": "markdown",
   "metadata": {},
   "source": [
    "Test your vectorization by running the following code cell:"
   ]
  },
  {
   "cell_type": "code",
   "execution_count": 6,
   "metadata": {},
   "outputs": [
    {
     "data": {
      "text/plain": [
       "(11914, 46619)"
      ]
     },
     "execution_count": 6,
     "metadata": {},
     "output_type": "execute_result"
    }
   ],
   "source": [
    "reviews.shape"
   ]
  },
  {
   "cell_type": "markdown",
   "metadata": {},
   "source": [
    "If you used the English stop word list from scikit-learn, then the resulting vocabulary should have 46,619 entries."
   ]
  },
  {
   "cell_type": "markdown",
   "metadata": {},
   "source": [
    "Next, cluster the vectorized data. Before doing so, you should read the documentation of the [KMeans](https://scikit-learn.org/stable/modules/generated/sklearn.cluster.KMeans.html) class, which is scikit-learn&rsquo;s implementation of the $k$-means algorithm. As you can see, this class has several parameters that you can tweak. For now, the only parameter that you will have to set is the number of clusters. We recommend that you choose $k=3$.\n",
    "\n",
    "**Tip:** Training $k$-means models will take some time. To speed things up, you can use the `n_init` parameter to control the number of times that the clustering is re-computed with different initial values. The default value for this parameter is 10; here and in the rest of this lab, you may want to set this to a lower value."
   ]
  },
  {
   "cell_type": "code",
   "execution_count": 7,
   "metadata": {},
   "outputs": [
    {
     "data": {
      "text/plain": [
       "KMeans(algorithm='auto', copy_x=True, init='k-means++', max_iter=300,\n",
       "       n_clusters=3, n_init=2, n_jobs=None, precompute_distances='auto',\n",
       "       random_state=13, tol=0.0001, verbose=0)"
      ]
     },
     "execution_count": 7,
     "metadata": {},
     "output_type": "execute_result"
    }
   ],
   "source": [
    "# TODO: Enter code here to cluster the vectorized data\n",
    "from sklearn.cluster import KMeans\n",
    "\n",
    "kmeans = KMeans(n_clusters=3, n_init=2,random_state=13)\n",
    "\n",
    "kmeans.fit(reviews)"
   ]
  },
  {
   "cell_type": "code",
   "execution_count": 8,
   "metadata": {},
   "outputs": [
    {
     "data": {
      "text/plain": [
       "0    6031\n",
       "2    4805\n",
       "1    1078\n",
       "dtype: int64"
      ]
     },
     "execution_count": 8,
     "metadata": {},
     "output_type": "execute_result"
    }
   ],
   "source": [
    "pd.Series(kmeans.labels_).value_counts()"
   ]
  },
  {
   "cell_type": "markdown",
   "metadata": {},
   "source": [
    "To sanity-check your clustering, create a bar plot with the number of documents per cluster."
   ]
  },
  {
   "cell_type": "code",
   "execution_count": 11,
   "metadata": {},
   "outputs": [
    {
     "data": {
      "image/png": "[encoded data removed]",
      "text/plain": [
       "<Figure size 1080x360 with 1 Axes>"
      ]
     },
     "metadata": {},
     "output_type": "display_data"
    }
   ],
   "source": [
    "# TODO: Enter code here to produce a bar plot of the cluster size\n",
    "import matplotlib.pyplot as plt\n",
    "\n",
    "plt.figure(figsize=(15,5))\n",
    "plt.style.use('dark_background')\n",
    "pd.Series(kmeans.labels_).value_counts().plot(kind='bar',color='cornflowerblue')\n",
    "plt.title('Bar plot k=3')\n",
    "plt.show()"
   ]
  },
  {
   "cell_type": "markdown",
   "metadata": {},
   "source": [
    "Note that sizes may vary considerable between clusters and among different random seeds."
   ]
  },
  {
   "cell_type": "markdown",
   "metadata": {},
   "source": [
    "## Problem 2: Summarize clusters"
   ]
  },
  {
   "cell_type": "markdown",
   "metadata": {},
   "source": [
    "Once you have a clustering, you can try to see whether it is meaningful. One useful technique in that context is to generate a **summary** for each cluster by extracting the $n$ highest-weighted terms from the centroid of each cluster. Your next task is to implement this approach.\n",
    "\n",
    "**Hint:** You will need to construct an &lsquo;inverted vocabulary&rsquo; that allows you to map from the index of a term back to the original term."
   ]
  },
  {
   "cell_type": "markdown",
   "metadata": {},
   "source": [
    "## with class"
   ]
  },
  {
   "cell_type": "code",
   "execution_count": 12,
   "metadata": {},
   "outputs": [],
   "source": [
    "from sklearn.feature_extraction.text import TfidfVectorizer\n",
    "from sklearn.cluster import KMeans\n",
    "import numpy as np\n",
    "\n",
    "class summarize_clusters():\n",
    "    \n",
    "    def __init__(self, k, n_terms,text):\n",
    "        self.k = k\n",
    "        self.n_terms = n_terms\n",
    "        self.text = text\n",
    "        self.vectorizer = TfidfVectorizer(stop_words='english')\n",
    "        self.reviews = self.vectorizer.fit_transform(self.text)\n",
    "        \n",
    "    def get_indexes(self,df_column):\n",
    "        kmeans = KMeans(n_clusters=self.k, n_init=2,random_state=13)\n",
    "        kmeans.fit(self.reviews)\n",
    "        cluster_centers = kmeans.cluster_centers_\n",
    "        indexes= []\n",
    "        for cluster in cluster_centers:\n",
    "            ind = np.argpartition(cluster, -self.n_terms)[-self.n_terms:]\n",
    "            indexes.append(ind)\n",
    "        return indexes\n",
    "        \n",
    "    def get_highest(self,indexes):\n",
    "        dictionary = {}\n",
    "        \n",
    "        for i,row in enumerate(indexes):\n",
    "            my_list=[]\n",
    "            for index in row :\n",
    "                my_list.append(self.vectorizer.get_feature_names()[index])\n",
    "            dictionary['cluster_'+str(i)]=my_list\n",
    "        \n",
    "        return dictionary\n"
   ]
  },
  {
   "cell_type": "markdown",
   "metadata": {},
   "source": [
    "### for k=3"
   ]
  },
  {
   "cell_type": "code",
   "execution_count": 13,
   "metadata": {},
   "outputs": [],
   "source": [
    "k3 = summarize_clusters(3,6,df['text'])"
   ]
  },
  {
   "cell_type": "code",
   "execution_count": 14,
   "metadata": {},
   "outputs": [],
   "source": [
    "indexes_k3 = k3.get_indexes(df['text'])"
   ]
  },
  {
   "cell_type": "code",
   "execution_count": 15,
   "metadata": {},
   "outputs": [
    {
     "data": {
      "text/plain": [
       "[array([22961,  7423,  2193, 27522, 24390,  5695]),\n",
       " array([44007, 12123,  6980, 31125, 24143,  6890]),\n",
       " array([44011, 32568, 38539, 12823, 44007, 32505])]"
      ]
     },
     "execution_count": 15,
     "metadata": {},
     "output_type": "execute_result"
    }
   ],
   "source": [
    "indexes_k3"
   ]
  },
  {
   "cell_type": "code",
   "execution_count": 16,
   "metadata": {},
   "outputs": [
    {
     "data": {
      "text/plain": [
       "{'cluster_0': ['just', 'cd', 'album', 'movie', 'like', 'book'],\n",
       " 'cluster_1': ['use', 'digital', 'canon', 'pictures', 'lens', 'camera'],\n",
       " 'cluster_2': ['used', 'program', 'software', 'does', 'use', 'product']}"
      ]
     },
     "execution_count": 16,
     "metadata": {},
     "output_type": "execute_result"
    }
   ],
   "source": [
    "k3.get_highest(indexes_k3)"
   ]
  },
  {
   "cell_type": "markdown",
   "metadata": {},
   "source": [
    "### for k=6"
   ]
  },
  {
   "cell_type": "code",
   "execution_count": 21,
   "metadata": {},
   "outputs": [],
   "source": [
    "k6 = summarize_clusters(6,6,df['text'])"
   ]
  },
  {
   "cell_type": "code",
   "execution_count": 22,
   "metadata": {},
   "outputs": [],
   "source": [
    "indexes_k6 = k6.get_indexes(df['text'])"
   ]
  },
  {
   "cell_type": "code",
   "execution_count": 23,
   "metadata": {},
   "outputs": [
    {
     "data": {
      "text/plain": [
       "[array([38646, 33309, 38651, 27714,  7423,  2193]),\n",
       " array([44007, 12123,  6980, 31125,  6890, 24143]),\n",
       " array([ 9141, 44007, 38539, 44420, 32568, 32505]),\n",
       " array([22961, 24390, 44007, 32505, 18604, 18315]),\n",
       " array([39765, 33676,  5716,  3809, 33667,  5695]),\n",
       " array([45121, 39765, 24390, 27530, 27522, 16220])]"
      ]
     },
     "execution_count": 23,
     "metadata": {},
     "output_type": "execute_result"
    }
   ],
   "source": [
    "indexes_k6"
   ]
  },
  {
   "cell_type": "code",
   "execution_count": 24,
   "metadata": {},
   "outputs": [
    {
     "data": {
      "text/plain": [
       "{'cluster_0': ['song', 'quot', 'songs', 'music', 'cd', 'album'],\n",
       " 'cluster_1': ['use', 'digital', 'canon', 'pictures', 'camera', 'lens'],\n",
       " 'cluster_2': ['computer', 'use', 'software', 'version', 'program', 'product'],\n",
       " 'cluster_3': ['just', 'like', 'use', 'product', 'great', 'good'],\n",
       " 'cluster_4': ['story', 'reading', 'books', 'author', 'read', 'book'],\n",
       " 'cluster_5': ['watch', 'story', 'like', 'movies', 'movie', 'film']}"
      ]
     },
     "execution_count": 24,
     "metadata": {},
     "output_type": "execute_result"
    }
   ],
   "source": [
    "k6.get_highest(indexes_k6)"
   ]
  },
  {
   "cell_type": "markdown",
   "metadata": {},
   "source": [
    "## without class"
   ]
  },
  {
   "cell_type": "code",
   "execution_count": 25,
   "metadata": {},
   "outputs": [],
   "source": [
    "# # TODO: Enter code here to compute the cluster summaries and print them\n",
    "# import numpy as np\n",
    "\n",
    "# n=4\n",
    "\n",
    "# print(kmeans.cluster_centers_.shape)\n",
    "# cluster_centers = kmeans.cluster_centers_\n",
    "\n",
    "# c= []\n",
    "\n",
    "# for cluster in cluster_centers:\n",
    "#     ind = np.argpartition(cluster, -n)[-n:]\n",
    "#     c.append(ind)\n",
    "# c"
   ]
  },
  {
   "cell_type": "code",
   "execution_count": 26,
   "metadata": {},
   "outputs": [],
   "source": [
    "# dictionary = {}\n",
    "\n",
    "# for i,row in enumerate(c):\n",
    "#     l=[]\n",
    "#     for index in row :\n",
    "#         l.append(vectorizer.get_feature_names()[index])\n",
    "#     dictionary['cluster_'+str(i)]=l   \n",
    "\n",
    "    \n",
    "# print('The highest {} highest-weighted terms from the centroid of each cluster are : '.format(n))    \n",
    "# dictionary"
   ]
  },
  {
   "cell_type": "code",
   "execution_count": 27,
   "metadata": {},
   "outputs": [],
   "source": [
    "# kmeans_c6 = KMeans(n_clusters=6, n_init=2,random_state=13)\n",
    "\n",
    "# kmeans_c6.fit(reviews)"
   ]
  },
  {
   "cell_type": "code",
   "execution_count": 28,
   "metadata": {},
   "outputs": [],
   "source": [
    "# n=4\n",
    "\n",
    "# print(kmeans_c6.cluster_centers_.shape)\n",
    "# cluster_centers_c6 = kmeans_c6.cluster_centers_\n",
    "\n",
    "# c6= []\n",
    "\n",
    "# for cluster in cluster_centers_c6:\n",
    "#     ind = np.argpartition(cluster, -n)[-n:]\n",
    "#     c6.append(ind)\n",
    "# c6"
   ]
  },
  {
   "cell_type": "code",
   "execution_count": 29,
   "metadata": {},
   "outputs": [],
   "source": [
    "# dictionary_c6 = {}\n",
    "\n",
    "# for i,row in enumerate(c6):\n",
    "#     l6=[]\n",
    "#     for index in row :\n",
    "#         l6.append(vectorizer.get_feature_names()[index])\n",
    "#     dictionary_c6['cluster_'+str(i)]=l6   \n",
    "\n",
    "    \n",
    "# print('The highest {} highest-weighted terms from the centroid of each cluster are : '.format(n))    \n",
    "# dictionary_c6"
   ]
  },
  {
   "cell_type": "code",
   "execution_count": 30,
   "metadata": {},
   "outputs": [],
   "source": [
    "# mydict = {i: np.where(kmeans.labels_ == i)[0] for i in range(kmeans.n_clusters)}\n",
    "\n",
    "# df.iloc[mydict[0]]['category']"
   ]
  },
  {
   "cell_type": "markdown",
   "metadata": {},
   "source": [
    "Once you have computed the cluster summaries, discuss their quality. Is it clear what the reviews in a given cluster are about? Which clusters are clearest? Which are less clear? Do the cluster summaries contain any unexpected terms? What happens if you re-cluster with, say, $k=6$?"
   ]
  },
  {
   "cell_type": "markdown",
   "metadata": {},
   "source": [
    "### Interpretation"
   ]
  },
  {
   "cell_type": "markdown",
   "metadata": {},
   "source": [
    "\n",
    "*   General observations\n",
    "\n",
    "We created the vectorizer with english stop words. However, there are still few meaningful words in all clusters (eg. use, used) that could be fixed with better data preparation via lemma and pos (no verbs).\n",
    "\n",
    "*   Case: 3 cluster\n",
    "\n",
    "The overall quality is \"Neutral\" to express it in the vernacular of Sentiment Analysis. All clusters have their weaknesses. Some make the combinations of words are, however, there are also words that are inappropriate. For example, in cluster 0 \"cd\" and \"album\" together makes sense, but in combination with \"cd\", \"album\" and \"movie\" makes less sense. These are two different categories (music, movie). The words fit best in cluster 1, worst in cluster 0. Cluster 2 makes sense in itself, but 3 of 6 words are not very meaningful.\n",
    "\n",
    "*   Case: 6 cluster\n",
    "\n",
    "The number of clusters makes sense because we know from previous studies that all descriptions are divided into 6 categories. Therefore, we can also see that the classification is much better than with 3 clusters."
   ]
  },
  {
   "cell_type": "markdown",
   "metadata": {},
   "source": [
    "## Problem 3: Tune the k-means algorithm"
   ]
  },
  {
   "cell_type": "markdown",
   "metadata": {},
   "source": [
    "A major limitation of the $k$-means algorithm is that one has to manually set the value for $k$, the number of clusters. One heuristic that can help you with this is the [Elbow method](https://en.wikipedia.org/wiki/Elbow_method_(clustering)). Your next task is to implement this method to see whether it allows you to find a better value for $k$.\n",
    "\n",
    "To follow the elbow method, you should plot different values of $k$ against the **inertia** (sums of squared distances between documents and closest centroids) of the fitted $k$-means model, and pick the $k$ at the &lsquo;elbow point&rsquo; of the resulting graph. Test cluster sizes between 1 and 9.\n",
    "\n",
    "**Note that this will take a while.**"
   ]
  },
  {
   "cell_type": "code",
   "execution_count": 31,
   "metadata": {},
   "outputs": [],
   "source": [
    "# %load_ext Cython\n",
    "# %reload_ext Cython"
   ]
  },
  {
   "cell_type": "code",
   "execution_count": 32,
   "metadata": {},
   "outputs": [
    {
     "name": "stdout",
     "output_type": "stream",
     "text": [
      "iteration:1,n_clusters:1\n",
      "iteration:2,n_clusters:2\n",
      "iteration:3,n_clusters:3\n",
      "iteration:4,n_clusters:4\n",
      "iteration:5,n_clusters:5\n",
      "iteration:6,n_clusters:6\n",
      "iteration:7,n_clusters:7\n",
      "iteration:8,n_clusters:8\n",
      "iteration:9,n_clusters:9\n",
      "\n",
      "Time to execute for loop : 00:03:55\n"
     ]
    }
   ],
   "source": [
    "# %%cython\n",
    "# TODO: Enter code here to generate the plot for the elbow method\n",
    "from sklearn.cluster import KMeans\n",
    "# from __main__ import *\n",
    "import time\n",
    "\n",
    "distorsions = []\n",
    "\n",
    "start_time= time.time()\n",
    "n_clusters = range(1,10)\n",
    "\n",
    "for i,k in enumerate(n_clusters):\n",
    "    print('iteration:{0},n_clusters:{1}'.format((i+1),k))\n",
    "    kmeans = KMeans(n_clusters=k,n_init=2,random_state=13)\n",
    "    kmeans.fit(reviews)\n",
    "    inertia = kmeans.inertia_\n",
    "    distorsions.append(inertia)\n",
    "    \n",
    "end_time = time.time()-start_time\n",
    "measured_time = time.strftime(\"%H:%M:%S\", time.gmtime(end_time))\n",
    "print('\\nTime to execute for loop :' ,measured_time)"
   ]
  },
  {
   "cell_type": "code",
   "execution_count": 33,
   "metadata": {},
   "outputs": [
    {
     "name": "stdout",
     "output_type": "stream",
     "text": [
      "\n",
      "The values of distorsions are:\n",
      "\n"
     ]
    },
    {
     "data": {
      "text/plain": [
       "[11764.202585909867,\n",
       " 11712.715826404263,\n",
       " 11655.90941716431,\n",
       " 11616.53569806913,\n",
       " 11584.608555614535,\n",
       " 11552.701543867817,\n",
       " 11532.56222839533,\n",
       " 11496.555571793015,\n",
       " 11479.845659218136]"
      ]
     },
     "execution_count": 33,
     "metadata": {},
     "output_type": "execute_result"
    }
   ],
   "source": [
    "print('\\nThe values of distorsions are:\\n')\n",
    "distorsions"
   ]
  },
  {
   "cell_type": "code",
   "execution_count": 34,
   "metadata": {},
   "outputs": [
    {
     "data": {
      "text/plain": [
       "Text(0.5, 1.0, 'Elbow curve plot')"
      ]
     },
     "execution_count": 34,
     "metadata": {},
     "output_type": "execute_result"
    },
    {
     "data": {
      "image/png": "[encoded data removed]",
      "text/plain": [
       "<Figure size 1080x360 with 1 Axes>"
      ]
     },
     "metadata": {},
     "output_type": "display_data"
    }
   ],
   "source": [
    "# plot the elbow    \n",
    "fig = plt.figure(figsize=(15, 5))\n",
    "plt.plot(n_clusters,distorsions,marker='o',color='red')\n",
    "plt.grid(True)\n",
    "plt.title('Elbow curve plot',size=18)"
   ]
  },
  {
   "cell_type": "markdown",
   "metadata": {},
   "source": [
    "Once you have the diagram, can you see a pronounced &lsquo;elbow point&rsquo;? Discuss your findings in a short text."
   ]
  },
  {
   "cell_type": "markdown",
   "metadata": {},
   "source": [
    "### Interpretation"
   ]
  },
  {
   "cell_type": "markdown",
   "metadata": {},
   "source": [
    "The elbow method is a tool to find a suitable number of clusters when clustering kmeans. However, it is hard to tell from this plot what the ideal number of clusters is. It looks like sums of squared distances are reduced at similar intervals. However, it can be seen that cluster 7's reduction is less than in the steps before. This information and the information from the previous task, I would set 6 as the number of clusters."
   ]
  },
  {
   "cell_type": "markdown",
   "metadata": {},
   "source": [
    "## Problem 4: Compare clusterings using the Rand index"
   ]
  },
  {
   "cell_type": "markdown",
   "metadata": {},
   "source": [
    "In some scenarios, you may have gold-standard class labels available for at least a subset of your documents. In these cases you can compute the **Rand index** of a clustering, and use this measure to compare the quality of different clusterings.\n",
    "\n",
    "To compute the Rand index, we view a clustering as a binary classifier on pairs of documents. The classifier predicts &lsquo;positive&rsquo; if and only if the two documents belong to the same cluster. The (non-normalized) Rand index of the clustering is the accuracy of this classifier relative to a reference in which a document pair belongs to the &lsquo;positive&rsquo; class if and only if the two documents in the pair have the same gold-standard class label.\n",
    "\n",
    "Compare a clustering with $k=3$ clusters to a second clustering with $k=6$ clusters. As your evaluation data, use the first 500 documents from the original data set along with their gold-standard categories (from the `category` column). What do you observe? How do you interpret your observations? What arguments can you find against the Rand index as a measure for comparing clusterings?"
   ]
  },
  {
   "cell_type": "code",
   "execution_count": 41,
   "metadata": {},
   "outputs": [],
   "source": [
    "# TODO: Enter code here to compute the Rand indices for the two clusterings\n",
    "from sklearn.metrics import adjusted_rand_score\n",
    "from sklearn import preprocessing\n",
    "\n",
    "le = preprocessing.LabelEncoder()\n",
    "labels_true = le.fit_transform(df['category'])\n"
   ]
  },
  {
   "cell_type": "code",
   "execution_count": 24,
   "metadata": {},
   "outputs": [],
   "source": [
    "clusters = [3,6]\n",
    "rnd_index = []\n",
    "\n",
    "for i in clusters :\n",
    "    kmeans_ = KMeans(n_clusters=i,n_init=2,random_state=13).fit(reviews)\n",
    "    labels_pred = le.inverse_transform(kmeans_.predict(reviews))\n",
    "    rnd_ind = adjusted_rand_score(df['category'][0:500], labels_pred[0:500])\n",
    "    rnd_index.append(rnd_ind)\n"
   ]
  },
  {
   "cell_type": "code",
   "execution_count": 25,
   "metadata": {},
   "outputs": [
    {
     "data": {
      "text/plain": [
       "[0.30630947338142256, 0.31493365299087667]"
      ]
     },
     "execution_count": 25,
     "metadata": {},
     "output_type": "execute_result"
    }
   ],
   "source": [
    "rnd_index"
   ]
  },
  {
   "cell_type": "markdown",
   "metadata": {},
   "source": [
    "### Interpretation"
   ]
  },
  {
   "cell_type": "markdown",
   "metadata": {},
   "source": [
    "The rand index with the cluster number of 6 shows a better result than the rand index with 3 clusters. However, the difference is very small! These results were to be expected due to the evaluation of the previous tasks (problem 2 & 3). Also that the results could hardly differ can already be seen in the evaluation of the elbow method. The differences of sums of squared distances were very small (about 250 of 1-10 cluster problem 3)"
   ]
  },
  {
   "cell_type": "markdown",
   "metadata": {},
   "source": [
    "## Topic modelling data set"
   ]
  },
  {
   "cell_type": "markdown",
   "metadata": {},
   "source": [
    "The data set for the topic modelling part of this lab is the collection of all [State of the Union](https://en.wikipedia.org/wiki/State_of_the_Union) addresses from the years 1975–2000. These speeches come as a single text file with one sentence per line. The following code cell prints the first 5 lines from the data file:"
   ]
  },
  {
   "cell_type": "code",
   "execution_count": 35,
   "metadata": {},
   "outputs": [
    {
     "name": "stdout",
     "output_type": "stream",
     "text": [
      "mr speaker mr vice president members of the 94th congress and distinguished guests\n",
      "twenty six years ago a freshman congressman a young fellow with lots of idealism who was out to change the world stood before sam rayburn in the well of the house and solemnly swore to the same oath that all of you took yesterday an unforgettable experience and i congratulate you all\n",
      "two days later that same freshman stood at the back of this great chamber over there someplace as president truman all charged up by his single handed election victory reported as the constitution requires on the state of the union\n",
      "when the bipartisan applause stopped president truman said i am happy to report to this 81st congress that the state of the union is good our nation is better able than ever before to meet the needs of the american people and to give them their fair chance in the pursuit of happiness it is foremost among the nations of the world in the search for peace\n",
      "today that freshman member from michigan stands where mr truman stood and i must say to you that the state of the union is not good\n",
      "millions of americans are out of work\n"
     ]
    }
   ],
   "source": [
    "with open(\"sotu_1975_2000.txt\") as source:\n",
    "    for i, line in enumerate(source):\n",
    "        print(line.rstrip())\n",
    "        if i >= 5:\n",
    "            break"
   ]
  },
  {
   "cell_type": "markdown",
   "metadata": {},
   "source": [
    "## Problem 5: Train a topic model"
   ]
  },
  {
   "cell_type": "markdown",
   "metadata": {},
   "source": [
    "Your first task on the topic modelling data is to train an LDA model. For this task you will be using [spaCy](https://spacy.io/) and the [gensim](https://radimrehurek.com/gensim/) topic modelling library.\n",
    "\n",
    "Start by preprocessing the data using spaCy. Given that the data set for this problem is rather small, you do not have to exclude any components from the standard pipeline. Filter out stop words, non-alphabetic tokens, and tokens less than 3 characters in length. Store the documents as a nested list where the first level of nesting corresponds to the sentences and the second level corresponds to the tokens in each sentence."
   ]
  },
  {
   "cell_type": "code",
   "execution_count": 36,
   "metadata": {},
   "outputs": [],
   "source": [
    "# TODO: Replace the following lines with your own code for preprocessing the documents\n",
    "with open(\"sotu_1975_2000.txt\") as source:\n",
    "    documents = [line.split() for line in source]"
   ]
  },
  {
   "cell_type": "code",
   "execution_count": 37,
   "metadata": {},
   "outputs": [
    {
     "name": "stdout",
     "output_type": "stream",
     "text": [
      "The words on line 42 are: \n",
      "\n"
     ]
    },
    {
     "data": {
      "text/plain": [
       "['first',\n",
       " 'we',\n",
       " 'must',\n",
       " 'reduce',\n",
       " 'oil',\n",
       " 'imports',\n",
       " 'by',\n",
       " '1',\n",
       " 'million',\n",
       " 'barrels',\n",
       " 'per',\n",
       " 'day',\n",
       " 'by',\n",
       " 'the',\n",
       " 'end',\n",
       " 'of',\n",
       " 'this',\n",
       " 'year',\n",
       " 'and',\n",
       " 'by',\n",
       " '2',\n",
       " 'million',\n",
       " 'barrels',\n",
       " 'per',\n",
       " 'day',\n",
       " 'by',\n",
       " 'the',\n",
       " 'end',\n",
       " 'of',\n",
       " '1977']"
      ]
     },
     "execution_count": 37,
     "metadata": {},
     "output_type": "execute_result"
    }
   ],
   "source": [
    "print('The words on line 42 are: \\n')\n",
    "documents[42]"
   ]
  },
  {
   "cell_type": "code",
   "execution_count": 38,
   "metadata": {},
   "outputs": [],
   "source": [
    "import spacy #load spacy\n",
    "from spacy.lang.en.stop_words import STOP_WORDS\n",
    "\n",
    "\n",
    "nlp = spacy.load(\"en\", disable=['parser', 'tagger', 'ner'])\n",
    "\n",
    "def preprocess(text):\n",
    "    # TODO: Replace the next line with your own code.\n",
    "    filtered_sentence =[] \n",
    "    \n",
    "    for sentence in text :\n",
    "        words = []\n",
    "        for word in sentence:\n",
    "            lexeme = nlp.vocab[word]\n",
    "            if not lexeme.is_stop and not lexeme.is_punct and lexeme.is_alpha and len(word)>=3:\n",
    "                words.append(word)\n",
    "        filtered_sentence.append(words)\n",
    "  \n",
    "    return filtered_sentence\n",
    "\n",
    "sentence = preprocess(documents)"
   ]
  },
  {
   "cell_type": "markdown",
   "metadata": {},
   "source": [
    "Test your preprocessing by running the following cell:"
   ]
  },
  {
   "cell_type": "code",
   "execution_count": 40,
   "metadata": {},
   "outputs": [
    {
     "data": {
      "text/plain": [
       "'reduce oil imports million barrels day end year million barrels day end'"
      ]
     },
     "execution_count": 40,
     "metadata": {},
     "output_type": "execute_result"
    }
   ],
   "source": [
    "\" \".join(preprocess(documents)[42])"
   ]
  },
  {
   "cell_type": "markdown",
   "metadata": {},
   "source": [
    "You should get the following output:"
   ]
  },
  {
   "cell_type": "markdown",
   "metadata": {},
   "source": [
    "#### 'reduce oil imports million barrels day end year million barrels day end'"
   ]
  },
  {
   "cell_type": "markdown",
   "metadata": {},
   "source": [
    "Once you have the list of documents, skim the section [Pre-process and vectorize the documents](https://radimrehurek.com/gensim/auto_examples/tutorials/run_lda.html#pre-process-and-vectorize-the-documents) of the gensim documentation to learn how to create the dictionary and the vectorized corpus representation required by gensim. (Note that you cannot use the standard scikit-learn pipeline in this case.) Then, write code to train an [LdaModel](https://radimrehurek.com/gensim/models/ldamodel.html) for $k=10$ topics, and using default values for all other parameters."
   ]
  },
  {
   "cell_type": "code",
   "execution_count": 41,
   "metadata": {},
   "outputs": [
    {
     "data": {
      "text/plain": [
       "[[('congress', 1),\n",
       "  ('distinguished', 1),\n",
       "  ('guests', 1),\n",
       "  ('members', 1),\n",
       "  ('president', 1),\n",
       "  ('speaker', 1),\n",
       "  ('vice', 1)]]"
      ]
     },
     "execution_count": 41,
     "metadata": {},
     "output_type": "execute_result"
    }
   ],
   "source": [
    "# TODO: Enter code here to train an LDA model\n",
    "\n",
    "from gensim.corpora.dictionary import Dictionary\n",
    "from gensim.models import LdaModel\n",
    "\n",
    "\n",
    "\n",
    "# Create Dictionary\n",
    "id2word = Dictionary(sentence)\n",
    "\n",
    "# Create Corpus\n",
    "texts = sentence\n",
    "\n",
    "# Term Document Frequency\n",
    "corpus = [id2word.doc2bow(text) for text in texts]\n",
    "\n",
    "\n",
    "[[(id2word[id], freq) for id, freq in cp] for cp in corpus[:1]]\n",
    "\n",
    "# # Create a corpus from a list of texts\n",
    "# common_dictionary = Dictionary(sentence)\n",
    "# common_corpus = [common_dictionary.doc2bow(text) for text in sentence]\n",
    "\n",
    "# # Train the model on the corpus.\n"
   ]
  },
  {
   "cell_type": "code",
   "execution_count": 42,
   "metadata": {},
   "outputs": [],
   "source": [
    "\n",
    "# Set training parameters.\n",
    "num_topics = 10\n",
    "chunksize = 2000\n",
    "passes = 20\n",
    "iterations = 400\n",
    "eval_every = None  # Don't evaluate model perplexity, takes too much time.\n",
    "\n",
    "# temp = common_dictionary[0]  # This is only to \"load\" the dictionary.\n",
    "# id2word = common_dictionary.id2token\n",
    "\n",
    "model = LdaModel(\n",
    "    corpus=corpus,\n",
    "    id2word=id2word,\n",
    "    chunksize=chunksize,\n",
    "    alpha='auto',\n",
    "    eta='auto',\n",
    "    iterations=iterations,\n",
    "    num_topics=num_topics,\n",
    "    passes=passes,\n",
    "    eval_every=eval_every\n",
    ")"
   ]
  },
  {
   "cell_type": "markdown",
   "metadata": {},
   "source": [
    "Once you have a trained model, run the following cell to print the topics:"
   ]
  },
  {
   "cell_type": "code",
   "execution_count": 43,
   "metadata": {},
   "outputs": [
    {
     "name": "stdout",
     "output_type": "stream",
     "text": [
      "[([(0.019977178, 'people'),\n",
      "   (0.015400671, 'children'),\n",
      "   (0.014842315, 'work'),\n",
      "   (0.0125569785, 'americans'),\n",
      "   (0.010791907, 'care'),\n",
      "   (0.010163628, 'years'),\n",
      "   (0.009787782, 'american'),\n",
      "   (0.00956043, 'america'),\n",
      "   (0.009480047, 'families'),\n",
      "   (0.009149711, 'year'),\n",
      "   (0.00896951, 'welfare'),\n",
      "   (0.008936787, 'child'),\n",
      "   (0.0088562025, 'let'),\n",
      "   (0.008624491, 'health'),\n",
      "   (0.0075698327, 'know'),\n",
      "   (0.0075076753, 'family'),\n",
      "   (0.007122337, 'time'),\n",
      "   (0.0068802075, 'tonight'),\n",
      "   (0.006253448, 'working'),\n",
      "   (0.0062183905, 'want')],\n",
      "  -2.3528491987468687),\n",
      " ([(0.01695577, 'government'),\n",
      "   (0.016117865, 'federal'),\n",
      "   (0.014826709, 'budget'),\n",
      "   (0.01256558, 'tax'),\n",
      "   (0.012227028, 'year'),\n",
      "   (0.010559245, 'years'),\n",
      "   (0.009339472, 'education'),\n",
      "   (0.008436377, 'percent'),\n",
      "   (0.00818459, 'cut'),\n",
      "   (0.0081519, 'billion'),\n",
      "   (0.007072893, 'congress'),\n",
      "   (0.007057958, 'programs'),\n",
      "   (0.006962457, 'college'),\n",
      "   (0.006599321, 'national'),\n",
      "   (0.0060546445, 'spending'),\n",
      "   (0.006023484, 'new'),\n",
      "   (0.005703886, 'help'),\n",
      "   (0.0055787545, 'growth'),\n",
      "   (0.0054366137, 'deficit'),\n",
      "   (0.005112985, 'people')],\n",
      "  -2.476437293493999),\n",
      " ([(0.034586336, 'america'),\n",
      "   (0.02655106, 'world'),\n",
      "   (0.013443094, 'freedom'),\n",
      "   (0.013080373, 'peace'),\n",
      "   (0.012439929, 'century'),\n",
      "   (0.010678947, 'nation'),\n",
      "   (0.010597118, 'union'),\n",
      "   (0.009704072, 'future'),\n",
      "   (0.009327418, 'americans'),\n",
      "   (0.00869676, 'people'),\n",
      "   (0.008523226, 'american'),\n",
      "   (0.008037479, 'state'),\n",
      "   (0.007914801, 'opportunity'),\n",
      "   (0.006507053, 'new'),\n",
      "   (0.00647979, 'great'),\n",
      "   (0.006303603, 'tonight'),\n",
      "   (0.0061887773, 'home'),\n",
      "   (0.0061483253, 'responsibility'),\n",
      "   (0.005641037, 'strong'),\n",
      "   (0.005288338, 'free')],\n",
      "  -2.528165926426204),\n",
      " ([(0.013198578, 'new'),\n",
      "   (0.0107633, 'energy'),\n",
      "   (0.00994588, 'nuclear'),\n",
      "   (0.0077845887, 'world'),\n",
      "   (0.006774436, 'economic'),\n",
      "   (0.0062851193, 'policy'),\n",
      "   (0.0060378527, 'security'),\n",
      "   (0.0057638055, 'nations'),\n",
      "   (0.005633536, 'help'),\n",
      "   (0.0055862227, 'states'),\n",
      "   (0.0055457237, 'years'),\n",
      "   (0.0055386154, 'nation'),\n",
      "   (0.005455063, 'development'),\n",
      "   (0.005335787, 'program'),\n",
      "   (0.005042766, 'soviet'),\n",
      "   (0.004995817, 'united'),\n",
      "   (0.004868236, 'areas'),\n",
      "   (0.004796489, 'oil'),\n",
      "   (0.0046829726, 'major'),\n",
      "   (0.004666609, 'forces')],\n",
      "  -2.5409517571702054),\n",
      " ([(0.010594165, 'year'),\n",
      "   (0.009392674, 'new'),\n",
      "   (0.008017213, 'congress'),\n",
      "   (0.007481132, 'rights'),\n",
      "   (0.0070624705, 'economy'),\n",
      "   (0.0063733174, 'long'),\n",
      "   (0.00634746, 'ask'),\n",
      "   (0.0062907003, 'women'),\n",
      "   (0.005851166, 'let'),\n",
      "   (0.005674999, 'defense'),\n",
      "   (0.0056568864, 'american'),\n",
      "   (0.0053539085, 'medicare'),\n",
      "   (0.0052984245, 'nation'),\n",
      "   (0.0052692266, 'america'),\n",
      "   (0.005120085, 'bipartisan'),\n",
      "   (0.0050610597, 'work'),\n",
      "   (0.0047580237, 'need'),\n",
      "   (0.004609837, 'environment'),\n",
      "   (0.0044956445, 'people'),\n",
      "   (0.004398337, 'action')],\n",
      "  -3.5369906663572417),\n",
      " ([(0.02814282, 'crime'),\n",
      "   (0.018326743, 'congress'),\n",
      "   (0.009611931, 'community'),\n",
      "   (0.009581426, 'drugs'),\n",
      "   (0.009438643, 'work'),\n",
      "   (0.009395761, 'people'),\n",
      "   (0.00808453, 'china'),\n",
      "   (0.0076688197, 'members'),\n",
      "   (0.0074547203, 'new'),\n",
      "   (0.0070134504, 'americans'),\n",
      "   (0.0066565834, 'years'),\n",
      "   (0.006512555, 'president'),\n",
      "   (0.0064245984, 'streets'),\n",
      "   (0.0058783437, 'bill'),\n",
      "   (0.0054848758, 'common'),\n",
      "   (0.005397889, 'violent'),\n",
      "   (0.005328138, 'need'),\n",
      "   (0.0053199604, 'rate'),\n",
      "   (0.0052366904, 'fellow'),\n",
      "   (0.0051816916, 'know')],\n",
      "  -5.0720054094049924),\n",
      " ([(0.017250916, 'trade'),\n",
      "   (0.012571699, 'world'),\n",
      "   (0.0076497896, 'health'),\n",
      "   (0.006954504, 'care'),\n",
      "   (0.0063744555, 'new'),\n",
      "   (0.0062780585, 'international'),\n",
      "   (0.0061995583, 'jobs'),\n",
      "   (0.0060780104, 'way'),\n",
      "   (0.0056471247, 'economy'),\n",
      "   (0.005625861, 'ban'),\n",
      "   (0.0055832895, 'year'),\n",
      "   (0.0052085267, 'markets'),\n",
      "   (0.004926813, 'reform'),\n",
      "   (0.0048707975, 'economic'),\n",
      "   (0.00478926, 'open'),\n",
      "   (0.004756223, 'expand'),\n",
      "   (0.0047532422, 'long'),\n",
      "   (0.00451631, 'ready'),\n",
      "   (0.004481986, 'inflation'),\n",
      "   (0.0044569178, 'farmers')],\n",
      "  -5.457043070287734),\n",
      " ([(0.023513913, 'new'),\n",
      "   (0.012859511, 'teachers'),\n",
      "   (0.01213696, 'schools'),\n",
      "   (0.009536533, 'children'),\n",
      "   (0.0087076565, 'help'),\n",
      "   (0.008702759, 'school'),\n",
      "   (0.008253113, 'government'),\n",
      "   (0.0076359566, 'standards'),\n",
      "   (0.00716212, 'people'),\n",
      "   (0.006628242, 'good'),\n",
      "   (0.0065474613, 'parents'),\n",
      "   (0.006401268, 'way'),\n",
      "   (0.0062933317, 'best'),\n",
      "   (0.0060210954, 'covenant'),\n",
      "   (0.0054138484, 'old'),\n",
      "   (0.0053321407, 'days'),\n",
      "   (0.0052107777, 'space'),\n",
      "   (0.0047869673, 'thousand'),\n",
      "   (0.0047667716, 'scientists'),\n",
      "   (0.004424672, 'challenge')],\n",
      "  -6.298351494801044),\n",
      " ([(0.01231672, 'new'),\n",
      "   (0.009462166, 'act'),\n",
      "   (0.007592223, 'system'),\n",
      "   (0.0075354334, 'congress'),\n",
      "   (0.006068499, 'nation'),\n",
      "   (0.005160042, 'administration'),\n",
      "   (0.0048645986, 'illegal'),\n",
      "   (0.0046966136, 'american'),\n",
      "   (0.0045281816, 'challenge'),\n",
      "   (0.0044336286, 'help'),\n",
      "   (0.0038069375, 'industry'),\n",
      "   (0.0033795696, 'future'),\n",
      "   (0.0033794837, 'impact'),\n",
      "   (0.003330214, 'year'),\n",
      "   (0.003310093, 'threats'),\n",
      "   (0.0032787325, 'begun'),\n",
      "   (0.0032459307, 'research'),\n",
      "   (0.0032360798, 'established'),\n",
      "   (0.0032223023, 'aids'),\n",
      "   (0.0031307023, 'discrimination')],\n",
      "  -7.405836758109583),\n",
      " ([(0.018203843, 'peace'),\n",
      "   (0.016387306, 'east'),\n",
      "   (0.014340429, 'middle'),\n",
      "   (0.012814653, 'god'),\n",
      "   (0.012735812, 'states'),\n",
      "   (0.011694322, 'africa'),\n",
      "   (0.011348042, 'america'),\n",
      "   (0.010493027, 'bless'),\n",
      "   (0.009991453, 'united'),\n",
      "   (0.0077185794, 'thank'),\n",
      "   (0.006742161, 'north'),\n",
      "   (0.006455362, 'israel'),\n",
      "   (0.006296961, 'northern'),\n",
      "   (0.0057426183, 'asia'),\n",
      "   (0.004849076, 'african'),\n",
      "   (0.004724858, 'ireland'),\n",
      "   (0.004150633, 'south'),\n",
      "   (0.0041367062, 'democracy'),\n",
      "   (0.0041290396, 'korea'),\n",
      "   (0.0040834104, 'voted')],\n",
      "  -10.341702936604118)]\n"
     ]
    }
   ],
   "source": [
    "top_topics = model.top_topics(corpus)\n",
    "\n",
    "from pprint import pprint\n",
    "pprint(top_topics)"
   ]
  },
  {
   "cell_type": "markdown",
   "metadata": {},
   "source": [
    "Inspect the topics. Do they make sense? Can you &lsquo;label&rsquo; each topic with a short description of what it is about? Do the topics contain any unexpected terms? Summarize your discussion in a short text."
   ]
  },
  {
   "cell_type": "markdown",
   "metadata": {},
   "source": [
    "### Interpretation"
   ]
  },
  {
   "cell_type": "markdown",
   "metadata": {},
   "source": [
    "We would categorize the first 5 topics as follows.\n",
    "\n",
    "* Social, human, health\n",
    "* human, youth\n",
    "* military,\n",
    "* upcoming challanges\n",
    "* economic, market\n",
    "* school system and changes (7)\n",
    "\n",
    "In the first 5 categories a Topic is to be recognized relatively fast and clearly. After that, however, it becomes more difficult. This may be due to the fact that the words are not so easy to classify. Or that the topics are very specific and not so rough. In this case, however, you would have to invest a little more time in classification to find the right topics.\n"
   ]
  },
  {
   "cell_type": "markdown",
   "metadata": {},
   "source": [
    "## Problem 6: Monitoring a topic model for convergence"
   ]
  },
  {
   "cell_type": "markdown",
   "metadata": {},
   "source": [
    "When learning an LDA model, it is important to make sure that the training algorithm has converged to a stable posterior distribution. One way to do so is to plot, after each training epochs(or &lsquo;pass&rsquo;, in gensim parlance) the log likelihood of the training data under the posterior. Your last task in this lab is to create such a plot and, based on this, to suggest an appropriate number of epochs.\n",
    "\n",
    "To collect information about the posterior likelihood after each pass, we need to enable the logging facilities of gensim. Once this is done, gensim will add various diagnostics to a log file `gensim.log`."
   ]
  },
  {
   "cell_type": "code",
   "execution_count": 44,
   "metadata": {},
   "outputs": [],
   "source": [
    "import logging\n",
    "\n",
    "logging.basicConfig(filename=\"gensim.log\", format=\"%(asctime)s:%(levelname)s:%(message)s\", level=logging.INFO)"
   ]
  },
  {
   "cell_type": "markdown",
   "metadata": {},
   "source": [
    "The following function will parse the generated logfile and return the list of log likelihoods."
   ]
  },
  {
   "cell_type": "code",
   "execution_count": 45,
   "metadata": {},
   "outputs": [],
   "source": [
    "import re\n",
    "\n",
    "def parse_logfile():\n",
    "    matcher = re.compile(\"(-*\\d+\\.\\d+) per-word .* (\\d+\\.\\d+) perplexity\")\n",
    "    likelihoods = []\n",
    "    with open(\"gensim.log\") as source:\n",
    "        for line in source:\n",
    "            match = matcher.search(line)\n",
    "            if match:\n",
    "                likelihoods.append(float(match.group(1)))\n",
    "    return likelihoods"
   ]
  },
  {
   "cell_type": "markdown",
   "metadata": {},
   "source": [
    "Your task now is to re-train your LDA model for 50&nbsp;passes, retrieve the list of log likelihoods, and create a plot from this data."
   ]
  },
  {
   "cell_type": "code",
   "execution_count": 46,
   "metadata": {},
   "outputs": [],
   "source": [
    "# TODO: Enter code here to generate the convergence plot\n",
    "# Set training parameters.\n",
    "num_topics = 10\n",
    "passes = 50\n",
    "iterations = 400\n",
    "\n",
    "model_v2 = LdaModel(\n",
    "    corpus=corpus,\n",
    "    id2word=id2word,\n",
    "    alpha='auto',\n",
    "    eta='auto',\n",
    "    iterations=iterations,\n",
    "    num_topics=num_topics,\n",
    "    passes=passes)\n"
   ]
  },
  {
   "cell_type": "code",
   "execution_count": 47,
   "metadata": {},
   "outputs": [
    {
     "name": "stdout",
     "output_type": "stream",
     "text": [
      "The values of loglikelihoods are: \n",
      "\n"
     ]
    },
    {
     "data": {
      "text/plain": [
       "[-9.525,\n",
       " -8.9,\n",
       " -8.567,\n",
       " -8.28,\n",
       " -8.143,\n",
       " -8.092,\n",
       " -8.069,\n",
       " -8.054,\n",
       " -8.044,\n",
       " -8.036,\n",
       " -8.029,\n",
       " -8.023,\n",
       " -8.018,\n",
       " -8.014,\n",
       " -8.01,\n",
       " -8.007,\n",
       " -8.004,\n",
       " -8.001,\n",
       " -7.998,\n",
       " -7.996,\n",
       " -7.994,\n",
       " -7.992,\n",
       " -7.99,\n",
       " -7.989,\n",
       " -7.987,\n",
       " -7.986,\n",
       " -7.984,\n",
       " -7.983,\n",
       " -7.982,\n",
       " -7.981,\n",
       " -7.98,\n",
       " -7.979,\n",
       " -7.978,\n",
       " -7.977,\n",
       " -7.976,\n",
       " -7.975,\n",
       " -7.974,\n",
       " -7.973,\n",
       " -7.973,\n",
       " -7.972,\n",
       " -7.971,\n",
       " -7.971,\n",
       " -7.97,\n",
       " -7.97,\n",
       " -7.969,\n",
       " -7.969,\n",
       " -7.968,\n",
       " -7.968,\n",
       " -7.967,\n",
       " -7.967]"
      ]
     },
     "execution_count": 47,
     "metadata": {},
     "output_type": "execute_result"
    }
   ],
   "source": [
    "loglikes = parse_logfile()\n",
    "print('The values of loglikelihoods are: \\n')\n",
    "loglikes"
   ]
  },
  {
   "cell_type": "code",
   "execution_count": 66,
   "metadata": {},
   "outputs": [
    {
     "data": {
      "text/plain": [
       "<matplotlib.axes._subplots.AxesSubplot at 0x7fc5c1f18610>"
      ]
     },
     "execution_count": 66,
     "metadata": {},
     "output_type": "execute_result"
    },
    {
     "data": {
      "image/png": "[encoded data removed]",
      "text/plain": [
       "<Figure size 1080x360 with 1 Axes>"
      ]
     },
     "metadata": {},
     "output_type": "display_data"
    }
   ],
   "source": [
    "import pandas as pd\n",
    "\n",
    "# plot the loglikehihoods\n",
    "# plot the elbow    \n",
    "fig = plt.figure(figsize=(15, 5))\n",
    "pd.Series(loglikes).plot(title='Plot of the Loglikelihoods')\n"
   ]
  },
  {
   "cell_type": "code",
   "execution_count": 67,
   "metadata": {},
   "outputs": [],
   "source": [
    "num_topics = 10\n",
    "passes = 10\n",
    "iterations = 400\n",
    "\n",
    "model_v3 = LdaModel(\n",
    "    corpus=corpus,\n",
    "    id2word=id2word,\n",
    "    alpha='auto',\n",
    "    eta='auto',\n",
    "    iterations=iterations,\n",
    "    num_topics=num_topics,\n",
    "    passes=passes)\n"
   ]
  },
  {
   "cell_type": "code",
   "execution_count": 68,
   "metadata": {},
   "outputs": [
    {
     "name": "stdout",
     "output_type": "stream",
     "text": [
      "[([(0.015560187, 'work'),\n",
      "   (0.012639865, 'people'),\n",
      "   (0.0119359335, 'children'),\n",
      "   (0.010705619, 'tax'),\n",
      "   (0.0106273135, 'new'),\n",
      "   (0.009728839, 'families'),\n",
      "   (0.009698869, 'year'),\n",
      "   (0.0088191, 'welfare'),\n",
      "   (0.008752502, 'help'),\n",
      "   (0.008693062, 'americans'),\n",
      "   (0.008572508, 'care'),\n",
      "   (0.007854225, 'education'),\n",
      "   (0.007502543, 'jobs'),\n",
      "   (0.007375127, 'american'),\n",
      "   (0.007362815, 'let'),\n",
      "   (0.0067401836, 'need'),\n",
      "   (0.0066450946, 'schools'),\n",
      "   (0.006550548, 'family'),\n",
      "   (0.0064613284, 'child'),\n",
      "   (0.0062823123, 'years')],\n",
      "  -2.3465477512710056),\n",
      " ([(0.012665845, 'policy'),\n",
      "   (0.011857462, 'energy'),\n",
      "   (0.007890868, 'congress'),\n",
      "   (0.0077739055, 'government'),\n",
      "   (0.007157403, 'peace'),\n",
      "   (0.0068342634, 'federal'),\n",
      "   (0.006655279, 'administration'),\n",
      "   (0.006622391, 'foreign'),\n",
      "   (0.0063567003, 'economic'),\n",
      "   (0.0058710156, 'development'),\n",
      "   (0.005680275, 'world'),\n",
      "   (0.005488164, 'major'),\n",
      "   (0.0053953878, 'national'),\n",
      "   (0.0053034676, 'growth'),\n",
      "   (0.00516406, 'nation'),\n",
      "   (0.0050514406, 'continue'),\n",
      "   (0.0046879146, 'security'),\n",
      "   (0.0046714046, 'past'),\n",
      "   (0.004630563, 'nations'),\n",
      "   (0.004598421, 'oil')],\n",
      "  -2.4807096526747223),\n",
      " ([(0.024263492, 'america'),\n",
      "   (0.015927764, 'world'),\n",
      "   (0.015480487, 'people'),\n",
      "   (0.012222084, 'new'),\n",
      "   (0.011524433, 'years'),\n",
      "   (0.009806143, 'century'),\n",
      "   (0.009389223, 'americans'),\n",
      "   (0.009174475, 'american'),\n",
      "   (0.008288801, 'nation'),\n",
      "   (0.007868355, 'time'),\n",
      "   (0.007603764, 'government'),\n",
      "   (0.00745832, 'let'),\n",
      "   (0.007361385, 'tonight'),\n",
      "   (0.0064533623, 'economy'),\n",
      "   (0.006198502, 'great'),\n",
      "   (0.0055858344, 'today'),\n",
      "   (0.0054042367, 'work'),\n",
      "   (0.005327311, 'thank'),\n",
      "   (0.0052090497, 'know'),\n",
      "   (0.005206752, 'freedom')],\n",
      "  -2.5137762596162334),\n",
      " ([(0.013857782, 'health'),\n",
      "   (0.010528479, 'year'),\n",
      "   (0.010371083, 'federal'),\n",
      "   (0.010128657, 'programs'),\n",
      "   (0.009093234, 'congress'),\n",
      "   (0.00829995, 'budget'),\n",
      "   (0.007526372, 'program'),\n",
      "   (0.0074151345, 'care'),\n",
      "   (0.0072252275, 'new'),\n",
      "   (0.007006937, 'spending'),\n",
      "   (0.006897424, 'government'),\n",
      "   (0.0065537593, 'help'),\n",
      "   (0.005775692, 'medicare'),\n",
      "   (0.00570168, 'system'),\n",
      "   (0.0055680177, 'billion'),\n",
      "   (0.0052238056, 'national'),\n",
      "   (0.0049907854, 'administration'),\n",
      "   (0.0049804477, 'security'),\n",
      "   (0.004862624, 'percent'),\n",
      "   (0.00481511, 'act')],\n",
      "  -2.6876146078616197),\n",
      " ([(0.011547168, 'children'),\n",
      "   (0.010551537, 'america'),\n",
      "   (0.01012389, 'congress'),\n",
      "   (0.010023913, 'crime'),\n",
      "   (0.009065377, 'challenge'),\n",
      "   (0.008584873, 'people'),\n",
      "   (0.008121614, 'country'),\n",
      "   (0.008095223, 'ask'),\n",
      "   (0.006973725, 'work'),\n",
      "   (0.006890312, 'know'),\n",
      "   (0.0068427497, 'teachers'),\n",
      "   (0.006404127, 'right'),\n",
      "   (0.0063115484, 'support'),\n",
      "   (0.005576261, 'best'),\n",
      "   (0.005522385, 'want'),\n",
      "   (0.0051076114, 'tonight'),\n",
      "   (0.004869159, 'year'),\n",
      "   (0.0048378916, 'democracy'),\n",
      "   (0.004774856, 'help'),\n",
      "   (0.0046547176, 'house')],\n",
      "  -3.1812336311548637),\n",
      " ([(0.012675707, 'nuclear'),\n",
      "   (0.010828278, 'congress'),\n",
      "   (0.008990179, 'years'),\n",
      "   (0.008183054, 'weapons'),\n",
      "   (0.007894495, 'people'),\n",
      "   (0.0073746946, 'president'),\n",
      "   (0.0067982115, 'security'),\n",
      "   (0.006760519, 'military'),\n",
      "   (0.0065083406, 'defense'),\n",
      "   (0.006241739, 'forces'),\n",
      "   (0.0061530764, 'budget'),\n",
      "   (0.005951945, 'american'),\n",
      "   (0.0056514116, 'federal'),\n",
      "   (0.005180991, 'americans'),\n",
      "   (0.004888835, 'wage'),\n",
      "   (0.004444867, 'national'),\n",
      "   (0.004414319, 'members'),\n",
      "   (0.0043394356, 'soviet'),\n",
      "   (0.0040681446, 'year'),\n",
      "   (0.0039695962, 'know')],\n",
      "  -3.5939541405043247),\n",
      " ([(0.018482972, 'world'),\n",
      "   (0.017013043, 'trade'),\n",
      "   (0.013349357, 'new'),\n",
      "   (0.01149631, 'college'),\n",
      "   (0.010440758, 'nations'),\n",
      "   (0.00929325, 'europe'),\n",
      "   (0.009210952, 'international'),\n",
      "   (0.008770736, 'china'),\n",
      "   (0.008095488, 'united'),\n",
      "   (0.007892341, 'asia'),\n",
      "   (0.007875842, 'america'),\n",
      "   (0.0075429413, 'countries'),\n",
      "   (0.007199643, 'peace'),\n",
      "   (0.0069692926, 'markets'),\n",
      "   (0.006602442, 'states'),\n",
      "   (0.006079156, 'allies'),\n",
      "   (0.006066193, 'open'),\n",
      "   (0.0060145147, 'interests'),\n",
      "   (0.0059274915, 'nato'),\n",
      "   (0.005814128, 'human')],\n",
      "  -4.642766031674225),\n",
      " ([(0.018823482, 'budget'),\n",
      "   (0.018763678, 'year'),\n",
      "   (0.017884532, 'deficit'),\n",
      "   (0.009314849, 'immigrants'),\n",
      "   (0.009293881, 'years'),\n",
      "   (0.008707808, 'covenant'),\n",
      "   (0.008666409, 'new'),\n",
      "   (0.0066333096, 'deficits'),\n",
      "   (0.0061461865, 'class'),\n",
      "   (0.0061040423, 'billion'),\n",
      "   (0.0060821, 'cut'),\n",
      "   (0.0058630016, 'terrorists'),\n",
      "   (0.005685952, 'tax'),\n",
      "   (0.005585707, 'bring'),\n",
      "   (0.00549747, 'middle'),\n",
      "   (0.0054611997, 'taxes'),\n",
      "   (0.0054026446, 'balance'),\n",
      "   (0.0052967086, 'balanced'),\n",
      "   (0.004998432, 'percent'),\n",
      "   (0.0049504903, 'comprehensive')],\n",
      "  -7.429706720887352),\n",
      " ([(0.008399099, 'act'),\n",
      "   (0.007579545, 'air'),\n",
      "   (0.0062972903, 'children'),\n",
      "   (0.005559286, 'clean'),\n",
      "   (0.005425332, 'water'),\n",
      "   (0.0051473356, 'ask'),\n",
      "   (0.00478314, 'african'),\n",
      "   (0.0045537236, 'voted'),\n",
      "   (0.0044351374, 'efforts'),\n",
      "   (0.004280258, 'bipartisan'),\n",
      "   (0.0042613135, 'privacy'),\n",
      "   (0.0042575332, 'differences'),\n",
      "   (0.004150616, 'star'),\n",
      "   (0.0040173996, 'senator'),\n",
      "   (0.00399513, 'let'),\n",
      "   (0.0036847247, 'records'),\n",
      "   (0.0034961114, 'visited'),\n",
      "   (0.0034711377, 'simply'),\n",
      "   (0.0034673144, 'troops'),\n",
      "   (0.003460663, 'americans')],\n",
      "  -12.679538175936909),\n",
      " ([(0.009399568, 'government'),\n",
      "   (0.0065938337, 'states'),\n",
      "   (0.0059912167, 'united'),\n",
      "   (0.0059608337, 'checks'),\n",
      "   (0.004766538, 'teacher'),\n",
      "   (0.0046348255, 'ratification'),\n",
      "   (0.0040791514, 'diseases'),\n",
      "   (0.003983371, 'buying'),\n",
      "   (0.0035720419, 'program'),\n",
      "   (0.0035668525, 'respond'),\n",
      "   (0.0035609615, 'working'),\n",
      "   (0.0035509954, 'relief'),\n",
      "   (0.0034379822, 'spark'),\n",
      "   (0.0033130187, 'pakistan'),\n",
      "   (0.0032371539, 'second'),\n",
      "   (0.0031486053, 'answered'),\n",
      "   (0.0031484063, 'bravery'),\n",
      "   (0.0031483788, 'achievable'),\n",
      "   (0.0031473709, 'sixth'),\n",
      "   (0.003146129, 'modest')],\n",
      "  -17.511630739609448)]\n"
     ]
    }
   ],
   "source": [
    "top_topics_v3 = model_v3.top_topics(corpus)\n",
    "\n",
    "from pprint import pprint\n",
    "pprint(top_topics_v3)"
   ]
  },
  {
   "cell_type": "markdown",
   "metadata": {},
   "source": [
    "How do you interpret your plot? What would be a reasonable choice for the number of passes? Retrain your LDA model with that number and re-inspect the topics it finds. Do you consider the new topics to be &lsquo;better&rsquo; than the ones that you got from the 1-pass model in Problem&nbsp;5?"
   ]
  },
  {
   "cell_type": "markdown",
   "metadata": {},
   "source": [
    "### Interpretation"
   ]
  },
  {
   "cell_type": "markdown",
   "metadata": {},
   "source": [
    "From the plot of the loglikelihood we can see that the value of the log-likelihood convolves after about 5-7 iterations.\n",
    "Accordingly, we take 10 for the next run of the LDAs and investigate changes.\n"
   ]
  },
  {
   "cell_type": "code",
   "execution_count": 70,
   "metadata": {},
   "outputs": [
    {
     "name": "stdout",
     "output_type": "stream",
     "text": [
      "\n",
      "Coherence Score for model with 50 passes :0.48\n",
      "Coherence score for model with 20 passes: 0.46\n"
     ]
    }
   ],
   "source": [
    "from gensim.models import CoherenceModel\n",
    "\n",
    "# coherence for model with 50 passes\n",
    "coherence_model_lda_v2 = CoherenceModel(model=model_v2, texts=sentence, dictionary=id2word, coherence='c_v')\n",
    "coherence_lda_v2 = coherence_model_lda_v2.get_coherence()\n",
    "# coherence for model with 20 passes\n",
    "coherence_model_lda_v3 = CoherenceModel(model=model_v3, texts=sentence, dictionary=id2word, coherence='c_v')\n",
    "coherence_lda_v3 = coherence_model_lda_v3.get_coherence()\n",
    "\n",
    "\n",
    "print('\\nCoherence Score for model with 50 passes :{:.2f}\\nCoherence score for model with 20 passes: {:.2f}'.format(\n",
    "      coherence_lda_v2,coherence_lda_v3))"
   ]
  },
  {
   "cell_type": "markdown",
   "metadata": {},
   "source": [
    "As we can see when we report the value of the coherence score using 50 and 10 passes respectfully the value of the coherence with 50 passes is larger meaning that the model from Problem 5 is better.\n",
    "We can also see that when we try to identify the topic from the 2 models the one with 10 pasees is more difficult to distinguiss the topics."
   ]
  },
  {
   "cell_type": "markdown",
   "metadata": {},
   "source": [
    "### Optional \n",
    "\n",
    "Visualize the topics (run on jupyter-interactive dashboard)"
   ]
  },
  {
   "cell_type": "code",
   "execution_count": 34,
   "metadata": {},
   "outputs": [
    {
     "name": "stderr",
     "output_type": "stream",
     "text": [
      "/home/quartermaine/anaconda3/envs/tensorflow/lib/python3.7/site-packages/pyLDAvis/_prepare.py:257: FutureWarning: Sorting because non-concatenation axis is not aligned. A future version\n",
      "of pandas will change to not sort by default.\n",
      "\n",
      "To accept the future behavior, pass 'sort=False'.\n",
      "\n",
      "To retain the current behavior and silence the warning, pass 'sort=True'.\n",
      "\n",
      "  return pd.concat([default_term_info] + list(topic_dfs))\n"
     ]
    },
    {
     "data": {
      "text/html": [
       "\n",
       "<link rel=\"stylesheet\" type=\"text/css\" href=\"https://cdn.rawgit.com/bmabey/pyLDAvis/files/ldavis.v1.0.0.css\">\n",
       "\n",
       "\n",
       "<div id=\"ldavis_el65121403511535784485413401394\"></div>\n",
       "<script type=\"text/javascript\">\n",
       "\n",
       "var ldavis_el65121403511535784485413401394_data = {\"mdsDat\": {\"x\": [0.018271784331804014, 0.13090310692382673, -0.15807293509806106, -0.21224710616032014, -0.01168607998459327, 0.12112798597910354, -0.09646321193356105, 0.08229129333025731, 0.12430312170108335, 0.0015720409104606134], \"y\": [-0.08191462079806044, 0.1423461708448925, -0.04731197400095312, 0.1368925601960945, -0.13069793310680453, -0.10738999791811726, -0.11920030861587669, 0.12500982844651634, -0.048846029222081436, 0.1311123041743907], \"topics\": [1, 2, 3, 4, 5, 6, 7, 8, 9, 10], \"cluster\": [1, 1, 1, 1, 1, 1, 1, 1, 1, 1], \"Freq\": [17.408817291259766, 16.646467208862305, 15.59726333618164, 14.506426811218262, 7.661142826080322, 7.327547550201416, 6.488376617431641, 5.812848091125488, 4.317297458648682, 4.233814239501953]}, \"tinfo\": {\"Category\": [\"Default\", \"Default\", \"Default\", \"Default\", \"Default\", \"Default\", \"Default\", \"Default\", \"Default\", \"Default\", \"Default\", \"Default\", \"Default\", \"Default\", \"Default\", \"Default\", \"Default\", \"Default\", \"Default\", \"Default\", \"Default\", \"Default\", \"Default\", \"Default\", \"Default\", \"Default\", \"Default\", \"Default\", \"Default\", \"Default\", \"Topic1\", \"Topic1\", \"Topic1\", \"Topic1\", \"Topic1\", \"Topic1\", \"Topic1\", \"Topic1\", \"Topic1\", \"Topic1\", \"Topic1\", \"Topic1\", \"Topic1\", \"Topic1\", \"Topic1\", \"Topic1\", \"Topic1\", \"Topic1\", \"Topic1\", \"Topic1\", \"Topic1\", \"Topic1\", \"Topic1\", \"Topic1\", \"Topic1\", \"Topic1\", \"Topic1\", \"Topic1\", \"Topic1\", \"Topic1\", \"Topic1\", \"Topic1\", \"Topic1\", \"Topic1\", \"Topic1\", \"Topic1\", \"Topic1\", \"Topic1\", \"Topic1\", \"Topic1\", \"Topic1\", \"Topic1\", \"Topic1\", \"Topic1\", \"Topic1\", \"Topic1\", \"Topic1\", \"Topic1\", \"Topic1\", \"Topic1\", \"Topic1\", \"Topic1\", \"Topic1\", \"Topic1\", \"Topic1\", \"Topic1\", \"Topic1\", \"Topic1\", \"Topic1\", \"Topic1\", \"Topic1\", \"Topic1\", \"Topic1\", \"Topic1\", \"Topic1\", \"Topic1\", \"Topic1\", \"Topic1\", \"Topic2\", \"Topic2\", \"Topic2\", \"Topic2\", \"Topic2\", \"Topic2\", \"Topic2\", \"Topic2\", \"Topic2\", \"Topic2\", \"Topic2\", \"Topic2\", \"Topic2\", \"Topic2\", \"Topic2\", \"Topic2\", \"Topic2\", \"Topic2\", \"Topic2\", \"Topic2\", \"Topic2\", \"Topic2\", \"Topic2\", \"Topic2\", \"Topic2\", \"Topic2\", \"Topic2\", \"Topic2\", \"Topic2\", \"Topic2\", \"Topic2\", \"Topic2\", \"Topic2\", \"Topic2\", \"Topic2\", \"Topic2\", \"Topic2\", \"Topic2\", \"Topic2\", \"Topic2\", \"Topic2\", \"Topic2\", \"Topic2\", \"Topic2\", \"Topic2\", \"Topic2\", \"Topic2\", \"Topic2\", \"Topic2\", \"Topic2\", \"Topic2\", \"Topic2\", \"Topic2\", \"Topic2\", \"Topic2\", \"Topic2\", \"Topic2\", \"Topic2\", \"Topic2\", \"Topic2\", \"Topic2\", \"Topic2\", \"Topic2\", \"Topic2\", \"Topic2\", \"Topic2\", \"Topic2\", \"Topic3\", \"Topic3\", \"Topic3\", \"Topic3\", \"Topic3\", \"Topic3\", \"Topic3\", \"Topic3\", \"Topic3\", \"Topic3\", \"Topic3\", \"Topic3\", \"Topic3\", \"Topic3\", \"Topic3\", \"Topic3\", \"Topic3\", \"Topic3\", \"Topic3\", \"Topic3\", \"Topic3\", \"Topic3\", \"Topic3\", \"Topic3\", \"Topic3\", \"Topic3\", \"Topic3\", \"Topic3\", \"Topic3\", \"Topic3\", \"Topic3\", \"Topic3\", \"Topic3\", \"Topic3\", \"Topic3\", \"Topic3\", \"Topic3\", \"Topic3\", \"Topic3\", \"Topic3\", \"Topic3\", \"Topic3\", \"Topic3\", \"Topic3\", \"Topic3\", \"Topic3\", \"Topic3\", \"Topic3\", \"Topic3\", \"Topic3\", \"Topic3\", \"Topic3\", \"Topic3\", \"Topic3\", \"Topic3\", \"Topic3\", \"Topic3\", \"Topic3\", \"Topic3\", \"Topic3\", \"Topic3\", \"Topic3\", \"Topic3\", \"Topic3\", \"Topic3\", \"Topic3\", \"Topic3\", \"Topic3\", \"Topic3\", \"Topic3\", \"Topic3\", \"Topic3\", \"Topic3\", \"Topic3\", \"Topic3\", \"Topic3\", \"Topic3\", \"Topic4\", \"Topic4\", \"Topic4\", \"Topic4\", \"Topic4\", \"Topic4\", \"Topic4\", \"Topic4\", \"Topic4\", \"Topic4\", \"Topic4\", \"Topic4\", \"Topic4\", \"Topic4\", \"Topic4\", \"Topic4\", \"Topic4\", \"Topic4\", \"Topic4\", \"Topic4\", \"Topic4\", \"Topic4\", \"Topic4\", \"Topic4\", \"Topic4\", \"Topic4\", \"Topic4\", \"Topic4\", \"Topic4\", \"Topic4\", \"Topic4\", \"Topic4\", \"Topic4\", \"Topic4\", \"Topic4\", \"Topic4\", \"Topic4\", \"Topic4\", \"Topic4\", \"Topic4\", \"Topic4\", \"Topic4\", \"Topic4\", \"Topic4\", \"Topic4\", \"Topic4\", \"Topic4\", \"Topic4\", \"Topic4\", \"Topic4\", \"Topic4\", \"Topic4\", \"Topic4\", \"Topic4\", \"Topic4\", \"Topic4\", \"Topic4\", \"Topic4\", \"Topic4\", \"Topic4\", \"Topic4\", \"Topic4\", \"Topic5\", \"Topic5\", \"Topic5\", \"Topic5\", \"Topic5\", \"Topic5\", \"Topic5\", \"Topic5\", \"Topic5\", \"Topic5\", \"Topic5\", \"Topic5\", \"Topic5\", \"Topic5\", \"Topic5\", \"Topic5\", \"Topic5\", \"Topic5\", \"Topic5\", \"Topic5\", \"Topic5\", \"Topic5\", \"Topic5\", \"Topic5\", \"Topic5\", \"Topic5\", \"Topic5\", \"Topic5\", \"Topic5\", \"Topic5\", \"Topic5\", \"Topic5\", \"Topic5\", \"Topic5\", \"Topic5\", \"Topic5\", \"Topic5\", \"Topic5\", \"Topic5\", \"Topic5\", \"Topic5\", \"Topic5\", \"Topic5\", \"Topic5\", \"Topic5\", \"Topic5\", \"Topic5\", \"Topic5\", \"Topic5\", \"Topic5\", \"Topic5\", \"Topic5\", \"Topic5\", \"Topic5\", \"Topic5\", \"Topic5\", \"Topic5\", \"Topic5\", \"Topic5\", \"Topic5\", \"Topic6\", \"Topic6\", \"Topic6\", \"Topic6\", \"Topic6\", \"Topic6\", \"Topic6\", \"Topic6\", \"Topic6\", \"Topic6\", \"Topic6\", \"Topic6\", \"Topic6\", \"Topic6\", \"Topic6\", \"Topic6\", \"Topic6\", \"Topic6\", \"Topic6\", \"Topic6\", \"Topic6\", \"Topic6\", \"Topic6\", \"Topic6\", \"Topic6\", \"Topic6\", \"Topic6\", \"Topic6\", \"Topic6\", \"Topic6\", \"Topic6\", \"Topic6\", \"Topic6\", \"Topic6\", \"Topic6\", \"Topic6\", \"Topic6\", \"Topic6\", \"Topic6\", \"Topic6\", \"Topic6\", \"Topic6\", \"Topic6\", \"Topic6\", \"Topic6\", \"Topic6\", \"Topic6\", \"Topic6\", \"Topic6\", \"Topic6\", \"Topic6\", \"Topic6\", \"Topic6\", \"Topic6\", \"Topic6\", \"Topic6\", \"Topic6\", \"Topic6\", \"Topic6\", \"Topic6\", \"Topic6\", \"Topic6\", \"Topic6\", \"Topic6\", \"Topic7\", \"Topic7\", \"Topic7\", \"Topic7\", \"Topic7\", \"Topic7\", \"Topic7\", \"Topic7\", \"Topic7\", \"Topic7\", \"Topic7\", \"Topic7\", \"Topic7\", \"Topic7\", \"Topic7\", \"Topic7\", \"Topic7\", \"Topic7\", \"Topic7\", \"Topic7\", \"Topic7\", \"Topic7\", \"Topic7\", \"Topic7\", \"Topic7\", \"Topic7\", \"Topic7\", \"Topic7\", \"Topic7\", \"Topic7\", \"Topic7\", \"Topic7\", \"Topic7\", \"Topic7\", \"Topic7\", \"Topic7\", \"Topic7\", \"Topic7\", \"Topic7\", \"Topic7\", \"Topic7\", \"Topic7\", \"Topic7\", \"Topic7\", \"Topic7\", \"Topic7\", \"Topic7\", \"Topic7\", \"Topic7\", \"Topic7\", \"Topic7\", \"Topic7\", \"Topic7\", \"Topic7\", \"Topic7\", \"Topic7\", \"Topic7\", \"Topic7\", \"Topic7\", \"Topic7\", \"Topic7\", \"Topic7\", \"Topic7\", \"Topic7\", \"Topic7\", \"Topic8\", \"Topic8\", \"Topic8\", \"Topic8\", \"Topic8\", \"Topic8\", \"Topic8\", \"Topic8\", \"Topic8\", \"Topic8\", \"Topic8\", \"Topic8\", \"Topic8\", \"Topic8\", \"Topic8\", \"Topic8\", \"Topic8\", \"Topic8\", \"Topic8\", \"Topic8\", \"Topic8\", \"Topic8\", \"Topic8\", \"Topic8\", \"Topic8\", \"Topic8\", \"Topic8\", \"Topic8\", \"Topic8\", \"Topic8\", \"Topic8\", \"Topic8\", \"Topic8\", \"Topic8\", \"Topic8\", \"Topic8\", \"Topic8\", \"Topic8\", \"Topic8\", \"Topic8\", \"Topic8\", \"Topic8\", \"Topic8\", \"Topic8\", \"Topic8\", \"Topic8\", \"Topic8\", \"Topic8\", \"Topic8\", \"Topic8\", \"Topic8\", \"Topic8\", \"Topic8\", \"Topic8\", \"Topic8\", \"Topic8\", \"Topic8\", \"Topic8\", \"Topic8\", \"Topic8\", \"Topic8\", \"Topic8\", \"Topic9\", \"Topic9\", \"Topic9\", \"Topic9\", \"Topic9\", \"Topic9\", \"Topic9\", \"Topic9\", \"Topic9\", \"Topic9\", \"Topic9\", \"Topic9\", \"Topic9\", \"Topic9\", \"Topic9\", \"Topic9\", \"Topic9\", \"Topic9\", \"Topic9\", \"Topic9\", \"Topic9\", \"Topic9\", \"Topic9\", \"Topic9\", \"Topic9\", \"Topic9\", \"Topic9\", \"Topic9\", \"Topic9\", \"Topic9\", \"Topic9\", \"Topic9\", \"Topic9\", \"Topic9\", \"Topic9\", \"Topic9\", \"Topic9\", \"Topic9\", \"Topic9\", \"Topic9\", \"Topic9\", \"Topic9\", \"Topic9\", \"Topic9\", \"Topic9\", \"Topic9\", \"Topic9\", \"Topic9\", \"Topic9\", \"Topic9\", \"Topic9\", \"Topic9\", \"Topic9\", \"Topic9\", \"Topic9\", \"Topic9\", \"Topic9\", \"Topic9\", \"Topic9\", \"Topic9\", \"Topic9\", \"Topic9\", \"Topic9\", \"Topic9\", \"Topic9\", \"Topic9\", \"Topic10\", \"Topic10\", \"Topic10\", \"Topic10\", \"Topic10\", \"Topic10\", \"Topic10\", \"Topic10\", \"Topic10\", \"Topic10\", \"Topic10\", \"Topic10\", \"Topic10\", \"Topic10\", \"Topic10\", \"Topic10\", \"Topic10\", \"Topic10\", \"Topic10\", \"Topic10\", \"Topic10\", \"Topic10\", \"Topic10\", \"Topic10\", \"Topic10\", \"Topic10\", \"Topic10\", \"Topic10\", \"Topic10\", \"Topic10\", \"Topic10\", \"Topic10\", \"Topic10\", \"Topic10\", \"Topic10\", \"Topic10\", \"Topic10\", \"Topic10\", \"Topic10\", \"Topic10\", \"Topic10\", \"Topic10\", \"Topic10\", \"Topic10\", \"Topic10\", \"Topic10\", \"Topic10\", \"Topic10\", \"Topic10\", \"Topic10\", \"Topic10\", \"Topic10\", \"Topic10\", \"Topic10\", \"Topic10\", \"Topic10\", \"Topic10\", \"Topic10\", \"Topic10\", \"Topic10\"], \"Freq\": [468.0, 167.0, 175.0, 219.0, 279.0, 162.0, 197.0, 210.0, 579.0, 156.0, 100.0, 259.0, 90.0, 74.0, 575.0, 111.0, 152.0, 127.0, 98.0, 318.0, 437.0, 265.0, 368.0, 159.0, 170.0, 138.0, 111.0, 218.0, 119.0, 136.0, 155.88253784179688, 54.17438507080078, 38.94054412841797, 71.0160903930664, 30.035242080688477, 18.677776336669922, 13.128401756286621, 12.997589111328125, 22.668067932128906, 12.482288360595703, 12.094815254211426, 15.325836181640625, 11.838854789733887, 10.414016723632812, 18.607648849487305, 9.248983383178711, 9.127198219299316, 8.867018699645996, 8.739191055297852, 8.731550216674805, 8.341835021972656, 8.092365264892578, 7.833702564239502, 11.588589668273926, 7.707066059112549, 7.70347261428833, 24.8759822845459, 7.445417881011963, 7.436647891998291, 67.86758422851562, 47.61153793334961, 22.68702507019043, 81.91384887695312, 18.19411849975586, 156.846923828125, 29.128429412841797, 20.648653030395508, 30.541059494018555, 81.443603515625, 104.98408508300781, 21.709823608398438, 51.226741790771484, 85.7449722290039, 43.68789291381836, 196.70578002929688, 94.92261505126953, 68.11927032470703, 35.35478591918945, 160.49038696289062, 70.36255645751953, 170.8817138671875, 53.47959899902344, 199.85015869140625, 147.7510528564453, 82.90264129638672, 72.19969177246094, 96.07530212402344, 81.2723388671875, 81.48323822021484, 87.04432678222656, 87.05317687988281, 128.53855895996094, 94.11395263671875, 64.6301498413086, 82.36186981201172, 64.0511474609375, 58.21403884887695, 56.54995346069336, 161.27330017089844, 46.115447998046875, 36.1411018371582, 36.14115524291992, 34.37453842163086, 33.088905334472656, 22.95545768737793, 22.632991790771484, 19.724437713623047, 18.291542053222656, 17.809444427490234, 17.80769920349121, 18.51848793029785, 16.35323715209961, 14.91535472869873, 14.59194278717041, 14.591371536254883, 13.948330879211426, 12.983736991882324, 23.146406173706055, 12.152588844299316, 12.333955764770508, 39.526390075683594, 10.074960708618164, 10.064401626586914, 41.285911560058594, 9.766762733459473, 28.04157257080078, 9.12486743927002, 8.963583946228027, 125.84761810302734, 37.13819885253906, 33.21352005004883, 36.876075744628906, 24.072948455810547, 27.216501235961914, 28.072664260864258, 117.63375091552734, 56.491302490234375, 114.01453399658203, 70.26079559326172, 42.833534240722656, 76.59428405761719, 158.40530395507812, 59.35294723510742, 45.300575256347656, 49.78884506225586, 104.5451889038086, 34.45023727416992, 68.4439468383789, 47.80780792236328, 93.30193328857422, 52.933921813964844, 154.0470733642578, 49.72126770019531, 37.751014709472656, 147.41241455078125, 62.912635803222656, 90.69154357910156, 69.09649658203125, 50.39216232299805, 56.10194778442383, 46.97016143798828, 48.50551986694336, 51.02269744873047, 51.7960205078125, 50.78622817993164, 66.68112182617188, 41.107696533203125, 24.989652633666992, 39.001853942871094, 16.029342651367188, 14.900616645812988, 14.52954387664795, 14.277225494384766, 13.04024600982666, 12.042731285095215, 12.036989212036133, 11.667130470275879, 11.29729175567627, 11.170523643493652, 11.041827201843262, 10.051752090454102, 10.048626899719238, 9.925033569335938, 9.428980827331543, 8.924128532409668, 8.429800987243652, 8.305888175964355, 8.304813385009766, 14.249679565429688, 8.18513011932373, 8.058029174804688, 8.04981803894043, 7.6851348876953125, 7.434382915496826, 7.180636405944824, 29.10240364074707, 25.205623626708984, 12.425817489624023, 23.524211883544922, 13.581672668457031, 36.79493713378906, 30.410289764404297, 20.883487701416016, 11.53832721710205, 29.894704818725586, 21.800283432006836, 21.132556915283203, 106.15885925292969, 115.22864532470703, 21.00432586669922, 50.05461502075195, 69.75890350341797, 41.19135665893555, 65.36465454101562, 229.0562744140625, 144.38668823242188, 55.30864334106445, 96.84014129638672, 121.660888671875, 152.0473175048828, 36.88079833984375, 66.87223052978516, 34.19436264038086, 27.746429443359375, 156.87535095214844, 61.25703430175781, 54.79795837402344, 64.98938751220703, 47.05088806152344, 106.38821411132812, 53.859859466552734, 110.99947357177734, 103.24857330322266, 53.14198303222656, 78.49777221679688, 106.57807922363281, 56.534873962402344, 64.22673797607422, 66.72586822509766, 63.503936767578125, 51.83439636230469, 55.88697052001953, 60.590396881103516, 57.59172058105469, 53.010738372802734, 38.0496940612793, 29.062637329101562, 27.920076370239258, 27.35314178466797, 26.067577362060547, 45.99039077758789, 25.92270851135254, 25.209741592407227, 24.353553771972656, 22.64082908630371, 21.193674087524414, 107.4424057006836, 20.217206954956055, 19.647634506225586, 19.362945556640625, 18.933975219726562, 17.779510498046875, 16.93601417541504, 16.222951889038086, 15.652790069580078, 15.042139053344727, 14.22249984741211, 22.490568161010742, 12.63826847076416, 12.228976249694824, 11.936792373657227, 19.505773544311523, 117.23941802978516, 40.439735412597656, 57.650428771972656, 192.48634338378906, 120.8740005493164, 25.076854705810547, 62.73329162597656, 308.9892883300781, 105.55330657958984, 76.83741760253906, 41.62142562866211, 50.71858215332031, 91.21900939941406, 54.12282943725586, 44.645084381103516, 69.99441528320312, 52.31294631958008, 40.31800079345703, 183.7362823486328, 109.86767578125, 45.434242248535156, 81.26111602783203, 54.051395416259766, 56.00493621826172, 79.93727111816406, 64.76138305664062, 76.91177368164062, 62.43083190917969, 82.55590057373047, 60.49627685546875, 52.101741790771484, 47.59944534301758, 100.00225067138672, 51.48617172241211, 36.76688003540039, 22.352489471435547, 19.931825637817383, 18.922561645507812, 17.610937118530273, 16.30404281616211, 16.20242691040039, 15.698612213134766, 12.268887519836426, 11.866511344909668, 10.759513854980469, 10.75929069519043, 10.255420684814453, 8.640849113464355, 8.44110107421875, 6.625898838043213, 6.624464511871338, 11.229070663452148, 6.3236236572265625, 6.3225836753845215, 6.32058048248291, 5.815505027770996, 5.718392848968506, 5.514185905456543, 5.3152642250061035, 5.314750671386719, 84.9971923828125, 5.011923313140869, 76.52056884765625, 11.894083023071289, 10.964349746704102, 18.203615188598633, 134.2886199951172, 69.69368743896484, 27.74406623840332, 21.37993621826172, 45.07585144042969, 27.596174240112305, 50.38426971435547, 56.60289001464844, 23.97664451599121, 26.512645721435547, 31.170677185058594, 23.140180587768555, 64.35212707519531, 33.88627243041992, 32.64917755126953, 44.886043548583984, 28.124340057373047, 45.32317352294922, 47.067100524902344, 27.396587371826172, 29.5150146484375, 28.200471878051758, 29.36357307434082, 25.53797149658203, 22.533817291259766, 22.608083724975586, 166.95062255859375, 59.34493637084961, 25.7956600189209, 14.426398277282715, 13.535735130310059, 11.999814987182617, 10.329291343688965, 9.235394477844238, 7.468059062957764, 26.060626983642578, 6.910179615020752, 20.69710350036621, 6.3700175285339355, 6.369390964508057, 6.368837356567383, 5.819940090179443, 5.70381498336792, 5.486882209777832, 4.931060314178467, 4.604269504547119, 4.604112148284912, 148.1675567626953, 4.052470684051514, 4.052321910858154, 10.884167671203613, 3.9400062561035156, 3.934678792953491, 23.74299430847168, 3.501790761947632, 3.5015294551849365, 16.950576782226562, 12.491605758666992, 29.125246047973633, 13.017698287963867, 14.034093856811523, 79.13507080078125, 13.660578727722168, 13.529882431030273, 27.867191314697266, 47.300819396972656, 29.767105102539062, 18.52731704711914, 18.859691619873047, 41.230262756347656, 16.437944412231445, 52.482879638671875, 21.488370895385742, 41.785579681396484, 72.99810791015625, 27.396976470947266, 62.36737060546875, 53.08133316040039, 33.7745361328125, 42.250694274902344, 39.01504135131836, 45.0704231262207, 36.40055465698242, 28.743331909179688, 30.874467849731445, 27.277599334716797, 31.475101470947266, 22.388681411743164, 27.457612991333008, 26.819721221923828, 89.45159149169922, 32.79824447631836, 22.880727767944336, 21.7537899017334, 18.277286529541016, 13.876505851745605, 11.937111854553223, 11.73302936553955, 8.251849174499512, 7.742873191833496, 7.436947345733643, 7.233915328979492, 7.229834079742432, 7.223298072814941, 6.923458099365234, 6.92241907119751, 6.722644329071045, 6.722644329071045, 5.900798797607422, 5.893073558807373, 10.90196704864502, 5.3931989669799805, 5.392935276031494, 5.391788005828857, 5.391000270843506, 4.776392459869385, 4.574849605560303, 4.570677280426025, 4.5709004402160645, 37.398948669433594, 8.656970024108887, 9.115659713745117, 8.727485656738281, 10.935063362121582, 52.576202392578125, 26.49995231628418, 34.17971420288086, 10.593340873718262, 28.226055145263672, 99.49395751953125, 23.094846725463867, 57.320556640625, 42.14967727661133, 25.67905616760254, 22.619892120361328, 26.47357940673828, 10.731017112731934, 20.519390106201172, 33.71351623535156, 14.16490650177002, 27.983091354370117, 24.771772384643555, 75.65805053710938, 36.60896301269531, 17.25632095336914, 29.609512329101562, 22.20673179626465, 23.295169830322266, 36.59407043457031, 24.200536727905273, 23.1494083404541, 35.95121383666992, 30.234302520751953, 26.516740798950195, 24.517454147338867, 26.954755783081055, 24.922569274902344, 17.02041244506836, 13.858620643615723, 13.405023574829102, 13.065476417541504, 12.949827194213867, 12.727571487426758, 10.130217552185059, 9.453744888305664, 9.44725513458252, 9.115696907043457, 9.114592552185059, 8.773276329040527, 8.210171699523926, 7.987349510192871, 7.982274532318115, 7.980292320251465, 7.420165538787842, 7.079634666442871, 6.744895935058594, 6.517032623291016, 6.291689395904541, 6.176119804382324, 5.95488166809082, 5.95400857925415, 5.952075004577637, 5.613283634185791, 5.612602710723877, 5.612054347991943, 68.69305419921875, 39.66314697265625, 8.861067771911621, 20.107149124145508, 7.636384010314941, 10.57823371887207, 9.980130195617676, 9.690073013305664, 18.526866912841797, 16.373353958129883, 18.201690673828125, 22.045848846435547, 20.886825561523438, 25.430471420288086, 12.182126998901367, 13.261527061462402, 26.976091384887695, 29.64026641845703, 29.837505340576172, 17.538442611694336, 17.348892211914062, 21.35891342163086, 20.191070556640625, 17.556318283081055, 16.993654251098633, 13.104646682739258, 13.814769744873047, 15.308188438415527, 15.22476577758789, 14.193194389343262, 13.31421947479248, 13.253089904785156, 71.83373260498047, 14.407037734985352, 12.08695125579834, 8.445878982543945, 7.643199920654297, 7.1404709815979, 7.1364216804504395, 6.324557304382324, 6.027907371520996, 5.821732521057129, 5.515600681304932, 5.323813438415527, 5.020203113555908, 4.918718338012695, 4.509834289550781, 4.50754976272583, 4.506448745727539, 4.212519645690918, 4.209499835968018, 6.836488246917725, 4.010451793670654, 7.997117519378662, 6.257635593414307, 3.2032995223999023, 3.2018442153930664, 3.201521873474121, 3.2013144493103027, 3.1999809741973877, 3.1996428966522217, 3.1930277347564697, 5.7150397300720215, 10.309884071350098, 45.73752975463867, 16.513874053955078, 10.712655067443848, 28.812562942504883, 5.678917407989502, 14.750967025756836, 13.519683837890625, 13.643407821655273, 13.943888664245605, 15.119050025939941, 32.27473831176758, 11.83596420288086, 11.3174467086792, 14.99658489227295, 42.74709701538086, 12.763794898986816, 16.07900619506836, 32.17153549194336, 11.571388244628906, 22.181676864624023, 26.635440826416016, 21.782808303833008, 29.73134422302246, 15.052398681640625, 34.480682373046875, 16.967329025268555, 15.442689895629883, 20.867691040039062, 15.741841316223145, 20.644697189331055, 15.752312660217285, 18.14402198791504, 14.074874877929688, 12.988168716430664, 18.41793441772461, 12.720386505126953, 9.875414848327637, 9.758713722229004, 9.529894828796387, 9.527161598205566, 9.526006698608398, 8.05490493774414, 7.1417107582092285, 6.0062384605407715, 6.00599479675293, 5.891707897186279, 5.777458667755127, 5.6625447273254395, 5.321099758148193, 8.78138256072998, 5.092586994171143, 5.091446399688721, 5.0904459953308105, 4.750988483428955, 4.750607490539551, 7.361852645874023, 4.525934219360352, 4.525687217712402, 12.346291542053223, 4.41033935546875, 7.136086463928223, 3.8424055576324463, 3.8410584926605225, 3.839761257171631, 6.233449459075928, 21.351293563842773, 6.84621000289917, 6.8182196617126465, 5.994770050048828, 6.901337146759033, 6.40509557723999, 7.514402866363525, 10.602601051330566, 29.464868545532227, 7.601673603057861, 18.074748992919922, 19.63901710510254, 11.006383895874023, 13.514509201049805, 7.609012603759766, 21.623477935791016, 20.011796951293945, 9.906800270080566, 12.066058158874512, 17.29671287536621, 12.296463012695312, 8.198821067810059, 8.798312187194824, 9.017683982849121, 9.437634468078613, 8.377176284790039, 9.187460899353027, 8.473012924194336, 8.494239807128906], \"Term\": [\"world\", \"care\", \"health\", \"peace\", \"children\", \"energy\", \"tax\", \"know\", \"america\", \"welfare\", \"schools\", \"federal\", \"crime\", \"college\", \"people\", \"nuclear\", \"million\", \"trade\", \"parents\", \"americans\", \"years\", \"let\", \"government\", \"families\", \"programs\", \"policy\", \"soviet\", \"budget\", \"union\", \"nations\", \"welfare\", \"cuts\", \"unemployment\", \"deficit\", \"deficits\", \"recession\", \"empowerment\", \"renewed\", \"recovery\", \"rewards\", \"unemployed\", \"senior\", \"rolls\", \"fast\", \"works\", \"illness\", \"smarter\", \"pressures\", \"bureaucratic\", \"ordinary\", \"continent\", \"hussein\", \"gross\", \"try\", \"protections\", \"acts\", \"debt\", \"sensible\", \"creativity\", \"inflation\", \"half\", \"renew\", \"spending\", \"makes\", \"budget\", \"reduction\", \"smaller\", \"wage\", \"reform\", \"jobs\", \"agree\", \"rate\", \"social\", \"rates\", \"work\", \"way\", \"cut\", \"record\", \"government\", \"growth\", \"year\", \"job\", \"people\", \"years\", \"economy\", \"working\", \"time\", \"tax\", \"economic\", \"security\", \"let\", \"new\", \"americans\", \"long\", \"american\", \"america\", \"federal\", \"congress\", \"energy\", \"production\", \"transportation\", \"employment\", \"agencies\", \"coal\", \"accounts\", \"regulatory\", \"cancer\", \"resource\", \"solar\", \"supply\", \"review\", \"cleaner\", \"privacy\", \"facilities\", \"supplies\", \"monetary\", \"deregulation\", \"recommendations\", \"visited\", \"parks\", \"clean\", \"track\", \"possibilities\", \"established\", \"technical\", \"natural\", \"acres\", \"barrels\", \"policy\", \"needed\", \"conservation\", \"water\", \"technologies\", \"measures\", \"assure\", \"administration\", \"oil\", \"act\", \"development\", \"services\", \"major\", \"federal\", \"foreign\", \"increased\", \"proposed\", \"program\", \"financial\", \"legislation\", \"resources\", \"programs\", \"needs\", \"congress\", \"areas\", \"food\", \"new\", \"system\", \"government\", \"national\", \"increase\", \"economic\", \"provide\", \"billion\", \"states\", \"help\", \"nation\", \"fellow\", \"men\", \"immigrants\", \"honor\", \"guests\", \"lift\", \"pledge\", \"buying\", \"distinguished\", \"bridge\", \"pregnancy\", \"assault\", \"uniform\", \"evening\", \"keeps\", \"veteran\", \"fathers\", \"brave\", \"celebrate\", \"disadvantaged\", \"tech\", \"demands\", \"legal\", \"pride\", \"jack\", \"readiness\", \"taxpayer\", \"communism\", \"wouldn\", \"handguns\", \"moment\", \"true\", \"range\", \"troops\", \"veto\", \"stronger\", \"ready\", \"carry\", \"word\", \"nato\", \"speak\", \"tomorrow\", \"century\", \"tonight\", \"kind\", \"women\", \"responsibility\", \"members\", \"opportunity\", \"america\", \"americans\", \"come\", \"country\", \"let\", \"american\", \"begin\", \"great\", \"challenges\", \"speaker\", \"people\", \"state\", \"meet\", \"president\", \"lives\", \"congress\", \"strong\", \"world\", \"years\", \"union\", \"nation\", \"new\", \"challenge\", \"time\", \"work\", \"government\", \"know\", \"year\", \"east\", \"europe\", \"asia\", \"africa\", \"north\", \"central\", \"korea\", \"partners\", \"china\", \"russia\", \"peaceful\", \"afghanistan\", \"aggression\", \"scientists\", \"soviet\", \"hemisphere\", \"latin\", \"south\", \"pursue\", \"stake\", \"iran\", \"persian\", \"caribbean\", \"regional\", \"imports\", \"israel\", \"adults\", \"nicaragua\", \"star\", \"economies\", \"trade\", \"relations\", \"allies\", \"peace\", \"nations\", \"stable\", \"countries\", \"world\", \"freedom\", \"international\", \"strategic\", \"global\", \"united\", \"democracy\", \"agreement\", \"war\", \"middle\", \"interests\", \"america\", \"nation\", \"strength\", \"future\", \"human\", \"free\", \"states\", \"continue\", \"security\", \"economic\", \"people\", \"american\", \"economy\", \"great\", \"schools\", \"teachers\", \"students\", \"internet\", \"learning\", \"covenant\", \"teen\", \"grade\", \"math\", \"classroom\", \"head\", \"television\", \"teaching\", \"districts\", \"reading\", \"begins\", \"connect\", \"safest\", \"scholarships\", \"charter\", \"chicago\", \"planet\", \"kinds\", \"pensions\", \"basics\", \"universities\", \"genes\", \"classes\", \"parents\", \"enabling\", \"school\", \"summer\", \"excellence\", \"hands\", \"children\", \"education\", \"standards\", \"helping\", \"child\", \"sure\", \"need\", \"help\", \"young\", \"life\", \"communities\", \"start\", \"new\", \"challenge\", \"way\", \"work\", \"high\", \"year\", \"america\", \"good\", \"national\", \"century\", \"know\", \"support\", \"today\", \"tonight\", \"care\", \"insurance\", \"coverage\", \"hospital\", \"northern\", \"sick\", \"seniors\", \"partnerships\", \"guarantees\", \"lowest\", \"changed\", \"farm\", \"dole\", \"cigarettes\", \"usa\", \"ages\", \"infants\", \"expands\", \"texas\", \"stabilize\", \"cultures\", \"health\", \"wall\", \"doctors\", \"organizations\", \"consistent\", \"counter\", \"farmers\", \"unwise\", \"shrinking\", \"teach\", \"inner\", \"medical\", \"aids\", \"quarter\", \"million\", \"labor\", \"relief\", \"businesses\", \"child\", \"medicare\", \"lose\", \"prices\", \"family\", \"affordable\", \"tax\", \"small\", \"families\", \"year\", \"plan\", \"new\", \"years\", \"working\", \"americans\", \"children\", \"congress\", \"help\", \"jobs\", \"support\", \"budget\", \"people\", \"private\", \"work\", \"american\", \"crime\", \"police\", \"gun\", \"bless\", \"guns\", \"row\", \"brady\", \"lobbyists\", \"journey\", \"prescription\", \"voices\", \"policing\", \"aisle\", \"divide\", \"smart\", \"character\", \"mccain\", \"feingold\", \"houses\", \"diseases\", \"officers\", \"prosecutors\", \"kristen\", \"tipper\", \"reverend\", \"fears\", \"kill\", \"identity\", \"lobby\", \"drugs\", \"room\", \"sun\", \"voted\", \"democrats\", \"thank\", \"drug\", \"think\", \"finance\", \"god\", \"know\", \"lot\", \"right\", \"bill\", \"laws\", \"tell\", \"things\", \"politics\", \"thing\", \"rights\", \"streets\", \"pass\", \"law\", \"people\", \"ask\", \"senate\", \"want\", \"house\", \"bipartisan\", \"let\", \"like\", \"legislation\", \"america\", \"congress\", \"american\", \"work\", \"treaty\", \"ban\", \"chemical\", \"tobacco\", \"convention\", \"arts\", \"empower\", \"humanities\", \"pakistan\", \"ratification\", \"hillary\", \"fifth\", \"refugee\", \"advances\", \"approve\", \"biological\", \"scholarship\", \"town\", \"pell\", \"iras\", \"arsenals\", \"outlaw\", \"hazardous\", \"favors\", \"polluters\", \"marketing\", \"graders\", \"educators\", \"retire\", \"vouchers\", \"nuclear\", \"weapons\", \"materials\", \"trust\", \"smoking\", \"grants\", \"toxic\", \"church\", \"fund\", \"savings\", \"comprehensive\", \"protect\", \"public\", \"community\", \"proposal\", \"test\", \"states\", \"government\", \"years\", \"better\", \"communities\", \"federal\", \"security\", \"state\", \"education\", \"balance\", \"business\", \"national\", \"support\", \"cut\", \"percent\", \"lives\", \"college\", \"earn\", \"tuition\", \"enemy\", \"investing\", \"deduction\", \"punish\", \"skill\", \"futures\", \"demanding\", \"india\", \"eitc\", \"sergeant\", \"trillion\", \"network\", \"illinois\", \"root\", \"cents\", \"listening\", \"worth\", \"junior\", \"shouldn\", \"says\", \"habitat\", \"reversed\", \"dime\", \"vacancies\", \"crack\", \"extends\", \"challenged\", \"eligible\", \"records\", \"income\", \"read\", \"pension\", \"low\", \"marriage\", \"parent\", \"lady\", \"learn\", \"actually\", \"grow\", \"propose\", \"succeed\", \"retirement\", \"got\", \"tax\", \"simple\", \"credit\", \"families\", \"dollars\", \"family\", \"programs\", \"cut\", \"help\", \"taxes\", \"years\", \"pay\", \"workers\", \"federal\", \"spending\", \"year\", \"child\", \"government\", \"americans\", \"expand\", \"bosnia\", \"remarkable\", \"agriculture\", \"founders\", \"cars\", \"doors\", \"checks\", \"grades\", \"launching\", \"mccaffrey\", \"hiring\", \"warheads\", \"treaties\", \"subjects\", \"usual\", \"ideals\", \"eighth\", \"discovery\", \"team\", \"colombia\", \"remembered\", \"faster\", \"fueled\", \"destroying\", \"missiles\", \"crop\", \"baby\", \"outer\", \"spreading\", \"emerging\", \"district\", \"thousand\", \"panama\", \"controls\", \"strike\", \"russian\", \"visit\", \"wealth\", \"perfect\", \"union\", \"events\", \"force\", \"nuclear\", \"example\", \"weapons\", \"defend\", \"year\", \"world\", \"decade\", \"use\", \"new\", \"state\", \"millennium\", \"washington\", \"number\", \"reduce\", \"space\", \"american\", \"freedom\", \"tonight\"], \"Total\": [468.0, 167.0, 175.0, 219.0, 279.0, 162.0, 197.0, 210.0, 579.0, 156.0, 100.0, 259.0, 90.0, 74.0, 575.0, 111.0, 152.0, 127.0, 98.0, 318.0, 437.0, 265.0, 368.0, 159.0, 170.0, 138.0, 111.0, 218.0, 119.0, 136.0, 156.6822967529297, 54.97410583496094, 39.740264892578125, 72.7761459350586, 30.83494758605957, 19.47748374938965, 13.928129196166992, 13.797357559204102, 24.078516006469727, 13.282065391540527, 12.894529342651367, 16.349470138549805, 12.63855266571045, 11.213846206665039, 20.16636085510254, 10.04889965057373, 9.926919937133789, 9.666767120361328, 9.5389404296875, 9.5379056930542, 9.141818046569824, 8.892156600952148, 8.635987281799316, 12.788752555847168, 8.506815910339355, 8.503291130065918, 27.480854034423828, 8.245272636413574, 8.236706733703613, 75.49163818359375, 54.591495513916016, 25.68320083618164, 101.11210632324219, 21.03660011291504, 218.93312072753906, 35.462589263916016, 24.52426528930664, 37.75315475463867, 115.60648345947266, 157.53001403808594, 26.508281707763672, 71.29198455810547, 129.15521240234375, 62.781288146972656, 391.414306640625, 162.76702880859375, 115.51219177246094, 50.371273040771484, 368.7214050292969, 127.48600769042969, 454.5302734375, 91.60633087158203, 575.1209106445312, 437.8848876953125, 190.957763671875, 159.88206481933594, 251.92279052734375, 197.9053497314453, 207.97979736328125, 246.46180725097656, 265.5688781738281, 582.8729248046875, 318.43109130859375, 151.634765625, 374.7375183105469, 579.4869995117188, 259.3758850097656, 426.4477844238281, 162.04983520507812, 46.8913688659668, 36.91709518432617, 36.91780471801758, 35.15045166015625, 33.86480712890625, 23.731447219848633, 23.40891456604004, 20.50080108642578, 19.06745147705078, 18.58534049987793, 18.58367156982422, 19.368444442749023, 17.12932777404785, 15.691265106201172, 15.367855072021484, 15.367301940917969, 14.72465991973877, 13.759639739990234, 24.60678482055664, 12.929125785827637, 13.2240629196167, 42.493797302246094, 10.851279258728027, 10.840784072875977, 44.48809051513672, 10.542675018310547, 30.368694305419922, 9.900771141052246, 9.73947525024414, 138.86349487304688, 40.712059020996094, 36.58473587036133, 40.977108001708984, 26.66716194152832, 30.357362747192383, 31.462631225585938, 151.6117706298828, 68.60437774658203, 149.94093322753906, 93.44945526123047, 52.95915222167969, 107.1041030883789, 259.3758850097656, 79.68561553955078, 57.56774139404297, 65.94189453125, 167.119140625, 42.45901870727539, 107.96013641357422, 66.37303924560547, 170.5865478515625, 80.46308898925781, 426.4477844238281, 77.06558227539062, 49.72569274902344, 582.8729248046875, 141.335205078125, 368.7214050292969, 209.62411499023438, 102.86018371582031, 207.97979736328125, 105.2732162475586, 123.41879272460938, 217.31422424316406, 276.4447937011719, 274.2015075683594, 67.50572967529297, 42.112667083740234, 25.792896270751953, 40.457618713378906, 16.8324031829834, 15.703885078430176, 15.332714080810547, 15.08056926727295, 13.843318939208984, 12.84586238861084, 12.840280532836914, 12.470324516296387, 12.10036849975586, 11.973650932312012, 11.84507942199707, 10.854843139648438, 10.85180377960205, 10.728225708007812, 10.232073783874512, 9.727402687072754, 9.232979774475098, 9.109077453613281, 9.108006477355957, 15.646025657653809, 8.988194465637207, 8.861149787902832, 8.85321044921875, 8.488239288330078, 8.237542152404785, 7.983953952789307, 32.61396789550781, 28.232072830200195, 13.898094177246094, 26.86429786682129, 15.361217498779297, 44.62044143676758, 36.449981689453125, 24.889236450195312, 13.029634475708008, 37.259830474853516, 26.309307098388672, 25.417255401611328, 171.57669067382812, 209.94589233398438, 26.62740707397461, 77.29686737060547, 116.99179077148438, 62.91877746582031, 115.06700897216797, 579.4869995117188, 318.43109130859375, 93.08547973632812, 194.72988891601562, 265.5688781738281, 374.7375183105469, 56.065956115722656, 132.21897888183594, 52.82661437988281, 39.101234436035156, 575.1209106445312, 138.3759765625, 116.76396179199219, 155.860107421875, 94.10454559326172, 426.4477844238281, 121.37150573730469, 468.6065673828125, 437.8848876953125, 119.40465545654297, 274.2015075683594, 582.8729248046875, 145.48452758789062, 251.92279052734375, 391.414306640625, 368.7214050292969, 210.00816345214844, 454.5302734375, 61.37990188598633, 58.382205963134766, 53.82041549682617, 38.83921432495117, 29.85219955444336, 28.71016502380371, 28.14266014099121, 26.857112884521484, 47.39080047607422, 26.71234703063965, 25.999258041381836, 25.143077850341797, 23.430469512939453, 21.98381233215332, 111.47920989990234, 21.006729125976562, 20.437149047851562, 20.15245246887207, 19.72349739074707, 18.57784080505371, 17.725608825683594, 17.012470245361328, 16.442317962646484, 15.858838081359863, 15.012116432189941, 23.85653305053711, 13.42825698852539, 13.018478393554688, 12.726493835449219, 20.798913955688477, 127.17925262451172, 43.67683029174805, 62.74612045288086, 219.4735107421875, 136.42652893066406, 26.976665496826172, 74.53307342529297, 468.6065673828125, 143.972412109375, 100.30834197998047, 51.033695220947266, 71.81143951416016, 157.09036254882812, 79.06265258789062, 62.05219650268555, 117.00206756591797, 79.26219177246094, 54.948974609375, 579.4869995117188, 274.2015075683594, 66.98887634277344, 174.3887939453125, 89.70804595947266, 103.59146881103516, 217.31422424316406, 147.85952758789062, 246.46180725097656, 207.97979736328125, 575.1209106445312, 374.7375183105469, 190.957763671875, 132.21897888183594, 100.89517974853516, 52.306983947753906, 37.58771514892578, 23.1734619140625, 20.752700805664062, 19.743432998657227, 18.431873321533203, 17.124858856201172, 17.023386001586914, 16.519437789916992, 13.09095573425293, 12.687355041503906, 11.580321311950684, 11.58011245727539, 11.07623291015625, 9.461703300476074, 9.261905670166016, 7.446720600128174, 7.445653438568115, 12.657342910766602, 7.144440174102783, 7.143428802490234, 7.141496181488037, 6.636485576629639, 6.539206504821777, 6.335266590118408, 6.136107921600342, 6.135613918304443, 98.8482894897461, 5.832772254943848, 89.98656463623047, 14.422866821289062, 14.094640731811523, 25.462902069091797, 279.76318359375, 130.13157653808594, 48.827728271484375, 35.5487060546875, 114.7674331665039, 60.189918518066406, 175.0909881591797, 276.4447937011719, 63.17567443847656, 78.37793731689453, 111.09990692138672, 60.166221618652344, 582.8729248046875, 145.48452758789062, 162.76702880859375, 391.414306640625, 119.0826644897461, 454.5302734375, 579.4869995117188, 146.26792907714844, 209.62411499023438, 171.57669067382812, 210.00816345214844, 208.71502685546875, 154.34445190429688, 209.94589233398438, 167.7648162841797, 60.15862274169922, 26.609317779541016, 15.240110397338867, 14.349702835083008, 12.813494682312012, 11.156498908996582, 10.049219131469727, 8.28189754486084, 29.09334945678711, 7.724266529083252, 23.273881912231445, 7.183723449707031, 7.1831583976745605, 7.1825785636901855, 6.633602619171143, 6.517643928527832, 6.3006205558776855, 5.744887351989746, 5.417982578277588, 5.417826175689697, 175.46533203125, 4.866178035736084, 4.866021633148193, 13.070296287536621, 4.753754615783691, 4.748611927032471, 29.01476287841797, 4.315460205078125, 4.31522798538208, 21.26085662841797, 16.12041664123535, 39.8079719543457, 17.13434600830078, 18.764616012573242, 152.1322021484375, 20.62369728088379, 20.734907150268555, 51.992462158203125, 114.7674331665039, 62.27490997314453, 32.729888916015625, 34.026554107666016, 110.29885864257812, 30.902952194213867, 197.9053497314453, 48.462135314941406, 159.05889892578125, 454.5302734375, 93.44336700439453, 582.8729248046875, 437.8848876953125, 159.88206481933594, 318.43109130859375, 279.76318359375, 426.4477844238281, 276.4447937011719, 157.53001403808594, 208.71502685546875, 218.93312072753906, 575.1209106445312, 91.6949691772461, 391.414306640625, 374.7375183105469, 90.2713394165039, 33.618011474609375, 23.700441360473633, 22.573511123657227, 19.097028732299805, 14.696364402770996, 12.756848335266113, 12.552757263183594, 9.071700096130371, 8.562651634216309, 8.256681442260742, 8.05362319946289, 8.04965877532959, 8.043305397033691, 7.743263244628906, 7.742262363433838, 7.542353630065918, 7.542353630065918, 6.720608234405518, 6.713199615478516, 12.5426664352417, 6.21290922164917, 6.212650775909424, 6.211556434631348, 6.210782051086426, 5.59621000289917, 5.394561767578125, 5.390492916107178, 5.390796661376953, 44.254478454589844, 10.258177757263184, 10.899810791015625, 10.49380874633789, 13.385514259338379, 73.44561004638672, 35.11761474609375, 53.29419708251953, 13.743700981140137, 44.119651794433594, 210.00816345214844, 37.19232177734375, 125.13008880615234, 83.94865417480469, 50.68901443481445, 45.66048812866211, 58.94559860229492, 14.882946968078613, 41.135826110839844, 91.21653747558594, 23.29115867614746, 82.62561798095703, 66.96038055419922, 575.1209106445312, 155.52783203125, 37.21339797973633, 118.6903305053711, 67.80506896972656, 77.92183685302734, 265.5688781738281, 104.19427490234375, 107.96013641357422, 579.4869995117188, 426.4477844238281, 374.7375183105469, 391.414306640625, 27.766550064086914, 25.73440170288086, 17.832170486450195, 14.670394897460938, 14.217273712158203, 13.877285957336426, 13.761728286743164, 13.539346694946289, 10.942014694213867, 10.265503883361816, 10.259268760681152, 9.92746353149414, 9.926351547241211, 9.585143089294434, 9.022006034851074, 8.79909896850586, 8.794234275817871, 8.792267799377441, 8.23200511932373, 7.891538143157959, 7.556643962860107, 7.3288421630859375, 7.1034650802612305, 6.987979412078857, 6.766629219055176, 6.765779972076416, 6.763908386230469, 6.425126552581787, 6.424423694610596, 6.423912525177002, 111.11486053466797, 64.92647552490234, 11.47403335571289, 33.82823944091797, 9.567445755004883, 15.157234191894531, 14.18910026550293, 13.76492691040039, 39.265708923339844, 36.333839416503906, 43.776954650878906, 78.45208740234375, 70.37428283691406, 141.5486297607422, 24.566017150878906, 32.55391311645508, 217.31422424316406, 368.7214050292969, 437.8848876953125, 111.427734375, 111.09990692138672, 259.3758850097656, 246.46180725097656, 138.3759765625, 130.13157653808594, 45.656883239746094, 73.02483367919922, 209.62411499023438, 208.71502685546875, 115.51219177246094, 134.44606018066406, 94.10454559326172, 74.037109375, 15.227781295776367, 12.90766429901123, 9.266777038574219, 8.463951110839844, 7.961183071136475, 7.957225322723389, 7.145462989807129, 6.848702430725098, 6.642605781555176, 6.336665630340576, 6.144505500793457, 5.840914726257324, 5.7394280433654785, 5.33071231842041, 5.328508377075195, 5.3274664878845215, 5.033226013183594, 5.030338287353516, 8.225312232971191, 4.831175327301025, 9.788956642150879, 7.813234806060791, 4.024008274078369, 4.022593021392822, 4.022265911102295, 4.022100925445557, 4.020822048187256, 4.020476818084717, 4.014026165008545, 7.190628528594971, 13.205293655395508, 60.63905334472656, 21.60599136352539, 13.843347549438477, 39.4985237121582, 7.331693172454834, 20.050796508789062, 19.168800354003906, 19.51045036315918, 20.63231658935547, 23.002788543701172, 74.7771987915039, 20.803241729736328, 20.025911331176758, 33.259647369384766, 197.9053497314453, 27.639354705810547, 43.48405838012695, 159.05889892578125, 26.557497024536133, 110.29885864257812, 170.5865478515625, 115.51219177246094, 276.4447937011719, 50.95909118652344, 437.8848876953125, 81.1777114868164, 75.70829010009766, 259.3758850097656, 101.11210632324219, 454.5302734375, 114.7674331665039, 368.7214050292969, 318.43109130859375, 58.40146255493164, 19.22905731201172, 13.53308391571045, 10.686521530151367, 10.569900512695312, 10.341115951538086, 10.338521957397461, 10.337312698364258, 8.865978240966797, 7.95283842086792, 6.817262172698975, 6.8170270919799805, 6.702751159667969, 6.588500499725342, 6.473624229431152, 6.13216495513916, 10.15433406829834, 5.903684139251709, 5.902588367462158, 5.901566505432129, 5.5620951652526855, 5.561717987060547, 8.680581092834473, 5.336949825286865, 5.336706638336182, 14.595908164978027, 5.221391677856445, 8.450514793395996, 4.653420448303223, 4.652095794677734, 4.650840759277344, 7.554595470428467, 26.229358673095703, 8.353886604309082, 8.381840705871582, 7.3883185386657715, 8.728212356567383, 8.070158004760742, 9.992610931396484, 16.13109588623047, 119.40465545654297, 12.426356315612793, 66.91505432128906, 111.11486053466797, 33.36713409423828, 64.92647552490234, 13.961231231689453, 454.5302734375, 468.6065673828125, 38.93817901611328, 84.86056518554688, 582.8729248046875, 138.3759765625, 20.767505645751953, 32.37403869628906, 47.78512191772461, 80.51713562011719, 44.29389953613281, 374.7375183105469, 143.972412109375, 209.94589233398438], \"loglift\": [30.0, 29.0, 28.0, 27.0, 26.0, 25.0, 24.0, 23.0, 22.0, 21.0, 20.0, 19.0, 18.0, 17.0, 16.0, 15.0, 14.0, 13.0, 12.0, 11.0, 10.0, 9.0, 8.0, 7.0, 6.0, 5.0, 4.0, 3.0, 2.0, 1.0, 1.7431000471115112, 1.7335000038146973, 1.7279000282287598, 1.7237000465393066, 1.7218999862670898, 1.7063000202178955, 1.6891000270843506, 1.6885000467300415, 1.6878000497817993, 1.6861000061035156, 1.6842000484466553, 1.683500051498413, 1.682800054550171, 1.6742000579833984, 1.667799949645996, 1.6651999950408936, 1.664199948310852, 1.6618000268936157, 1.660599946975708, 1.6598999500274658, 1.656599998474121, 1.6539000272750854, 1.6506999731063843, 1.6496000289916992, 1.6495000123977661, 1.649399995803833, 1.6485999822616577, 1.6461999416351318, 1.6460000276565552, 1.641700029373169, 1.6114000082015991, 1.6240999698638916, 1.537600040435791, 1.6030000448226929, 1.4147000312805176, 1.5513999462127686, 1.576200008392334, 1.5362000465393066, 1.3978999853134155, 1.3423999547958374, 1.5484999418258667, 1.4177000522613525, 1.3386000394821167, 1.385599970817566, 1.0600999593734741, 1.208899974822998, 1.2201000452041626, 1.3941999673843384, 0.9164000153541565, 1.1538000106811523, 0.7699000239372253, 1.2100000381469727, 0.6912000179290771, 0.6618000268936157, 0.9138000011444092, 0.9531999826431274, 0.7842000126838684, 0.8582000136375427, 0.8111000061035156, 0.7074000239372253, 0.6327999830245972, 0.23649999499320984, 0.5292999744415283, 0.8953999876976013, 0.23309999704360962, -0.4542999863624573, 0.2540000081062317, -0.27219998836517334, 1.7882000207901, 1.7762999534606934, 1.7717000246047974, 1.7717000246047974, 1.7706999778747559, 1.7697999477386475, 1.7596999406814575, 1.7592999935150146, 1.7544000148773193, 1.7513999938964844, 1.7503000497817993, 1.7503000497817993, 1.7481000423431396, 1.7466000318527222, 1.742300033569336, 1.7411999702453613, 1.7411999702453613, 1.738800048828125, 1.7348999977111816, 1.7317999601364136, 1.7309999465942383, 1.7232999801635742, 1.7206000089645386, 1.7187000513076782, 1.7187000513076782, 1.7182999849319458, 1.7165000438690186, 1.7131999731063843, 1.711400032043457, 1.7100000381469727, 1.694599986076355, 1.7010999917984009, 1.6963000297546387, 1.6875, 1.690600037574768, 1.6837999820709229, 1.6790000200271606, 1.539199948310852, 1.5987000465393066, 1.5190999507904053, 1.5077999830245972, 1.5808000564575195, 1.4577000141143799, 1.2999000549316406, 1.4983999729156494, 1.5533000230789185, 1.5119999647140503, 1.3238999843597412, 1.583899974822998, 1.3372000455856323, 1.464900016784668, 1.1895999908447266, 1.3741999864578247, 0.7746999859809875, 1.354699969291687, 1.5175000429153442, 0.41819998621940613, 0.9836000204086304, 0.3903999924659729, 0.6832000017166138, 1.0793999433517456, 0.482699990272522, 0.9858999848365784, 0.8590999841690063, 0.34389999508857727, 0.11829999834299088, 0.10670000314712524, 1.8458000421524048, 1.833899974822998, 1.8264000415802002, 1.8214000463485718, 1.8092000484466553, 1.8056000471115112, 1.8042999505996704, 1.8033000230789185, 1.79830002784729, 1.7934999465942383, 1.7934999465942383, 1.7914999723434448, 1.7893999814987183, 1.788599967956543, 1.7878999710083008, 1.7812000513076782, 1.7812000513076782, 1.7803000211715698, 1.7762999534606934, 1.7719000577926636, 1.7670999765396118, 1.7657999992370605, 1.7657999992370605, 1.7646000385284424, 1.7645000219345093, 1.763100028038025, 1.7628999948501587, 1.7587000131607056, 1.7554999589920044, 1.7519999742507935, 1.7441999912261963, 1.7446999549865723, 1.7460999488830566, 1.7252999544143677, 1.7350000143051147, 1.6651999950408936, 1.676900029182434, 1.6826000213623047, 1.7365000247955322, 1.6377999782562256, 1.6700999736785889, 1.6734999418258667, 1.378000020980835, 1.2581000328063965, 1.62090003490448, 1.4234999418258667, 1.340999960899353, 1.434499979019165, 1.2925000190734863, 0.9298999905586243, 1.067199945449829, 1.337499976158142, 1.159500002861023, 1.0773999691009521, 0.9559999704360962, 1.4392000436782837, 1.1763999462127686, 1.4230999946594238, 1.5149999856948853, 0.558899998664856, 1.0432000160217285, 1.1016000509262085, 0.983299970626831, 1.1648999452590942, 0.46970000863075256, 1.0456000566482544, 0.41780000925064087, 0.4133000075817108, 1.0484999418258667, 0.6072999835014343, 0.1589999943971634, 0.9128999710083008, 0.49140000343322754, 0.08889999985694885, 0.09910000115633011, 0.45899999141693115, -0.2379000037908554, 1.9176000356674194, 1.9169000387191772, 1.9154000282287598, 1.909999966621399, 1.9038000106811523, 1.9026999473571777, 1.9020999670028687, 1.9006999731063843, 1.9005999565124512, 1.9005999565124512, 1.8997000455856323, 1.8986999988555908, 1.896299958229065, 1.8940000534057617, 1.8937000036239624, 1.892300009727478, 1.8911999464035034, 1.8905999660491943, 1.8897000551223755, 1.8867000341415405, 1.8849999904632568, 1.8831000328063965, 1.8813999891281128, 1.8776999711990356, 1.8765000104904175, 1.8716000318527222, 1.8698999881744385, 1.8680000305175781, 1.8665000200271606, 1.8664000034332275, 1.8492000102996826, 1.853600025177002, 1.845900058746338, 1.799399971961975, 1.809499979019165, 1.8575999736785889, 1.7582000494003296, 1.5140999555587769, 1.6202000379562378, 1.6640000343322754, 1.726699948310852, 1.582800030708313, 1.3869999647140503, 1.5515999794006348, 1.6013000011444092, 1.4168000221252441, 1.5151000022888184, 1.621000051498413, 0.7818999886512756, 1.0160000324249268, 1.5422999858856201, 1.1670000553131104, 1.4240000247955322, 1.315600037574768, 0.9304999709129333, 1.1050000190734863, 0.765999972820282, 0.7271999716758728, -0.010499999858438969, 0.10689999908208847, 0.6316999793052673, 0.9089000225067139, 2.5601000785827637, 2.5532000064849854, 2.5469000339508057, 2.532900094985962, 2.528700113296509, 2.5264999866485596, 2.523400068283081, 2.51990008354187, 2.5195999145507812, 2.5179998874664307, 2.504199981689453, 2.5020999908447266, 2.495500087738037, 2.495500087738037, 2.492000102996826, 2.478300094604492, 2.4762001037597656, 2.452199935913086, 2.4521000385284424, 2.4493000507354736, 2.447000026702881, 2.446899890899658, 2.446899890899658, 2.437000036239624, 2.4349000453948975, 2.4302000999450684, 2.4254000186920166, 2.4254000186920166, 2.4179999828338623, 2.41729998588562, 2.406899929046631, 2.376199960708618, 2.3178999423980713, 2.2334001064300537, 1.8351000547409058, 1.944599986076355, 2.003700017929077, 2.0606000423431396, 1.6344000101089478, 1.789199948310852, 1.3234000205993652, 0.9830999970436096, 1.6002000570297241, 1.4851000308990479, 1.2980999946594238, 1.6134999990463257, 0.3653999865055084, 1.111899971961975, 0.9624999761581421, 0.4034000039100647, 1.1258000135421753, 0.2635999917984009, 0.058400001376867294, 0.8939999938011169, 0.6086000204086304, 0.7633000016212463, 0.6015999913215637, 0.4681999981403351, 0.6448000073432922, 0.34049999713897705, 2.6087000370025635, 2.599900007247925, 2.5824999809265137, 2.5587000846862793, 2.5550999641418457, 2.5478999614715576, 2.5364999771118164, 2.529099941253662, 2.5100998878479004, 2.5034000873565674, 2.50219988822937, 2.4962000846862793, 2.493299961090088, 2.493299961090088, 2.493299961090088, 2.4827001094818115, 2.4802000522613525, 2.4751999378204346, 2.4607999324798584, 2.4507999420166016, 2.4507999420166016, 2.4444000720977783, 2.430500030517578, 2.430500030517578, 2.430500030517578, 2.425800085067749, 2.42549991607666, 2.4130001068115234, 2.404599905014038, 2.404599905014038, 2.38700008392334, 2.3585000038146973, 2.301100015640259, 2.3387999534606934, 2.322999954223633, 1.9599000215530396, 2.2016000747680664, 2.1865999698638916, 1.98989999294281, 1.7271000146865845, 1.8753999471664429, 2.0445001125335693, 2.023400068283081, 1.6295000314712524, 1.982300043106079, 1.2862000465393066, 1.8003000020980835, 1.2768000364303589, 0.7846999764442444, 1.3866000175476074, 0.37860000133514404, 0.5034000277519226, 1.0587999820709229, 0.5936999917030334, 0.6434999704360962, 0.36629998683929443, 0.5860999822616577, 0.9122999906539917, 0.7024999856948853, 0.5307999849319458, -0.29190000891685486, 1.2036000490188599, -0.04360000044107437, -0.023600000888109207, 2.7260000705718994, 2.7105000019073486, 2.700000047683716, 2.698199987411499, 2.6912999153137207, 2.677799940109253, 2.6686999797821045, 2.66759991645813, 2.640399932861328, 2.634500026702881, 2.6305999755859375, 2.6277999877929688, 2.627700090408325, 2.6275999546051025, 2.623300075531006, 2.623199939727783, 2.6201000213623047, 2.6201000213623047, 2.60509991645813, 2.6048998832702637, 2.5950000286102295, 2.5936999320983887, 2.5936999320983887, 2.593600034713745, 2.593600034713745, 2.5768001079559326, 2.5703001022338867, 2.570199966430664, 2.570199966430664, 2.566800117492676, 2.5653998851776123, 2.5564000606536865, 2.550800085067749, 2.5329999923706055, 2.400899887084961, 2.4535999298095703, 2.2909998893737793, 2.4748001098632812, 2.2885000705718994, 1.9881000518798828, 2.258699893951416, 1.9544999599456787, 2.0462000370025635, 2.0550999641418457, 2.0327999591827393, 1.9347000122070312, 2.408099889755249, 2.039599895477295, 1.739799976348877, 2.2379000186920166, 1.652400016784668, 1.7408000230789185, 0.7067999839782715, 1.288599967956543, 1.9666999578475952, 1.3466999530792236, 1.618899941444397, 1.5276999473571777, 0.7531999945640564, 1.2753000259399414, 1.1953999996185303, -0.04479999840259552, 0.08860000222921371, 0.08669999986886978, -0.03519999980926514, 2.8153998851776123, 2.812999963760376, 2.7985000610351562, 2.7881999015808105, 2.78629994392395, 2.7848000526428223, 2.7843000888824463, 2.7832999229431152, 2.7679998874664307, 2.762700080871582, 2.7625999450683594, 2.7597999572753906, 2.7597999572753906, 2.7565999031066895, 2.7507998943328857, 2.748300075531006, 2.748199939727783, 2.748199939727783, 2.741300106048584, 2.7365000247955322, 2.7314999103546143, 2.7276999950408936, 2.7237000465393066, 2.72160005569458, 2.7172999382019043, 2.7172999382019043, 2.7172000408172607, 2.7100000381469727, 2.7100000381469727, 2.7100000381469727, 2.3642001152038574, 2.352299928665161, 2.586699962615967, 2.324899911880493, 2.6196999549865723, 2.4853999614715576, 2.4932000637054443, 2.4941000938415527, 2.0940001010894775, 2.0480000972747803, 1.9674999713897705, 1.575700044631958, 1.6303999423980713, 1.1283999681472778, 2.143699884414673, 1.947100043296814, 0.7587000131607056, 0.32420000433921814, 0.15889999270439148, 0.9961000084877014, 0.9882000088691711, 0.3483000099658966, 0.34310001134872437, 0.7804999947547913, 0.8094000220298767, 1.5968999862670898, 1.1799999475479126, 0.2282000035047531, 0.22709999978542328, 0.7484999895095825, 0.532800018787384, 0.8848999738693237, 3.112299919128418, 3.087100028991699, 3.0768001079559326, 3.049799919128418, 3.0404999256134033, 3.0336999893188477, 3.0336999893188477, 3.0204999446868896, 3.014899969100952, 3.0106000900268555, 3.0037999153137207, 2.9992001056671143, 2.9911000728607178, 2.9881999492645264, 2.9753000736236572, 2.9751999378204346, 2.9751999378204346, 2.9644999504089355, 2.964400053024292, 2.9576001167297363, 2.956399917602539, 2.9403998851776123, 2.9205000400543213, 2.914400100708008, 2.914299964904785, 2.914299964904785, 2.914299964904785, 2.9142000675201416, 2.9142000675201416, 2.9137001037597656, 2.912899971008301, 2.8949999809265137, 2.8605000972747803, 2.873800039291382, 2.886199951171875, 2.8271000385284424, 2.8870999813079834, 2.835599899291992, 2.7934000492095947, 2.7848000526428223, 2.750699996948242, 2.722899913787842, 2.302299976348877, 2.5785999298095703, 2.571899890899658, 2.3459999561309814, 1.6101000308990479, 2.3698999881744385, 2.147700071334839, 1.5442999601364136, 2.311800003051758, 1.538599967956543, 1.2855000495910645, 1.4743000268936157, 0.9126999974250793, 1.9230999946594238, 0.6010000109672546, 1.5772000551223755, 1.5528000593185425, 0.6225000023841858, 1.2826000452041626, 0.050700001418590546, 1.156599998474121, 0.13079999387264252, 0.023499999195337296, 1.63919997215271, 3.11899995803833, 3.100100040435791, 3.0831000804901123, 3.082200050354004, 3.080399990081787, 3.0803000926971436, 3.0803000926971436, 3.0660998821258545, 3.054500102996826, 3.035399913787842, 3.035399913787842, 3.033099889755249, 3.0306999683380127, 3.0281999111175537, 3.02020001411438, 3.0167999267578125, 3.0143001079559326, 3.01419997215271, 3.01419997215271, 3.0044000148773193, 3.0044000148773193, 2.997299909591675, 2.9972000122070312, 2.9972000122070312, 2.9946999549865723, 2.993299961090088, 2.993000030517578, 2.970599889755249, 2.9704999923706055, 2.970400094985962, 2.9697999954223633, 2.9563000202178955, 2.9630000591278076, 2.9556000232696533, 2.9530999660491943, 2.9272000789642334, 2.930999994277954, 2.877000093460083, 2.7423999309539795, 1.7626999616622925, 2.670599937438965, 1.8531999588012695, 1.4290000200271606, 2.052999973297119, 1.5925999879837036, 2.5550999641418457, 0.11659999936819077, 0.00860000029206276, 1.7933000326156616, 1.2115000486373901, -0.3553999960422516, 0.7414000034332275, 2.2327001094818115, 1.8593000173568726, 1.4945000410079956, 1.0183000564575195, 1.4967000484466553, -0.5462999939918518, 0.3292999863624573, -0.04540000110864639], \"logprob\": [30.0, 29.0, 28.0, 27.0, 26.0, 25.0, 24.0, 23.0, 22.0, 21.0, 20.0, 19.0, 18.0, 17.0, 16.0, 15.0, 14.0, 13.0, 12.0, 11.0, 10.0, 9.0, 8.0, 7.0, 6.0, 5.0, 4.0, 3.0, 2.0, 1.0, -4.4054999351501465, -5.462399959564209, -5.792600154876709, -5.191699981689453, -6.052199840545654, -6.527299880981445, -6.879799842834473, -6.889800071716309, -6.333600044250488, -6.930300235748291, -6.9618000984191895, -6.725100040435791, -6.9832000732421875, -7.111400127410889, -6.531000137329102, -7.230100154876709, -7.243299961090088, -7.272299766540527, -7.286799907684326, -7.287700176239014, -7.3333001136779785, -7.363699913024902, -7.396200180053711, -7.0046000480651855, -7.412499904632568, -7.412899971008301, -6.240699768066406, -7.447000026702881, -7.448200225830078, -5.236999988555908, -5.5914998054504395, -6.332799911499023, -5.048900127410889, -6.553500175476074, -4.3993000984191895, -6.082900047302246, -6.427000045776367, -6.0355000495910645, -5.054699897766113, -4.80079984664917, -6.376800060272217, -5.5183000564575195, -5.003200054168701, -5.677499771118164, -4.172900199890137, -4.901500225067139, -5.23330020904541, -5.889200210571289, -4.376399993896484, -5.200900077819824, -4.313600063323975, -5.475299835205078, -4.1570000648498535, -4.459099769592285, -5.036900043487549, -5.17519998550415, -4.889500141143799, -5.05679988861084, -5.054200172424316, -4.9882001876831055, -4.988100051879883, -4.598400115966797, -4.910099983215332, -5.285900115966797, -5.043499946594238, -5.294899940490723, -5.390500068664551, -5.41949987411499, -4.326700210571289, -5.578700065612793, -5.822400093078613, -5.822400093078613, -5.872499942779541, -5.910600185394287, -6.276299953460693, -6.29040002822876, -6.427999973297119, -6.503399848937988, -6.530099868774414, -6.530200004577637, -6.491099834442139, -6.6153998374938965, -6.707399845123291, -6.729400157928467, -6.729400157928467, -6.774499893188477, -6.846099853515625, -6.26800012588501, -6.912300109863281, -6.897500038146973, -5.732900142669678, -7.099800109863281, -7.100800037384033, -5.689300060272217, -7.130799770355225, -6.076099872589111, -7.198800086975098, -7.216700077056885, -4.574699878692627, -5.795199871063232, -5.906899929046631, -5.802299976348877, -6.228700160980225, -6.105999946594238, -6.074999809265137, -4.642199993133545, -5.375699996948242, -4.673500061035156, -5.157599925994873, -5.652500152587891, -5.071300029754639, -4.344699859619141, -5.326300144195557, -5.596499919891357, -5.501999855041504, -4.760200023651123, -5.870299816131592, -5.183800220489502, -5.542600154876709, -4.874000072479248, -5.440800189971924, -4.372600078582764, -5.503399848937988, -5.778800010681152, -4.416600227355957, -5.268099784851074, -4.902400016784668, -5.174300193786621, -5.489999771118164, -5.382699966430664, -5.560299873352051, -5.52810001373291, -5.47760009765625, -5.462500095367432, -5.4822001457214355, -5.144800186157227, -5.628499984741211, -6.126299858093262, -5.681099891662598, -6.570300102233887, -6.6433000564575195, -6.668499946594238, -6.686100006103516, -6.776700019836426, -6.856299877166748, -6.8566999435424805, -6.887899875640869, -6.920199871063232, -6.931399822235107, -6.942999839782715, -7.0370001792907715, -7.037300109863281, -7.049699783325195, -7.100900173187256, -7.156000137329102, -7.212900161743164, -7.227799892425537, -7.22790002822876, -6.688000202178955, -7.242400169372559, -7.257999897003174, -7.259099960327148, -7.3053998947143555, -7.338600158691406, -7.373300075531006, -5.973899841308594, -6.117700099945068, -6.824900150299072, -6.186699867248535, -6.736000061035156, -5.7393999099731445, -5.929900169372559, -6.305799961090088, -6.89900016784668, -5.947000026702881, -6.262800216674805, -6.293900012969971, -4.679800033569336, -4.597799777984619, -6.300000190734863, -5.431600093841553, -5.099699974060059, -5.626500129699707, -5.164700031280518, -3.910799980163574, -4.372200012207031, -5.3317999839782715, -4.771699905395508, -4.543499946594238, -4.320499897003174, -5.736999988555908, -5.141900062561035, -5.812699794769287, -6.021599769592285, -4.289299964904785, -5.229599952697754, -5.341100215911865, -5.170499801635742, -5.493500232696533, -4.677599906921387, -5.35830020904541, -4.635200023651123, -4.707600116729736, -5.371799945831299, -4.981599807739258, -4.67579984664917, -5.309899806976318, -5.182300090789795, -5.144100189208984, -5.193600177764893, -5.396699905395508, -5.321400165557861, -5.168099880218506, -5.218800067901611, -5.301700115203857, -5.633299827575684, -5.9028000831604, -5.94290018081665, -5.963399887084961, -6.011499881744385, -5.44379997253418, -6.017099857330322, -6.045000076293945, -6.079500198364258, -6.152500152587891, -6.218500137329102, -4.595300197601318, -6.265699863433838, -6.294300079345703, -6.308899879455566, -6.331299781799316, -6.394199848175049, -6.442800045013428, -6.485799789428711, -6.521599769592285, -6.561399936676025, -6.617400169372559, -6.15910005569458, -6.735499858856201, -6.768400192260742, -6.792600154876709, -6.301499843597412, -4.507999897003174, -5.572400093078613, -5.217800140380859, -4.012199878692627, -4.477499961853027, -6.050300121307373, -5.133299827575684, -3.5388998985290527, -4.61299991607666, -4.930500030517578, -5.543600082397461, -5.345900058746338, -4.758999824523926, -5.281000137329102, -5.473499774932861, -5.023799896240234, -5.315000057220459, -5.575399875640869, -4.058700084686279, -4.57289981842041, -5.455900192260742, -4.874499797821045, -5.282299995422363, -5.246799945831299, -4.890999794006348, -5.101500034332275, -4.929599761962891, -5.138199806213379, -4.858699798583984, -5.169600009918213, -5.318999767303467, -5.40939998626709, -4.028600215911865, -4.692500114440918, -5.029200077056885, -5.526800155639648, -5.641499996185303, -5.693399906158447, -5.7652997970581055, -5.842400074005127, -5.848599910736084, -5.880199909210205, -6.126699924468994, -6.160099983215332, -6.257999897003174, -6.257999897003174, -6.306000232696533, -6.47730016708374, -6.500699996948242, -6.742800235748291, -6.743000030517578, -6.2153000831604, -6.7895002365112305, -6.789700031280518, -6.789999961853027, -6.873300075531006, -6.890100002288818, -6.926499843597412, -6.963200092315674, -6.9633002281188965, -4.191199779510498, -7.021999835968018, -4.296199798583984, -6.157700061798096, -6.239099979400635, -5.7322001457214355, -3.733799934387207, -4.389699935913086, -5.310800075531006, -5.571300029754639, -4.825399875640869, -5.316100120544434, -4.714099884033203, -4.597700119018555, -5.456699848175049, -5.356200218200684, -5.194300174713135, -5.492199897766113, -4.469399929046631, -5.110799789428711, -5.1479997634887695, -4.829699993133545, -5.297100067138672, -4.820000171661377, -4.782199859619141, -5.323400020599365, -5.248899936676025, -5.294400215148926, -5.254000186920166, -5.393599987030029, -5.518799781799316, -5.515500068664551, -3.47160005569458, -4.505899906158447, -5.339099884033203, -5.920199871063232, -5.98390007019043, -6.104400157928467, -6.254300117492676, -6.366199970245361, -6.57859992980957, -5.328800201416016, -6.656300067901611, -5.559299945831299, -6.73769998550415, -6.737800121307373, -6.737800121307373, -6.828000068664551, -6.848100185394287, -6.886899948120117, -6.99370002746582, -7.062300205230713, -7.062300205230713, -3.59089994430542, -7.189899921417236, -7.190000057220459, -6.202000141143799, -7.218100070953369, -7.219399929046631, -5.421999931335449, -7.335999965667725, -7.336100101470947, -5.758999824523926, -6.064199924468994, -5.217700004577637, -6.0229997634887695, -5.947800159454346, -4.218100070953369, -5.974800109863281, -5.984399795532227, -5.2617998123168945, -4.732699871063232, -5.195899963378906, -5.670000076293945, -5.652200222015381, -4.870100021362305, -5.789700031280518, -4.628799915313721, -5.5218000411987305, -4.8566999435424805, -4.298799991607666, -5.278800010681152, -4.456200122833252, -4.617400169372559, -5.0696001052856445, -4.845600128173828, -4.925300121307373, -4.781000137329102, -4.994699954986572, -5.230899810791016, -5.159299850463867, -5.283199787139893, -5.140100002288818, -5.4807000160217285, -5.276599884033203, -5.300099849700928, -3.973900079727173, -4.97730016708374, -5.337299823760986, -5.387800216674805, -5.561999797821045, -5.837399959564209, -5.98799991607666, -6.005199909210205, -6.3572001457214355, -6.420899868011475, -6.46120023727417, -6.488900184631348, -6.4893999099731445, -6.490300178527832, -6.532700061798096, -6.532899856567383, -6.56220006942749, -6.56220006942749, -6.692500114440918, -6.693900108337402, -6.078700065612793, -6.78249979019165, -6.78249979019165, -6.782800197601318, -6.782899856567383, -6.9039998054504395, -6.9471001625061035, -6.947999954223633, -6.94789981842041, -4.8460001945495605, -6.309299945831299, -6.257599830627441, -6.301199913024902, -6.075699806213379, -4.50540018081665, -5.190499782562256, -4.935999870300293, -6.107399940490723, -5.127399921417236, -3.867500066757202, -5.328000068664551, -4.419000148773193, -4.726399898529053, -5.2220001220703125, -5.348800182342529, -5.191500186920166, -6.0945000648498535, -5.446300029754639, -4.949699878692627, -5.81689977645874, -5.136000156402588, -5.257900238037109, -4.14139986038208, -4.867300033569336, -5.619500160217285, -5.079500198364258, -5.367199897766113, -5.319399833679199, -4.867700099945068, -5.281300067901611, -5.325699806213379, -4.885499954223633, -5.058700084686279, -5.189899921417236, -5.2683000564575195, -5.063499927520752, -5.141900062561035, -5.5233001708984375, -5.728799819946289, -5.7621002197265625, -5.787700176239014, -5.796599864959717, -5.813899993896484, -6.042200088500977, -6.111299991607666, -6.111999988555908, -6.14769983291626, -6.147799968719482, -6.185999870300293, -6.252299785614014, -6.279799938201904, -6.2804999351501465, -6.280700206756592, -6.353499889373779, -6.4004998207092285, -6.44890022277832, -6.48330020904541, -6.518499851226807, -6.5370001792907715, -6.573500156402588, -6.573599815368652, -6.573999881744385, -6.632599830627441, -6.632699966430664, -6.632800102233887, -4.127999782562256, -4.677299976348877, -6.176000118255615, -5.356599807739258, -6.32480001449585, -5.998899936676025, -6.05709981918335, -6.086599826812744, -5.438499927520752, -5.561999797821045, -5.456200122833252, -5.264599800109863, -5.318600177764893, -5.121699810028076, -5.857699871063232, -5.772799968719482, -5.062699794769287, -4.968599796295166, -4.961900234222412, -5.493299961090088, -5.504199981689453, -5.296199798583984, -5.352499961853027, -5.492300033569336, -5.524899959564209, -5.7846999168396, -5.73199987411499, -5.629300117492676, -5.634799957275391, -5.704899787902832, -5.768899917602539, -5.773499965667725, -3.785900115966797, -5.392499923706055, -5.5680999755859375, -5.926599979400635, -6.026400089263916, -6.0945000648498535, -6.09499979019165, -6.215799808502197, -6.263899803161621, -6.298699855804443, -6.352700233459473, -6.3881001472473145, -6.446800231933594, -6.467199802398682, -6.553999900817871, -6.554500102996826, -6.554699897766113, -6.622200012207031, -6.622900009155273, -6.138000011444092, -6.671299934387207, -5.981200218200684, -6.226500034332275, -6.896100044250488, -6.896500110626221, -6.896599769592285, -6.896699905395508, -6.89709997177124, -6.897200107574463, -6.8993000984191895, -6.317200183868408, -5.727200031280518, -4.237299919128418, -5.256100177764893, -5.688799858093262, -4.699399948120117, -6.323500156402588, -5.368899822235107, -5.456099987030029, -5.447000026702881, -5.42519998550415, -5.344299793243408, -4.585999965667725, -5.589099884033203, -5.633900165557861, -5.352399826049805, -4.304999828338623, -5.513599872589111, -5.282700061798096, -4.589200019836426, -5.611700057983398, -4.960999965667725, -4.7779998779296875, -4.979100227355957, -4.668099880218506, -5.348700046539307, -4.519899845123291, -5.229000091552734, -5.3231000900268555, -5.02209997177124, -5.303899765014648, -5.032800197601318, -5.303299903869629, -5.161900043487549, -5.415900230407715, -5.496200084686279, -5.127399921417236, -5.497499942779541, -5.750699996948242, -5.762599945068359, -5.786300182342529, -5.786600112915039, -5.7866997718811035, -5.954400062561035, -6.07480001449585, -6.247900009155273, -6.248000144958496, -6.267199993133545, -6.286799907684326, -6.3069000244140625, -6.36899995803833, -5.868100166320801, -6.412899971008301, -6.4131999015808105, -6.413400173187256, -6.482399940490723, -6.482500076293945, -6.044400215148926, -6.530900001525879, -6.531000137329102, -5.527400016784668, -6.55679988861084, -6.0756001472473145, -6.6946001052856445, -6.695000171661377, -6.695300102233887, -6.2108001708984375, -4.979599952697754, -6.117000102996826, -6.121099948883057, -6.249800205230713, -6.109000205993652, -6.183599948883057, -6.023900032043457, -5.679599761962891, -4.65749979019165, -6.012400150299072, -5.146200180053711, -5.063199996948242, -5.642300128936768, -5.436999797821045, -6.01140022277832, -4.966899871826172, -5.044400215148926, -5.747499942779541, -5.550300121307373, -5.190199851989746, -5.531400203704834, -5.936699867248535, -5.866199970245361, -5.8414998054504395, -5.796000003814697, -5.915200233459473, -5.82289981842041, -5.903800010681152, -5.901299953460693]}, \"token.table\": {\"Topic\": [2, 2, 1, 2, 6, 8, 10, 1, 9, 10, 1, 2, 8, 10, 4, 8, 1, 6, 4, 4, 2, 6, 4, 1, 4, 7, 8, 1, 4, 10, 10, 5, 6, 7, 3, 4, 1, 3, 4, 5, 6, 7, 9, 1, 2, 3, 4, 6, 7, 9, 10, 1, 3, 5, 6, 7, 9, 10, 8, 2, 3, 4, 6, 7, 8, 8, 4, 1, 2, 3, 4, 5, 6, 7, 8, 9, 10, 3, 2, 8, 9, 10, 1, 2, 6, 8, 8, 2, 5, 1, 2, 3, 8, 5, 1, 3, 4, 5, 6, 7, 8, 9, 2, 6, 7, 9, 1, 2, 5, 6, 9, 8, 1, 3, 5, 7, 7, 10, 7, 3, 3, 1, 2, 3, 5, 6, 9, 1, 1, 2, 5, 6, 7, 8, 10, 1, 5, 6, 8, 3, 2, 6, 4, 1, 3, 9, 10, 10, 3, 4, 9, 1, 3, 4, 5, 8, 1, 2, 3, 4, 5, 8, 10, 9, 2, 3, 4, 6, 7, 5, 10, 10, 8, 5, 1, 5, 6, 7, 9, 1, 3, 5, 6, 7, 8, 9, 4, 10, 4, 8, 6, 5, 5, 1, 2, 2, 2, 3, 9, 10, 1, 3, 4, 5, 7, 10, 3, 1, 2, 3, 5, 8, 9, 1, 3, 4, 6, 7, 8, 9, 2, 4, 6, 8, 1, 2, 3, 4, 5, 6, 7, 8, 9, 10, 5, 2, 4, 6, 1, 1, 2, 3, 4, 5, 6, 8, 6, 10, 8, 6, 2, 4, 7, 10, 1, 2, 3, 4, 5, 6, 7, 5, 6, 9, 1, 1, 3, 6, 9, 7, 10, 6, 1, 7, 8, 9, 10, 1, 1, 8, 1, 2, 4, 5, 10, 9, 1, 8, 9, 10, 1, 9, 1, 9, 3, 1, 3, 4, 7, 10, 6, 7, 2, 10, 2, 4, 6, 8, 9, 3, 10, 7, 3, 7, 10, 5, 7, 6, 6, 1, 3, 8, 9, 10, 10, 2, 7, 10, 7, 10, 9, 4, 1, 2, 4, 5, 6, 4, 9, 1, 2, 3, 4, 6, 8, 1, 2, 3, 5, 6, 8, 8, 10, 9, 1, 9, 10, 2, 8, 1, 5, 9, 2, 2, 4, 4, 3, 2, 10, 2, 3, 8, 10, 5, 6, 2, 4, 5, 9, 6, 9, 2, 1, 3, 5, 6, 8, 9, 1, 3, 5, 6, 9, 3, 6, 4, 6, 10, 1, 9, 10, 3, 8, 7, 1, 2, 8, 9, 7, 3, 8, 5, 7, 2, 6, 1, 2, 6, 1, 2, 3, 10, 1, 2, 4, 6, 10, 1, 3, 4, 7, 8, 3, 4, 7, 10, 10, 2, 6, 8, 1, 2, 3, 4, 5, 8, 9, 9, 5, 1, 3, 4, 5, 3, 6, 7, 1, 3, 4, 5, 7, 1, 4, 6, 9, 1, 2, 3, 7, 8, 9, 10, 5, 8, 10, 2, 8, 9, 1, 3, 4, 7, 8, 9, 10, 1, 3, 7, 9, 1, 2, 4, 6, 3, 7, 7, 9, 1, 2, 3, 3, 4, 5, 6, 9, 10, 8, 5, 1, 6, 8, 1, 2, 3, 4, 5, 6, 9, 10, 3, 4, 5, 8, 4, 1, 2, 3, 5, 6, 7, 8, 10, 8, 10, 3, 5, 6, 2, 3, 5, 6, 7, 9, 10, 7, 2, 4, 5, 7, 10, 8, 1, 5, 10, 7, 9, 1, 3, 4, 6, 9, 1, 2, 3, 5, 8, 2, 5, 10, 9, 6, 1, 6, 2, 6, 10, 6, 2, 3, 4, 5, 7, 2, 4, 5, 8, 5, 9, 4, 8, 4, 10, 3, 1, 3, 5, 6, 9, 1, 2, 4, 5, 6, 7, 9, 3, 7, 1, 2, 3, 6, 5, 1, 3, 4, 5, 6, 7, 9, 4, 7, 1, 3, 6, 8, 9, 4, 10, 1, 2, 3, 5, 7, 10, 2, 3, 7, 9, 10, 3, 9, 5, 3, 1, 2, 5, 6, 7, 1, 3, 5, 6, 7, 1, 3, 4, 5, 6, 7, 8, 9, 3, 1, 3, 5, 6, 7, 10, 9, 1, 3, 6, 7, 8, 10, 7, 7, 1, 2, 3, 4, 5, 9, 10, 1, 3, 6, 1, 7, 6, 8, 9, 6, 8, 1, 2, 4, 5, 8, 1, 2, 8, 1, 9, 1, 3, 8, 5, 10, 7, 2, 4, 5, 5, 6, 9, 1, 6, 1, 2, 3, 4, 5, 8, 9, 10, 1, 3, 4, 7, 3, 4, 6, 9, 3, 8, 10, 1, 2, 6, 9, 5, 10, 1, 3, 2, 1, 2, 3, 4, 5, 8, 1, 2, 3, 4, 5, 6, 7, 8, 4, 6, 8, 10, 2, 3, 10, 2, 9, 1, 2, 3, 5, 6, 7, 8, 1, 2, 9, 1, 2, 3, 10, 9, 1, 2, 3, 4, 5, 6, 8, 10, 4, 4, 6, 4, 8, 10, 1, 2, 3, 8, 9, 10, 2, 7, 2, 4, 1, 3, 4, 9, 10, 1, 6, 10, 10, 8, 8, 3, 10, 6, 9, 1, 5, 6, 8, 2, 4, 6, 1, 2, 3, 5, 6, 7, 8, 9, 1, 3, 5, 6, 7, 8, 9, 3, 4, 4, 8, 3, 9, 5, 1, 3, 4, 5, 6, 7, 8, 9, 10, 1, 2, 4, 5, 6, 7, 8, 9, 10, 1, 10, 4, 1, 2, 3, 5, 6, 7, 5, 3, 7, 7, 2, 4, 8, 3, 7, 8, 2, 3, 7, 1, 2, 3, 5, 6, 7, 9, 10, 1, 1, 2, 6, 3, 8, 2, 1, 2, 3, 6, 8, 2, 1, 2, 4, 5, 6, 8, 9, 1, 2, 5, 8, 9, 5, 6, 8, 9, 10, 1, 2, 5, 6, 7, 9, 2, 6, 7, 8, 7, 1, 2, 5, 7, 8, 9, 1, 1, 2, 3, 4, 5, 6, 8, 9, 1, 2, 5, 7, 8, 9, 10, 9, 4, 1, 6, 8, 3, 10, 1, 6, 7, 1, 2, 6, 8, 3, 8, 9, 3, 5, 1, 3, 6, 10, 1, 2, 9, 1, 5, 8, 10, 2, 8, 9, 1, 5, 1, 2, 4, 6, 8, 10, 1, 2, 5, 8, 1, 2, 6, 7, 8, 8, 4, 2, 2, 4, 2, 4, 6, 7, 10, 10, 1, 6, 1, 2, 1, 2, 4, 6, 1, 2, 3, 7, 9, 10, 8, 2, 8, 9, 7, 9, 2, 1, 1, 3, 4, 5, 7, 8, 9, 2, 4, 7, 10, 1, 1, 7, 9, 7, 4, 4, 10, 5, 1, 2, 8, 1, 9, 8, 5, 5, 7, 9, 5, 4, 1, 2, 3, 4, 6, 8, 9, 2, 7, 8, 10, 1, 6, 1, 9, 1, 2, 6, 10, 7, 9, 6, 6, 1, 3, 7, 9, 9, 2, 4, 5, 6, 8, 10, 1, 3, 7, 1, 8, 9, 1, 2, 3, 5, 8, 9, 2, 4, 4, 10, 2, 5, 8, 10, 3, 7, 10, 3, 5, 7, 1, 2, 3, 5, 9, 10, 6, 2, 4, 4, 1, 4, 5, 8, 4, 1, 2, 5, 7, 8, 10, 1, 2, 3, 7, 8, 9, 10, 1, 2, 3, 4, 5, 7, 8, 10, 2, 3, 4, 8, 10, 1, 2, 5, 7, 1, 2, 3, 4, 7, 4, 10, 1, 2, 3, 4, 7, 10, 1, 3, 8, 5, 10, 4, 8, 9, 5, 7, 7, 8, 2, 2, 1, 2, 3, 4, 5, 6, 7, 8, 9, 2, 3, 4, 5, 8, 9, 1, 2, 3, 5, 6, 7, 8, 9, 1, 2, 6, 9, 1, 7, 8, 9, 3, 3, 6, 5, 5, 10, 3, 2, 2, 5, 5, 5, 1, 3, 4, 7, 1, 3, 6, 8, 6, 3, 6, 7, 1, 3, 5, 7, 8, 1, 3, 7, 8, 5, 6, 7, 10, 1, 2, 10, 1, 2, 3, 4, 5, 6, 7, 8, 9, 10, 7, 8, 1, 2, 3, 4, 5, 6, 7, 8, 1, 3, 1, 3, 5, 6, 7, 10, 8, 1, 8, 2, 1, 4, 2, 10, 8, 9, 3, 4, 3, 5, 4, 5, 8, 9, 1, 9, 1, 1, 3, 3, 4, 10, 1, 2, 3, 4, 7, 8, 10, 5, 6, 6, 2, 3, 5, 7, 8, 9, 10, 10, 9, 3, 1, 3, 5, 10, 2, 7, 7, 8, 8, 1, 6, 6, 1, 3, 4, 5, 7, 8, 3, 4, 8, 10, 1, 5, 7, 10, 2, 8, 1, 2, 3, 4, 5, 7, 9, 4, 10, 3, 8, 10, 1, 1, 2, 3, 6, 3, 10, 1, 2, 3, 4, 5, 6, 7, 9, 1, 5, 6, 9, 1, 2, 3, 4, 5, 6, 7, 8, 1, 5, 1, 3, 4, 5, 10, 9, 10, 3, 1, 2, 3, 4, 5, 6, 7, 8, 9, 10, 1, 2, 3, 4, 6, 7, 8, 9, 10, 1, 3, 4, 5, 6, 7], \"Freq\": [0.9691781401634216, 0.9090201258659363, 0.06002363562583923, 0.7602993845939636, 0.08670080453157425, 0.06002363562583923, 0.03334646299481392, 0.9408121705055237, 0.6785471439361572, 0.2908059358596802, 0.1187242940068245, 0.7783036828041077, 0.0659579411149025, 0.0395747646689415, 0.9681077599525452, 0.9389531016349792, 0.45303115248680115, 0.5177499055862427, 0.9545370936393738, 0.9783926010131836, 0.9672706723213196, 0.9044858813285828, 0.9816277623176575, 0.8299292922019958, 0.07544811815023422, 0.03772405907511711, 0.07544811815023422, 0.24173197150230408, 0.7251959443092346, 0.0322309285402298, 0.9357581734657288, 0.17508693039417267, 0.7587100267410278, 0.8696020841598511, 0.06374896317720413, 0.924359917640686, 0.11044251173734665, 0.39517712593078613, 0.31752222776412964, 0.08110622316598892, 0.017256641760468483, 0.06212391331791878, 0.015530978329479694, 0.21881982684135437, 0.04002801701426506, 0.40561723709106445, 0.16011206805706024, 0.07205042988061905, 0.07205042988061905, 0.005337068811058998, 0.024016810581088066, 0.2951973080635071, 0.452217161655426, 0.025123175233602524, 0.13189667463302612, 0.047105953097343445, 0.04396555572748184, 0.0031403969042003155, 0.8867207765579224, 0.6487980484962463, 0.07785576581954956, 0.09083172678947449, 0.1427355706691742, 0.05190384387969971, 0.9263371229171753, 0.9367825984954834, 0.9847564101219177, 0.19289152324199677, 0.05143773928284645, 0.14788350462913513, 0.05143773928284645, 0.11573491245508194, 0.09644576162099838, 0.2378995418548584, 0.04500802233815193, 0.0707268938422203, 0.006429717410355806, 0.962284505367279, 0.8899446129798889, 0.0953512117266655, 0.11833598464727402, 0.8283519148826599, 0.6132700443267822, 0.04380500689148903, 0.0657075047492981, 0.28473252058029175, 0.9714622497558594, 0.9240744113922119, 0.9175425171852112, 0.24970589578151703, 0.05350840836763382, 0.6599370241165161, 0.03567226976156235, 0.951202929019928, 0.32307934761047363, 0.12564197182655334, 0.17948852479457855, 0.11666754633188248, 0.03589770570397377, 0.017948852851986885, 0.16153967380523682, 0.053846556693315506, 0.15485656261444092, 0.1905926913022995, 0.5003058314323425, 0.15485656261444092, 0.31599724292755127, 0.39702218770980835, 0.08102493733167648, 0.14584489166736603, 0.05671745538711548, 0.9091839790344238, 0.5261682868003845, 0.07700023800134659, 0.10266698151826859, 0.29516756534576416, 0.9745936393737793, 0.9360833168029785, 0.9406712055206299, 0.9321205615997314, 0.9341529011726379, 0.7171139717102051, 0.018270419910550117, 0.036540839821100235, 0.06851407140493393, 0.12332533299922943, 0.036540839821100235, 0.9435009956359863, 0.3971251845359802, 0.06846985965967178, 0.013693971559405327, 0.2327975183725357, 0.06846985965967178, 0.19171559810638428, 0.027387943118810654, 0.32697048783302307, 0.09616778790950775, 0.5385395884513855, 0.03846711292862892, 0.9283469319343567, 0.9755716323852539, 0.9954411387443542, 0.9730988144874573, 0.08035602420568466, 0.8437381982803345, 0.04017801210284233, 0.04017801210284233, 0.9670135974884033, 0.8795871138572693, 0.975264310836792, 0.7947189211845398, 0.10490935295820236, 0.6177995204925537, 0.10490935295820236, 0.16319233179092407, 0.005828297697007656, 0.15121883153915405, 0.02062075026333332, 0.39179423451423645, 0.06873583048582077, 0.23370182514190674, 0.08935657888650894, 0.04124150052666664, 0.7473793029785156, 0.05678955465555191, 0.6436149477958679, 0.28394779562950134, 0.9062349200248718, 0.9041284918785095, 0.869060754776001, 0.07900552451610565, 0.9673693776130676, 0.9533331990242004, 0.8398138880729675, 0.034853093326091766, 0.3920972943305969, 0.4095238447189331, 0.017426546663045883, 0.13941237330436707, 0.10723355412483215, 0.11438245326280594, 0.4789765477180481, 0.13940361142158508, 0.07148903608322144, 0.03931896761059761, 0.04646787419915199, 0.9706525206565857, 0.02110114134848118, 0.21794521808624268, 0.7264840602874756, 0.8352871537208557, 0.8149144053459167, 0.9685559868812561, 0.04706569388508797, 0.9413138628005981, 0.9340705275535583, 0.9744629263877869, 0.01350674033164978, 0.9724853038787842, 0.8989418148994446, 0.1289137750864029, 0.5908547639846802, 0.1289137750864029, 0.03222844377160072, 0.07519970089197159, 0.03222844377160072, 0.9424805045127869, 0.18901905417442322, 0.21602177619934082, 0.14401452243328094, 0.27902814745903015, 0.15301543474197388, 0.018001815304160118, 0.2613942623138428, 0.28965309262275696, 0.04238826036453247, 0.07064709812402725, 0.09890593588352203, 0.17661774158477783, 0.04945296794176102, 0.2512737512588501, 0.022843068465590477, 0.29695990681648254, 0.4111752510070801, 0.13366231322288513, 0.3611227571964264, 0.24856501817703247, 0.023449528962373734, 0.02110457606613636, 0.10552288591861725, 0.0703485906124115, 0.016414670273661613, 0.0023449528962373734, 0.018759623169898987, 0.8637531399726868, 0.9020155072212219, 0.08200141042470932, 0.8414401412010193, 0.8750994801521301, 0.06763175874948502, 0.29757973551750183, 0.07439493387937546, 0.4396064281463623, 0.013526352122426033, 0.06763175874948502, 0.04057905450463295, 0.11930553615093231, 0.835138738155365, 0.914380669593811, 0.8423514366149902, 0.053667448461055756, 0.845262348651886, 0.053667448461055756, 0.053667448461055756, 0.09243573248386383, 0.005135318264365196, 0.4981258809566498, 0.18487146496772766, 0.08216509222984314, 0.030811911448836327, 0.10784168541431427, 0.96234530210495, 0.9771013259887695, 0.7461161017417908, 0.8498542308807373, 0.2299693375825882, 0.1149846687912941, 0.2759632170200348, 0.3679509460926056, 0.9859164953231812, 0.766079306602478, 0.9228793978691101, 0.5886824727058411, 0.034628380089998245, 0.12119932472705841, 0.1904560923576355, 0.060599662363529205, 0.9822806715965271, 0.9097242951393127, 0.07277794182300568, 0.2568173408508301, 0.10272694379091263, 0.23113562166690826, 0.15409040451049805, 0.2568173408508301, 0.8792663216590881, 0.1432538479566574, 0.21488076448440552, 0.0716269239783287, 0.5730153918266296, 0.9755944013595581, 0.013740765862166882, 0.9729220271110535, 0.9032599925994873, 0.8782448172569275, 0.06324098259210587, 0.13913016021251678, 0.6830026507377625, 0.06324098259210587, 0.05059278756380081, 0.1494152545928955, 0.8217839002609253, 0.9447921514511108, 0.9369074106216431, 0.749068021774292, 0.13911263644695282, 0.010700971819460392, 0.09630874544382095, 0.7458482384681702, 0.9252212643623352, 0.8470860123634338, 0.8937615752220154, 0.9390811324119568, 0.1323697566986084, 0.7942185401916504, 0.9499044418334961, 0.8702889680862427, 0.822026789188385, 0.8352214694023132, 0.3012332022190094, 0.07530830055475235, 0.037654150277376175, 0.4518498182296753, 0.11296245455741882, 0.9672562479972839, 0.11390294879674911, 0.7403692007064819, 0.11390294879674911, 0.8360735774040222, 0.13557949662208557, 0.9193722605705261, 0.9938106536865234, 0.38946089148521423, 0.26925691962242126, 0.2981058657169342, 0.024040795862674713, 0.009616319090127945, 0.9615886807441711, 0.04807943478226662, 0.43465107679367065, 0.057604361325502396, 0.17804984748363495, 0.2723115384578705, 0.04713084176182747, 0.010473520494997501, 0.15369060635566711, 0.0845298320055008, 0.015369059517979622, 0.5379170775413513, 0.06916076689958572, 0.1306370049715042, 0.9338337182998657, 0.8469287753105164, 0.8137351274490356, 0.13906989991664886, 0.8344194293022156, 0.8600595593452454, 0.9751392602920532, 0.944648802280426, 0.9333629608154297, 0.8572252988815308, 0.8632990717887878, 0.993521511554718, 0.9215949773788452, 0.06743377447128296, 0.9934533834457397, 0.9186838865280151, 0.3218964636325836, 0.6437929272651672, 0.2097872644662857, 0.29969608783721924, 0.14984804391860962, 0.3296657204627991, 0.7804384827613831, 0.14189790189266205, 0.3424571752548218, 0.3253343105316162, 0.10273715108633041, 0.2225971668958664, 0.7935726046562195, 0.7461801767349243, 0.9760633707046509, 0.20118333399295807, 0.2892010509967804, 0.00628697918727994, 0.2640531361103058, 0.03143489733338356, 0.20118333399295807, 0.06346394121646881, 0.25385576486587524, 0.09972904622554779, 0.3717173635959625, 0.19945809245109558, 0.08593323826789856, 0.9022989869117737, 0.13786084949970245, 0.8271651268005371, 0.03446521237492561, 0.891754686832428, 0.11519966274499893, 0.8063976168632507, 0.9215058088302612, 0.8586173057556152, 0.8934618234634399, 0.2236136943101883, 0.6091545224189758, 0.08096358180046082, 0.08096358180046082, 0.9280922412872314, 0.9925083518028259, 0.9065759778022766, 0.14552120864391327, 0.8003666400909424, 0.8007721304893494, 0.16486485302448273, 0.12066196650266647, 0.7641924619674683, 0.12066196650266647, 0.1195545643568039, 0.13449887931346893, 0.46327391266822815, 0.26899775862693787, 0.08784521371126175, 0.7404096722602844, 0.13804247975349426, 0.025098633021116257, 0.9460827112197876, 0.1930660903453827, 0.12549296021461487, 0.5405850410461426, 0.04826652258634567, 0.08687973767518997, 0.1666986048221588, 0.7362521886825562, 0.03472887724637985, 0.055566202849149704, 0.9368647336959839, 0.4329477548599243, 0.07640254497528076, 0.4838827848434448, 0.097483329474926, 0.10895195603370667, 0.2465754747390747, 0.46447938680648804, 0.040140192955732346, 0.01146862655878067, 0.02293725311756134, 0.8760783672332764, 0.814848780632019, 0.08355214446783066, 0.1949550062417984, 0.7101932764053345, 0.013925357721745968, 0.3399845361709595, 0.022665636613965034, 0.6346378326416016, 0.24612367153167725, 0.25979721546173096, 0.17775598168373108, 0.18459275364875793, 0.12306183576583862, 0.24053171277046204, 0.18039879202842712, 0.12026585638523102, 0.4509969651699066, 0.43393194675445557, 0.2467987984418869, 0.17357277870178223, 0.005424149334430695, 0.08136224001646042, 0.04881734400987625, 0.01084829866886139, 0.9343142509460449, 0.8870611190795898, 0.9023256897926331, 0.13195019960403442, 0.7257260680198669, 0.13195019960403442, 0.05294247344136238, 0.5067351460456848, 0.36303412914276123, 0.030252842232584953, 0.015126421116292477, 0.022689633071422577, 0.007563210558146238, 0.9263561367988586, 0.17389196157455444, 0.13041897118091583, 0.652094841003418, 0.5490798950195312, 0.3294479250907898, 0.10981597006320953, 0.8452169299125671, 0.9505475759506226, 0.9704460501670837, 0.9425550103187561, 0.7455253005027771, 0.87925785779953, 0.03663574159145355, 0.0732714831829071, 0.8767585754394531, 0.07854564487934113, 0.7069107890129089, 0.11781845986843109, 0.07854564487934113, 0.03927282243967056, 0.8446581959724426, 0.916663408279419, 0.08548697084188461, 0.8434714674949646, 0.06838957965373993, 0.1700158566236496, 0.18810266256332397, 0.09405133128166199, 0.10490340739488602, 0.20618945360183716, 0.13022491335868835, 0.1085207611322403, 0.003617358859628439, 0.16878251731395721, 0.16878251731395721, 0.5907387733459473, 0.056260839104652405, 0.9520758986473083, 0.31070852279663086, 0.1511555016040802, 0.1511555016040802, 0.23513078689575195, 0.050385165959596634, 0.04198763892054558, 0.050385165959596634, 0.00839752797037363, 0.8772554993629456, 0.8801490664482117, 0.963971734046936, 0.024717222899198532, 0.9186285138130188, 0.10323712229728699, 0.04424447938799858, 0.2802150249481201, 0.13273343443870544, 0.3244595229625702, 0.014748159795999527, 0.10323712229728699, 0.8927763104438782, 0.16720908880233765, 0.6019526720046997, 0.14491453766822815, 0.05573635920882225, 0.03344181552529335, 0.960164487361908, 0.8996692895889282, 0.09848011285066605, 0.8863210678100586, 0.927558958530426, 0.9383488893508911, 0.8956204652786255, 0.9692591428756714, 0.9325800538063049, 0.23087431490421295, 0.7585870623588562, 0.23332643508911133, 0.48609673976898193, 0.06805354356765747, 0.09721934795379639, 0.11666321754455566, 0.7816877961158752, 0.08685419708490372, 0.12159587442874908, 0.9468702077865601, 0.9205780625343323, 0.9007620215415955, 0.09272550046443939, 0.06203313544392586, 0.7443976402282715, 0.12406627088785172, 0.9807405471801758, 0.036397404968738556, 0.036397404968738556, 0.7279480695724487, 0.09099350869655609, 0.09099350869655609, 0.2093544751405716, 0.7676330804824829, 0.009969260543584824, 0.009969260543584824, 0.9493618011474609, 0.9451850652694702, 0.9590643644332886, 0.8870260715484619, 0.9221792817115784, 0.041917238384485245, 0.8900563716888428, 0.5785626173019409, 0.16374413669109344, 0.0982464849948883, 0.06549765914678574, 0.08733020722866058, 0.6665396690368652, 0.1269599348306656, 0.012695993296802044, 0.006347996648401022, 0.18409189581871033, 0.8818633556365967, 0.8279559016227722, 0.9286556839942932, 0.9268593192100525, 0.11266586929559708, 0.07511057704687119, 0.7886611223220825, 0.03755528852343559, 0.840160071849823, 0.047617197036743164, 0.24760942161083221, 0.023808598518371582, 0.1380898654460907, 0.03809375688433647, 0.47141024470329285, 0.02857031859457493, 0.959397554397583, 0.8048094511032104, 0.24243955314159393, 0.048487912863492966, 0.6788307428359985, 0.2608405351638794, 0.7303534746170044, 0.978610098361969, 0.8801888823509216, 0.059736818075180054, 0.2240130603313446, 0.2538814842700958, 0.07467102259397507, 0.37335512042045593, 0.014934204518795013, 0.2761939764022827, 0.09864070266485214, 0.5129316449165344, 0.059184420853853226, 0.03945628181099892, 0.25627291202545166, 0.7175641655921936, 0.963729977607727, 0.8783480525016785, 0.01852535642683506, 0.6298621296882629, 0.01852535642683506, 0.11115213483572006, 0.21304160356521606, 0.3275986313819885, 0.45939117670059204, 0.04142051562666893, 0.033889513462781906, 0.13932354748249054, 0.06379346549510956, 0.3189673125743866, 0.012758692726492882, 0.34448468685150146, 0.10206954181194305, 0.025517385452985764, 0.025517385452985764, 0.11482822895050049, 0.9551776647567749, 0.16315676271915436, 0.3263135254383087, 0.13436438143253326, 0.12476693093776703, 0.2303389459848404, 0.009597456082701683, 0.7951751351356506, 0.12751774489879608, 0.49944451451301575, 0.07438535243272781, 0.14877070486545563, 0.13814422488212585, 0.010626479052007198, 0.927506685256958, 0.9559652805328369, 0.428661584854126, 0.18465422093868256, 0.21762819588184357, 0.06594793498516083, 0.019784381613135338, 0.059353142976760864, 0.019784381613135338, 0.18331867456436157, 0.2138717919588089, 0.5805091261863708, 0.3495345115661621, 0.6184071898460388, 0.2278566211462021, 0.025317402556538582, 0.7342046499252319, 0.8936750292778015, 0.0687442347407341, 0.07469368726015091, 0.718926727771759, 0.17739750444889069, 0.009336710907518864, 0.018673421815037727, 0.8556515574455261, 0.09507239609956741, 0.8868157267570496, 0.13639414310455322, 0.8183648586273193, 0.08715330809354782, 0.08715330809354782, 0.784379780292511, 0.9398835301399231, 0.880118727684021, 0.9280922412872314, 0.8894053101539612, 0.03294093906879425, 0.03294093906879425, 0.07536178827285767, 0.728497326374054, 0.17584417760372162, 0.4977927803993225, 0.4817349314689636, 0.08564286679029465, 0.1712857335805893, 0.47103574872016907, 0.13702857494354248, 0.07707857340574265, 0.008564285933971405, 0.05138571932911873, 0.008564285933971405, 0.09536103904247284, 0.6516337394714355, 0.09536103904247284, 0.14304156601428986, 0.9735788106918335, 0.6560505032539368, 0.2397107630968094, 0.088314488530159, 0.38521718978881836, 0.19260859489440918, 0.38521718978881836, 0.21691660583019257, 0.2103433758020401, 0.5192852020263672, 0.04601261392235756, 0.13702470064163208, 0.8221482038497925, 0.09198512881994247, 0.8891895413398743, 0.9507859945297241, 0.09846772998571396, 0.18599459528923035, 0.2844623327255249, 0.40116482973098755, 0.01823476515710354, 0.007293906062841415, 0.21944040060043335, 0.32916060090065, 0.10494975745677948, 0.06201576441526413, 0.14311330020427704, 0.023852217942476273, 0.04293399304151535, 0.07155665010213852, 0.8869242668151855, 0.02931980974972248, 0.0659695714712143, 0.01465990487486124, 0.13419277966022491, 0.8051566481590271, 0.05367710813879967, 0.9220020771026611, 0.06585729122161865, 0.2455866038799286, 0.15991684794425964, 0.18276211619377136, 0.2855658233165741, 0.02855658158659935, 0.08566974103450775, 0.005711316131055355, 0.049125492572784424, 0.9088216423988342, 0.024562746286392212, 0.0869964137673378, 0.6586871147155762, 0.19884894788265228, 0.062140293419361115, 0.9379609227180481, 0.22131752967834473, 0.25219905376434326, 0.18357345461845398, 0.07720379531383514, 0.10980094969272614, 0.10636966675519943, 0.018872037529945374, 0.029165877029299736, 0.9217666983604431, 0.9714527130126953, 0.975629985332489, 0.19799332320690155, 0.6209790706634521, 0.17999392747879028, 0.2092701643705368, 0.3976132869720459, 0.02092701569199562, 0.1046350821852684, 0.08370806276798248, 0.1883431375026703, 0.07972786575555801, 0.877006471157074, 0.8162744641304016, 0.1603396236896515, 0.21726471185684204, 0.5648882389068604, 0.07821529358625412, 0.07821529358625412, 0.05214352905750275, 0.9436033964157104, 0.8416029810905457, 0.07650935649871826, 0.859582781791687, 0.955130398273468, 0.9139084815979004, 0.11970476061105728, 0.8379333019256592, 0.2493666559457779, 0.7480999827384949, 0.010116512887179852, 0.8599035739898682, 0.08093210309743881, 0.05058256536722183, 0.907436728477478, 0.9680861830711365, 0.8955919742584229, 0.16943897306919098, 0.09682226926088333, 0.16943897306919098, 0.07261670380830765, 0.060513921082019806, 0.33887794613838196, 0.036308351904153824, 0.060513921082019806, 0.2710103392601013, 0.23405438661575317, 0.02463730424642563, 0.23405438661575317, 0.012318652123212814, 0.02463730424642563, 0.20941708981990814, 0.11846531927585602, 0.8748208284378052, 0.9615659117698669, 0.8503395915031433, 0.14447373151779175, 0.7946054935455322, 0.9040929675102234, 0.34775295853614807, 0.2729860842227936, 0.14431747794151306, 0.019126413390040398, 0.053901709616184235, 0.13214612007141113, 0.008693823590874672, 0.019126413390040398, 0.0034775296226143837, 0.40164807438850403, 0.2677653729915619, 0.007437927182763815, 0.05950341746211052, 0.05950341746211052, 0.007437927182763815, 0.09669305384159088, 0.08925512433052063, 0.007437927182763815, 0.30996033549308777, 0.6819127798080444, 0.9404866099357605, 0.4387684464454651, 0.16052503883838654, 0.010701669380068779, 0.042806677520275116, 0.2889450788497925, 0.042806677520275116, 0.8399327993392944, 0.9783003926277161, 0.9816166758537292, 0.8691740036010742, 0.9073659181594849, 0.07201316952705383, 0.014402633532881737, 0.201572984457016, 0.7391009330749512, 0.8867043852806091, 0.9224424958229065, 0.9345590472221375, 0.9342900514602661, 0.16681626439094543, 0.07057610899209976, 0.4170406460762024, 0.10265615582466125, 0.10907217115163803, 0.025664038956165314, 0.057744089514017105, 0.05132807791233063, 0.9310247898101807, 0.11755524575710297, 0.32327693700790405, 0.5583873987197876, 0.8947959542274475, 0.063913993537426, 0.9559458494186401, 0.34898316860198975, 0.2617373764514923, 0.06543434411287308, 0.23992592096328735, 0.07634006440639496, 0.9809907674789429, 0.1555776298046112, 0.6282942891120911, 0.06582130491733551, 0.05385379493236542, 0.04787003993988037, 0.01795126497745514, 0.03590252995491028, 0.24034720659255981, 0.5451778173446655, 0.01758638024330139, 0.03517276048660278, 0.15827742218971252, 0.12211991846561432, 0.20353320240974426, 0.4884796738624573, 0.12211991846561432, 0.04070663824677467, 0.08023836463689804, 0.22734202444553375, 0.09361142665147781, 0.12035754323005676, 0.04011918231844902, 0.42793792486190796, 0.7582433223724365, 0.09098919481039047, 0.045494597405195236, 0.0758243277668953, 0.8047759532928467, 0.012746633030474186, 0.4716254472732544, 0.1147197037935257, 0.07647980004549026, 0.28042593598365784, 0.03823990002274513, 0.9404223561286926, 0.12348820269107819, 0.4464573264122009, 0.028497276827692986, 0.01899818517267704, 0.05699455365538597, 0.18048276007175446, 0.05699455365538597, 0.07599274069070816, 0.12788762152194977, 0.15630710124969482, 0.26998499035835266, 0.04262920841574669, 0.2984044551849365, 0.07104868441820145, 0.01420973613858223, 0.8797036409378052, 0.9633179903030396, 0.053291790187358856, 0.7460851073265076, 0.15987537801265717, 0.8634277582168579, 0.07195231318473816, 0.7153679132461548, 0.0280536450445652, 0.23845598101615906, 0.7008457779884338, 0.17521144449710846, 0.11149819195270538, 0.8767226934432983, 0.09256691485643387, 0.09256691485643387, 0.78681880235672, 0.9028173685073853, 0.9028340578079224, 0.08230456709861755, 0.8230456709861755, 0.027434855699539185, 0.05486971139907837, 0.9754853248596191, 0.9347015619277954, 0.04063919931650162, 0.6948404908180237, 0.17867326736450195, 0.019852586090564728, 0.07941034436225891, 0.15145441889762878, 0.07572720944881439, 0.7572720646858215, 0.9552083611488342, 0.0415307991206646, 0.42227035760879517, 0.2732337713241577, 0.03725915029644966, 0.024839432910084724, 0.12419716268777847, 0.11177744716405869, 0.8177632093429565, 0.0563974604010582, 0.0563974604010582, 0.0563974604010582, 0.7006527185440063, 0.08650033921003342, 0.06055023893713951, 0.12110047787427902, 0.025950102135539055, 0.9066775441169739, 0.945844829082489, 0.9825316667556763, 0.06868630647659302, 0.915817379951477, 0.04822785034775734, 0.04822785034775734, 0.6751899123191833, 0.19291140139102936, 0.9606088399887085, 0.8990027904510498, 0.8955270051956177, 0.0778719112277031, 0.9422094225883484, 0.9440171122550964, 0.07533179223537445, 0.7231851816177368, 0.1807962954044342, 0.015066358260810375, 0.25642824172973633, 0.042738042771816254, 0.5983325839042664, 0.025642825290560722, 0.06838086992502213, 0.008547608740627766, 0.9339359402656555, 0.3495471477508545, 0.04993530362844467, 0.5492883324623108, 0.8050516247749329, 0.7457876205444336, 0.9809770584106445, 0.903473973274231, 0.11188355833292007, 0.08790851384401321, 0.11987524479627609, 0.11188355833292007, 0.4555259346961975, 0.06393346190452576, 0.03196673095226288, 0.19733263552188873, 0.39466527104377747, 0.37273943424224854, 0.03288877382874489, 0.9494758248329163, 0.09748320281505585, 0.877348780632019, 0.9385324120521545, 0.9526165723800659, 0.9733326435089111, 0.1145709976553917, 0.8019970059394836, 0.9400110840797424, 0.13761276006698608, 0.38531574606895447, 0.4403608441352844, 0.12798796594142914, 0.7679277658462524, 0.9096869230270386, 0.9401458501815796, 0.8556832671165466, 0.055563848465681076, 0.08890216052532196, 0.991127610206604, 0.9552483558654785, 0.3529958724975586, 0.12983755767345428, 0.08114847540855408, 0.31242161989212036, 0.016229694709181786, 0.08114847540855408, 0.024344542995095253, 0.10748817026615143, 0.45682471990585327, 0.24184837937355042, 0.1881043016910553, 0.9174609184265137, 0.8963385224342346, 0.8489713072776794, 0.856030285358429, 0.07552991062402725, 0.8119465112686157, 0.07552991062402725, 0.018882477656006813, 0.10215593129396439, 0.8172474503517151, 0.9269498586654663, 0.9365126490592957, 0.28944236040115356, 0.18090146780014038, 0.036180295050144196, 0.47034382820129395, 0.8396936655044556, 0.0825386643409729, 0.061903998255729675, 0.12380799651145935, 0.4333280026912689, 0.22698132693767548, 0.0825386643409729, 0.8562947511672974, 0.12232782691717148, 0.904011607170105, 0.9066256284713745, 0.8361688256263733, 0.10452110320329666, 0.6658654808998108, 0.12388195097446442, 0.023227866739034653, 0.05419835448265076, 0.06194097548723221, 0.06968359649181366, 0.9685052633285522, 0.9428132772445679, 0.9598202109336853, 0.026910847052931786, 0.49668240547180176, 0.1354588270187378, 0.1580353081226349, 0.1806117743253708, 0.8362059593200684, 0.038009364157915115, 0.11402808874845505, 0.7160899043083191, 0.12787319719791412, 0.15344783663749695, 0.810981035232544, 0.009890012443065643, 0.009890012443065643, 0.009890012443065643, 0.1582401990890503, 0.8598275184631348, 0.9228527545928955, 0.03706907480955124, 0.9267268180847168, 0.968896210193634, 0.04096033424139023, 0.1638413369655609, 0.573444664478302, 0.22528183460235596, 0.9429148435592651, 0.19944745302200317, 0.01662062108516693, 0.3822742998600006, 0.11634434759616852, 0.2160680741071701, 0.06648248434066772, 0.04336012899875641, 0.274614155292511, 0.44082796573638916, 0.007226687856018543, 0.13008038699626923, 0.014453375712037086, 0.08672025799751282, 0.08743099868297577, 0.23468321561813354, 0.0690244734287262, 0.36813053488731384, 0.04601631686091423, 0.03221142292022705, 0.12424405664205551, 0.03221142292022705, 0.019594896584749222, 0.039189793169498444, 0.8229856491088867, 0.07837958633899689, 0.039189793169498444, 0.25760847330093384, 0.04293474555015564, 0.08586949110031128, 0.601086437702179, 0.08956710994243622, 0.029855703935027122, 0.1642063707113266, 0.6717533469200134, 0.029855703935027122, 0.13534879684448242, 0.8120927810668945, 0.11534832417964935, 0.14006581902503967, 0.44491496682167053, 0.24717497825622559, 0.02471749857068062, 0.01647833175957203, 0.13446751236915588, 0.8292163610458374, 0.022411253303289413, 0.9843641519546509, 0.9268378615379333, 0.2884165942668915, 0.0961388647556305, 0.576833188533783, 0.8320121169090271, 0.13866868615150452, 0.825702428817749, 0.09174471348524094, 0.9760984778404236, 0.9685922265052795, 0.12936298549175262, 0.13415421545505524, 0.08145077526569366, 0.20602254569530487, 0.1245717704296112, 0.14852787554264069, 0.07665955275297165, 0.07186833024024963, 0.028747331351041794, 0.016614077612757683, 0.2658252418041229, 0.08307038992643356, 0.4651941955089569, 0.06645631045103073, 0.0996844694018364, 0.3679196536540985, 0.44574880599975586, 0.007075378205627203, 0.0707537829875946, 0.049527645111083984, 0.007075378205627203, 0.028301512822508812, 0.02122613415122032, 0.4092865586280823, 0.10611133277416229, 0.26275187730789185, 0.21727557480335236, 0.5887075066566467, 0.05887075141072273, 0.05887075141072273, 0.29435375332832336, 0.9036269783973694, 0.1881391704082489, 0.7995914816856384, 0.9750131964683533, 0.9498872756958008, 0.8472326993942261, 0.8664591908454895, 0.9485258460044861, 0.899983286857605, 0.07499860972166061, 0.9765692353248596, 0.945823609828949, 0.13140463829040527, 0.1971069574356079, 0.15330541133880615, 0.5037177801132202, 0.09215482324361801, 0.46077409386634827, 0.030718272551894188, 0.3993375599384308, 0.8703390955924988, 0.24507932364940643, 0.040846552699804306, 0.7216224074363708, 0.3160262405872345, 0.04861941933631897, 0.09723883867263794, 0.510503888130188, 0.04861941933631897, 0.13571836054325104, 0.32233110070228577, 0.44108468294143677, 0.08482397347688675, 0.20640145242214203, 0.0750550776720047, 0.637968122959137, 0.056291308254003525, 0.07625043392181396, 0.07625043392181396, 0.8006295561790466, 0.3810691237449646, 0.043664172291755676, 0.25404608249664307, 0.08732834458351135, 0.08335887640714645, 0.03175576031208038, 0.05557258054614067, 0.011908410117030144, 0.01984735019505024, 0.03175576031208038, 0.8049512505531311, 0.9543028473854065, 0.2591606080532074, 0.019437044858932495, 0.24620255827903748, 0.14253832399845123, 0.1490173488855362, 0.08422719687223434, 0.06479015201330185, 0.045353103429079056, 0.15737339854240417, 0.8262103796005249, 0.13813082873821259, 0.5477601885795593, 0.10955203324556351, 0.10478890687227249, 0.05715758353471756, 0.03810505568981171, 0.9098904132843018, 0.2114298939704895, 0.7047663331031799, 0.9215503334999084, 0.07076626271009445, 0.9199613928794861, 0.9751579761505127, 0.9106776118278503, 0.9723930358886719, 0.8711669445037842, 0.8933790326118469, 0.11167237907648087, 0.8855177164077759, 0.07084141671657562, 0.32517209649086, 0.029561100527644157, 0.5912220478057861, 0.059122201055288315, 0.938324511051178, 0.9296802282333374, 0.9306272268295288, 0.9813724160194397, 0.9090632200241089, 0.4438687860965729, 0.3014957904815674, 0.24287159740924835, 0.04456033930182457, 0.1591440737247467, 0.09548643976449966, 0.5792844295501709, 0.04456033930182457, 0.05729186534881592, 0.019097289070487022, 0.9470793008804321, 0.9268999695777893, 0.8353545665740967, 0.35352110862731934, 0.17676055431365967, 0.035352110862731934, 0.09427229315042496, 0.08248825371265411, 0.11784036457538605, 0.14140844345092773, 0.8153727054595947, 0.7458788752555847, 0.9212477803230286, 0.06509900838136673, 0.9113860726356506, 0.12391331046819687, 0.74347984790802, 0.9281370043754578, 0.847798228263855, 0.8576485514640808, 0.0952942818403244, 0.9340102076530457, 0.8211234211921692, 0.15892711281776428, 0.8220003247261047, 0.1685057282447815, 0.38756316900253296, 0.05055171623826027, 0.10952872037887573, 0.25275859236717224, 0.042126432061195374, 0.35896801948547363, 0.5982800126075745, 0.042734287679195404, 0.8951548337936401, 0.33977842330932617, 0.12355579435825348, 0.27800053358078003, 0.27800053358078003, 0.9029431939125061, 0.07321161031723022, 0.5836563110351562, 0.018431251868605614, 0.05529375374317169, 0.08601250499486923, 0.2027437686920166, 0.0491500049829483, 0.006143750622868538, 0.20014789700508118, 0.8005915880203247, 0.16942241787910461, 0.6160814762115479, 0.215628519654274, 0.9956453442573547, 0.07762280851602554, 0.0905599445104599, 0.6468567252159119, 0.16818276047706604, 0.9209774732589722, 0.07674812525510788, 0.5033029913902283, 0.03321288898587227, 0.17117412388324738, 0.04087740182876587, 0.1149676963686943, 0.0689806193113327, 0.06387094408273697, 0.002554837614297867, 0.5019265413284302, 0.06604296714067459, 0.22454608976840973, 0.19812889397144318, 0.4503319263458252, 0.0375276617705822, 0.043782271444797516, 0.10632837563753128, 0.06880071014165878, 0.21265675127506256, 0.012509220279753208, 0.06880071014165878, 0.9421630501747131, 0.04958752915263176, 0.05548364296555519, 0.23687247931957245, 0.6594017744064331, 0.004267972428351641, 0.04267972707748413, 0.8510315418243408, 0.12157592922449112, 0.8497680425643921, 0.37621256709098816, 0.07700257003307343, 0.12320411205291748, 0.024200808256864548, 0.09900330752134323, 0.16060537099838257, 0.02640088088810444, 0.019800661131739616, 0.046201542019844055, 0.048401616513729095, 0.33798837661743164, 0.08906450122594833, 0.23522163927555084, 0.052525218576192856, 0.12103637307882309, 0.013702231459319592, 0.06851115822792053, 0.07764597982168198, 0.004567410331219435, 0.30074867606163025, 0.015828877687454224, 0.0633155107498169, 0.37989306449890137, 0.015828877687454224, 0.2057754099369049], \"Term\": [\"accounts\", \"acres\", \"act\", \"act\", \"act\", \"act\", \"act\", \"acts\", \"actually\", \"actually\", \"administration\", \"administration\", \"administration\", \"administration\", \"adults\", \"advances\", \"affordable\", \"affordable\", \"afghanistan\", \"africa\", \"agencies\", \"ages\", \"aggression\", \"agree\", \"agree\", \"agree\", \"agree\", \"agreement\", \"agreement\", \"agreement\", \"agriculture\", \"aids\", \"aids\", \"aisle\", \"allies\", \"allies\", \"america\", \"america\", \"america\", \"america\", \"america\", \"america\", \"america\", \"american\", \"american\", \"american\", \"american\", \"american\", \"american\", \"american\", \"american\", \"americans\", \"americans\", \"americans\", \"americans\", \"americans\", \"americans\", \"americans\", \"approve\", \"areas\", \"areas\", \"areas\", \"areas\", \"areas\", \"arsenals\", \"arts\", \"asia\", \"ask\", \"ask\", \"ask\", \"ask\", \"ask\", \"ask\", \"ask\", \"ask\", \"ask\", \"ask\", \"assault\", \"assure\", \"assure\", \"baby\", \"baby\", \"balance\", \"balance\", \"balance\", \"balance\", \"ban\", \"barrels\", \"basics\", \"begin\", \"begin\", \"begin\", \"begin\", \"begins\", \"better\", \"better\", \"better\", \"better\", \"better\", \"better\", \"better\", \"better\", \"bill\", \"bill\", \"bill\", \"bill\", \"billion\", \"billion\", \"billion\", \"billion\", \"billion\", \"biological\", \"bipartisan\", \"bipartisan\", \"bipartisan\", \"bipartisan\", \"bless\", \"bosnia\", \"brady\", \"brave\", \"bridge\", \"budget\", \"budget\", \"budget\", \"budget\", \"budget\", \"budget\", \"bureaucratic\", \"business\", \"business\", \"business\", \"business\", \"business\", \"business\", \"business\", \"businesses\", \"businesses\", \"businesses\", \"businesses\", \"buying\", \"cancer\", \"care\", \"caribbean\", \"carry\", \"carry\", \"carry\", \"carry\", \"cars\", \"celebrate\", \"central\", \"cents\", \"century\", \"century\", \"century\", \"century\", \"century\", \"challenge\", \"challenge\", \"challenge\", \"challenge\", \"challenge\", \"challenge\", \"challenge\", \"challenged\", \"challenges\", \"challenges\", \"challenges\", \"changed\", \"character\", \"charter\", \"charter\", \"checks\", \"chemical\", \"chicago\", \"child\", \"child\", \"child\", \"child\", \"child\", \"children\", \"children\", \"children\", \"children\", \"children\", \"children\", \"children\", \"china\", \"china\", \"church\", \"church\", \"cigarettes\", \"classes\", \"classroom\", \"clean\", \"clean\", \"cleaner\", \"coal\", \"college\", \"college\", \"colombia\", \"come\", \"come\", \"come\", \"come\", \"come\", \"come\", \"communism\", \"communities\", \"communities\", \"communities\", \"communities\", \"communities\", \"communities\", \"community\", \"community\", \"community\", \"community\", \"community\", \"community\", \"community\", \"comprehensive\", \"comprehensive\", \"comprehensive\", \"comprehensive\", \"congress\", \"congress\", \"congress\", \"congress\", \"congress\", \"congress\", \"congress\", \"congress\", \"congress\", \"congress\", \"connect\", \"conservation\", \"conservation\", \"consistent\", \"continent\", \"continue\", \"continue\", \"continue\", \"continue\", \"continue\", \"continue\", \"continue\", \"controls\", \"controls\", \"convention\", \"counter\", \"countries\", \"countries\", \"countries\", \"countries\", \"country\", \"country\", \"country\", \"country\", \"country\", \"country\", \"country\", \"covenant\", \"coverage\", \"crack\", \"creativity\", \"credit\", \"credit\", \"credit\", \"credit\", \"crime\", \"crop\", \"cultures\", \"cut\", \"cut\", \"cut\", \"cut\", \"cut\", \"cuts\", \"debt\", \"debt\", \"decade\", \"decade\", \"decade\", \"decade\", \"decade\", \"deduction\", \"defend\", \"defend\", \"defend\", \"defend\", \"deficit\", \"deficit\", \"deficits\", \"demanding\", \"demands\", \"democracy\", \"democracy\", \"democracy\", \"democracy\", \"democracy\", \"democrats\", \"democrats\", \"deregulation\", \"destroying\", \"development\", \"development\", \"development\", \"development\", \"dime\", \"disadvantaged\", \"discovery\", \"diseases\", \"distinguished\", \"district\", \"district\", \"districts\", \"divide\", \"doctors\", \"dole\", \"dollars\", \"dollars\", \"dollars\", \"dollars\", \"dollars\", \"doors\", \"drug\", \"drug\", \"drug\", \"drugs\", \"drugs\", \"earn\", \"east\", \"economic\", \"economic\", \"economic\", \"economic\", \"economic\", \"economies\", \"economies\", \"economy\", \"economy\", \"economy\", \"economy\", \"economy\", \"economy\", \"education\", \"education\", \"education\", \"education\", \"education\", \"education\", \"educators\", \"eighth\", \"eitc\", \"eligible\", \"eligible\", \"emerging\", \"employment\", \"empower\", \"empowerment\", \"enabling\", \"enemy\", \"energy\", \"established\", \"established\", \"europe\", \"evening\", \"events\", \"events\", \"example\", \"example\", \"example\", \"example\", \"excellence\", \"excellence\", \"expand\", \"expand\", \"expand\", \"expand\", \"expands\", \"extends\", \"facilities\", \"families\", \"families\", \"families\", \"families\", \"families\", \"families\", \"family\", \"family\", \"family\", \"family\", \"family\", \"farm\", \"farm\", \"farmers\", \"farmers\", \"farmers\", \"fast\", \"faster\", \"faster\", \"fathers\", \"favors\", \"fears\", \"federal\", \"federal\", \"federal\", \"federal\", \"feingold\", \"fellow\", \"fifth\", \"finance\", \"finance\", \"financial\", \"financial\", \"food\", \"food\", \"food\", \"force\", \"force\", \"force\", \"force\", \"foreign\", \"foreign\", \"foreign\", \"foreign\", \"founders\", \"free\", \"free\", \"free\", \"free\", \"free\", \"freedom\", \"freedom\", \"freedom\", \"freedom\", \"fueled\", \"fund\", \"fund\", \"fund\", \"future\", \"future\", \"future\", \"future\", \"future\", \"future\", \"future\", \"futures\", \"genes\", \"global\", \"global\", \"global\", \"global\", \"god\", \"god\", \"god\", \"good\", \"good\", \"good\", \"good\", \"good\", \"got\", \"got\", \"got\", \"got\", \"government\", \"government\", \"government\", \"government\", \"government\", \"government\", \"government\", \"grade\", \"graders\", \"grades\", \"grants\", \"grants\", \"grants\", \"great\", \"great\", \"great\", \"great\", \"great\", \"great\", \"great\", \"gross\", \"grow\", \"grow\", \"grow\", \"growth\", \"growth\", \"growth\", \"guarantees\", \"guests\", \"gun\", \"guns\", \"habitat\", \"half\", \"half\", \"half\", \"handguns\", \"hands\", \"hands\", \"hands\", \"hands\", \"hands\", \"hazardous\", \"head\", \"health\", \"health\", \"health\", \"help\", \"help\", \"help\", \"help\", \"help\", \"help\", \"help\", \"help\", \"helping\", \"helping\", \"helping\", \"helping\", \"hemisphere\", \"high\", \"high\", \"high\", \"high\", \"high\", \"high\", \"high\", \"high\", \"hillary\", \"hiring\", \"honor\", \"honor\", \"hospital\", \"house\", \"house\", \"house\", \"house\", \"house\", \"house\", \"house\", \"houses\", \"human\", \"human\", \"human\", \"human\", \"human\", \"humanities\", \"hussein\", \"ideals\", \"ideals\", \"identity\", \"illinois\", \"illness\", \"immigrants\", \"imports\", \"income\", \"income\", \"increase\", \"increase\", \"increase\", \"increase\", \"increase\", \"increased\", \"increased\", \"increased\", \"india\", \"infants\", \"inflation\", \"inflation\", \"inner\", \"inner\", \"inner\", \"insurance\", \"interests\", \"interests\", \"interests\", \"interests\", \"interests\", \"international\", \"international\", \"international\", \"international\", \"internet\", \"investing\", \"iran\", \"iras\", \"israel\", \"israel\", \"jack\", \"job\", \"job\", \"job\", \"job\", \"job\", \"jobs\", \"jobs\", \"jobs\", \"jobs\", \"jobs\", \"journey\", \"junior\", \"keeps\", \"kill\", \"kind\", \"kind\", \"kind\", \"kind\", \"kinds\", \"know\", \"know\", \"know\", \"know\", \"know\", \"know\", \"know\", \"korea\", \"kristen\", \"labor\", \"labor\", \"labor\", \"lady\", \"lady\", \"latin\", \"launching\", \"law\", \"law\", \"law\", \"law\", \"law\", \"law\", \"laws\", \"laws\", \"laws\", \"laws\", \"laws\", \"learn\", \"learn\", \"learning\", \"legal\", \"legislation\", \"legislation\", \"legislation\", \"legislation\", \"legislation\", \"let\", \"let\", \"let\", \"let\", \"let\", \"life\", \"life\", \"life\", \"life\", \"life\", \"life\", \"life\", \"life\", \"lift\", \"like\", \"like\", \"like\", \"like\", \"like\", \"like\", \"listening\", \"lives\", \"lives\", \"lives\", \"lives\", \"lives\", \"lives\", \"lobby\", \"lobbyists\", \"long\", \"long\", \"long\", \"long\", \"long\", \"long\", \"long\", \"lose\", \"lose\", \"lose\", \"lot\", \"lot\", \"low\", \"low\", \"low\", \"lowest\", \"lowest\", \"major\", \"major\", \"major\", \"major\", \"major\", \"makes\", \"makes\", \"marketing\", \"marriage\", \"marriage\", \"materials\", \"materials\", \"materials\", \"math\", \"mccaffrey\", \"mccain\", \"measures\", \"measures\", \"measures\", \"medical\", \"medical\", \"medical\", \"medicare\", \"medicare\", \"meet\", \"meet\", \"meet\", \"meet\", \"meet\", \"meet\", \"meet\", \"meet\", \"members\", \"members\", \"members\", \"members\", \"men\", \"middle\", \"middle\", \"middle\", \"millennium\", \"millennium\", \"millennium\", \"million\", \"million\", \"million\", \"million\", \"missiles\", \"missiles\", \"moment\", \"moment\", \"monetary\", \"nation\", \"nation\", \"nation\", \"nation\", \"nation\", \"nation\", \"national\", \"national\", \"national\", \"national\", \"national\", \"national\", \"national\", \"national\", \"nations\", \"nations\", \"nations\", \"nations\", \"nato\", \"nato\", \"nato\", \"natural\", \"natural\", \"need\", \"need\", \"need\", \"need\", \"need\", \"need\", \"need\", \"needed\", \"needed\", \"needed\", \"needs\", \"needs\", \"needs\", \"needs\", \"network\", \"new\", \"new\", \"new\", \"new\", \"new\", \"new\", \"new\", \"new\", \"nicaragua\", \"north\", \"northern\", \"nuclear\", \"nuclear\", \"nuclear\", \"number\", \"number\", \"number\", \"number\", \"number\", \"number\", \"officers\", \"officers\", \"oil\", \"oil\", \"opportunity\", \"opportunity\", \"opportunity\", \"opportunity\", \"opportunity\", \"ordinary\", \"organizations\", \"organizations\", \"outer\", \"outlaw\", \"pakistan\", \"panama\", \"panama\", \"parent\", \"parent\", \"parents\", \"parents\", \"parents\", \"parents\", \"parks\", \"partners\", \"partnerships\", \"pass\", \"pass\", \"pass\", \"pass\", \"pass\", \"pass\", \"pass\", \"pass\", \"pay\", \"pay\", \"pay\", \"pay\", \"pay\", \"pay\", \"pay\", \"peace\", \"peace\", \"peaceful\", \"pell\", \"pension\", \"pension\", \"pensions\", \"people\", \"people\", \"people\", \"people\", \"people\", \"people\", \"people\", \"people\", \"people\", \"percent\", \"percent\", \"percent\", \"percent\", \"percent\", \"percent\", \"percent\", \"percent\", \"percent\", \"perfect\", \"perfect\", \"persian\", \"plan\", \"plan\", \"plan\", \"plan\", \"plan\", \"plan\", \"planet\", \"pledge\", \"police\", \"policing\", \"policy\", \"policy\", \"policy\", \"politics\", \"politics\", \"polluters\", \"possibilities\", \"pregnancy\", \"prescription\", \"president\", \"president\", \"president\", \"president\", \"president\", \"president\", \"president\", \"president\", \"pressures\", \"prices\", \"prices\", \"prices\", \"pride\", \"pride\", \"privacy\", \"private\", \"private\", \"private\", \"private\", \"private\", \"production\", \"program\", \"program\", \"program\", \"program\", \"program\", \"program\", \"program\", \"programs\", \"programs\", \"programs\", \"programs\", \"programs\", \"proposal\", \"proposal\", \"proposal\", \"proposal\", \"proposal\", \"propose\", \"propose\", \"propose\", \"propose\", \"propose\", \"propose\", \"proposed\", \"proposed\", \"proposed\", \"proposed\", \"prosecutors\", \"protect\", \"protect\", \"protect\", \"protect\", \"protect\", \"protect\", \"protections\", \"provide\", \"provide\", \"provide\", \"provide\", \"provide\", \"provide\", \"provide\", \"provide\", \"public\", \"public\", \"public\", \"public\", \"public\", \"public\", \"public\", \"punish\", \"pursue\", \"quarter\", \"quarter\", \"quarter\", \"range\", \"range\", \"rate\", \"rate\", \"rate\", \"rates\", \"rates\", \"rates\", \"ratification\", \"read\", \"read\", \"read\", \"readiness\", \"reading\", \"ready\", \"ready\", \"ready\", \"ready\", \"recession\", \"recommendations\", \"recommendations\", \"record\", \"record\", \"record\", \"record\", \"records\", \"records\", \"records\", \"recovery\", \"recovery\", \"reduce\", \"reduce\", \"reduce\", \"reduce\", \"reduce\", \"reduce\", \"reduction\", \"reduction\", \"reduction\", \"reduction\", \"reform\", \"reform\", \"reform\", \"reform\", \"reform\", \"refugee\", \"regional\", \"regulatory\", \"relations\", \"relations\", \"relief\", \"relief\", \"relief\", \"relief\", \"remarkable\", \"remembered\", \"renew\", \"renew\", \"renewed\", \"resource\", \"resources\", \"resources\", \"resources\", \"resources\", \"responsibility\", \"responsibility\", \"responsibility\", \"responsibility\", \"responsibility\", \"responsibility\", \"retire\", \"retirement\", \"retirement\", \"retirement\", \"reverend\", \"reversed\", \"review\", \"rewards\", \"right\", \"right\", \"right\", \"right\", \"right\", \"right\", \"right\", \"rights\", \"rights\", \"rights\", \"rights\", \"rolls\", \"room\", \"room\", \"root\", \"row\", \"russia\", \"russian\", \"russian\", \"safest\", \"savings\", \"savings\", \"savings\", \"says\", \"says\", \"scholarship\", \"scholarships\", \"school\", \"school\", \"school\", \"schools\", \"scientists\", \"security\", \"security\", \"security\", \"security\", \"security\", \"security\", \"security\", \"senate\", \"senate\", \"senate\", \"senate\", \"senior\", \"seniors\", \"sensible\", \"sergeant\", \"services\", \"services\", \"services\", \"services\", \"shouldn\", \"shouldn\", \"shrinking\", \"sick\", \"simple\", \"simple\", \"simple\", \"simple\", \"skill\", \"small\", \"small\", \"small\", \"small\", \"small\", \"small\", \"smaller\", \"smaller\", \"smart\", \"smarter\", \"smoking\", \"smoking\", \"social\", \"social\", \"social\", \"social\", \"social\", \"social\", \"solar\", \"south\", \"soviet\", \"soviet\", \"space\", \"space\", \"space\", \"space\", \"speak\", \"speak\", \"speak\", \"speaker\", \"speaker\", \"speaker\", \"spending\", \"spending\", \"spending\", \"spending\", \"spending\", \"spreading\", \"stabilize\", \"stable\", \"stable\", \"stake\", \"standards\", \"standards\", \"standards\", \"standards\", \"star\", \"start\", \"start\", \"start\", \"start\", \"start\", \"start\", \"state\", \"state\", \"state\", \"state\", \"state\", \"state\", \"state\", \"states\", \"states\", \"states\", \"states\", \"states\", \"states\", \"states\", \"states\", \"strategic\", \"strategic\", \"strategic\", \"strategic\", \"strategic\", \"streets\", \"streets\", \"streets\", \"streets\", \"strength\", \"strength\", \"strength\", \"strength\", \"strength\", \"strike\", \"strike\", \"strong\", \"strong\", \"strong\", \"strong\", \"strong\", \"strong\", \"stronger\", \"stronger\", \"stronger\", \"students\", \"subjects\", \"succeed\", \"succeed\", \"succeed\", \"summer\", \"summer\", \"sun\", \"sun\", \"supplies\", \"supply\", \"support\", \"support\", \"support\", \"support\", \"support\", \"support\", \"support\", \"support\", \"support\", \"sure\", \"sure\", \"sure\", \"sure\", \"sure\", \"sure\", \"system\", \"system\", \"system\", \"system\", \"system\", \"system\", \"system\", \"system\", \"tax\", \"tax\", \"tax\", \"tax\", \"taxes\", \"taxes\", \"taxes\", \"taxes\", \"taxpayer\", \"teach\", \"teach\", \"teachers\", \"teaching\", \"team\", \"tech\", \"technical\", \"technologies\", \"technologies\", \"teen\", \"television\", \"tell\", \"tell\", \"tell\", \"tell\", \"test\", \"test\", \"test\", \"test\", \"texas\", \"thank\", \"thank\", \"thank\", \"thing\", \"thing\", \"thing\", \"thing\", \"thing\", \"things\", \"things\", \"things\", \"things\", \"think\", \"think\", \"think\", \"think\", \"thousand\", \"thousand\", \"thousand\", \"time\", \"time\", \"time\", \"time\", \"time\", \"time\", \"time\", \"time\", \"time\", \"time\", \"tipper\", \"tobacco\", \"today\", \"today\", \"today\", \"today\", \"today\", \"today\", \"today\", \"today\", \"tomorrow\", \"tomorrow\", \"tonight\", \"tonight\", \"tonight\", \"tonight\", \"tonight\", \"tonight\", \"town\", \"toxic\", \"toxic\", \"track\", \"trade\", \"trade\", \"transportation\", \"treaties\", \"treaty\", \"trillion\", \"troops\", \"troops\", \"true\", \"true\", \"trust\", \"trust\", \"trust\", \"trust\", \"try\", \"tuition\", \"unemployed\", \"unemployment\", \"uniform\", \"union\", \"union\", \"union\", \"united\", \"united\", \"united\", \"united\", \"united\", \"united\", \"united\", \"universities\", \"unwise\", \"usa\", \"use\", \"use\", \"use\", \"use\", \"use\", \"use\", \"use\", \"usual\", \"vacancies\", \"veteran\", \"veto\", \"veto\", \"visit\", \"visit\", \"visited\", \"voices\", \"voted\", \"voted\", \"vouchers\", \"wage\", \"wage\", \"wall\", \"want\", \"want\", \"want\", \"want\", \"want\", \"want\", \"war\", \"war\", \"war\", \"warheads\", \"washington\", \"washington\", \"washington\", \"washington\", \"water\", \"water\", \"way\", \"way\", \"way\", \"way\", \"way\", \"way\", \"way\", \"wealth\", \"wealth\", \"weapons\", \"weapons\", \"weapons\", \"welfare\", \"women\", \"women\", \"women\", \"women\", \"word\", \"word\", \"work\", \"work\", \"work\", \"work\", \"work\", \"work\", \"work\", \"work\", \"workers\", \"workers\", \"workers\", \"workers\", \"working\", \"working\", \"working\", \"working\", \"working\", \"working\", \"working\", \"working\", \"works\", \"works\", \"world\", \"world\", \"world\", \"world\", \"world\", \"worth\", \"worth\", \"wouldn\", \"year\", \"year\", \"year\", \"year\", \"year\", \"year\", \"year\", \"year\", \"year\", \"year\", \"years\", \"years\", \"years\", \"years\", \"years\", \"years\", \"years\", \"years\", \"years\", \"young\", \"young\", \"young\", \"young\", \"young\", \"young\"]}, \"R\": 30, \"lambda.step\": 0.01, \"plot.opts\": {\"xlab\": \"PC1\", \"ylab\": \"PC2\"}, \"topic.order\": [4, 10, 6, 1, 2, 3, 7, 8, 5, 9]};\n",
       "\n",
       "function LDAvis_load_lib(url, callback){\n",
       "  var s = document.createElement('script');\n",
       "  s.src = url;\n",
       "  s.async = true;\n",
       "  s.onreadystatechange = s.onload = callback;\n",
       "  s.onerror = function(){console.warn(\"failed to load library \" + url);};\n",
       "  document.getElementsByTagName(\"head\")[0].appendChild(s);\n",
       "}\n",
       "\n",
       "if(typeof(LDAvis) !== \"undefined\"){\n",
       "   // already loaded: just create the visualization\n",
       "   !function(LDAvis){\n",
       "       new LDAvis(\"#\" + \"ldavis_el65121403511535784485413401394\", ldavis_el65121403511535784485413401394_data);\n",
       "   }(LDAvis);\n",
       "}else if(typeof define === \"function\" && define.amd){\n",
       "   // require.js is available: use it to load d3/LDAvis\n",
       "   require.config({paths: {d3: \"https://cdnjs.cloudflare.com/ajax/libs/d3/3.5.5/d3.min\"}});\n",
       "   require([\"d3\"], function(d3){\n",
       "      window.d3 = d3;\n",
       "      LDAvis_load_lib(\"https://cdn.rawgit.com/bmabey/pyLDAvis/files/ldavis.v1.0.0.js\", function(){\n",
       "        new LDAvis(\"#\" + \"ldavis_el65121403511535784485413401394\", ldavis_el65121403511535784485413401394_data);\n",
       "      });\n",
       "    });\n",
       "}else{\n",
       "    // require.js not available: dynamically load d3 & LDAvis\n",
       "    LDAvis_load_lib(\"https://cdnjs.cloudflare.com/ajax/libs/d3/3.5.5/d3.min.js\", function(){\n",
       "         LDAvis_load_lib(\"https://cdn.rawgit.com/bmabey/pyLDAvis/files/ldavis.v1.0.0.js\", function(){\n",
       "                 new LDAvis(\"#\" + \"ldavis_el65121403511535784485413401394\", ldavis_el65121403511535784485413401394_data);\n",
       "            })\n",
       "         });\n",
       "}\n",
       "</script>"
      ],
      "text/plain": [
       "PreparedData(topic_coordinates=              x         y  topics  cluster       Freq\n",
       "topic                                                \n",
       "3      0.018272 -0.081915       1        1  17.408817\n",
       "9      0.130903  0.142346       2        1  16.646467\n",
       "5     -0.158073 -0.047312       3        1  15.597263\n",
       "0     -0.212247  0.136893       4        1  14.506427\n",
       "1     -0.011686 -0.130698       5        1   7.661143\n",
       "2      0.121128 -0.107390       6        1   7.327548\n",
       "6     -0.096463 -0.119200       7        1   6.488377\n",
       "7      0.082291  0.125010       8        1   5.812848\n",
       "4      0.124303 -0.048846       9        1   4.317297\n",
       "8      0.001572  0.131112      10        1   4.233814, topic_info=     Category        Freq      Term       Total  loglift  logprob\n",
       "25    Default  468.000000     world  468.000000  30.0000  30.0000\n",
       "1362  Default  167.000000      care  167.000000  29.0000  29.0000\n",
       "355   Default  175.000000    health  175.000000  28.0000  28.0000\n",
       "60    Default  219.000000     peace  219.000000  27.0000  27.0000\n",
       "1046  Default  279.000000  children  279.000000  26.0000  26.0000\n",
       "...       ...         ...       ...         ...      ...      ...\n",
       "332   Topic10    9.437634    reduce   80.517136   1.0183  -5.7960\n",
       "4189  Topic10    8.377176     space   44.293900   1.4967  -5.9152\n",
       "46    Topic10    9.187461  american  374.737518  -0.5463  -5.8229\n",
       "1023  Topic10    8.473013   freedom  143.972412   0.3293  -5.9038\n",
       "1132  Topic10    8.494240   tonight  209.945892  -0.0454  -5.9013\n",
       "\n",
       "[681 rows x 6 columns], token_table=      Topic      Freq      Term\n",
       "term                           \n",
       "5029      2  0.969178  accounts\n",
       "4444      2  0.909020     acres\n",
       "138       1  0.060024       act\n",
       "138       2  0.760299       act\n",
       "138       6  0.086701       act\n",
       "...     ...       ...       ...\n",
       "28        3  0.015829     young\n",
       "28        4  0.063316     young\n",
       "28        5  0.379893     young\n",
       "28        6  0.015829     young\n",
       "28        7  0.205775     young\n",
       "\n",
       "[1457 rows x 3 columns], R=30, lambda_step=0.01, plot_opts={'xlab': 'PC1', 'ylab': 'PC2'}, topic_order=[4, 10, 6, 1, 2, 3, 7, 8, 5, 9])"
      ]
     },
     "execution_count": 34,
     "metadata": {},
     "output_type": "execute_result"
    }
   ],
   "source": [
    "# Visualize the topics\n",
    "import pyLDAvis\n",
    "import pyLDAvis.gensim\n",
    "\n",
    "\n",
    "pyLDAvis.enable_notebook()\n",
    "vis = pyLDAvis.gensim.prepare(model_v2, corpus,id2word)\n",
    "vis"
   ]
  },
  {
   "cell_type": "markdown",
   "metadata": {},
   "source": [
    "### Helpful links: \n",
    "\n",
    "\n",
    "\n",
    "*   vectorization\n",
    "\n",
    "https://scikit-learn.org/stable/modules/generated/sklearn.feature_extraction.text.TfidfVectorizer.html\n",
    "\n",
    "https://python-graph-gallery.com/cheat-sheets/\n",
    "\n",
    "*   k-mean\n",
    "\n",
    "https://scikit-learn.org/stable/modules/generated/sklearn.cluster.KMeans.html\n",
    "\n",
    "*   plot\n",
    "\n",
    "https://dfrieds.com/data-visualizations/bar-plot-python-pandas\n",
    "\n",
    "*   max value index\n",
    "\n",
    "https://stackoverflow.com/questions/16817948/i-have-need-the-n-minimum-index-values-in-a-numpy-array\n",
    "\n",
    "*   dict\n",
    "\n",
    "https://stackoverflow.com/questions/30280856/populating-a-dictionary-using-for-loops-python https://stackoverflow.com/questions/5404665/accessing-elements-of-python-dictionary-by-index"
   ]
  },
  {
   "cell_type": "markdown",
   "metadata": {},
   "source": [
    "<div class=\"alert alert-info\">\n",
    "    Please read the section ‘General information’ on the ‘Labs’ page of the course website before submitting this notebook!\n",
    "</div>"
   ]
  }
 ],
 "metadata": {
  "kernelspec": {
   "display_name": "Python 3",
   "language": "python",
   "name": "python3"
  },
  "language_info": {
   "codemirror_mode": {
    "name": "ipython",
    "version": 3
   },
   "file_extension": ".py",
   "mimetype": "text/x-python",
   "name": "python",
   "nbconvert_exporter": "python",
   "pygments_lexer": "ipython3",
   "version": "3.7.5"
  }
 },
 "nbformat": 4,
 "nbformat_minor": 2
}
