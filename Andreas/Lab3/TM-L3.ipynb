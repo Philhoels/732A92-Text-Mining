{
 "cells": [
  {
   "cell_type": "markdown",
   "metadata": {},
   "source": [
    "# L3: Text clustering and topic modelling"
   ]
  },
  {
   "cell_type": "markdown",
   "metadata": {},
   "source": [
    "Text clustering groups documents in such a way that documents within a group are more &lsquo;similar&rsquo; to other documents in the cluster than to documents not in the cluster. The exact definition of what &lsquo;similar&rsquo; means in this context varies across applications and clustering algorithms.\n",
    "\n",
    "In this lab you will experiment with both hard and soft clustering techniques. More specifically, in the first part you will be using the $k$-means algorithm, and in the second part you will be using a topic model based on the Latent Dirichlet Allocation (LDA)."
   ]
  },
  {
   "cell_type": "markdown",
   "metadata": {},
   "source": [
    "## Hard clustering data set"
   ]
  },
  {
   "cell_type": "markdown",
   "metadata": {},
   "source": [
    "The raw data for the hard clustering part of this lab is a collection of product reviews. We have preprocessed the data by tokenization and lowercasing."
   ]
  },
  {
   "cell_type": "code",
   "execution_count": 15,
   "metadata": {},
   "outputs": [],
   "source": [
    "import pandas as pd\n",
    "import bz2\n",
    "\n",
    "with bz2.open(\"reviews.json.bz2\") as source:\n",
    "    df = pd.read_json(source)"
   ]
  },
  {
   "cell_type": "markdown",
   "metadata": {},
   "source": [
    "When you inspect the data frame, you can see that there are three labelled columns: `category` (the product category), `sentiment` (whether the product review was classified as &lsquo;positive&rsquo; or &lsquo;negative&rsquo; towards the product), and `text` (the space-separated text of the review)."
   ]
  },
  {
   "cell_type": "code",
   "execution_count": 16,
   "metadata": {},
   "outputs": [
    {
     "data": {
      "text/html": [
       "<div>\n",
       "<style scoped>\n",
       "    .dataframe tbody tr th:only-of-type {\n",
       "        vertical-align: middle;\n",
       "    }\n",
       "\n",
       "    .dataframe tbody tr th {\n",
       "        vertical-align: top;\n",
       "    }\n",
       "\n",
       "    .dataframe thead th {\n",
       "        text-align: right;\n",
       "    }\n",
       "</style>\n",
       "<table border=\"1\" class=\"dataframe\">\n",
       "  <thead>\n",
       "    <tr style=\"text-align: right;\">\n",
       "      <th></th>\n",
       "      <th>category</th>\n",
       "      <th>sentiment</th>\n",
       "      <th>text</th>\n",
       "    </tr>\n",
       "  </thead>\n",
       "  <tbody>\n",
       "    <tr>\n",
       "      <th>0</th>\n",
       "      <td>music</td>\n",
       "      <td>neg</td>\n",
       "      <td>i bought this album because i loved the title ...</td>\n",
       "    </tr>\n",
       "    <tr>\n",
       "      <th>1</th>\n",
       "      <td>music</td>\n",
       "      <td>neg</td>\n",
       "      <td>i was misled and thought i was buying the enti...</td>\n",
       "    </tr>\n",
       "    <tr>\n",
       "      <th>2</th>\n",
       "      <td>books</td>\n",
       "      <td>neg</td>\n",
       "      <td>i have introduced many of my ell , high school...</td>\n",
       "    </tr>\n",
       "    <tr>\n",
       "      <th>3</th>\n",
       "      <td>books</td>\n",
       "      <td>pos</td>\n",
       "      <td>anything you purchase in the left behind serie...</td>\n",
       "    </tr>\n",
       "    <tr>\n",
       "      <th>4</th>\n",
       "      <td>dvd</td>\n",
       "      <td>pos</td>\n",
       "      <td>i loved these movies , and i cant wiat for the...</td>\n",
       "    </tr>\n",
       "    <tr>\n",
       "      <th>5</th>\n",
       "      <td>camera</td>\n",
       "      <td>neg</td>\n",
       "      <td>in my experience , this camera takes great pic...</td>\n",
       "    </tr>\n",
       "    <tr>\n",
       "      <th>6</th>\n",
       "      <td>books</td>\n",
       "      <td>neg</td>\n",
       "      <td>first off i 'd like to tell you that this is o...</td>\n",
       "    </tr>\n",
       "    <tr>\n",
       "      <th>7</th>\n",
       "      <td>health</td>\n",
       "      <td>pos</td>\n",
       "      <td>this is a very good shaver for the private are...</td>\n",
       "    </tr>\n",
       "    <tr>\n",
       "      <th>8</th>\n",
       "      <td>books</td>\n",
       "      <td>neg</td>\n",
       "      <td>not even worth finishing this book ! this auth...</td>\n",
       "    </tr>\n",
       "    <tr>\n",
       "      <th>9</th>\n",
       "      <td>books</td>\n",
       "      <td>pos</td>\n",
       "      <td>if you 're intimidated by tolstoy or dostoevsk...</td>\n",
       "    </tr>\n",
       "  </tbody>\n",
       "</table>\n",
       "</div>"
      ],
      "text/plain": [
       "  category sentiment                                               text\n",
       "0    music       neg  i bought this album because i loved the title ...\n",
       "1    music       neg  i was misled and thought i was buying the enti...\n",
       "2    books       neg  i have introduced many of my ell , high school...\n",
       "3    books       pos  anything you purchase in the left behind serie...\n",
       "4      dvd       pos  i loved these movies , and i cant wiat for the...\n",
       "5   camera       neg  in my experience , this camera takes great pic...\n",
       "6    books       neg  first off i 'd like to tell you that this is o...\n",
       "7   health       pos  this is a very good shaver for the private are...\n",
       "8    books       neg  not even worth finishing this book ! this auth...\n",
       "9    books       pos  if you 're intimidated by tolstoy or dostoevsk..."
      ]
     },
     "execution_count": 16,
     "metadata": {},
     "output_type": "execute_result"
    }
   ],
   "source": [
    "df.head(n=10)"
   ]
  },
  {
   "cell_type": "code",
   "execution_count": 17,
   "metadata": {},
   "outputs": [
    {
     "data": {
      "text/plain": [
       "(11914, 3)"
      ]
     },
     "execution_count": 17,
     "metadata": {},
     "output_type": "execute_result"
    }
   ],
   "source": [
    "df.shape"
   ]
  },
  {
   "cell_type": "code",
   "execution_count": 18,
   "metadata": {},
   "outputs": [
    {
     "name": "stdout",
     "output_type": "stream",
     "text": [
      "The distinct categories are:  ['music' 'books' 'dvd' 'camera' 'health' 'software']\n"
     ]
    }
   ],
   "source": [
    "print('The distinct categories are: ',df.category.unique())"
   ]
  },
  {
   "cell_type": "markdown",
   "metadata": {},
   "source": [
    "## Problem 1: K-means clustering"
   ]
  },
  {
   "cell_type": "markdown",
   "metadata": {},
   "source": [
    "Your first task is to cluster the product review data using a tf–idf vectorizer and a $k$-means clusterer."
   ]
  },
  {
   "cell_type": "markdown",
   "metadata": {},
   "source": [
    "Start by doing the vectorization. In connection with vectorization, you should also filter out standard English stop words. While you could use [spaCy](https://spacy.io/) for this task, here it suffices to use the word list implemented in [TfidfVectorizer](https://scikit-learn.org/stable/modules/generated/sklearn.feature_extraction.text.TfidfVectorizer.html)."
   ]
  },
  {
   "cell_type": "code",
   "execution_count": 19,
   "metadata": {},
   "outputs": [],
   "source": [
    "# TODO: Enter code here to vectorize the data\n",
    "from sklearn.feature_extraction.text import TfidfVectorizer\n",
    "from nltk.stem import WordNetLemmatizer \n",
    "\n",
    "# class LemmaTokenizer(object):\n",
    "#     def __init__(self):\n",
    "#         self.wnl = WordNetLemmatizer()\n",
    "#     def __call__(self, articles):\n",
    "#         return [self.wnl.lemmatize(t) for t in word_tokenize(articles)]\n",
    "\n",
    "vectorizer = TfidfVectorizer(stop_words='english')\n",
    "                              #,tokenizer=LemmaTokenizer())\n",
    "\n",
    "reviews = vectorizer.fit_transform(df['text'])\n"
   ]
  },
  {
   "cell_type": "markdown",
   "metadata": {},
   "source": [
    "Test your vectorization by running the following code cell:"
   ]
  },
  {
   "cell_type": "code",
   "execution_count": 20,
   "metadata": {},
   "outputs": [
    {
     "data": {
      "text/plain": [
       "(11914, 46619)"
      ]
     },
     "execution_count": 20,
     "metadata": {},
     "output_type": "execute_result"
    }
   ],
   "source": [
    "reviews.shape"
   ]
  },
  {
   "cell_type": "markdown",
   "metadata": {},
   "source": [
    "If you used the English stop word list from scikit-learn, then the resulting vocabulary should have 46,619 entries."
   ]
  },
  {
   "cell_type": "markdown",
   "metadata": {},
   "source": [
    "Next, cluster the vectorized data. Before doing so, you should read the documentation of the [KMeans](https://scikit-learn.org/stable/modules/generated/sklearn.cluster.KMeans.html) class, which is scikit-learn&rsquo;s implementation of the $k$-means algorithm. As you can see, this class has several parameters that you can tweak. For now, the only parameter that you will have to set is the number of clusters. We recommend that you choose $k=3$.\n",
    "\n",
    "**Tip:** Training $k$-means models will take some time. To speed things up, you can use the `n_init` parameter to control the number of times that the clustering is re-computed with different initial values. The default value for this parameter is 10; here and in the rest of this lab, you may want to set this to a lower value."
   ]
  },
  {
   "cell_type": "code",
   "execution_count": 21,
   "metadata": {},
   "outputs": [],
   "source": [
    "# TODO: Enter code here to cluster the vectorized data\n",
    "from sklearn.cluster import KMeans\n",
    "\n",
    "kmeans = KMeans(n_clusters=3, n_init=2,random_state=13).fit(reviews)"
   ]
  },
  {
   "cell_type": "markdown",
   "metadata": {},
   "source": [
    "To sanity-check your clustering, create a bar plot with the number of documents per cluster."
   ]
  },
  {
   "cell_type": "code",
   "execution_count": 23,
   "metadata": {},
   "outputs": [
    {
     "data": {
      "image/png": "[encoded data removed]",
      "text/plain": [
       "<Figure size 432x288 with 1 Axes>"
      ]
     },
     "metadata": {},
     "output_type": "display_data"
    }
   ],
   "source": [
    "# TODO: Enter code here to produce a bar plot of the cluster size\n",
    "import matplotlib.pyplot as plt\n",
    "\n",
    "plt.style.use('dark_background')\n",
    "pd.Series(kmeans.labels_).value_counts().plot(kind='bar',color='cornflowerblue')\n",
    "plt.title('Bar plot k=3')\n",
    "plt.show()"
   ]
  },
  {
   "cell_type": "markdown",
   "metadata": {},
   "source": [
    "Note that sizes may vary considerable between clusters and among different random seeds."
   ]
  },
  {
   "cell_type": "markdown",
   "metadata": {},
   "source": [
    "## Problem 2: Summarize clusters"
   ]
  },
  {
   "cell_type": "markdown",
   "metadata": {},
   "source": [
    "Once you have a clustering, you can try to see whether it is meaningful. One useful technique in that context is to generate a **summary** for each cluster by extracting the $n$ highest-weighted terms from the centroid of each cluster. Your next task is to implement this approach.\n",
    "\n",
    "**Hint:** You will need to construct an &lsquo;inverted vocabulary&rsquo; that allows you to map from the index of a term back to the original term."
   ]
  },
  {
   "cell_type": "code",
   "execution_count": 36,
   "metadata": {},
   "outputs": [
    {
     "name": "stdout",
     "output_type": "stream",
     "text": [
      "(3, 46619)\n"
     ]
    },
    {
     "data": {
      "text/plain": [
       "[array([ 2193, 24390, 27522,  5695]),\n",
       " array([ 6980, 31125, 24143,  6890]),\n",
       " array([12823, 38539, 44007, 32505])]"
      ]
     },
     "execution_count": 36,
     "metadata": {},
     "output_type": "execute_result"
    }
   ],
   "source": [
    "# TODO: Enter code here to compute the cluster summaries and print them\n",
    "import numpy as np\n",
    "from sklearn import preprocessing\n",
    "\n",
    "le = preprocessing.LabelEncoder()\n",
    "labels_true = le.fit_transform(df['category'])\n",
    "\n",
    "n=4\n",
    "\n",
    "print(kmeans.cluster_centers_.shape)\n",
    "cluster_centers = kmeans.cluster_centers_\n",
    "\n",
    "c= []\n",
    "\n",
    "for cluster in kmeans.cluster_centers_:\n",
    "    ind = np.argpartition(cluster, -n)[-n:]\n",
    "    c.append(ind)\n",
    "    #c.append(cluster[cluster.argsort()[-n:]])\n",
    "c"
   ]
  },
  {
   "cell_type": "code",
   "execution_count": 37,
   "metadata": {},
   "outputs": [
    {
     "name": "stdout",
     "output_type": "stream",
     "text": [
      "[[3.05042594e-04 5.28391140e-04 0.00000000e+00 ... 4.45502443e-05\n",
      "  3.44213882e-05 2.35197077e-05]\n",
      " [2.07289830e-03 9.97789218e-04 0.00000000e+00 ... 0.00000000e+00\n",
      "  0.00000000e+00 0.00000000e+00]\n",
      " [1.42649530e-03 8.37028586e-04 5.37167764e-05 ... 0.00000000e+00\n",
      "  0.00000000e+00 0.00000000e+00]]\n"
     ]
    }
   ],
   "source": [
    "res = kmeans.__dict__\n",
    "\n",
    "print(res['cluster_centers_'])"
   ]
  },
  {
   "cell_type": "markdown",
   "metadata": {},
   "source": [
    "Once you have computed the cluster summaries, discuss their quality. Is it clear what the reviews in a given cluster are about? Which clusters are clearest? Which are less clear? Do the cluster summaries contain any unexpected terms? What happens if you re-cluster with, say, $k=6$?"
   ]
  },
  {
   "cell_type": "markdown",
   "metadata": {},
   "source": [
    "*TODO: Insert your analysis of the clusters here*"
   ]
  },
  {
   "cell_type": "markdown",
   "metadata": {},
   "source": [
    "## Problem 3: Tune the k-means algorithm"
   ]
  },
  {
   "cell_type": "markdown",
   "metadata": {},
   "source": [
    "A major limitation of the $k$-means algorithm is that one has to manually set the value for $k$, the number of clusters. One heuristic that can help you with this is the [Elbow method](https://en.wikipedia.org/wiki/Elbow_method_(clustering)). Your next task is to implement this method to see whether it allows you to find a better value for $k$.\n",
    "\n",
    "To follow the elbow method, you should plot different values of $k$ against the **inertia** (sums of squared distances between documents and closest centroids) of the fitted $k$-means model, and pick the $k$ at the &lsquo;elbow point&rsquo; of the resulting graph. Test cluster sizes between 1 and 9.\n",
    "\n",
    "**Note that this will take a while.**"
   ]
  },
  {
   "cell_type": "code",
   "execution_count": 38,
   "metadata": {},
   "outputs": [
    {
     "name": "stdout",
     "output_type": "stream",
     "text": [
      "iteration:1,n_clusters:1\n",
      "iteration:2,n_clusters:2\n",
      "iteration:3,n_clusters:3\n",
      "iteration:4,n_clusters:4\n",
      "iteration:5,n_clusters:5\n",
      "iteration:6,n_clusters:6\n",
      "iteration:7,n_clusters:7\n",
      "iteration:8,n_clusters:8\n",
      "iteration:9,n_clusters:9\n",
      "Time to execute for loop : 00:03:42\n"
     ]
    },
    {
     "data": {
      "text/plain": [
       "[11764.202585909867,\n",
       " 11712.715826404263,\n",
       " 11655.90941716431,\n",
       " 11616.53569806913,\n",
       " 11584.608555614535,\n",
       " 11552.701543867817,\n",
       " 11532.56222839533,\n",
       " 11496.555571793015,\n",
       " 11479.845659218136]"
      ]
     },
     "execution_count": 38,
     "metadata": {},
     "output_type": "execute_result"
    }
   ],
   "source": [
    "# TODO: Enter code here to generate the plot for the elbow method\n",
    "from sklearn import metrics\n",
    "import time\n",
    "\n",
    "\n",
    "distorsions = []\n",
    "\n",
    "start_time= time.time()\n",
    "n_clusters = range(1,10)\n",
    "\n",
    "for i,k in enumerate(n_clusters):\n",
    "    print('iteration:{0},n_clusters:{1}'.format((i+1),k))\n",
    "    kmeans = KMeans(n_clusters=k,n_init=2,random_state=13)\n",
    "    kmeans.fit(reviews)\n",
    "    inertia = kmeans.inertia_\n",
    "    distorsions.append(inertia)\n",
    "    \n",
    "end_time = time.time()-start_time\n",
    "measured_time = time.strftime(\"%H:%M:%S\", time.gmtime(end_time))\n",
    "print('Time to execute for loop :' ,measured_time)\n",
    "\n",
    "distorsions"
   ]
  },
  {
   "cell_type": "code",
   "execution_count": 40,
   "metadata": {},
   "outputs": [
    {
     "data": {
      "text/plain": [
       "Text(0.5, 1.0, 'Elbow curve plot')"
      ]
     },
     "execution_count": 40,
     "metadata": {},
     "output_type": "execute_result"
    },
    {
     "data": {
      "image/png": "[encoded data removed]",
      "text/plain": [
       "<Figure size 1080x360 with 1 Axes>"
      ]
     },
     "metadata": {},
     "output_type": "display_data"
    }
   ],
   "source": [
    "# plot the elbow    \n",
    "fig = plt.figure(figsize=(15, 5))\n",
    "plt.plot(n_clusters,distorsions,marker='o')\n",
    "plt.grid(True)\n",
    "plt.title('Elbow curve plot')"
   ]
  },
  {
   "cell_type": "markdown",
   "metadata": {},
   "source": [
    "Once you have the diagram, can you see a pronounced &lsquo;elbow point&rsquo;? Discuss your findings in a short text."
   ]
  },
  {
   "cell_type": "markdown",
   "metadata": {},
   "source": [
    "*TODO: Insert your discussion of the elbow method here*"
   ]
  },
  {
   "cell_type": "markdown",
   "metadata": {},
   "source": [
    "## Problem 4: Compare clusterings using the Rand index"
   ]
  },
  {
   "cell_type": "markdown",
   "metadata": {},
   "source": [
    "In some scenarios, you may have gold-standard class labels available for at least a subset of your documents. In these cases you can compute the **Rand index** of a clustering, and use this measure to compare the quality of different clusterings.\n",
    "\n",
    "To compute the Rand index, we view a clustering as a binary classifier on pairs of documents. The classifier predicts &lsquo;positive&rsquo; if and only if the two documents belong to the same cluster. The (non-normalized) Rand index of the clustering is the accuracy of this classifier relative to a reference in which a document pair belongs to the &lsquo;positive&rsquo; class if and only if the two documents in the pair have the same gold-standard class label.\n",
    "\n",
    "Compare a clustering with $k=3$ clusters to a second clustering with $k=6$ clusters. As your evaluation data, use the first 500 documents from the original data set along with their gold-standard categories (from the `category` column). What do you observe? How do you interpret your observations? What arguments can you find against the Rand index as a measure for comparing clusterings?"
   ]
  },
  {
   "cell_type": "code",
   "execution_count": 41,
   "metadata": {},
   "outputs": [],
   "source": [
    "# TODO: Enter code here to compute the Rand indices for the two clusterings\n",
    "from sklearn.metrics import adjusted_rand_score\n",
    "from sklearn import preprocessing\n",
    "\n",
    "le = preprocessing.LabelEncoder()\n",
    "labels_true = le.fit_transform(df['category'])\n"
   ]
  },
  {
   "cell_type": "code",
   "execution_count": 42,
   "metadata": {},
   "outputs": [],
   "source": [
    "clusters = [3,6]\n",
    "rnd_index = []\n",
    "\n",
    "for i in clusters :\n",
    "    kmeans_ = KMeans(n_clusters=i,n_init=2,random_state=13).fit(reviews)\n",
    "    labels_pred = le.inverse_transform(kmeans_.predict(reviews))\n",
    "    rnd_ind = adjusted_rand_score(df['category'], labels_pred)\n",
    "    rnd_index.append(rnd_ind)\n"
   ]
  },
  {
   "cell_type": "code",
   "execution_count": 43,
   "metadata": {},
   "outputs": [
    {
     "data": {
      "text/plain": [
       "[0.30541288952688855, 0.32286340837152966]"
      ]
     },
     "execution_count": 43,
     "metadata": {},
     "output_type": "execute_result"
    }
   ],
   "source": [
    "rnd_index"
   ]
  },
  {
   "cell_type": "markdown",
   "metadata": {},
   "source": [
    "*TODO: Insert your discussion of your results here*"
   ]
  },
  {
   "cell_type": "markdown",
   "metadata": {},
   "source": [
    "## Topic modelling data set"
   ]
  },
  {
   "cell_type": "markdown",
   "metadata": {},
   "source": [
    "The data set for the topic modelling part of this lab is the collection of all [State of the Union](https://en.wikipedia.org/wiki/State_of_the_Union) addresses from the years 1975–2000. These speeches come as a single text file with one sentence per line. The following code cell prints the first 5 lines from the data file:"
   ]
  },
  {
   "cell_type": "code",
   "execution_count": 1,
   "metadata": {},
   "outputs": [
    {
     "name": "stdout",
     "output_type": "stream",
     "text": [
      "mr speaker mr vice president members of the 94th congress and distinguished guests\n",
      "twenty six years ago a freshman congressman a young fellow with lots of idealism who was out to change the world stood before sam rayburn in the well of the house and solemnly swore to the same oath that all of you took yesterday an unforgettable experience and i congratulate you all\n",
      "two days later that same freshman stood at the back of this great chamber over there someplace as president truman all charged up by his single handed election victory reported as the constitution requires on the state of the union\n",
      "when the bipartisan applause stopped president truman said i am happy to report to this 81st congress that the state of the union is good our nation is better able than ever before to meet the needs of the american people and to give them their fair chance in the pursuit of happiness it is foremost among the nations of the world in the search for peace\n",
      "today that freshman member from michigan stands where mr truman stood and i must say to you that the state of the union is not good\n",
      "millions of americans are out of work\n"
     ]
    }
   ],
   "source": [
    "with open(\"sotu_1975_2000.txt\") as source:\n",
    "    for i, line in enumerate(source):\n",
    "        print(line.rstrip())\n",
    "        if i >= 5:\n",
    "            break"
   ]
  },
  {
   "cell_type": "markdown",
   "metadata": {},
   "source": [
    "## Problem 5: Train a topic model"
   ]
  },
  {
   "cell_type": "markdown",
   "metadata": {},
   "source": [
    "Your first task on the topic modelling data is to train an LDA model. For this task you will be using [spaCy](https://spacy.io/) and the [gensim](https://radimrehurek.com/gensim/) topic modelling library.\n",
    "\n",
    "Start by preprocessing the data using spaCy. Given that the data set for this problem is rather small, you do not have to exclude any components from the standard pipeline. Filter out stop words, non-alphabetic tokens, and tokens less than 3 characters in length. Store the documents as a nested list where the first level of nesting corresponds to the sentences and the second level corresponds to the tokens in each sentence."
   ]
  },
  {
   "cell_type": "code",
   "execution_count": 2,
   "metadata": {},
   "outputs": [],
   "source": [
    "# TODO: Replace the following lines with your own code for preprocessing the documents\n",
    "with open(\"sotu_1975_2000.txt\") as source:\n",
    "    documents = [line.split() for line in source]"
   ]
  },
  {
   "cell_type": "code",
   "execution_count": 3,
   "metadata": {},
   "outputs": [
    {
     "data": {
      "text/plain": [
       "['first',\n",
       " 'we',\n",
       " 'must',\n",
       " 'reduce',\n",
       " 'oil',\n",
       " 'imports',\n",
       " 'by',\n",
       " '1',\n",
       " 'million',\n",
       " 'barrels',\n",
       " 'per',\n",
       " 'day',\n",
       " 'by',\n",
       " 'the',\n",
       " 'end',\n",
       " 'of',\n",
       " 'this',\n",
       " 'year',\n",
       " 'and',\n",
       " 'by',\n",
       " '2',\n",
       " 'million',\n",
       " 'barrels',\n",
       " 'per',\n",
       " 'day',\n",
       " 'by',\n",
       " 'the',\n",
       " 'end',\n",
       " 'of',\n",
       " '1977']"
      ]
     },
     "execution_count": 3,
     "metadata": {},
     "output_type": "execute_result"
    }
   ],
   "source": [
    "documents[42]"
   ]
  },
  {
   "cell_type": "code",
   "execution_count": 4,
   "metadata": {},
   "outputs": [],
   "source": [
    "import spacy #load spacy\n",
    "from spacy.lang.en.stop_words import STOP_WORDS\n",
    "\n",
    "\n",
    "nlp = spacy.load(\"en\", disable=['parser', 'tagger', 'ner'])\n",
    "\n",
    "def preprocess(text):\n",
    "    # TODO: Replace the next line with your own code.\n",
    "    filtered_sentence =[] \n",
    "    \n",
    "    for sentence in text :\n",
    "        words = []\n",
    "        for word in sentence:\n",
    "            lexeme = nlp.vocab[word]\n",
    "            if not lexeme.is_stop and not lexeme.is_punct and lexeme.is_alpha and len(word)>=3:\n",
    "                words.append(word)\n",
    "        filtered_sentence.append(words)\n",
    "  \n",
    "    return filtered_sentence\n",
    "\n",
    "sentence = preprocess(documents)"
   ]
  },
  {
   "cell_type": "markdown",
   "metadata": {},
   "source": [
    "Test your preprocessing by running the following cell:"
   ]
  },
  {
   "cell_type": "code",
   "execution_count": 5,
   "metadata": {},
   "outputs": [
    {
     "data": {
      "text/plain": [
       "'reduce oil imports million barrels day end year million barrels day end'"
      ]
     },
     "execution_count": 5,
     "metadata": {},
     "output_type": "execute_result"
    }
   ],
   "source": [
    "\" \".join(preprocess(documents)[42])"
   ]
  },
  {
   "cell_type": "markdown",
   "metadata": {},
   "source": [
    "You should get the following output:"
   ]
  },
  {
   "cell_type": "raw",
   "metadata": {},
   "source": [
    "'reduce oil imports million barrels day end year million barrels day end'"
   ]
  },
  {
   "cell_type": "markdown",
   "metadata": {},
   "source": [
    "Once you have the list of documents, skim the section [Pre-process and vectorize the documents](https://radimrehurek.com/gensim/auto_examples/tutorials/run_lda.html#pre-process-and-vectorize-the-documents) of the gensim documentation to learn how to create the dictionary and the vectorized corpus representation required by gensim. (Note that you cannot use the standard scikit-learn pipeline in this case.) Then, write code to train an [LdaModel](https://radimrehurek.com/gensim/models/ldamodel.html) for $k=10$ topics, and using default values for all other parameters."
   ]
  },
  {
   "cell_type": "code",
   "execution_count": 6,
   "metadata": {},
   "outputs": [
    {
     "data": {
      "text/plain": [
       "[[('congress', 1),\n",
       "  ('distinguished', 1),\n",
       "  ('guests', 1),\n",
       "  ('members', 1),\n",
       "  ('president', 1),\n",
       "  ('speaker', 1),\n",
       "  ('vice', 1)]]"
      ]
     },
     "execution_count": 6,
     "metadata": {},
     "output_type": "execute_result"
    }
   ],
   "source": [
    "# TODO: Enter code here to train an LDA model\n",
    "\n",
    "from gensim.corpora.dictionary import Dictionary\n",
    "from gensim.models import LdaModel\n",
    "\n",
    "\n",
    "\n",
    "# Create Dictionary\n",
    "id2word = Dictionary(sentence)\n",
    "\n",
    "# Create Corpus\n",
    "texts = sentence\n",
    "\n",
    "# Term Document Frequency\n",
    "corpus = [id2word.doc2bow(text) for text in texts]\n",
    "\n",
    "\n",
    "[[(id2word[id], freq) for id, freq in cp] for cp in corpus[:1]]\n",
    "\n",
    "# # Create a corpus from a list of texts\n",
    "# common_dictionary = Dictionary(sentence)\n",
    "# common_corpus = [common_dictionary.doc2bow(text) for text in sentence]\n",
    "\n",
    "# # Train the model on the corpus.\n"
   ]
  },
  {
   "cell_type": "code",
   "execution_count": 7,
   "metadata": {},
   "outputs": [],
   "source": [
    "\n",
    "# Set training parameters.\n",
    "num_topics = 10\n",
    "chunksize = 2000\n",
    "passes = 20\n",
    "iterations = 400\n",
    "eval_every = None  # Don't evaluate model perplexity, takes too much time.\n",
    "\n",
    "# temp = common_dictionary[0]  # This is only to \"load\" the dictionary.\n",
    "# id2word = common_dictionary.id2token\n",
    "\n",
    "model = LdaModel(\n",
    "    corpus=corpus,\n",
    "    id2word=id2word,\n",
    "    chunksize=chunksize,\n",
    "    alpha='auto',\n",
    "    eta='auto',\n",
    "    iterations=iterations,\n",
    "    num_topics=num_topics,\n",
    "    passes=passes,\n",
    "    eval_every=eval_every\n",
    ")"
   ]
  },
  {
   "cell_type": "markdown",
   "metadata": {},
   "source": [
    "Once you have a trained model, run the following cell to print the topics:"
   ]
  },
  {
   "cell_type": "code",
   "execution_count": 8,
   "metadata": {},
   "outputs": [
    {
     "name": "stdout",
     "output_type": "stream",
     "text": [
      "[([(0.015295606, 'government'),\n",
      "   (0.013922689, 'people'),\n",
      "   (0.012130778, 'new'),\n",
      "   (0.011363502, 'years'),\n",
      "   (0.011116078, 'american'),\n",
      "   (0.010059574, 'america'),\n",
      "   (0.008970668, 'year'),\n",
      "   (0.0088462895, 'budget'),\n",
      "   (0.008233149, 'let'),\n",
      "   (0.006751675, 'tax'),\n",
      "   (0.0067206416, 'americans'),\n",
      "   (0.0058528967, 'spending'),\n",
      "   (0.0057975342, 'work'),\n",
      "   (0.0056785117, 'long'),\n",
      "   (0.0055603613, 'economy'),\n",
      "   (0.005386425, 'know'),\n",
      "   (0.005311497, 'federal'),\n",
      "   (0.0052946443, 'time'),\n",
      "   (0.005149157, 'tonight'),\n",
      "   (0.0049696337, 'opportunity')],\n",
      "  -2.433134115092727),\n",
      " ([(0.03506602, 'world'),\n",
      "   (0.02318966, 'america'),\n",
      "   (0.014819359, 'peace'),\n",
      "   (0.010385655, 'nation'),\n",
      "   (0.010295314, 'nations'),\n",
      "   (0.010119937, 'freedom'),\n",
      "   (0.009039586, 'trade'),\n",
      "   (0.008904484, 'economic'),\n",
      "   (0.008521189, 'soviet'),\n",
      "   (0.007634108, 'united'),\n",
      "   (0.0069024754, 'people'),\n",
      "   (0.006894679, 'american'),\n",
      "   (0.0066214735, 'new'),\n",
      "   (0.0065594977, 'international'),\n",
      "   (0.0064671515, 'economy'),\n",
      "   (0.0062132627, 'future'),\n",
      "   (0.00619464, 'security'),\n",
      "   (0.006051601, 'war'),\n",
      "   (0.005680394, 'nuclear'),\n",
      "   (0.0054584076, 'countries')],\n",
      "  -2.4332417455466553),\n",
      " ([(0.030096006, 'children'),\n",
      "   (0.020480745, 'care'),\n",
      "   (0.019321563, 'work'),\n",
      "   (0.017579982, 'people'),\n",
      "   (0.015840862, 'health'),\n",
      "   (0.01460992, 'welfare'),\n",
      "   (0.01364446, 'child'),\n",
      "   (0.012221033, 'parents'),\n",
      "   (0.011763903, 'know'),\n",
      "   (0.009893888, 'families'),\n",
      "   (0.009316777, 'help'),\n",
      "   (0.0089572845, 'americans'),\n",
      "   (0.008277262, 'need'),\n",
      "   (0.007922783, 'want'),\n",
      "   (0.0077670105, 'right'),\n",
      "   (0.0077200974, 'support'),\n",
      "   (0.0076505993, 'million'),\n",
      "   (0.0075908476, 'family'),\n",
      "   (0.007358785, 'thank'),\n",
      "   (0.006247742, 'good')],\n",
      "  -2.44017987419403),\n",
      " ([(0.014861051, 'new'),\n",
      "   (0.013344557, 'congress'),\n",
      "   (0.010963268, 'administration'),\n",
      "   (0.009978183, 'program'),\n",
      "   (0.009912783, 'programs'),\n",
      "   (0.009866776, 'federal'),\n",
      "   (0.009707481, 'national'),\n",
      "   (0.007596147, 'government'),\n",
      "   (0.006841169, 'act'),\n",
      "   (0.0055274665, 'system'),\n",
      "   (0.005508008, 'support'),\n",
      "   (0.0049596904, 'women'),\n",
      "   (0.0047838613, 'policy'),\n",
      "   (0.004719166, 'year'),\n",
      "   (0.0045496216, 'public'),\n",
      "   (0.0045410814, 'protect'),\n",
      "   (0.0045307204, 'funding'),\n",
      "   (0.0043247193, 'legislation'),\n",
      "   (0.0041546794, 'research'),\n",
      "   (0.004124022, 'billion')],\n",
      "  -2.8225316295285743),\n",
      " ([(0.009218743, 'security'),\n",
      "   (0.008652146, 'education'),\n",
      "   (0.008342409, 'america'),\n",
      "   (0.00815786, 'year'),\n",
      "   (0.007723432, 'americans'),\n",
      "   (0.0075246636, 'states'),\n",
      "   (0.0074399123, 'social'),\n",
      "   (0.007326248, 'new'),\n",
      "   (0.006971883, 'schools'),\n",
      "   (0.0058535715, 'let'),\n",
      "   (0.0058251778, 'tax'),\n",
      "   (0.005718662, 'college'),\n",
      "   (0.005712905, 'school'),\n",
      "   (0.005656392, 'support'),\n",
      "   (0.005372141, 'middle'),\n",
      "   (0.0053374567, 'high'),\n",
      "   (0.0048845722, 'congress'),\n",
      "   (0.004746372, 'national'),\n",
      "   (0.004692447, 'east'),\n",
      "   (0.004301085, 'ask')],\n",
      "  -3.306877882483261),\n",
      " ([(0.017960198, 'year'),\n",
      "   (0.012928008, 'years'),\n",
      "   (0.010727009, 'people'),\n",
      "   (0.008019953, 'country'),\n",
      "   (0.0076183127, 'state'),\n",
      "   (0.007263168, 'crime'),\n",
      "   (0.0069486024, 'million'),\n",
      "   (0.0067497254, 'new'),\n",
      "   (0.0064776978, 'local'),\n",
      "   (0.006439884, 'work'),\n",
      "   (0.0064101033, 'american'),\n",
      "   (0.0058892732, 'tonight'),\n",
      "   (0.005781474, 'like'),\n",
      "   (0.005622618, 'half'),\n",
      "   (0.005052199, 'housing'),\n",
      "   (0.004963812, 'chance'),\n",
      "   (0.0048860814, 'children'),\n",
      "   (0.0048652226, 'rate'),\n",
      "   (0.0048601413, 'teen'),\n",
      "   (0.0046638055, 'americans')],\n",
      "  -3.840425580245391),\n",
      " ([(0.024312366, 'energy'),\n",
      "   (0.009299395, 'federal'),\n",
      "   (0.0073086605, 'oil'),\n",
      "   (0.006855546, 'development'),\n",
      "   (0.0066622715, 'production'),\n",
      "   (0.006647209, 'new'),\n",
      "   (0.0063518593, 'congress'),\n",
      "   (0.006137721, 'rural'),\n",
      "   (0.0061366954, 'program'),\n",
      "   (0.0061271945, 'conservation'),\n",
      "   (0.005663986, 'major'),\n",
      "   (0.0053948658, 'programs'),\n",
      "   (0.005377883, 'regulations'),\n",
      "   (0.0053173294, 'private'),\n",
      "   (0.005287175, 'communities'),\n",
      "   (0.0048842295, 'states'),\n",
      "   (0.004545842, 'israel'),\n",
      "   (0.00448415, 'million'),\n",
      "   (0.0044729626, 'use'),\n",
      "   (0.004462007, 'coal')],\n",
      "  -4.978367536390045),\n",
      " ([(0.0110842, 'people'),\n",
      "   (0.009981759, 'new'),\n",
      "   (0.009798817, 'crime'),\n",
      "   (0.008718943, 'community'),\n",
      "   (0.008087953, 'let'),\n",
      "   (0.007077626, 'work'),\n",
      "   (0.0070723724, 'america'),\n",
      "   (0.0067413966, 'environment'),\n",
      "   (0.0066842185, 'way'),\n",
      "   (0.0066689556, 'year'),\n",
      "   (0.006593032, 'communities'),\n",
      "   (0.006266025, 'college'),\n",
      "   (0.0061553186, 'wage'),\n",
      "   (0.0061137625, 'ought'),\n",
      "   (0.005709206, 'right'),\n",
      "   (0.0056268903, 'police'),\n",
      "   (0.0055958233, 'opportunity'),\n",
      "   (0.0051918356, 'minimum'),\n",
      "   (0.0050905966, 'class'),\n",
      "   (0.00499307, 'americans')],\n",
      "  -5.661163045974775),\n",
      " ([(0.014700216, 'congress'),\n",
      "   (0.010717347, 'house'),\n",
      "   (0.0101549765, 'year'),\n",
      "   (0.009995021, 'president'),\n",
      "   (0.007964987, 'nuclear'),\n",
      "   (0.006959551, 'weapons'),\n",
      "   (0.0069384524, 'years'),\n",
      "   (0.006858515, 'senate'),\n",
      "   (0.0068131946, 'speaker'),\n",
      "   (0.0066694086, 'members'),\n",
      "   (0.0064708088, 'security'),\n",
      "   (0.0056478335, 'ask'),\n",
      "   (0.0055040717, 'americans'),\n",
      "   (0.005229979, 'like'),\n",
      "   (0.005032594, 'america'),\n",
      "   (0.004553505, 'gun'),\n",
      "   (0.0045187525, 'defense'),\n",
      "   (0.0041628457, 'europe'),\n",
      "   (0.0041063237, 'covenant'),\n",
      "   (0.004034559, 'forces')],\n",
      "  -6.740964245774804),\n",
      " ([(0.009407458, 'illegal'),\n",
      "   (0.009095255, 'government'),\n",
      "   (0.0071902084, 'new'),\n",
      "   (0.0069220993, 'read'),\n",
      "   (0.0066571888, 'markets'),\n",
      "   (0.0063693803, 'hire'),\n",
      "   (0.0059975237, 'prices'),\n",
      "   (0.0055921455, 'records'),\n",
      "   (0.0051817903, 'aids'),\n",
      "   (0.004704911, 'rewards'),\n",
      "   (0.0047047194, 'buying'),\n",
      "   (0.0044851955, 'federal'),\n",
      "   (0.0044526733, 'use'),\n",
      "   (0.0043485966, 'privacy'),\n",
      "   (0.0042997315, 'workplace'),\n",
      "   (0.0042943647, 'years'),\n",
      "   (0.004161377, 'people'),\n",
      "   (0.003876388, 'fast'),\n",
      "   (0.0038134495, 'areas'),\n",
      "   (0.003732295, 'companies')],\n",
      "  -10.866047906022136)]\n"
     ]
    }
   ],
   "source": [
    "top_topics = model.top_topics(corpus)\n",
    "\n",
    "from pprint import pprint\n",
    "pprint(top_topics)"
   ]
  },
  {
   "cell_type": "markdown",
   "metadata": {},
   "source": [
    "Inspect the topics. Do they make sense? Can you &lsquo;label&rsquo; each topic with a short description of what it is about? Do the topics contain any unexpected terms? Summarize your discussion in a short text."
   ]
  },
  {
   "cell_type": "markdown",
   "metadata": {},
   "source": [
    "*TODO: Insert your discussion of the topics here*"
   ]
  },
  {
   "cell_type": "markdown",
   "metadata": {},
   "source": [
    "## Problem 6: Monitoring a topic model for convergence"
   ]
  },
  {
   "cell_type": "markdown",
   "metadata": {},
   "source": [
    "When learning an LDA model, it is important to make sure that the training algorithm has converged to a stable posterior distribution. One way to do so is to plot, after each training epochs(or &lsquo;pass&rsquo;, in gensim parlance) the log likelihood of the training data under the posterior. Your last task in this lab is to create such a plot and, based on this, to suggest an appropriate number of epochs.\n",
    "\n",
    "To collect information about the posterior likelihood after each pass, we need to enable the logging facilities of gensim. Once this is done, gensim will add various diagnostics to a log file `gensim.log`."
   ]
  },
  {
   "cell_type": "code",
   "execution_count": 9,
   "metadata": {},
   "outputs": [],
   "source": [
    "import logging\n",
    "\n",
    "logging.basicConfig(filename=\"gensim.log\", format=\"%(asctime)s:%(levelname)s:%(message)s\", level=logging.INFO)"
   ]
  },
  {
   "cell_type": "markdown",
   "metadata": {},
   "source": [
    "The following function will parse the generated logfile and return the list of log likelihoods."
   ]
  },
  {
   "cell_type": "code",
   "execution_count": 10,
   "metadata": {},
   "outputs": [],
   "source": [
    "import re\n",
    "\n",
    "def parse_logfile():\n",
    "    matcher = re.compile(\"(-*\\d+\\.\\d+) per-word .* (\\d+\\.\\d+) perplexity\")\n",
    "    likelihoods = []\n",
    "    with open(\"gensim.log\") as source:\n",
    "        for line in source:\n",
    "            match = matcher.search(line)\n",
    "            if match:\n",
    "                likelihoods.append(float(match.group(1)))\n",
    "    return likelihoods"
   ]
  },
  {
   "cell_type": "markdown",
   "metadata": {},
   "source": [
    "Your task now is to re-train your LDA model for 50&nbsp;passes, retrieve the list of log likelihoods, and create a plot from this data."
   ]
  },
  {
   "cell_type": "code",
   "execution_count": 11,
   "metadata": {},
   "outputs": [],
   "source": [
    "# TODO: Enter code here to generate the convergence plot\n",
    "# Set training parameters.\n",
    "num_topics = 10\n",
    "passes = 50\n",
    "iterations = 400\n",
    "\n",
    "model_v2 = LdaModel(\n",
    "    corpus=corpus,\n",
    "    id2word=id2word,\n",
    "    alpha='auto',\n",
    "    eta='auto',\n",
    "    iterations=iterations,\n",
    "    num_topics=num_topics,\n",
    "    passes=passes)\n"
   ]
  },
  {
   "cell_type": "code",
   "execution_count": 12,
   "metadata": {},
   "outputs": [
    {
     "data": {
      "text/plain": [
       "[-9.53,\n",
       " -8.908,\n",
       " -8.574,\n",
       " -8.293,\n",
       " -8.164,\n",
       " -8.113,\n",
       " -8.088,\n",
       " -8.073,\n",
       " -8.061,\n",
       " -8.053,\n",
       " -8.046,\n",
       " -8.04,\n",
       " -8.035,\n",
       " -8.031,\n",
       " -8.027,\n",
       " -8.024,\n",
       " -8.021,\n",
       " -8.018,\n",
       " -8.016,\n",
       " -8.013,\n",
       " -8.012,\n",
       " -8.01,\n",
       " -8.008,\n",
       " -8.006,\n",
       " -8.004,\n",
       " -8.003,\n",
       " -8.001,\n",
       " -8.0,\n",
       " -7.999,\n",
       " -7.998,\n",
       " -7.997,\n",
       " -7.996,\n",
       " -7.995,\n",
       " -7.994,\n",
       " -7.993,\n",
       " -7.992,\n",
       " -7.991,\n",
       " -7.99,\n",
       " -7.989,\n",
       " -7.989,\n",
       " -7.988,\n",
       " -7.987,\n",
       " -7.986,\n",
       " -7.986,\n",
       " -7.985,\n",
       " -7.985,\n",
       " -7.984,\n",
       " -7.984,\n",
       " -7.983,\n",
       " -7.983]"
      ]
     },
     "execution_count": 12,
     "metadata": {},
     "output_type": "execute_result"
    }
   ],
   "source": [
    "loglikes = parse_logfile()\n",
    "loglikes"
   ]
  },
  {
   "cell_type": "code",
   "execution_count": 24,
   "metadata": {},
   "outputs": [
    {
     "data": {
      "text/plain": [
       "<matplotlib.axes._subplots.AxesSubplot at 0x7fb5098befd0>"
      ]
     },
     "execution_count": 24,
     "metadata": {},
     "output_type": "execute_result"
    },
    {
     "data": {
      "image/png": "[encoded data removed]",
      "text/plain": [
       "<Figure size 1080x360 with 1 Axes>"
      ]
     },
     "metadata": {},
     "output_type": "display_data"
    }
   ],
   "source": [
    "import pandas as pd\n",
    "\n",
    "# plot the loglikehihoods\n",
    "# plot the elbow    \n",
    "fig = plt.figure(figsize=(15, 5))\n",
    "pd.Series(loglikes).plot(title='Plot of the Loglikelihoods')\n"
   ]
  },
  {
   "cell_type": "code",
   "execution_count": 25,
   "metadata": {},
   "outputs": [
    {
     "name": "stderr",
     "output_type": "stream",
     "text": [
      "/home/quartermaine/anaconda3/envs/tensorflow/lib/python3.7/site-packages/pyLDAvis/_prepare.py:257: FutureWarning: Sorting because non-concatenation axis is not aligned. A future version\n",
      "of pandas will change to not sort by default.\n",
      "\n",
      "To accept the future behavior, pass 'sort=False'.\n",
      "\n",
      "To retain the current behavior and silence the warning, pass 'sort=True'.\n",
      "\n",
      "  return pd.concat([default_term_info] + list(topic_dfs))\n"
     ]
    },
    {
     "data": {
      "text/html": [
       "\n",
       "<link rel=\"stylesheet\" type=\"text/css\" href=\"https://cdn.rawgit.com/bmabey/pyLDAvis/files/ldavis.v1.0.0.css\">\n",
       "\n",
       "\n",
       "<div id=\"ldavis_el295371404155241790249898450184\"></div>\n",
       "<script type=\"text/javascript\">\n",
       "\n",
       "var ldavis_el295371404155241790249898450184_data = {\"mdsDat\": {\"x\": [-0.07514533959974151, -0.10015136613499986, -0.1139781387469166, -0.09209879413447702, -0.15941077022142333, -0.02231335515530645, 0.027155264602520403, 0.13438770093524094, 0.16692974000365135, 0.23462505845145254], \"y\": [0.23818264995354665, 0.03173740215834991, -0.003309742717980613, -0.09105796126992911, -0.16473668529808885, 0.14679395681042162, -0.09206764060258787, -0.0629675679571546, -0.01320869103006915, 0.010634279953491664], \"topics\": [1, 2, 3, 4, 5, 6, 7, 8, 9, 10], \"cluster\": [1, 1, 1, 1, 1, 1, 1, 1, 1, 1], \"Freq\": [17.2585391998291, 15.973639488220215, 13.405092239379883, 12.787088394165039, 12.618202209472656, 11.557371139526367, 6.293804168701172, 4.078117370605469, 3.5740606784820557, 2.4540774822235107]}, \"tinfo\": {\"Category\": [\"Default\", \"Default\", \"Default\", \"Default\", \"Default\", \"Default\", \"Default\", \"Default\", \"Default\", \"Default\", \"Default\", \"Default\", \"Default\", \"Default\", \"Default\", \"Default\", \"Default\", \"Default\", \"Default\", \"Default\", \"Default\", \"Default\", \"Default\", \"Default\", \"Default\", \"Default\", \"Default\", \"Default\", \"Default\", \"Default\", \"Topic1\", \"Topic1\", \"Topic1\", \"Topic1\", \"Topic1\", \"Topic1\", \"Topic1\", \"Topic1\", \"Topic1\", \"Topic1\", \"Topic1\", \"Topic1\", \"Topic1\", \"Topic1\", \"Topic1\", \"Topic1\", \"Topic1\", \"Topic1\", \"Topic1\", \"Topic1\", \"Topic1\", \"Topic1\", \"Topic1\", \"Topic1\", \"Topic1\", \"Topic1\", \"Topic1\", \"Topic1\", \"Topic1\", \"Topic1\", \"Topic1\", \"Topic1\", \"Topic1\", \"Topic1\", \"Topic1\", \"Topic1\", \"Topic1\", \"Topic1\", \"Topic1\", \"Topic1\", \"Topic1\", \"Topic1\", \"Topic1\", \"Topic1\", \"Topic1\", \"Topic1\", \"Topic1\", \"Topic1\", \"Topic1\", \"Topic1\", \"Topic1\", \"Topic1\", \"Topic1\", \"Topic1\", \"Topic1\", \"Topic1\", \"Topic1\", \"Topic1\", \"Topic2\", \"Topic2\", \"Topic2\", \"Topic2\", \"Topic2\", \"Topic2\", \"Topic2\", \"Topic2\", \"Topic2\", \"Topic2\", \"Topic2\", \"Topic2\", \"Topic2\", \"Topic2\", \"Topic2\", \"Topic2\", \"Topic2\", \"Topic2\", \"Topic2\", \"Topic2\", \"Topic2\", \"Topic2\", \"Topic2\", \"Topic2\", \"Topic2\", \"Topic2\", \"Topic2\", \"Topic2\", \"Topic2\", \"Topic2\", \"Topic2\", \"Topic2\", \"Topic2\", \"Topic2\", \"Topic2\", \"Topic2\", \"Topic2\", \"Topic2\", \"Topic2\", \"Topic2\", \"Topic2\", \"Topic2\", \"Topic2\", \"Topic2\", \"Topic2\", \"Topic2\", \"Topic2\", \"Topic2\", \"Topic2\", \"Topic2\", \"Topic2\", \"Topic2\", \"Topic2\", \"Topic2\", \"Topic2\", \"Topic2\", \"Topic2\", \"Topic2\", \"Topic2\", \"Topic2\", \"Topic2\", \"Topic2\", \"Topic2\", \"Topic2\", \"Topic2\", \"Topic2\", \"Topic2\", \"Topic2\", \"Topic2\", \"Topic2\", \"Topic3\", \"Topic3\", \"Topic3\", \"Topic3\", \"Topic3\", \"Topic3\", \"Topic3\", \"Topic3\", \"Topic3\", \"Topic3\", \"Topic3\", \"Topic3\", \"Topic3\", \"Topic3\", \"Topic3\", \"Topic3\", \"Topic3\", \"Topic3\", \"Topic3\", \"Topic3\", \"Topic3\", \"Topic3\", \"Topic3\", \"Topic3\", \"Topic3\", \"Topic3\", \"Topic3\", \"Topic3\", \"Topic3\", \"Topic3\", \"Topic3\", \"Topic3\", \"Topic3\", \"Topic3\", \"Topic3\", \"Topic3\", \"Topic3\", \"Topic3\", \"Topic3\", \"Topic3\", \"Topic3\", \"Topic3\", \"Topic3\", \"Topic3\", \"Topic3\", \"Topic3\", \"Topic3\", \"Topic3\", \"Topic3\", \"Topic3\", \"Topic3\", \"Topic3\", \"Topic3\", \"Topic3\", \"Topic3\", \"Topic3\", \"Topic3\", \"Topic3\", \"Topic3\", \"Topic3\", \"Topic3\", \"Topic3\", \"Topic3\", \"Topic3\", \"Topic3\", \"Topic3\", \"Topic3\", \"Topic3\", \"Topic3\", \"Topic3\", \"Topic3\", \"Topic3\", \"Topic3\", \"Topic3\", \"Topic3\", \"Topic3\", \"Topic3\", \"Topic4\", \"Topic4\", \"Topic4\", \"Topic4\", \"Topic4\", \"Topic4\", \"Topic4\", \"Topic4\", \"Topic4\", \"Topic4\", \"Topic4\", \"Topic4\", \"Topic4\", \"Topic4\", \"Topic4\", \"Topic4\", \"Topic4\", \"Topic4\", \"Topic4\", \"Topic4\", \"Topic4\", \"Topic4\", \"Topic4\", \"Topic4\", \"Topic4\", \"Topic4\", \"Topic4\", \"Topic4\", \"Topic4\", \"Topic4\", \"Topic4\", \"Topic4\", \"Topic4\", \"Topic4\", \"Topic4\", \"Topic4\", \"Topic4\", \"Topic4\", \"Topic4\", \"Topic4\", \"Topic4\", \"Topic4\", \"Topic4\", \"Topic4\", \"Topic4\", \"Topic4\", \"Topic4\", \"Topic4\", \"Topic4\", \"Topic4\", \"Topic4\", \"Topic4\", \"Topic4\", \"Topic4\", \"Topic4\", \"Topic4\", \"Topic4\", \"Topic4\", \"Topic4\", \"Topic4\", \"Topic4\", \"Topic4\", \"Topic4\", \"Topic4\", \"Topic4\", \"Topic4\", \"Topic4\", \"Topic4\", \"Topic4\", \"Topic4\", \"Topic4\", \"Topic4\", \"Topic4\", \"Topic4\", \"Topic4\", \"Topic5\", \"Topic5\", \"Topic5\", \"Topic5\", \"Topic5\", \"Topic5\", \"Topic5\", \"Topic5\", \"Topic5\", \"Topic5\", \"Topic5\", \"Topic5\", \"Topic5\", \"Topic5\", \"Topic5\", \"Topic5\", \"Topic5\", \"Topic5\", \"Topic5\", \"Topic5\", \"Topic5\", \"Topic5\", \"Topic5\", \"Topic5\", \"Topic5\", \"Topic5\", \"Topic5\", \"Topic5\", \"Topic5\", \"Topic5\", \"Topic5\", \"Topic5\", \"Topic5\", \"Topic5\", \"Topic5\", \"Topic5\", \"Topic5\", \"Topic5\", \"Topic5\", \"Topic5\", \"Topic5\", \"Topic5\", \"Topic5\", \"Topic5\", \"Topic5\", \"Topic5\", \"Topic5\", \"Topic5\", \"Topic5\", \"Topic5\", \"Topic5\", \"Topic5\", \"Topic5\", \"Topic5\", \"Topic5\", \"Topic5\", \"Topic5\", \"Topic5\", \"Topic5\", \"Topic5\", \"Topic5\", \"Topic5\", \"Topic5\", \"Topic5\", \"Topic6\", \"Topic6\", \"Topic6\", \"Topic6\", \"Topic6\", \"Topic6\", \"Topic6\", \"Topic6\", \"Topic6\", \"Topic6\", \"Topic6\", \"Topic6\", \"Topic6\", \"Topic6\", \"Topic6\", \"Topic6\", \"Topic6\", \"Topic6\", \"Topic6\", \"Topic6\", \"Topic6\", \"Topic6\", \"Topic6\", \"Topic6\", \"Topic6\", \"Topic6\", \"Topic6\", \"Topic6\", \"Topic6\", \"Topic6\", \"Topic6\", \"Topic6\", \"Topic6\", \"Topic6\", \"Topic6\", \"Topic6\", \"Topic6\", \"Topic6\", \"Topic6\", \"Topic6\", \"Topic6\", \"Topic6\", \"Topic6\", \"Topic6\", \"Topic6\", \"Topic6\", \"Topic6\", \"Topic6\", \"Topic6\", \"Topic6\", \"Topic6\", \"Topic6\", \"Topic6\", \"Topic6\", \"Topic6\", \"Topic6\", \"Topic6\", \"Topic6\", \"Topic6\", \"Topic6\", \"Topic6\", \"Topic6\", \"Topic6\", \"Topic6\", \"Topic6\", \"Topic6\", \"Topic6\", \"Topic6\", \"Topic6\", \"Topic6\", \"Topic6\", \"Topic7\", \"Topic7\", \"Topic7\", \"Topic7\", \"Topic7\", \"Topic7\", \"Topic7\", \"Topic7\", \"Topic7\", \"Topic7\", \"Topic7\", \"Topic7\", \"Topic7\", \"Topic7\", \"Topic7\", \"Topic7\", \"Topic7\", \"Topic7\", \"Topic7\", \"Topic7\", \"Topic7\", \"Topic7\", \"Topic7\", \"Topic7\", \"Topic7\", \"Topic7\", \"Topic7\", \"Topic7\", \"Topic7\", \"Topic7\", \"Topic7\", \"Topic7\", \"Topic7\", \"Topic7\", \"Topic7\", \"Topic7\", \"Topic7\", \"Topic7\", \"Topic7\", \"Topic7\", \"Topic7\", \"Topic7\", \"Topic7\", \"Topic7\", \"Topic7\", \"Topic7\", \"Topic7\", \"Topic7\", \"Topic7\", \"Topic7\", \"Topic7\", \"Topic7\", \"Topic7\", \"Topic7\", \"Topic7\", \"Topic7\", \"Topic7\", \"Topic7\", \"Topic7\", \"Topic7\", \"Topic7\", \"Topic7\", \"Topic7\", \"Topic7\", \"Topic8\", \"Topic8\", \"Topic8\", \"Topic8\", \"Topic8\", \"Topic8\", \"Topic8\", \"Topic8\", \"Topic8\", \"Topic8\", \"Topic8\", \"Topic8\", \"Topic8\", \"Topic8\", \"Topic8\", \"Topic8\", \"Topic8\", \"Topic8\", \"Topic8\", \"Topic8\", \"Topic8\", \"Topic8\", \"Topic8\", \"Topic8\", \"Topic8\", \"Topic8\", \"Topic8\", \"Topic8\", \"Topic8\", \"Topic8\", \"Topic8\", \"Topic8\", \"Topic8\", \"Topic8\", \"Topic8\", \"Topic8\", \"Topic8\", \"Topic8\", \"Topic8\", \"Topic8\", \"Topic8\", \"Topic8\", \"Topic8\", \"Topic8\", \"Topic8\", \"Topic8\", \"Topic8\", \"Topic8\", \"Topic8\", \"Topic8\", \"Topic8\", \"Topic8\", \"Topic8\", \"Topic8\", \"Topic8\", \"Topic8\", \"Topic8\", \"Topic8\", \"Topic8\", \"Topic8\", \"Topic8\", \"Topic9\", \"Topic9\", \"Topic9\", \"Topic9\", \"Topic9\", \"Topic9\", \"Topic9\", \"Topic9\", \"Topic9\", \"Topic9\", \"Topic9\", \"Topic9\", \"Topic9\", \"Topic9\", \"Topic9\", \"Topic9\", \"Topic9\", \"Topic9\", \"Topic9\", \"Topic9\", \"Topic9\", \"Topic9\", \"Topic9\", \"Topic9\", \"Topic9\", \"Topic9\", \"Topic9\", \"Topic9\", \"Topic9\", \"Topic9\", \"Topic9\", \"Topic9\", \"Topic9\", \"Topic9\", \"Topic9\", \"Topic9\", \"Topic9\", \"Topic9\", \"Topic9\", \"Topic9\", \"Topic9\", \"Topic9\", \"Topic9\", \"Topic9\", \"Topic9\", \"Topic9\", \"Topic9\", \"Topic9\", \"Topic9\", \"Topic9\", \"Topic9\", \"Topic9\", \"Topic9\", \"Topic9\", \"Topic9\", \"Topic9\", \"Topic10\", \"Topic10\", \"Topic10\", \"Topic10\", \"Topic10\", \"Topic10\", \"Topic10\", \"Topic10\", \"Topic10\", \"Topic10\", \"Topic10\", \"Topic10\", \"Topic10\", \"Topic10\", \"Topic10\", \"Topic10\", \"Topic10\", \"Topic10\", \"Topic10\", \"Topic10\", \"Topic10\", \"Topic10\", \"Topic10\", \"Topic10\", \"Topic10\", \"Topic10\", \"Topic10\", \"Topic10\", \"Topic10\", \"Topic10\", \"Topic10\", \"Topic10\", \"Topic10\", \"Topic10\", \"Topic10\", \"Topic10\", \"Topic10\", \"Topic10\", \"Topic10\", \"Topic10\", \"Topic10\", \"Topic10\", \"Topic10\", \"Topic10\", \"Topic10\", \"Topic10\", \"Topic10\", \"Topic10\", \"Topic10\"], \"Freq\": [570.0, 466.0, 176.0, 195.0, 291.0, 181.0, 553.0, 250.0, 97.0, 588.0, 405.0, 220.0, 159.0, 139.0, 225.0, 144.0, 149.0, 218.0, 110.0, 120.0, 312.0, 143.0, 251.0, 171.0, 142.0, 98.0, 367.0, 146.0, 120.0, 103.0, 119.9848403930664, 61.96998977661133, 55.826683044433594, 50.30701446533203, 45.850074768066406, 40.93341064453125, 64.30793762207031, 34.646915435791016, 28.795413970947266, 28.045957565307617, 27.897083282470703, 26.20477867126465, 25.43623924255371, 24.97772216796875, 24.821380615234375, 139.60658264160156, 20.525102615356445, 19.14229393005371, 18.223806381225586, 17.916622161865234, 17.762027740478516, 17.45598793029785, 15.459001541137695, 14.846858978271484, 14.230493545532227, 13.773473739624023, 13.768239974975586, 51.379859924316406, 13.157325744628906, 12.83906364440918, 62.724876403808594, 61.997413635253906, 40.11598205566406, 70.2745361328125, 119.91152954101562, 85.72002410888672, 131.00323486328125, 48.23234176635742, 163.7758026123047, 51.315643310546875, 27.057689666748047, 60.35360336303711, 83.52518463134766, 141.59104919433594, 130.09129333496094, 57.68241882324219, 78.32568359375, 179.92430114746094, 80.33057403564453, 59.80869674682617, 93.30402374267578, 52.588111877441406, 60.35297393798828, 50.45919418334961, 55.82505798339844, 60.16667938232422, 52.18919372558594, 51.34477615356445, 32.364540100097656, 26.109346389770508, 21.848033905029297, 43.095401763916016, 56.06330490112305, 20.223772048950195, 16.23138999938965, 15.977276802062988, 12.722844123840332, 12.088422775268555, 28.503273010253906, 11.101134300231934, 10.725257873535156, 10.46911334991455, 10.884407997131348, 9.467171669006348, 33.063053131103516, 9.095367431640625, 8.837716102600098, 8.720553398132324, 8.470425605773926, 8.224018096923828, 8.217541694641113, 7.8402910232543945, 15.064144134521484, 7.719969749450684, 7.2160325050354, 7.202853679656982, 7.204281330108643, 6.5973896980285645, 43.96209716796875, 41.990753173828125, 58.90213394165039, 35.62822723388672, 24.123029708862305, 41.60662078857422, 33.300880432128906, 131.9251251220703, 25.081680297851562, 368.1019287109375, 26.14457130432129, 81.98259735107422, 276.6258850097656, 86.37998962402344, 63.36582565307617, 113.11096954345703, 47.62288284301758, 88.3828353881836, 26.423194885253906, 77.75308227539062, 97.88505554199219, 242.67852783203125, 102.40419006347656, 121.13533782958984, 133.61964416503906, 73.47576904296875, 191.53207397460938, 139.5181884765625, 50.17550277709961, 62.53667068481445, 54.9127197265625, 87.23683166503906, 67.1894760131836, 93.80001831054688, 82.3852310180664, 72.37381744384766, 54.940879821777344, 76.05432891845703, 61.84929275512695, 53.49109649658203, 28.235166549682617, 20.537092208862305, 14.820276260375977, 14.033548355102539, 12.43970775604248, 13.779973983764648, 9.649085998535156, 9.37802791595459, 9.375105857849121, 8.990009307861328, 7.264024257659912, 7.255298614501953, 6.997955799102783, 6.997311115264893, 6.99407958984375, 6.993875503540039, 14.124953269958496, 6.865905284881592, 6.858545303344727, 30.206619262695312, 14.871389389038086, 6.599872589111328, 6.596919536590576, 6.596571445465088, 6.595237731933594, 6.594331741333008, 6.580813884735107, 6.201491832733154, 6.19953727722168, 6.196265697479248, 10.997971534729004, 10.042661666870117, 25.131580352783203, 14.088335037231445, 15.300360679626465, 14.590590476989746, 86.54023742675781, 16.88160514831543, 73.11134338378906, 16.602676391601562, 58.20724868774414, 15.107327461242676, 129.60552978515625, 30.146940231323242, 31.60498046875, 132.76968383789062, 34.05319595336914, 86.99748229980469, 27.33321762084961, 51.87458419799805, 27.381412506103516, 29.052902221679688, 71.87939453125, 32.99116897583008, 139.7693634033203, 120.66744995117188, 65.589111328125, 39.053768157958984, 152.112060546875, 47.26158905029297, 61.193214416503906, 28.49520492553711, 115.52427673339844, 101.89117431640625, 41.78709030151367, 48.26005935668945, 43.80592346191406, 37.55112838745117, 62.718177795410156, 46.310333251953125, 45.07102966308594, 35.96024703979492, 42.14956283569336, 50.850650787353516, 41.78159713745117, 37.31262969970703, 43.647281646728516, 56.64226150512695, 108.42989349365234, 18.82317543029785, 17.824451446533203, 35.55448913574219, 14.386988639831543, 12.832836151123047, 11.835870742797852, 21.421669006347656, 9.506298065185547, 9.282670974731445, 9.277563095092773, 9.171463966369629, 8.952729225158691, 15.061805725097656, 7.841094017028809, 7.840113162994385, 7.839815139770508, 7.509807586669922, 7.499233722686768, 7.395450592041016, 7.17692756652832, 6.946506023406982, 6.621920585632324, 87.89701080322266, 18.81163215637207, 6.401736259460449, 6.39971399307251, 6.39433479309082, 6.2913031578063965, 20.562318801879883, 12.026082992553711, 10.048027992248535, 11.751971244812012, 18.78850746154785, 34.74930953979492, 11.78580093383789, 26.179121017456055, 26.725902557373047, 13.591865539550781, 49.905025482177734, 135.50137329101562, 173.1273193359375, 42.29609298706055, 41.40342712402344, 63.385311126708984, 13.115077018737793, 22.979694366455078, 18.37923240661621, 32.806034088134766, 174.57948303222656, 67.16127014160156, 106.52057647705078, 33.58930206298828, 82.8748779296875, 45.5659294128418, 52.80974197387695, 96.9555892944336, 48.198829650878906, 119.39478302001953, 41.6799430847168, 43.99052047729492, 60.493019104003906, 53.70639419555664, 34.78913497924805, 54.54331588745117, 46.05640411376953, 71.81568145751953, 52.14512252807617, 45.13317108154297, 51.50003433227539, 59.80662536621094, 47.13166427612305, 46.591026306152344, 46.12726593017578, 175.49766540527344, 67.3667984008789, 62.382537841796875, 59.83415985107422, 49.850563049316406, 27.11583137512207, 26.995256423950195, 18.864856719970703, 16.673933029174805, 16.55867576599121, 16.440082550048828, 14.701133728027344, 13.889013290405273, 13.773405075073242, 13.193129539489746, 41.514068603515625, 12.613006591796875, 11.451348304748535, 11.451714515686035, 11.082840919494629, 23.428422927856445, 44.36565399169922, 8.784582138061523, 8.777477264404297, 8.43816089630127, 40.94172668457031, 8.205202102661133, 177.51318359375, 7.625826835632324, 7.625826835632324, 163.3045196533203, 44.679866790771484, 122.80047607421875, 128.88424682617188, 37.40538787841797, 55.41485595703125, 87.43856048583984, 78.77442932128906, 15.304594039916992, 18.959362030029297, 38.15956115722656, 40.60430145263672, 72.69978332519531, 54.482112884521484, 51.704185485839844, 69.05421447753906, 132.4269561767578, 60.81656265258789, 30.88649559020996, 43.48223876953125, 62.84831619262695, 67.95720672607422, 64.41221618652344, 89.27886199951172, 108.23828887939453, 77.62716674804688, 82.760498046875, 105.04766845703125, 69.36906433105469, 82.02685546875, 59.507205963134766, 58.531131744384766, 54.74553680419922, 52.39622116088867, 34.2166633605957, 33.13650131225586, 30.377304077148438, 29.63928985595703, 22.69767951965332, 16.777193069458008, 15.002209663391113, 12.361212730407715, 19.417814254760742, 11.913459777832031, 11.328765869140625, 11.174079895019531, 10.427817344665527, 10.283904075622559, 9.25368595123291, 9.251511573791504, 9.233562469482422, 8.524665832519531, 8.520464897155762, 8.51369857788086, 8.51242733001709, 8.510817527770996, 8.499470710754395, 8.364492416381836, 8.229082107543945, 8.227749824523926, 7.933145046234131, 7.7835869789123535, 7.491154193878174, 7.490358352661133, 16.009939193725586, 32.34049606323242, 15.329305648803711, 101.82284545898438, 31.811866760253906, 99.48121643066406, 28.127891540527344, 15.005481719970703, 17.20224952697754, 19.422407150268555, 17.436481475830078, 22.88235092163086, 15.828507423400879, 27.934696197509766, 17.00933074951172, 29.14235496520996, 98.4523696899414, 23.410146713256836, 23.082950592041016, 53.45684051513672, 25.406129837036133, 26.588258743286133, 41.988380432128906, 21.156566619873047, 91.5539779663086, 85.68948364257812, 109.75296783447266, 38.16440963745117, 46.37631607055664, 38.03594970703125, 29.815256118774414, 53.08235549926758, 22.462867736816406, 37.35175323486328, 38.40229797363281, 34.6891975402832, 43.85175323486328, 28.964677810668945, 32.55287551879883, 29.240032196044922, 27.20890998840332, 96.83431243896484, 25.208505630493164, 24.769515991210938, 19.78082275390625, 14.026531219482422, 12.923087120056152, 12.368518829345703, 33.92142105102539, 11.699972152709961, 11.262897491455078, 10.92896842956543, 10.70091724395752, 12.54955005645752, 9.821348190307617, 9.156364440917969, 8.605081558227539, 8.271059036254883, 6.387993335723877, 6.38616418838501, 11.637569427490234, 5.837890625, 5.8361616134643555, 29.700857162475586, 5.614762306213379, 5.501232147216797, 5.501667499542236, 4.943251132965088, 4.939227104187012, 4.619897842407227, 4.6188740730285645, 22.234031677246094, 7.378396987915039, 27.628122329711914, 8.048030853271484, 30.20555305480957, 37.62132263183594, 16.282270431518555, 7.144982814788818, 9.219088554382324, 20.939071655273438, 12.624757766723633, 13.431595802307129, 14.563523292541504, 28.518217086791992, 27.820425033569336, 17.452674865722656, 26.701862335205078, 29.993457794189453, 26.895204544067383, 32.28881072998047, 52.20137023925781, 16.557937622070312, 26.45684051513672, 14.717060089111328, 36.745628356933594, 30.529508590698242, 22.03871726989746, 33.049774169921875, 18.07403564453125, 21.125133514404297, 22.17723846435547, 20.27113914489746, 16.78232765197754, 16.62467384338379, 14.986414909362793, 11.558225631713867, 9.945992469787598, 9.742958068847656, 9.441713333129883, 8.033990859985352, 6.624447822570801, 5.716734886169434, 5.515262603759766, 5.314478874206543, 5.010450839996338, 5.0103373527526855, 8.713058471679688, 4.504886150360107, 4.50191068649292, 4.497865200042725, 10.779388427734375, 4.493096828460693, 4.204790115356445, 4.204321384429932, 4.004785060882568, 4.003329277038574, 3.899165630340576, 3.70015549659729, 3.694457530975342, 3.693471670150757, 10.617120742797852, 3.398219347000122, 3.1985185146331787, 3.1956419944763184, 16.499500274658203, 11.968416213989258, 8.7987642288208, 22.618595123291016, 13.998706817626953, 17.672836303710938, 7.718317985534668, 18.445035934448242, 10.333158493041992, 8.957376480102539, 17.26504135131836, 6.215307712554932, 9.337892532348633, 7.866835594177246, 5.481272220611572, 8.184375762939453, 8.453734397888184, 7.643847942352295, 9.386414527893066, 12.126909255981445, 12.439643859863281, 14.03691291809082, 13.871888160705566, 16.55091667175293, 11.353004455566406, 10.378036499023438, 10.311741828918457, 10.048368453979492, 9.976164817810059, 11.28289794921875, 10.569863319396973, 13.338775634765625, 12.714750289916992, 10.851216316223145, 10.12549877166748, 9.503434181213379, 8.675093650817871, 7.843339443206787, 7.224303245544434, 10.67590045928955, 5.977756977081299, 5.977984428405762, 10.23709487915039, 5.878043174743652, 5.667525768280029, 5.667441368103027, 5.148715019226074, 29.08401107788086, 4.634226322174072, 4.634127616882324, 4.628557205200195, 4.625990390777588, 4.323548793792725, 4.321730136871338, 4.320095539093018, 4.116930961608887, 4.169460296630859, 7.27455997467041, 3.8052287101745605, 3.805088996887207, 3.8043975830078125, 6.448515892028809, 8.5433988571167, 12.47280216217041, 5.977074146270752, 28.83601951599121, 18.400671005249023, 42.5899772644043, 12.483983993530273, 18.81032943725586, 16.506839752197266, 6.33747673034668, 37.24711227416992, 11.115838050842285, 21.387222290039062, 19.647829055786133, 10.018030166625977, 7.956193923950195, 17.295127868652344, 7.985227584838867, 10.065169334411621, 11.35518741607666, 9.566984176635742, 13.1292724609375, 10.778426170349121, 9.752233505249023, 7.998036861419678, 16.311317443847656, 12.178619384765625, 11.017823219299316, 11.016741752624512, 10.568279266357422, 8.59237289428711, 8.233569145202637, 8.232314109802246, 7.964599132537842, 7.510779857635498, 7.06779146194458, 6.885287284851074, 6.525413513183594, 5.6284871101379395, 5.627570152282715, 4.733273506164551, 4.642751693725586, 4.375284671783447, 4.015345096588135, 4.014074802398682, 4.013541221618652, 3.567180871963501, 3.5668909549713135, 3.566434144973755, 3.477806568145752, 3.2949697971343994, 3.285001277923584, 5.250114440917969, 2.847618341445923, 2.845799446105957, 13.875566482543945, 7.341248512268066, 5.249849319458008, 11.855231285095215, 6.630983829498291, 4.823644161224365, 6.711677074432373, 14.45527172088623, 6.3566670417785645, 14.215058326721191, 6.15158748626709, 11.123764991760254, 6.138514518737793, 8.81360912322998, 7.18835973739624, 8.669461250305176, 6.182659149169922, 5.728278160095215, 5.671568870544434], \"Term\": [\"america\", \"world\", \"care\", \"tax\", \"children\", \"health\", \"people\", \"federal\", \"crime\", \"new\", \"congress\", \"budget\", \"families\", \"welfare\", \"peace\", \"nuclear\", \"president\", \"know\", \"schools\", \"soviet\", \"americans\", \"energy\", \"security\", \"century\", \"administration\", \"school\", \"government\", \"nations\", \"billion\", \"like\", \"soviet\", \"europe\", \"strategic\", \"china\", \"relations\", \"africa\", \"east\", \"stability\", \"covenant\", \"stable\", \"russia\", \"afghanistan\", \"agreements\", \"israel\", \"bosnia\", \"nuclear\", \"iraq\", \"stake\", \"iran\", \"adversaries\", \"western\", \"persian\", \"capability\", \"refugees\", \"materials\", \"pakistan\", \"payments\", \"arms\", \"nicaragua\", \"star\", \"allies\", \"agreement\", \"nato\", \"countries\", \"nations\", \"international\", \"united\", \"asia\", \"peace\", \"interests\", \"gulf\", \"foreign\", \"war\", \"states\", \"security\", \"weapons\", \"policy\", \"world\", \"continue\", \"forces\", \"economic\", \"military\", \"trade\", \"middle\", \"strong\", \"future\", \"nation\", \"help\", \"idea\", \"speak\", \"teen\", \"stronger\", \"prosperity\", \"grade\", \"perfect\", \"scientific\", \"cleaner\", \"rewards\", \"era\", \"forge\", \"founders\", \"doors\", \"owe\", \"tests\", \"revolution\", \"fought\", \"smarter\", \"reality\", \"rock\", \"jack\", \"emissions\", \"skill\", \"generations\", \"lived\", \"usa\", \"background\", \"cigarettes\", \"lucas\", \"science\", \"age\", \"technology\", \"space\", \"promise\", \"challenges\", \"honor\", \"century\", \"greatest\", \"america\", \"moment\", \"opportunity\", \"world\", \"union\", \"common\", \"economy\", \"global\", \"freedom\", \"safer\", \"great\", \"future\", \"new\", \"tonight\", \"nation\", \"americans\", \"state\", \"people\", \"american\", \"history\", \"trade\", \"free\", \"time\", \"today\", \"government\", \"work\", \"let\", \"responsibility\", \"years\", \"country\", \"peace\", \"bless\", \"loans\", \"senator\", \"zones\", \"unemployed\", \"projects\", \"worth\", \"divide\", \"biological\", \"spur\", \"surpluses\", \"weapon\", \"dean\", \"digital\", \"mccaffrey\", \"kosovo\", \"richard\", \"equipped\", \"talents\", \"affordable\", \"banks\", \"vouchers\", \"libraries\", \"paycheck\", \"miles\", \"extending\", \"jackson\", \"mortgages\", \"deploy\", \"gratitude\", \"paperwork\", \"intelligence\", \"surplus\", \"lobbyists\", \"total\", \"numbers\", \"billion\", \"hours\", \"spending\", \"grant\", \"thank\", \"priority\", \"budget\", \"housing\", \"sector\", \"federal\", \"god\", \"programs\", \"training\", \"private\", \"rural\", \"incentives\", \"education\", \"businesses\", \"years\", \"government\", \"jobs\", \"women\", \"new\", \"increase\", \"program\", \"number\", \"year\", \"congress\", \"defense\", \"high\", \"communities\", \"workers\", \"help\", \"million\", \"economy\", \"college\", \"support\", \"america\", \"economic\", \"cut\", \"american\", \"teachers\", \"schools\", \"americorps\", \"math\", \"lot\", \"scores\", \"arts\", \"districts\", \"read\", \"grass\", \"enemy\", \"partnerships\", \"diplomacy\", \"fathers\", \"mexico\", \"aisle\", \"punish\", \"scholarship\", \"master\", \"tech\", \"greatness\", \"fire\", \"chicago\", \"futures\", \"school\", \"kids\", \"demanding\", \"wait\", \"diseases\", \"basics\", \"liberty\", \"classrooms\", \"remove\", \"humanities\", \"learning\", \"students\", \"charter\", \"got\", \"ready\", \"measure\", \"don\", \"know\", \"children\", \"sure\", \"young\", \"parents\", \"politics\", \"cold\", \"agree\", \"standards\", \"people\", \"good\", \"help\", \"able\", \"let\", \"like\", \"right\", \"work\", \"want\", \"america\", \"hard\", \"best\", \"country\", \"need\", \"public\", \"support\", \"challenge\", \"year\", \"tonight\", \"education\", \"national\", \"american\", \"time\", \"congress\", \"new\", \"care\", \"income\", \"insurance\", \"medicare\", \"taxes\", \"coverage\", \"deficits\", \"retirement\", \"paying\", \"accounts\", \"incomes\", \"finance\", \"tuition\", \"medicaid\", \"cover\", \"low\", \"sick\", \"product\", \"employers\", \"credits\", \"debt\", \"raise\", \"prescription\", \"smallest\", \"doctor\", \"ought\", \"deduction\", \"tax\", \"mccain\", \"feingold\", \"health\", \"cuts\", \"welfare\", \"families\", \"medical\", \"deficit\", \"family\", \"reform\", \"bureaucracy\", \"reward\", \"cost\", \"rates\", \"child\", \"plan\", \"pay\", \"social\", \"work\", \"cut\", \"benefits\", \"inflation\", \"system\", \"million\", \"jobs\", \"americans\", \"year\", \"security\", \"children\", \"people\", \"budget\", \"years\", \"way\", \"need\", \"let\", \"percent\", \"regulations\", \"conservation\", \"coal\", \"immigrants\", \"management\", \"resource\", \"empowerment\", \"cars\", \"executive\", \"fast\", \"adopted\", \"haiti\", \"town\", \"enter\", \"possibilities\", \"ethnic\", \"changed\", \"everglades\", \"safeguard\", \"chip\", \"creativity\", \"pensions\", \"dole\", \"acres\", \"rail\", \"canal\", \"interstate\", \"treatments\", \"railroads\", \"trucking\", \"convention\", \"water\", \"review\", \"administration\", \"financial\", \"energy\", \"commission\", \"unnecessary\", \"regulatory\", \"efficient\", \"republican\", \"ban\", \"eliminate\", \"established\", \"systems\", \"order\", \"federal\", \"urge\", \"proposals\", \"act\", \"senate\", \"industry\", \"major\", \"transportation\", \"congress\", \"government\", \"new\", \"human\", \"policy\", \"legislation\", \"proposed\", \"nation\", \"air\", \"programs\", \"national\", \"program\", \"years\", \"development\", \"states\", \"year\", \"state\", \"crime\", \"minimum\", \"gun\", \"guns\", \"enforce\", \"brady\", \"officers\", \"police\", \"organized\", \"gangs\", \"tougher\", \"bridge\", \"toxic\", \"adults\", \"requiring\", \"mental\", \"decent\", \"hunt\", \"killed\", \"solar\", \"polluters\", \"oklahoma\", \"equal\", \"synthetic\", \"retire\", \"locks\", \"identity\", \"bravery\", \"cents\", \"reminds\", \"enforcement\", \"illness\", \"wage\", \"overseas\", \"safety\", \"laws\", \"violent\", \"death\", \"assault\", \"safe\", \"prevention\", \"gas\", \"korea\", \"law\", \"rate\", \"waste\", \"women\", \"rights\", \"bill\", \"community\", \"congress\", \"city\", \"act\", \"violence\", \"years\", \"children\", \"legislation\", \"year\", \"local\", \"ask\", \"let\", \"way\", \"energy\", \"health\", \"scientists\", \"announce\", \"promotion\", \"pregnancy\", \"churches\", \"immigration\", \"aliens\", \"item\", \"border\", \"hiring\", \"heavens\", \"waiting\", \"army\", \"kill\", \"hatred\", \"cheaper\", \"buying\", \"graduates\", \"beings\", \"volunteers\", \"gene\", \"genetic\", \"dynamic\", \"performed\", \"inappropriate\", \"difficulty\", \"veto\", \"everyday\", \"vacancies\", \"podium\", \"illegal\", \"borders\", \"church\", \"class\", \"line\", \"drug\", \"treatment\", \"drugs\", \"relief\", \"stopped\", \"balanced\", \"criminal\", \"lady\", \"size\", \"door\", \"saving\", \"internet\", \"religious\", \"building\", \"bill\", \"citizens\", \"ask\", \"budget\", \"people\", \"better\", \"protect\", \"rights\", \"reduce\", \"human\", \"year\", \"tonight\", \"guests\", \"northern\", \"distinguished\", \"honored\", \"ireland\", \"connect\", \"investing\", \"happened\", \"opened\", \"sensible\", \"handguns\", \"franklin\", \"finished\", \"fail\", \"road\", \"hero\", \"speaker\", \"library\", \"haven\", \"undermine\", \"balancing\", \"colombia\", \"welcome\", \"cherish\", \"jonesboro\", \"revenue\", \"endanger\", \"superhighway\", \"elementary\", \"pain\", \"guarantees\", \"sun\", \"classroom\", \"mothers\", \"members\", \"vice\", \"president\", \"race\", \"fellow\", \"said\", \"kept\", \"congress\", \"senate\", \"americans\", \"american\", \"leaders\", \"rising\", \"people\", \"violence\", \"ago\", \"ask\", \"democracy\", \"years\", \"time\", \"know\", \"citizens\", \"teach\", \"row\", \"tobacco\", \"cancer\", \"television\", \"commit\", \"media\", \"citizenship\", \"shouldn\", \"checks\", \"smoking\", \"radio\", \"approve\", \"planet\", \"launching\", \"genes\", \"warheads\", \"broadcast\", \"talented\", \"punishment\", \"sixth\", \"zarfos\", \"isolated\", \"breast\", \"thomas\", \"defining\", \"purchasing\", \"introduced\", \"appeal\", \"discussion\", \"neighborhoods\", \"racial\", \"deliver\", \"thousand\", \"frontiers\", \"note\", \"representatives\", \"house\", \"governor\", \"like\", \"missiles\", \"lives\", \"places\", \"live\", \"special\", \"president\", \"address\", \"women\", \"away\"], \"Total\": [570.0, 466.0, 176.0, 195.0, 291.0, 181.0, 553.0, 250.0, 97.0, 588.0, 405.0, 220.0, 159.0, 139.0, 225.0, 144.0, 149.0, 218.0, 110.0, 120.0, 312.0, 143.0, 251.0, 171.0, 142.0, 98.0, 367.0, 146.0, 120.0, 103.0, 120.76063537597656, 62.7458381652832, 56.60249710083008, 51.08408737182617, 46.62588882446289, 41.71415710449219, 65.66446685791016, 35.42272186279297, 29.571638107299805, 28.821781158447266, 28.672866821289062, 26.98055648803711, 26.213150024414062, 25.753524780273438, 25.59730339050293, 144.10537719726562, 21.300949096679688, 19.918136596679688, 18.99958610534668, 18.69242286682129, 18.537843704223633, 18.231782913208008, 16.234834671020508, 15.622658729553223, 15.006803512573242, 14.549260139465332, 14.54411506652832, 54.3285026550293, 13.933141708374023, 13.615242958068848, 67.49149322509766, 67.1854019165039, 43.9947624206543, 79.78271484375, 146.58831787109375, 102.97205352783203, 167.83328247070312, 56.20075225830078, 225.0218963623047, 61.54513168334961, 30.20848274230957, 77.9945297241211, 120.3038558959961, 232.27784729003906, 251.0767822265625, 81.73196411132812, 131.734130859375, 466.7769775390625, 149.63534545898438, 94.78942108154297, 207.04490661621094, 88.0914077758789, 123.62699127197266, 83.70736694335938, 124.40242004394531, 173.10911560058594, 266.7028503417969, 282.5242614746094, 33.163997650146484, 26.90822410583496, 22.645395278930664, 44.72102355957031, 58.259552001953125, 21.021047592163086, 17.02840805053711, 16.77437400817871, 13.520027160644531, 12.885762214660645, 30.50440216064453, 11.898163795471191, 11.522298812866211, 11.266286849975586, 11.75483512878418, 10.264375686645508, 35.882652282714844, 9.8925199508667, 9.635074615478516, 9.517935752868652, 9.267529487609863, 9.021036148071289, 9.015575408935547, 8.637513160705566, 16.596832275390625, 8.517102241516113, 8.013198852539062, 8.000457763671875, 8.002067565917969, 7.394408702850342, 49.4490966796875, 47.79868698120117, 68.43372344970703, 41.70647048950195, 28.0161190032959, 50.13235092163086, 39.72430419921875, 171.86952209472656, 30.144044876098633, 570.751953125, 32.01420211791992, 114.31794738769531, 466.7769775390625, 125.12957763671875, 87.74494934082031, 183.89730834960938, 66.81700897216797, 139.91421508789062, 33.30056381225586, 128.98069763183594, 173.10911560058594, 588.3088989257812, 211.12290954589844, 266.7028503417969, 312.7486267089844, 136.85934448242188, 553.2340087890625, 366.1041259765625, 81.26115417480469, 123.62699127197266, 99.6353988647461, 245.0926055908203, 152.47315979003906, 367.0116882324219, 379.2280578613281, 261.8515319824219, 114.45710754394531, 444.35699462890625, 195.64877319335938, 225.0218963623047, 29.02651023864746, 21.328433990478516, 15.611811637878418, 14.82487678527832, 13.231033325195312, 14.889942169189453, 10.440518379211426, 10.169557571411133, 10.16675853729248, 9.781331062316895, 8.055380821228027, 8.046839714050293, 7.78931188583374, 7.788698673248291, 7.7855095863342285, 7.7853593826293945, 15.724153518676758, 7.657229900360107, 7.650054454803467, 33.72412872314453, 16.64868927001953, 7.391209125518799, 7.388309478759766, 7.3879923820495605, 7.386685848236084, 7.38587760925293, 7.372565746307373, 6.992829322814941, 6.990968704223633, 6.987740993499756, 12.466181755065918, 11.391890525817871, 29.186750411987305, 16.19090461730957, 17.83746910095215, 17.274520874023438, 120.13782501220703, 20.478160858154297, 104.65774536132812, 20.566852569580078, 85.24783325195312, 18.643047332763672, 220.25823974609375, 41.406517028808594, 45.82572937011719, 250.60086059570312, 50.6750602722168, 163.93724060058594, 39.304874420166016, 89.42312622070312, 39.58742904663086, 43.485347747802734, 143.24252319335938, 55.63475036621094, 444.35699462890625, 367.0116882324219, 151.9224090576172, 73.77932739257812, 588.3088989257812, 99.13920593261719, 156.02505493164062, 47.153629302978516, 465.7125244140625, 405.9380187988281, 92.78929901123047, 122.80648040771484, 111.32953643798828, 79.57474517822266, 282.5242614746094, 150.86679077148438, 183.89730834960938, 89.97389221191406, 215.15672302246094, 570.751953125, 207.04490661621094, 118.86752319335938, 366.1041259765625, 57.44993591308594, 110.90179443359375, 19.630859375, 18.632139205932617, 37.26026153564453, 15.194656372070312, 13.640518188476562, 12.643547058105469, 23.098543167114258, 10.313986778259277, 10.090420722961426, 10.085516929626465, 9.979199409484863, 9.760391235351562, 16.462825775146484, 8.648837089538574, 8.647891998291016, 8.647566795349121, 8.317502975463867, 8.307272911071777, 8.203234672546387, 7.984652519226074, 7.763370513916016, 7.429632663726807, 98.79718017578125, 21.151954650878906, 7.209399700164795, 7.2074503898620605, 7.202194690704346, 7.098950386047363, 23.223106384277344, 13.667319297790527, 11.3782377243042, 13.453092575073242, 22.135229110717773, 42.377716064453125, 13.697249412536621, 32.97036361694336, 33.987308502197266, 16.057418823242188, 68.55944061279297, 218.53463745117188, 291.6116943359375, 62.0458869934082, 64.22432708740234, 108.77346801757812, 15.706424713134766, 32.86946487426758, 24.707351684570312, 53.73461151123047, 553.2340087890625, 148.42173767089844, 282.5242614746094, 62.88300323486328, 261.8515319824219, 103.42757415771484, 131.37252807617188, 379.2280578613281, 117.59869384765625, 570.751953125, 92.1170425415039, 102.93592071533203, 195.64877319335938, 177.16004943847656, 75.95977783203125, 215.15672302246094, 145.73468017578125, 465.7125244140625, 211.12290954589844, 143.24252319335938, 210.5537872314453, 366.1041259765625, 245.0926055908203, 405.9380187988281, 588.3088989257812, 176.301513671875, 68.1718978881836, 63.18638229370117, 60.63799285888672, 50.6544303894043, 27.919654846191406, 27.79930305480957, 19.68397331237793, 17.47776985168457, 17.362512588500977, 17.24403953552246, 15.5050048828125, 14.692877769470215, 14.577256202697754, 13.99698257446289, 44.06455612182617, 13.416876792907715, 12.255217552185059, 12.25563907623291, 11.907014846801758, 25.27024269104004, 47.97530746459961, 9.588432312011719, 9.581509590148926, 9.241971969604492, 44.93571090698242, 9.009040832519531, 195.1160430908203, 8.42966365814209, 8.42966365814209, 181.20143127441406, 50.0754280090332, 139.9844512939453, 159.55776977539062, 44.011329650878906, 67.10713958740234, 114.34370422363281, 109.90764617919922, 17.2504825592041, 22.31315040588379, 53.27105712890625, 57.60685348510742, 123.58360290527344, 88.52458953857422, 83.89018249511719, 124.19762420654297, 379.2280578613281, 118.86752319335938, 43.81487274169922, 73.35860443115234, 131.21780395507812, 150.86679077148438, 151.9224090576172, 312.7486267089844, 465.7125244140625, 251.0767822265625, 291.6116943359375, 553.2340087890625, 220.25823974609375, 444.35699462890625, 159.3843231201172, 177.16004943847656, 261.8515319824219, 131.20150756835938, 34.99746322631836, 33.951480865478516, 31.157453536987305, 30.419572830200195, 23.477876663208008, 17.569257736206055, 15.782788276672363, 13.141439437866211, 20.666776657104492, 12.693804740905762, 12.108945846557617, 11.954501152038574, 11.208498001098633, 11.064285278320312, 10.034005165100098, 10.032428741455078, 10.014331817626953, 9.304834365844727, 9.300719261169434, 9.294074058532715, 9.292828559875488, 9.29125690460205, 9.280122756958008, 9.151087760925293, 9.009230613708496, 9.007919311523438, 8.713315963745117, 8.563820838928223, 8.271288871765137, 8.270523071289062, 17.770851135253906, 37.666526794433594, 17.362009048461914, 142.71978759765625, 39.87339782714844, 143.41819763183594, 36.666316986083984, 17.944650650024414, 21.1964168548584, 24.86359214782715, 21.835100173950195, 31.2867431640625, 20.097370147705078, 41.591522216796875, 22.367889404296875, 46.31636428833008, 250.60086059570312, 34.950462341308594, 35.52003860473633, 131.5888671875, 42.39962387084961, 46.13002395629883, 100.83908081054688, 32.346900939941406, 405.9380187988281, 367.0116882324219, 588.3088989257812, 90.37908172607422, 131.734130859375, 102.81420135498047, 62.86524963378906, 266.7028503417969, 37.13114929199219, 163.93724060058594, 210.5537872314453, 156.02505493164062, 444.35699462890625, 87.94730377197266, 232.27784729003906, 465.7125244140625, 136.85934448242188, 97.6421890258789, 26.016389846801758, 25.57730484008789, 20.592256546020508, 14.834454536437988, 13.730884552001953, 13.176352500915527, 36.17115020751953, 12.507977485656738, 12.070691108703613, 11.736804008483887, 11.508955955505371, 13.50708293914795, 10.629199028015137, 9.964228630065918, 9.412880897521973, 9.078901290893555, 7.19588565826416, 7.194096565246582, 13.142046928405762, 6.645697116851807, 6.644021034240723, 33.93606948852539, 6.4225945472717285, 6.3091230392456055, 6.309652328491211, 5.751254081726074, 5.747393608093262, 5.427695274353027, 5.42669153213501, 26.445138931274414, 8.694132804870605, 34.427974700927734, 9.5919828414917, 40.01667022705078, 51.40361022949219, 20.874223709106445, 8.472871780395508, 11.630223274230957, 32.59698486328125, 17.83451271057129, 20.359222412109375, 23.765098571777344, 65.10824584960938, 68.51020812988281, 32.702903747558594, 73.77932739257812, 91.8117904663086, 88.4150390625, 139.3925018310547, 405.9380187988281, 33.69109344482422, 131.5888671875, 26.41534423828125, 444.35699462890625, 291.6116943359375, 102.81420135498047, 465.7125244140625, 58.29082107543945, 156.6295928955078, 261.8515319824219, 159.3843231201172, 143.41819763183594, 181.20143127441406, 15.801709175109863, 12.373611450195312, 10.761307716369629, 10.558329582214355, 10.257055282592773, 8.849236488342285, 7.43967342376709, 6.5319647789001465, 6.330502986907959, 6.129701137542725, 5.8257222175598145, 5.82560920715332, 10.21821403503418, 5.320216655731201, 5.317386627197266, 5.31345272064209, 12.735766410827637, 5.308709144592285, 5.020033359527588, 5.019587516784668, 4.820000171661377, 4.81860876083374, 4.714498519897461, 4.515420436859131, 4.509900093078613, 4.508941173553467, 12.9767427444458, 4.213485240936279, 4.01372766494751, 4.010924339294434, 20.745813369750977, 15.226506233215332, 11.987129211425781, 36.352901458740234, 21.893152236938477, 34.14590835571289, 12.352410316467285, 45.63337326049805, 20.579605102539062, 16.698577880859375, 49.72426223754883, 9.54794692993164, 20.85840606689453, 16.48419761657715, 7.955702304840088, 22.531801223754883, 26.672334671020508, 20.351652145385742, 38.549072265625, 88.4150390625, 97.31055450439453, 156.6295928955078, 220.25823974609375, 553.2340087890625, 109.27032470703125, 78.62921905517578, 91.8117904663086, 78.04464721679688, 90.37908172607422, 465.7125244140625, 211.12290954589844, 14.15185260772705, 13.527910232543945, 11.664307594299316, 10.938614845275879, 10.316582679748535, 9.488221168518066, 8.656538009643555, 8.037431716918945, 12.113237380981445, 6.790973663330078, 6.79125452041626, 11.646039962768555, 6.691145420074463, 6.480743885040283, 6.480681419372559, 5.961961269378662, 34.02659225463867, 5.447352886199951, 5.447249412536621, 5.441836357116699, 5.439353942871094, 5.136671543121338, 5.1348958015441895, 5.133285999298096, 4.9300537109375, 5.038391590118408, 8.816423416137695, 4.618351936340332, 4.618215560913086, 4.617581844329834, 7.859498500823975, 11.262442588806152, 17.370277404785156, 7.797036647796631, 61.21152114868164, 39.012081146240234, 149.23098754882812, 25.208251953125, 62.71635818481445, 63.24496841430664, 10.018610000610352, 405.9380187988281, 42.39962387084961, 312.7486267089844, 366.1041259765625, 49.178016662597656, 23.04948616027832, 553.2340087890625, 26.41534423828125, 85.30379486083984, 156.6295928955078, 68.85660552978516, 444.35699462890625, 245.0926055908203, 218.53463745117188, 97.31055450439453, 17.13489532470703, 13.002283096313477, 11.841301918029785, 11.840249061584473, 11.39175033569336, 9.415894508361816, 9.057090759277344, 9.055912017822266, 8.788105010986328, 8.334479331970215, 7.891270637512207, 7.708896636962891, 7.349027633666992, 6.452033519744873, 6.451181888580322, 5.556764125823975, 5.466257572174072, 5.19871711730957, 4.838818550109863, 4.837611198425293, 4.83706521987915, 4.39063835144043, 4.3903608322143555, 4.3899149894714355, 4.301235198974609, 4.118504524230957, 4.108875274658203, 6.602226734161377, 3.671147584915161, 3.669332504272461, 17.923856735229492, 11.215778350830078, 7.563349723815918, 22.562009811401367, 11.13774585723877, 7.119088649749756, 12.44093132019043, 72.2295150756836, 14.480827331542969, 103.42757415771484, 15.293075561523438, 91.02888488769531, 15.694157600402832, 57.12485885620117, 47.69161605834961, 149.23098754882812, 34.013214111328125, 73.77932739257812, 34.718406677246094], \"loglift\": [30.0, 29.0, 28.0, 27.0, 26.0, 25.0, 24.0, 23.0, 22.0, 21.0, 20.0, 19.0, 18.0, 17.0, 16.0, 15.0, 14.0, 13.0, 12.0, 11.0, 10.0, 9.0, 8.0, 7.0, 6.0, 5.0, 4.0, 3.0, 2.0, 1.0, 1.7503999471664429, 1.7444000244140625, 1.7431000471115112, 1.7415000200271606, 1.7401000261306763, 1.7380000352859497, 1.7359999418258667, 1.7346999645233154, 1.730299949645996, 1.729599952697754, 1.7294000387191772, 1.7276999950408936, 1.7267999649047852, 1.7263000011444092, 1.726099967956543, 1.725100040435791, 1.7197999954223633, 1.7171000242233276, 1.7151999473571777, 1.7144999504089355, 1.7141000032424927, 1.7134000062942505, 1.707900047302246, 1.705899953842163, 1.7036999464035034, 1.7021000385284424, 1.7020000219345093, 1.7010999917984009, 1.6995999813079834, 1.698199987411499, 1.6835999488830566, 1.6764999628067017, 1.6646000146865845, 1.6299999952316284, 1.555999994277954, 1.5735000371932983, 1.5090999603271484, 1.6039999723434448, 1.4392000436782837, 1.5750999450683594, 1.6467000246047974, 1.5003999471664429, 1.3919999599456787, 1.2618999481201172, 1.0993000268936157, 1.408400058746338, 1.2369999885559082, 0.8034999966621399, 1.1347999572753906, 1.2963999509811401, 0.9598000049591064, 1.2410000562667847, 1.0398000478744507, 1.2506999969482422, 0.9556000232696533, 0.7001000046730042, 0.12559999525547028, 0.05169999971985817, 1.8098000288009644, 1.8041000366210938, 1.7984000444412231, 1.7971999645233154, 1.795799970626831, 1.7956000566482544, 1.7862999439239502, 1.7855000495910645, 1.7734999656677246, 1.770400047302246, 1.7663999795913696, 1.7648999691009521, 1.7625000476837158, 1.7608000040054321, 1.7573000192642212, 1.7533999681472778, 1.7524000406265259, 1.7502000331878662, 1.7477999925613403, 1.7467000484466553, 1.7443000078201294, 1.7417000532150269, 1.7415000200271606, 1.7374000549316406, 1.7373000383377075, 1.7359999418258667, 1.7294000387191772, 1.729200005531311, 1.729200005531311, 1.7201999425888062, 1.716599941253662, 1.704699993133545, 1.6842000484466553, 1.6766999959945679, 1.6845999956130981, 1.6477999687194824, 1.6578999757766724, 1.569700002670288, 1.6504000425338745, 1.3955999612808228, 1.631700038909912, 1.5017999410629272, 1.3109999895095825, 1.4636000394821167, 1.5087000131607056, 1.3481999635696411, 1.4955999851226807, 1.374899983406067, 1.6029000282287598, 1.3280999660491943, 1.2640999555587769, 0.9487000107765198, 1.110700011253357, 1.0449999570846558, 0.9837999939918518, 1.2122000455856323, 0.7735000252723694, 0.8694999814033508, 1.3521000146865845, 1.1526999473571777, 1.2384999990463257, 0.8011999726295471, 1.014799952507019, 0.4699999988079071, 0.3075000047683716, 0.54830002784729, 1.1002999544143677, 0.06909999996423721, 0.6826000213623047, 0.39750000834465027, 1.9818999767303467, 1.9716999530792236, 1.9574999809265137, 1.954699993133545, 1.9479000568389893, 1.9321000576019287, 1.9306999444961548, 1.9285000562667847, 1.9285000562667847, 1.9251999855041504, 1.9061000347137451, 1.906000018119812, 1.902400016784668, 1.902400016784668, 1.9023000001907349, 1.9023000001907349, 1.9023000001907349, 1.9005000591278076, 1.9003000259399414, 1.899399995803833, 1.8966000080108643, 1.896299958229065, 1.8961999416351318, 1.8961999416351318, 1.8961999416351318, 1.8961999416351318, 1.895900011062622, 1.8894000053405762, 1.8894000053405762, 1.889299988746643, 1.8841999769210815, 1.8834999799728394, 1.8598999977111816, 1.8703999519348145, 1.8560999631881714, 1.8407000303268433, 1.68149995803833, 1.8164000511169434, 1.6507999897003174, 1.7954000234603882, 1.628000020980835, 1.7992000579833984, 1.479200005531311, 1.692199945449829, 1.6380000114440918, 1.3743000030517578, 1.6119999885559082, 1.3759000301361084, 1.646299958229065, 1.465000033378601, 1.6409000158309937, 1.6061999797821045, 1.3200000524520874, 1.4869999885559082, 0.8529000282287598, 0.8971999883651733, 1.169600009918213, 1.3733999729156494, 0.6568999886512756, 1.2687000036239624, 1.0736000537872314, 1.5059000253677368, 0.6154000163078308, 0.6272000074386597, 1.2117999792099, 1.0755000114440918, 1.076799988746643, 1.2584999799728394, 0.5044000148773193, 0.828499972820282, 0.6033999919891357, 1.0923999547958374, 0.37940001487731934, -0.40849998593330383, 0.4090999960899353, 0.8508999943733215, -0.11720000207424164, 2.04259991645813, 2.0341999530792236, 2.014699935913086, 2.012399911880493, 2.0099000930786133, 2.0020999908447266, 1.9957000017166138, 1.9907000064849854, 1.9814000129699707, 1.9752000570297241, 1.9732999801635742, 1.9731999635696411, 1.9723000526428223, 1.9703999757766724, 1.9678000211715698, 1.9586999416351318, 1.9586999416351318, 1.9586999416351318, 1.9545999765396118, 1.9543999433517456, 1.9530999660491943, 1.9500999450683594, 1.9456000328063965, 1.94159996509552, 1.9398000240325928, 1.9394999742507935, 1.9378999471664429, 1.9378999471664429, 1.9378000497817993, 1.9359999895095825, 1.934999942779541, 1.9287999868392944, 1.9323999881744385, 1.9214999675750732, 1.892799973487854, 1.858299970626831, 1.9063999652862549, 1.8260999917984009, 1.8164000511169434, 1.8899999856948853, 1.7391999959945679, 1.5787999629974365, 1.5353000164031982, 1.6735999584197998, 1.6176999807357788, 1.516700029373169, 1.8763999938964844, 1.698799967765808, 1.7609000205993652, 1.5633000135421753, 0.9032999873161316, 1.263800024986267, 1.0813000202178955, 1.4297000169754028, 0.9063000082969666, 1.2369999885559082, 1.145400047302246, 0.692799985408783, 1.1648000478744507, 0.49219998717308044, 1.263700008392334, 1.2065999507904053, 0.8828999996185303, 0.8632000088691711, 1.2757999897003174, 0.6844000220298767, 0.9047999978065491, 0.18729999661445618, 0.65829998254776, 0.9017999768257141, 0.6485999822616577, 0.24490000307559967, 0.40799999237060547, -0.10809999704360962, -0.48910000920295715, 2.065500020980835, 2.0580999851226807, 2.0571999549865723, 2.0566999912261963, 2.053999900817871, 2.040800094604492, 2.0406999588012695, 2.0274999141693115, 2.022900104522705, 2.022599935531616, 2.0223000049591064, 2.0167999267578125, 2.0137999057769775, 2.0132999420166016, 2.0109000205993652, 2.0104000568389893, 2.00819993019104, 2.00219988822937, 2.00219988822937, 1.9982999563217163, 1.9944000244140625, 1.9917999505996704, 1.9824999570846558, 1.9823999404907227, 1.9789999723434448, 1.9768999814987183, 1.9766000509262085, 1.9754999876022339, 1.9697999954223633, 1.9697999954223633, 1.965999960899353, 1.9559999704360962, 1.9391000270843506, 1.8565000295639038, 1.9074000120162964, 1.878600001335144, 1.801800012588501, 1.7369999885559082, 1.9502999782562256, 1.9071999788284302, 1.7364000082015991, 1.7202999591827393, 1.5394999980926514, 1.5845999717712402, 1.5860999822616577, 1.4830000400543213, 1.017899990081787, 1.399899959564209, 1.7203999757766724, 1.5470000505447388, 1.333899974822998, 1.2725000381469727, 1.2120000123977661, 0.8163999915122986, 0.61080002784729, 0.8962000012397766, 0.8105999827384949, 0.40869998931884766, 0.9146999716758728, 0.38040000200271606, 1.0848000049591064, 0.9624999761581421, 0.5048999786376953, 1.1520999670028687, 2.1352999210357666, 2.133500099182129, 2.132499933242798, 2.1319000720977783, 2.1240999698638916, 2.1117000579833984, 2.107100009918213, 2.09660005569458, 2.0954999923706055, 2.094399929046631, 2.091200113296509, 2.0903000831604004, 2.085700035095215, 2.084700107574463, 2.076900005340576, 2.0768001079559326, 2.07669997215271, 2.0703001022338867, 2.070199966430664, 2.0701000690460205, 2.0701000690460205, 2.0701000690460205, 2.069999933242798, 2.068000078201294, 2.0673000812530518, 2.0673000812530518, 2.063999891281128, 2.062299966812134, 2.058799982070923, 2.058799982070923, 2.053499937057495, 2.0053999423980713, 2.0332999229431152, 1.820199966430664, 1.9320000410079956, 1.792099952697754, 1.892799973487854, 1.9789999723434448, 1.9491000175476074, 1.9108999967575073, 1.9328999519348145, 1.8450000286102295, 1.919100046157837, 1.7597999572753906, 1.8839999437332153, 1.6944999694824219, 1.2236000299453735, 1.757099986076355, 1.7267999649047852, 1.2569999694824219, 1.6456999778747559, 1.6068999767303467, 1.2817000150680542, 1.733299970626831, 0.6686000227928162, 0.7031999826431274, 0.4787999987602234, 1.295699954032898, 1.113800048828125, 1.1634999513626099, 1.4119000434875488, 0.5436000227928162, 1.6553000211715698, 0.6786999702453613, 0.4562000036239624, 0.6542999744415283, -0.15800000727176666, 1.0471999645233154, 0.19280000030994415, -0.6101999878883362, 0.5424000024795532, 2.7572999000549316, 2.734100103378296, 2.7335000038146973, 2.725399971008301, 2.7095999717712402, 2.7049999237060547, 2.7023000717163086, 2.7014000415802, 2.6988000869750977, 2.6963000297546387, 2.6942999362945557, 2.6928000450134277, 2.6921000480651855, 2.6865999698638916, 2.6810998916625977, 2.6758999824523926, 2.6723999977111816, 2.6465001106262207, 2.6465001106262207, 2.6440000534057617, 2.635999917984009, 2.635999917984009, 2.6322999000549316, 2.631200075149536, 2.6285998821258545, 2.6285998821258545, 2.6142001152038574, 2.6140999794006348, 2.6045000553131104, 2.6043999195098877, 2.5922000408172607, 2.6015000343322754, 2.545599937438965, 2.590100049972534, 2.484299898147583, 2.4535000324249268, 2.517199993133545, 2.595099925994873, 2.5332999229431152, 2.322999954223633, 2.420099973678589, 2.3496999740600586, 2.275899887084961, 1.9400999546051025, 1.864400029182434, 2.1375999450683594, 1.7493000030517578, 1.6468000411987305, 1.5755000114440918, 1.3029999732971191, 0.7145000100135803, 2.0552000999450684, 1.1613999605178833, 2.1807000637054443, 0.27300000190734863, 0.508899986743927, 1.2254999876022339, 0.1200999990105629, 1.594599962234497, 0.7621999979019165, 0.2969000041484833, 0.703499972820282, 0.620199978351593, 0.37689998745918274, 3.1466000080108643, 3.1314001083374023, 3.120699882507324, 3.1191999912261963, 3.1166999340057373, 3.1029000282287598, 3.0834999084472656, 3.066200017929077, 3.0617001056671143, 3.05679988861084, 3.048799991607666, 3.048799991607666, 3.0401999950408936, 3.0332000255584717, 3.033099889755249, 3.032900094985962, 3.0327999591827393, 3.0327000617980957, 3.0223000049591064, 3.0223000049591064, 3.0143001079559326, 3.01419997215271, 3.009700059890747, 3.0004000663757324, 3.0000998973846436, 3.0, 2.998800039291382, 2.984499931335449, 2.9725000858306885, 2.9723000526428223, 2.9704999923706055, 2.9588000774383545, 2.8903000354766846, 2.7249999046325684, 2.7523000240325928, 2.5408999919891357, 2.729300022125244, 2.2936999797821045, 2.5106000900268555, 2.57669997215271, 2.141700029373169, 2.77020001411438, 2.395900011062622, 2.4598000049591064, 2.8269999027252197, 2.186800003051758, 2.05049991607666, 2.2202999591827393, 1.7869000434875488, 1.2129000425338745, 1.1425000429153442, 0.7872999906539917, 0.43459999561309814, -0.30979999899864197, 0.9351999759674072, 1.1744999885559082, 1.013100028038025, 1.1497000455856323, 0.9957000017166138, -0.5206999778747559, 0.20509999990463257, 3.2723000049591064, 3.2695000171661377, 3.259200096130371, 3.254199981689453, 3.2493999004364014, 3.2418999671936035, 3.232800006866455, 3.2248001098632812, 3.205199956893921, 3.203900098800659, 3.203900098800659, 3.202500104904175, 3.201900005340576, 3.1974000930786133, 3.1974000930786133, 3.184799909591675, 3.174499988555908, 3.169800043106079, 3.169800043106079, 3.169600009918213, 3.1695001125335693, 3.15910005569458, 3.15910005569458, 3.1589999198913574, 3.15120005607605, 3.142199993133545, 3.13919997215271, 3.1377999782562256, 3.1377999782562256, 3.1377999782562256, 3.1335999965667725, 3.0552000999450684, 3.0002999305725098, 3.065700054168701, 2.5787999629974365, 2.5799999237060547, 2.0776000022888184, 2.628700017929077, 2.1273000240325928, 1.9881999492645264, 2.873500108718872, 0.942799985408783, 1.9926999807357788, 0.6488999724388123, 0.4065000116825104, 1.740399956703186, 2.2678000926971436, -0.1339000016450882, 2.1350998878479004, 1.1943000555038452, 0.7073000073432922, 1.357800006866455, -0.19030000269412994, 0.20739999413490295, 0.22200000286102295, 0.8327999711036682, 3.6582000255584717, 3.6419999599456787, 3.6352999210357666, 3.6352999210357666, 3.6324000358581543, 3.6159000396728516, 3.6120998859405518, 3.6120998859405518, 3.6089999675750732, 3.6033999919891357, 3.5971999168395996, 3.594399929046631, 3.588599920272827, 3.5708999633789062, 3.5708000659942627, 3.546999931335449, 3.544100046157837, 3.5350000858306885, 3.520900011062622, 3.5208001136779785, 3.5208001136779785, 3.4997000694274902, 3.4997000694274902, 3.4997000694274902, 3.4948999881744385, 3.484299898147583, 3.483599901199341, 3.478300094604492, 3.453399896621704, 3.4532999992370605, 3.4514000415802, 3.283600091934204, 3.3422999382019043, 3.0638999938964844, 3.188800096511841, 3.31820011138916, 3.0903000831604004, 2.098599910736084, 2.8840999603271484, 1.7228000164031982, 2.7967000007629395, 1.605299949645996, 2.768699884414673, 1.8385000228881836, 1.8150999546051025, 0.8616999983787537, 2.0023999214172363, 1.1518000364303589, 1.8955999612808228], \"logprob\": [30.0, 29.0, 28.0, 27.0, 26.0, 25.0, 24.0, 23.0, 22.0, 21.0, 20.0, 19.0, 18.0, 17.0, 16.0, 15.0, 14.0, 13.0, 12.0, 11.0, 10.0, 9.0, 8.0, 7.0, 6.0, 5.0, 4.0, 3.0, 2.0, 1.0, -4.658599853515625, -5.319300174713135, -5.423699855804443, -5.5278000831604, -5.62060022354126, -5.734000205993652, -5.282199859619141, -5.900700092315674, -6.085700035095215, -6.112100124359131, -6.117400169372559, -6.179999828338623, -6.209799766540527, -6.22790002822876, -6.2342000007629395, -4.5071001052856445, -6.424300193786621, -6.49399995803833, -6.5432000160217285, -6.560200214385986, -6.568900108337402, -6.58620023727417, -6.707699775695801, -6.7480998039245605, -6.790500164031982, -6.823200225830078, -6.823599815368652, -5.506700038909912, -6.86899995803833, -6.893400192260742, -5.307199954986572, -5.31879997253418, -5.754199981689453, -5.19350004196167, -4.659200191497803, -4.994800090789795, -4.570700168609619, -5.569900035858154, -4.347400188446045, -5.507900238037109, -6.1479997634887695, -5.345699787139893, -5.0208001136779785, -4.493000030517578, -4.577700138092041, -5.390999794006348, -5.085100173950195, -4.253399848937988, -5.059800148010254, -5.354800224304199, -4.910099983215332, -5.483399868011475, -5.345699787139893, -5.524799823760986, -5.423699855804443, -5.348800182342529, -5.491099834442139, -5.507400035858154, -5.891499996185303, -6.106299877166748, -6.2845001220703125, -5.605100154876709, -5.342100143432617, -6.361700057983398, -6.581600189208984, -6.597400188446045, -6.825200080871582, -6.876299858093262, -6.018499851226807, -6.96150016784668, -6.995999813079834, -7.020100116729736, -6.981200218200684, -7.120699882507324, -5.870100021362305, -7.160799980163574, -7.189499855041504, -7.202899932861328, -7.23199987411499, -7.261499881744385, -7.26230001449585, -7.309299945831299, -6.656199932098389, -7.32480001449585, -7.392300128936768, -7.394100189208984, -7.393899917602539, -7.481900215148926, -5.58519983291626, -5.631100177764893, -5.292699813842773, -5.795400142669678, -6.185400009155273, -5.6402997970581055, -5.86299991607666, -4.486299991607666, -6.146399974822998, -3.460200071334839, -6.104899883270264, -4.962100028991699, -3.7458999156951904, -4.909800052642822, -5.219600200653076, -4.640200138092041, -5.505199909210205, -4.886899948120117, -6.094299793243408, -5.014999866485596, -4.784800052642822, -3.876800060272217, -4.73960018157959, -4.571700096130371, -4.473599910736084, -5.071599960327148, -4.113500118255615, -4.4303998947143555, -5.453000068664551, -5.232800006866455, -5.362800121307373, -4.899899959564209, -5.160999774932861, -4.827400207519531, -4.957200050354004, -5.086699962615967, -5.362299919128418, -5.037099838256836, -5.243899822235107, -5.388999938964844, -5.852700233459473, -6.171000003814697, -6.497300148010254, -6.551799774169922, -6.672399997711182, -6.570000171661377, -6.926400184631348, -6.954899787902832, -6.9552001953125, -6.997099876403809, -7.210299968719482, -7.21150016784668, -7.247600078582764, -7.247700214385986, -7.248199939727783, -7.248199939727783, -6.545300006866455, -7.26669979095459, -7.2677998542785645, -5.785200119018555, -6.493800163269043, -7.30620002746582, -7.306700229644775, -7.306700229644775, -7.3069000244140625, -7.307000160217285, -7.309100151062012, -7.368500232696533, -7.368800163269043, -7.36929988861084, -6.795499801635742, -6.88640022277832, -5.969099998474121, -6.547900199890137, -6.465400218963623, -6.512899875640869, -4.732600212097168, -6.367000102996826, -4.901299953460693, -6.383699893951416, -5.129199981689453, -6.478099822998047, -4.328800201416016, -5.787199974060059, -5.7399001121521, -4.304599761962891, -5.665299892425537, -4.727399826049805, -5.885200023651123, -5.2444000244140625, -5.883399963378906, -5.824100017547607, -4.918300151824951, -5.697000026702881, -4.253300189971924, -4.400199890136719, -5.009799957275391, -5.528299808502197, -4.168600082397461, -5.337600231170654, -5.07919979095459, -5.843500137329102, -4.44379997253418, -4.569399833679199, -5.460700035095215, -5.316699981689453, -5.41349983215332, -5.567599773406982, -5.054599761962891, -5.357900142669678, -5.385000228881836, -5.610799789428711, -5.452000141143799, -5.264400005340576, -5.4608001708984375, -5.57390022277832, -5.417099952697754, -5.109300136566162, -4.460000038146973, -6.210999965667725, -6.265500068664551, -5.574999809265137, -6.479700088500977, -6.594099998474121, -6.674900054931641, -6.081699848175049, -6.894100189208984, -6.917900085449219, -6.918499946594238, -6.929999828338623, -6.954100131988525, -6.433899879455566, -7.086699962615967, -7.0868000984191895, -7.0868000984191895, -7.129799842834473, -7.13129997253418, -7.145199775695801, -7.17519998550415, -7.207799911499023, -7.25570011138916, -4.669899940490723, -6.211599826812744, -7.2895002365112305, -7.28980016708374, -7.290599822998047, -7.3069000244140625, -6.122600078582764, -6.658999919891357, -6.838699817657471, -6.682000160217285, -6.212800025939941, -5.597899913787842, -6.679200172424316, -5.881100177764893, -5.860400199890137, -6.536600112915039, -5.235899925231934, -4.237100124359131, -3.992000102996826, -5.401400089263916, -5.422699928283691, -4.996799945831299, -6.572299957275391, -6.01140022277832, -6.234799861907959, -5.655399799346924, -3.9837000370025635, -4.939000129699707, -4.477700233459473, -5.631899833679199, -4.728700160980225, -5.326900005340576, -5.1793999671936035, -4.571800231933594, -5.270699977874756, -4.36359977722168, -5.415999889373779, -5.362100124359131, -5.043499946594238, -5.162499904632568, -5.596799850463867, -5.14709997177124, -5.316199779510498, -4.872000217437744, -5.191999912261963, -5.336400032043457, -5.204500198364258, -5.054900169372559, -5.293099880218506, -5.304599761962891, -5.314700126647949, -3.965100049972534, -4.922599792480469, -4.999499797821045, -5.041200160980225, -5.223700046539307, -5.832600116729736, -5.837100028991699, -6.195499897003174, -6.318900108337402, -6.325900077819824, -6.333000183105469, -6.444799900054932, -6.501699924468994, -6.510000228881836, -6.553100109100342, -5.406700134277344, -6.5980000495910645, -6.694699764251709, -6.6946001052856445, -6.727399826049805, -5.978799819946289, -5.3403000831604, -6.959799766540527, -6.960599899291992, -7.0, -5.420599937438965, -7.0279998779296875, -3.953700065612793, -7.101200103759766, -7.101200103759766, -4.037099838256836, -5.333199977874756, -4.322199821472168, -4.273799896240234, -5.510900020599365, -5.1178998947143555, -4.661799907684326, -4.766200065612793, -6.404600143432617, -6.190499782562256, -5.491000175476074, -5.428899765014648, -4.846399784088135, -5.134900093078613, -5.18720006942749, -4.897900104522705, -4.246699810028076, -5.024899959564209, -5.702400207519531, -5.360400199890137, -4.992000102996826, -4.913899898529053, -4.96750020980835, -4.640999794006348, -4.448400020599365, -4.780799865722656, -4.716800212860107, -4.478300094604492, -4.8933000564575195, -4.7256999015808105, -5.0467000007629395, -5.063199996948242, -5.130099773406982, -5.173900127410889, -5.512199878692627, -5.544300079345703, -5.631199836730957, -5.655799865722656, -5.922699928283691, -6.224899768829346, -6.336699962615967, -6.530399799346924, -6.078800201416016, -6.567299842834473, -6.617599964141846, -6.63129997253418, -6.700500011444092, -6.714399814605713, -6.819900035858154, -6.820199966430664, -6.8221001625061035, -6.9019999504089355, -6.902500152587891, -6.903299808502197, -6.90339994430542, -6.903600215911865, -6.904900074005127, -6.921000003814697, -6.937300205230713, -6.937399864196777, -6.973899841308594, -6.9928998947143555, -7.031199932098389, -7.031300067901611, -6.271699905395508, -5.568600177764893, -6.315199851989746, -4.4217000007629395, -5.585100173950195, -4.445000171661377, -5.708199977874756, -6.33650016784668, -6.199900150299072, -6.078499794006348, -6.186399936676025, -5.914599895477295, -6.283100128173828, -5.715099811553955, -6.21120023727417, -5.672800064086914, -4.455399990081787, -5.8917999267578125, -5.905900001525879, -5.066100120544434, -5.809999942779541, -5.764500141143799, -5.307600021362305, -5.993000030517578, -4.5279998779296875, -4.594200134277344, -4.346700191497803, -5.4029998779296875, -5.208199977874756, -5.406400203704834, -5.649899959564209, -5.0731000900268555, -5.93310022354126, -5.424600124359131, -5.3968000411987305, -5.498499870300293, -5.264100074768066, -5.678899765014648, -5.562099933624268, -5.669400215148926, -5.741399765014648, -3.8642001152038574, -5.210000038146973, -5.22760009765625, -5.452499866485596, -5.796199798583984, -5.878200054168701, -5.921999931335449, -4.913099765777588, -5.97760009765625, -6.015699863433838, -6.04580020904541, -6.06689977645874, -5.90749979019165, -6.152599811553955, -6.222700119018555, -6.284800052642822, -6.324399948120117, -6.582799911499023, -6.583099842071533, -5.982900142669678, -6.672800064086914, -6.673099994659424, -5.046000003814697, -6.7118000984191895, -6.7322001457214355, -6.732100009918213, -6.839200019836426, -6.840000152587891, -6.906799793243408, -6.9070000648498535, -5.335599899291992, -6.438600063323975, -5.1184000968933105, -6.351799964904785, -5.029200077056885, -4.809599876403809, -5.64709997177124, -6.470799922943115, -6.21589994430542, -5.395599842071533, -5.901500225067139, -5.839600086212158, -5.758699893951416, -5.086599826812744, -5.111400127410889, -5.577700138092041, -5.152500152587891, -5.036200046539307, -5.145199775695801, -4.962500095367432, -4.482100009918213, -5.630300045013428, -5.1616997718811035, -5.748199939727783, -4.833199977874756, -5.018499851226807, -5.344399929046631, -4.939199924468994, -5.542699813842773, -5.38670015335083, -5.338099956512451, -5.427999973297119, -5.6168999671936035, -5.626299858093262, -5.29610013961792, -5.5559000968933105, -5.706099987030029, -5.7266998291015625, -5.7581000328063965, -5.919600009918213, -6.112500190734863, -6.259900093078613, -6.2957000732421875, -6.332799911499023, -6.39169979095459, -6.3917999267578125, -5.838399887084961, -6.4980998039245605, -6.498799800872803, -6.49970006942749, -5.6255998611450195, -6.500699996948242, -6.566999912261963, -6.5671000480651855, -6.615799903869629, -6.616099834442139, -6.642499923706055, -6.694900035858154, -6.696400165557861, -6.696700096130371, -5.6407999992370605, -6.78000020980835, -6.84060001373291, -6.8414998054504395, -5.199900150299072, -5.520999908447266, -5.82859992980957, -4.884500026702881, -5.364299774169922, -5.131199836730957, -5.959700107574463, -5.088500022888184, -5.667900085449219, -5.810800075531006, -5.154600143432617, -6.176199913024902, -5.769199848175049, -5.9405999183654785, -6.3018999099731445, -5.901000022888184, -5.868599891662598, -5.969399929046631, -5.763999938964844, -5.507800102233887, -5.482399940490723, -5.361599922180176, -5.3734002113342285, -5.196800231933594, -5.573800086975098, -5.663599967956543, -5.670000076293945, -5.695799827575684, -5.703100204467773, -5.579999923706055, -5.645299911499023, -5.280600070953369, -5.32859992980957, -5.486999988555908, -5.556300163269043, -5.619699954986572, -5.710899829864502, -5.811699867248535, -5.893899917602539, -5.503300189971924, -6.0833001136779785, -6.083199977874756, -5.545300006866455, -6.100100040435791, -6.136600017547607, -6.136600017547607, -6.232600212097168, -4.501100063323975, -6.337900161743164, -6.337900161743164, -6.339099884033203, -6.339600086212158, -6.407199859619141, -6.407700061798096, -6.4079999923706055, -6.456200122833252, -6.44350004196167, -5.886899948120117, -6.534900188446045, -6.534999847412109, -6.535200119018555, -6.007500171661377, -5.726200103759766, -5.347799777984619, -6.083399772644043, -4.509699821472168, -4.958899974822998, -4.119699954986572, -5.34689998626709, -4.9369001388549805, -5.067500114440918, -6.024799823760986, -4.253799915313721, -5.4629998207092285, -4.808499813079834, -4.893400192260742, -5.56689977645874, -5.797399997711182, -5.020899772644043, -5.793700218200684, -5.56220006942749, -5.4415998458862305, -5.61299991607666, -5.296500205993652, -5.493800163269043, -5.593800067901611, -5.792099952697754, -4.703499794006348, -4.995699882507324, -5.095900058746338, -5.0960001945495605, -5.137499809265137, -5.3445000648498535, -5.387199878692627, -5.38730001449585, -5.420400142669678, -5.479000091552734, -5.53980016708374, -5.565999984741211, -5.619699954986572, -5.767499923706055, -5.7677001953125, -5.940800189971924, -5.960100173950195, -6.019400119781494, -6.105199813842773, -6.105599880218506, -6.1057000160217285, -6.223599910736084, -6.223700046539307, -6.223800182342529, -6.249000072479248, -6.302999973297119, -6.306000232696533, -5.837100028991699, -6.44890022277832, -6.44950008392334, -4.865200042724609, -5.5019001960754395, -5.837200164794922, -5.022600173950195, -5.603600025177002, -5.921800136566162, -5.5914998054504395, -4.8242998123168945, -5.645899772644043, -4.841100215911865, -5.678699970245361, -5.086299896240234, -5.680799961090088, -5.3190999031066895, -5.522900104522705, -5.335599899291992, -5.673600196838379, -5.75, -5.759900093078613]}, \"token.table\": {\"Topic\": [1, 3, 4, 8, 5, 6, 1, 3, 4, 5, 6, 7, 8, 2, 3, 4, 6, 10, 1, 3, 6, 7, 8, 6, 7, 1, 3, 8, 1, 1, 2, 3, 5, 2, 3, 5, 6, 7, 9, 1, 4, 1, 4, 1, 1, 2, 3, 6, 4, 8, 1, 3, 1, 2, 3, 4, 9, 1, 2, 3, 4, 5, 6, 7, 8, 9, 2, 3, 4, 5, 7, 8, 9, 10, 4, 8, 10, 10, 1, 9, 7, 8, 4, 1, 2, 2, 3, 4, 5, 7, 8, 9, 1, 7, 2, 3, 4, 6, 7, 10, 2, 1, 4, 8, 9, 5, 6, 3, 6, 4, 8, 1, 2, 5, 6, 8, 1, 2, 3, 4, 5, 1, 2, 3, 4, 5, 6, 7, 8, 3, 5, 6, 7, 8, 3, 4, 5, 3, 3, 8, 1, 8, 1, 7, 7, 10, 7, 10, 3, 4, 5, 8, 2, 3, 6, 8, 5, 6, 3, 4, 7, 6, 8, 6, 10, 1, 5, 6, 7, 2, 3, 4, 8, 1, 2, 4, 5, 6, 7, 1, 2, 10, 6, 4, 7, 8, 8, 10, 9, 4, 4, 5, 7, 8, 9, 4, 5, 7, 9, 1, 6, 4, 8, 8, 2, 2, 3, 4, 5, 6, 7, 8, 9, 10, 10, 3, 7, 9, 10, 2, 8, 9, 6, 8, 9, 4, 8, 2, 6, 1, 4, 8, 2, 3, 5, 9, 3, 6, 8, 10, 1, 2, 3, 4, 5, 2, 3, 4, 7, 2, 3, 4, 5, 7, 10, 1, 2, 3, 4, 5, 6, 7, 9, 10, 9, 6, 1, 2, 3, 5, 6, 7, 6, 8, 10, 1, 3, 5, 9, 1, 2, 6, 10, 1, 2, 3, 4, 6, 7, 8, 10, 1, 5, 5, 6, 5, 7, 8, 10, 1, 3, 5, 7, 3, 5, 3, 7, 8, 1, 5, 7, 5, 1, 3, 6, 3, 5, 5, 10, 3, 10, 4, 2, 4, 5, 8, 9, 3, 1, 3, 6, 7, 8, 3, 4, 10, 4, 9, 4, 3, 5, 6, 2, 4, 5, 9, 7, 8, 9, 2, 4, 7, 8, 4, 5, 7, 8, 8, 1, 8, 1, 2, 3, 4, 5, 6, 1, 2, 3, 4, 6, 3, 4, 5, 3, 6, 9, 2, 6, 8, 10, 2, 5, 6, 3, 9, 4, 1, 3, 6, 7, 7, 3, 5, 7, 6, 2, 7, 3, 2, 7, 1, 6, 6, 1, 6, 8, 6, 10, 3, 9, 3, 4, 5, 2, 4, 5, 7, 9, 6, 4, 3, 5, 6, 7, 8, 5, 2, 7, 9, 5, 3, 4, 6, 7, 9, 4, 1, 2, 3, 4, 6, 9, 1, 3, 4, 6, 2, 2, 2, 8, 9, 1, 2, 3, 4, 5, 7, 8, 10, 1, 2, 8, 9, 1, 9, 10, 1, 2, 4, 5, 6, 4, 7, 3, 7, 8, 8, 2, 8, 10, 8, 1, 2, 8, 2, 3, 4, 8, 1, 2, 3, 4, 5, 6, 10, 2, 4, 5, 1, 2, 3, 4, 5, 6, 8, 4, 7, 10, 2, 8, 3, 4, 4, 3, 1, 2, 4, 8, 9, 2, 5, 7, 4, 4, 9, 9, 1, 4, 7, 7, 6, 9, 9, 4, 5, 6, 8, 9, 8, 9, 1, 5, 7, 8, 1, 2, 3, 4, 5, 6, 7, 8, 9, 1, 2, 3, 4, 5, 7, 8, 2, 3, 6, 10, 2, 7, 8, 9, 2, 3, 3, 4, 6, 7, 9, 10, 3, 7, 1, 2, 6, 7, 8, 9, 10, 3, 4, 7, 2, 7, 7, 8, 7, 8, 6, 8, 8, 1, 3, 5, 5, 5, 1, 2, 3, 4, 5, 6, 3, 5, 6, 9, 10, 1, 2, 3, 5, 5, 3, 7, 1, 2, 6, 1, 2, 6, 5, 6, 8, 6, 8, 10, 9, 1, 1, 9, 10, 1, 8, 2, 3, 2, 3, 4, 5, 6, 9, 2, 6, 7, 9, 4, 10, 8, 7, 2, 4, 5, 7, 9, 3, 6, 7, 3, 3, 7, 8, 10, 1, 5, 7, 8, 6, 7, 4, 5, 6, 8, 9, 4, 10, 3, 5, 6, 7, 1, 2, 4, 5, 7, 8, 4, 6, 7, 8, 3, 9, 2, 3, 4, 6, 7, 10, 3, 7, 8, 1, 3, 5, 7, 8, 10, 2, 2, 3, 4, 7, 8, 9, 10, 3, 1, 3, 3, 4, 6, 7, 8, 7, 4, 7, 5, 9, 2, 1, 2, 3, 4, 6, 7, 6, 4, 1, 4, 3, 5, 4, 8, 9, 10, 5, 5, 6, 5, 1, 3, 4, 6, 9, 7, 4, 8, 1, 2, 5, 8, 3, 1, 3, 9, 1, 3, 4, 5, 7, 8, 7, 1, 10, 2, 4, 3, 8, 9, 1, 2, 3, 4, 6, 1, 2, 3, 4, 5, 6, 7, 1, 2, 6, 1, 3, 1, 2, 3, 4, 5, 6, 9, 10, 1, 2, 3, 4, 5, 6, 7, 8, 1, 9, 6, 10, 1, 6, 1, 3, 6, 8, 9, 10, 3, 8, 7, 7, 7, 9, 2, 3, 4, 5, 7, 1, 4, 6, 7, 5, 7, 6, 7, 2, 9, 1, 3, 5, 4, 5, 7, 8, 4, 1, 3, 4, 5, 7, 8, 3, 5, 1, 1, 2, 4, 9, 6, 1, 2, 3, 4, 5, 8, 9, 1, 3, 4, 5, 6, 7, 9, 2, 8, 1, 4, 8, 9, 10, 2, 3, 4, 5, 7, 10, 8, 7, 8, 1, 3, 6, 3, 4, 7, 6, 8, 5, 2, 3, 4, 5, 6, 9, 10, 7, 8, 1, 3, 3, 4, 5, 6, 7, 5, 1, 3, 4, 5, 6, 7, 1, 3, 4, 5, 6, 7, 3, 2, 9, 8, 1, 5, 6, 1, 3, 5, 6, 2, 4, 1, 3, 4, 5, 6, 7, 8, 3, 4, 6, 7, 4, 10, 10, 1, 2, 9, 1, 10, 10, 6, 6, 1, 5, 3, 5, 7, 2, 3, 5, 3, 4, 1, 3, 4, 6, 2, 1, 3, 5, 6, 7, 8, 4, 5, 6, 7, 9, 1, 6, 3, 6, 1, 1, 2, 7, 8, 9, 2, 8, 10, 7, 4, 9, 3, 4, 10, 4, 6, 7, 6, 2, 4, 5, 6, 7, 9, 7, 5, 9, 2, 6, 10, 2, 5, 5, 6, 2, 3, 7, 1, 2, 3, 4, 5, 6, 7, 1, 2, 6, 7, 8, 2, 3, 6, 9, 9, 2, 10, 3, 4, 10, 1, 2, 4, 7, 9, 6, 2, 7, 8, 4, 6, 7, 2, 4, 5, 9, 1, 2, 8, 10, 4, 4, 7, 4, 7, 2, 4, 7, 2, 8, 4, 3, 4, 5, 1, 2, 3, 5, 5, 6, 8, 9, 10, 3, 9, 10, 5, 10, 1, 6, 8, 2, 5, 2, 10, 1, 3, 4, 5, 10, 2, 7, 1, 2, 6, 8, 2, 9, 10, 3, 5, 6, 10, 1, 3, 5, 3, 1, 1, 1, 1, 2, 4, 6, 1, 2, 3, 4, 6, 1, 3, 4, 6, 7, 9, 10, 2, 3, 8, 1, 1, 2, 3, 4, 5, 10, 2, 3, 3, 4, 2, 9, 9, 1, 2, 3, 4, 5, 6, 7, 9, 2, 4, 7, 8, 3, 10, 3, 7, 1, 2, 3, 4, 5, 6, 8, 3, 6, 10, 3, 3, 5, 5, 10, 4, 4, 1, 2, 2, 10, 2, 3, 4, 7, 9, 10, 4, 6, 10, 1, 2, 3, 4, 5, 6, 7, 8, 9, 10, 10, 2, 3, 4, 5, 8, 9, 10, 2, 3, 4, 5, 8, 9, 3, 5, 8, 7, 6, 7, 1, 2, 3, 4, 5, 3, 6, 7, 1, 2, 8, 6, 6, 5, 9, 3, 1, 2, 1, 2, 3, 4, 6, 9, 1, 6, 3, 5, 6, 8, 2, 8, 2, 6, 8, 5, 6, 9, 10, 1, 7, 9, 6, 7, 8, 3, 3, 7, 4, 8, 2, 3, 4, 5, 7, 8, 9, 1, 3, 4, 10, 3, 5, 7, 2, 4, 6, 8, 1, 2, 3, 4, 5, 6, 7, 3, 1, 3, 4, 6, 10, 9, 5, 7, 10, 1, 3, 4, 7, 10, 1, 2, 3, 4, 5, 6, 7, 8, 10, 3, 4, 5, 7, 8, 1, 2, 6, 8, 3, 1, 2, 3, 4, 5, 6, 7, 8, 9, 10, 1, 2, 3, 4, 5, 6, 7, 9, 2, 3, 4, 7, 10, 3], \"Freq\": [0.2067331224679947, 0.2226356714963913, 0.5406866669654846, 0.03180509805679321, 0.9791209697723389, 0.8742130398750305, 0.10639198124408722, 0.06839484721422195, 0.0835936963558197, 0.09119312465190887, 0.40276962518692017, 0.1975851058959961, 0.037997134029865265, 0.20580236613750458, 0.11760134994983673, 0.1764020323753357, 0.2940033972263336, 0.1764020323753357, 0.04904715716838837, 0.1471414715051651, 0.714687168598175, 0.06306063383817673, 0.021020211279392242, 0.9084193110466003, 0.940804660320282, 0.9629570245742798, 0.8895707726478577, 0.08895707875490189, 0.9636569023132324, 0.9828797578811646, 0.8786852359771729, 0.06276322901248932, 0.041842155158519745, 0.4337438941001892, 0.058614037930965424, 0.22273334860801697, 0.0468912310898304, 0.11722807586193085, 0.11722807586193085, 0.24284270405769348, 0.7285280823707581, 0.9228194952011108, 0.05953674390912056, 0.9537197947502136, 0.08079469949007034, 0.1346578299999237, 0.16158939898014069, 0.5924944281578064, 0.9249798655509949, 0.940901517868042, 0.9334509968757629, 0.05926672741770744, 0.049058087170124054, 0.6447634696960449, 0.08935580402612686, 0.20849688351154327, 0.007008298300206661, 0.07921243458986282, 0.3824048638343811, 0.12018438428640366, 0.16388779878616333, 0.11472146213054657, 0.04916634038090706, 0.02458317019045353, 0.01365731656551361, 0.05462926626205444, 0.428459107875824, 0.05435675382614136, 0.1151084154844284, 0.28457358479499817, 0.03517201542854309, 0.006394912023097277, 0.06714657694101334, 0.006394912023097277, 0.967863917350769, 0.9698057770729065, 0.8171831369400024, 0.952506959438324, 0.9387337565422058, 0.03681308776140213, 0.09786445647478104, 0.8807801604270935, 0.9530429840087891, 0.8540810942649841, 0.12455349415540695, 0.12130530178546906, 0.19153468310832977, 0.21068815886974335, 0.17876571416854858, 0.13407428562641144, 0.08938285708427429, 0.07022938877344131, 0.17196574807167053, 0.7738458514213562, 0.1440158188343048, 0.25922849774360657, 0.23042532801628113, 0.05760633200407028, 0.11521266400814056, 0.17281898856163025, 0.8749499320983887, 0.40221813321113586, 0.24133087694644928, 0.34188541769981384, 0.9192268252372742, 0.25569936633110046, 0.7351356148719788, 0.9009718298912048, 0.06006478890776634, 0.8451953530311584, 0.7968074679374695, 0.02282330021262169, 0.09129320085048676, 0.7075223326683044, 0.13693980872631073, 0.02282330021262169, 0.029144344851374626, 0.44687995314598083, 0.05828868970274925, 0.42745038866996765, 0.03885912522673607, 0.03660646080970764, 0.29285168647766113, 0.05490969493985176, 0.21048715710639954, 0.1830323040485382, 0.05490969493985176, 0.06406130641698837, 0.10066776722669601, 0.18096469342708588, 0.33930879831314087, 0.03393087908625603, 0.30537790060043335, 0.1357235163450241, 0.7241682410240173, 0.016647545620799065, 0.2580369710922241, 0.8852378726005554, 0.96463543176651, 0.9477919936180115, 0.19702483713626862, 0.7880993485450745, 0.9766653776168823, 0.9467707872390747, 0.8699595332145691, 0.9111793637275696, 0.9557774066925049, 0.7694205641746521, 0.5902162790298462, 0.031780876219272614, 0.31326863169670105, 0.06356175243854523, 0.4669373035430908, 0.20752769708633423, 0.05188192427158356, 0.2334686517715454, 0.8695408701896667, 0.05796939134597778, 0.5931544303894043, 0.19771815836429596, 0.19771815836429596, 0.07851903140544891, 0.8637093305587769, 0.888107419013977, 0.9290345311164856, 0.9239391684532166, 0.992617666721344, 0.9131419658660889, 0.9212012887001038, 0.7680245041847229, 0.04072856903076172, 0.14545917510986328, 0.04072856903076172, 0.04117070883512497, 0.35681280493736267, 0.3156420886516571, 0.1440974771976471, 0.03430892527103424, 0.10292676836252213, 0.09973599761724472, 0.8377823829650879, 0.05984159931540489, 0.8987119793891907, 0.8760883212089539, 0.07300736010074615, 0.07300736010074615, 0.7528061866760254, 0.9598680138587952, 0.7792279720306396, 0.9016702175140381, 0.30748414993286133, 0.5906932353973389, 0.07282519340515137, 0.01618337631225586, 0.00809168815612793, 0.5932546854019165, 0.2846250832080841, 0.10630574822425842, 0.013716870918869972, 0.9787783622741699, 0.9683589935302734, 0.16684561967849731, 0.7508052587509155, 0.8774448037147522, 0.8747739195823669, 0.21580393612384796, 0.05138188973069191, 0.15414565801620483, 0.12331653386354446, 0.10276377946138382, 0.10276377946138382, 0.12331653386354446, 0.08221101760864258, 0.04110550880432129, 0.8834007978439331, 0.3561772108078003, 0.5045843720436096, 0.05936286970973015, 0.05936286970973015, 0.3300974369049072, 0.6326867938041687, 0.027508120983839035, 0.11513920873403549, 0.11513920873403549, 0.6908352375030518, 0.8780068755149841, 0.07316723465919495, 0.9615365266799927, 0.9628514647483826, 0.27381035685539246, 0.6997376084327698, 0.030423372983932495, 0.12225768715143204, 0.40011605620384216, 0.46680209040641785, 0.7787143588066101, 0.13636493682861328, 0.7636436223983765, 0.08181896060705185, 0.9558305740356445, 0.1253633350133896, 0.7179900407791138, 0.03419000282883644, 0.02279333397746086, 0.09117333590984344, 0.17066450417041779, 0.39522305130958557, 0.31438198685646057, 0.11677044630050659, 0.2582635283470154, 0.16500170528888702, 0.27978548407554626, 0.04304392263293266, 0.22956758737564087, 0.014347974210977554, 0.05912232771515846, 0.02217087149620056, 0.2512698769569397, 0.11578122526407242, 0.10346407443284988, 0.22663559019565582, 0.12809836864471436, 0.09114691615104675, 0.004926860332489014, 0.9485445022583008, 0.9719752669334412, 0.5346330404281616, 0.08019495755434036, 0.18043865263462067, 0.07351204007863998, 0.1002436950802803, 0.02673165127635002, 0.90035080909729, 0.05627192556858063, 0.05627192556858063, 0.13140343129634857, 0.11263151466846466, 0.7133329510688782, 0.03754384070634842, 0.8773830533027649, 0.06267021596431732, 0.02506808564066887, 0.02506808564066887, 0.1175576001405716, 0.31689438223838806, 0.1226687952876091, 0.30667200684547424, 0.06133439764380455, 0.020444799214601517, 0.03577839955687523, 0.015333599410951138, 0.980669379234314, 0.9287716150283813, 0.9670606851577759, 0.9684887528419495, 0.9238251447677612, 0.9934230446815491, 0.62840735912323, 0.314203679561615, 0.06730181723833084, 0.31127089262008667, 0.5131763219833374, 0.10936544835567474, 0.09984937310218811, 0.8986443281173706, 0.8986673355102539, 0.8261661529541016, 0.11802373826503754, 0.03957223519682884, 0.9101614356040955, 0.8811638951301575, 0.8879968523979187, 0.5173010230064392, 0.4526383876800537, 0.03233131393790245, 0.16391699016094208, 0.8195849061012268, 0.9712473750114441, 0.7284197211265564, 0.2644330859184265, 0.6610827445983887, 0.8322468400001526, 0.5954403281211853, 0.0871376097202301, 0.05809174105525017, 0.11618348211050034, 0.14522935450077057, 0.8582501411437988, 0.28426113724708557, 0.3638542592525482, 0.3297429084777832, 0.022740891203284264, 0.8871262073516846, 0.8987380862236023, 0.9018759727478027, 0.8175873756408691, 0.8330793976783752, 0.943047821521759, 0.9491007328033447, 0.8849942684173584, 0.8656161427497864, 0.8620575666427612, 0.05834353342652321, 0.7292941808700562, 0.18961648643016815, 0.014585883356630802, 0.12569600343704224, 0.6284800171852112, 0.12569600343704224, 0.8876038789749146, 0.35143303871154785, 0.11714434623718262, 0.5271495580673218, 0.3506205976009369, 0.13148272037506104, 0.08765514940023422, 0.3944481611251831, 0.8484465479850769, 0.9746519327163696, 0.015228936448693275, 0.44917792081832886, 0.09659740328788757, 0.20285454392433167, 0.019319480285048485, 0.13523636758327484, 0.09659740328788757, 0.03262690454721451, 0.6144734025001526, 0.2447017878293991, 0.07612944394350052, 0.027189087122678757, 0.5026440620422363, 0.3141525089740753, 0.1815103441476822, 0.2010972499847412, 0.7641695737838745, 0.8661354184150696, 0.09951550513505936, 0.7961240410804749, 0.04975775256752968, 0.04975775256752968, 0.887353241443634, 0.8975459933280945, 0.9504024386405945, 0.11342468112707138, 0.7939727306365967, 0.8919350504875183, 0.14642493426799774, 0.04183569550514221, 0.6902889609336853, 0.11853446811437607, 0.9437488913536072, 0.07562826573848724, 0.03781413286924362, 0.8319109082221985, 0.9038089513778687, 0.11786869168281555, 0.8840151429176331, 0.9141687154769897, 0.9506824612617493, 0.03278215229511261, 0.3125636875629425, 0.6732141375541687, 0.8970908522605896, 0.9881133437156677, 0.9672391414642334, 0.7119996547698975, 0.9193499684333801, 0.0483868382871151, 0.9477546811103821, 0.9258196353912354, 0.03760393336415291, 0.15041573345661163, 0.8084846138954163, 0.06121893599629402, 0.13992899656295776, 0.7608639001846313, 0.00874556228518486, 0.01749112457036972, 0.945343017578125, 0.9220941662788391, 0.5307244062423706, 0.06384655088186264, 0.39106011390686035, 0.00798081886023283, 0.003990409430116415, 0.9490295648574829, 0.5421233177185059, 0.14350323379039764, 0.30295127630233765, 0.9674295783042908, 0.025079376995563507, 0.12539689242839813, 0.8025400638580322, 0.050158753991127014, 0.8967074751853943, 0.8766818642616272, 0.6329820156097412, 0.08439760655164719, 0.22154371440410614, 0.010549700818955898, 0.021099401637911797, 0.021099401637911797, 0.769284725189209, 0.03846423700451851, 0.025642823427915573, 0.15385694801807404, 0.9245123863220215, 0.9097782969474792, 0.9546706080436707, 0.08586609363555908, 0.8586609959602356, 0.23084165155887604, 0.5520126223564148, 0.03010977990925312, 0.040146373212337494, 0.05018296837806702, 0.05018296837806702, 0.040146373212337494, 0.010036593303084373, 0.31447839736938477, 0.6289567947387695, 0.021441709250211716, 0.028588946908712387, 0.1795695424079895, 0.1795695424079895, 0.6284934282302856, 0.346602201461792, 0.5661169290542603, 0.046213626861572266, 0.023106813430786133, 0.0173301100730896, 0.9421731233596802, 0.9112982749938965, 0.2947067320346832, 0.6385312676429749, 0.049117788672447205, 0.8298754692077637, 0.9037868976593018, 0.060252461582422256, 0.8998042345046997, 0.8301151394844055, 0.19456124305725098, 0.7183799743652344, 0.07483124732971191, 0.03946714475750923, 0.6709414720535278, 0.25653645396232605, 0.019733572378754616, 0.16843894124031067, 0.22233940660953522, 0.013475115410983562, 0.45141634345054626, 0.09432580322027206, 0.04042534530162811, 0.006737557705491781, 0.15165135264396667, 0.7885869741439819, 0.030330268666148186, 0.02452237904071808, 0.2561226189136505, 0.32968977093696594, 0.1062636449933052, 0.040870632976293564, 0.23432496190071106, 0.008174126967787743, 0.27622732520103455, 0.2071704864501953, 0.4143409729003906, 0.9514273405075073, 0.7534788250923157, 0.8265727758407593, 0.1458657830953598, 0.9695571660995483, 0.8586465716362, 0.19382745027542114, 0.604741632938385, 0.11629647016525269, 0.03876549005508423, 0.03876549005508423, 0.8293511867523193, 0.09952214360237122, 0.033174049109220505, 0.85332190990448, 0.1272345781326294, 0.7634074687957764, 0.9186076521873474, 0.8937886953353882, 0.06620656698942184, 0.9774290323257446, 0.9712388515472412, 0.9201555252075195, 0.883489191532135, 0.8709249496459961, 0.45594167709350586, 0.3039611279964447, 0.15198056399822235, 0.06513452529907227, 0.02171150967478752, 0.9403115510940552, 0.9178944230079651, 0.005518720019608736, 0.8995513916015625, 0.09381823986768723, 0.8582626581192017, 0.18051546812057495, 0.028316151350736618, 0.22298969328403473, 0.3787285387516022, 0.1415807604789734, 0.028316151350736618, 0.017697595059871674, 0.0035395189188420773, 0.8386502265930176, 0.08142893016338348, 0.1465720683336258, 0.39085885882377625, 0.2198581099510193, 0.1302862912416458, 0.03257157281041145, 0.8157004714012146, 0.6153001189231873, 0.15997803211212158, 0.17228403687477112, 0.04922401160001755, 0.8307256698608398, 0.07552051544189453, 0.07552051544189453, 0.9141925573348999, 0.14649753272533417, 0.830152690410614, 0.05537902191281319, 0.2630503475666046, 0.34611889719963074, 0.013844755478203297, 0.09691329300403595, 0.1938265860080719, 0.7245236039161682, 0.2656586766242981, 0.2655481696128845, 0.13277408480644226, 0.420451283454895, 0.022129014134407043, 0.11064507067203522, 0.011064507067203522, 0.033193521201610565, 0.0743323490023613, 0.891988217830658, 0.8338097929954529, 0.9649017453193665, 0.8693755865097046, 0.19280998408794403, 0.7712399363517761, 0.8051406741142273, 0.11502009630203247, 0.986207127571106, 0.9040327668190002, 0.8869376182556152, 0.04599250480532646, 0.6668912768363953, 0.2759550213813782, 0.9828096628189087, 0.9278568625450134, 0.050434134900569916, 0.04034730792045593, 0.4740808606147766, 0.010086826980113983, 0.23199701309204102, 0.19164970517158508, 0.17342284321784973, 0.1300671398639679, 0.5853021144866943, 0.08671142160892487, 0.021677855402231216, 0.10905332863330841, 0.0408950001001358, 0.24536998569965363, 0.5861616134643555, 0.9812240600585938, 0.8778174519538879, 0.08778174221515656, 0.8286601901054382, 0.1462341547012329, 0.01624823920428753, 0.8351780772209167, 0.11653647571802139, 0.0485568642616272, 0.4124123454093933, 0.26244422793388367, 0.2999362349510193, 0.9181349873542786, 0.15146404504776, 0.7573202252388, 0.9241569638252258, 0.9473890662193298, 0.9858715534210205, 0.9693132042884827, 0.9110868573188782, 0.9707409143447876, 0.9185597896575928, 0.8868160843849182, 0.9494659304618835, 0.09873460978269577, 0.4344322979450226, 0.03949384391307831, 0.42126768827438354, 0.006582307629287243, 0.8113501667976379, 0.09981424361467361, 0.09981424361467361, 0.19962848722934723, 0.5988854765892029, 0.8982621431350708, 0.09455391019582748, 0.9398113489151001, 0.8340171575546265, 0.1601576805114746, 0.6223269701004028, 0.1464298814535141, 0.022879667580127716, 0.04575933516025543, 0.16831405460834503, 0.16831405460834503, 0.6311776638031006, 0.8991235494613647, 0.4314807057380676, 0.09588460624217987, 0.4314807057380676, 0.9300621151924133, 0.12287230044603348, 0.3225397765636444, 0.4454120993614197, 0.09215422719717026, 0.25290051102638245, 0.7392476797103882, 0.4270200729370117, 0.12200573086738586, 0.12200573086738586, 0.08133715391159058, 0.20334288477897644, 0.858360230922699, 0.13553056120872498, 0.24315707385540009, 0.17507308721542358, 0.36959874629974365, 0.21397821605205536, 0.1031118631362915, 0.27496498823165894, 0.3169735074043274, 0.21004268527030945, 0.0840170755982399, 0.011456874199211597, 0.9042717814445496, 0.043060559779405594, 0.043060559779405594, 0.043060559779405594, 0.9474427103996277, 0.9178770184516907, 0.1160232201218605, 0.20304062962532043, 0.4447556734085083, 0.019337203353643417, 0.07734881341457367, 0.13536041975021362, 0.18270553648471832, 0.13702914118766785, 0.6394693851470947, 0.2800882160663605, 0.14004410803318024, 0.175055131316185, 0.21006616950035095, 0.03501102700829506, 0.15754961967468262, 0.9392865896224976, 0.4723775386810303, 0.09886971861124039, 0.10985524207353592, 0.05492762103676796, 0.05492762103676796, 0.07689867168664932, 0.12084076553583145, 0.9846011400222778, 0.06176307052373886, 0.8646829724311829, 0.36026254296302795, 0.0686214417219162, 0.22301967442035675, 0.3087964653968811, 0.0343107208609581, 0.9509240388870239, 0.9661768078804016, 0.02683824487030506, 0.9531469941139221, 0.04538795351982117, 0.9466612339019775, 0.35700443387031555, 0.029750369489192963, 0.12891827523708344, 0.009916789829730988, 0.41650518774986267, 0.04958394914865494, 0.9796456694602966, 0.9618270993232727, 0.9329102039337158, 0.9660726189613342, 0.8991062045097351, 0.9490295648574829, 0.8718711137771606, 0.062276508659124374, 0.062276508659124374, 0.8832858204841614, 0.9604002237319946, 0.8406926393508911, 0.1363285332918167, 0.9894786477088928, 0.14703114330768585, 0.0980207622051239, 0.08168397098779678, 0.1960415244102478, 0.4737670123577118, 0.9561365842819214, 0.9111437201499939, 0.06074291467666626, 0.5973190069198608, 0.08362466096878052, 0.26282036304473877, 0.04778552055358887, 0.9476509690284729, 0.6016477942466736, 0.38596272468566895, 0.011351845227181911, 0.05302691087126732, 0.3049047291278839, 0.05965527519583702, 0.45072874426841736, 0.09942545741796494, 0.02651345543563366, 0.960932731628418, 0.5231125950813293, 0.3923344314098358, 0.8121395707130432, 0.15618067979812622, 0.8580217957496643, 0.12825384736061096, 0.7695231437683105, 0.19497354328632355, 0.45368844270706177, 0.07498982548713684, 0.07498982548713684, 0.19872303307056427, 0.23271963000297546, 0.11398512870073318, 0.11398512870073318, 0.24696777760982513, 0.09973698854446411, 0.18047645688056946, 0.014248141087591648, 0.8186191320419312, 0.12279286980628967, 0.05457460880279541, 0.9091991186141968, 0.06818993389606476, 0.04515690729022026, 0.12418149411678314, 0.1128922700881958, 0.3048091232776642, 0.33303219079971313, 0.07902459055185318, 0.16737468540668488, 0.7810819149017334, 0.0305961724370718, 0.41304832696914673, 0.258367657661438, 0.07819021493196487, 0.010198723524808884, 0.1869765967130661, 0.01869766041636467, 0.003399574663490057, 0.9330272078514099, 0.960976243019104, 0.2809348404407501, 0.7023370862007141, 0.9715113043785095, 0.027757465839385986, 0.12724365293979645, 0.5938037037849426, 0.08482909947633743, 0.08482909947633743, 0.06362182646989822, 0.021207274869084358, 0.8683308959007263, 0.11577744781970978, 0.9107224345207214, 0.9030675888061523, 0.08255431056022644, 0.9080974459648132, 0.7172976732254028, 0.08747532963752747, 0.10497039556503296, 0.061232730746269226, 0.02624259889125824, 0.28067833185195923, 0.0863625630736351, 0.626128613948822, 0.9593877196311951, 0.9124146103858948, 0.0667620450258255, 0.10425373166799545, 0.8340298533439636, 0.9357851147651672, 0.8662542700767517, 0.9622482657432556, 0.8823872804641724, 0.08021702617406845, 0.5791853666305542, 0.3401564657688141, 0.055160511285066605, 0.0091934185475111, 0.892368733882904, 0.05960173159837723, 0.15496449172496796, 0.05960173159837723, 0.6198579668998718, 0.08344241976737976, 0.011920345947146416, 0.9474833607673645, 0.9726641178131104, 0.9625886678695679, 0.7288179397583008, 0.23553264141082764, 0.017776047810912132, 0.013332036323845387, 0.968652606010437, 0.030728407204151154, 0.3470502495765686, 0.056034155189991, 0.31632184982299805, 0.18979310989379883, 0.030728407204151154, 0.030728407204151154, 0.060974910855293274, 0.21341218054294586, 0.045731183141469955, 0.3963369131088257, 0.1524372696876526, 0.11432795226573944, 0.007621863856911659, 0.9396063089370728, 0.8858532905578613, 0.9324375987052917, 0.06371797621250153, 0.19115394353866577, 0.3185898959636688, 0.38230788707733154, 0.06777777522802353, 0.11296296119689941, 0.14685185253620148, 0.6100000143051147, 0.045185185968875885, 0.9299393892288208, 0.7479572892189026, 0.9399756193161011, 0.05529268458485603, 0.5921016931533813, 0.0455462820827961, 0.3491881787776947, 0.12733642756938934, 0.8276867866516113, 0.9028398394584656, 0.8969498872756958, 0.9471195340156555, 0.938630998134613, 0.12731939554214478, 0.14072144031524658, 0.12731939554214478, 0.1742265522480011, 0.08041225373744965, 0.28814390301704407, 0.060309190303087234, 0.7289237380027771, 0.22428423166275024, 0.16091789305210114, 0.8045895099639893, 0.5815050601959229, 0.1565590500831604, 0.19010742008686066, 0.04473115876317024, 0.02236557938158512, 0.8975768685340881, 0.16023068130016327, 0.3909628391265869, 0.08331995457410812, 0.07050149887800217, 0.22432294487953186, 0.06409227102994919, 0.018299685791134834, 0.5306909084320068, 0.06099895387887955, 0.13419769704341888, 0.2256961315870285, 0.030499476939439774, 0.94023197889328, 0.8566496968269348, 0.10708121210336685, 0.9292550683021545, 0.11261249333620071, 0.1970718652009964, 0.6475217938423157, 0.04772111773490906, 0.3658618927001953, 0.11134927719831467, 0.4772111773490906, 0.9612157940864563, 0.0171645674854517, 0.16533294320106506, 0.08902543038129807, 0.012717918492853642, 0.17805086076259613, 0.31794795393943787, 0.08902543038129807, 0.12717919051647186, 0.1184837594628334, 0.4607701599597931, 0.3422864079475403, 0.06582430750131607, 0.9250809550285339, 0.826854407787323, 0.7301267981529236, 0.3173564076423645, 0.15867820382118225, 0.47603458166122437, 0.2674803137779236, 0.6241207718849182, 0.908041775226593, 0.8879781365394592, 0.8463010191917419, 0.06253217160701752, 0.9171384572982788, 0.145963653922081, 0.4378909468650818, 0.4086982309818268, 0.017359046265482903, 0.2603856921195984, 0.711720883846283, 0.04329277202486992, 0.9091482162475586, 0.02942274697124958, 0.11769098788499832, 0.7944141626358032, 0.02942274697124958, 0.945583164691925, 0.3203294575214386, 0.16657131910324097, 0.24345038831233978, 0.06406589597463608, 0.07687906920909882, 0.12813179194927216, 0.045492738485336304, 0.718785285949707, 0.16377386450767517, 0.054591286927461624, 0.027295643463730812, 0.9601438641548157, 0.971498966217041, 0.14153335988521576, 0.8020223379135132, 0.9865763783454895, 0.1943671852350235, 0.14577539265155792, 0.048591796308755875, 0.48591798543930054, 0.14577539265155792, 0.3439524173736572, 0.3930884897708893, 0.2456803023815155, 0.9213716983795166, 0.8788707256317139, 0.08788707107305527, 0.08037983626127243, 0.3215193450450897, 0.5626588463783264, 0.18319128453731537, 0.7785629630088806, 0.9032309651374817, 0.9675992131233215, 0.4805293679237366, 0.26210692524909973, 0.12231656163930893, 0.10484276711940765, 0.017473794519901276, 0.008736897259950638, 0.9510037899017334, 0.9652522802352905, 0.7939041256904602, 0.057597022503614426, 0.8639553189277649, 0.057597022503614426, 0.9196644425392151, 0.05573723837733269, 0.8515157699584961, 0.13444986939430237, 0.9312604069709778, 0.8903499841690063, 0.06359642744064331, 0.045671649277210236, 0.06089553236961365, 0.05328359082341194, 0.4034329056739807, 0.33492541313171387, 0.022835824638605118, 0.07611941546201706, 0.239620640873909, 0.07624293118715286, 0.2505124807357788, 0.3267554044723511, 0.10891847312450409, 0.30369439721107483, 0.26030948758125305, 0.043384913355112076, 0.3470793068408966, 0.9258285760879517, 0.863228976726532, 0.9229148626327515, 0.6820346713066101, 0.2778659760951996, 0.025260543450713158, 0.9765329957008362, 0.21474379301071167, 0.06135536730289459, 0.644231379032135, 0.06135536730289459, 0.9676671028137207, 0.780767560005188, 0.09008856117725372, 0.09008856117725372, 0.1249479278922081, 0.09995834529399872, 0.7496875524520874, 0.36366528272628784, 0.3162306845188141, 0.04743460193276405, 0.26879608631134033, 0.17752686142921448, 0.399435430765152, 0.35505372285842896, 0.08876343071460724, 0.925115704536438, 0.8907136917114258, 0.10121746361255646, 0.9738345742225647, 0.01803397387266159, 0.889803946018219, 0.060668449848890305, 0.040445633232593536, 0.9538359045982361, 0.949264407157898, 0.9213765263557434, 0.6982976794242859, 0.1527526080608368, 0.1309308111667633, 0.5177698731422424, 0.06372552365064621, 0.10753682255744934, 0.3106619417667389, 0.04717022925615311, 0.5896278619766235, 0.04717022925615311, 0.2594362497329712, 0.023585114628076553, 0.9608109593391418, 0.8835257291793823, 0.9103214144706726, 0.9689289331436157, 0.8269476890563965, 0.060664158314466476, 0.42464911937713623, 0.4853132665157318, 0.9261925220489502, 0.9393091797828674, 0.9340872168540955, 0.8870561122894287, 0.1207752600312233, 0.18518872559070587, 0.1207752600312233, 0.5555661916732788, 0.008051684126257896, 0.07609164714813232, 0.9130997657775879, 0.9937012791633606, 0.8631753921508789, 0.04795419052243233, 0.09590838104486465, 0.9662473201751709, 0.8522745966911316, 0.11755511909723282, 0.5451691746711731, 0.18871241807937622, 0.1048402264714241, 0.14677631855010986, 0.019109908491373062, 0.6975116729736328, 0.27709367871284485, 0.9201201796531677, 0.9880663752555847, 0.9714875221252441, 0.9539045095443726, 0.09304989874362946, 0.130269855260849, 0.6141293048858643, 0.14887982606887817, 0.9548121690750122, 0.5333943367004395, 0.13152189552783966, 0.12421511858701706, 0.1972828358411789, 0.6113368272781372, 0.1334608495235443, 0.08610377460718155, 0.14207123219966888, 0.0086103780195117, 0.012915566563606262, 0.0086103780195117, 0.23954135179519653, 0.23954135179519653, 0.538968026638031, 0.9893556237220764, 0.4501520097255707, 0.3295755684375763, 0.13665328919887543, 0.07234586030244827, 0.008038428612053394, 0.008038428612053394, 0.9615164399147034, 0.022360848262906075, 0.16518115997314453, 0.8259057402610779, 0.17758136987686157, 0.7991161942481995, 0.8661098480224609, 0.21844542026519775, 0.03253442421555519, 0.19520653784275055, 0.2556276023387909, 0.20450209081172943, 0.06042107194662094, 0.01394332479685545, 0.01394332479685545, 0.25787365436553955, 0.6769183874130249, 0.032234206795692444, 0.016117103397846222, 0.8565530180931091, 0.1027863621711731, 0.8689843416213989, 0.9342018961906433, 0.1447974294424057, 0.0685882568359375, 0.0685882568359375, 0.03048366867005825, 0.4801177680492401, 0.1676601767539978, 0.0381045863032341, 0.2235347181558609, 0.7600180506706238, 0.8266480565071106, 0.9150261878967285, 0.08712764084339142, 0.9122776389122009, 0.9870805144309998, 0.9337670207023621, 0.9921681880950928, 0.8426351547241211, 0.13151410222053528, 0.8621480464935303, 0.9714999198913574, 0.9656110405921936, 0.8768190145492554, 0.6803691983222961, 0.18768805265426636, 0.07038301974534988, 0.04692201316356659, 0.6974740624427795, 0.3545783460140228, 0.13296687602996826, 0.531867504119873, 0.024480542168021202, 0.35496786236763, 0.1264827996492386, 0.1917642503976822, 0.18768416345119476, 0.024480542168021202, 0.012240271084010601, 0.0326407253742218, 0.04488099366426468, 0.004080090671777725, 0.9289519190788269, 0.4394215941429138, 0.12461209297180176, 0.19675594568252563, 0.14428769052028656, 0.03935118764638901, 0.04590971767902374, 0.006558531429618597, 0.48313090205192566, 0.11367785930633545, 0.2463020235300064, 0.07104866206645966, 0.05210234969854355, 0.028419464826583862, 0.840926468372345, 0.0560617633163929, 0.0560617633163929, 0.9372227787971497, 0.8921802043914795, 0.9624580144882202, 0.4853309094905853, 0.5095974802970886, 0.686937689781189, 0.025442136451601982, 0.2544213831424713, 0.27823376655578613, 0.649212121963501, 0.06182972714304924, 0.242867574095726, 0.0809558629989624, 0.6476469039916992, 0.934162437915802, 0.8463793396949768, 0.9528425931930542, 0.9188075065612793, 0.9069586396217346, 0.30368518829345703, 0.6872875690460205, 0.7805364727973938, 0.017874881625175476, 0.08341611176729202, 0.03574976325035095, 0.05362464487552643, 0.029791468754410744, 0.1114538311958313, 0.8359037041664124, 0.0858357772231102, 0.1716715544462204, 0.6580742597579956, 0.0572238489985466, 0.873558759689331, 0.7474348545074463, 0.07706093788146973, 0.07706093788146973, 0.847670316696167, 0.3588632047176361, 0.10253234207630157, 0.4613955318927765, 0.07689925283193588, 0.11357035487890244, 0.5678517818450928, 0.3028542697429657, 0.19162389636039734, 0.7664955854415894, 0.7968782186508179, 0.9470710158348083, 0.17427687346935272, 0.8132920861244202, 0.8324719071388245, 0.8582793474197388, 0.18707691133022308, 0.10204195231199265, 0.4081678092479706, 0.14455942809581757, 0.07653146237134933, 0.05952446907758713, 0.017006991431117058, 0.6982319951057434, 0.01662457175552845, 0.2826177179813385, 0.9147025942802429, 0.39751821756362915, 0.06115664914250374, 0.5198315382003784, 0.05309754237532616, 0.02654877118766308, 0.8495606780052185, 0.02654877118766308, 0.025096571072936058, 0.29488471150398254, 0.012548285536468029, 0.11920871585607529, 0.3764485716819763, 0.050193142145872116, 0.12548285722732544, 0.8699067234992981, 0.7096366882324219, 0.036705344915390015, 0.01223511528223753, 0.18352672457695007, 0.06117557734251022, 0.7789836525917053, 0.878669023513794, 0.11429841071367264, 0.00714365066960454, 0.9709867238998413, 0.5286033749580383, 0.02710786461830139, 0.3659561574459076, 0.08132359385490417, 0.018458548933267593, 0.21622872352600098, 0.06064952164888382, 0.25578275322914124, 0.3480755090713501, 0.042190972715616226, 0.03691709786653519, 0.010547743178904057, 0.007910806685686111, 0.47753843665122986, 0.03770040348172188, 0.38957083225250244, 0.05026720464229584, 0.05026720464229584, 0.38562312722206116, 0.5934311747550964, 0.017138805240392685, 0.004284701310098171, 0.9578068256378174, 0.10736236721277237, 0.08588989824056625, 0.24908070266246796, 0.1546018123626709, 0.23190271854400635, 0.06227017566561699, 0.0708591639995575, 0.023619720712304115, 0.012883484363555908, 0.00214724731631577, 0.05626107007265091, 0.17103365063667297, 0.3150619864463806, 0.0607619546353817, 0.18453630805015564, 0.09901948273181915, 0.08326638489961624, 0.029255757108330727, 0.0467112734913826, 0.10899296402931213, 0.6383873820304871, 0.20241551101207733, 0.9110292792320251, 0.9443585872650146], \"Term\": [\"able\", \"able\", \"able\", \"able\", \"accounts\", \"acres\", \"act\", \"act\", \"act\", \"act\", \"act\", \"act\", \"act\", \"address\", \"address\", \"address\", \"address\", \"address\", \"administration\", \"administration\", \"administration\", \"administration\", \"administration\", \"adopted\", \"adults\", \"adversaries\", \"affordable\", \"affordable\", \"afghanistan\", \"africa\", \"age\", \"age\", \"age\", \"ago\", \"ago\", \"ago\", \"ago\", \"ago\", \"ago\", \"agree\", \"agree\", \"agreement\", \"agreement\", \"agreements\", \"air\", \"air\", \"air\", \"air\", \"aisle\", \"aliens\", \"allies\", \"allies\", \"america\", \"america\", \"america\", \"america\", \"america\", \"american\", \"american\", \"american\", \"american\", \"american\", \"american\", \"american\", \"american\", \"american\", \"americans\", \"americans\", \"americans\", \"americans\", \"americans\", \"americans\", \"americans\", \"americans\", \"americorps\", \"announce\", \"appeal\", \"approve\", \"arms\", \"arms\", \"army\", \"army\", \"arts\", \"asia\", \"asia\", \"ask\", \"ask\", \"ask\", \"ask\", \"ask\", \"ask\", \"ask\", \"assault\", \"assault\", \"away\", \"away\", \"away\", \"away\", \"away\", \"away\", \"background\", \"balanced\", \"balanced\", \"balanced\", \"balancing\", \"ban\", \"ban\", \"banks\", \"banks\", \"basics\", \"beings\", \"benefits\", \"benefits\", \"benefits\", \"benefits\", \"benefits\", \"best\", \"best\", \"best\", \"best\", \"best\", \"better\", \"better\", \"better\", \"better\", \"better\", \"better\", \"better\", \"better\", \"bill\", \"bill\", \"bill\", \"bill\", \"bill\", \"billion\", \"billion\", \"billion\", \"biological\", \"bless\", \"border\", \"borders\", \"borders\", \"bosnia\", \"brady\", \"bravery\", \"breast\", \"bridge\", \"broadcast\", \"budget\", \"budget\", \"budget\", \"budget\", \"building\", \"building\", \"building\", \"building\", \"bureaucracy\", \"bureaucracy\", \"businesses\", \"businesses\", \"businesses\", \"buying\", \"buying\", \"canal\", \"cancer\", \"capability\", \"care\", \"cars\", \"cents\", \"century\", \"century\", \"century\", \"century\", \"challenge\", \"challenge\", \"challenge\", \"challenge\", \"challenge\", \"challenge\", \"challenges\", \"challenges\", \"challenges\", \"changed\", \"charter\", \"charter\", \"charter\", \"cheaper\", \"checks\", \"cherish\", \"chicago\", \"child\", \"child\", \"child\", \"child\", \"child\", \"children\", \"children\", \"children\", \"children\", \"china\", \"chip\", \"church\", \"church\", \"churches\", \"cigarettes\", \"citizens\", \"citizens\", \"citizens\", \"citizens\", \"citizens\", \"citizens\", \"citizens\", \"citizens\", \"citizens\", \"citizenship\", \"city\", \"city\", \"city\", \"city\", \"class\", \"class\", \"class\", \"classroom\", \"classroom\", \"classroom\", \"classrooms\", \"classrooms\", \"cleaner\", \"coal\", \"cold\", \"cold\", \"cold\", \"college\", \"college\", \"college\", \"colombia\", \"commission\", \"commission\", \"commission\", \"commit\", \"common\", \"common\", \"common\", \"common\", \"common\", \"communities\", \"communities\", \"communities\", \"communities\", \"community\", \"community\", \"community\", \"community\", \"community\", \"community\", \"congress\", \"congress\", \"congress\", \"congress\", \"congress\", \"congress\", \"congress\", \"congress\", \"congress\", \"connect\", \"conservation\", \"continue\", \"continue\", \"continue\", \"continue\", \"continue\", \"continue\", \"convention\", \"convention\", \"convention\", \"cost\", \"cost\", \"cost\", \"cost\", \"countries\", \"countries\", \"countries\", \"countries\", \"country\", \"country\", \"country\", \"country\", \"country\", \"country\", \"country\", \"country\", \"covenant\", \"cover\", \"coverage\", \"creativity\", \"credits\", \"crime\", \"criminal\", \"criminal\", \"cut\", \"cut\", \"cut\", \"cut\", \"cuts\", \"cuts\", \"dean\", \"death\", \"death\", \"debt\", \"debt\", \"decent\", \"deduction\", \"defense\", \"defense\", \"defense\", \"deficit\", \"deficit\", \"deficits\", \"defining\", \"deliver\", \"deliver\", \"demanding\", \"democracy\", \"democracy\", \"democracy\", \"democracy\", \"democracy\", \"deploy\", \"development\", \"development\", \"development\", \"development\", \"difficulty\", \"digital\", \"diplomacy\", \"discussion\", \"diseases\", \"distinguished\", \"districts\", \"divide\", \"doctor\", \"dole\", \"don\", \"don\", \"don\", \"don\", \"door\", \"door\", \"door\", \"doors\", \"drug\", \"drug\", \"drug\", \"drugs\", \"drugs\", \"drugs\", \"drugs\", \"dynamic\", \"east\", \"east\", \"economic\", \"economic\", \"economic\", \"economic\", \"economic\", \"economic\", \"economy\", \"economy\", \"economy\", \"economy\", \"economy\", \"education\", \"education\", \"education\", \"efficient\", \"efficient\", \"elementary\", \"eliminate\", \"eliminate\", \"eliminate\", \"eliminate\", \"emissions\", \"employers\", \"empowerment\", \"endanger\", \"endanger\", \"enemy\", \"energy\", \"energy\", \"energy\", \"energy\", \"enforce\", \"enforcement\", \"enforcement\", \"enforcement\", \"enter\", \"equal\", \"equal\", \"equipped\", \"era\", \"era\", \"established\", \"established\", \"ethnic\", \"europe\", \"everglades\", \"everyday\", \"executive\", \"executive\", \"extending\", \"fail\", \"families\", \"families\", \"families\", \"family\", \"family\", \"family\", \"family\", \"family\", \"fast\", \"fathers\", \"federal\", \"federal\", \"federal\", \"federal\", \"federal\", \"feingold\", \"fellow\", \"fellow\", \"fellow\", \"finance\", \"financial\", \"financial\", \"financial\", \"financial\", \"finished\", \"fire\", \"forces\", \"forces\", \"forces\", \"forces\", \"forces\", \"forces\", \"foreign\", \"foreign\", \"foreign\", \"foreign\", \"forge\", \"fought\", \"founders\", \"franklin\", \"franklin\", \"free\", \"free\", \"free\", \"free\", \"free\", \"free\", \"free\", \"free\", \"freedom\", \"freedom\", \"freedom\", \"freedom\", \"frontiers\", \"frontiers\", \"frontiers\", \"future\", \"future\", \"future\", \"future\", \"future\", \"futures\", \"gangs\", \"gas\", \"gas\", \"gas\", \"gene\", \"generations\", \"generations\", \"genes\", \"genetic\", \"global\", \"global\", \"global\", \"god\", \"god\", \"god\", \"god\", \"good\", \"good\", \"good\", \"good\", \"good\", \"good\", \"good\", \"got\", \"got\", \"got\", \"government\", \"government\", \"government\", \"government\", \"government\", \"government\", \"government\", \"governor\", \"governor\", \"governor\", \"grade\", \"graduates\", \"grant\", \"grant\", \"grass\", \"gratitude\", \"great\", \"great\", \"great\", \"great\", \"great\", \"greatest\", \"greatest\", \"greatest\", \"greatness\", \"guarantees\", \"guarantees\", \"guests\", \"gulf\", \"gulf\", \"gun\", \"guns\", \"haiti\", \"handguns\", \"happened\", \"hard\", \"hard\", \"hard\", \"hard\", \"hard\", \"hatred\", \"haven\", \"health\", \"health\", \"health\", \"heavens\", \"help\", \"help\", \"help\", \"help\", \"help\", \"help\", \"help\", \"help\", \"hero\", \"high\", \"high\", \"high\", \"high\", \"high\", \"high\", \"hiring\", \"history\", \"history\", \"history\", \"history\", \"honor\", \"honor\", \"honor\", \"honored\", \"hours\", \"hours\", \"house\", \"house\", \"house\", \"house\", \"house\", \"house\", \"housing\", \"housing\", \"human\", \"human\", \"human\", \"human\", \"human\", \"human\", \"human\", \"humanities\", \"humanities\", \"hunt\", \"idea\", \"identity\", \"illegal\", \"illegal\", \"illness\", \"illness\", \"immigrants\", \"immigration\", \"inappropriate\", \"incentives\", \"incentives\", \"incentives\", \"income\", \"incomes\", \"increase\", \"increase\", \"increase\", \"increase\", \"increase\", \"increase\", \"industry\", \"industry\", \"industry\", \"industry\", \"industry\", \"inflation\", \"inflation\", \"inflation\", \"inflation\", \"insurance\", \"intelligence\", \"intelligence\", \"interests\", \"interests\", \"interests\", \"international\", \"international\", \"international\", \"internet\", \"internet\", \"internet\", \"interstate\", \"introduced\", \"introduced\", \"investing\", \"iran\", \"iraq\", \"ireland\", \"isolated\", \"israel\", \"item\", \"jack\", \"jackson\", \"jobs\", \"jobs\", \"jobs\", \"jobs\", \"jobs\", \"jonesboro\", \"kept\", \"kept\", \"kept\", \"kept\", \"kids\", \"kids\", \"kill\", \"killed\", \"know\", \"know\", \"know\", \"know\", \"know\", \"korea\", \"korea\", \"korea\", \"kosovo\", \"lady\", \"lady\", \"lady\", \"launching\", \"law\", \"law\", \"law\", \"law\", \"laws\", \"laws\", \"leaders\", \"leaders\", \"leaders\", \"leaders\", \"leaders\", \"learning\", \"learning\", \"legislation\", \"legislation\", \"legislation\", \"legislation\", \"let\", \"let\", \"let\", \"let\", \"let\", \"let\", \"liberty\", \"liberty\", \"liberty\", \"liberty\", \"libraries\", \"library\", \"like\", \"like\", \"like\", \"like\", \"like\", \"like\", \"line\", \"line\", \"line\", \"live\", \"live\", \"live\", \"live\", \"live\", \"live\", \"lived\", \"lives\", \"lives\", \"lives\", \"lives\", \"lives\", \"lives\", \"lives\", \"loans\", \"lobbyists\", \"lobbyists\", \"local\", \"local\", \"local\", \"local\", \"local\", \"locks\", \"lot\", \"lot\", \"low\", \"low\", \"lucas\", \"major\", \"major\", \"major\", \"major\", \"major\", \"major\", \"management\", \"master\", \"materials\", \"math\", \"mccaffrey\", \"mccain\", \"measure\", \"measure\", \"measure\", \"media\", \"medicaid\", \"medical\", \"medical\", \"medicare\", \"members\", \"members\", \"members\", \"members\", \"members\", \"mental\", \"mexico\", \"mexico\", \"middle\", \"middle\", \"middle\", \"middle\", \"miles\", \"military\", \"military\", \"military\", \"million\", \"million\", \"million\", \"million\", \"million\", \"million\", \"minimum\", \"missiles\", \"missiles\", \"moment\", \"moment\", \"mortgages\", \"mothers\", \"mothers\", \"nation\", \"nation\", \"nation\", \"nation\", \"nation\", \"national\", \"national\", \"national\", \"national\", \"national\", \"national\", \"national\", \"nations\", \"nations\", \"nations\", \"nato\", \"nato\", \"need\", \"need\", \"need\", \"need\", \"need\", \"need\", \"neighborhoods\", \"neighborhoods\", \"new\", \"new\", \"new\", \"new\", \"new\", \"new\", \"new\", \"new\", \"nicaragua\", \"northern\", \"note\", \"note\", \"nuclear\", \"nuclear\", \"number\", \"number\", \"number\", \"number\", \"number\", \"number\", \"numbers\", \"numbers\", \"officers\", \"oklahoma\", \"opened\", \"opened\", \"opportunity\", \"opportunity\", \"opportunity\", \"opportunity\", \"opportunity\", \"order\", \"order\", \"order\", \"organized\", \"ought\", \"ought\", \"overseas\", \"overseas\", \"owe\", \"pain\", \"pakistan\", \"paperwork\", \"paperwork\", \"parents\", \"parents\", \"parents\", \"parents\", \"partnerships\", \"pay\", \"pay\", \"pay\", \"pay\", \"pay\", \"pay\", \"paycheck\", \"paying\", \"payments\", \"peace\", \"peace\", \"peace\", \"peace\", \"pensions\", \"people\", \"people\", \"people\", \"people\", \"people\", \"people\", \"people\", \"percent\", \"percent\", \"percent\", \"percent\", \"percent\", \"percent\", \"percent\", \"perfect\", \"performed\", \"persian\", \"places\", \"places\", \"places\", \"places\", \"plan\", \"plan\", \"plan\", \"plan\", \"plan\", \"planet\", \"podium\", \"police\", \"police\", \"policy\", \"policy\", \"policy\", \"politics\", \"politics\", \"polluters\", \"possibilities\", \"pregnancy\", \"prescription\", \"president\", \"president\", \"president\", \"president\", \"president\", \"president\", \"president\", \"prevention\", \"prevention\", \"priority\", \"priority\", \"private\", \"private\", \"private\", \"private\", \"private\", \"product\", \"program\", \"program\", \"program\", \"program\", \"program\", \"program\", \"programs\", \"programs\", \"programs\", \"programs\", \"programs\", \"programs\", \"projects\", \"promise\", \"promise\", \"promotion\", \"proposals\", \"proposals\", \"proposals\", \"proposed\", \"proposed\", \"proposed\", \"proposed\", \"prosperity\", \"prosperity\", \"protect\", \"protect\", \"protect\", \"protect\", \"protect\", \"protect\", \"protect\", \"public\", \"public\", \"public\", \"public\", \"punish\", \"punishment\", \"purchasing\", \"race\", \"race\", \"race\", \"racial\", \"racial\", \"radio\", \"rail\", \"railroads\", \"raise\", \"raise\", \"rate\", \"rate\", \"rate\", \"rates\", \"rates\", \"rates\", \"read\", \"read\", \"ready\", \"ready\", \"ready\", \"ready\", \"reality\", \"reduce\", \"reduce\", \"reduce\", \"reduce\", \"reduce\", \"reduce\", \"reform\", \"reform\", \"reform\", \"reform\", \"reform\", \"refugees\", \"regulations\", \"regulatory\", \"regulatory\", \"relations\", \"relief\", \"relief\", \"relief\", \"relief\", \"relief\", \"religious\", \"religious\", \"religious\", \"reminds\", \"remove\", \"remove\", \"representatives\", \"representatives\", \"representatives\", \"republican\", \"republican\", \"requiring\", \"resource\", \"responsibility\", \"responsibility\", \"responsibility\", \"responsibility\", \"responsibility\", \"responsibility\", \"retire\", \"retirement\", \"revenue\", \"review\", \"review\", \"review\", \"revolution\", \"revolution\", \"reward\", \"reward\", \"rewards\", \"richard\", \"richard\", \"right\", \"right\", \"right\", \"right\", \"right\", \"right\", \"right\", \"rights\", \"rights\", \"rights\", \"rights\", \"rights\", \"rising\", \"rising\", \"rising\", \"rising\", \"road\", \"rock\", \"row\", \"rural\", \"rural\", \"rural\", \"russia\", \"safe\", \"safe\", \"safe\", \"safe\", \"safeguard\", \"safer\", \"safer\", \"safer\", \"safety\", \"safety\", \"safety\", \"said\", \"said\", \"said\", \"said\", \"saving\", \"saving\", \"saving\", \"saving\", \"scholarship\", \"school\", \"school\", \"schools\", \"schools\", \"science\", \"science\", \"science\", \"scientific\", \"scientists\", \"scores\", \"sector\", \"sector\", \"sector\", \"security\", \"security\", \"security\", \"security\", \"senate\", \"senate\", \"senate\", \"senate\", \"senate\", \"senator\", \"sensible\", \"shouldn\", \"sick\", \"sixth\", \"size\", \"size\", \"size\", \"skill\", \"smallest\", \"smarter\", \"smoking\", \"social\", \"social\", \"social\", \"social\", \"social\", \"solar\", \"solar\", \"soviet\", \"space\", \"space\", \"space\", \"speak\", \"speaker\", \"speaker\", \"special\", \"special\", \"special\", \"special\", \"spending\", \"spending\", \"spending\", \"spur\", \"stability\", \"stable\", \"stake\", \"standards\", \"standards\", \"standards\", \"standards\", \"star\", \"state\", \"state\", \"state\", \"state\", \"states\", \"states\", \"states\", \"states\", \"states\", \"states\", \"states\", \"stopped\", \"stopped\", \"stopped\", \"strategic\", \"strong\", \"strong\", \"strong\", \"strong\", \"strong\", \"strong\", \"stronger\", \"stronger\", \"students\", \"students\", \"sun\", \"sun\", \"superhighway\", \"support\", \"support\", \"support\", \"support\", \"support\", \"support\", \"support\", \"support\", \"sure\", \"sure\", \"sure\", \"sure\", \"surplus\", \"surplus\", \"surpluses\", \"synthetic\", \"system\", \"system\", \"system\", \"system\", \"system\", \"system\", \"system\", \"systems\", \"systems\", \"talented\", \"talents\", \"tax\", \"tax\", \"taxes\", \"teach\", \"teachers\", \"tech\", \"technology\", \"technology\", \"teen\", \"television\", \"tests\", \"thank\", \"thank\", \"thank\", \"thank\", \"thomas\", \"thousand\", \"thousand\", \"thousand\", \"time\", \"time\", \"time\", \"time\", \"time\", \"time\", \"time\", \"time\", \"time\", \"time\", \"tobacco\", \"today\", \"today\", \"today\", \"today\", \"today\", \"today\", \"today\", \"tonight\", \"tonight\", \"tonight\", \"tonight\", \"tonight\", \"tonight\", \"total\", \"total\", \"total\", \"tougher\", \"town\", \"toxic\", \"trade\", \"trade\", \"training\", \"training\", \"training\", \"transportation\", \"transportation\", \"transportation\", \"treatment\", \"treatment\", \"treatment\", \"treatments\", \"trucking\", \"tuition\", \"undermine\", \"unemployed\", \"union\", \"union\", \"united\", \"united\", \"united\", \"united\", \"united\", \"united\", \"unnecessary\", \"unnecessary\", \"urge\", \"urge\", \"urge\", \"urge\", \"usa\", \"vacancies\", \"veto\", \"veto\", \"veto\", \"vice\", \"vice\", \"vice\", \"vice\", \"violence\", \"violence\", \"violence\", \"violent\", \"violent\", \"volunteers\", \"vouchers\", \"wage\", \"wage\", \"wait\", \"waiting\", \"want\", \"want\", \"want\", \"want\", \"want\", \"want\", \"want\", \"war\", \"war\", \"war\", \"warheads\", \"waste\", \"waste\", \"waste\", \"water\", \"water\", \"water\", \"water\", \"way\", \"way\", \"way\", \"way\", \"way\", \"way\", \"way\", \"weapon\", \"weapons\", \"weapons\", \"weapons\", \"weapons\", \"weapons\", \"welcome\", \"welfare\", \"welfare\", \"welfare\", \"western\", \"women\", \"women\", \"women\", \"women\", \"work\", \"work\", \"work\", \"work\", \"work\", \"work\", \"work\", \"work\", \"work\", \"workers\", \"workers\", \"workers\", \"workers\", \"workers\", \"world\", \"world\", \"world\", \"world\", \"worth\", \"year\", \"year\", \"year\", \"year\", \"year\", \"year\", \"year\", \"year\", \"year\", \"year\", \"years\", \"years\", \"years\", \"years\", \"years\", \"years\", \"years\", \"years\", \"young\", \"young\", \"young\", \"young\", \"zarfos\", \"zones\"]}, \"R\": 30, \"lambda.step\": 0.01, \"plot.opts\": {\"xlab\": \"PC1\", \"ylab\": \"PC2\"}, \"topic.order\": [2, 9, 4, 3, 1, 7, 6, 10, 5, 8]};\n",
       "\n",
       "function LDAvis_load_lib(url, callback){\n",
       "  var s = document.createElement('script');\n",
       "  s.src = url;\n",
       "  s.async = true;\n",
       "  s.onreadystatechange = s.onload = callback;\n",
       "  s.onerror = function(){console.warn(\"failed to load library \" + url);};\n",
       "  document.getElementsByTagName(\"head\")[0].appendChild(s);\n",
       "}\n",
       "\n",
       "if(typeof(LDAvis) !== \"undefined\"){\n",
       "   // already loaded: just create the visualization\n",
       "   !function(LDAvis){\n",
       "       new LDAvis(\"#\" + \"ldavis_el295371404155241790249898450184\", ldavis_el295371404155241790249898450184_data);\n",
       "   }(LDAvis);\n",
       "}else if(typeof define === \"function\" && define.amd){\n",
       "   // require.js is available: use it to load d3/LDAvis\n",
       "   require.config({paths: {d3: \"https://cdnjs.cloudflare.com/ajax/libs/d3/3.5.5/d3.min\"}});\n",
       "   require([\"d3\"], function(d3){\n",
       "      window.d3 = d3;\n",
       "      LDAvis_load_lib(\"https://cdn.rawgit.com/bmabey/pyLDAvis/files/ldavis.v1.0.0.js\", function(){\n",
       "        new LDAvis(\"#\" + \"ldavis_el295371404155241790249898450184\", ldavis_el295371404155241790249898450184_data);\n",
       "      });\n",
       "    });\n",
       "}else{\n",
       "    // require.js not available: dynamically load d3 & LDAvis\n",
       "    LDAvis_load_lib(\"https://cdnjs.cloudflare.com/ajax/libs/d3/3.5.5/d3.min.js\", function(){\n",
       "         LDAvis_load_lib(\"https://cdn.rawgit.com/bmabey/pyLDAvis/files/ldavis.v1.0.0.js\", function(){\n",
       "                 new LDAvis(\"#\" + \"ldavis_el295371404155241790249898450184\", ldavis_el295371404155241790249898450184_data);\n",
       "            })\n",
       "         });\n",
       "}\n",
       "</script>"
      ],
      "text/plain": [
       "PreparedData(topic_coordinates=              x         y  topics  cluster       Freq\n",
       "topic                                                \n",
       "1     -0.075145  0.238183       1        1  17.258539\n",
       "8     -0.100151  0.031737       2        1  15.973639\n",
       "3     -0.113978 -0.003310       3        1  13.405092\n",
       "2     -0.092099 -0.091058       4        1  12.787088\n",
       "0     -0.159411 -0.164737       5        1  12.618202\n",
       "6     -0.022313  0.146794       6        1  11.557371\n",
       "5      0.027155 -0.092068       7        1   6.293804\n",
       "9      0.134388 -0.062968       8        1   4.078117\n",
       "4      0.166930 -0.013209       9        1   3.574061\n",
       "7      0.234625  0.010634      10        1   2.454077, topic_info=     Category        Freq       Term       Total  loglift  logprob\n",
       "140   Default  570.000000    america  570.000000  30.0000  30.0000\n",
       "25    Default  466.000000      world  466.000000  29.0000  29.0000\n",
       "1362  Default  176.000000       care  176.000000  28.0000  28.0000\n",
       "189   Default  195.000000        tax  195.000000  27.0000  27.0000\n",
       "1046  Default  291.000000   children  291.000000  26.0000  26.0000\n",
       "...       ...         ...        ...         ...      ...      ...\n",
       "2135  Topic10    7.188360    special   47.691616   1.8151  -5.5229\n",
       "4     Topic10    8.669461  president  149.230988   0.8617  -5.3356\n",
       "139   Topic10    6.182659    address   34.013214   2.0024  -5.6736\n",
       "1003  Topic10    5.728278      women   73.779327   1.1518  -5.7500\n",
       "819   Topic10    5.671569       away   34.718407   1.8956  -5.7599\n",
       "\n",
       "[675 rows x 6 columns], token_table=      Topic      Freq      Term\n",
       "term                           \n",
       "45        1  0.206733      able\n",
       "45        3  0.222636      able\n",
       "45        4  0.540687      able\n",
       "45        8  0.031805      able\n",
       "5029      5  0.979121  accounts\n",
       "...     ...       ...       ...\n",
       "28        3  0.108993     young\n",
       "28        4  0.638387     young\n",
       "28        7  0.202416     young\n",
       "7897     10  0.911029    zarfos\n",
       "5329      3  0.944359     zones\n",
       "\n",
       "[1388 rows x 3 columns], R=30, lambda_step=0.01, plot_opts={'xlab': 'PC1', 'ylab': 'PC2'}, topic_order=[2, 9, 4, 3, 1, 7, 6, 10, 5, 8])"
      ]
     },
     "execution_count": 25,
     "metadata": {},
     "output_type": "execute_result"
    }
   ],
   "source": [
    "# Visualize the topics\n",
    "import pyLDAvis\n",
    "import pyLDAvis.gensim\n",
    "\n",
    "\n",
    "pyLDAvis.enable_notebook()\n",
    "vis = pyLDAvis.gensim.prepare(model_v2, corpus,id2word)\n",
    "vis"
   ]
  },
  {
   "cell_type": "markdown",
   "metadata": {},
   "source": [
    "How do you interpret your plot? What would be a reasonable choice for the number of passes? Retrain your LDA model with that number and re-inspect the topics it finds. Do you consider the new topics to be &lsquo;better&rsquo; than the ones that you got from the 1-pass model in Problem&nbsp;5?"
   ]
  },
  {
   "cell_type": "markdown",
   "metadata": {},
   "source": [
    "*TODO: Insert your discussion of these questions here*"
   ]
  },
  {
   "cell_type": "markdown",
   "metadata": {},
   "source": [
    "<div class=\"alert alert-info\">\n",
    "    Please read the section ‘General information’ on the ‘Labs’ page of the course website before submitting this notebook!\n",
    "</div>"
   ]
  }
 ],
 "metadata": {
  "kernelspec": {
   "display_name": "Python 3",
   "language": "python",
   "name": "python3"
  },
  "language_info": {
   "codemirror_mode": {
    "name": "ipython",
    "version": 3
   },
   "file_extension": ".py",
   "mimetype": "text/x-python",
   "name": "python",
   "nbconvert_exporter": "python",
   "pygments_lexer": "ipython3",
   "version": "3.7.5"
  }
 },
 "nbformat": 4,
 "nbformat_minor": 2
}
