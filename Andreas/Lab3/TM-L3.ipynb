{
 "cells": [
  {
   "cell_type": "markdown",
   "metadata": {},
   "source": [
    "# L3: Text clustering and topic modelling"
   ]
  },
  {
   "cell_type": "markdown",
   "metadata": {},
   "source": [
    "Text clustering groups documents in such a way that documents within a group are more &lsquo;similar&rsquo; to other documents in the cluster than to documents not in the cluster. The exact definition of what &lsquo;similar&rsquo; means in this context varies across applications and clustering algorithms.\n",
    "\n",
    "In this lab you will experiment with both hard and soft clustering techniques. More specifically, in the first part you will be using the $k$-means algorithm, and in the second part you will be using a topic model based on the Latent Dirichlet Allocation (LDA)."
   ]
  },
  {
   "cell_type": "markdown",
   "metadata": {},
   "source": [
    "## Hard clustering data set"
   ]
  },
  {
   "cell_type": "markdown",
   "metadata": {},
   "source": [
    "The raw data for the hard clustering part of this lab is a collection of product reviews. We have preprocessed the data by tokenization and lowercasing."
   ]
  },
  {
   "cell_type": "code",
   "execution_count": 16,
   "metadata": {},
   "outputs": [],
   "source": [
    "import pandas as pd\n",
    "import bz2\n",
    "\n",
    "with bz2.open(\"reviews.json.bz2\") as source:\n",
    "    df = pd.read_json(source)"
   ]
  },
  {
   "cell_type": "markdown",
   "metadata": {},
   "source": [
    "When you inspect the data frame, you can see that there are three labelled columns: `category` (the product category), `sentiment` (whether the product review was classified as &lsquo;positive&rsquo; or &lsquo;negative&rsquo; towards the product), and `text` (the space-separated text of the review)."
   ]
  },
  {
   "cell_type": "code",
   "execution_count": 17,
   "metadata": {},
   "outputs": [
    {
     "data": {
      "text/html": [
       "<div>\n",
       "<style scoped>\n",
       "    .dataframe tbody tr th:only-of-type {\n",
       "        vertical-align: middle;\n",
       "    }\n",
       "\n",
       "    .dataframe tbody tr th {\n",
       "        vertical-align: top;\n",
       "    }\n",
       "\n",
       "    .dataframe thead th {\n",
       "        text-align: right;\n",
       "    }\n",
       "</style>\n",
       "<table border=\"1\" class=\"dataframe\">\n",
       "  <thead>\n",
       "    <tr style=\"text-align: right;\">\n",
       "      <th></th>\n",
       "      <th>category</th>\n",
       "      <th>sentiment</th>\n",
       "      <th>text</th>\n",
       "    </tr>\n",
       "  </thead>\n",
       "  <tbody>\n",
       "    <tr>\n",
       "      <th>0</th>\n",
       "      <td>music</td>\n",
       "      <td>neg</td>\n",
       "      <td>i bought this album because i loved the title ...</td>\n",
       "    </tr>\n",
       "    <tr>\n",
       "      <th>1</th>\n",
       "      <td>music</td>\n",
       "      <td>neg</td>\n",
       "      <td>i was misled and thought i was buying the enti...</td>\n",
       "    </tr>\n",
       "    <tr>\n",
       "      <th>2</th>\n",
       "      <td>books</td>\n",
       "      <td>neg</td>\n",
       "      <td>i have introduced many of my ell , high school...</td>\n",
       "    </tr>\n",
       "    <tr>\n",
       "      <th>3</th>\n",
       "      <td>books</td>\n",
       "      <td>pos</td>\n",
       "      <td>anything you purchase in the left behind serie...</td>\n",
       "    </tr>\n",
       "    <tr>\n",
       "      <th>4</th>\n",
       "      <td>dvd</td>\n",
       "      <td>pos</td>\n",
       "      <td>i loved these movies , and i cant wiat for the...</td>\n",
       "    </tr>\n",
       "    <tr>\n",
       "      <th>5</th>\n",
       "      <td>camera</td>\n",
       "      <td>neg</td>\n",
       "      <td>in my experience , this camera takes great pic...</td>\n",
       "    </tr>\n",
       "    <tr>\n",
       "      <th>6</th>\n",
       "      <td>books</td>\n",
       "      <td>neg</td>\n",
       "      <td>first off i 'd like to tell you that this is o...</td>\n",
       "    </tr>\n",
       "    <tr>\n",
       "      <th>7</th>\n",
       "      <td>health</td>\n",
       "      <td>pos</td>\n",
       "      <td>this is a very good shaver for the private are...</td>\n",
       "    </tr>\n",
       "    <tr>\n",
       "      <th>8</th>\n",
       "      <td>books</td>\n",
       "      <td>neg</td>\n",
       "      <td>not even worth finishing this book ! this auth...</td>\n",
       "    </tr>\n",
       "    <tr>\n",
       "      <th>9</th>\n",
       "      <td>books</td>\n",
       "      <td>pos</td>\n",
       "      <td>if you 're intimidated by tolstoy or dostoevsk...</td>\n",
       "    </tr>\n",
       "  </tbody>\n",
       "</table>\n",
       "</div>"
      ],
      "text/plain": [
       "  category sentiment                                               text\n",
       "0    music       neg  i bought this album because i loved the title ...\n",
       "1    music       neg  i was misled and thought i was buying the enti...\n",
       "2    books       neg  i have introduced many of my ell , high school...\n",
       "3    books       pos  anything you purchase in the left behind serie...\n",
       "4      dvd       pos  i loved these movies , and i cant wiat for the...\n",
       "5   camera       neg  in my experience , this camera takes great pic...\n",
       "6    books       neg  first off i 'd like to tell you that this is o...\n",
       "7   health       pos  this is a very good shaver for the private are...\n",
       "8    books       neg  not even worth finishing this book ! this auth...\n",
       "9    books       pos  if you 're intimidated by tolstoy or dostoevsk..."
      ]
     },
     "execution_count": 17,
     "metadata": {},
     "output_type": "execute_result"
    }
   ],
   "source": [
    "df.head(n=10)"
   ]
  },
  {
   "cell_type": "code",
   "execution_count": 18,
   "metadata": {},
   "outputs": [
    {
     "data": {
      "text/plain": [
       "(11914, 3)"
      ]
     },
     "execution_count": 18,
     "metadata": {},
     "output_type": "execute_result"
    }
   ],
   "source": [
    "df.shape"
   ]
  },
  {
   "cell_type": "code",
   "execution_count": 19,
   "metadata": {},
   "outputs": [
    {
     "name": "stdout",
     "output_type": "stream",
     "text": [
      "The distinct categories are:  ['music' 'books' 'dvd' 'camera' 'health' 'software']\n"
     ]
    }
   ],
   "source": [
    "print('The distinct categories are: ',df.category.unique())"
   ]
  },
  {
   "cell_type": "markdown",
   "metadata": {},
   "source": [
    "## Problem 1: K-means clustering"
   ]
  },
  {
   "cell_type": "markdown",
   "metadata": {},
   "source": [
    "Your first task is to cluster the product review data using a tf–idf vectorizer and a $k$-means clusterer."
   ]
  },
  {
   "cell_type": "markdown",
   "metadata": {},
   "source": [
    "Start by doing the vectorization. In connection with vectorization, you should also filter out standard English stop words. While you could use [spaCy](https://spacy.io/) for this task, here it suffices to use the word list implemented in [TfidfVectorizer](https://scikit-learn.org/stable/modules/generated/sklearn.feature_extraction.text.TfidfVectorizer.html)."
   ]
  },
  {
   "cell_type": "code",
   "execution_count": 20,
   "metadata": {},
   "outputs": [],
   "source": [
    "# TODO: Enter code here to vectorize the data\n",
    "from sklearn.feature_extraction.text import TfidfVectorizer\n",
    "from nltk.stem import WordNetLemmatizer \n",
    "\n",
    "# class LemmaTokenizer(object):\n",
    "#     def __init__(self):\n",
    "#         self.wnl = WordNetLemmatizer()\n",
    "#     def __call__(self, articles):\n",
    "#         return [self.wnl.lemmatize(t) for t in word_tokenize(articles)]\n",
    "\n",
    "vectorizer = TfidfVectorizer(stop_words='english')\n",
    "                              #,tokenizer=LemmaTokenizer())\n",
    "\n",
    "reviews = vectorizer.fit_transform(df['text'])\n"
   ]
  },
  {
   "cell_type": "markdown",
   "metadata": {},
   "source": [
    "Test your vectorization by running the following code cell:"
   ]
  },
  {
   "cell_type": "code",
   "execution_count": 21,
   "metadata": {},
   "outputs": [
    {
     "data": {
      "text/plain": [
       "(11914, 46619)"
      ]
     },
     "execution_count": 21,
     "metadata": {},
     "output_type": "execute_result"
    }
   ],
   "source": [
    "reviews.shape"
   ]
  },
  {
   "cell_type": "markdown",
   "metadata": {},
   "source": [
    "If you used the English stop word list from scikit-learn, then the resulting vocabulary should have 46,619 entries."
   ]
  },
  {
   "cell_type": "markdown",
   "metadata": {},
   "source": [
    "Next, cluster the vectorized data. Before doing so, you should read the documentation of the [KMeans](https://scikit-learn.org/stable/modules/generated/sklearn.cluster.KMeans.html) class, which is scikit-learn&rsquo;s implementation of the $k$-means algorithm. As you can see, this class has several parameters that you can tweak. For now, the only parameter that you will have to set is the number of clusters. We recommend that you choose $k=3$.\n",
    "\n",
    "**Tip:** Training $k$-means models will take some time. To speed things up, you can use the `n_init` parameter to control the number of times that the clustering is re-computed with different initial values. The default value for this parameter is 10; here and in the rest of this lab, you may want to set this to a lower value."
   ]
  },
  {
   "cell_type": "code",
   "execution_count": 22,
   "metadata": {},
   "outputs": [],
   "source": [
    "# TODO: Enter code here to cluster the vectorized data\n",
    "from sklearn.cluster import KMeans\n",
    "\n",
    "kmeans = KMeans(n_clusters=3, n_init=2,random_state=13).fit(reviews)"
   ]
  },
  {
   "cell_type": "markdown",
   "metadata": {},
   "source": [
    "To sanity-check your clustering, create a bar plot with the number of documents per cluster."
   ]
  },
  {
   "cell_type": "code",
   "execution_count": 23,
   "metadata": {},
   "outputs": [
    {
     "data": {
      "image/png": "[encoded data removed]",
      "text/plain": [
       "<Figure size 432x288 with 1 Axes>"
      ]
     },
     "metadata": {},
     "output_type": "display_data"
    }
   ],
   "source": [
    "# TODO: Enter code here to produce a bar plot of the cluster size\n",
    "import matplotlib.pyplot as plt\n",
    "\n",
    "plt.style.use('dark_background')\n",
    "pd.Series(kmeans.labels_).value_counts().plot(kind='bar',color='cornflowerblue')\n",
    "plt.title('Bar plot k=3')\n",
    "plt.show()"
   ]
  },
  {
   "cell_type": "markdown",
   "metadata": {},
   "source": [
    "Note that sizes may vary considerable between clusters and among different random seeds."
   ]
  },
  {
   "cell_type": "markdown",
   "metadata": {},
   "source": [
    "## Problem 2: Summarize clusters"
   ]
  },
  {
   "cell_type": "markdown",
   "metadata": {},
   "source": [
    "Once you have a clustering, you can try to see whether it is meaningful. One useful technique in that context is to generate a **summary** for each cluster by extracting the $n$ highest-weighted terms from the centroid of each cluster. Your next task is to implement this approach.\n",
    "\n",
    "**Hint:** You will need to construct an &lsquo;inverted vocabulary&rsquo; that allows you to map from the index of a term back to the original term."
   ]
  },
  {
   "cell_type": "code",
   "execution_count": 36,
   "metadata": {},
   "outputs": [
    {
     "name": "stdout",
     "output_type": "stream",
     "text": [
      "(3, 46619)\n"
     ]
    },
    {
     "data": {
      "text/plain": [
       "[array([ 2193, 24390, 27522,  5695]),\n",
       " array([ 6980, 31125, 24143,  6890]),\n",
       " array([12823, 38539, 44007, 32505])]"
      ]
     },
     "execution_count": 36,
     "metadata": {},
     "output_type": "execute_result"
    }
   ],
   "source": [
    "# TODO: Enter code here to compute the cluster summaries and print them\n",
    "import numpy as np\n",
    "from sklearn import preprocessing\n",
    "\n",
    "le = preprocessing.LabelEncoder()\n",
    "labels_true = le.fit_transform(df['category'])\n",
    "\n",
    "n=4\n",
    "\n",
    "print(kmeans.cluster_centers_.shape)\n",
    "cluster_centers = kmeans.cluster_centers_\n",
    "\n",
    "c= []\n",
    "\n",
    "for cluster in kmeans.cluster_centers_:\n",
    "    ind = np.argpartition(cluster, -n)[-n:]\n",
    "    c.append(ind)\n",
    "    #c.append(cluster[cluster.argsort()[-n:]])\n",
    "c"
   ]
  },
  {
   "cell_type": "code",
   "execution_count": 37,
   "metadata": {},
   "outputs": [
    {
     "name": "stdout",
     "output_type": "stream",
     "text": [
      "[[3.05042594e-04 5.28391140e-04 0.00000000e+00 ... 4.45502443e-05\n",
      "  3.44213882e-05 2.35197077e-05]\n",
      " [2.07289830e-03 9.97789218e-04 0.00000000e+00 ... 0.00000000e+00\n",
      "  0.00000000e+00 0.00000000e+00]\n",
      " [1.42649530e-03 8.37028586e-04 5.37167764e-05 ... 0.00000000e+00\n",
      "  0.00000000e+00 0.00000000e+00]]\n"
     ]
    }
   ],
   "source": [
    "res = kmeans.__dict__\n",
    "\n",
    "print(res['cluster_centers_'])"
   ]
  },
  {
   "cell_type": "markdown",
   "metadata": {},
   "source": [
    "Once you have computed the cluster summaries, discuss their quality. Is it clear what the reviews in a given cluster are about? Which clusters are clearest? Which are less clear? Do the cluster summaries contain any unexpected terms? What happens if you re-cluster with, say, $k=6$?"
   ]
  },
  {
   "cell_type": "markdown",
   "metadata": {},
   "source": [
    "*TODO: Insert your analysis of the clusters here*"
   ]
  },
  {
   "cell_type": "markdown",
   "metadata": {},
   "source": [
    "## Problem 3: Tune the k-means algorithm"
   ]
  },
  {
   "cell_type": "markdown",
   "metadata": {},
   "source": [
    "A major limitation of the $k$-means algorithm is that one has to manually set the value for $k$, the number of clusters. One heuristic that can help you with this is the [Elbow method](https://en.wikipedia.org/wiki/Elbow_method_(clustering)). Your next task is to implement this method to see whether it allows you to find a better value for $k$.\n",
    "\n",
    "To follow the elbow method, you should plot different values of $k$ against the **inertia** (sums of squared distances between documents and closest centroids) of the fitted $k$-means model, and pick the $k$ at the &lsquo;elbow point&rsquo; of the resulting graph. Test cluster sizes between 1 and 9.\n",
    "\n",
    "**Note that this will take a while.**"
   ]
  },
  {
   "cell_type": "code",
   "execution_count": 38,
   "metadata": {},
   "outputs": [
    {
     "name": "stdout",
     "output_type": "stream",
     "text": [
      "iteration:1,n_clusters:1\n",
      "iteration:2,n_clusters:2\n",
      "iteration:3,n_clusters:3\n",
      "iteration:4,n_clusters:4\n",
      "iteration:5,n_clusters:5\n",
      "iteration:6,n_clusters:6\n",
      "iteration:7,n_clusters:7\n",
      "iteration:8,n_clusters:8\n",
      "iteration:9,n_clusters:9\n",
      "Time to execute for loop : 00:03:42\n"
     ]
    },
    {
     "data": {
      "text/plain": [
       "[11764.202585909867,\n",
       " 11712.715826404263,\n",
       " 11655.90941716431,\n",
       " 11616.53569806913,\n",
       " 11584.608555614535,\n",
       " 11552.701543867817,\n",
       " 11532.56222839533,\n",
       " 11496.555571793015,\n",
       " 11479.845659218136]"
      ]
     },
     "execution_count": 38,
     "metadata": {},
     "output_type": "execute_result"
    }
   ],
   "source": [
    "# TODO: Enter code here to generate the plot for the elbow method\n",
    "from sklearn import metrics\n",
    "import time\n",
    "\n",
    "\n",
    "distorsions = []\n",
    "\n",
    "start_time= time.time()\n",
    "n_clusters = range(1,10)\n",
    "\n",
    "for i,k in enumerate(n_clusters):\n",
    "    print('iteration:{0},n_clusters:{1}'.format((i+1),k))\n",
    "    kmeans = KMeans(n_clusters=k,n_init=2,random_state=13)\n",
    "    kmeans.fit(reviews)\n",
    "    inertia = kmeans.inertia_\n",
    "    distorsions.append(inertia)\n",
    "    \n",
    "end_time = time.time()-start_time\n",
    "measured_time = time.strftime(\"%H:%M:%S\", time.gmtime(end_time))\n",
    "print('Time to execute for loop :' ,measured_time)\n",
    "\n",
    "distorsions"
   ]
  },
  {
   "cell_type": "code",
   "execution_count": 40,
   "metadata": {},
   "outputs": [
    {
     "data": {
      "text/plain": [
       "Text(0.5, 1.0, 'Elbow curve plot')"
      ]
     },
     "execution_count": 40,
     "metadata": {},
     "output_type": "execute_result"
    },
    {
     "data": {
      "image/png": "[encoded data removed]",
      "text/plain": [
       "<Figure size 1080x360 with 1 Axes>"
      ]
     },
     "metadata": {},
     "output_type": "display_data"
    }
   ],
   "source": [
    "# plot the elbow    \n",
    "fig = plt.figure(figsize=(15, 5))\n",
    "plt.plot(n_clusters,distorsions,marker='o')\n",
    "plt.grid(True)\n",
    "plt.title('Elbow curve plot')"
   ]
  },
  {
   "cell_type": "markdown",
   "metadata": {},
   "source": [
    "Once you have the diagram, can you see a pronounced &lsquo;elbow point&rsquo;? Discuss your findings in a short text."
   ]
  },
  {
   "cell_type": "markdown",
   "metadata": {},
   "source": [
    "*TODO: Insert your discussion of the elbow method here*"
   ]
  },
  {
   "cell_type": "markdown",
   "metadata": {},
   "source": [
    "## Problem 4: Compare clusterings using the Rand index"
   ]
  },
  {
   "cell_type": "markdown",
   "metadata": {},
   "source": [
    "In some scenarios, you may have gold-standard class labels available for at least a subset of your documents. In these cases you can compute the **Rand index** of a clustering, and use this measure to compare the quality of different clusterings.\n",
    "\n",
    "To compute the Rand index, we view a clustering as a binary classifier on pairs of documents. The classifier predicts &lsquo;positive&rsquo; if and only if the two documents belong to the same cluster. The (non-normalized) Rand index of the clustering is the accuracy of this classifier relative to a reference in which a document pair belongs to the &lsquo;positive&rsquo; class if and only if the two documents in the pair have the same gold-standard class label.\n",
    "\n",
    "Compare a clustering with $k=3$ clusters to a second clustering with $k=6$ clusters. As your evaluation data, use the first 500 documents from the original data set along with their gold-standard categories (from the `category` column). What do you observe? How do you interpret your observations? What arguments can you find against the Rand index as a measure for comparing clusterings?"
   ]
  },
  {
   "cell_type": "code",
   "execution_count": 41,
   "metadata": {},
   "outputs": [],
   "source": [
    "# TODO: Enter code here to compute the Rand indices for the two clusterings\n",
    "from sklearn.metrics import adjusted_rand_score\n",
    "from sklearn import preprocessing\n",
    "\n",
    "le = preprocessing.LabelEncoder()\n",
    "labels_true = le.fit_transform(df['category'])\n"
   ]
  },
  {
   "cell_type": "code",
   "execution_count": 42,
   "metadata": {},
   "outputs": [],
   "source": [
    "clusters = [3,6]\n",
    "rnd_index = []\n",
    "\n",
    "for i in clusters :\n",
    "    kmeans_ = KMeans(n_clusters=i,n_init=2,random_state=13).fit(reviews)\n",
    "    labels_pred = le.inverse_transform(kmeans_.predict(reviews))\n",
    "    rnd_ind = adjusted_rand_score(df['category'], labels_pred)\n",
    "    rnd_index.append(rnd_ind)\n"
   ]
  },
  {
   "cell_type": "code",
   "execution_count": 43,
   "metadata": {},
   "outputs": [
    {
     "data": {
      "text/plain": [
       "[0.30541288952688855, 0.32286340837152966]"
      ]
     },
     "execution_count": 43,
     "metadata": {},
     "output_type": "execute_result"
    }
   ],
   "source": [
    "rnd_index"
   ]
  },
  {
   "cell_type": "markdown",
   "metadata": {},
   "source": [
    "*TODO: Insert your discussion of your results here*"
   ]
  },
  {
   "cell_type": "markdown",
   "metadata": {},
   "source": [
    "## Topic modelling data set"
   ]
  },
  {
   "cell_type": "markdown",
   "metadata": {},
   "source": [
    "The data set for the topic modelling part of this lab is the collection of all [State of the Union](https://en.wikipedia.org/wiki/State_of_the_Union) addresses from the years 1975–2000. These speeches come as a single text file with one sentence per line. The following code cell prints the first 5 lines from the data file:"
   ]
  },
  {
   "cell_type": "code",
   "execution_count": 1,
   "metadata": {},
   "outputs": [
    {
     "name": "stdout",
     "output_type": "stream",
     "text": [
      "mr speaker mr vice president members of the 94th congress and distinguished guests\n",
      "twenty six years ago a freshman congressman a young fellow with lots of idealism who was out to change the world stood before sam rayburn in the well of the house and solemnly swore to the same oath that all of you took yesterday an unforgettable experience and i congratulate you all\n",
      "two days later that same freshman stood at the back of this great chamber over there someplace as president truman all charged up by his single handed election victory reported as the constitution requires on the state of the union\n",
      "when the bipartisan applause stopped president truman said i am happy to report to this 81st congress that the state of the union is good our nation is better able than ever before to meet the needs of the american people and to give them their fair chance in the pursuit of happiness it is foremost among the nations of the world in the search for peace\n",
      "today that freshman member from michigan stands where mr truman stood and i must say to you that the state of the union is not good\n",
      "millions of americans are out of work\n"
     ]
    }
   ],
   "source": [
    "with open(\"sotu_1975_2000.txt\") as source:\n",
    "    for i, line in enumerate(source):\n",
    "        print(line.rstrip())\n",
    "        if i >= 5:\n",
    "            break"
   ]
  },
  {
   "cell_type": "markdown",
   "metadata": {},
   "source": [
    "## Problem 5: Train a topic model"
   ]
  },
  {
   "cell_type": "markdown",
   "metadata": {},
   "source": [
    "Your first task on the topic modelling data is to train an LDA model. For this task you will be using [spaCy](https://spacy.io/) and the [gensim](https://radimrehurek.com/gensim/) topic modelling library.\n",
    "\n",
    "Start by preprocessing the data using spaCy. Given that the data set for this problem is rather small, you do not have to exclude any components from the standard pipeline. Filter out stop words, non-alphabetic tokens, and tokens less than 3 characters in length. Store the documents as a nested list where the first level of nesting corresponds to the sentences and the second level corresponds to the tokens in each sentence."
   ]
  },
  {
   "cell_type": "code",
   "execution_count": 2,
   "metadata": {},
   "outputs": [],
   "source": [
    "# TODO: Replace the following lines with your own code for preprocessing the documents\n",
    "with open(\"sotu_1975_2000.txt\") as source:\n",
    "    documents = [line.split() for line in source]"
   ]
  },
  {
   "cell_type": "code",
   "execution_count": 3,
   "metadata": {},
   "outputs": [
    {
     "data": {
      "text/plain": [
       "['first',\n",
       " 'we',\n",
       " 'must',\n",
       " 'reduce',\n",
       " 'oil',\n",
       " 'imports',\n",
       " 'by',\n",
       " '1',\n",
       " 'million',\n",
       " 'barrels',\n",
       " 'per',\n",
       " 'day',\n",
       " 'by',\n",
       " 'the',\n",
       " 'end',\n",
       " 'of',\n",
       " 'this',\n",
       " 'year',\n",
       " 'and',\n",
       " 'by',\n",
       " '2',\n",
       " 'million',\n",
       " 'barrels',\n",
       " 'per',\n",
       " 'day',\n",
       " 'by',\n",
       " 'the',\n",
       " 'end',\n",
       " 'of',\n",
       " '1977']"
      ]
     },
     "execution_count": 3,
     "metadata": {},
     "output_type": "execute_result"
    }
   ],
   "source": [
    "documents[42]"
   ]
  },
  {
   "cell_type": "code",
   "execution_count": 4,
   "metadata": {},
   "outputs": [],
   "source": [
    "import spacy #load spacy\n",
    "from spacy.lang.en.stop_words import STOP_WORDS\n",
    "\n",
    "\n",
    "nlp = spacy.load(\"en\", disable=['parser', 'tagger', 'ner'])\n",
    "\n",
    "def preprocess(text):\n",
    "    # TODO: Replace the next line with your own code.\n",
    "    filtered_sentence =[] \n",
    "    \n",
    "    for sentence in text :\n",
    "        words = []\n",
    "        for word in sentence:\n",
    "            lexeme = nlp.vocab[word]\n",
    "            if not lexeme.is_stop and not lexeme.is_punct and lexeme.is_alpha and len(word)>=3:\n",
    "                words.append(word)\n",
    "        filtered_sentence.append(words)\n",
    "  \n",
    "    return filtered_sentence\n",
    "\n",
    "sentence = preprocess(documents)"
   ]
  },
  {
   "cell_type": "markdown",
   "metadata": {},
   "source": [
    "Test your preprocessing by running the following cell:"
   ]
  },
  {
   "cell_type": "code",
   "execution_count": 5,
   "metadata": {},
   "outputs": [
    {
     "data": {
      "text/plain": [
       "'reduce oil imports million barrels day end year million barrels day end'"
      ]
     },
     "execution_count": 5,
     "metadata": {},
     "output_type": "execute_result"
    }
   ],
   "source": [
    "\" \".join(preprocess(documents)[42])"
   ]
  },
  {
   "cell_type": "markdown",
   "metadata": {},
   "source": [
    "You should get the following output:"
   ]
  },
  {
   "cell_type": "raw",
   "metadata": {},
   "source": [
    "'reduce oil imports million barrels day end year million barrels day end'"
   ]
  },
  {
   "cell_type": "markdown",
   "metadata": {},
   "source": [
    "Once you have the list of documents, skim the section [Pre-process and vectorize the documents](https://radimrehurek.com/gensim/auto_examples/tutorials/run_lda.html#pre-process-and-vectorize-the-documents) of the gensim documentation to learn how to create the dictionary and the vectorized corpus representation required by gensim. (Note that you cannot use the standard scikit-learn pipeline in this case.) Then, write code to train an [LdaModel](https://radimrehurek.com/gensim/models/ldamodel.html) for $k=10$ topics, and using default values for all other parameters."
   ]
  },
  {
   "cell_type": "code",
   "execution_count": 6,
   "metadata": {},
   "outputs": [
    {
     "data": {
      "text/plain": [
       "[[('congress', 1),\n",
       "  ('distinguished', 1),\n",
       "  ('guests', 1),\n",
       "  ('members', 1),\n",
       "  ('president', 1),\n",
       "  ('speaker', 1),\n",
       "  ('vice', 1)]]"
      ]
     },
     "execution_count": 6,
     "metadata": {},
     "output_type": "execute_result"
    }
   ],
   "source": [
    "# TODO: Enter code here to train an LDA model\n",
    "\n",
    "from gensim.corpora.dictionary import Dictionary\n",
    "from gensim.models import LdaModel\n",
    "\n",
    "\n",
    "\n",
    "# Create Dictionary\n",
    "id2word = Dictionary(sentence)\n",
    "\n",
    "# Create Corpus\n",
    "texts = sentence\n",
    "\n",
    "# Term Document Frequency\n",
    "corpus = [id2word.doc2bow(text) for text in texts]\n",
    "\n",
    "\n",
    "[[(id2word[id], freq) for id, freq in cp] for cp in corpus[:1]]\n",
    "\n",
    "# # Create a corpus from a list of texts\n",
    "# common_dictionary = Dictionary(sentence)\n",
    "# common_corpus = [common_dictionary.doc2bow(text) for text in sentence]\n",
    "\n",
    "# # Train the model on the corpus.\n"
   ]
  },
  {
   "cell_type": "code",
   "execution_count": 7,
   "metadata": {},
   "outputs": [],
   "source": [
    "\n",
    "# Set training parameters.\n",
    "num_topics = 10\n",
    "chunksize = 2000\n",
    "passes = 20\n",
    "iterations = 400\n",
    "eval_every = None  # Don't evaluate model perplexity, takes too much time.\n",
    "\n",
    "# temp = common_dictionary[0]  # This is only to \"load\" the dictionary.\n",
    "# id2word = common_dictionary.id2token\n",
    "\n",
    "model = LdaModel(\n",
    "    corpus=corpus,\n",
    "    id2word=id2word,\n",
    "    chunksize=chunksize,\n",
    "    alpha='auto',\n",
    "    eta='auto',\n",
    "    iterations=iterations,\n",
    "    num_topics=num_topics,\n",
    "    passes=passes,\n",
    "    eval_every=eval_every\n",
    ")"
   ]
  },
  {
   "cell_type": "markdown",
   "metadata": {},
   "source": [
    "Once you have a trained model, run the following cell to print the topics:"
   ]
  },
  {
   "cell_type": "code",
   "execution_count": 8,
   "metadata": {},
   "outputs": [
    {
     "name": "stdout",
     "output_type": "stream",
     "text": [
      "[([(0.01627186, 'work'),\n",
      "   (0.016071653, 'children'),\n",
      "   (0.015726643, 'people'),\n",
      "   (0.015110466, 'health'),\n",
      "   (0.015063163, 'care'),\n",
      "   (0.012052541, 'families'),\n",
      "   (0.011983758, 'year'),\n",
      "   (0.0110311685, 'welfare'),\n",
      "   (0.009715922, 'child'),\n",
      "   (0.009706872, 'tax'),\n",
      "   (0.009533726, 'congress'),\n",
      "   (0.00949035, 'know'),\n",
      "   (0.009385507, 'americans'),\n",
      "   (0.009349361, 'let'),\n",
      "   (0.008229549, 'need'),\n",
      "   (0.007654895, 'reform'),\n",
      "   (0.007603603, 'family'),\n",
      "   (0.007325194, 'support'),\n",
      "   (0.0071759424, 'working'),\n",
      "   (0.00712218, 'help')],\n",
      "  -2.211320778629595),\n",
      " ([(0.018797694, 'years'),\n",
      "   (0.013113171, 'year'),\n",
      "   (0.009510868, 'education'),\n",
      "   (0.009216005, 'percent'),\n",
      "   (0.008645824, 'new'),\n",
      "   (0.007828674, 'federal'),\n",
      "   (0.007808919, 'inflation'),\n",
      "   (0.0075438656, 'congress'),\n",
      "   (0.007398301, 'budget'),\n",
      "   (0.0069159693, 'high'),\n",
      "   (0.006442442, 'million'),\n",
      "   (0.0063938745, 'college'),\n",
      "   (0.0062923185, 'government'),\n",
      "   (0.006164176, 'economic'),\n",
      "   (0.005767091, 'rate'),\n",
      "   (0.00565285, 'program'),\n",
      "   (0.005405273, 'national'),\n",
      "   (0.0053583113, 'billion'),\n",
      "   (0.0048763235, 'american'),\n",
      "   (0.0048497166, 'help')],\n",
      "  -2.342662947776709),\n",
      " ([(0.027555846, 'america'),\n",
      "   (0.024053322, 'world'),\n",
      "   (0.013889871, 'people'),\n",
      "   (0.011783691, 'peace'),\n",
      "   (0.011700515, 'nation'),\n",
      "   (0.010936157, 'american'),\n",
      "   (0.009556182, 'new'),\n",
      "   (0.009168934, 'century'),\n",
      "   (0.008326714, 'americans'),\n",
      "   (0.008277047, 'freedom'),\n",
      "   (0.008134776, 'tonight'),\n",
      "   (0.007944782, 'years'),\n",
      "   (0.007553223, 'future'),\n",
      "   (0.0074779275, 'union'),\n",
      "   (0.0060132123, 'time'),\n",
      "   (0.005477773, 'great'),\n",
      "   (0.005348681, 'state'),\n",
      "   (0.0052961404, 'common'),\n",
      "   (0.005217665, 'war'),\n",
      "   (0.0052012606, 'work')],\n",
      "  -2.4434646013095613),\n",
      " ([(0.0113347005, 'trade'),\n",
      "   (0.010234795, 'new'),\n",
      "   (0.009992368, 'energy'),\n",
      "   (0.008807682, 'economic'),\n",
      "   (0.007988391, 'policy'),\n",
      "   (0.0064423303, 'foreign'),\n",
      "   (0.0062461896, 'world'),\n",
      "   (0.00606205, 'congress'),\n",
      "   (0.005874115, 'major'),\n",
      "   (0.0058360617, 'growth'),\n",
      "   (0.0058310074, 'administration'),\n",
      "   (0.005734543, 'united'),\n",
      "   (0.0053602885, 'international'),\n",
      "   (0.005336642, 'states'),\n",
      "   (0.005157115, 'countries'),\n",
      "   (0.0051191235, 'oil'),\n",
      "   (0.0050643873, 'china'),\n",
      "   (0.005014276, 'government'),\n",
      "   (0.0047036456, 'continue'),\n",
      "   (0.0043402966, 'nations')],\n",
      "  -2.7951277046802403),\n",
      " ([(0.015660763, 'crime'),\n",
      "   (0.011520887, 'community'),\n",
      "   (0.0104223285, 'congress'),\n",
      "   (0.009863788, 'people'),\n",
      "   (0.009315548, 'president'),\n",
      "   (0.0088458005, 'responsibility'),\n",
      "   (0.008353957, 'house'),\n",
      "   (0.007779321, 'children'),\n",
      "   (0.0077551645, 'drugs'),\n",
      "   (0.007413897, 'new'),\n",
      "   (0.0073616575, 'americans'),\n",
      "   (0.0065349136, 'need'),\n",
      "   (0.006446874, 'speaker'),\n",
      "   (0.0063276985, 'work'),\n",
      "   (0.005808656, 'drug'),\n",
      "   (0.0053041577, 'country'),\n",
      "   (0.0051528215, 'let'),\n",
      "   (0.0050548404, 'communities'),\n",
      "   (0.0048939944, 'government'),\n",
      "   (0.004845894, 'american')],\n",
      "  -3.5252772634263634),\n",
      " ([(0.018766155, 'new'),\n",
      "   (0.016663505, 'government'),\n",
      "   (0.011336923, 'schools'),\n",
      "   (0.010598716, 'people'),\n",
      "   (0.0078722015, 'school'),\n",
      "   (0.007245935, 'today'),\n",
      "   (0.007055865, 'cuts'),\n",
      "   (0.006655908, 'tax'),\n",
      "   (0.0065347287, 'help'),\n",
      "   (0.006446391, 'time'),\n",
      "   (0.0063950224, 'way'),\n",
      "   (0.006369355, 'america'),\n",
      "   (0.0061838543, 'economy'),\n",
      "   (0.005967849, 'teachers'),\n",
      "   (0.0058314344, 'class'),\n",
      "   (0.005167475, 'tonight'),\n",
      "   (0.005135274, 'invest'),\n",
      "   (0.0050650486, 'education'),\n",
      "   (0.0050184494, 'best'),\n",
      "   (0.0048123505, 'medicare')],\n",
      "  -4.202368138824947),\n",
      " ([(0.014421686, 'year'),\n",
      "   (0.010404686, 'congress'),\n",
      "   (0.00884776, 'defense'),\n",
      "   (0.007644037, 'budget'),\n",
      "   (0.006402556, 'work'),\n",
      "   (0.005651315, 'new'),\n",
      "   (0.0054584644, 'military'),\n",
      "   (0.0054236148, 'spending'),\n",
      "   (0.0052830256, 'security'),\n",
      "   (0.005176093, 'programs'),\n",
      "   (0.0051109837, 'days'),\n",
      "   (0.0049139643, 'environment'),\n",
      "   (0.004896308, 'best'),\n",
      "   (0.0047762813, 'minimum'),\n",
      "   (0.004568677, 'support'),\n",
      "   (0.004536191, 'wage'),\n",
      "   (0.0041394345, 'american'),\n",
      "   (0.003978098, 'end'),\n",
      "   (0.0039591067, 'national'),\n",
      "   (0.0036634416, 'years')],\n",
      "  -4.376100057259721),\n",
      " ([(0.018689211, 'security'),\n",
      "   (0.01818587, 'social'),\n",
      "   (0.011315827, 'america'),\n",
      "   (0.006890547, 'save'),\n",
      "   (0.006732222, 'ask'),\n",
      "   (0.0064606336, 'help'),\n",
      "   (0.00542115, 'propose'),\n",
      "   (0.0051039825, 'surplus'),\n",
      "   (0.0048049768, 'government'),\n",
      "   (0.004574779, 'know'),\n",
      "   (0.0045335535, 'fund'),\n",
      "   (0.0045210626, 'good'),\n",
      "   (0.0044898395, 'hand'),\n",
      "   (0.0039580073, 'budget'),\n",
      "   (0.0037599518, 'largest'),\n",
      "   (0.0037528058, 'increase'),\n",
      "   (0.0037463373, 'years'),\n",
      "   (0.0037397377, 'bosnia'),\n",
      "   (0.0035696295, 'century'),\n",
      "   (0.0032379474, 'use')],\n",
      "  -5.664547207517203),\n",
      " ([(0.03316495, 'nuclear'),\n",
      "   (0.014662729, 'east'),\n",
      "   (0.01225511, 'arms'),\n",
      "   (0.011753948, 'weapons'),\n",
      "   (0.011596794, 'middle'),\n",
      "   (0.01133426, 'soviet'),\n",
      "   (0.010604345, 'strategic'),\n",
      "   (0.009983501, 'space'),\n",
      "   (0.008702284, 'states'),\n",
      "   (0.008492658, 'peace'),\n",
      "   (0.007836248, 'treaty'),\n",
      "   (0.007320088, 'forces'),\n",
      "   (0.006621705, 'agreement'),\n",
      "   (0.006238911, 'security'),\n",
      "   (0.005524806, 'united'),\n",
      "   (0.005517698, 'continue'),\n",
      "   (0.0053309733, 'israel'),\n",
      "   (0.0052742325, 'russia'),\n",
      "   (0.005048598, 'europe'),\n",
      "   (0.004886926, 'ban')],\n",
      "  -5.9947738123462),\n",
      " ([(0.010787744, 'thank'),\n",
      "   (0.010119345, 'god'),\n",
      "   (0.009896297, 'country'),\n",
      "   (0.009616534, 'america'),\n",
      "   (0.007918686, 'world'),\n",
      "   (0.007079932, 'bless'),\n",
      "   (0.006958931, 'immigrants'),\n",
      "   (0.0068004825, 'states'),\n",
      "   (0.0067139366, 'united'),\n",
      "   (0.006439759, 'time'),\n",
      "   (0.006161777, 'years'),\n",
      "   (0.006113163, 'nation'),\n",
      "   (0.0056028767, 'grade'),\n",
      "   (0.0049148044, 'idea'),\n",
      "   (0.0047960766, 'ago'),\n",
      "   (0.004579918, 'people'),\n",
      "   (0.0044530705, 'today'),\n",
      "   (0.0043659722, 'ready'),\n",
      "   (0.004338953, 'big'),\n",
      "   (0.0040120673, 'stand')],\n",
      "  -6.622232492128782)]\n"
     ]
    }
   ],
   "source": [
    "top_topics = model.top_topics(corpus)\n",
    "\n",
    "from pprint import pprint\n",
    "pprint(top_topics)"
   ]
  },
  {
   "cell_type": "markdown",
   "metadata": {},
   "source": [
    "Inspect the topics. Do they make sense? Can you &lsquo;label&rsquo; each topic with a short description of what it is about? Do the topics contain any unexpected terms? Summarize your discussion in a short text."
   ]
  },
  {
   "cell_type": "markdown",
   "metadata": {},
   "source": [
    "*TODO: Insert your discussion of the topics here*"
   ]
  },
  {
   "cell_type": "markdown",
   "metadata": {},
   "source": [
    "## Problem 6: Monitoring a topic model for convergence"
   ]
  },
  {
   "cell_type": "markdown",
   "metadata": {},
   "source": [
    "When learning an LDA model, it is important to make sure that the training algorithm has converged to a stable posterior distribution. One way to do so is to plot, after each training epochs(or &lsquo;pass&rsquo;, in gensim parlance) the log likelihood of the training data under the posterior. Your last task in this lab is to create such a plot and, based on this, to suggest an appropriate number of epochs.\n",
    "\n",
    "To collect information about the posterior likelihood after each pass, we need to enable the logging facilities of gensim. Once this is done, gensim will add various diagnostics to a log file `gensim.log`."
   ]
  },
  {
   "cell_type": "code",
   "execution_count": 9,
   "metadata": {},
   "outputs": [],
   "source": [
    "import logging\n",
    "\n",
    "logging.basicConfig(filename=\"gensim.log\", format=\"%(asctime)s:%(levelname)s:%(message)s\", level=logging.INFO)"
   ]
  },
  {
   "cell_type": "markdown",
   "metadata": {},
   "source": [
    "The following function will parse the generated logfile and return the list of log likelihoods."
   ]
  },
  {
   "cell_type": "code",
   "execution_count": 10,
   "metadata": {},
   "outputs": [],
   "source": [
    "import re\n",
    "\n",
    "def parse_logfile():\n",
    "    matcher = re.compile(\"(-*\\d+\\.\\d+) per-word .* (\\d+\\.\\d+) perplexity\")\n",
    "    likelihoods = []\n",
    "    with open(\"gensim.log\") as source:\n",
    "        for line in source:\n",
    "            match = matcher.search(line)\n",
    "            if match:\n",
    "                likelihoods.append(float(match.group(1)))\n",
    "    return likelihoods"
   ]
  },
  {
   "cell_type": "markdown",
   "metadata": {},
   "source": [
    "Your task now is to re-train your LDA model for 50&nbsp;passes, retrieve the list of log likelihoods, and create a plot from this data."
   ]
  },
  {
   "cell_type": "code",
   "execution_count": 11,
   "metadata": {},
   "outputs": [],
   "source": [
    "# TODO: Enter code here to generate the convergence plot\n",
    "# Set training parameters.\n",
    "num_topics = 10\n",
    "passes = 50\n",
    "iterations = 400\n",
    "\n",
    "model_v2 = LdaModel(\n",
    "    corpus=corpus,\n",
    "    id2word=id2word,\n",
    "    alpha='auto',\n",
    "    eta='auto',\n",
    "    iterations=iterations,\n",
    "    num_topics=num_topics,\n",
    "    passes=passes)\n"
   ]
  },
  {
   "cell_type": "code",
   "execution_count": 12,
   "metadata": {},
   "outputs": [
    {
     "data": {
      "text/plain": [
       "[-9.548,\n",
       " -8.93,\n",
       " -8.608,\n",
       " -8.321,\n",
       " -8.18,\n",
       " -8.127,\n",
       " -8.104,\n",
       " -8.09,\n",
       " -8.08,\n",
       " -8.071,\n",
       " -8.065,\n",
       " -8.058,\n",
       " -8.053,\n",
       " -8.048,\n",
       " -8.044,\n",
       " -8.04,\n",
       " -8.036,\n",
       " -8.033,\n",
       " -8.031,\n",
       " -8.028,\n",
       " -8.026,\n",
       " -8.024,\n",
       " -8.022,\n",
       " -8.02,\n",
       " -8.018,\n",
       " -8.017,\n",
       " -8.015,\n",
       " -8.014,\n",
       " -8.012,\n",
       " -8.011,\n",
       " -8.01,\n",
       " -8.009,\n",
       " -8.008,\n",
       " -8.007,\n",
       " -8.006,\n",
       " -8.005,\n",
       " -8.004,\n",
       " -8.003,\n",
       " -8.002,\n",
       " -8.002,\n",
       " -8.001,\n",
       " -8.0,\n",
       " -8.0,\n",
       " -7.999,\n",
       " -7.999,\n",
       " -7.998,\n",
       " -7.998,\n",
       " -7.997,\n",
       " -7.997,\n",
       " -7.996]"
      ]
     },
     "execution_count": 12,
     "metadata": {},
     "output_type": "execute_result"
    }
   ],
   "source": [
    "loglikes = parse_logfile()\n",
    "loglikes"
   ]
  },
  {
   "cell_type": "code",
   "execution_count": 24,
   "metadata": {},
   "outputs": [
    {
     "data": {
      "text/plain": [
       "<matplotlib.axes._subplots.AxesSubplot at 0x7f66f6f25cd0>"
      ]
     },
     "execution_count": 24,
     "metadata": {},
     "output_type": "execute_result"
    },
    {
     "data": {
      "image/png": "[encoded data removed]",
      "text/plain": [
       "<Figure size 1080x360 with 1 Axes>"
      ]
     },
     "metadata": {},
     "output_type": "display_data"
    }
   ],
   "source": [
    "import pandas as pd\n",
    "\n",
    "# plot the loglikehihoods\n",
    "# plot the elbow    \n",
    "fig = plt.figure(figsize=(15, 5))\n",
    "pd.Series(loglikes).plot(title='Plot of the Loglikelihoods')\n"
   ]
  },
  {
   "cell_type": "code",
   "execution_count": 25,
   "metadata": {},
   "outputs": [
    {
     "name": "stderr",
     "output_type": "stream",
     "text": [
      "/home/quartermaine/anaconda3/envs/tensorflow/lib/python3.7/site-packages/pyLDAvis/_prepare.py:257: FutureWarning: Sorting because non-concatenation axis is not aligned. A future version\n",
      "of pandas will change to not sort by default.\n",
      "\n",
      "To accept the future behavior, pass 'sort=False'.\n",
      "\n",
      "To retain the current behavior and silence the warning, pass 'sort=True'.\n",
      "\n",
      "  return pd.concat([default_term_info] + list(topic_dfs))\n"
     ]
    },
    {
     "data": {
      "text/html": [
       "\n",
       "<link rel=\"stylesheet\" type=\"text/css\" href=\"https://cdn.rawgit.com/bmabey/pyLDAvis/files/ldavis.v1.0.0.css\">\n",
       "\n",
       "\n",
       "<div id=\"ldavis_el28843140079878287696675640321\"></div>\n",
       "<script type=\"text/javascript\">\n",
       "\n",
       "var ldavis_el28843140079878287696675640321_data = {\"mdsDat\": {\"x\": [0.09278925216363586, 0.16067891921369543, -0.1009216331138087, -0.17176522571660377, 0.16532487663028794, -0.11911034912983891, -0.13142839115290003, -0.0164002401573489, 0.009260417839640238, 0.11157237342324043], \"y\": [-0.034443268620553906, 0.16213683790838287, 0.21432026136035998, 0.0707916570914163, -0.005823597288990494, -0.16555743377112014, -0.012429600612212814, -0.04569137923328216, -0.10013416978848223, -0.08316930704551684], \"topics\": [1, 2, 3, 4, 5, 6, 7, 8, 9, 10], \"cluster\": [1, 1, 1, 1, 1, 1, 1, 1, 1, 1], \"Freq\": [18.432523727416992, 15.115067481994629, 13.556396484375, 13.085948944091797, 10.75192928314209, 7.548974514007568, 6.217370510101318, 6.009960174560547, 4.704925537109375, 4.576902389526367]}, \"tinfo\": {\"Category\": [\"Default\", \"Default\", \"Default\", \"Default\", \"Default\", \"Default\", \"Default\", \"Default\", \"Default\", \"Default\", \"Default\", \"Default\", \"Default\", \"Default\", \"Default\", \"Default\", \"Default\", \"Default\", \"Default\", \"Default\", \"Default\", \"Default\", \"Default\", \"Default\", \"Default\", \"Default\", \"Default\", \"Default\", \"Default\", \"Default\", \"Topic1\", \"Topic1\", \"Topic1\", \"Topic1\", \"Topic1\", \"Topic1\", \"Topic1\", \"Topic1\", \"Topic1\", \"Topic1\", \"Topic1\", \"Topic1\", \"Topic1\", \"Topic1\", \"Topic1\", \"Topic1\", \"Topic1\", \"Topic1\", \"Topic1\", \"Topic1\", \"Topic1\", \"Topic1\", \"Topic1\", \"Topic1\", \"Topic1\", \"Topic1\", \"Topic1\", \"Topic1\", \"Topic1\", \"Topic1\", \"Topic1\", \"Topic1\", \"Topic1\", \"Topic1\", \"Topic1\", \"Topic1\", \"Topic1\", \"Topic1\", \"Topic1\", \"Topic1\", \"Topic1\", \"Topic1\", \"Topic1\", \"Topic1\", \"Topic1\", \"Topic1\", \"Topic1\", \"Topic1\", \"Topic1\", \"Topic1\", \"Topic1\", \"Topic1\", \"Topic1\", \"Topic1\", \"Topic1\", \"Topic1\", \"Topic1\", \"Topic1\", \"Topic1\", \"Topic1\", \"Topic1\", \"Topic1\", \"Topic1\", \"Topic1\", \"Topic1\", \"Topic1\", \"Topic1\", \"Topic1\", \"Topic1\", \"Topic1\", \"Topic1\", \"Topic1\", \"Topic1\", \"Topic1\", \"Topic2\", \"Topic2\", \"Topic2\", \"Topic2\", \"Topic2\", \"Topic2\", \"Topic2\", \"Topic2\", \"Topic2\", \"Topic2\", \"Topic2\", \"Topic2\", \"Topic2\", \"Topic2\", \"Topic2\", \"Topic2\", \"Topic2\", \"Topic2\", \"Topic2\", \"Topic2\", \"Topic2\", \"Topic2\", \"Topic2\", \"Topic2\", \"Topic2\", \"Topic2\", \"Topic2\", \"Topic2\", \"Topic2\", \"Topic2\", \"Topic2\", \"Topic2\", \"Topic2\", \"Topic2\", \"Topic2\", \"Topic2\", \"Topic2\", \"Topic2\", \"Topic2\", \"Topic2\", \"Topic2\", \"Topic2\", \"Topic2\", \"Topic2\", \"Topic2\", \"Topic2\", \"Topic2\", \"Topic2\", \"Topic2\", \"Topic2\", \"Topic2\", \"Topic2\", \"Topic2\", \"Topic2\", \"Topic2\", \"Topic2\", \"Topic2\", \"Topic2\", \"Topic2\", \"Topic2\", \"Topic2\", \"Topic2\", \"Topic2\", \"Topic2\", \"Topic2\", \"Topic2\", \"Topic2\", \"Topic2\", \"Topic3\", \"Topic3\", \"Topic3\", \"Topic3\", \"Topic3\", \"Topic3\", \"Topic3\", \"Topic3\", \"Topic3\", \"Topic3\", \"Topic3\", \"Topic3\", \"Topic3\", \"Topic3\", \"Topic3\", \"Topic3\", \"Topic3\", \"Topic3\", \"Topic3\", \"Topic3\", \"Topic3\", \"Topic3\", \"Topic3\", \"Topic3\", \"Topic3\", \"Topic3\", \"Topic3\", \"Topic3\", \"Topic3\", \"Topic3\", \"Topic3\", \"Topic3\", \"Topic3\", \"Topic3\", \"Topic3\", \"Topic3\", \"Topic3\", \"Topic3\", \"Topic3\", \"Topic3\", \"Topic3\", \"Topic3\", \"Topic3\", \"Topic3\", \"Topic3\", \"Topic3\", \"Topic3\", \"Topic3\", \"Topic3\", \"Topic3\", \"Topic3\", \"Topic3\", \"Topic3\", \"Topic3\", \"Topic3\", \"Topic3\", \"Topic3\", \"Topic3\", \"Topic3\", \"Topic3\", \"Topic3\", \"Topic3\", \"Topic3\", \"Topic4\", \"Topic4\", \"Topic4\", \"Topic4\", \"Topic4\", \"Topic4\", \"Topic4\", \"Topic4\", \"Topic4\", \"Topic4\", \"Topic4\", \"Topic4\", \"Topic4\", \"Topic4\", \"Topic4\", \"Topic4\", \"Topic4\", \"Topic4\", \"Topic4\", \"Topic4\", \"Topic4\", \"Topic4\", \"Topic4\", \"Topic4\", \"Topic4\", \"Topic4\", \"Topic4\", \"Topic4\", \"Topic4\", \"Topic4\", \"Topic4\", \"Topic4\", \"Topic4\", \"Topic4\", \"Topic4\", \"Topic4\", \"Topic4\", \"Topic4\", \"Topic4\", \"Topic4\", \"Topic4\", \"Topic4\", \"Topic4\", \"Topic4\", \"Topic4\", \"Topic4\", \"Topic4\", \"Topic4\", \"Topic4\", \"Topic4\", \"Topic4\", \"Topic4\", \"Topic4\", \"Topic4\", \"Topic4\", \"Topic4\", \"Topic4\", \"Topic4\", \"Topic4\", \"Topic4\", \"Topic4\", \"Topic4\", \"Topic4\", \"Topic4\", \"Topic4\", \"Topic4\", \"Topic4\", \"Topic4\", \"Topic4\", \"Topic4\", \"Topic4\", \"Topic4\", \"Topic5\", \"Topic5\", \"Topic5\", \"Topic5\", \"Topic5\", \"Topic5\", \"Topic5\", \"Topic5\", \"Topic5\", \"Topic5\", \"Topic5\", \"Topic5\", \"Topic5\", \"Topic5\", \"Topic5\", \"Topic5\", \"Topic5\", \"Topic5\", \"Topic5\", \"Topic5\", \"Topic5\", \"Topic5\", \"Topic5\", \"Topic5\", \"Topic5\", \"Topic5\", \"Topic5\", \"Topic5\", \"Topic5\", \"Topic5\", \"Topic5\", \"Topic5\", \"Topic5\", \"Topic5\", \"Topic5\", \"Topic5\", \"Topic5\", \"Topic5\", \"Topic5\", \"Topic5\", \"Topic5\", \"Topic5\", \"Topic5\", \"Topic5\", \"Topic5\", \"Topic5\", \"Topic5\", \"Topic5\", \"Topic5\", \"Topic5\", \"Topic5\", \"Topic5\", \"Topic5\", \"Topic5\", \"Topic5\", \"Topic5\", \"Topic5\", \"Topic5\", \"Topic5\", \"Topic5\", \"Topic5\", \"Topic5\", \"Topic5\", \"Topic5\", \"Topic5\", \"Topic5\", \"Topic5\", \"Topic5\", \"Topic5\", \"Topic5\", \"Topic5\", \"Topic5\", \"Topic5\", \"Topic5\", \"Topic5\", \"Topic5\", \"Topic5\", \"Topic5\", \"Topic6\", \"Topic6\", \"Topic6\", \"Topic6\", \"Topic6\", \"Topic6\", \"Topic6\", \"Topic6\", \"Topic6\", \"Topic6\", \"Topic6\", \"Topic6\", \"Topic6\", \"Topic6\", \"Topic6\", \"Topic6\", \"Topic6\", \"Topic6\", \"Topic6\", \"Topic6\", \"Topic6\", \"Topic6\", \"Topic6\", \"Topic6\", \"Topic6\", \"Topic6\", \"Topic6\", \"Topic6\", \"Topic6\", \"Topic6\", \"Topic6\", \"Topic6\", \"Topic6\", \"Topic6\", \"Topic6\", \"Topic6\", \"Topic6\", \"Topic6\", \"Topic6\", \"Topic6\", \"Topic6\", \"Topic6\", \"Topic6\", \"Topic6\", \"Topic6\", \"Topic6\", \"Topic6\", \"Topic6\", \"Topic6\", \"Topic6\", \"Topic6\", \"Topic6\", \"Topic6\", \"Topic6\", \"Topic6\", \"Topic6\", \"Topic6\", \"Topic6\", \"Topic7\", \"Topic7\", \"Topic7\", \"Topic7\", \"Topic7\", \"Topic7\", \"Topic7\", \"Topic7\", \"Topic7\", \"Topic7\", \"Topic7\", \"Topic7\", \"Topic7\", \"Topic7\", \"Topic7\", \"Topic7\", \"Topic7\", \"Topic7\", \"Topic7\", \"Topic7\", \"Topic7\", \"Topic7\", \"Topic7\", \"Topic7\", \"Topic7\", \"Topic7\", \"Topic7\", \"Topic7\", \"Topic7\", \"Topic7\", \"Topic7\", \"Topic7\", \"Topic7\", \"Topic7\", \"Topic7\", \"Topic7\", \"Topic7\", \"Topic7\", \"Topic7\", \"Topic7\", \"Topic7\", \"Topic7\", \"Topic7\", \"Topic7\", \"Topic7\", \"Topic7\", \"Topic7\", \"Topic7\", \"Topic7\", \"Topic7\", \"Topic7\", \"Topic7\", \"Topic7\", \"Topic7\", \"Topic7\", \"Topic7\", \"Topic7\", \"Topic7\", \"Topic7\", \"Topic7\", \"Topic7\", \"Topic7\", \"Topic7\", \"Topic8\", \"Topic8\", \"Topic8\", \"Topic8\", \"Topic8\", \"Topic8\", \"Topic8\", \"Topic8\", \"Topic8\", \"Topic8\", \"Topic8\", \"Topic8\", \"Topic8\", \"Topic8\", \"Topic8\", \"Topic8\", \"Topic8\", \"Topic8\", \"Topic8\", \"Topic8\", \"Topic8\", \"Topic8\", \"Topic8\", \"Topic8\", \"Topic8\", \"Topic8\", \"Topic8\", \"Topic8\", \"Topic8\", \"Topic8\", \"Topic8\", \"Topic8\", \"Topic8\", \"Topic8\", \"Topic8\", \"Topic8\", \"Topic8\", \"Topic8\", \"Topic8\", \"Topic8\", \"Topic8\", \"Topic8\", \"Topic8\", \"Topic8\", \"Topic8\", \"Topic8\", \"Topic8\", \"Topic8\", \"Topic8\", \"Topic8\", \"Topic8\", \"Topic8\", \"Topic8\", \"Topic8\", \"Topic8\", \"Topic8\", \"Topic8\", \"Topic8\", \"Topic8\", \"Topic8\", \"Topic8\", \"Topic8\", \"Topic8\", \"Topic8\", \"Topic8\", \"Topic8\", \"Topic9\", \"Topic9\", \"Topic9\", \"Topic9\", \"Topic9\", \"Topic9\", \"Topic9\", \"Topic9\", \"Topic9\", \"Topic9\", \"Topic9\", \"Topic9\", \"Topic9\", \"Topic9\", \"Topic9\", \"Topic9\", \"Topic9\", \"Topic9\", \"Topic9\", \"Topic9\", \"Topic9\", \"Topic9\", \"Topic9\", \"Topic9\", \"Topic9\", \"Topic9\", \"Topic9\", \"Topic9\", \"Topic9\", \"Topic9\", \"Topic9\", \"Topic9\", \"Topic9\", \"Topic9\", \"Topic9\", \"Topic9\", \"Topic9\", \"Topic9\", \"Topic9\", \"Topic9\", \"Topic9\", \"Topic9\", \"Topic9\", \"Topic9\", \"Topic9\", \"Topic9\", \"Topic9\", \"Topic9\", \"Topic9\", \"Topic9\", \"Topic9\", \"Topic9\", \"Topic9\", \"Topic9\", \"Topic9\", \"Topic9\", \"Topic9\", \"Topic9\", \"Topic9\", \"Topic9\", \"Topic9\", \"Topic9\", \"Topic9\", \"Topic9\", \"Topic10\", \"Topic10\", \"Topic10\", \"Topic10\", \"Topic10\", \"Topic10\", \"Topic10\", \"Topic10\", \"Topic10\", \"Topic10\", \"Topic10\", \"Topic10\", \"Topic10\", \"Topic10\", \"Topic10\", \"Topic10\", \"Topic10\", \"Topic10\", \"Topic10\", \"Topic10\", \"Topic10\", \"Topic10\", \"Topic10\", \"Topic10\", \"Topic10\", \"Topic10\", \"Topic10\", \"Topic10\", \"Topic10\", \"Topic10\", \"Topic10\", \"Topic10\", \"Topic10\", \"Topic10\", \"Topic10\", \"Topic10\", \"Topic10\", \"Topic10\", \"Topic10\", \"Topic10\", \"Topic10\", \"Topic10\", \"Topic10\", \"Topic10\", \"Topic10\", \"Topic10\", \"Topic10\", \"Topic10\", \"Topic10\", \"Topic10\", \"Topic10\", \"Topic10\", \"Topic10\", \"Topic10\", \"Topic10\", \"Topic10\", \"Topic10\", \"Topic10\", \"Topic10\", \"Topic10\", \"Topic10\", \"Topic10\", \"Topic10\", \"Topic10\", \"Topic10\", \"Topic10\", \"Topic10\", \"Topic10\", \"Topic10\", \"Topic10\", \"Topic10\"], \"Freq\": [590.0, 233.0, 284.0, 164.0, 465.0, 153.0, 564.0, 109.0, 171.0, 151.0, 149.0, 211.0, 146.0, 212.0, 366.0, 314.0, 120.0, 245.0, 406.0, 135.0, 131.0, 112.0, 125.0, 378.0, 107.0, 456.0, 210.0, 253.0, 138.0, 106.0, 142.15811157226562, 22.428180694580078, 18.971633911132812, 18.268430709838867, 18.003110885620117, 17.863361358642578, 15.778644561767578, 18.872529983520508, 14.808096885681152, 14.532612800598145, 14.109491348266602, 13.560426712036133, 13.142427444458008, 13.133391380310059, 12.310226440429688, 12.034024238586426, 11.89647102355957, 11.880256652832031, 11.60153579711914, 11.468649864196777, 27.386648178100586, 10.506430625915527, 18.93694496154785, 10.087104797363281, 10.815439224243164, 9.258429527282715, 9.254952430725098, 26.207738876342773, 8.977636337280273, 8.563701629638672, 24.751026153564453, 181.7750244140625, 13.634254455566406, 32.13709259033203, 339.11590576171875, 45.31144714355469, 23.217496871948242, 24.31269645690918, 386.69970703125, 40.08208465576172, 78.91748046875, 39.25910186767578, 21.635169982910156, 94.94893646240234, 57.79389190673828, 25.0439453125, 115.21844482421875, 52.25653839111328, 36.945823669433594, 105.36541748046875, 89.7190170288086, 62.398677825927734, 78.64834594726562, 144.43272399902344, 44.25947189331055, 59.473777770996094, 56.63722229003906, 77.72732543945312, 230.0669403076172, 92.47587585449219, 33.127525329589844, 151.11727905273438, 141.5322265625, 189.8079833984375, 122.47624206542969, 87.14025115966797, 87.93502044677734, 74.1270980834961, 93.19952392578125, 77.6462173461914, 87.70579528808594, 57.129310607910156, 67.94219970703125, 60.44187545776367, 163.8454132080078, 58.238739013671875, 34.73820114135742, 41.1643180847168, 27.58845329284668, 25.315168380737305, 144.20150756835938, 23.039064407348633, 21.41522979736328, 20.113332748413086, 16.648181915283203, 13.291645050048828, 12.63863468170166, 12.42648983001709, 12.317954063415527, 12.100321769714355, 11.45029354095459, 11.018117904663086, 11.01795482635498, 10.474798202514648, 9.281769752502441, 9.053330421447754, 21.03157615661621, 7.877257823944092, 7.66113805770874, 7.658714771270752, 16.896150588989258, 7.006967067718506, 6.8999457359313965, 11.730950355529785, 150.1875457763672, 51.14867401123047, 115.23475646972656, 87.10647583007812, 80.94205474853516, 94.8799819946289, 81.50333404541016, 53.10493850708008, 55.99775314331055, 75.9590072631836, 35.11262893676758, 224.0939178466797, 60.660369873046875, 26.278053283691406, 162.68943786621094, 31.37063217163086, 36.66699981689453, 100.15998077392578, 37.87226486206055, 52.75736999511719, 78.5478286743164, 188.39915466308594, 123.22374725341797, 70.0362777709961, 65.97797393798828, 92.34578704833984, 56.92534255981445, 79.27889251708984, 58.733680725097656, 57.28509521484375, 64.4870376586914, 82.62513732910156, 75.76653289794922, 63.79730987548828, 67.69441986083984, 61.05622482299805, 60.939876556396484, 66.43952178955078, 77.85356140136719, 33.879058837890625, 30.829179763793945, 24.85789680480957, 72.04949951171875, 22.74727439880371, 21.293142318725586, 19.171607971191406, 18.906286239624023, 38.75965881347656, 17.18294906616211, 15.859855651855469, 14.139812469482422, 14.13912582397461, 13.474954605102539, 220.1474609375, 12.810921669006348, 12.412637710571289, 12.997895240783691, 10.69411563873291, 10.69212818145752, 10.294661521911621, 10.032614707946777, 9.352754592895508, 97.84425354003906, 8.706072807312012, 8.044784545898438, 7.909534931182861, 14.100027084350586, 7.509670734405518, 134.47801208496094, 24.867351531982422, 42.560630798339844, 47.92603302001953, 50.465877532958984, 17.654325485229492, 52.76008987426758, 108.24295806884766, 96.69684600830078, 96.21554565429688, 45.09663391113281, 43.60715103149414, 89.97896575927734, 91.56502532958984, 85.61522674560547, 69.11408996582031, 41.30851745605469, 122.91985321044922, 129.23187255859375, 84.41508483886719, 66.42916870117188, 42.50441360473633, 173.99916076660156, 143.7470703125, 160.3325958251953, 73.29889678955078, 143.9308319091797, 81.65269470214844, 69.30852508544922, 61.408504486083984, 55.80298614501953, 46.10234832763672, 48.12294387817383, 150.65992736816406, 43.64426040649414, 31.31496238708496, 24.607982635498047, 18.65761375427246, 17.45599365234375, 17.453039169311523, 16.855146408081055, 14.264497756958008, 13.654958724975586, 13.498961448669434, 13.352019309997559, 12.740121841430664, 11.210678100585938, 10.91604232788086, 10.76509952545166, 10.75512409210205, 10.753939628601074, 10.753734588623047, 10.614537239074707, 9.999381065368652, 9.537162780761719, 8.776527404785156, 8.771195411682129, 8.635085105895996, 8.483922958374023, 8.481599807739258, 8.177851676940918, 9.241642951965332, 8.024749755859375, 14.317955017089844, 22.633859634399414, 29.960920333862305, 12.887192726135254, 54.11044692993164, 102.56171417236328, 31.07353973388672, 33.39878845214844, 40.638118743896484, 101.56159973144531, 34.336891174316406, 37.02101516723633, 23.606704711914062, 54.089630126953125, 42.10364532470703, 59.625770568847656, 98.69821166992188, 20.081663131713867, 25.667724609375, 25.530593872070312, 52.985496520996094, 26.173192977905273, 120.89849090576172, 66.33979797363281, 46.6470947265625, 76.28759002685547, 33.99086380004883, 31.6152286529541, 32.774959564208984, 36.095458984375, 54.9151725769043, 36.70790100097656, 54.403926849365234, 30.260143280029297, 40.92603302001953, 41.25230407714844, 49.27289962768555, 53.85821533203125, 41.63418197631836, 48.76865768432617, 40.91486358642578, 41.10635757446289, 19.42137908935547, 16.547788619995117, 14.558801651000977, 13.563663482666016, 10.686891555786133, 10.579076766967773, 10.355790138244629, 10.138975143432617, 16.6049747467041, 9.254087448120117, 9.251179695129395, 8.037714004516602, 8.037111282348633, 23.55573272705078, 7.813075542449951, 7.2637810707092285, 6.932291507720947, 6.93110990524292, 6.929627418518066, 13.429689407348633, 6.6017584800720215, 6.5996198654174805, 21.08051109313965, 6.377193450927734, 6.373455047607422, 6.3708624839782715, 6.049658298492432, 6.047702312469482, 6.046229839324951, 6.047749996185303, 22.48200225830078, 29.5810546875, 16.979116439819336, 25.951919555664062, 10.334970474243164, 10.572280883789062, 12.036972045898438, 24.724124908447266, 120.46312713623047, 21.339603424072266, 16.071025848388672, 92.4677505493164, 19.413793563842773, 42.447723388671875, 14.816783905029297, 17.534351348876953, 22.877490997314453, 55.547122955322266, 76.82640075683594, 77.98430633544922, 19.197141647338867, 22.25646209716797, 59.52347946166992, 49.54519271850586, 42.661865234375, 28.79791259765625, 26.282337188720703, 85.04767608642578, 37.862396240234375, 29.263381958007812, 70.84571838378906, 75.55716705322266, 30.369779586791992, 32.24260711669922, 56.65803146362305, 32.70359420776367, 52.334529876708984, 26.94989013671875, 32.03797912597656, 32.830772399902344, 40.3683967590332, 37.3010139465332, 35.648258209228516, 28.31678009033203, 31.186508178710938, 31.759456634521484, 28.16033935546875, 29.261091232299805, 108.41828918457031, 37.03390884399414, 23.758649826049805, 18.889020919799805, 18.877832412719727, 17.08082389831543, 15.827343940734863, 13.600227355957031, 13.317590713500977, 12.48172378540039, 11.930667877197266, 11.644522666931152, 11.637821197509766, 17.81678009033203, 9.844904899597168, 9.843437194824219, 9.843301773071289, 9.83318042755127, 9.286882400512695, 9.147274017333984, 21.637800216674805, 8.026320457458496, 7.607782363891602, 7.332038402557373, 7.198925495147705, 15.566574096679688, 44.961082458496094, 50.66203308105469, 6.501938343048096, 6.2177839279174805, 33.81394577026367, 10.206701278686523, 23.212478637695312, 48.708221435546875, 14.330110549926758, 55.546142578125, 30.863981246948242, 16.836668014526367, 69.53201293945312, 36.70832443237305, 24.357858657836914, 48.70917892456055, 18.713468551635742, 36.700279235839844, 31.091182708740234, 36.57699203491211, 53.01983642578125, 27.38479995727539, 60.807586669921875, 39.398536682128906, 34.35398483276367, 28.645095825195312, 44.64717102050781, 35.37638854980469, 48.57050323486328, 25.70442771911621, 21.259536743164062, 23.028331756591797, 20.63365936279297, 17.563274383544922, 16.6224308013916, 13.670995712280273, 13.555534362792969, 9.882574081420898, 7.991069793701172, 7.409682750701904, 6.81437349319458, 6.81299352645874, 6.811385631561279, 6.809295654296875, 6.702729225158691, 6.3443779945373535, 10.473301887512207, 6.230367183685303, 6.23031759262085, 6.230201721191406, 6.23014497756958, 6.230080604553223, 21.98531150817871, 5.273072242736816, 5.270505905151367, 5.162528038024902, 4.928071975708008, 4.809276580810547, 4.69464111328125, 4.694545269012451, 4.692441940307617, 11.211584091186523, 8.306114196777344, 6.903102397918701, 14.227635383605957, 24.593303680419922, 10.481979370117188, 11.379273414611816, 11.732110977172852, 59.92879867553711, 22.363338470458984, 18.964954376220703, 35.2073860168457, 26.13296127319336, 27.979211807250977, 17.88536262512207, 15.099233627319336, 38.393985748291016, 22.88106918334961, 21.924135208129883, 8.645960807800293, 48.41801071166992, 12.264328956604004, 13.267728805541992, 42.72022247314453, 26.90165901184082, 21.365013122558594, 13.882379531860352, 19.572954177856445, 16.508136749267578, 12.892091751098633, 13.102088928222656, 14.449466705322266, 14.08431625366211, 14.243874549865723, 38.986656188964844, 23.518192291259766, 15.196256637573242, 14.378122329711914, 13.086809158325195, 9.808923721313477, 9.45382022857666, 8.873241424560547, 8.518418312072754, 33.40336608886719, 7.703600883483887, 14.172661781311035, 6.403745651245117, 6.18015193939209, 6.17985725402832, 6.1771063804626465, 6.056689739227295, 9.922926902770996, 5.8269429206848145, 5.471818923950195, 5.357496738433838, 5.241479396820068, 5.234153747558594, 4.885183334350586, 4.883456230163574, 4.772500991821289, 4.656474590301514, 4.655258655548096, 4.6479597091674805, 4.536635398864746, 7.293594837188721, 36.106964111328125, 6.526238441467285, 12.664705276489258, 18.359045028686523, 20.247379302978516, 8.255682945251465, 15.915755271911621, 16.78420639038086, 12.731013298034668, 28.469623565673828, 20.05353355407715, 20.078861236572266, 20.33218765258789, 11.42413330078125, 14.094226837158203, 46.67856979370117, 13.685239791870117, 13.813834190368652, 20.631332397460938, 31.4692440032959, 21.256393432617188, 36.864540100097656, 14.055956840515137, 15.775334358215332, 21.432453155517578, 16.48192024230957, 19.21665382385254, 18.362714767456055, 21.685291290283203, 17.507102966308594, 14.490896224975586, 15.666341781616211, 15.156142234802246, 14.838683128356934, 14.526594161987305, 12.900425910949707, 12.571059226989746, 12.241259574890137, 10.270981788635254, 8.407392501831055, 7.2041192054748535, 7.2041192054748535, 7.092708110809326, 7.092068195343018, 6.541942119598389, 6.32478141784668, 6.3212385177612305, 6.319701671600342, 6.216131687164307, 5.340066432952881, 5.011218547821045, 5.011102676391602, 4.901776313781738, 4.898130416870117, 4.89717960357666, 4.896670818328857, 4.895361423492432, 4.886250019073486, 4.788871765136719, 4.571994781494141, 4.244443416595459, 4.021934986114502, 4.021341323852539, 7.732165813446045, 3.473330497741699, 18.47834014892578, 43.7212028503418, 10.663829803466797, 7.8568196296691895, 20.464269638061523, 7.748944282531738, 37.93423080444336, 7.936401844024658, 24.192399978637695, 15.47537612915039, 13.98873233795166, 11.932633399963379, 7.865253925323486, 10.197381973266602, 12.318881034851074, 18.40629005432129, 39.01310348510742, 30.225435256958008, 20.739755630493164, 12.66470718383789, 10.842082977294922, 11.69965648651123, 10.2050142288208, 13.19588565826416, 9.818581581115723, 11.66687297821045, 13.240827560424805, 9.874883651733398, 12.616520881652832, 13.449859619140625, 13.058627128601074, 12.061083793640137, 10.736054420471191, 10.798005104064941, 20.467615127563477, 12.264650344848633, 8.380308151245117, 7.43354606628418, 7.114098072052002, 6.909933090209961, 6.908535957336426, 6.590108394622803, 6.060194969177246, 5.96310567855835, 5.748598098754883, 5.542709827423096, 5.227053165435791, 5.224229335784912, 5.21888542175293, 4.700836181640625, 4.6992573738098145, 4.699187755584717, 4.698904037475586, 4.695374488830566, 4.694007873535156, 4.693540573120117, 4.386223316192627, 12.838147163391113, 4.167571067810059, 4.069520950317383, 3.857538938522339, 3.857422113418579, 3.8539717197418213, 3.845184326171875, 6.0583953857421875, 9.868988037109375, 10.740080833435059, 10.488089561462402, 5.147965431213379, 10.358736038208008, 8.13636302947998, 18.23409652709961, 14.833158493041992, 8.427117347717285, 24.34339714050293, 10.475317001342773, 7.551852703094482, 9.514602661132812, 9.61127758026123, 10.08408260345459, 20.338733673095703, 22.71023178100586, 9.420320510864258, 13.265990257263184, 15.912238121032715, 24.023550033569336, 9.183186531066895, 28.330923080444336, 22.778127670288086, 26.40945053100586, 15.666906356811523, 9.554101943969727, 10.395265579223633, 19.117231369018555, 10.834877967834473, 19.490156173706055, 15.19958209991455, 13.80724811553955, 12.973910331726074, 10.583413124084473, 10.933043479919434, 10.785621643066406, 11.10629940032959, 10.746930122375488, 10.9805269241333], \"Term\": [\"america\", \"budget\", \"children\", \"care\", \"world\", \"energy\", \"people\", \"soviet\", \"health\", \"education\", \"families\", \"peace\", \"freedom\", \"tax\", \"work\", \"americans\", \"nuclear\", \"federal\", \"congress\", \"welfare\", \"union\", \"trade\", \"schools\", \"government\", \"reform\", \"year\", \"tonight\", \"let\", \"percent\", \"spending\", \"freedom\", \"grade\", \"shape\", \"rules\", \"perfect\", \"guests\", \"stood\", \"latin\", \"vision\", \"distinguished\", \"cleaner\", \"prosperous\", \"ties\", \"truman\", \"forge\", \"destiny\", \"founders\", \"accountable\", \"checks\", \"ideals\", \"speak\", \"haiti\", \"hemisphere\", \"fought\", \"hopes\", \"doctrine\", \"steel\", \"race\", \"fire\", \"deeds\", \"central\", \"peace\", \"frontiers\", \"safer\", \"world\", \"challenges\", \"smaller\", \"liberty\", \"america\", \"democratic\", \"free\", \"hold\", \"foundation\", \"union\", \"democracy\", \"justice\", \"century\", \"fellow\", \"stronger\", \"future\", \"state\", \"human\", \"strong\", \"nation\", \"prosperity\", \"common\", \"change\", \"great\", \"people\", \"president\", \"secure\", \"government\", \"american\", \"new\", \"americans\", \"economy\", \"tonight\", \"today\", \"time\", \"country\", \"years\", \"nations\", \"congress\", \"states\", \"care\", \"insurance\", \"police\", \"ought\", \"affordable\", \"coverage\", \"families\", \"bless\", \"learning\", \"neighborhoods\", \"hire\", \"cancer\", \"brady\", \"empower\", \"richard\", \"officers\", \"zones\", \"empowerment\", \"gangs\", \"pregnancy\", \"produced\", \"enemy\", \"streets\", \"doctor\", \"policing\", \"town\", \"retirement\", \"straight\", \"dependency\", \"cover\", \"health\", \"medicare\", \"welfare\", \"family\", \"crime\", \"child\", \"communities\", \"income\", \"workers\", \"parents\", \"god\", \"work\", \"bill\", \"leave\", \"children\", \"thing\", \"save\", \"need\", \"businesses\", \"job\", \"working\", \"people\", \"americans\", \"community\", \"right\", \"let\", \"social\", \"help\", \"way\", \"jobs\", \"tonight\", \"new\", \"year\", \"security\", \"congress\", \"support\", \"know\", \"america\", \"inflation\", \"lowest\", \"deficits\", \"covenant\", \"deficit\", \"labor\", \"math\", \"double\", \"student\", \"unemployment\", \"excellence\", \"tuition\", \"districts\", \"teaching\", \"reading\", \"budget\", \"rewards\", \"unemployed\", \"product\", \"fast\", \"fifth\", \"overseas\", \"smallest\", \"smarter\", \"spending\", \"scholarships\", \"gross\", \"finest\", \"average\", \"nutrition\", \"education\", \"investments\", \"students\", \"half\", \"standards\", \"recession\", \"rates\", \"percent\", \"cut\", \"schools\", \"record\", \"cuts\", \"growth\", \"high\", \"billion\", \"increase\", \"balanced\", \"tax\", \"federal\", \"jobs\", \"school\", \"nearly\", \"years\", \"government\", \"year\", \"million\", \"new\", \"economic\", \"national\", \"economy\", \"programs\", \"college\", \"help\", \"energy\", \"production\", \"coal\", \"bosnia\", \"impact\", \"buying\", \"announce\", \"solar\", \"dependence\", \"payments\", \"keeps\", \"foster\", \"cars\", \"carefully\", \"creation\", \"initiated\", \"divide\", \"grades\", \"deduction\", \"disaster\", \"emissions\", \"immediately\", \"handguns\", \"safeguard\", \"provisions\", \"barrels\", \"canal\", \"regulation\", \"lived\", \"entertainment\", \"fuel\", \"gas\", \"actions\", \"supplies\", \"oil\", \"policy\", \"proposals\", \"companies\", \"industry\", \"administration\", \"fund\", \"food\", \"measures\", \"foreign\", \"assistance\", \"development\", \"program\", \"short\", \"surplus\", \"conservation\", \"legislation\", \"develop\", \"congress\", \"programs\", \"major\", \"federal\", \"proposed\", \"increased\", \"resources\", \"needs\", \"economic\", \"reduce\", \"security\", \"number\", \"important\", \"continue\", \"nation\", \"years\", \"national\", \"new\", \"states\", \"government\", \"learn\", \"difference\", \"politics\", \"northern\", \"bridge\", \"conflicts\", \"assault\", \"ireland\", \"classroom\", \"ratification\", \"connect\", \"learned\", \"approve\", \"minimum\", \"aisle\", \"safest\", \"chicago\", \"graduate\", \"shrink\", \"terrorists\", \"arsenals\", \"futures\", \"differences\", \"everglades\", \"hunt\", \"usa\", \"conscience\", \"grandchildren\", \"unfinished\", \"partisanship\", \"ban\", \"honor\", \"teach\", \"wage\", \"diverse\", \"hour\", \"destruction\", \"fight\", \"children\", \"ready\", \"read\", \"know\", \"treaty\", \"believe\", \"amendment\", \"party\", \"big\", \"good\", \"let\", \"help\", \"cold\", \"issue\", \"country\", \"ask\", \"nuclear\", \"teachers\", \"stop\", \"people\", \"want\", \"weapons\", \"year\", \"america\", \"pass\", \"come\", \"american\", \"best\", \"congress\", \"don\", \"right\", \"working\", \"work\", \"nation\", \"world\", \"parents\", \"security\", \"americans\", \"challenge\", \"new\", \"soviet\", \"africa\", \"afghanistan\", \"missile\", \"row\", \"missiles\", \"persian\", \"sun\", \"commit\", \"pakistan\", \"salt\", \"partnerships\", \"doors\", \"iraq\", \"biological\", \"european\", \"invasion\", \"punish\", \"demands\", \"southwest\", \"agreements\", \"cigarettes\", \"weapon\", \"marketing\", \"warheads\", \"iran\", \"strategic\", \"europe\", \"usual\", \"answered\", \"nato\", \"poland\", \"gulf\", \"allies\", \"western\", \"military\", \"relations\", \"chemical\", \"nuclear\", \"east\", \"developing\", \"forces\", \"partners\", \"weapons\", \"agreement\", \"countries\", \"united\", \"asia\", \"states\", \"nations\", \"war\", \"middle\", \"security\", \"union\", \"world\", \"international\", \"arms\", \"trade\", \"teen\", \"scientists\", \"regulatory\", \"arts\", \"toxic\", \"hillary\", \"spur\", \"climate\", \"creativity\", \"outlaw\", \"demanding\", \"chip\", \"acres\", \"concluded\", \"aging\", \"polluters\", \"gases\", \"kristen\", \"floods\", \"warming\", \"farm\", \"native\", \"connected\", \"troubled\", \"disasters\", \"quick\", \"gene\", \"zarfos\", \"tear\", \"cutting\", \"adopted\", \"uncertainty\", \"california\", \"water\", \"rid\", \"senior\", \"lands\", \"trade\", \"clean\", \"environmental\", \"protect\", \"markets\", \"environment\", \"air\", \"regulations\", \"act\", \"open\", \"global\", \"submit\", \"year\", \"grow\", \"information\", \"new\", \"national\", \"programs\", \"safety\", \"health\", \"challenge\", \"financial\", \"created\", \"system\", \"help\", \"congress\", \"space\", \"immigrants\", \"scores\", \"tobacco\", \"remarkable\", \"star\", \"write\", \"celebrate\", \"possibility\", \"rural\", \"jack\", \"scientific\", \"mistake\", \"lucas\", \"graders\", \"globalization\", \"talents\", \"win\", \"imagine\", \"search\", \"handicapped\", \"discovery\", \"embrace\", \"medicine\", \"telecommunications\", \"maritime\", \"fueled\", \"waves\", \"farsighted\", \"revitalize\", \"taught\", \"science\", \"parts\", \"inner\", \"debt\", \"transportation\", \"shut\", \"gun\", \"cities\", \"asked\", \"defense\", \"technology\", \"areas\", \"public\", \"carry\", \"threat\", \"years\", \"revolution\", \"took\", \"responsibility\", \"american\", \"great\", \"america\", \"research\", \"said\", \"let\", \"forces\", \"nation\", \"national\", \"new\", \"century\", \"going\", \"past\", \"war\", \"future\", \"support\", \"representatives\", \"lobbyists\", \"senator\", \"voted\", \"radio\", \"mccain\", \"feingold\", \"reconciliation\", \"taxpayer\", \"wouldn\", \"dole\", \"houses\", \"wait\", \"pages\", \"broadcast\", \"nationwide\", \"neill\", \"lobby\", \"kill\", \"root\", \"fine\", \"sets\", \"texas\", \"achievements\", \"convene\", \"thomas\", \"devastated\", \"bit\", \"sides\", \"wisely\", \"campaign\", \"house\", \"finance\", \"agriculture\", \"senate\", \"shouldn\", \"reform\", \"watching\", \"bipartisan\", \"china\", \"address\", \"require\", \"television\", \"agree\", \"cause\", \"democracy\", \"congress\", \"year\", \"president\", \"days\", \"called\", \"speaker\", \"commission\", \"ago\", \"regulations\", \"think\", \"legislation\", \"white\", \"like\", \"ask\", \"tonight\", \"people\", \"state\", \"know\", \"illegal\", \"veto\", \"immigration\", \"scholarship\", \"mothers\", \"aliens\", \"pell\", \"possibilities\", \"sensible\", \"item\", \"memory\", \"hiring\", \"libraries\", \"heavens\", \"vouchers\", \"illusion\", \"deduct\", \"achievable\", \"graduates\", \"punishment\", \"pointed\", \"team\", \"package\", \"governor\", \"dues\", \"chances\", \"circle\", \"youngest\", \"typical\", \"empowering\", \"iras\", \"humanities\", \"borders\", \"abuse\", \"border\", \"answer\", \"governors\", \"men\", \"simply\", \"pledge\", \"women\", \"grant\", \"applaud\", \"republican\", \"afford\", \"vote\", \"thank\", \"best\", \"groups\", \"drugs\", \"bipartisan\", \"tonight\", \"asking\", \"congress\", \"americans\", \"people\", \"act\", \"line\", \"information\", \"american\", \"drug\", \"america\", \"support\", \"ask\", \"want\", \"finally\", \"pass\", \"history\", \"country\", \"good\", \"year\"], \"Total\": [590.0, 233.0, 284.0, 164.0, 465.0, 153.0, 564.0, 109.0, 171.0, 151.0, 149.0, 211.0, 146.0, 212.0, 366.0, 314.0, 120.0, 245.0, 406.0, 135.0, 131.0, 112.0, 125.0, 378.0, 107.0, 456.0, 210.0, 253.0, 138.0, 106.0, 146.8677215576172, 23.245750427246094, 19.7889461517334, 19.085988998413086, 18.82036590576172, 18.680614471435547, 16.596057891845703, 19.890838623046875, 15.6256685256958, 15.349874496459961, 14.926985740661621, 14.377716064453125, 13.959790229797363, 13.957853317260742, 13.127562522888184, 12.85129451751709, 12.713737487792969, 12.697979927062988, 12.419135093688965, 12.29238224029541, 29.400779724121094, 11.324671745300293, 20.44561767578125, 10.904531478881836, 11.722877502441406, 10.075714111328125, 10.072333335876465, 28.585783004760742, 9.795812606811523, 9.381199836730957, 27.484453201293945, 211.2483367919922, 15.023451805114746, 37.01615524291992, 465.6306457519531, 53.953643798828125, 26.673858642578125, 28.149707794189453, 590.2774047851562, 48.89772415161133, 104.69661712646484, 48.49750518798828, 24.837438583374023, 131.03855895996094, 76.93555450439453, 29.411365509033203, 179.7938995361328, 70.46928405761719, 46.95317840576172, 170.02163696289062, 140.17007446289062, 90.91139221191406, 123.18873596191406, 266.6690979003906, 60.43937683105469, 89.05364990234375, 85.76390075683594, 131.5227508544922, 564.2980346679688, 167.02505493164062, 42.2222785949707, 378.16461181640625, 369.2921142578125, 583.8838500976562, 314.6561584472656, 194.1713409423828, 210.9879608154297, 161.02593994140625, 259.8663330078125, 197.77760314941406, 456.7713928222656, 135.8124237060547, 406.3360290527344, 217.81417846679688, 164.6855010986328, 59.079410552978516, 35.57828140258789, 42.20002746582031, 28.428604125976562, 26.155208587646484, 149.40423583984375, 23.879127502441406, 22.255338668823242, 20.9534854888916, 17.48833465576172, 14.131767272949219, 13.48116397857666, 13.266535758972168, 13.158004760742188, 12.940397262573242, 12.290363311767578, 11.858168601989746, 11.858024597167969, 11.31490707397461, 10.121891021728516, 9.893913269042969, 23.02692222595215, 8.717299461364746, 8.501174926757812, 8.498831748962402, 18.756723403930664, 7.8471221923828125, 7.740050792694092, 13.166888236999512, 171.8964080810547, 58.6102409362793, 135.1226043701172, 107.28231048583984, 99.51322174072266, 118.3506088256836, 101.48046112060547, 67.48483276367188, 73.67022705078125, 105.42951202392578, 44.07664108276367, 366.2228698730469, 85.18756866455078, 32.37147903442383, 284.1321716308594, 40.5079345703125, 49.02952194213867, 170.7600860595703, 51.70912551879883, 85.12743377685547, 151.42453002929688, 564.2980346679688, 314.6561584472656, 136.82086181640625, 128.3283233642578, 253.14279174804688, 124.19212341308594, 267.2139892578125, 158.51531982421875, 149.2747802734375, 210.9879608154297, 583.8838500976562, 456.6939697265625, 235.27566528320312, 406.3360290527344, 205.26141357421875, 220.1305389404297, 590.2774047851562, 78.67559051513672, 34.70117950439453, 31.651453018188477, 25.680177688598633, 74.60993957519531, 23.569324493408203, 22.115144729614258, 19.993656158447266, 19.728347778320312, 40.59035110473633, 18.005014419555664, 16.681869506835938, 14.961795806884766, 14.961112976074219, 14.297002792358398, 233.6760711669922, 13.632980346679688, 13.234804153442383, 13.91004467010498, 11.516124725341797, 11.51418685913086, 11.116742134094238, 10.854580879211426, 10.175026893615723, 106.55916595458984, 9.528085708618164, 8.866748809814453, 8.731583595275879, 15.600924491882324, 8.331734657287598, 151.83038330078125, 27.695968627929688, 48.18783950805664, 54.590335845947266, 58.11531448364258, 19.773454666137695, 63.691741943359375, 138.36903381347656, 124.331298828125, 125.90096282958984, 55.585472106933594, 54.238712310791016, 123.46432495117188, 127.39189147949219, 127.58172607421875, 101.03307342529297, 54.42461395263672, 212.293701171875, 245.14559936523438, 149.2747802734375, 109.10116577148438, 59.304569244384766, 456.7713928222656, 378.16461181640625, 456.6939697265625, 156.73095703125, 583.8838500976562, 207.0752716064453, 212.54490661621094, 194.1713409423828, 166.88917541503906, 87.60478210449219, 267.2139892578125, 153.27023315429688, 44.45150375366211, 32.12221908569336, 25.415468215942383, 19.479942321777344, 18.26336097717285, 18.260604858398438, 17.662343978881836, 15.07176685333252, 14.462227821350098, 14.306354522705078, 14.159289360046387, 13.547478675842285, 12.020957946777344, 11.723308563232422, 11.572348594665527, 11.562594413757324, 11.561394691467285, 11.561187744140625, 11.421746253967285, 10.80678653717041, 10.344587326049805, 9.584004402160645, 9.578838348388672, 9.442285537719727, 9.29110336303711, 9.288829803466797, 8.98508071899414, 10.164765357971191, 8.83199405670166, 15.788017272949219, 25.654003143310547, 34.95375061035156, 14.403980255126953, 65.23564910888672, 129.4853057861328, 36.660396575927734, 40.446598052978516, 51.21448516845703, 144.19522094726562, 42.95795440673828, 47.68363952636719, 28.544858932495117, 76.50178527832031, 57.24919891357422, 86.59053039550781, 162.80206298828125, 24.35017967224121, 33.183441162109375, 33.071468353271484, 103.2594223022461, 37.2586669921875, 406.3360290527344, 166.88917541503906, 98.58403015136719, 245.14559936523438, 61.81327819824219, 55.129756927490234, 59.301570892333984, 75.23490905761719, 207.0752716064453, 81.91998291015625, 235.27566528320312, 51.44524002075195, 118.09456634521484, 143.59786987304688, 266.6690979003906, 456.7713928222656, 212.54490661621094, 583.8838500976562, 217.81417846679688, 378.16461181640625, 20.259824752807617, 17.386241912841797, 15.397248268127441, 14.402117729187012, 11.52542781829834, 11.41752815246582, 11.194302558898926, 10.977372169494629, 18.085100173950195, 10.092470169067383, 10.08967399597168, 8.876144409179688, 8.875585556030273, 26.033735275268555, 8.651627540588379, 8.10219955444336, 7.770710468292236, 7.769573211669922, 7.7681427001953125, 15.127934455871582, 7.440155982971191, 7.438060283660889, 23.80999755859375, 7.215742588043213, 7.21209716796875, 7.209466934204102, 6.888031005859375, 6.886143207550049, 6.884706974029541, 6.886772155761719, 25.614158630371094, 35.97670364379883, 20.771648406982422, 34.062644958496094, 12.47893238067627, 12.807238578796387, 15.31729793548584, 37.525001525878906, 284.1321716308594, 32.40082550048828, 22.824392318725586, 220.1305389404297, 29.379453659057617, 83.03350067138672, 20.85276985168457, 26.45821762084961, 38.76544189453125, 144.02276611328125, 253.14279174804688, 267.2139892578125, 31.03013038635254, 39.43687438964844, 197.77760314941406, 150.52081298828125, 120.50528717041016, 62.78219223022461, 54.62556076049805, 564.2980346679688, 116.80989837646484, 71.26461791992188, 456.6939697265625, 590.2774047851562, 78.64553833007812, 94.10331726074219, 369.2921142578125, 100.71392822265625, 406.3360290527344, 69.52513122558594, 128.3283233642578, 151.42453002929688, 366.2228698730469, 266.6690979003906, 465.6306457519531, 105.42951202392578, 235.27566528320312, 314.6561584472656, 145.2899169921875, 583.8838500976562, 109.60076904296875, 37.91938400268555, 24.57562828063965, 19.706045150756836, 19.695053100585938, 17.897790908813477, 16.644317626953125, 14.417234420776367, 14.134709358215332, 13.303500175476074, 12.747660636901855, 12.461655616760254, 12.455154418945312, 19.265392303466797, 10.661863327026367, 10.660391807556152, 10.660258293151855, 10.650423049926758, 10.103852272033691, 9.96462345123291, 23.58531951904297, 8.843545913696289, 8.42494010925293, 8.149188995361328, 8.01590633392334, 17.426265716552734, 50.5435905456543, 56.98537063598633, 7.3189287185668945, 7.0349273681640625, 39.20656204223633, 11.616941452026367, 27.75756072998047, 61.444705963134766, 16.995325088500977, 79.85792541503906, 41.49683380126953, 20.90593147277832, 120.50528717041016, 55.76657485961914, 35.05462646484375, 87.45248413085938, 25.2385311126709, 71.26461791992188, 56.31270217895508, 76.22439575195312, 156.03001403808594, 52.194278717041016, 217.81417846679688, 135.8124237060547, 112.76592254638672, 73.62980651855469, 235.27566528320312, 131.03855895996094, 465.6306457519531, 92.70146179199219, 47.115013122558594, 112.3196029663086, 21.466617584228516, 18.396217346191406, 17.45522117614746, 14.503730773925781, 14.38821792602539, 10.71556282043457, 8.824018478393555, 8.242568969726562, 7.64725923538208, 7.645965099334717, 7.644268035888672, 7.64224910736084, 7.535409927368164, 7.177204132080078, 11.852795600891113, 7.063052177429199, 7.063010215759277, 7.062900066375732, 7.062836647033691, 7.062783241271973, 25.19510269165039, 6.10601806640625, 6.103495121002197, 5.995332717895508, 5.760819435119629, 5.642209529876709, 5.5273237228393555, 5.5272345542907715, 5.525173187255859, 13.226191520690918, 9.984786033630371, 8.351058959960938, 18.242950439453125, 33.1208610534668, 13.421647071838379, 14.772801399230957, 15.666582107543945, 112.3196029663086, 34.3713264465332, 29.43158721923828, 76.33540344238281, 50.986698150634766, 57.751922607421875, 33.35373306274414, 27.75714874267578, 122.0382308959961, 57.36137390136719, 69.19378662109375, 12.23659896850586, 456.6939697265625, 26.37891387939453, 31.807703018188477, 583.8838500976562, 212.54490661621094, 166.88917541503906, 41.72394943237305, 171.8964080810547, 145.2899169921875, 36.80111312866211, 44.63115310668945, 127.90835571289062, 267.2139892578125, 406.3360290527344, 39.82008361816406, 24.351760864257812, 16.029830932617188, 15.211674690246582, 13.924220085144043, 10.642455101013184, 10.287410736083984, 9.706686019897461, 9.351945877075195, 37.0131950378418, 8.536999702453613, 15.988945007324219, 7.2374348640441895, 7.0135498046875, 7.0132598876953125, 7.010561943054199, 6.8902082443237305, 11.303970336914062, 6.660375595092773, 6.3053297996521, 6.190930366516113, 6.074917793273926, 6.067725658416748, 5.718695163726807, 5.717051982879639, 5.605917930603027, 5.489876747131348, 5.488707065582275, 5.481527328491211, 5.3701324462890625, 8.769447326660156, 48.05570602416992, 7.905856609344482, 16.66077995300293, 25.32711410522461, 28.978248596191406, 11.054892539978027, 26.464326858520508, 28.791301727294922, 23.10845184326172, 83.77408599853516, 66.71922302246094, 70.9205322265625, 74.45946502685547, 23.89818000793457, 36.92129135131836, 456.7713928222656, 35.94981384277344, 41.37129592895508, 113.69849395751953, 369.2921142578125, 131.5227508544922, 590.2774047851562, 44.29496765136719, 69.89933013916016, 253.14279174804688, 87.45248413085938, 266.6690979003906, 212.54490661621094, 583.8838500976562, 179.7938995361328, 55.855831146240234, 117.239013671875, 112.76592254638672, 170.02163696289062, 205.26141357421875, 13.739521026611328, 13.410210609436035, 13.080423355102539, 11.11009693145752, 9.246499061584473, 8.043197631835938, 8.043197631835938, 7.931822776794434, 7.93120813369751, 7.381142616271973, 7.163913249969482, 7.160457611083984, 7.159013748168945, 7.055238723754883, 6.179154396057129, 5.850305557250977, 5.85019588470459, 5.740886688232422, 5.737417697906494, 5.736408710479736, 5.735906600952148, 5.734651565551758, 5.725958347320557, 5.628081798553467, 5.411125183105469, 5.083540916442871, 4.86112117767334, 4.86052131652832, 9.35874080657959, 4.312564849853516, 23.629146575927734, 68.94017028808594, 14.974067687988281, 10.98047161102295, 37.120731353759766, 11.091384887695312, 107.26388549804688, 11.511229515075684, 75.9147720336914, 42.19261932373047, 36.04399490356445, 27.760238647460938, 13.771454811096191, 22.813621520996094, 33.83070755004883, 76.93555450439453, 406.3360290527344, 456.6939697265625, 167.02505493164062, 47.094383239746094, 32.22945785522461, 42.40657424926758, 30.53912925720215, 90.3919677734375, 27.75714874267578, 59.026084899902344, 103.2594223022461, 30.0815486907959, 106.20733642578125, 150.52081298828125, 210.9879608154297, 564.2980346679688, 140.17007446289062, 220.1305389404297, 21.310108184814453, 13.109469413757324, 9.222763061523438, 8.276023864746094, 7.956685543060303, 7.752366542816162, 7.751003265380859, 7.432662487030029, 6.90288782119751, 6.805542469024658, 6.591147422790527, 6.385161399841309, 6.069515228271484, 6.0667877197265625, 6.061528205871582, 5.543315887451172, 5.54177188873291, 5.54172420501709, 5.541421890258789, 5.537955284118652, 5.53671407699585, 5.536194801330566, 5.228680610656738, 15.387819290161133, 5.010265827178955, 4.9124555587768555, 4.700067520141602, 4.700019836425781, 4.696617126464844, 4.688015937805176, 7.489595890045166, 12.9162015914917, 16.096044540405273, 15.740537643432617, 6.663140773773193, 17.122730255126953, 12.486530303955078, 39.148231506347656, 29.792781829833984, 13.405631065368652, 67.54873657226562, 19.545658111572266, 11.662513732910156, 16.949623107910156, 17.515363693237305, 19.490787506103516, 73.88984680175781, 100.71392822265625, 19.51034164428711, 48.254310607910156, 75.9147720336914, 210.9879608154297, 20.25625991821289, 406.3360290527344, 314.6561584472656, 564.2980346679688, 122.0382308959961, 23.11505889892578, 31.807703018188477, 369.2921142578125, 38.30987548828125, 590.2774047851562, 205.26141357421875, 150.52081298828125, 116.80989837646484, 39.90116882324219, 78.64553833007812, 82.03260040283203, 197.77760314941406, 144.02276611328125, 456.6939697265625], \"loglift\": [30.0, 29.0, 28.0, 27.0, 26.0, 25.0, 24.0, 23.0, 22.0, 21.0, 20.0, 19.0, 18.0, 17.0, 16.0, 15.0, 14.0, 13.0, 12.0, 11.0, 10.0, 9.0, 8.0, 7.0, 6.0, 5.0, 4.0, 3.0, 2.0, 1.0, 1.6584999561309814, 1.6552000045776367, 1.648900032043457, 1.6473000049591064, 1.6467000246047974, 1.646299958229065, 1.6404999494552612, 1.6384999752044678, 1.6373000144958496, 1.636299967765808, 1.6346999406814575, 1.6325000524520874, 1.6306999921798706, 1.6302000284194946, 1.6267999410629272, 1.6253000497817993, 1.6246000528335571, 1.624500036239624, 1.6230000257492065, 1.6217000484466553, 1.6201000213623047, 1.6160999536514282, 1.614400029182434, 1.6131000518798828, 1.6104999780654907, 1.6065000295639038, 1.6064000129699707, 1.604200005531311, 1.6038000583648682, 1.5999000072479248, 1.586300015449524, 1.5407999753952026, 1.593999981880188, 1.5497000217437744, 1.3739999532699585, 1.5164999961853027, 1.552299976348877, 1.5444999933242798, 1.2681000232696533, 1.492300033569336, 1.408400058746338, 1.479699969291687, 1.5529999732971191, 1.368899941444397, 1.4049999713897705, 1.5303000211715698, 1.2460999488830566, 1.3919999599456787, 1.4514000415802002, 1.2125999927520752, 1.2448999881744385, 1.3147000074386597, 1.242300033569336, 1.0779000520706177, 1.3795000314712524, 1.2872999906539917, 1.2761000394821167, 1.1650999784469604, 0.7937999963760376, 1.0999000072479248, 1.4485000371932983, 0.7738000154495239, 0.7319999933242798, 0.5673999786376953, 0.7475000023841858, 0.8898000121116638, 0.8159000277519226, 0.9153000116348267, 0.6656000018119812, 0.7560999989509583, 0.04089999943971634, 0.8251000046730042, -0.09749999642372131, 0.4090999960899353, 1.8844000101089478, 1.875100016593933, 1.8655999898910522, 1.8645999431610107, 1.8595000505447388, 1.8567999601364136, 1.8539999723434448, 1.853700041770935, 1.8509999513626099, 1.8486000299453735, 1.8401999473571777, 1.8281999826431274, 1.8249000310897827, 1.8241000175476074, 1.8235000371932983, 1.8223999738693237, 1.8186999559402466, 1.815999984741211, 1.815999984741211, 1.8122999668121338, 1.8028000593185425, 1.8006999492645264, 1.798799991607666, 1.788100004196167, 1.7854000329971313, 1.7854000329971313, 1.784999966621399, 1.7762000560760498, 1.7746000289916992, 1.7740000486373901, 1.7545000314712524, 1.7532999515533447, 1.730299949645996, 1.6811000108718872, 1.6828999519348145, 1.6684000492095947, 1.670300006866455, 1.6497999429702759, 1.6152000427246094, 1.5615999698638916, 1.6620999574661255, 1.398300051689148, 1.5499000549316406, 1.680899977684021, 1.3319000005722046, 1.6339000463485718, 1.5988999605178833, 1.3559999465942383, 1.5780999660491943, 1.4110000133514404, 1.2331000566482544, 0.7925000190734863, 0.9520000219345093, 1.2197999954223633, 1.2242000102996826, 0.8810999989509583, 1.1094000339508057, 0.6743999719619751, 0.8966000080108643, 0.9316999912261963, 0.7041000127792358, -0.06589999794960022, 0.09309999644756317, 0.5843999981880188, 0.09730000048875809, 0.6769999861717224, 0.6050999760627747, -0.2948000133037567, 1.9878000020980835, 1.9743000268936157, 1.972000002861023, 1.9658000469207764, 1.9634000062942505, 1.9628000259399414, 1.9603999853134155, 1.9563000202178955, 1.9557000398635864, 1.9522000551223755, 1.9515999555587769, 1.9478000402450562, 1.9417999982833862, 1.9417999982833862, 1.9391000270843506, 1.9386999607086182, 1.9361000061035156, 1.9342000484466553, 1.9305000305175781, 1.924299955368042, 1.9242000579833984, 1.9214999675750732, 1.919600009918213, 1.9140000343322754, 1.9129999876022339, 1.9081000089645386, 1.9010000228881836, 1.899399995803833, 1.8971999883651733, 1.8944000005722046, 1.8768999576568604, 1.8905999660491943, 1.8740999698638916, 1.8681000471115112, 1.857200026512146, 1.8849999904632568, 1.809999942779541, 1.7527999877929688, 1.746899962425232, 1.7294000387191772, 1.789199948310852, 1.7800999879837036, 1.6819000244140625, 1.6680999994277954, 1.5994000434875488, 1.6186000108718872, 1.722599983215332, 1.4519000053405762, 1.3581000566482544, 1.4283000230789185, 1.5022000074386597, 1.6651999950408936, 1.0332000255584717, 1.031000018119812, 0.9514999985694885, 1.2382999658584595, 0.5978999733924866, 1.0677000284194946, 0.8776999711990356, 0.847100019454956, 0.9028000235557556, 1.3562999963760376, 0.2840000092983246, 2.0164999961853027, 2.0153000354766846, 2.00819993019104, 2.001300096511841, 1.9904999732971191, 1.9883999824523926, 1.9883999824523926, 1.986899971961975, 1.978600025177002, 1.976199984550476, 1.9754999876022339, 1.9749000072479248, 1.9722000360488892, 1.9637999534606934, 1.9622999429702759, 1.961300015449524, 1.9611999988555908, 1.9611999988555908, 1.9611999988555908, 1.9602999687194824, 1.9559999704360962, 1.9523999691009521, 1.9456000328063965, 1.9455000162124634, 1.9443000555038452, 1.9427000284194946, 1.9427000284194946, 1.9394999742507935, 1.9384000301361084, 1.9378000497817993, 1.9358999729156494, 1.908400058746338, 1.8795000314712524, 1.9223999977111816, 1.8466999530792236, 1.8005000352859497, 1.868299961090088, 1.8422000408172607, 1.802299976348877, 1.6830999851226807, 1.8095999956130981, 1.780500054359436, 1.8437000513076782, 1.687000036239624, 1.7264000177383423, 1.6605000495910645, 1.5332000255584717, 1.84089994430542, 1.7768000364303589, 1.7747999429702759, 1.3664000034332275, 1.6805000305175781, 0.821399986743927, 1.1110999584197998, 1.2853000164031982, 0.8662999868392944, 1.4356000423431396, 1.4775999784469604, 1.4407000541687012, 1.2992000579833984, 0.7063000202178955, 1.2309000492095947, 0.5692999958992004, 1.5029000043869019, 0.9739000201225281, 0.786300003528595, 0.3449999988079071, -0.10419999808073044, 0.4034000039100647, -0.4490000009536743, 0.36149999499320984, -0.18549999594688416, 2.1877999305725098, 2.1807000637054443, 2.174099922180176, 2.170099973678589, 2.1545000076293945, 2.1538000106811523, 2.1521999835968018, 2.150599956512451, 2.144700050354004, 2.143399953842163, 2.1433000564575195, 2.1308999061584473, 2.1308999061584473, 2.1301000118255615, 2.1280999183654785, 2.120800018310547, 2.1159000396728516, 2.1159000396728516, 2.1159000396728516, 2.1110000610351562, 2.1105000972747803, 2.1105000972747803, 2.108299970626831, 2.1064999103546143, 2.1064999103546143, 2.1064000129699707, 2.1003000736236572, 2.1003000736236572, 2.1001999378204346, 2.1001999378204346, 2.0996999740600586, 2.0343000888824463, 2.0285000801086426, 1.9580999612808228, 2.041599988937378, 2.038300037384033, 1.9890999794006348, 1.8128999471664429, 1.371999979019165, 1.8125, 1.8792999982833862, 1.3626999855041504, 1.8157999515533447, 1.5591000318527222, 1.8883999586105347, 1.8186999559402466, 1.7027000188827515, 1.2773000001907349, 1.0377000570297241, 0.9984999895095825, 1.749899983406067, 1.6579999923706055, 1.0292999744415283, 1.118899941444397, 1.1916999816894531, 1.450700044631958, 1.4984999895095825, 0.3377000093460083, 1.1035000085830688, 1.340000033378601, 0.36660000681877136, 0.17440000176429749, 1.2785999774932861, 1.159000039100647, 0.3555000126361847, 1.105299949645996, 0.18060000240802765, 1.2824000120162964, 0.8424000144004822, 0.7013999819755554, 0.024900000542402267, 0.2630999982357025, -0.33959999680519104, 0.9154999852180481, 0.2092999964952469, -0.06319999694824219, 0.5892999768257141, -0.7634000182151794, 2.5729000568389893, 2.5601000785827637, 2.5499000549316406, 2.5413999557495117, 2.5413999557495117, 2.5369999408721924, 2.533400058746338, 2.525399923324585, 2.524199962615967, 2.5199999809265137, 2.5174999237060547, 2.515899896621704, 2.515899896621704, 2.5055999755859375, 2.503999948501587, 2.503999948501587, 2.503999948501587, 2.5039000511169434, 2.4993999004364014, 2.498199939727783, 2.4976000785827637, 2.486799955368042, 2.4816999435424805, 2.478100061416626, 2.476300001144409, 2.470900058746338, 2.4667000770568848, 2.466099977493286, 2.465399980545044, 2.4602999687194824, 2.435800075531006, 2.4542999267578125, 2.404900074005127, 2.3515000343322754, 2.4131999015808105, 2.2207000255584717, 2.2876999378204346, 2.367300033569336, 2.033900022506714, 2.165600061416626, 2.2197000980377197, 1.9984999895095825, 2.284600019454956, 1.9200999736785889, 1.989799976348877, 1.8494999408721924, 1.5044000148773193, 1.9387999773025513, 1.307800054550171, 1.3461999893188477, 1.3952000141143799, 1.6397000551223755, 0.9218000173568726, 1.2742999792099, 0.32339999079704285, 1.3009999990463257, 1.7879999876022339, 0.9991000294685364, 2.7381999492645264, 2.7314999103546143, 2.7288999557495117, 2.7186999320983887, 2.7181999683380127, 2.696899890899658, 2.6786999702453613, 2.671299934387207, 2.6624999046325684, 2.6624999046325684, 2.6624999046325684, 2.662400007247925, 2.6607000827789307, 2.6545000076293945, 2.654099941253662, 2.652400016784668, 2.652400016784668, 2.652400016784668, 2.652400016784668, 2.652400016784668, 2.6414999961853027, 2.631200075149536, 2.6310999393463135, 2.6282999515533447, 2.6217000484466553, 2.6180999279022217, 2.614500045776367, 2.614500045776367, 2.614500045776367, 2.612600088119507, 2.5938000679016113, 2.587399959564209, 2.5292000770568848, 2.48009991645813, 2.530600070953369, 2.5167999267578125, 2.488600015640259, 2.149600028991699, 2.3480000495910645, 2.3382999897003174, 2.0039000511169434, 2.109499931335449, 2.053100109100342, 2.154599905014038, 2.1689999103546143, 1.621399998664856, 1.8588000535964966, 1.628499984741211, 2.430500030517578, 0.5336999893188477, 2.01200008392334, 1.90339994430542, 0.16279999911785126, 0.7109000086784363, 0.7221999764442444, 1.67739999294281, 0.6050999760627747, 0.6029000282287598, 1.7288999557495117, 1.5521999597549438, 0.5971999764442444, -0.16519999504089355, -0.5730000138282776, 2.790600061416626, 2.776900053024292, 2.7583000659942627, 2.7553999423980713, 2.7497000694274902, 2.7302000522613525, 2.727299928665161, 2.7219998836517334, 2.718400001525879, 2.7091000080108643, 2.7090001106262207, 2.691200017929077, 2.6893999576568604, 2.68530011177063, 2.6851999759674072, 2.6851999759674072, 2.682800054550171, 2.6814000606536865, 2.678100109100342, 2.6700000762939453, 2.6672000885009766, 2.6642000675201416, 2.6640000343322754, 2.6542000770568848, 2.6542000770568848, 2.6507999897003174, 2.6470999717712402, 2.6470999717712402, 2.6468000411987305, 2.6431000232696533, 2.627500057220459, 2.525899887084961, 2.619999885559082, 2.5374999046325684, 2.490000009536743, 2.453200101852417, 2.5197999477386475, 2.303299903869629, 2.2720999717712402, 2.21560001373291, 1.7324999570846558, 1.6096999645233154, 1.5499000549316406, 1.513700008392334, 2.073699951171875, 1.8487000465393066, 0.5309000015258789, 1.845900058746338, 1.7148000001907349, 1.1050000190734863, 0.3492000102996826, 0.9891999959945679, 0.03840000182390213, 1.6639000177383423, 1.323099970817566, 0.3427000045776367, 1.142899990081787, 0.18150000274181366, 0.3628999888896942, -0.4812999963760376, 0.48249998688697815, 1.462499976158142, 0.7990999817848206, 0.8047999739646912, 0.37310001254081726, 0.16339999437332153, 2.993499994277954, 2.9918999671936035, 2.990299940109253, 2.9779999256134033, 2.961400032043457, 2.9463999271392822, 2.9463999271392822, 2.944700002670288, 2.944700002670288, 2.9358999729156494, 2.931999921798706, 2.9319000244140625, 2.9319000244140625, 2.9298999309539795, 2.910599946975708, 2.901700019836426, 2.901700019836426, 2.8984999656677246, 2.898400068283081, 2.898400068283081, 2.898400068283081, 2.8982999324798584, 2.8980000019073486, 2.8951001167297363, 2.8880999088287354, 2.876199960708618, 2.8671000003814697, 2.867000102996826, 2.865600109100342, 2.840100049972534, 2.810699939727783, 2.6012001037597656, 2.717099905014038, 2.7218000888824463, 2.4611001014709473, 2.6979000568389893, 2.0171000957489014, 2.6847000122070312, 1.9129999876022339, 2.0536000728607178, 2.110100030899048, 2.2121999263763428, 2.4964001178741455, 2.251300096511841, 2.046299934387207, 1.6262999773025513, 0.7132999897003174, 0.34119999408721924, 0.9704999923706055, 1.7431999444961548, 1.9671000242233276, 1.7688000202178955, 1.9603999853134155, 1.1323000192642212, 2.0172998905181885, 1.4352999925613403, 1.0025999546051025, 1.9426000118255615, 0.9261999726295471, 0.6413999795913696, 0.2741999924182892, -0.7889999747276306, 0.48730000853538513, 0.04170000180602074, 3.043800115585327, 3.0174999237060547, 2.9883999824523926, 2.976799964904785, 2.9721999168395996, 2.969099998474121, 2.969099998474121, 2.9637999534606934, 2.9539999961853027, 2.9519999027252197, 2.9474000930786133, 2.942699909210205, 2.9347000122070312, 2.9346001148223877, 2.934499979019165, 2.919300079345703, 2.9191999435424805, 2.9191999435424805, 2.9191999435424805, 2.919100046157837, 2.9189999103546143, 2.9189999103546143, 2.9084999561309814, 2.9030001163482666, 2.9000000953674316, 2.895900011062622, 2.8866000175476074, 2.8866000175476074, 2.886399984359741, 2.885999917984009, 2.8721001148223877, 2.8150999546051025, 2.6796000003814697, 2.678100109100342, 2.826200008392334, 2.5815999507904053, 2.6558001041412354, 2.3201000690460205, 2.386699914932251, 2.6198999881744385, 2.0636000633239746, 2.460400104522705, 2.649600028991699, 2.506700038909912, 2.4839999675750732, 2.4251999855041504, 1.794100046157837, 1.5946999788284302, 2.356100082397461, 1.7928999662399292, 1.5216000080108643, 0.9114000201225281, 2.293100118637085, 0.42089998722076416, 0.4584999978542328, 0.022299999371170998, 1.0313999652862549, 2.2005999088287354, 1.9658000469207764, 0.12309999763965607, 1.8212000131607056, -0.3264999985694885, 0.4810999929904938, 0.6952000260353088, 0.8865000009536743, 1.7569999694824219, 1.1109999418258667, 1.0551999807357788, 0.2045000046491623, 0.4887999892234802, -0.6437000036239624], \"logprob\": [30.0, 29.0, 28.0, 27.0, 26.0, 25.0, 24.0, 23.0, 22.0, 21.0, 20.0, 19.0, 18.0, 17.0, 16.0, 15.0, 14.0, 13.0, 12.0, 11.0, 10.0, 9.0, 8.0, 7.0, 6.0, 5.0, 4.0, 3.0, 2.0, 1.0, -4.554800033569336, -6.401400089263916, -6.56879997253418, -6.606599807739258, -6.621200084686279, -6.629000186920166, -6.7530999183654785, -6.573999881744385, -6.8165998458862305, -6.835299968719482, -6.8649001121521, -6.904600143432617, -6.9359002113342285, -6.936600208282471, -7.001299858093262, -7.02400016784668, -7.0355000495910645, -7.036900043487549, -7.0605998039245605, -7.0721001625061035, -6.201700210571289, -7.159800052642822, -6.5706000328063965, -7.200500011444092, -7.130799770355225, -7.286200046539307, -7.286600112915039, -6.245699882507324, -7.316999912261963, -7.364200115203857, -6.3028998374938965, -4.309000015258789, -6.899199962615967, -6.0416998863220215, -3.6854000091552734, -5.698200225830078, -6.366799831390381, -6.320700168609619, -3.5541000366210938, -5.820799827575684, -5.1433000564575195, -5.841599941253662, -6.437399864196777, -4.958399772644043, -5.454899787902832, -6.291100025177002, -4.764900207519531, -5.555600166320801, -5.902299880981445, -4.854300022125244, -5.015100002288818, -5.378200054168701, -5.1468000411987305, -4.538899898529053, -5.721700191497803, -5.426199913024902, -5.475100040435791, -5.1585001945495605, -4.073400020599365, -4.984799861907959, -6.01140022277832, -4.49370002746582, -4.559199810028076, -4.265699863433838, -4.703800201416016, -5.0441999435424805, -5.035099983215332, -5.205999851226807, -4.9770002365112305, -5.159599781036377, -5.037799835205078, -5.466400146484375, -5.293099880218506, -5.410099983215332, -4.214399814605713, -5.248799800872803, -5.765500068664551, -5.595699787139893, -5.9959001541137695, -6.081900119781494, -4.342100143432617, -6.17609977722168, -6.249199867248535, -6.3119001388549805, -6.500999927520752, -6.726200103759766, -6.776599884033203, -6.793499946594238, -6.802299976348877, -6.820099830627441, -6.87529993057251, -6.91379976272583, -6.91379976272583, -6.964300155639648, -7.085299968719482, -7.110199928283691, -6.267300128936768, -7.249300003051758, -7.277200222015381, -7.277500152587891, -6.486199855804443, -7.366399765014648, -7.381800174713135, -6.851099967956543, -4.301400184631348, -5.378600120544434, -4.566299915313721, -4.846199989318848, -4.919600009918213, -4.760700225830078, -4.912700176239014, -5.341000080108643, -5.288000106811523, -4.983099937438965, -5.754799842834473, -3.9012999534606934, -5.208000183105469, -6.044600009918213, -4.221499919891357, -5.867400169372559, -5.711400032043457, -4.706500053405762, -5.679100036621094, -5.347599983215332, -4.9496002197265625, -4.07480001449585, -4.499300003051758, -5.064300060272217, -5.124000072479248, -4.787799835205078, -5.271599769592285, -4.940299987792969, -5.240300178527832, -5.2652997970581055, -5.146900177001953, -4.89900016784668, -4.9857001304626465, -5.157599925994873, -5.098299980163574, -5.201499938964844, -5.203400135040283, -5.117000102996826, -4.849699974060059, -5.681700229644775, -5.776000022888184, -5.991300106048584, -4.92710018157959, -6.079999923706055, -6.146100044250488, -6.251100063323975, -6.264999866485596, -5.547100067138672, -6.360599994659424, -6.440700054168701, -6.555500030517578, -6.555500030517578, -6.603600025177002, -3.8101999759674072, -6.654200077056885, -6.685800075531006, -6.639699935913086, -6.834799766540527, -6.835000038146973, -6.872900009155273, -6.898600101470947, -6.968800067901611, -4.621099948883057, -7.040500164031982, -7.119500160217285, -7.13640022277832, -6.558300018310547, -7.188300132751465, -4.303100109100342, -5.990900039672852, -5.45359992980957, -5.334799766540527, -5.283199787139893, -6.333499908447266, -5.238699913024902, -4.520100116729736, -4.632900238037109, -4.637899875640869, -5.395699977874756, -5.429299831390381, -4.704899787902832, -4.687399864196777, -4.7546000480651855, -4.968699932098389, -5.483399868011475, -4.392899990081787, -4.342899799346924, -4.768700122833252, -5.008299827575684, -5.454899787902832, -4.045400142669678, -4.236400127410889, -4.127200126647949, -4.909900188446045, -4.235099792480469, -4.802000045776367, -4.96589994430542, -5.086900234222412, -5.182700157165527, -5.373600006103516, -5.330699920654297, -4.154099941253662, -5.393099784851074, -5.725100040435791, -5.966100215911865, -6.2428998947143555, -6.309500217437744, -6.309599876403809, -6.3445000648498535, -6.51140022277832, -6.555099964141846, -6.5665998458862305, -6.577499866485596, -6.6244001388549805, -6.752299785614014, -6.778900146484375, -6.792900085449219, -6.793799877166748, -6.793900012969971, -6.793900012969971, -6.8069000244140625, -6.866600036621094, -6.914000034332275, -6.997099876403809, -6.997700214385986, -7.013299942016602, -7.031000137329102, -7.031300067901611, -7.067699909210205, -6.945400238037109, -7.086599826812744, -6.507599830627441, -6.049699783325195, -5.7692999839782715, -6.6128997802734375, -5.178100109100342, -4.538700103759766, -5.732800006866455, -5.660600185394287, -5.4644999504089355, -4.548500061035156, -5.632900238037109, -5.557700157165527, -6.007599830627441, -5.178500175476074, -5.428999900817871, -5.081099987030029, -4.577099800109863, -6.169400215148926, -5.923900127410889, -5.929299831390381, -5.199100017547607, -5.904399871826172, -4.374199867248535, -4.974400043487549, -5.326600074768066, -4.834700107574463, -5.643099784851074, -5.7154998779296875, -5.679500102996826, -5.583000183105469, -5.163400173187256, -5.566199779510498, -5.172699928283691, -5.759300231933594, -5.457399845123291, -5.44950008392334, -5.2718000411987305, -5.182799816131592, -5.440199851989746, -5.282100200653076, -5.457699775695801, -5.453000068664551, -6.00629997253418, -6.166500091552734, -6.29449987411499, -6.365300178527832, -6.603700160980225, -6.613800048828125, -6.635200023651123, -6.656300067901611, -6.163000106811523, -6.747600078582764, -6.748000144958496, -6.888599872589111, -6.888599872589111, -5.813300132751465, -6.916900157928467, -6.989799976348877, -7.036499977111816, -7.0366997718811035, -7.036900043487549, -6.375199794769287, -7.085400104522705, -7.085700035095215, -5.9243998527526855, -7.119999885559082, -7.12060022354126, -7.120999813079834, -7.172699928283691, -7.172999858856201, -7.173299789428711, -7.172999858856201, -5.860000133514404, -5.585599899291992, -6.140699863433838, -5.7164998054504395, -6.637199878692627, -6.614500045776367, -6.4847002029418945, -5.764900207519531, -4.181399822235107, -5.912099838256836, -6.195700168609619, -4.445799827575684, -6.006700038909912, -5.224400043487549, -6.276899814605713, -6.108500003814697, -5.842599868774414, -4.95550012588501, -4.631199836730957, -4.616199970245361, -6.017899990081787, -5.870100021362305, -4.886300086975098, -5.069799900054932, -5.219399929046631, -5.612400054931641, -5.703800201416016, -4.5295000076293945, -5.338799953460693, -5.596399784088135, -4.712200164794922, -4.647799968719482, -5.559299945831299, -5.4994001388549805, -4.935699939727783, -5.485199928283691, -5.015100002288818, -5.678699970245361, -5.505799770355225, -5.481299877166748, -5.274700164794922, -5.353700160980225, -5.39900016784668, -5.629300117492676, -5.532700061798096, -5.514500141143799, -5.634799957275391, -5.596499919891357, -3.933000087738037, -5.007199764251709, -5.451099872589111, -5.680500030517578, -5.681000232696533, -5.781099796295166, -5.8572998046875, -6.008900165557861, -6.029900074005127, -6.094799995422363, -6.139900207519531, -6.1641998291015625, -6.16480016708374, -5.738900184631348, -6.332099914550781, -6.332200050354004, -6.332200050354004, -6.3333001136779785, -6.390399932861328, -6.405600070953369, -5.544600009918213, -6.536300182342529, -6.589900016784668, -6.626800060272217, -6.645100116729736, -5.873899936676025, -4.813199996948242, -4.693900108337402, -6.7469000816345215, -6.791600227355957, -5.098199844360352, -6.296000003814697, -5.474299907684326, -4.7332000732421875, -5.956699848175049, -4.601799964904785, -5.1894001960754395, -5.795499801635742, -4.377200126647949, -5.015999794006348, -5.426199913024902, -4.7332000732421875, -5.689799785614014, -5.016300201416016, -5.18209981918335, -5.019599914550781, -4.648399829864502, -5.309000015258789, -4.511300086975098, -4.945300102233887, -5.082300186157227, -5.264100074768066, -4.820199966430664, -5.052999973297119, -4.736000061035156, -5.372399806976318, -5.56220006942749, -5.4822998046875, -5.3979997634887695, -5.559199810028076, -5.614200115203857, -5.809700012207031, -5.81820011138916, -6.134200096130371, -6.34660005569458, -6.4222002029418945, -6.505899906158447, -6.506100177764893, -6.506400108337402, -6.506700038909912, -6.522500038146973, -6.577400207519531, -6.076099872589111, -6.5954999923706055, -6.5954999923706055, -6.595600128173828, -6.595600128173828, -6.595600128173828, -5.33459997177124, -6.762400150299072, -6.762800216674805, -6.7835001945495605, -6.829999923706055, -6.854400157928467, -6.878499984741211, -6.878600120544434, -6.879000186920166, -6.007999897003174, -6.308000087738037, -6.493000030517578, -5.769800186157227, -5.222499847412109, -6.075300216674805, -5.993199825286865, -5.962600231170654, -4.3317999839782715, -5.317500114440918, -5.482399940490723, -4.863699913024902, -5.161799907684326, -5.093500137329102, -5.540999889373779, -5.710299968719482, -4.777100086212158, -5.2947001457214355, -5.337399959564209, -6.267899990081787, -4.545100212097168, -5.918300151824951, -5.839600086212158, -4.670300006866455, -5.132800102233887, -5.3632001876831055, -5.794400215148926, -5.450799942016602, -5.621099948883057, -5.8684000968933105, -5.852200031280518, -5.754300117492676, -5.779900074005127, -5.768599987030029, -4.727799892425537, -5.23330020904541, -5.670000076293945, -5.725299835205078, -5.819399833679199, -6.107699871063232, -6.144599914550781, -6.208000183105469, -6.248799800872803, -4.882400035858154, -6.349400043487549, -5.739699840545654, -6.534200191497803, -6.569699764251709, -6.569699764251709, -6.570199966430664, -6.589900016784668, -6.096199989318848, -6.628499984741211, -6.691400051116943, -6.712500095367432, -6.734399795532227, -6.735799789428711, -6.804800033569336, -6.805200099945068, -6.828199863433838, -6.852799892425537, -6.853000164031982, -6.854599952697754, -6.878900051116943, -6.4039998054504395, -4.804599761962891, -6.515200138092041, -5.852200031280518, -5.480899810791016, -5.382999897003174, -6.280099868774414, -5.623700141906738, -5.5706000328063965, -5.8470001220703125, -5.042200088500977, -5.392600059509277, -5.39139986038208, -5.378799915313721, -5.9552998542785645, -5.745299816131592, -4.547800064086914, -5.774700164794922, -5.765399932861328, -5.364200115203857, -4.941999912261963, -5.334400177001953, -4.78380012512207, -5.748000144958496, -5.632599830627441, -5.326099872589111, -5.588799953460693, -5.435299873352051, -5.4807000160217285, -5.3144001960754395, -5.52839994430542, -5.71750020980835, -5.639500141143799, -5.672599792480469, -5.69379997253418, -5.715099811553955, -5.589000225067139, -5.614799976348877, -5.64139986038208, -5.81689977645874, -6.017099857330322, -6.171599864959717, -6.171599864959717, -6.18720006942749, -6.187300205230713, -6.26800012588501, -6.301799774169922, -6.302299976348877, -6.302599906921387, -6.3190999031066895, -6.4710001945495605, -6.534599781036377, -6.534599781036377, -6.556600093841553, -6.557400226593018, -6.557600021362305, -6.557700157165527, -6.5578999519348145, -6.559800148010254, -6.579899787902832, -6.626299858093262, -6.7006001472473145, -6.754499912261963, -6.7546000480651855, -6.100800037384033, -6.901100158691406, -5.229599952697754, -4.3684000968933105, -5.779399871826172, -6.08489990234375, -5.127600193023682, -6.098700046539307, -4.51039981842041, -6.07480001449585, -4.96019983291626, -5.4070000648498535, -5.507999897003174, -5.666999816894531, -6.083799839019775, -5.824100017547607, -5.6350998878479, -5.233500003814697, -4.4822998046875, -4.737500190734863, -5.114200115203857, -5.607399940490723, -5.762800216674805, -5.686699867248535, -5.823400020599365, -5.566299915313721, -5.861999988555908, -5.689499855041504, -5.562900066375732, -5.856200218200684, -5.611199855804443, -5.547299861907959, -5.5767998695373535, -5.656199932098389, -5.772600173950195, -5.766900062561035, -5.099800109863281, -5.6118998527526855, -5.992800235748291, -6.112599849700928, -6.156599998474121, -6.185699939727783, -6.1859002113342285, -6.233099937438965, -6.31689977645874, -6.333099842071533, -6.369699954986572, -6.406199932098389, -6.464799880981445, -6.4653000831604, -6.466400146484375, -6.570899963378906, -6.571199893951416, -6.571300029754639, -6.571300029754639, -6.5721001625061035, -6.572400093078613, -6.572500228881836, -6.640200138092041, -5.566199779510498, -6.691299915313721, -6.715099811553955, -6.768599987030029, -6.768599987030029, -6.769499778747559, -6.7718000411987305, -6.317200183868408, -5.82919979095459, -5.744699954986572, -5.768400192260742, -6.480000019073486, -5.780799865722656, -6.022299766540527, -5.215400218963623, -5.421800136566162, -5.987199783325195, -4.926400184631348, -5.769599914550781, -6.09689998626709, -5.865799903869629, -5.8557000160217285, -5.807700157165527, -5.106100082397461, -4.995800018310547, -5.875800132751465, -5.533400058746338, -5.351600170135498, -4.939599990844727, -5.901299953460693, -4.774700164794922, -4.992800235748291, -4.844900131225586, -5.367099761962891, -5.861700057983398, -5.777299880981445, -5.168099880218506, -5.735899925231934, -5.14870023727417, -5.39739990234375, -5.493500232696533, -5.555699825286865, -5.759399890899658, -5.726900100708008, -5.7403998374938965, -5.711100101470947, -5.74399995803833, -5.722499847412109]}, \"token.table\": {\"Topic\": [1, 3, 10, 1, 10, 9, 7, 2, 3, 4, 5, 6, 7, 9, 10, 4, 5, 2, 4, 8, 9, 1, 2, 3, 4, 7, 8, 3, 7, 3, 5, 7, 10, 2, 6, 6, 7, 9, 1, 2, 3, 4, 5, 6, 7, 8, 9, 2, 5, 9, 2, 5, 6, 7, 9, 10, 5, 6, 4, 9, 4, 5, 7, 10, 5, 10, 1, 6, 9, 3, 5, 10, 1, 2, 5, 7, 8, 10, 1, 2, 3, 4, 5, 8, 9, 10, 1, 2, 4, 5, 8, 10, 4, 3, 4, 6, 10, 6, 9, 10, 5, 2, 3, 4, 6, 8, 1, 5, 6, 5, 7, 1, 4, 6, 9, 1, 2, 4, 5, 7, 8, 9, 10, 5, 8, 10, 2, 4, 5, 10, 5, 3, 4, 6, 8, 2, 3, 3, 6, 8, 3, 5, 4, 1, 2, 4, 5, 8, 10, 1, 3, 5, 7, 9, 10, 2, 5, 6, 7, 10, 2, 3, 4, 5, 9, 3, 4, 7, 8, 6, 1, 3, 4, 5, 6, 7, 8, 9, 10, 9, 2, 8, 10, 1, 10, 4, 2, 5, 9, 3, 6, 10, 2, 3, 4, 4, 7, 10, 1, 2, 3, 6, 7, 9, 10, 5, 6, 9, 4, 2, 2, 4, 3, 4, 5, 8, 4, 1, 3, 5, 9, 10, 8, 1, 5, 1, 2, 3, 5, 8, 9, 10, 1, 2, 5, 6, 7, 8, 10, 1, 3, 10, 10, 1, 2, 6, 7, 8, 9, 1, 5, 6, 10, 5, 2, 5, 2, 5, 1, 9, 7, 6, 10, 1, 2, 8, 10, 5, 8, 4, 7, 1, 7, 4, 5, 8, 9, 2, 3, 5, 1, 3, 4, 5, 9, 3, 7, 9, 10, 6, 1, 5, 7, 8, 2, 3, 4, 5, 7, 8, 1, 2, 5, 7, 8, 10, 4, 8, 7, 5, 1, 2, 3, 4, 5, 7, 9, 10, 5, 7, 5, 4, 7, 1, 2, 3, 4, 5, 6, 8, 10, 9, 1, 3, 4, 6, 7, 8, 1, 2, 3, 4, 5, 6, 9, 10, 3, 2, 5, 2, 1, 3, 5, 7, 9, 4, 7, 2, 6, 2, 3, 5, 7, 2, 3, 7, 9, 1, 2, 3, 4, 5, 8, 9, 10, 6, 7, 8, 9, 10, 4, 1, 1, 3, 4, 6, 8, 3, 9, 3, 7, 6, 1, 9, 1, 9, 10, 4, 2, 1, 2, 5, 10, 9, 3, 4, 8, 4, 6, 7, 2, 3, 4, 6, 8, 9, 5, 5, 10, 4, 7, 8, 1, 3, 5, 9, 10, 4, 2, 1, 9, 1, 2, 3, 5, 6, 3, 1, 2, 5, 6, 10, 2, 5, 6, 10, 10, 1, 5, 6, 1, 3, 4, 6, 8, 1, 2, 3, 4, 5, 7, 2, 3, 8, 4, 2, 10, 2, 2, 4, 6, 4, 1, 2, 3, 4, 6, 7, 4, 5, 7, 9, 1, 6, 6, 5, 3, 2, 3, 10, 2, 5, 10, 4, 7, 8, 3, 2, 3, 4, 7, 8, 9, 9, 1, 2, 5, 3, 3, 5, 7, 8, 9, 1, 2, 4, 5, 7, 10, 7, 9, 4, 7, 8, 9, 3, 1, 7, 4, 7, 9, 1, 2, 4, 6, 8, 10, 1, 3, 4, 1, 4, 1, 1, 3, 7, 1, 1, 2, 3, 5, 7, 8, 1, 8, 1, 10, 4, 8, 8, 2, 4, 1, 2, 3, 4, 5, 7, 8, 10, 5, 2, 4, 5, 7, 7, 1, 4, 7, 8, 2, 5, 3, 4, 5, 6, 8, 9, 1, 2, 5, 6, 10, 1, 2, 3, 4, 6, 7, 9, 8, 10, 1, 5, 10, 1, 8, 4, 5, 10, 5, 4, 10, 1, 2, 5, 6, 7, 8, 3, 2, 5, 10, 3, 4, 5, 7, 1, 3, 4, 6, 8, 1, 3, 6, 7, 5, 8, 1, 3, 5, 9, 4, 8, 2, 4, 7, 10, 2, 3, 4, 5, 6, 7, 9, 10, 1, 3, 1, 2, 3, 4, 5, 8, 7, 2, 10, 1, 3, 4, 5, 6, 8, 10, 1, 7, 10, 5, 9, 10, 1, 2, 5, 10, 1, 2, 8, 9, 9, 1, 3, 4, 5, 8, 8, 10, 5, 1, 10, 10, 8, 4, 8, 10, 4, 1, 3, 4, 5, 6, 7, 9, 2, 4, 7, 3, 4, 5, 8, 9, 1, 3, 4, 7, 3, 4, 3, 5, 6, 7, 10, 4, 7, 8, 2, 1, 4, 5, 6, 7, 8, 6, 3, 7, 4, 6, 6, 9, 7, 10, 5, 3, 4, 5, 7, 8, 10, 10, 8, 2, 3, 5, 1, 2, 3, 7, 10, 1, 2, 3, 5, 4, 9, 1, 2, 3, 4, 5, 8, 9, 10, 7, 3, 5, 7, 8, 1, 5, 5, 2, 1, 2, 8, 2, 4, 5, 7, 9, 1, 2, 3, 5, 8, 9, 1, 7, 10, 10, 1, 2, 3, 5, 6, 7, 9, 10, 1, 2, 3, 8, 10, 4, 9, 9, 3, 8, 1, 3, 4, 5, 6, 7, 8, 6, 1, 3, 7, 8, 3, 9, 3, 4, 10, 2, 4, 8, 10, 1, 2, 4, 9, 10, 2, 5, 6, 1, 6, 8, 10, 2, 3, 4, 10, 5, 7, 10, 6, 6, 8, 10, 1, 3, 4, 5, 8, 10, 1, 2, 3, 4, 6, 7, 8, 9, 10, 1, 4, 5, 6, 9, 7, 6, 9, 2, 3, 6, 8, 1, 2, 4, 5, 8, 10, 1, 3, 4, 5, 6, 8, 9, 2, 9, 1, 2, 3, 4, 5, 6, 7, 8, 10, 5, 4, 5, 6, 3, 4, 8, 10, 3, 2, 4, 6, 7, 2, 3, 6, 7, 8, 9, 2, 7, 3, 10, 9, 6, 2, 5, 5, 4, 6, 7, 10, 6, 8, 9, 3, 5, 10, 2, 5, 9, 10, 1, 2, 3, 4, 5, 6, 7, 8, 4, 1, 5, 6, 9, 10, 1, 2, 3, 4, 5, 9, 10, 2, 3, 4, 7, 1, 6, 5, 7, 9, 10, 10, 5, 6, 2, 2, 1, 3, 4, 6, 8, 5, 7, 10, 8, 2, 1, 2, 3, 4, 5, 8, 9, 2, 3, 4, 2, 3, 4, 7, 8, 2, 3, 4, 6, 7, 8, 2, 4, 8, 1, 2, 3, 4, 5, 7, 9, 1, 2, 1, 1, 4, 5, 7, 8, 10, 4, 2, 3, 4, 5, 7, 8, 9, 6, 10, 7, 1, 10, 9, 1, 2, 3, 4, 5, 2, 5, 9, 3, 5, 8, 9, 10, 2, 3, 7, 9, 1, 3, 4, 2, 3, 4, 5, 7, 2, 4, 5, 7, 9, 4, 6, 7, 9, 7, 1, 6, 9, 8, 9, 9, 10, 2, 4, 8, 9, 2, 3, 4, 7, 8, 3, 4, 5, 7, 1, 2, 3, 5, 8, 2, 4, 8, 1, 3, 5, 8, 3, 2, 7, 8, 1, 2, 3, 5, 7, 10, 9, 6, 1, 2, 8, 4, 1, 2, 7, 5, 2, 4, 5, 7, 1, 2, 5, 8, 9, 6, 2, 5, 8, 9, 10, 3, 2, 3, 5, 2, 3, 1, 3, 7, 8, 4, 8, 7, 8, 8, 1, 5, 10, 1, 2, 3, 4, 5, 6, 5, 7, 9, 9, 7, 10, 10, 9, 1, 4, 6, 7, 6, 9, 5, 1, 6, 8, 9, 5, 9, 2, 8, 10, 1, 4, 3, 3, 2, 3, 4, 5, 6, 10, 4, 6, 6, 8, 1, 10, 1, 8, 9, 3, 9, 10, 7, 3, 7, 8, 1, 3, 5, 6, 8, 9, 10, 1, 2, 3, 4, 5, 6, 7, 10, 1, 1, 2, 5, 6, 10, 2, 6, 7, 8, 2, 9, 1, 2, 3, 4, 5, 6, 9, 10, 1, 2, 9, 3, 3, 5, 5, 6, 7, 6, 4, 8, 1, 2, 3, 4, 5, 6, 8, 9, 10, 1, 4, 9, 1, 2, 3, 4, 6, 7, 8, 10, 8, 7, 8, 2, 3, 4, 9, 5, 10, 3, 5, 3, 10, 7, 1, 3, 5, 8, 10, 7, 8, 2, 5, 9, 1, 5, 9, 2, 5, 10, 2, 5, 1, 2, 5, 7, 9, 9, 1, 4, 7, 8, 9, 1, 1, 2, 3, 4, 5, 6, 7, 8, 9, 10, 8, 1, 2, 3, 5, 6, 8, 1, 2, 5, 9, 10, 2, 3, 4, 7, 8, 9, 2, 7, 1, 2, 3, 5, 6, 7, 4, 8, 4, 5, 6, 7, 1, 3, 10, 7, 8, 3, 3, 5, 5, 1, 6, 1, 2, 4, 5, 6, 7, 5, 6, 10, 1, 1, 10, 9, 10, 2, 3, 5, 9, 1, 2, 5, 8, 9, 10, 1, 4, 5, 6, 8, 9, 6, 7, 2, 9, 4, 7, 8, 1, 2, 3, 4, 5, 8, 10, 6, 4, 5, 6, 2, 3, 1, 4, 6, 2, 3, 8, 9, 8, 9, 9, 2, 3, 5, 10, 1, 2, 3, 4, 5, 8, 9, 10, 2, 3, 7, 1, 2, 3, 4, 5, 10, 1, 3, 4, 5, 6, 7, 8, 9, 10, 9, 8, 1, 2, 3, 4, 5, 6, 7, 8, 9, 10, 1, 2, 3, 4, 5, 6, 7, 8, 9, 10, 7, 2], \"Freq\": [0.06353022903203964, 0.19059069454669952, 0.6353023052215576, 0.9450321793556213, 0.9022462964057922, 0.8884021639823914, 0.9289474487304688, 0.14749476313591003, 0.0327766127884388, 0.21304799616336823, 0.07374738156795502, 0.0163883063942194, 0.3113778233528137, 0.08194153755903244, 0.1311064511537552, 0.8582770228385925, 0.11443693190813065, 0.0277438722550869, 0.4716458320617676, 0.1109754890203476, 0.388414204120636, 0.04854529723525047, 0.04161025583744049, 0.09709059447050095, 0.7073743343353271, 0.062415383756160736, 0.04854529723525047, 0.10015237331390381, 0.8012189865112305, 0.22837093472480774, 0.057092733681201935, 0.1712782084941864, 0.5709273219108582, 0.9849234819412231, 0.9765772819519043, 0.9757542610168457, 0.8436828255653381, 0.0843682810664177, 0.3650766909122467, 0.07744050770998001, 0.243384450674057, 0.011062929406762123, 0.011062929406762123, 0.022125858813524246, 0.022125858813524246, 0.11062929779291153, 0.14381809532642365, 0.4821680784225464, 0.04383346065878868, 0.4383346140384674, 0.03551596403121948, 0.19533781707286835, 0.5504974722862244, 0.05327394977211952, 0.14206385612487793, 0.01775798201560974, 0.04239925742149353, 0.9327836036682129, 0.18214154243469238, 0.7285661697387695, 0.32979816198349, 0.08994495123624802, 0.5396697521209717, 0.02998165227472782, 0.9246814846992493, 0.9029501080513, 0.17902274429798126, 0.7974649667739868, 0.03254958987236023, 0.19182103872299194, 0.7193288803100586, 0.047955259680747986, 0.6556239724159241, 0.11181183904409409, 0.12875302135944366, 0.008470593951642513, 0.0626823902130127, 0.032188255339860916, 0.38451945781707764, 0.14893358945846558, 0.11102321743965149, 0.043326135724782944, 0.15434935688972473, 0.08394438773393631, 0.02437095157802105, 0.05144978687167168, 0.3877248167991638, 0.39090287685394287, 0.009534216485917568, 0.10169830918312073, 0.034958794713020325, 0.0730956643819809, 0.9309659004211426, 0.17520570755004883, 0.05840190127491951, 0.11680380254983902, 0.5840190052986145, 0.8528872728347778, 0.2572344243526459, 0.6859584450721741, 0.9013490080833435, 0.11280231177806854, 0.12690259516239166, 0.3807078003883362, 0.0846017375588417, 0.28200578689575195, 0.2759205400943756, 0.2546958923339844, 0.44571781158447266, 0.940840482711792, 0.9652689099311829, 0.3831837475299835, 0.03831837698817253, 0.5172981023788452, 0.03831837698817253, 0.0066435993649065495, 0.35211077332496643, 0.03321799635887146, 0.3321799635887146, 0.013287198729813099, 0.08636679500341415, 0.08636679500341415, 0.09301039576530457, 0.2596452534198761, 0.5625647306442261, 0.17309683561325073, 0.24683727324008942, 0.049367453902959824, 0.1974698156118393, 0.4443070888519287, 0.8933115601539612, 0.06986997276544571, 0.7336347103118896, 0.17467492818832397, 0.017467493191361427, 0.0640987679362297, 0.8973827362060547, 0.7533355951309204, 0.14699231088161469, 0.09187019616365433, 0.07808181643486023, 0.8588999509811401, 0.8610387444496155, 0.25290995836257935, 0.13247664272785187, 0.06021665781736374, 0.5058199167251587, 0.04817332699894905, 0.012043331749737263, 0.1787240356206894, 0.1390075832605362, 0.3276607394218445, 0.0595746785402298, 0.0595746785402298, 0.2283696085214615, 0.2579617202281952, 0.5933119654655457, 0.07738851755857468, 0.02579617127776146, 0.02579617127776146, 0.7160668969154358, 0.03521640598773956, 0.058694008737802505, 0.07043281197547913, 0.11738801747560501, 0.6740777492523193, 0.24298150837421417, 0.04702867940068245, 0.0313524529337883, 0.9379223585128784, 0.026345333084464073, 0.07903599739074707, 0.039517998695373535, 0.21076266467571259, 0.026345333084464073, 0.06586333364248276, 0.026345333084464073, 0.3161439895629883, 0.21076266467571259, 0.8229569792747498, 0.9631842970848083, 0.1500793695449829, 0.7503968477249146, 0.3106353282928467, 0.6833977103233337, 0.9836529493331909, 0.9643084406852722, 0.9544114470481873, 0.8091722130775452, 0.9414742588996887, 0.021397141739726067, 0.03423542529344559, 0.7348799705505371, 0.21272841095924377, 0.038677893579006195, 0.930825412273407, 0.767419695854187, 0.16444708406925201, 0.1551375836133957, 0.12411005795001984, 0.09308254718780518, 0.12411005795001984, 0.18616509437561035, 0.34130266308784485, 0.03102751448750496, 0.1269618421792984, 0.0846412256360054, 0.7617710828781128, 0.8612495064735413, 0.9199132323265076, 0.9958375096321106, 0.915068507194519, 0.16737675666809082, 0.041844189167022705, 0.29290932416915894, 0.46028611063957214, 0.9595881700515747, 0.44338417053222656, 0.11823577433824539, 0.029558943584561348, 0.3547073304653168, 0.029558943584561348, 0.9271959662437439, 0.9096051454544067, 0.07276841253042221, 0.6396212577819824, 0.17241963744163513, 0.011123848147690296, 0.03337154537439346, 0.10011462867259979, 0.022247696295380592, 0.01668577268719673, 0.2959599792957306, 0.30284276604652405, 0.19271811842918396, 0.020648369565606117, 0.11700743436813354, 0.055062320083379745, 0.013765580020844936, 0.8340493440628052, 0.03706885874271393, 0.11120657622814178, 0.8142567276954651, 0.664615273475647, 0.1165991723537445, 0.02331983484327793, 0.05829958617687225, 0.06995950639247894, 0.06995950639247894, 0.9662508368492126, 0.1434999406337738, 0.8131663799285889, 0.047833316028118134, 0.9008185267448425, 0.8026997447013855, 0.19433782994747162, 0.5736767053604126, 0.42233866453170776, 0.61622154712677, 0.355512410402298, 0.9159607291221619, 0.9046145081520081, 0.8510516285896301, 0.24312898516654968, 0.10419813543558121, 0.5904561281204224, 0.06946542114019394, 0.9400002956390381, 0.055294137448072433, 0.3200342059135437, 0.6400684118270874, 0.9378986358642578, 0.8492497801780701, 0.9650641083717346, 0.6123080849647522, 0.29004067182540894, 0.06445348262786865, 0.41093647480010986, 0.5250855088233948, 0.05707450956106186, 0.5207042694091797, 0.042506471276283264, 0.021253235638141632, 0.3400517702102661, 0.07438632845878601, 0.294703871011734, 0.1964692622423172, 0.3274487555027008, 0.1637243777513504, 0.919721782207489, 0.6625219583511353, 0.23581290245056152, 0.04491674527525902, 0.04491674527525902, 0.8080373406410217, 0.009854113683104515, 0.01970822736620903, 0.05912468209862709, 0.05912468209862709, 0.03941645473241806, 0.24119128286838531, 0.51161789894104, 0.1315588802099228, 0.036544132977724075, 0.021926481276750565, 0.051161788403987885, 0.8158906102180481, 0.1483437418937683, 0.8359801173210144, 0.9634309411048889, 0.167349174618721, 0.167349174618721, 0.03937627747654915, 0.29778310656547546, 0.12797290086746216, 0.03445424139499664, 0.09597967565059662, 0.06890848278999329, 0.8920010924339294, 0.8192027807235718, 0.871076226234436, 0.7861761450767517, 0.21166281402111053, 0.3621223568916321, 0.06963891535997391, 0.06267502158880234, 0.2855195701122284, 0.06963891535997391, 0.10445837676525116, 0.020891675725579262, 0.013927782885730267, 0.9240222573280334, 0.07871495932340622, 0.06559579819440842, 0.3410981595516205, 0.4854089021682739, 0.026238318532705307, 0.013119159266352654, 0.3943823575973511, 0.07584276050329208, 0.05056184157729149, 0.07078658044338226, 0.30337104201316833, 0.025280920788645744, 0.025280920788645744, 0.05561802536249161, 0.9735134840011597, 0.9113770723342896, 0.0759480893611908, 0.9558325409889221, 0.022405873984098434, 0.4481174945831299, 0.11202937364578247, 0.29127636551856995, 0.11202937364578247, 0.938301682472229, 0.9153606295585632, 0.8139621615409851, 0.18088048696517944, 0.07238724082708359, 0.7801735997200012, 0.040215134620666504, 0.09651632606983185, 0.18437016010284424, 0.8112286925315857, 0.8316830992698669, 0.0756075531244278, 0.021233955398201942, 0.2548074424266815, 0.042467910796403885, 0.021233955398201942, 0.3185093104839325, 0.042467910796403885, 0.2760414183139801, 0.021233955398201942, 0.03948337584733963, 0.15793350338935852, 0.7107008099555969, 0.07896675169467926, 0.9022384881973267, 0.9514593482017517, 0.9593655467033386, 0.1313055157661438, 0.3103584945201874, 0.02387373149394989, 0.17905297875404358, 0.33423224091529846, 0.9650188684463501, 0.02680608071386814, 0.9794179201126099, 0.9157187938690186, 0.8907493948936462, 0.7538776993751526, 0.2339620441198349, 0.8180339932441711, 0.06135254725813866, 0.10225424915552139, 0.9288890957832336, 0.9043868184089661, 0.9337580800056458, 0.13057133555412292, 0.7834280133247375, 0.06528566777706146, 0.8228554129600525, 0.10735756903886795, 0.697824239730835, 0.16103635728359222, 0.17116142809391022, 0.6846457123756409, 0.11410762369632721, 0.13858328759670258, 0.034645821899175644, 0.6929163932800293, 0.08084024488925934, 0.034645821899175644, 0.011548606678843498, 0.9777846336364746, 0.8819824457168579, 0.08399832993745804, 0.9630751609802246, 0.8679320812225342, 0.8230563998222351, 0.9772067070007324, 0.9357165694236755, 0.8013505935668945, 0.08013506233692169, 0.08013506233692169, 0.9513435959815979, 0.9177154302597046, 0.8932369351387024, 0.8375310897827148, 0.10068301856517792, 0.388348788022995, 0.10068301856517792, 0.388348788022995, 0.9634565711021423, 0.9503014087677002, 0.10441172122955322, 0.05220586061477661, 0.26102930307388306, 0.28713223338127136, 0.28713223338127136, 0.3108530640602112, 0.18651182949543, 0.20723536610603333, 0.2694059908390045, 0.7983608245849609, 0.03586377575993538, 0.28691020607948303, 0.6634798645973206, 0.2173122763633728, 0.3959912657737732, 0.2656038999557495, 0.09175407141447067, 0.028974970802664757, 0.4480578899383545, 0.04120072349905968, 0.3141555190086365, 0.10300181061029434, 0.025750452652573586, 0.061801087111234665, 0.1119670495390892, 0.8825638294219971, 0.8240320086479187, 0.9253444671630859, 0.9045315384864807, 0.8532394170761108, 0.927630603313446, 0.9096502065658569, 0.9851880073547363, 0.013048848137259483, 0.9057977199554443, 0.10389264672994614, 0.19046984612941742, 0.03463088348507881, 0.17315441370010376, 0.017315441742539406, 0.4848323464393616, 0.20386260747909546, 0.10193130373954773, 0.6455649137496948, 0.033977098762989044, 0.10529018193483353, 0.8949665427207947, 0.9380518198013306, 0.8315152525901794, 0.9441814422607422, 0.9638280868530273, 0.006693250499665737, 0.02677300199866295, 0.8109444975852966, 0.11185441166162491, 0.07456961274147034, 0.07938050478696823, 0.8731855750083923, 0.9121545553207397, 0.9551824331283569, 0.1182970479130745, 0.5262178778648376, 0.310019850730896, 0.020396042615175247, 0.008158416487276554, 0.012237625196576118, 0.8703006505966187, 0.7379101514816284, 0.1419057995080948, 0.11352463811635971, 0.9553431868553162, 0.10659559816122055, 0.6662225127220154, 0.026648899540305138, 0.15989339351654053, 0.053297799080610275, 0.22555729746818542, 0.1754334568977356, 0.07518576830625534, 0.07518576830625534, 0.2004953771829605, 0.27568113803863525, 0.26712849736213684, 0.7346033453941345, 0.38042327761650085, 0.3532501757144928, 0.271730899810791, 0.8717017769813538, 0.916214108467102, 0.9187599420547485, 0.8495170474052429, 0.7759475111961365, 0.14680087566375732, 0.0629146620631218, 0.12578259408473969, 0.022869562730193138, 0.05717390403151512, 0.5603042840957642, 0.1829565018415451, 0.045739125460386276, 0.15685908496379852, 0.13071590662002563, 0.7058658599853516, 0.9141072630882263, 0.9181251525878906, 0.9170499444007874, 0.8857595920562744, 0.08052360266447067, 0.040261801332235336, 0.9438609480857849, 0.7545611262321472, 0.028654221445322037, 0.08596266061067581, 0.057308442890644073, 0.03820562735199928, 0.028654221445322037, 0.9668564200401306, 0.02723539248108864, 0.9318763613700867, 0.06656260043382645, 0.8867484331130981, 0.06333917379379272, 0.9107672572135925, 0.18622860312461853, 0.7914716005325317, 0.6175684332847595, 0.017644813284277916, 0.041171230375766754, 0.0529344379901886, 0.14704011380672455, 0.023526417091488838, 0.08822406828403473, 0.0058816042728722095, 0.9411056041717529, 0.9276418685913086, 0.8965462446212769, 0.0779605433344841, 0.8494961261749268, 0.9045969247817993, 0.6214430928230286, 0.057808659970760345, 0.3179476261138916, 0.8558515310287476, 0.7940713763237, 0.18150202929973602, 0.14322586357593536, 0.08951617032289505, 0.34016144275665283, 0.07161293178796768, 0.2506452798843384, 0.08951617032289505, 0.3124505877494812, 0.18747036159038544, 0.3888274133205414, 0.027773387730121613, 0.07637681066989899, 0.39929699897766113, 0.055531371384859085, 0.38078656792640686, 0.10841839760541916, 0.013221755623817444, 0.01851045712828636, 0.02115480788052082, 0.1299729347229004, 0.8448240756988525, 0.08008629828691483, 0.16017259657382965, 0.6406903862953186, 0.9464095234870911, 0.8555222749710083, 0.951442301273346, 0.9009503722190857, 0.9022954702377319, 0.8713150024414062, 0.4092980623245239, 0.5116226077079773, 0.5930532813072205, 0.04561948403716087, 0.13685844838619232, 0.030412988737225533, 0.03801623731851578, 0.1596681922674179, 0.9022473096847534, 0.41003894805908203, 0.10250973701477051, 0.4612938165664673, 0.1516362726688385, 0.11372719705104828, 0.2653634548187256, 0.4549087882041931, 0.07289554923772812, 0.7289555072784424, 0.12959209084510803, 0.04049752652645111, 0.016199011355638504, 0.9635657072067261, 0.03602622076869011, 0.8286030888557434, 0.10807865858078003, 0.3778671622276306, 0.6045874357223511, 0.9713305830955505, 0.8792765140533447, 0.09159130603075027, 0.018318260088562965, 0.9390646815299988, 0.8076330423355103, 0.872618556022644, 0.005817457102239132, 0.11634914577007294, 0.8241593837738037, 0.2956432104110718, 0.179631307721138, 0.08233101665973663, 0.2919008731842041, 0.03368087112903595, 0.052392467856407166, 0.026196233928203583, 0.029938552528619766, 0.9292945265769958, 0.0489102378487587, 0.06279834359884262, 0.10204730927944183, 0.722180962562561, 0.047098759561777115, 0.047098759561777115, 0.023549379780888557, 0.9332221150398254, 0.9720765352249146, 0.9396786689758301, 0.45104020833969116, 0.23161523044109344, 0.024380551651120186, 0.06095137819647789, 0.012190275825560093, 0.09752220660448074, 0.1340930312871933, 0.8041650652885437, 0.061858851462602615, 0.10309808701276779, 0.8338729739189148, 0.05559153109788895, 0.1111830621957779, 0.938336193561554, 0.07808084785938263, 0.8588892817497253, 0.07808084785938263, 0.02901066280901432, 0.26109597086906433, 0.07252665609121323, 0.638234555721283, 0.8379352688789368, 0.6819827556610107, 0.02199944294989109, 0.1099972128868103, 0.03299916535615921, 0.1429963856935501, 0.1548442840576172, 0.7742214202880859, 0.8319355249404907, 0.8948631882667542, 0.9385217428207397, 0.9019871950149536, 0.9008501172065735, 0.9666891098022461, 0.9855549931526184, 0.8674190044403076, 0.975362241268158, 0.2709692716598511, 0.10161348432302475, 0.3471793830394745, 0.13548463582992554, 0.025403371080756187, 0.08467789739370346, 0.033871158957481384, 0.785361647605896, 0.19263587892055511, 0.014818144030869007, 0.682944655418396, 0.20785273611545563, 0.029693247750401497, 0.019795497879385948, 0.039590995758771896, 0.036278050392866135, 0.18139024078845978, 0.5804488062858582, 0.18139024078845978, 0.1952572613954544, 0.8005547523498535, 0.9914129376411438, 0.18863354623317719, 0.0628778487443924, 0.40870603919029236, 0.31438925862312317, 0.9505417346954346, 0.18006360530853271, 0.7802755832672119, 0.9817295074462891, 0.1618097424507141, 0.28047022223472595, 0.14023511111736298, 0.28047022223472595, 0.08629853278398514, 0.04314926639199257, 0.9380635619163513, 0.9026584625244141, 0.07221267372369766, 0.057384639978408813, 0.918154239654541, 0.9343178272247314, 0.05190654844045639, 0.1335185468196869, 0.8011113405227661, 0.910964846611023, 0.15214186906814575, 0.07607093453407288, 0.5578535199165344, 0.07607093453407288, 0.10142791271209717, 0.025356978178024292, 0.8816343545913696, 0.9370973706245422, 0.622596025466919, 0.16445931792259216, 0.21144770085811615, 0.01339811086654663, 0.381846159696579, 0.5627206563949585, 0.020097166299819946, 0.01339811086654663, 0.8500115275382996, 0.0340004600584507, 0.0340004600584507, 0.0680009201169014, 0.9086871147155762, 0.871472179889679, 0.163539320230484, 0.2771083116531372, 0.0227137953042984, 0.004542759153991938, 0.4179338216781616, 0.02725655399262905, 0.0499703511595726, 0.0363420732319355, 0.8495094180107117, 0.97584468126297, 0.06383012980222702, 0.7659615874290466, 0.12766025960445404, 0.9552136063575745, 0.9378166198730469, 0.9012922048568726, 0.9435938000679016, 0.12356556206941605, 0.8031761646270752, 0.06178278103470802, 0.029053037986159325, 0.513270378112793, 0.2324243038892746, 0.09684346616268158, 0.12589649856090546, 0.18566596508026123, 0.36343124508857727, 0.023702038452029228, 0.3041761517524719, 0.08295713365077972, 0.03555305674672127, 0.8525843620300293, 0.07104869186878204, 0.03552434593439102, 0.8237890005111694, 0.16947981715202332, 0.2636352777481079, 0.08473990857601166, 0.2353886365890503, 0.01883109100162983, 0.047077726572752, 0.12240208685398102, 0.05649327114224434, 0.12978552281856537, 0.21630920469760895, 0.12978552281856537, 0.12978552281856537, 0.4326184093952179, 0.8854115009307861, 0.8709455728530884, 0.9694105982780457, 0.9797937870025635, 0.8554869294166565, 0.12172356992959976, 0.16229809820652008, 0.4767506420612335, 0.02028726227581501, 0.11157993972301483, 0.1014363095164299, 0.8919146060943604, 0.858981192111969, 0.13729071617126465, 0.31380733847618103, 0.5099369287490845, 0.019612958654761314, 0.9495755434036255, 0.8703006505966187, 0.07006515562534332, 0.8407818675041199, 0.07006515562534332, 0.8701550960540771, 0.11943305283784866, 0.8743253350257874, 0.9103119373321533, 0.1532636284828186, 0.2043514996767044, 0.1532636284828186, 0.02554393745958805, 0.4597908854484558, 0.31237348914146423, 0.28521057963371277, 0.393862247467041, 0.037566717714071274, 0.7012453675270081, 0.13774462044239044, 0.12522238492965698, 0.33177873492240906, 0.4657663106918335, 0.17865009605884552, 0.01914108172059059, 0.9218807816505432, 0.0384116992354393, 0.0384116992354393, 0.9641711115837097, 0.949837863445282, 0.829023003578186, 0.8797633051872253, 0.5399950742721558, 0.03749965876340866, 0.18374831974506378, 0.13874873518943787, 0.0712493509054184, 0.022499794140458107, 0.11291731148958206, 0.03763910382986069, 0.3246372640132904, 0.19760529696941376, 0.07527820765972137, 0.12703198194503784, 0.0846879854798317, 0.014114663936197758, 0.023524440824985504, 0.41969650983810425, 0.19144050776958466, 0.09572025388479233, 0.2871607542037964, 0.8546562194824219, 0.8188642859458923, 0.8672017455101013, 0.12752966582775116, 0.11803475022315979, 0.725070595741272, 0.10117264091968536, 0.033724214881658554, 0.07027403265237808, 0.585616946220398, 0.16982892155647278, 0.07027403265237808, 0.040993187576532364, 0.058561693876981735, 0.07975021004676819, 0.1860838234424591, 0.4785012900829315, 0.13291701674461365, 0.039875105023384094, 0.02658340334892273, 0.05316680669784546, 0.9544951319694519, 0.8546722531318665, 0.3254071772098541, 0.14215156435966492, 0.2466243952512741, 0.08392079919576645, 0.04966741427779198, 0.03596605733036995, 0.07364478707313538, 0.03767872601747513, 0.006850677542388439, 0.9720792770385742, 0.0663871318101883, 0.35683080554008484, 0.5808873772621155, 0.31101030111312866, 0.5831443071365356, 0.07775257527828217, 0.01943814381957054, 0.9601842164993286, 0.9273285865783691, 0.8277682662010193, 0.15329042077064514, 0.01532904151827097, 0.03486666828393936, 0.06973333656787872, 0.12203334271907806, 0.40096667408943176, 0.22663334012031555, 0.13946667313575745, 0.9715633392333984, 0.9155155420303345, 0.8995441198348999, 0.7650113701820374, 0.8504319190979004, 0.9020182490348816, 0.7208607792854309, 0.26558029651641846, 0.8712354302406311, 0.03962195664644241, 0.7528172135353088, 0.15848782658576965, 0.03962195664644241, 0.9629539251327515, 0.8854195475578308, 0.12648850679397583, 0.22677265107631683, 0.6803179383277893, 0.07559087872505188, 0.343312531709671, 0.3814583718776703, 0.12715280055999756, 0.13986808061599731, 0.32412418723106384, 0.008529583923518658, 0.127943754196167, 0.2644171118736267, 0.06823667138814926, 0.05970708653330803, 0.008529583923518658, 0.13647334277629852, 0.9680389761924744, 0.8615452647209167, 0.08520776778459549, 0.02366882562637329, 0.02840259112417698, 0.9031088948249817, 0.4075860381126404, 0.3331572711467743, 0.0248095840215683, 0.01594901829957962, 0.15062962472438812, 0.021265357732772827, 0.046074941754341125, 0.08672460913658142, 0.7805214524269104, 0.09395165741443634, 0.028908202424645424, 0.9564107060432434, 0.9612890481948853, 0.07459551841020584, 0.14919103682041168, 0.14919103682041168, 0.5967641472816467, 0.9030627012252808, 0.08608117699623108, 0.8608117699623108, 0.9837462306022644, 0.941046416759491, 0.0463373027741909, 0.0386144183576107, 0.7954570651054382, 0.0695059597492218, 0.0463373027741909, 0.9742000699043274, 0.8494911193847656, 0.9417890310287476, 0.9623665809631348, 0.8837898373603821, 0.5508155822753906, 0.11375539004802704, 0.03592275455594063, 0.07184550911188126, 0.04789700731635094, 0.04789700731635094, 0.12572963535785675, 0.8891618847846985, 0.9345764517784119, 0.9898427724838257, 0.08599399775266647, 0.20270013809204102, 0.608100414276123, 0.012284856289625168, 0.08599399775266647, 0.11984001100063324, 0.33555200695991516, 0.3954720199108124, 0.0059920004568994045, 0.12583200633525848, 0.011984000913798809, 0.10910956561565399, 0.8455991744995117, 0.027277391403913498, 0.03235550597310066, 0.0808887705206871, 0.14559978246688843, 0.5500436425209045, 0.06471101194620132, 0.09706652164459229, 0.04853326082229614, 0.7280021905899048, 0.24818256497383118, 0.9737290740013123, 0.03930024430155754, 0.2751017212867737, 0.18340113759040833, 0.458502858877182, 0.013100081123411655, 0.02620016224682331, 0.9531590342521667, 0.06715063005685806, 0.38947364687919617, 0.013430126011371613, 0.08058075606822968, 0.12087113410234451, 0.26860252022743225, 0.04029037803411484, 0.9389298558235168, 0.9028602838516235, 0.886177659034729, 0.9095430374145508, 0.06996484845876694, 0.8651922941207886, 0.015700623393058777, 0.04710186645388603, 0.8321329951286316, 0.09420373290777206, 0.8917539119720459, 0.13143832981586456, 0.7010044455528259, 0.13143832981586456, 0.9092814922332764, 0.6481316089630127, 0.06172682344913483, 0.09259023517370224, 0.18518047034740448, 0.05057285353541374, 0.9103113412857056, 0.05057285353541374, 0.8825209736824036, 0.14392249286174774, 0.8095640540122986, 0.035980623215436935, 0.10986330360174179, 0.2929688096046448, 0.45166024565696716, 0.0732422024011612, 0.048828136175870895, 0.40088048577308655, 0.21442444622516632, 0.009322802536189556, 0.018645605072379112, 0.354266494512558, 0.8903648257255554, 0.07205350697040558, 0.5404013395309448, 0.3602675497531891, 0.9739206433296204, 0.16868756711483002, 0.7470449209213257, 0.0722946748137474, 0.9336249828338623, 0.9461756348609924, 0.412988543510437, 0.5899836421012878, 0.18011373281478882, 0.3242047131061554, 0.036022745072841644, 0.43227294087409973, 0.09030371159315109, 0.2934870719909668, 0.22575928270816803, 0.06772778183221817, 0.3160629868507385, 0.18549256026744843, 0.5564776659011841, 0.11804071813821793, 0.134903684258461, 0.3518076539039612, 0.4045788049697876, 0.04397595673799515, 0.008795191533863544, 0.18469901382923126, 0.9063416719436646, 0.0533142164349556, 0.9310757517814636, 0.41724833846092224, 0.02781655639410019, 0.16689933836460114, 0.38943177461624146, 0.9535699486732483, 0.9119923710823059, 0.7450650334358215, 0.14901301264762878, 0.12468019127845764, 0.5143057703971863, 0.07792512327432632, 0.24936038255691528, 0.023377535864710808, 0.007792511954903603, 0.8716254830360413, 0.9647092819213867, 0.9431002140045166, 0.08105217665433884, 0.891573965549469, 0.9395711421966553, 0.8644874095916748, 0.10806092619895935, 0.027015231549739838, 0.8639629483222961, 0.2396705001592636, 0.1917364001274109, 0.21570345759391785, 0.33553871512413025, 0.5436389446258545, 0.07153144478797913, 0.05722515657544136, 0.22890062630176544, 0.08583772927522659, 0.94134920835495, 0.7546473741531372, 0.06118762493133545, 0.06118762493133545, 0.1223752498626709, 0.8458167910575867, 0.9445759057998657, 0.18331609666347504, 0.6049430966377258, 0.20164771378040314, 0.23033978044986725, 0.7625041007995605, 0.08323673158884048, 0.08323673158884048, 0.06242755055427551, 0.7491306066513062, 0.06254321336746216, 0.8756049871444702, 0.9784620404243469, 0.9357553720474243, 0.7929799556732178, 0.7815778851509094, 0.09473671764135361, 0.09473671764135361, 0.12325966358184814, 0.2720213234424591, 0.05100400000810623, 0.22951799631118774, 0.13176032900810242, 0.19126500189304352, 0.37714773416519165, 0.05387824773788452, 0.5387824773788452, 0.9174014925956726, 0.7446116209030151, 0.20307590067386627, 0.8692014217376709, 0.8718925714492798, 0.9601320028305054, 0.8213492035865784, 0.1232023760676384, 0.0410674586892128, 0.2704801857471466, 0.7212805151939392, 0.9011163115501404, 0.09045768529176712, 0.09045768529176712, 0.723661482334137, 0.09045768529176712, 0.1068519800901413, 0.8548158407211304, 0.4363473057746887, 0.033565178513526917, 0.5034776329994202, 0.8622674345970154, 0.11246966570615768, 0.9212700128555298, 0.884518563747406, 0.45896631479263306, 0.16104081273078918, 0.2657173275947571, 0.09662448614835739, 0.008052040822803974, 0.008052040822803974, 0.9624996781349182, 0.9031952023506165, 0.9853945374488831, 0.9794052839279175, 0.9183430075645447, 0.03401270508766174, 0.6131125092506409, 0.0943249985575676, 0.2829749882221222, 0.9196768403053284, 0.037537831813097, 0.028153372928500175, 0.9066163897514343, 0.8603584170341492, 0.12045017629861832, 0.9396328330039978, 0.6420771479606628, 0.12128123641014099, 0.07134190201759338, 0.04280514270067215, 0.007134190294891596, 0.07847609370946884, 0.04280514270067215, 0.27546414732933044, 0.09182138741016388, 0.06427497416734695, 0.18823383748531342, 0.07804817706346512, 0.2800552248954773, 0.013773208484053612, 0.009182138368487358, 0.8935367465019226, 0.9640843868255615, 0.20137092471122742, 0.4759676456451416, 0.20137092471122742, 0.10983868688344955, 0.8920467495918274, 0.8903205990791321, 0.019784903153777122, 0.07913961261510849, 0.9119759798049927, 0.04342742636799812, 0.64129239320755, 0.048705752938985825, 0.07305862754583359, 0.09741150587797165, 0.00811762548983097, 0.06494100391864777, 0.00811762548983097, 0.06494100391864777, 0.788019061088562, 0.12778687477111816, 0.08519124984741211, 0.9630811810493469, 0.8923413157463074, 0.10376061499118805, 0.16344410181045532, 0.08172205090522766, 0.7354984879493713, 0.971060037612915, 0.9025282859802246, 0.06942525506019592, 0.08769305050373077, 0.29718202352523804, 0.09743672609329224, 0.13153958320617676, 0.11692406982183456, 0.08282122015953064, 0.07307754456996918, 0.038974691182374954, 0.07307754456996918, 0.06027102470397949, 0.7835233211517334, 0.15067756175994873, 0.07818097621202469, 0.3752686679363251, 0.11727146059274673, 0.2032705396413803, 0.015636194497346878, 0.10945336520671844, 0.07818097621202469, 0.007818097248673439, 0.8708009719848633, 0.11403226852416992, 0.7982258796691895, 0.2590750455856323, 0.5793859958648682, 0.15544502437114716, 0.8825893998146057, 0.8184232711791992, 0.14442762732505798, 0.5256267786026001, 0.46191442012786865, 0.9357592463493347, 0.9031473994255066, 0.9049490094184875, 0.2847754955291748, 0.25479912757873535, 0.08992910385131836, 0.29976367950439453, 0.059952735900878906, 0.9782630801200867, 0.8745766282081604, 0.07261396944522858, 0.3630698621273041, 0.5809117555618286, 0.06610287725925446, 0.8593373894691467, 0.8732162714004517, 0.5413463711738586, 0.17593756318092346, 0.2706731855869293, 0.765282154083252, 0.19749216735363007, 0.1863582879304886, 0.30494990944862366, 0.23718327283859253, 0.0847083106637001, 0.20329995453357697, 0.7868531346321106, 0.32501572370529175, 0.21667714416980743, 0.05416928604245186, 0.3791849911212921, 0.02708464302122593, 0.9312461018562317, 0.3578763008117676, 0.1731659471988678, 0.1731659471988678, 0.10774770379066467, 0.10389956831932068, 0.007696264423429966, 0.015392528846859932, 0.023088792338967323, 0.026936925947666168, 0.007696264423429966, 0.9203457236289978, 0.4595533013343811, 0.24840718507766724, 0.14904430508613586, 0.043471258133649826, 0.012420359067618847, 0.0807323306798935, 0.4170854091644287, 0.3033348321914673, 0.09953174740076065, 0.06161488965153694, 0.11375056952238083, 0.02417134866118431, 0.2175421267747879, 0.14502808451652527, 0.09668539464473724, 0.33839887380599976, 0.16919943690299988, 0.9413058161735535, 0.9730183482170105, 0.11574114859104156, 0.02670949697494507, 0.09793481975793839, 0.02670949697494507, 0.20477280020713806, 0.5341899394989014, 0.27606913447380066, 0.6901728510856628, 0.1361495703458786, 0.6467104554176331, 0.17018696665763855, 0.8339820504188538, 0.9313753247261047, 0.9591251015663147, 0.8516768217086792, 0.83821702003479, 0.11974529176950455, 0.9067002534866333, 0.9608194828033447, 0.024636397138237953, 0.8714967966079712, 0.724977433681488, 0.26709696650505066, 0.3589053153991699, 0.03845414146780968, 0.16022558510303497, 0.0512721873819828, 0.33967822790145874, 0.0512721873819828, 0.8322390913963318, 0.9564241170883179, 0.9153688549995422, 0.9599589109420776, 0.4617566168308258, 0.5130628943443298, 0.9000821709632874, 0.8248745203018188, 0.08807302266359329, 0.11743069440126419, 0.7632995247840881, 0.838104248046875, 0.22258387506008148, 0.3253149092197418, 0.3253149092197418, 0.008560918271541595, 0.008560918271541595, 0.11129193753004074, 0.2571699023246765, 0.07981134206056595, 0.16849061846733093, 0.3015095293521881, 0.13301891088485718, 0.05320756509900093, 0.8732637166976929, 0.8495234251022339, 0.2606150805950165, 0.6949735283851624, 0.2415396124124527, 0.7548112869262695, 0.9109613299369812, 0.15771345794200897, 0.3722037672996521, 0.25234153866767883, 0.012617076747119427, 0.13878785073757172, 0.006308538373559713, 0.05677684769034386, 0.9495616555213928, 0.07016104459762573, 0.40693405270576477, 0.5191917419433594, 0.8510789275169373, 0.14061303436756134, 0.05883970856666565, 0.05883970856666565, 0.8237559199333191, 0.43215858936309814, 0.03324297070503235, 0.1994578093290329, 0.3324297070503235, 0.8846449255943298, 0.08846449106931686, 0.6956416964530945, 0.3108866512775421, 0.05921650305390358, 0.25167015194892883, 0.3552990257740021, 0.13106772303581238, 0.6116493940353394, 0.013652888126671314, 0.06007270887494087, 0.10922310501337051, 0.02457519993185997, 0.02457519993185997, 0.02457519993185997, 0.7601442337036133, 0.20361006259918213, 0.027148008346557617, 0.09245529770851135, 0.521712064743042, 0.05283159762620926, 0.1122671440243721, 0.21793034672737122, 0.006603949703276157, 0.728044867515564, 0.0021476249676197767, 0.025771498680114746, 0.07731449604034424, 0.10523362457752228, 0.01932862401008606, 0.01932862401008606, 0.012885749340057373, 0.010738125070929527, 0.9483626484870911, 0.8748556971549988, 0.0394137017428875, 0.16641341149806976, 0.3503440320491791, 0.05693090334534645, 0.15546515583992004, 0.01532755047082901, 0.10510320216417313, 0.021896502003073692, 0.06568950414657593, 0.024086151272058487, 0.19265654683113098, 0.11603178828954697, 0.38093453645706177, 0.11822106689214706, 0.030649906024336815, 0.024082068353891373, 0.024082068353891373, 0.10289610922336578, 0.013135673478245735, 0.8510602116584778, 0.9046115279197693, 0.8950101733207703], \"Term\": [\"abuse\", \"abuse\", \"abuse\", \"accountable\", \"achievable\", \"achievements\", \"acres\", \"act\", \"act\", \"act\", \"act\", \"act\", \"act\", \"act\", \"act\", \"actions\", \"actions\", \"address\", \"address\", \"address\", \"address\", \"administration\", \"administration\", \"administration\", \"administration\", \"administration\", \"administration\", \"adopted\", \"adopted\", \"afford\", \"afford\", \"afford\", \"afford\", \"affordable\", \"afghanistan\", \"africa\", \"aging\", \"aging\", \"ago\", \"ago\", \"ago\", \"ago\", \"ago\", \"ago\", \"ago\", \"ago\", \"ago\", \"agree\", \"agree\", \"agree\", \"agreement\", \"agreement\", \"agreement\", \"agreement\", \"agreement\", \"agreement\", \"agreements\", \"agreements\", \"agriculture\", \"agriculture\", \"air\", \"air\", \"air\", \"air\", \"aisle\", \"aliens\", \"allies\", \"allies\", \"allies\", \"amendment\", \"amendment\", \"amendment\", \"america\", \"america\", \"america\", \"america\", \"america\", \"america\", \"american\", \"american\", \"american\", \"american\", \"american\", \"american\", \"american\", \"american\", \"americans\", \"americans\", \"americans\", \"americans\", \"americans\", \"americans\", \"announce\", \"answer\", \"answer\", \"answer\", \"answer\", \"answered\", \"applaud\", \"applaud\", \"approve\", \"areas\", \"areas\", \"areas\", \"areas\", \"areas\", \"arms\", \"arms\", \"arms\", \"arsenals\", \"arts\", \"asia\", \"asia\", \"asia\", \"asia\", \"ask\", \"ask\", \"ask\", \"ask\", \"ask\", \"ask\", \"ask\", \"ask\", \"asked\", \"asked\", \"asked\", \"asking\", \"asking\", \"asking\", \"asking\", \"assault\", \"assistance\", \"assistance\", \"assistance\", \"assistance\", \"average\", \"average\", \"balanced\", \"balanced\", \"balanced\", \"ban\", \"ban\", \"barrels\", \"believe\", \"believe\", \"believe\", \"believe\", \"believe\", \"believe\", \"best\", \"best\", \"best\", \"best\", \"best\", \"best\", \"big\", \"big\", \"big\", \"big\", \"big\", \"bill\", \"bill\", \"bill\", \"bill\", \"bill\", \"billion\", \"billion\", \"billion\", \"billion\", \"biological\", \"bipartisan\", \"bipartisan\", \"bipartisan\", \"bipartisan\", \"bipartisan\", \"bipartisan\", \"bipartisan\", \"bipartisan\", \"bipartisan\", \"bit\", \"bless\", \"border\", \"border\", \"borders\", \"borders\", \"bosnia\", \"brady\", \"bridge\", \"broadcast\", \"budget\", \"budget\", \"budget\", \"businesses\", \"businesses\", \"businesses\", \"buying\", \"california\", \"california\", \"called\", \"called\", \"called\", \"called\", \"called\", \"called\", \"called\", \"campaign\", \"campaign\", \"campaign\", \"canal\", \"cancer\", \"care\", \"carefully\", \"carry\", \"carry\", \"carry\", \"carry\", \"cars\", \"cause\", \"cause\", \"cause\", \"cause\", \"cause\", \"celebrate\", \"central\", \"central\", \"century\", \"century\", \"century\", \"century\", \"century\", \"century\", \"century\", \"challenge\", \"challenge\", \"challenge\", \"challenge\", \"challenge\", \"challenge\", \"challenge\", \"challenges\", \"challenges\", \"challenges\", \"chances\", \"change\", \"change\", \"change\", \"change\", \"change\", \"change\", \"checks\", \"chemical\", \"chemical\", \"chemical\", \"chicago\", \"child\", \"child\", \"children\", \"children\", \"china\", \"china\", \"chip\", \"cigarettes\", \"circle\", \"cities\", \"cities\", \"cities\", \"cities\", \"classroom\", \"classroom\", \"clean\", \"clean\", \"cleaner\", \"climate\", \"coal\", \"cold\", \"cold\", \"cold\", \"college\", \"college\", \"college\", \"come\", \"come\", \"come\", \"come\", \"come\", \"commission\", \"commission\", \"commission\", \"commission\", \"commit\", \"common\", \"common\", \"common\", \"common\", \"communities\", \"communities\", \"communities\", \"communities\", \"communities\", \"communities\", \"community\", \"community\", \"community\", \"community\", \"community\", \"community\", \"companies\", \"companies\", \"concluded\", \"conflicts\", \"congress\", \"congress\", \"congress\", \"congress\", \"congress\", \"congress\", \"congress\", \"congress\", \"connect\", \"connected\", \"conscience\", \"conservation\", \"conservation\", \"continue\", \"continue\", \"continue\", \"continue\", \"continue\", \"continue\", \"continue\", \"continue\", \"convene\", \"countries\", \"countries\", \"countries\", \"countries\", \"countries\", \"countries\", \"country\", \"country\", \"country\", \"country\", \"country\", \"country\", \"country\", \"country\", \"covenant\", \"cover\", \"cover\", \"coverage\", \"created\", \"created\", \"created\", \"created\", \"created\", \"creation\", \"creativity\", \"crime\", \"crime\", \"cut\", \"cut\", \"cut\", \"cut\", \"cuts\", \"cuts\", \"cutting\", \"cutting\", \"days\", \"days\", \"days\", \"days\", \"days\", \"days\", \"days\", \"days\", \"debt\", \"debt\", \"debt\", \"debt\", \"deduct\", \"deduction\", \"deeds\", \"defense\", \"defense\", \"defense\", \"defense\", \"defense\", \"deficit\", \"deficit\", \"deficits\", \"demanding\", \"demands\", \"democracy\", \"democracy\", \"democratic\", \"democratic\", \"democratic\", \"dependence\", \"dependency\", \"destiny\", \"destruction\", \"destruction\", \"destruction\", \"devastated\", \"develop\", \"develop\", \"develop\", \"developing\", \"developing\", \"developing\", \"development\", \"development\", \"development\", \"development\", \"development\", \"development\", \"difference\", \"differences\", \"differences\", \"disaster\", \"disasters\", \"discovery\", \"distinguished\", \"districts\", \"diverse\", \"diverse\", \"diverse\", \"divide\", \"doctor\", \"doctrine\", \"dole\", \"don\", \"don\", \"don\", \"don\", \"doors\", \"double\", \"drug\", \"drug\", \"drug\", \"drug\", \"drug\", \"drugs\", \"drugs\", \"drugs\", \"drugs\", \"dues\", \"east\", \"east\", \"east\", \"economic\", \"economic\", \"economic\", \"economic\", \"economic\", \"economy\", \"economy\", \"economy\", \"economy\", \"economy\", \"economy\", \"education\", \"education\", \"embrace\", \"emissions\", \"empower\", \"empowering\", \"empowerment\", \"enemy\", \"energy\", \"energy\", \"entertainment\", \"environment\", \"environment\", \"environment\", \"environment\", \"environment\", \"environment\", \"environmental\", \"environmental\", \"environmental\", \"environmental\", \"europe\", \"europe\", \"european\", \"everglades\", \"excellence\", \"families\", \"families\", \"families\", \"family\", \"family\", \"family\", \"farm\", \"farm\", \"farsighted\", \"fast\", \"federal\", \"federal\", \"federal\", \"federal\", \"federal\", \"federal\", \"feingold\", \"fellow\", \"fellow\", \"fellow\", \"fifth\", \"fight\", \"fight\", \"fight\", \"fight\", \"fight\", \"finally\", \"finally\", \"finally\", \"finally\", \"finally\", \"finally\", \"finance\", \"finance\", \"financial\", \"financial\", \"financial\", \"fine\", \"finest\", \"fire\", \"floods\", \"food\", \"food\", \"food\", \"forces\", \"forces\", \"forces\", \"forces\", \"forces\", \"forces\", \"foreign\", \"foreign\", \"foreign\", \"forge\", \"foster\", \"fought\", \"foundation\", \"foundation\", \"foundation\", \"founders\", \"free\", \"free\", \"free\", \"free\", \"free\", \"free\", \"freedom\", \"freedom\", \"frontiers\", \"frontiers\", \"fuel\", \"fuel\", \"fueled\", \"fund\", \"fund\", \"future\", \"future\", \"future\", \"future\", \"future\", \"future\", \"future\", \"future\", \"futures\", \"gangs\", \"gas\", \"gas\", \"gases\", \"gene\", \"global\", \"global\", \"global\", \"globalization\", \"god\", \"god\", \"going\", \"going\", \"going\", \"going\", \"going\", \"going\", \"good\", \"good\", \"good\", \"good\", \"good\", \"government\", \"government\", \"government\", \"government\", \"government\", \"government\", \"government\", \"governor\", \"governor\", \"governors\", \"governors\", \"governors\", \"grade\", \"graders\", \"grades\", \"graduate\", \"graduates\", \"grandchildren\", \"grant\", \"grant\", \"great\", \"great\", \"great\", \"great\", \"great\", \"great\", \"gross\", \"groups\", \"groups\", \"groups\", \"grow\", \"grow\", \"grow\", \"grow\", \"growth\", \"growth\", \"growth\", \"growth\", \"growth\", \"guests\", \"gulf\", \"gulf\", \"gulf\", \"gun\", \"gun\", \"haiti\", \"half\", \"half\", \"half\", \"handguns\", \"handicapped\", \"health\", \"health\", \"health\", \"heavens\", \"help\", \"help\", \"help\", \"help\", \"help\", \"help\", \"help\", \"help\", \"hemisphere\", \"hemisphere\", \"high\", \"high\", \"high\", \"high\", \"high\", \"high\", \"hillary\", \"hire\", \"hiring\", \"history\", \"history\", \"history\", \"history\", \"history\", \"history\", \"history\", \"hold\", \"hold\", \"hold\", \"honor\", \"honor\", \"honor\", \"hopes\", \"hour\", \"hour\", \"hour\", \"house\", \"house\", \"house\", \"house\", \"houses\", \"human\", \"human\", \"human\", \"human\", \"human\", \"humanities\", \"humanities\", \"hunt\", \"ideals\", \"illegal\", \"illusion\", \"imagine\", \"immediately\", \"immigrants\", \"immigration\", \"impact\", \"important\", \"important\", \"important\", \"important\", \"important\", \"important\", \"important\", \"income\", \"income\", \"income\", \"increase\", \"increase\", \"increase\", \"increase\", \"increase\", \"increased\", \"increased\", \"increased\", \"increased\", \"industry\", \"industry\", \"inflation\", \"information\", \"information\", \"information\", \"information\", \"initiated\", \"inner\", \"inner\", \"insurance\", \"international\", \"international\", \"international\", \"international\", \"international\", \"international\", \"invasion\", \"investments\", \"investments\", \"iran\", \"iran\", \"iraq\", \"iraq\", \"iras\", \"iras\", \"ireland\", \"issue\", \"issue\", \"issue\", \"issue\", \"issue\", \"issue\", \"item\", \"jack\", \"job\", \"job\", \"job\", \"jobs\", \"jobs\", \"jobs\", \"jobs\", \"jobs\", \"justice\", \"justice\", \"justice\", \"justice\", \"keeps\", \"kill\", \"know\", \"know\", \"know\", \"know\", \"know\", \"know\", \"know\", \"know\", \"kristen\", \"labor\", \"lands\", \"lands\", \"lands\", \"latin\", \"learn\", \"learned\", \"learning\", \"leave\", \"leave\", \"leave\", \"legislation\", \"legislation\", \"legislation\", \"legislation\", \"legislation\", \"let\", \"let\", \"let\", \"let\", \"let\", \"let\", \"liberty\", \"liberty\", \"liberty\", \"libraries\", \"like\", \"like\", \"like\", \"like\", \"like\", \"like\", \"like\", \"like\", \"line\", \"line\", \"line\", \"line\", \"line\", \"lived\", \"lobby\", \"lobbyists\", \"lowest\", \"lucas\", \"major\", \"major\", \"major\", \"major\", \"major\", \"major\", \"maritime\", \"marketing\", \"markets\", \"markets\", \"markets\", \"markets\", \"math\", \"mccain\", \"measures\", \"measures\", \"measures\", \"medicare\", \"medicare\", \"medicine\", \"memory\", \"men\", \"men\", \"men\", \"men\", \"men\", \"middle\", \"middle\", \"middle\", \"military\", \"military\", \"military\", \"military\", \"million\", \"million\", \"million\", \"million\", \"minimum\", \"minimum\", \"minimum\", \"missile\", \"missiles\", \"mistake\", \"mothers\", \"nation\", \"nation\", \"nation\", \"nation\", \"nation\", \"nation\", \"national\", \"national\", \"national\", \"national\", \"national\", \"national\", \"national\", \"national\", \"national\", \"nations\", \"nations\", \"nations\", \"nations\", \"nationwide\", \"native\", \"nato\", \"nato\", \"nearly\", \"nearly\", \"nearly\", \"nearly\", \"need\", \"need\", \"need\", \"need\", \"need\", \"need\", \"needs\", \"needs\", \"needs\", \"needs\", \"needs\", \"needs\", \"needs\", \"neighborhoods\", \"neill\", \"new\", \"new\", \"new\", \"new\", \"new\", \"new\", \"new\", \"new\", \"new\", \"northern\", \"nuclear\", \"nuclear\", \"nuclear\", \"number\", \"number\", \"number\", \"number\", \"nutrition\", \"officers\", \"oil\", \"oil\", \"oil\", \"open\", \"open\", \"open\", \"open\", \"open\", \"open\", \"ought\", \"outlaw\", \"overseas\", \"package\", \"pages\", \"pakistan\", \"parents\", \"parents\", \"partisanship\", \"partners\", \"partners\", \"partners\", \"partners\", \"partnerships\", \"parts\", \"parts\", \"party\", \"party\", \"party\", \"pass\", \"pass\", \"pass\", \"pass\", \"past\", \"past\", \"past\", \"past\", \"past\", \"past\", \"past\", \"past\", \"payments\", \"peace\", \"peace\", \"peace\", \"peace\", \"pell\", \"people\", \"people\", \"people\", \"people\", \"people\", \"people\", \"people\", \"percent\", \"percent\", \"percent\", \"percent\", \"perfect\", \"persian\", \"pledge\", \"pledge\", \"pledge\", \"pledge\", \"pointed\", \"poland\", \"poland\", \"police\", \"policing\", \"policy\", \"policy\", \"policy\", \"policy\", \"policy\", \"politics\", \"polluters\", \"possibilities\", \"possibility\", \"pregnancy\", \"president\", \"president\", \"president\", \"president\", \"president\", \"president\", \"president\", \"produced\", \"product\", \"production\", \"program\", \"program\", \"program\", \"program\", \"program\", \"programs\", \"programs\", \"programs\", \"programs\", \"programs\", \"programs\", \"proposals\", \"proposals\", \"proposals\", \"proposed\", \"proposed\", \"proposed\", \"proposed\", \"proposed\", \"proposed\", \"proposed\", \"prosperity\", \"prosperity\", \"prosperous\", \"protect\", \"protect\", \"protect\", \"protect\", \"protect\", \"protect\", \"provisions\", \"public\", \"public\", \"public\", \"public\", \"public\", \"public\", \"public\", \"punish\", \"punishment\", \"quick\", \"race\", \"race\", \"radio\", \"rates\", \"rates\", \"rates\", \"rates\", \"ratification\", \"read\", \"read\", \"read\", \"reading\", \"ready\", \"ready\", \"ready\", \"ready\", \"recession\", \"recession\", \"recession\", \"reconciliation\", \"record\", \"record\", \"record\", \"reduce\", \"reduce\", \"reduce\", \"reduce\", \"reduce\", \"reform\", \"reform\", \"reform\", \"reform\", \"reform\", \"regulation\", \"regulations\", \"regulations\", \"regulations\", \"regulatory\", \"relations\", \"relations\", \"relations\", \"remarkable\", \"representatives\", \"republican\", \"republican\", \"require\", \"require\", \"require\", \"require\", \"research\", \"research\", \"research\", \"research\", \"research\", \"resources\", \"resources\", \"resources\", \"resources\", \"responsibility\", \"responsibility\", \"responsibility\", \"responsibility\", \"responsibility\", \"retirement\", \"retirement\", \"revitalize\", \"revolution\", \"revolution\", \"revolution\", \"revolution\", \"rewards\", \"richard\", \"rid\", \"rid\", \"right\", \"right\", \"right\", \"right\", \"right\", \"right\", \"root\", \"row\", \"rules\", \"rural\", \"rural\", \"safeguard\", \"safer\", \"safer\", \"safer\", \"safest\", \"safety\", \"safety\", \"safety\", \"safety\", \"said\", \"said\", \"said\", \"said\", \"said\", \"salt\", \"save\", \"save\", \"save\", \"save\", \"scholarship\", \"scholarships\", \"school\", \"school\", \"school\", \"schools\", \"schools\", \"science\", \"science\", \"science\", \"science\", \"scientific\", \"scientific\", \"scientists\", \"scores\", \"search\", \"secure\", \"secure\", \"secure\", \"security\", \"security\", \"security\", \"security\", \"security\", \"security\", \"senate\", \"senate\", \"senate\", \"senator\", \"senior\", \"senior\", \"sensible\", \"sets\", \"shape\", \"short\", \"short\", \"short\", \"shouldn\", \"shouldn\", \"shrink\", \"shut\", \"shut\", \"shut\", \"shut\", \"sides\", \"sides\", \"simply\", \"simply\", \"simply\", \"smaller\", \"smaller\", \"smallest\", \"smarter\", \"social\", \"social\", \"social\", \"social\", \"social\", \"social\", \"solar\", \"southwest\", \"soviet\", \"space\", \"speak\", \"speak\", \"speaker\", \"speaker\", \"speaker\", \"spending\", \"spending\", \"spending\", \"spur\", \"standards\", \"standards\", \"star\", \"state\", \"state\", \"state\", \"state\", \"state\", \"state\", \"state\", \"states\", \"states\", \"states\", \"states\", \"states\", \"states\", \"states\", \"states\", \"steel\", \"stood\", \"stop\", \"stop\", \"stop\", \"stop\", \"straight\", \"strategic\", \"strategic\", \"strategic\", \"streets\", \"streets\", \"strong\", \"strong\", \"strong\", \"strong\", \"strong\", \"strong\", \"strong\", \"strong\", \"stronger\", \"stronger\", \"stronger\", \"student\", \"students\", \"students\", \"submit\", \"submit\", \"submit\", \"sun\", \"supplies\", \"supplies\", \"support\", \"support\", \"support\", \"support\", \"support\", \"support\", \"support\", \"support\", \"support\", \"surplus\", \"surplus\", \"surplus\", \"system\", \"system\", \"system\", \"system\", \"system\", \"system\", \"system\", \"system\", \"talents\", \"taught\", \"taught\", \"tax\", \"tax\", \"tax\", \"taxpayer\", \"teach\", \"teach\", \"teachers\", \"teachers\", \"teaching\", \"team\", \"tear\", \"technology\", \"technology\", \"technology\", \"technology\", \"technology\", \"teen\", \"telecommunications\", \"television\", \"television\", \"television\", \"terrorists\", \"terrorists\", \"texas\", \"thank\", \"thank\", \"thank\", \"thing\", \"thing\", \"think\", \"think\", \"think\", \"think\", \"think\", \"thomas\", \"threat\", \"threat\", \"threat\", \"threat\", \"threat\", \"ties\", \"time\", \"time\", \"time\", \"time\", \"time\", \"time\", \"time\", \"time\", \"time\", \"time\", \"tobacco\", \"today\", \"today\", \"today\", \"today\", \"today\", \"today\", \"tonight\", \"tonight\", \"tonight\", \"tonight\", \"tonight\", \"took\", \"took\", \"took\", \"took\", \"took\", \"took\", \"town\", \"toxic\", \"trade\", \"trade\", \"trade\", \"trade\", \"trade\", \"trade\", \"transportation\", \"transportation\", \"treaty\", \"treaty\", \"treaty\", \"troubled\", \"truman\", \"tuition\", \"typical\", \"uncertainty\", \"uncertainty\", \"unemployed\", \"unemployment\", \"unemployment\", \"unfinished\", \"union\", \"union\", \"united\", \"united\", \"united\", \"united\", \"united\", \"united\", \"usa\", \"usual\", \"veto\", \"vision\", \"vote\", \"vote\", \"voted\", \"vouchers\", \"wage\", \"wage\", \"wage\", \"wait\", \"want\", \"want\", \"want\", \"want\", \"want\", \"want\", \"war\", \"war\", \"war\", \"war\", \"war\", \"war\", \"warheads\", \"warming\", \"watching\", \"watching\", \"water\", \"water\", \"waves\", \"way\", \"way\", \"way\", \"way\", \"way\", \"way\", \"way\", \"weapon\", \"weapons\", \"weapons\", \"weapons\", \"welfare\", \"welfare\", \"western\", \"western\", \"western\", \"white\", \"white\", \"white\", \"white\", \"win\", \"win\", \"wisely\", \"women\", \"women\", \"women\", \"women\", \"work\", \"work\", \"work\", \"work\", \"work\", \"work\", \"work\", \"work\", \"workers\", \"workers\", \"workers\", \"working\", \"working\", \"working\", \"working\", \"working\", \"working\", \"world\", \"world\", \"world\", \"world\", \"world\", \"world\", \"world\", \"world\", \"world\", \"wouldn\", \"write\", \"year\", \"year\", \"year\", \"year\", \"year\", \"year\", \"year\", \"year\", \"year\", \"year\", \"years\", \"years\", \"years\", \"years\", \"years\", \"years\", \"years\", \"years\", \"years\", \"youngest\", \"zarfos\", \"zones\"]}, \"R\": 30, \"lambda.step\": 0.01, \"plot.opts\": {\"xlab\": \"PC1\", \"ylab\": \"PC2\"}, \"topic.order\": [5, 8, 10, 6, 2, 7, 9, 4, 1, 3]};\n",
       "\n",
       "function LDAvis_load_lib(url, callback){\n",
       "  var s = document.createElement('script');\n",
       "  s.src = url;\n",
       "  s.async = true;\n",
       "  s.onreadystatechange = s.onload = callback;\n",
       "  s.onerror = function(){console.warn(\"failed to load library \" + url);};\n",
       "  document.getElementsByTagName(\"head\")[0].appendChild(s);\n",
       "}\n",
       "\n",
       "if(typeof(LDAvis) !== \"undefined\"){\n",
       "   // already loaded: just create the visualization\n",
       "   !function(LDAvis){\n",
       "       new LDAvis(\"#\" + \"ldavis_el28843140079878287696675640321\", ldavis_el28843140079878287696675640321_data);\n",
       "   }(LDAvis);\n",
       "}else if(typeof define === \"function\" && define.amd){\n",
       "   // require.js is available: use it to load d3/LDAvis\n",
       "   require.config({paths: {d3: \"https://cdnjs.cloudflare.com/ajax/libs/d3/3.5.5/d3.min\"}});\n",
       "   require([\"d3\"], function(d3){\n",
       "      window.d3 = d3;\n",
       "      LDAvis_load_lib(\"https://cdn.rawgit.com/bmabey/pyLDAvis/files/ldavis.v1.0.0.js\", function(){\n",
       "        new LDAvis(\"#\" + \"ldavis_el28843140079878287696675640321\", ldavis_el28843140079878287696675640321_data);\n",
       "      });\n",
       "    });\n",
       "}else{\n",
       "    // require.js not available: dynamically load d3 & LDAvis\n",
       "    LDAvis_load_lib(\"https://cdnjs.cloudflare.com/ajax/libs/d3/3.5.5/d3.min.js\", function(){\n",
       "         LDAvis_load_lib(\"https://cdn.rawgit.com/bmabey/pyLDAvis/files/ldavis.v1.0.0.js\", function(){\n",
       "                 new LDAvis(\"#\" + \"ldavis_el28843140079878287696675640321\", ldavis_el28843140079878287696675640321_data);\n",
       "            })\n",
       "         });\n",
       "}\n",
       "</script>"
      ],
      "text/plain": [
       "PreparedData(topic_coordinates=              x         y  topics  cluster       Freq\n",
       "topic                                                \n",
       "4      0.092789 -0.034443       1        1  18.432524\n",
       "7      0.160679  0.162137       2        1  15.115067\n",
       "9     -0.100922  0.214320       3        1  13.556396\n",
       "5     -0.171765  0.070792       4        1  13.085949\n",
       "1      0.165325 -0.005824       5        1  10.751929\n",
       "6     -0.119110 -0.165557       6        1   7.548975\n",
       "8     -0.131428 -0.012430       7        1   6.217371\n",
       "3     -0.016400 -0.045691       8        1   6.009960\n",
       "0      0.009260 -0.100134       9        1   4.704926\n",
       "2      0.111572 -0.083169      10        1   4.576902, topic_info=     Category        Freq      Term       Total  loglift  logprob\n",
       "140   Default  590.000000   america  590.000000  30.0000  30.0000\n",
       "227   Default  233.000000    budget  233.000000  29.0000  29.0000\n",
       "1046  Default  284.000000  children  284.000000  28.0000  28.0000\n",
       "1362  Default  164.000000      care  164.000000  27.0000  27.0000\n",
       "25    Default  465.000000     world  465.000000  26.0000  26.0000\n",
       "...       ...         ...       ...         ...      ...      ...\n",
       "2021  Topic10   10.933043      pass   78.645538   1.1110  -5.7269\n",
       "768   Topic10   10.785622   history   82.032600   1.0552  -5.7404\n",
       "405   Topic10   11.106299   country  197.777603   0.2045  -5.7111\n",
       "53    Topic10   10.746930      good  144.022766   0.4888  -5.7440\n",
       "86    Topic10   10.980527      year  456.693970  -0.6437  -5.7225\n",
       "\n",
       "[707 rows x 6 columns], token_table=      Topic      Freq         Term\n",
       "term                              \n",
       "1439      1  0.063530        abuse\n",
       "1439      3  0.190591        abuse\n",
       "1439     10  0.635302        abuse\n",
       "1976      1  0.945032  accountable\n",
       "3723     10  0.902246   achievable\n",
       "...     ...       ...          ...\n",
       "26        8  0.102896        years\n",
       "26        9  0.013136        years\n",
       "1004     10  0.851060     youngest\n",
       "7897      7  0.904612       zarfos\n",
       "5329      2  0.895010        zones\n",
       "\n",
       "[1517 rows x 3 columns], R=30, lambda_step=0.01, plot_opts={'xlab': 'PC1', 'ylab': 'PC2'}, topic_order=[5, 8, 10, 6, 2, 7, 9, 4, 1, 3])"
      ]
     },
     "execution_count": 25,
     "metadata": {},
     "output_type": "execute_result"
    }
   ],
   "source": [
    "# Visualize the topics\n",
    "import pyLDAvis\n",
    "import pyLDAvis.gensim\n",
    "\n",
    "\n",
    "pyLDAvis.enable_notebook()\n",
    "vis = pyLDAvis.gensim.prepare(model_v2, corpus,id2word)\n",
    "vis"
   ]
  },
  {
   "cell_type": "markdown",
   "metadata": {},
   "source": [
    "How do you interpret your plot? What would be a reasonable choice for the number of passes? Retrain your LDA model with that number and re-inspect the topics it finds. Do you consider the new topics to be &lsquo;better&rsquo; than the ones that you got from the 1-pass model in Problem&nbsp;5?"
   ]
  },
  {
   "cell_type": "markdown",
   "metadata": {},
   "source": [
    "*TODO: Insert your discussion of these questions here*"
   ]
  },
  {
   "cell_type": "markdown",
   "metadata": {},
   "source": [
    "<div class=\"alert alert-info\">\n",
    "    Please read the section ‘General information’ on the ‘Labs’ page of the course website before submitting this notebook!\n",
    "</div>"
   ]
  }
 ],
 "metadata": {
  "kernelspec": {
   "display_name": "Python 3",
   "language": "python",
   "name": "python3"
  },
  "language_info": {
   "codemirror_mode": {
    "name": "ipython",
    "version": 3
   },
   "file_extension": ".py",
   "mimetype": "text/x-python",
   "name": "python",
   "nbconvert_exporter": "python",
   "pygments_lexer": "ipython3",
   "version": "3.7.5"
  }
 },
 "nbformat": 4,
 "nbformat_minor": 2
}
